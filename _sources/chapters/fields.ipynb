{
 "cells": [
  {
   "cell_type": "markdown",
   "id": "72fb88c2",
   "metadata": {},
   "source": [
    "# Fields\n",
    "\n",
    "```{warning}\n",
    "Work in progress.\n",
    "```\n",
    "\n",
    "Fields are in some languages known as \"instance variables\".\n",
    "\n",
    "%- Public / private / protected.\n",
    "%- Static / instance.\n",
    "%- Also works on struct.\n",
    "%- Only use private / protected fields.\n",
    "\n",
    "%- [Initialized to default value](https://docs.microsoft.com/en-us/dotnet/csharp/language-reference/language-specification/variables)\n",
    "\n",
    "%## Definition\n",
    "\n",
    "%We're using the keyword `public` but it will be defined in the chapter on [basic access modifiers](basic-access-modifiers).\n",
    "\n",
    "\n",
    "\n",
    "## Examples\n",
    "\n",
    "\n",
    "### Robber's cipher\n",
    "\n",
    "Let's start by creating a class for the [Robber's cipher](robbers-cipher) whose instances will hold the vowel that we want to use in a [Caesar cipher](caesar-cipher).\n",
    "Eventually, we'll also incorporate instance methods that operate on this encapsulated vowel but let's take it one step at a time, eh.\n",
    "\n",
    "Let's call the class `RobbersCipherVowel` and let's call the field `Vowel`.\n",
    "We'll make the field `public` so that anyone who has access to an object of type `RobbersCipherVowel`."
   ]
  },
  {
   "cell_type": "code",
   "execution_count": 1,
   "id": "a3b746ac",
   "metadata": {},
   "outputs": [
    {
     "data": {
      "text/html": [
       "\r\n",
       "<div>\r\n",
       "    <div id='dotnet-interactive-this-cell-2481.Microsoft.DotNet.Interactive.Http.HttpPort' style='display: none'>\r\n",
       "        The below script needs to be able to find the current output cell; this is an easy method to get it.\r\n",
       "    </div>\r\n",
       "    <script type='text/javascript'>\r\n",
       "async function probeAddresses(probingAddresses) {\r\n",
       "    function timeout(ms, promise) {\r\n",
       "        return new Promise(function (resolve, reject) {\r\n",
       "            setTimeout(function () {\r\n",
       "                reject(new Error('timeout'))\r\n",
       "            }, ms)\r\n",
       "            promise.then(resolve, reject)\r\n",
       "        })\r\n",
       "    }\r\n",
       "\r\n",
       "    if (Array.isArray(probingAddresses)) {\r\n",
       "        for (let i = 0; i < probingAddresses.length; i++) {\r\n",
       "\r\n",
       "            let rootUrl = probingAddresses[i];\r\n",
       "\r\n",
       "            if (!rootUrl.endsWith('/')) {\r\n",
       "                rootUrl = `${rootUrl}/`;\r\n",
       "            }\r\n",
       "\r\n",
       "            try {\r\n",
       "                let response = await timeout(1000, fetch(`${rootUrl}discovery`, {\r\n",
       "                    method: 'POST',\r\n",
       "                    cache: 'no-cache',\r\n",
       "                    mode: 'cors',\r\n",
       "                    timeout: 1000,\r\n",
       "                    headers: {\r\n",
       "                        'Content-Type': 'text/plain'\r\n",
       "                    },\r\n",
       "                    body: probingAddresses[i]\r\n",
       "                }));\r\n",
       "\r\n",
       "                if (response.status == 200) {\r\n",
       "                    return rootUrl;\r\n",
       "                }\r\n",
       "            }\r\n",
       "            catch (e) { }\r\n",
       "        }\r\n",
       "    }\r\n",
       "}\r\n",
       "\r\n",
       "function loadDotnetInteractiveApi() {\r\n",
       "    probeAddresses([\"http://10.1.0.171:1024/\", \"http://127.0.0.1:1024/\"])\r\n",
       "        .then((root) => {\r\n",
       "        // use probing to find host url and api resources\r\n",
       "        // load interactive helpers and language services\r\n",
       "        let dotnetInteractiveRequire = require.config({\r\n",
       "        context: '2481.Microsoft.DotNet.Interactive.Http.HttpPort',\r\n",
       "                paths:\r\n",
       "            {\r\n",
       "                'dotnet-interactive': `${root}resources`\r\n",
       "                }\r\n",
       "        }) || require;\r\n",
       "\r\n",
       "            window.dotnetInteractiveRequire = dotnetInteractiveRequire;\r\n",
       "\r\n",
       "            window.configureRequireFromExtension = function(extensionName, extensionCacheBuster) {\r\n",
       "                let paths = {};\r\n",
       "                paths[extensionName] = `${root}extensions/${extensionName}/resources/`;\r\n",
       "                \r\n",
       "                let internalRequire = require.config({\r\n",
       "                    context: extensionCacheBuster,\r\n",
       "                    paths: paths,\r\n",
       "                    urlArgs: `cacheBuster=${extensionCacheBuster}`\r\n",
       "                    }) || require;\r\n",
       "\r\n",
       "                return internalRequire\r\n",
       "            };\r\n",
       "        \r\n",
       "            dotnetInteractiveRequire([\r\n",
       "                    'dotnet-interactive/dotnet-interactive'\r\n",
       "                ],\r\n",
       "                function (dotnet) {\r\n",
       "                    dotnet.init(window);\r\n",
       "                },\r\n",
       "                function (error) {\r\n",
       "                    console.log(error);\r\n",
       "                }\r\n",
       "            );\r\n",
       "        })\r\n",
       "        .catch(error => {console.log(error);});\r\n",
       "    }\r\n",
       "\r\n",
       "// ensure `require` is available globally\r\n",
       "if ((typeof(require) !==  typeof(Function)) || (typeof(require.config) !== typeof(Function))) {\r\n",
       "    let require_script = document.createElement('script');\r\n",
       "    require_script.setAttribute('src', 'https://cdnjs.cloudflare.com/ajax/libs/require.js/2.3.6/require.min.js');\r\n",
       "    require_script.setAttribute('type', 'text/javascript');\r\n",
       "    \r\n",
       "    \r\n",
       "    require_script.onload = function() {\r\n",
       "        loadDotnetInteractiveApi();\r\n",
       "    };\r\n",
       "\r\n",
       "    document.getElementsByTagName('head')[0].appendChild(require_script);\r\n",
       "}\r\n",
       "else {\r\n",
       "    loadDotnetInteractiveApi();\r\n",
       "}\r\n",
       "\r\n",
       "    </script>\r\n",
       "</div>"
      ]
     },
     "metadata": {},
     "output_type": "display_data"
    }
   ],
   "source": [
    "class RobbersCipherVowel\n",
    "{\n",
    "  public char Vowel = 'o';\n",
    "}"
   ]
  },
  {
   "cell_type": "markdown",
   "id": "f4fbe7e1",
   "metadata": {},
   "source": [
    "We can now instantiate ciphers."
   ]
  },
  {
   "cell_type": "code",
   "execution_count": 2,
   "id": "675cffe9",
   "metadata": {},
   "outputs": [],
   "source": [
    "RobbersCipherVowel v1 = new RobbersCipherVowel();\n",
    "RobbersCipherVowel v2 = new RobbersCipherVowel();"
   ]
  },
  {
   "cell_type": "markdown",
   "id": "28238ec6",
   "metadata": {},
   "source": [
    "And assign them different vowels."
   ]
  },
  {
   "cell_type": "code",
   "execution_count": 3,
   "id": "b6073ddf",
   "metadata": {},
   "outputs": [],
   "source": [
    "v1.Vowel = 'a';\n",
    "v2.Vowel = 'B';"
   ]
  },
  {
   "cell_type": "markdown",
   "id": "01f572a7",
   "metadata": {},
   "source": [
    "```{danger}\n",
    "Wait a minute!\n",
    "`B` is not a vowel.\n",
    "We'll have a look at this problem in the chapter on [constructors](constructors).\n",
    "```\n",
    "\n",
    "Of course we could then rewrite the encode methods that we wrote in the chapter on [overloading](overloading:examples:robbers) so that they take a parameter of type `RobbersCipherVowel` instead of simply a `char`."
   ]
  },
  {
   "cell_type": "code",
   "execution_count": 4,
   "id": "c75b67f3",
   "metadata": {},
   "outputs": [
    {
     "name": "stderr",
     "output_type": "stream",
     "text": [
      "\n",
      "(10,9): error CS1585: Member modifier 'static' must precede the member type and name\n",
      "\n"
     ]
    },
    {
     "ename": "Error",
     "evalue": "compilation error",
     "output_type": "error",
     "traceback": []
    }
   ],
   "source": [
    "static class RobbersCipher\n",
    "{\n",
    "  public static string Encode (char input, RobbersCipherVowel vowel)\n",
    "    => input switch {\n",
    "      'B' or 'b' or 'C' or 'c' or 'D' or 'd' or 'F' or 'f' or 'G' or 'g' or 'H' or 'h' or 'J' or 'j' or 'K' or 'k' or 'L' or 'l' or 'M' or 'm' or 'N' or 'n' or 'P' or 'p' or 'Q' or 'q' or 'R' or 'r' or 'S' or 's' or 'T' or 't' or 'V' or 'v' or 'W' or 'w' or 'X' or 'x' or 'Y' or 'y' or 'Z' or 'z'\n",
    "      => $\"{input}{vowel.Vowel}{input}\",\n",
    "    _ => $\"{input}\"\n",
    "  };\n",
    "\n",
    "  publc static string Encode (string input, RobbersCipherVowel vowel)\n",
    "  {\n",
    "    string output = \"\";\n",
    "    foreach (char letter in input)\n",
    "      output += Encode (letter, vowel);\n",
    "    return output;\n",
    "  }\n",
    "}"
   ]
  },
  {
   "cell_type": "markdown",
   "id": "39776837",
   "metadata": {},
   "source": [
    "The static encode methods still work but now we have to pass them instances of `RobbersCipherVowel` in order to run them."
   ]
  },
  {
   "cell_type": "code",
   "execution_count": null,
   "id": "c998666f",
   "metadata": {},
   "outputs": [],
   "source": [
    "Console.WriteLine( RobbersCipher.Encode( \"Hello\", v1) );"
   ]
  },
  {
   "cell_type": "code",
   "execution_count": null,
   "id": "78749dbe",
   "metadata": {},
   "outputs": [],
   "source": [
    "Console.WriteLine( RobbersCipher.Encode( \"Hello\", v2) );"
   ]
  },
  {
   "cell_type": "markdown",
   "id": "40f7412e",
   "metadata": {},
   "source": [
    "Seems to work.\n",
    "However, this is **not** the object oriented way.\n",
    "\n",
    "```{important}\n",
    "In object oriented programming we mix methods and data. We don't simply store data in object and then pass these objects to methods so that they can extract the data.\n",
    "```\n",
    "\n",
    "In our example above we're not solving problems in an object oriented fashion.\n",
    "We're simply using objects as containers of data.\n",
    "To really utilize the ideas of object oriented programming we need to move forward and learn about [instance methods](instance-methods).\n",
    "\n",
    "\n",
    "## Exercises\n",
    "\n",
    "```{exercise}\n",
    "What is the difference between an instance field and a static field?\n",
    "```\n",
    "\n",
    "\n",
    "```{exercise-start}\n",
    "```\n",
    "Write a class called `Player` that exposes two `public` instance fields called `X` and `Y` of type `int`.\n",
    "The two fields should be initialized to the value `0`.\n",
    "With the class in place you should be able to run the following code and get the same output."
   ]
  },
  {
   "cell_type": "code",
   "execution_count": null,
   "id": "70c10839",
   "metadata": {
    "tags": [
     "remove-input"
    ]
   },
   "outputs": [],
   "source": [
    "class Player\n",
    "{\n",
    "  public int X = 0;\n",
    "  public int Y = 0;\n",
    "}"
   ]
  },
  {
   "cell_type": "code",
   "execution_count": null,
   "id": "9d9a786b",
   "metadata": {},
   "outputs": [],
   "source": [
    "Player p1 = new Player();\n",
    "Player p2 = new Player();\n",
    "\n",
    "p1.X += 2;\n",
    "p1.Y = 3;\n",
    "\n",
    "p2.X = -4;\n",
    "p2.Y += 3;\n",
    "\n",
    "Console.WriteLine($\"({p1.X},{p1.Y})  ({p2.X},{p2.Y})\");"
   ]
  },
  {
   "cell_type": "markdown",
   "id": "26b2548a",
   "metadata": {},
   "source": [
    "```{exercise-end}\n",
    "```"
   ]
  }
 ],
 "metadata": {
  "jupytext": {
   "formats": "md:myst",
   "text_representation": {
    "extension": ".md",
    "format_name": "myst"
   }
  },
  "kernelspec": {
   "display_name": "csharp",
   "language": ".net-csharp",
   "name": ".net-csharp"
  },
  "language_info": {
   "file_extension": ".cs",
   "mimetype": "text/x-csharp",
   "name": "C#",
   "pygments_lexer": "csharp",
   "version": "10.0"
  },
  "source_map": [
   11,
   45,
   50,
   54,
   57,
   61,
   64,
   74,
   92,
   96,
   100,
   102,
   129,
   138,
   149
  ]
 },
 "nbformat": 4,
 "nbformat_minor": 5
}