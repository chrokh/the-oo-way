{
 "cells": [
  {
   "cell_type": "markdown",
   "id": "df968f6c",
   "metadata": {},
   "source": [
    "# Overloading\n",
    "\n",
    "```{warning}\n",
    "Work in progress.\n",
    "```\n",
    "\n",
    "%- The many overloads of `Console.WriteLine`.\n",
    "%  - We've touched upon this a small bit. In Data Types if nowhere else.\n",
    "%- Overload methods from chapter on static methods. `Substitute` and `CaesarEncode`\n",
    "% As we will see in later chapters static methods, instance methods, and constructors can all be overloaded.\n",
    "\n",
    "\n",
    "## Examples\n",
    "\n",
    "(overloading:examples:robbers)=\n",
    "### Robber's cipher\n",
    "\n",
    "Remember how, in the chapter on [static methods](static-methods-example-robbers), we said that we were going to use overloading to simplify the names of the static methods of the static class `RobbersCipher`?\n",
    "Well, the time has come to do just that.\n",
    "\n",
    "As we've seen in this chapter as long as the method signatures (excluding the return type) are different we're free to overload away.\n",
    "Meaning that we can simply just rename the two methods `EncodeChar` and `EncodeString` to the same thing.\n",
    "Let's just rename them to, `Encode`."
   ]
  },
  {
   "cell_type": "code",
   "execution_count": 1,
   "id": "aa06794a",
   "metadata": {},
   "outputs": [
    {
     "data": {
      "text/html": [
       "\r\n",
       "<div>\r\n",
       "    <div id='dotnet-interactive-this-cell-3978.Microsoft.DotNet.Interactive.Http.HttpPort' style='display: none'>\r\n",
       "        The below script needs to be able to find the current output cell; this is an easy method to get it.\r\n",
       "    </div>\r\n",
       "    <script type='text/javascript'>\r\n",
       "async function probeAddresses(probingAddresses) {\r\n",
       "    function timeout(ms, promise) {\r\n",
       "        return new Promise(function (resolve, reject) {\r\n",
       "            setTimeout(function () {\r\n",
       "                reject(new Error('timeout'))\r\n",
       "            }, ms)\r\n",
       "            promise.then(resolve, reject)\r\n",
       "        })\r\n",
       "    }\r\n",
       "\r\n",
       "    if (Array.isArray(probingAddresses)) {\r\n",
       "        for (let i = 0; i < probingAddresses.length; i++) {\r\n",
       "\r\n",
       "            let rootUrl = probingAddresses[i];\r\n",
       "\r\n",
       "            if (!rootUrl.endsWith('/')) {\r\n",
       "                rootUrl = `${rootUrl}/`;\r\n",
       "            }\r\n",
       "\r\n",
       "            try {\r\n",
       "                let response = await timeout(1000, fetch(`${rootUrl}discovery`, {\r\n",
       "                    method: 'POST',\r\n",
       "                    cache: 'no-cache',\r\n",
       "                    mode: 'cors',\r\n",
       "                    timeout: 1000,\r\n",
       "                    headers: {\r\n",
       "                        'Content-Type': 'text/plain'\r\n",
       "                    },\r\n",
       "                    body: probingAddresses[i]\r\n",
       "                }));\r\n",
       "\r\n",
       "                if (response.status == 200) {\r\n",
       "                    return rootUrl;\r\n",
       "                }\r\n",
       "            }\r\n",
       "            catch (e) { }\r\n",
       "        }\r\n",
       "    }\r\n",
       "}\r\n",
       "\r\n",
       "function loadDotnetInteractiveApi() {\r\n",
       "    probeAddresses([\"http://10.1.1.220:1024/\", \"http://127.0.0.1:1024/\"])\r\n",
       "        .then((root) => {\r\n",
       "        // use probing to find host url and api resources\r\n",
       "        // load interactive helpers and language services\r\n",
       "        let dotnetInteractiveRequire = require.config({\r\n",
       "        context: '3978.Microsoft.DotNet.Interactive.Http.HttpPort',\r\n",
       "                paths:\r\n",
       "            {\r\n",
       "                'dotnet-interactive': `${root}resources`\r\n",
       "                }\r\n",
       "        }) || require;\r\n",
       "\r\n",
       "            window.dotnetInteractiveRequire = dotnetInteractiveRequire;\r\n",
       "\r\n",
       "            window.configureRequireFromExtension = function(extensionName, extensionCacheBuster) {\r\n",
       "                let paths = {};\r\n",
       "                paths[extensionName] = `${root}extensions/${extensionName}/resources/`;\r\n",
       "                \r\n",
       "                let internalRequire = require.config({\r\n",
       "                    context: extensionCacheBuster,\r\n",
       "                    paths: paths,\r\n",
       "                    urlArgs: `cacheBuster=${extensionCacheBuster}`\r\n",
       "                    }) || require;\r\n",
       "\r\n",
       "                return internalRequire\r\n",
       "            };\r\n",
       "        \r\n",
       "            dotnetInteractiveRequire([\r\n",
       "                    'dotnet-interactive/dotnet-interactive'\r\n",
       "                ],\r\n",
       "                function (dotnet) {\r\n",
       "                    dotnet.init(window);\r\n",
       "                },\r\n",
       "                function (error) {\r\n",
       "                    console.log(error);\r\n",
       "                }\r\n",
       "            );\r\n",
       "        })\r\n",
       "        .catch(error => {console.log(error);});\r\n",
       "    }\r\n",
       "\r\n",
       "// ensure `require` is available globally\r\n",
       "if ((typeof(require) !==  typeof(Function)) || (typeof(require.config) !== typeof(Function))) {\r\n",
       "    let require_script = document.createElement('script');\r\n",
       "    require_script.setAttribute('src', 'https://cdnjs.cloudflare.com/ajax/libs/require.js/2.3.6/require.min.js');\r\n",
       "    require_script.setAttribute('type', 'text/javascript');\r\n",
       "    \r\n",
       "    \r\n",
       "    require_script.onload = function() {\r\n",
       "        loadDotnetInteractiveApi();\r\n",
       "    };\r\n",
       "\r\n",
       "    document.getElementsByTagName('head')[0].appendChild(require_script);\r\n",
       "}\r\n",
       "else {\r\n",
       "    loadDotnetInteractiveApi();\r\n",
       "}\r\n",
       "\r\n",
       "    </script>\r\n",
       "</div>"
      ]
     },
     "metadata": {},
     "output_type": "display_data"
    }
   ],
   "source": [
    "static class RobbersCipher\n",
    "{\n",
    "  public static string Encode (char input, char vowel)\n",
    "    => input switch {\n",
    "      'B' or 'b' or 'C' or 'c' or 'D' or 'd' or 'F' or 'f' or 'G' or 'g' or 'H' or 'h' or 'J' or 'j' or 'K' or 'k' or 'L' or 'l' or 'M' or 'm' or 'N' or 'n' or 'P' or 'p' or 'Q' or 'q' or 'R' or 'r' or 'S' or 's' or 'T' or 't' or 'V' or 'v' or 'W' or 'w' or 'X' or 'x' or 'Y' or 'y' or 'Z' or 'z'\n",
    "      => $\"{input}{vowel}{input}\",\n",
    "    _ => $\"{input}\"\n",
    "  };\n",
    "\n",
    "  public static string Encode (string input, char vowel)\n",
    "  {\n",
    "    string output = \"\";\n",
    "    foreach (char letter in input)\n",
    "      output += Encode (letter, vowel);\n",
    "    return output;\n",
    "  }\n",
    "}"
   ]
  },
  {
   "cell_type": "markdown",
   "id": "fbbff9ec",
   "metadata": {},
   "source": [
    "Do notice however how the implementation of the second `Encode` method, namely the one that takes input of type `string`, has to change.\n",
    "It used to call the method `EncodeChar` but since that method is now merely called `Encode` we have to change the call to that.\n",
    "\n",
    "\n",
    "## Exercises\n",
    "\n",
    "```{exercise}\n",
    "Can you overload a method by just varying the *return type*?\n",
    "Why or why not?\n",
    "```\n",
    "\n",
    "```{exercise}\n",
    "Can you overload a method by just varying a single *parameter name*?\n",
    "Why or why not?\n",
    "```\n",
    "\n",
    "```{exercise}\n",
    "Can you overload a method by just varying a single *parameter type*?\n",
    "Why or why not?\n",
    "```\n",
    "\n",
    "\n",
    "```{exercise-start}\n",
    ":label: ex:overloading-leet\n",
    "```\n",
    "Take your code from {numref}`ex:static-methods-leet` and rename the two static methods so that they are overloads of each other."
   ]
  },
  {
   "cell_type": "code",
   "execution_count": 2,
   "id": "4079b5c8",
   "metadata": {
    "tags": [
     "remove-input"
    ]
   },
   "outputs": [],
   "source": [
    "static class LeetCipher\n",
    "{\n",
    "  public static char Encode (char input)\n",
    "    => input switch {\n",
    "      'A' => '4', '4' => 'A',\n",
    "      'E' => '3', '3' => 'E',\n",
    "      'L' => '1', '1' => 'L',\n",
    "      'O' => '0', '0' => 'O',\n",
    "      'S' => '5', '5' => 'S',\n",
    "      'T' => '7', '7' => 'T',\n",
    "      _ => input\n",
    "    };\n",
    "\n",
    "  public static string Encode (string input)\n",
    "  {\n",
    "    string output = \"\";\n",
    "    foreach (char c in input)\n",
    "      output += Encode(c);\n",
    "    return output;\n",
    "  }\n",
    "}"
   ]
  },
  {
   "cell_type": "markdown",
   "id": "1b26db9e",
   "metadata": {},
   "source": [
    "When passing a `char` we se should get back a `char`:"
   ]
  },
  {
   "cell_type": "code",
   "execution_count": 3,
   "id": "1afbde65",
   "metadata": {},
   "outputs": [
    {
     "name": "stdout",
     "output_type": "stream",
     "text": [
      "3\n"
     ]
    }
   ],
   "source": [
    "char input = 'E';\n",
    "char output = LeetCipher.Encode(input);\n",
    "Console.WriteLine(output);"
   ]
  },
  {
   "cell_type": "markdown",
   "id": "4d9564d5",
   "metadata": {},
   "source": [
    "When passing a `string` we should get back a `string`:"
   ]
  },
  {
   "cell_type": "code",
   "execution_count": 4,
   "id": "ee7dd51f",
   "metadata": {},
   "outputs": [
    {
     "name": "stdout",
     "output_type": "stream",
     "text": [
      "1337\n"
     ]
    }
   ],
   "source": [
    "string input = \"LEET\";\n",
    "string output = LeetCipher.Encode(input);\n",
    "Console.WriteLine(output);"
   ]
  },
  {
   "cell_type": "markdown",
   "id": "d9e76713",
   "metadata": {},
   "source": [
    "```{exercise-end}\n",
    "```\n",
    "\n",
    "\n",
    "````{exercise}\n",
    ":label: ex:overloading-substitutions\n",
    "Replace all four static methods in the {numref}`ex:static-methods-substitutions` with four overloaded methods with the same name.\n",
    "\n",
    "```csharp\n",
    "static class SubstitutionCipher\n",
    "{\n",
    "  public static char Encode (char input, (char, char)[] substitutions) => // ...\n",
    "  public static string Encode (char input, (char, string)[] substitutions) => // ...\n",
    "  public static string Encode (string input, (char, char)[] substitutions) => // ...\n",
    "  public static string Encode (string input, (char, string)[] substitutions) => // ...\n",
    "}\n",
    "```\n",
    "\n",
    "Does this improve or impair the readability of that class?\n",
    "What's your opinion?\n",
    "There's no right answer.\n",
    "````"
   ]
  }
 ],
 "metadata": {
  "jupytext": {
   "formats": "md:myst",
   "text_representation": {
    "extension": ".md",
    "format_name": "myst"
   }
  },
  "kernelspec": {
   "display_name": "csharp",
   "language": ".net-csharp",
   "name": ".net-csharp"
  },
  "language_info": {
   "file_extension": ".cs",
   "mimetype": "text/x-csharp",
   "name": "C#",
   "pygments_lexer": "csharp",
   "version": "10.0"
  },
  "source_map": [
   11,
   37,
   55,
   84,
   107,
   111,
   115,
   119,
   123
  ]
 },
 "nbformat": 4,
 "nbformat_minor": 5
}