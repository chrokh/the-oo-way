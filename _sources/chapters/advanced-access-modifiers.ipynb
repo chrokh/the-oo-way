{
 "cells": [
  {
   "cell_type": "markdown",
   "id": "4ad8ae26",
   "metadata": {},
   "source": [
    "# Advanced access modifiers\n",
    "\n",
    "## Motivation\n",
    "\n",
    "When discussing the [basic access modifiers](basic-access-modifiers) `public` and `private` we mentioned that many object oriented languages have another modifier known as `protected`.\n",
    "More specifically, if a language supports [inheritance](inheritance) it probably also supports the access modifier `protected`.\n",
    "\n",
    "Why another modifier?\n",
    "Well, remember how `private` members only are accessible from wihtin the class they are defined in?\n",
    "The introduction of `protected` stems from the realization that in a language that supports [inheritance](inheritance) you might also want members that are private within a given inheritance hierarchy.\n",
    "\n",
    "\n",
    "## Definition\n",
    "\n",
    "Let's recap the definitions that we gave in the chapter on [basic access modififers](basic-access-modifiers)?\n",
    "\n",
    "- `public` means accessible by whoever has access to the class.\n",
    "- `private` means accessible *only* from within the class itself.\n",
    "- `protected` means accessible *only* from within the class itself *and* any of its [subclasses](inheritance).\n",
    "\n",
    "A `protected` member is therefore like a `private` member except that it is `private` to the whole inheritance hierarchy below the type in which it is defined.\n",
    "\n",
    "### UML class diagrams\n",
    "\n",
    "In UML class diagrams we use the symbol `#` to denote `protected`.\n",
    "\n",
    "\n",
    "## Examples\n",
    "\n",
    "### Sequences\n",
    "\n",
    "Remember how, in the chapter on [inheritance](inheritance:sequences), we defined a bunch of sequences.\n",
    "Remember how had two main \"styles\" of writing our algorithms?\n",
    "One one hand we could write our algorithms as formulas (such as in the case of the square series) and on the other as filters (such as in the case of the palindromic sequence).\n",
    "\n",
    "In the cases where we overrode the `Current` method we always had to introduce our own instance field that we were able to set the current value to.\n",
    "This happened because the `set` accessor of the property `Current` was marked as `private` in the superclass `Sequence`.\n",
    "In other words, subclasses did not have access to the setter even if they overrode the property.\n",
    "\n",
    "Why did we not just make the `set` accessor `public`?\n",
    "Because of [information hiding](information-hiding).\n",
    "We don't want others to be able to at will change the current value of a sequence.\n",
    "Why?\n",
    "Well what if we have an `EvenSequence` and someone changes the value to `3`?\n",
    "\n",
    "Let's now change the access modifier of the `set` accessor to `protected`.\n",
    "This will allow us to implement some sequences as formulas without having to override the `Current` property.\n",
    "Why?\n",
    "Because all subclasses of `Sequence` will now have write-access to that property."
   ]
  },
  {
   "cell_type": "code",
   "execution_count": 1,
   "id": "f990fe30",
   "metadata": {},
   "outputs": [
    {
     "data": {
      "text/html": [
       "\r\n",
       "<div>\r\n",
       "    <div id='dotnet-interactive-this-cell-2534.Microsoft.DotNet.Interactive.Http.HttpPort' style='display: none'>\r\n",
       "        The below script needs to be able to find the current output cell; this is an easy method to get it.\r\n",
       "    </div>\r\n",
       "    <script type='text/javascript'>\r\n",
       "async function probeAddresses(probingAddresses) {\r\n",
       "    function timeout(ms, promise) {\r\n",
       "        return new Promise(function (resolve, reject) {\r\n",
       "            setTimeout(function () {\r\n",
       "                reject(new Error('timeout'))\r\n",
       "            }, ms)\r\n",
       "            promise.then(resolve, reject)\r\n",
       "        })\r\n",
       "    }\r\n",
       "\r\n",
       "    if (Array.isArray(probingAddresses)) {\r\n",
       "        for (let i = 0; i < probingAddresses.length; i++) {\r\n",
       "\r\n",
       "            let rootUrl = probingAddresses[i];\r\n",
       "\r\n",
       "            if (!rootUrl.endsWith('/')) {\r\n",
       "                rootUrl = `${rootUrl}/`;\r\n",
       "            }\r\n",
       "\r\n",
       "            try {\r\n",
       "                let response = await timeout(1000, fetch(`${rootUrl}discovery`, {\r\n",
       "                    method: 'POST',\r\n",
       "                    cache: 'no-cache',\r\n",
       "                    mode: 'cors',\r\n",
       "                    timeout: 1000,\r\n",
       "                    headers: {\r\n",
       "                        'Content-Type': 'text/plain'\r\n",
       "                    },\r\n",
       "                    body: probingAddresses[i]\r\n",
       "                }));\r\n",
       "\r\n",
       "                if (response.status == 200) {\r\n",
       "                    return rootUrl;\r\n",
       "                }\r\n",
       "            }\r\n",
       "            catch (e) { }\r\n",
       "        }\r\n",
       "    }\r\n",
       "}\r\n",
       "\r\n",
       "function loadDotnetInteractiveApi() {\r\n",
       "    probeAddresses([\"http://10.1.0.69:1024/\", \"http://127.0.0.1:1024/\"])\r\n",
       "        .then((root) => {\r\n",
       "        // use probing to find host url and api resources\r\n",
       "        // load interactive helpers and language services\r\n",
       "        let dotnetInteractiveRequire = require.config({\r\n",
       "        context: '2534.Microsoft.DotNet.Interactive.Http.HttpPort',\r\n",
       "                paths:\r\n",
       "            {\r\n",
       "                'dotnet-interactive': `${root}resources`\r\n",
       "                }\r\n",
       "        }) || require;\r\n",
       "\r\n",
       "            window.dotnetInteractiveRequire = dotnetInteractiveRequire;\r\n",
       "\r\n",
       "            window.configureRequireFromExtension = function(extensionName, extensionCacheBuster) {\r\n",
       "                let paths = {};\r\n",
       "                paths[extensionName] = `${root}extensions/${extensionName}/resources/`;\r\n",
       "                \r\n",
       "                let internalRequire = require.config({\r\n",
       "                    context: extensionCacheBuster,\r\n",
       "                    paths: paths,\r\n",
       "                    urlArgs: `cacheBuster=${extensionCacheBuster}`\r\n",
       "                    }) || require;\r\n",
       "\r\n",
       "                return internalRequire\r\n",
       "            };\r\n",
       "        \r\n",
       "            dotnetInteractiveRequire([\r\n",
       "                    'dotnet-interactive/dotnet-interactive'\r\n",
       "                ],\r\n",
       "                function (dotnet) {\r\n",
       "                    dotnet.init(window);\r\n",
       "                },\r\n",
       "                function (error) {\r\n",
       "                    console.log(error);\r\n",
       "                }\r\n",
       "            );\r\n",
       "        })\r\n",
       "        .catch(error => {console.log(error);});\r\n",
       "    }\r\n",
       "\r\n",
       "// ensure `require` is available globally\r\n",
       "if ((typeof(require) !==  typeof(Function)) || (typeof(require.config) !== typeof(Function))) {\r\n",
       "    let require_script = document.createElement('script');\r\n",
       "    require_script.setAttribute('src', 'https://cdnjs.cloudflare.com/ajax/libs/require.js/2.3.6/require.min.js');\r\n",
       "    require_script.setAttribute('type', 'text/javascript');\r\n",
       "    \r\n",
       "    \r\n",
       "    require_script.onload = function() {\r\n",
       "        loadDotnetInteractiveApi();\r\n",
       "    };\r\n",
       "\r\n",
       "    document.getElementsByTagName('head')[0].appendChild(require_script);\r\n",
       "}\r\n",
       "else {\r\n",
       "    loadDotnetInteractiveApi();\r\n",
       "}\r\n",
       "\r\n",
       "    </script>\r\n",
       "</div>"
      ]
     },
     "metadata": {},
     "output_type": "display_data"
    }
   ],
   "source": [
    "class Sequence\n",
    "{\n",
    "  public virtual int Current { get; protected set; }\n",
    "\n",
    "  public virtual void Next()\n",
    "    => Current++;\n",
    "\n",
    "  public virtual int[] Take (int n)\n",
    "  {\n",
    "    int[] nums = new int[n];\n",
    "    for (int i=0; i<nums.Length; i++)\n",
    "    {\n",
    "      nums[i] = Current;\n",
    "      Next();\n",
    "    }\n",
    "    return nums;\n",
    "  }\n",
    "}"
   ]
  },
  {
   "cell_type": "markdown",
   "id": "652131f9",
   "metadata": {},
   "source": [
    "I don't want to argue that this is a better solution in terms of [maintainability](maintainability) than what we had before.\n",
    "What I would say however is that changing a piece of data from being `public` to being `protected` would mean that we are hiding more information.\n",
    "That is a good thing.\n",
    "At least the data is not public.\n",
    "However, we didn't actually change data that was marked as `public` to `protected`, we changed something that was `private` to `protected`.\n",
    "This does indeed feel like a step in the wrong direction.\n",
    "\n",
    "So why did we do this?\n",
    "Well, our goal here was code reuse and code reuse will certainly be higher now.\n",
    "But is it a win?\n",
    "I don't know.\n",
    "As you might have understood by now, I'm in the camp that favors composition over inheritance.\n",
    "But we'll talk more about how that applies here when we get to the chapters on abstract [constructed](abstract-constructed-object-composition) and [injected](abstract-injected-object-composition) composition.\n",
    "\n",
    "```{tip}\n",
    "Remember how we discussed that there are two reasons for using [inheritance](inheritance).\n",
    "Subtype polymorphism, and code reuse.\n",
    "If all you want is subtype polymorphism then you should use interfaces.\n",
    "If however we also want code reuse then we better dang well get some code reuse out of our classes.\n",
    "```\n",
    "\n",
    "Let's first rewrite the class `StepSequence`.\n",
    "The implemenation is the same as before except that we now don't have to override the property `Current` since we can both `get` and `set` it in subclasses."
   ]
  },
  {
   "cell_type": "code",
   "execution_count": 2,
   "id": "1d09489b",
   "metadata": {},
   "outputs": [],
   "source": [
    "class StepSequence : Sequence\n",
    "{\n",
    "  private int steps;\n",
    "\n",
    "  public StepSequence (int steps)\n",
    "    : this(steps, 0) { }\n",
    "\n",
    "  public StepSequence (int steps, int initial)\n",
    "  {\n",
    "    this.steps = steps;\n",
    "    this.Current = initial;\n",
    "  }\n",
    "\n",
    "  public override void Next()\n",
    "    => Current += steps;\n",
    "}"
   ]
  },
  {
   "cell_type": "code",
   "execution_count": 3,
   "id": "4d969cff",
   "metadata": {},
   "outputs": [
    {
     "name": "stdout",
     "output_type": "stream",
     "text": [
      "0, 10, 20, 30, 40, 50, 60, 70, 80, 90\n"
     ]
    }
   ],
   "source": [
    "Console.WriteLine(String.Join(\", \", new StepSequence(10).Take(10)));"
   ]
  },
  {
   "cell_type": "markdown",
   "id": "f606847e",
   "metadata": {},
   "source": [
    "Let's now try `EvenSequence` and `OddSequence`.\n",
    "The implementation is really quite trivial now that we have write-access to the property `Current`."
   ]
  },
  {
   "cell_type": "code",
   "execution_count": 4,
   "id": "b8c5daeb",
   "metadata": {},
   "outputs": [],
   "source": [
    "class EvenSequence : Sequence\n",
    "{\n",
    "  public override void Next ()\n",
    "    => Current += 2;\n",
    "}"
   ]
  },
  {
   "cell_type": "code",
   "execution_count": 5,
   "id": "f33654e6",
   "metadata": {},
   "outputs": [
    {
     "name": "stdout",
     "output_type": "stream",
     "text": [
      "0, 2, 4, 6, 8, 10, 12, 14, 16, 18\n"
     ]
    }
   ],
   "source": [
    "Console.WriteLine(String.Join(\", \", new EvenSequence().Take(10)));"
   ]
  },
  {
   "cell_type": "code",
   "execution_count": 6,
   "id": "9963d47b",
   "metadata": {},
   "outputs": [],
   "source": [
    "class OddSequence : Sequence\n",
    "{\n",
    "  public OddSequence ()\n",
    "    => Current = 1;\n",
    "\n",
    "  public override void Next ()\n",
    "    => Current += 2;\n",
    "}"
   ]
  },
  {
   "cell_type": "code",
   "execution_count": 7,
   "id": "09433a73",
   "metadata": {},
   "outputs": [
    {
     "name": "stdout",
     "output_type": "stream",
     "text": [
      "1, 3, 5, 7, 9, 11, 13, 15, 17, 19\n"
     ]
    }
   ],
   "source": [
    "Console.WriteLine(String.Join(\", \", new OddSequence().Take(10)));"
   ]
  },
  {
   "cell_type": "markdown",
   "id": "bb190c05",
   "metadata": {},
   "source": [
    "Before moving on, let me just say that moving to a `protected` `set` accessor of the property `Current` doesn't really affect our implementation of `SquareSequence`.\n",
    "Because in that subclass we want to keep track of which number we are at currently and then generate the number when asked, rather than storing the actual number itself.\n",
    "Have a look at the folded code below.\n",
    "It's the same as before."
   ]
  },
  {
   "cell_type": "code",
   "execution_count": 8,
   "id": "88bde48f",
   "metadata": {
    "tags": [
     "hide-input"
    ]
   },
   "outputs": [],
   "source": [
    "class SquareSequence : Sequence\n",
    "{\n",
    "  int n = 0;\n",
    "\n",
    "  public override int Current\n",
    "  {\n",
    "    get => (n * (n + 1)) / 2;\n",
    "  }\n",
    "\n",
    "  public override void Next()\n",
    "    => n++;\n",
    "}"
   ]
  },
  {
   "cell_type": "markdown",
   "id": "705701db",
   "metadata": {},
   "source": [
    "% TODO: What about negaitve numbers?\n",
    "\n",
    "\n",
    "\n",
    "(protected:sequences)=\n",
    "### Filtered sequences\n",
    "\n",
    "Let's now talk about the other way that we were expressing sequences in the chapter on [inheritance](inheritance:sequences)?\n",
    "When we expressed them as filters applied to a sequence.\n",
    "\n",
    "Remember the discussion on how the recursive implementation of the method `Next` was duplicated across subclasses of `Sequence` when we tried to express our sequences as filtered sequences?\n",
    "Would it be possible to eliminate that duplication using yet another type that we could inherit from?\n",
    "Sure, we could introduce another class that we might call `FilteredSequence` that has a `virtual protected` instance method that returns a `bool`.\n",
    "This method acts as the filter and by overriding this method we can provide the filter for that particular sequence."
   ]
  },
  {
   "cell_type": "code",
   "execution_count": 9,
   "id": "79741566",
   "metadata": {},
   "outputs": [],
   "source": [
    "class FilteredSequence : Sequence\n",
    "{\n",
    "  public override void Next()\n",
    "  {\n",
    "    Current++;\n",
    "    if (!IsValid())\n",
    "      Next();\n",
    "  }\n",
    "\n",
    "  protected virtual bool IsValid ()\n",
    "    => true;\n",
    "}"
   ]
  },
  {
   "cell_type": "code",
   "execution_count": 10,
   "id": "e3158d7f",
   "metadata": {},
   "outputs": [
    {
     "name": "stdout",
     "output_type": "stream",
     "text": [
      "0, 1, 2, 3, 4, 5, 6, 7, 8, 9\n"
     ]
    }
   ],
   "source": [
    "Console.WriteLine(String.Join(\", \", new FilteredSequence().Take(10)));"
   ]
  },
  {
   "cell_type": "markdown",
   "id": "32c7e92e",
   "metadata": {},
   "source": [
    "Let's first reimplement `PalindromicSequence`."
   ]
  },
  {
   "cell_type": "code",
   "execution_count": 11,
   "id": "3c567b72",
   "metadata": {},
   "outputs": [],
   "source": [
    "class PalindromicSequence : FilteredSequence\n",
    "{\n",
    "  protected override bool IsValid ()\n",
    "  {\n",
    "    string number = Current.ToString();\n",
    "    for (int i=0; i<number.Length; i++)\n",
    "      if (number[i] != number[number.Length - i - 1])\n",
    "        return false;\n",
    "    return true;\n",
    "  }\n",
    "}"
   ]
  },
  {
   "cell_type": "code",
   "execution_count": 12,
   "id": "373269a6",
   "metadata": {},
   "outputs": [
    {
     "name": "stdout",
     "output_type": "stream",
     "text": [
      "0, 1, 2, 3, 4, 5, 6, 7, 8, 9, 11, 22, 33, 44, 55, 66, 77, 88, 99, 101\n"
     ]
    }
   ],
   "source": [
    "Console.WriteLine(String.Join(\", \", new PalindromicSequence().Take(20)));"
   ]
  },
  {
   "cell_type": "markdown",
   "id": "9e3df2c2",
   "metadata": {},
   "source": [
    "Pretty neat.\n",
    "Now we only had to override the method `IsValid` and the rest was inherited.\n",
    "Let's try the `SquareSequence`."
   ]
  },
  {
   "cell_type": "code",
   "execution_count": 13,
   "id": "3c91d2b9",
   "metadata": {},
   "outputs": [],
   "source": [
    "class SquareSequence : FilteredSequence\n",
    "{\n",
    "  protected override bool IsValid ()\n",
    "    => (int)Math.Sqrt(Current) * (int)Math.Sqrt(Current) == Current;\n",
    "}"
   ]
  },
  {
   "cell_type": "code",
   "execution_count": 14,
   "id": "7af62ec3",
   "metadata": {},
   "outputs": [
    {
     "name": "stdout",
     "output_type": "stream",
     "text": [
      "0, 1, 4, 9, 16, 25, 36, 49, 64, 81\n"
     ]
    }
   ],
   "source": [
    "Console.WriteLine(String.Join(\", \", new SquareSequence().Take(10)));"
   ]
  },
  {
   "cell_type": "markdown",
   "id": "81c43207",
   "metadata": {},
   "source": [
    "Same thing.\n",
    "All we had to override was the method `IsValid`.\n",
    "\n",
    "\n",
    "## Exercises\n",
    "\n",
    "```{note}\n",
    "Work in progress.\n",
    "```\n",
    "\n",
    "\n",
    "%### Shapes\n",
    "%\n",
    "%\n",
    "%```{code-cell}\n",
    "%abstract class Shape\n",
    "%{\n",
    "%  public int Width { get; protected set; }\n",
    "%  public int Height { get; protected set; }\n",
    "%\n",
    "%  public void Scale (double factor)\n",
    "%  {\n",
    "%    Width *= factor;\n",
    "%    Height *= factor;\n",
    "%  }\n",
    "%}\n",
    "%\n",
    "%class Rectangle\n",
    "%{\n",
    "%\n",
    "%}\n",
    "%\n",
    "%class Oval\n",
    "%{\n",
    "%  public Radius\n",
    "%}\n",
    "%```\n",
    "\n",
    "\n",
    "%   - `Coordinate.Add(Coordinate other)` is a good example since `x` and `y` can be `protected`."
   ]
  }
 ],
 "metadata": {
  "jupytext": {
   "formats": "md:myst",
   "text_representation": {
    "extension": ".md",
    "format_name": "myst"
   }
  },
  "kernelspec": {
   "display_name": "csharp",
   "language": ".net-csharp",
   "name": ".net-csharp"
  },
  "language_info": {
   "file_extension": ".cs",
   "mimetype": "text/x-csharp",
   "name": "C#",
   "pygments_lexer": "csharp",
   "version": "10.0"
  },
  "source_map": [
   11,
   63,
   82,
   108,
   127,
   129,
   134,
   142,
   146,
   157,
   159,
   166,
   180,
   198,
   213,
   215,
   219,
   233,
   235,
   241,
   249,
   251
  ]
 },
 "nbformat": 4,
 "nbformat_minor": 5
}