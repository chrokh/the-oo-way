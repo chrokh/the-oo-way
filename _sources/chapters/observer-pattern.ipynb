{
 "cells": [
  {
   "cell_type": "markdown",
   "id": "dde8414f",
   "metadata": {},
   "source": [
    "# Observer pattern\n",
    "\n",
    "```{warning}\n",
    "Work in progress.\n",
    "```\n",
    "\n",
    "## Definition\n",
    "\n",
    "The definition of the observer pattern from the classic design patterns book {cite:t}`gammaEtAl1995` is as follows:\n",
    "\n",
    "```{epigraph}\n",
    "Define a one-to-many dependency between objects so that when one object changes state, all its dependents are notified and updated automatically.\n",
    "\n",
    "-- {cite:t}`gammaEtAl1995`\n",
    "```\n",
    "\n",
    "% TODO: Replace image.\n",
    "```{figure} https://upload.wikimedia.org/wikipedia/commons/thumb/a/a8/Observer_w_update.svg/1280px-Observer_w_update.svg.png\n",
    "\n",
    "UML class diagram of observer pattern.\n",
    "*[Image will be replaced soon]* [[Image source](https://en.wikipedia.org/wiki/Observer_pattern#/media/File:Observer_w_update.svg)]\n",
    "```\n",
    "\n",
    "Observer pattern is in a sense analogous to using [events](events) together with [delegates](delegates).\n",
    "The object that emits events is the observable, and the delegates are the observers.\n",
    "We'll talk more about this when we get to the chapter on [events](events).\n",
    "\n",
    "\n",
    "## Examples\n",
    "\n",
    "### Observable ciphers\n",
    "\n",
    "Suppose that we've defined a cipher that takes a really long time to execute.\n",
    "I let the cipher run on my machine over the night and when it's completed I want to write the resulting output to screen *and* to a file.\n",
    "\n",
    "While we could certainly do this by simply taking the output from the encode method and writing it to file and to screen.\n",
    "However, we could also think about this problem in terms of events and notifications.\n",
    "We want a notification from a cipher when the encoding is completed so that we can do whatever it is we want to do with the output.\n",
    "\n",
    "Let's try to solve this using the observer pattern.\n",
    "Assume that we've got our good old `ICipher<TIn,TOut>` interface."
   ]
  },
  {
   "cell_type": "code",
   "execution_count": 1,
   "id": "80918937",
   "metadata": {},
   "outputs": [
    {
     "data": {
      "text/html": [
       "\r\n",
       "<div>\r\n",
       "    <div id='dotnet-interactive-this-cell-3617.Microsoft.DotNet.Interactive.Http.HttpPort' style='display: none'>\r\n",
       "        The below script needs to be able to find the current output cell; this is an easy method to get it.\r\n",
       "    </div>\r\n",
       "    <script type='text/javascript'>\r\n",
       "async function probeAddresses(probingAddresses) {\r\n",
       "    function timeout(ms, promise) {\r\n",
       "        return new Promise(function (resolve, reject) {\r\n",
       "            setTimeout(function () {\r\n",
       "                reject(new Error('timeout'))\r\n",
       "            }, ms)\r\n",
       "            promise.then(resolve, reject)\r\n",
       "        })\r\n",
       "    }\r\n",
       "\r\n",
       "    if (Array.isArray(probingAddresses)) {\r\n",
       "        for (let i = 0; i < probingAddresses.length; i++) {\r\n",
       "\r\n",
       "            let rootUrl = probingAddresses[i];\r\n",
       "\r\n",
       "            if (!rootUrl.endsWith('/')) {\r\n",
       "                rootUrl = `${rootUrl}/`;\r\n",
       "            }\r\n",
       "\r\n",
       "            try {\r\n",
       "                let response = await timeout(1000, fetch(`${rootUrl}discovery`, {\r\n",
       "                    method: 'POST',\r\n",
       "                    cache: 'no-cache',\r\n",
       "                    mode: 'cors',\r\n",
       "                    timeout: 1000,\r\n",
       "                    headers: {\r\n",
       "                        'Content-Type': 'text/plain'\r\n",
       "                    },\r\n",
       "                    body: probingAddresses[i]\r\n",
       "                }));\r\n",
       "\r\n",
       "                if (response.status == 200) {\r\n",
       "                    return rootUrl;\r\n",
       "                }\r\n",
       "            }\r\n",
       "            catch (e) { }\r\n",
       "        }\r\n",
       "    }\r\n",
       "}\r\n",
       "\r\n",
       "function loadDotnetInteractiveApi() {\r\n",
       "    probeAddresses([\"http://10.1.1.32:1024/\", \"http://127.0.0.1:1024/\"])\r\n",
       "        .then((root) => {\r\n",
       "        // use probing to find host url and api resources\r\n",
       "        // load interactive helpers and language services\r\n",
       "        let dotnetInteractiveRequire = require.config({\r\n",
       "        context: '3617.Microsoft.DotNet.Interactive.Http.HttpPort',\r\n",
       "                paths:\r\n",
       "            {\r\n",
       "                'dotnet-interactive': `${root}resources`\r\n",
       "                }\r\n",
       "        }) || require;\r\n",
       "\r\n",
       "            window.dotnetInteractiveRequire = dotnetInteractiveRequire;\r\n",
       "\r\n",
       "            window.configureRequireFromExtension = function(extensionName, extensionCacheBuster) {\r\n",
       "                let paths = {};\r\n",
       "                paths[extensionName] = `${root}extensions/${extensionName}/resources/`;\r\n",
       "                \r\n",
       "                let internalRequire = require.config({\r\n",
       "                    context: extensionCacheBuster,\r\n",
       "                    paths: paths,\r\n",
       "                    urlArgs: `cacheBuster=${extensionCacheBuster}`\r\n",
       "                    }) || require;\r\n",
       "\r\n",
       "                return internalRequire\r\n",
       "            };\r\n",
       "        \r\n",
       "            dotnetInteractiveRequire([\r\n",
       "                    'dotnet-interactive/dotnet-interactive'\r\n",
       "                ],\r\n",
       "                function (dotnet) {\r\n",
       "                    dotnet.init(window);\r\n",
       "                },\r\n",
       "                function (error) {\r\n",
       "                    console.log(error);\r\n",
       "                }\r\n",
       "            );\r\n",
       "        })\r\n",
       "        .catch(error => {console.log(error);});\r\n",
       "    }\r\n",
       "\r\n",
       "// ensure `require` is available globally\r\n",
       "if ((typeof(require) !==  typeof(Function)) || (typeof(require.config) !== typeof(Function))) {\r\n",
       "    let require_script = document.createElement('script');\r\n",
       "    require_script.setAttribute('src', 'https://cdnjs.cloudflare.com/ajax/libs/require.js/2.3.6/require.min.js');\r\n",
       "    require_script.setAttribute('type', 'text/javascript');\r\n",
       "    \r\n",
       "    \r\n",
       "    require_script.onload = function() {\r\n",
       "        loadDotnetInteractiveApi();\r\n",
       "    };\r\n",
       "\r\n",
       "    document.getElementsByTagName('head')[0].appendChild(require_script);\r\n",
       "}\r\n",
       "else {\r\n",
       "    loadDotnetInteractiveApi();\r\n",
       "}\r\n",
       "\r\n",
       "    </script>\r\n",
       "</div>"
      ]
     },
     "metadata": {},
     "output_type": "display_data"
    }
   ],
   "source": [
    "interface ICipher<TIn,TOut>\n",
    "{\n",
    "  TOut Encode (TIn input);\n",
    "}"
   ]
  },
  {
   "cell_type": "markdown",
   "id": "0d2c8737",
   "metadata": {},
   "source": [
    "Let's then introduce interfaces for the idea of being an observer and that of being an observable.\n",
    "\n",
    "Our observers are simply required to implement a method called `Update` which takes two strings as arguments.\n",
    "This method will be called on all observers whenever the observable that they observe have completed its encoding.\n",
    "The first string parameter represents the input value that was sent to the Encode method and the second represents the output value."
   ]
  },
  {
   "cell_type": "code",
   "execution_count": 2,
   "id": "38f63224",
   "metadata": {},
   "outputs": [],
   "source": [
    "interface ICipherObserver\n",
    "{\n",
    "  void Update (string input, string output);\n",
    "}"
   ]
  },
  {
   "cell_type": "markdown",
   "id": "166dd407",
   "metadata": {},
   "source": [
    "What about the observable cipher?\n",
    "What does its interface look like?\n",
    "Well, at the very least, we must be able to register observers to it.\n",
    "Let's call the method `Add` and let's stop there for now."
   ]
  },
  {
   "cell_type": "code",
   "execution_count": 3,
   "id": "9e3879f2",
   "metadata": {},
   "outputs": [],
   "source": [
    "interface IObservableCipher\n",
    "{\n",
    "  void Add (ICipherObserver observer);\n",
    "}"
   ]
  },
  {
   "cell_type": "markdown",
   "id": "f5eb0d8f",
   "metadata": {},
   "source": [
    "So what might observers look like?\n",
    "Remember what we said that we wanted to do?\n",
    "We wanted to write the result of the encoding both to screen and to file.\n",
    "Let's first build an observer that writes to screen:"
   ]
  },
  {
   "cell_type": "code",
   "execution_count": 4,
   "id": "32040b3c",
   "metadata": {},
   "outputs": [],
   "source": [
    "class CipherViewer : ICipherObserver\n",
    "{\n",
    "  public void Update(string input, string output)\n",
    "    => Console.WriteLine($\"\\\"{input}\\\" was translated into \\\"{output}\\\"\");\n",
    "}"
   ]
  },
  {
   "cell_type": "markdown",
   "id": "ad4ece53",
   "metadata": {},
   "source": [
    "Let's now implement an observer that writes to file.\n",
    "But, since we don't actually care about file writing in this example, let's just wave our hands and pretend that it writes to file."
   ]
  },
  {
   "cell_type": "code",
   "execution_count": 5,
   "id": "104b063f",
   "metadata": {},
   "outputs": [],
   "source": [
    "class CipherWriter : ICipherObserver\n",
    "{\n",
    "  public void Update(string input, string output)\n",
    "    => Console.WriteLine(\"Writing encoded data to file...\");\n",
    "}"
   ]
  },
  {
   "cell_type": "markdown",
   "id": "de5a0428",
   "metadata": {},
   "source": [
    "At least we've got two observers now.\n",
    "But what about an observable?\n",
    "Our observers don't yet have anything to observe.\n",
    "Let's write an observable cipher.\n",
    "For the purposes of this example it doesn't at all matter what the encode method of the cipher does.\n",
    "For this reason we'll let the cipher behave like the identity cipher.\n",
    "Meaning that it returns whatever input we give it back as output."
   ]
  },
  {
   "cell_type": "code",
   "execution_count": 6,
   "id": "f0240fbe",
   "metadata": {},
   "outputs": [],
   "source": [
    "class ObservableCipher : ICipher<string,string>\n",
    "{\n",
    "  List<ICipherObserver> observers = new List<ICipherObserver>();\n",
    "\n",
    "  public void Add (ICipherObserver observer)\n",
    "    => observers.Add(observer);\n",
    "\n",
    "  public string Encode (string input)\n",
    "  {\n",
    "    System.Threading.Thread.Sleep(2000); // Delay to simulate slow cipher.\n",
    "    string output = input; // Encode logic here.\n",
    "    notify(input, output);\n",
    "    return output;\n",
    "  }\n",
    "\n",
    "  void notify (string input, string output)\n",
    "  {\n",
    "    foreach (ICipherObserver observer in observers)\n",
    "      observer.Update(input, output);\n",
    "  }\n",
    "}"
   ]
  },
  {
   "cell_type": "markdown",
   "id": "d6f5b98f",
   "metadata": {},
   "source": [
    "Let's now see all this in action.\n",
    "First we instantiate the observable."
   ]
  },
  {
   "cell_type": "code",
   "execution_count": 7,
   "id": "c9cf1f66",
   "metadata": {},
   "outputs": [],
   "source": [
    "ObservableCipher observable = new ObservableCipher();"
   ]
  },
  {
   "cell_type": "markdown",
   "id": "1789b3b8",
   "metadata": {},
   "source": [
    "Then we register any number of observables that we want."
   ]
  },
  {
   "cell_type": "code",
   "execution_count": 8,
   "id": "ac966c4d",
   "metadata": {},
   "outputs": [],
   "source": [
    "observable.Add(new CipherViewer());\n",
    "observable.Add(new CipherWriter());"
   ]
  },
  {
   "cell_type": "markdown",
   "id": "693f50bc",
   "metadata": {},
   "source": [
    "Then we simply call `Encode` on the observable cipher and watch as the observers get notified about the change and then go on to do their thing."
   ]
  },
  {
   "cell_type": "code",
   "execution_count": 9,
   "id": "b24d38ab",
   "metadata": {},
   "outputs": [
    {
     "name": "stdout",
     "output_type": "stream",
     "text": [
      "\"foobar\" was translated into \"foobar\"\n"
     ]
    },
    {
     "name": "stdout",
     "output_type": "stream",
     "text": [
      "Writing encoded data to file...\n"
     ]
    }
   ],
   "source": [
    "observable.Encode(\"foobar\");"
   ]
  },
  {
   "cell_type": "markdown",
   "id": "9ee52769",
   "metadata": {},
   "source": [
    "Notice how the `Update` method of both observers is executed.\n",
    "Notice also how we don't actually need to store the return value of the call to the method `Encode`.\n",
    "\n",
    "\n",
    "(observer-pattern:generic-observable-ciphers)=\n",
    "### Generic observable ciphers\n",
    "\n",
    "As you might have suspected however, most of the code in `ObservableCipher` will have to be duplicated as soon as we want to be able to create a new observable cipher.\n",
    "Such as an observable Caesar cipher, or observable Robbers cipher, etc.\n",
    "Also, why did we couple to ciphers that take and return strings?\n",
    "What if we want to observe ciphers that work with single characters?\n",
    "\n",
    "Can we get rid of that duplicated code by means of inheritance?\n",
    "Sure, we might be able to do that.\n",
    "But remember the idea of favoring [composition over inheritance](composition-over-inheritance)?\n",
    "Remember the [strategy pattern](strategy-pattern)?\n",
    "Remember [abstract injected object composition](abstract-injected-object-composition)?\n",
    "Let's use composition and separate the responsibility of being observable from that of translating some input to some output.\n",
    "\n",
    "Our ciphers of type `ICipher<TIn,TOut>` are already very good at translating from input to output so let's let them keep doing that.\n",
    "Let's instead write a new observable cipher class that's generic and that has a cipher.\n",
    "How does the cipher end up in the observable cipher?\n",
    "Good old [abstract injected object composition](abstract-injected-object-composition).\n",
    "\n",
    "But let's start by generalizing the observer interface."
   ]
  },
  {
   "cell_type": "code",
   "execution_count": 10,
   "id": "d103c36d",
   "metadata": {},
   "outputs": [],
   "source": [
    "interface ICipherObserver<TIn,TOut>\n",
    "{\n",
    "  void Update (TIn input, TOut output);\n",
    "}"
   ]
  },
  {
   "cell_type": "markdown",
   "id": "e1fc73ad",
   "metadata": {},
   "source": [
    "Most code will essentially be the same as before.\n",
    "We're mostly just replacing actual types with type parameters.\n",
    "\n",
    "Of course our cipher observers presume that the cipher that they are observing will generate strings as output, based on strings as input so we'll have to say that they implement the interface `ICipherObserver<string,string>`."
   ]
  },
  {
   "cell_type": "code",
   "execution_count": 11,
   "id": "9218f246",
   "metadata": {},
   "outputs": [],
   "source": [
    "class CipherViewer : ICipherObserver<string,string>\n",
    "{\n",
    "  public void Update(string input, string output)\n",
    "    => Console.WriteLine($\"\\\"{input}\\\" was translated into \\\"{output}\\\"\");\n",
    "}\n",
    "\n",
    "class CipherWriter : ICipherObserver<string,string>\n",
    "{\n",
    "  public void Update(string input, string output)\n",
    "    => Console.WriteLine(\"Writing encode data to file...\");\n",
    "}"
   ]
  },
  {
   "cell_type": "markdown",
   "id": "dc986cdf",
   "metadata": {},
   "source": [
    "We're now ready to generalize the observable cipher.\n",
    "Notice how we're now both generalizing the observable cipher so that it uses two type parameters, but also how we're now accepting another cipher in the constructor.\n",
    "When the encode method of the observable cipher is called, it delegates to the composed cipher and notifies all observers.\n",
    "We've now separated the two concerns.\n",
    "The observable cipher delegates the actual encoding to the composed cipher, but is itself responsible for notifying the observers when the encoding is completed."
   ]
  },
  {
   "cell_type": "code",
   "execution_count": 12,
   "id": "fd3e1b40",
   "metadata": {},
   "outputs": [],
   "source": [
    "class ObservableCipher<TIn,TOut> : ICipher<TIn,TOut>\n",
    "{\n",
    "  ICipher<TIn,TOut> cipher;\n",
    "  List<ICipherObserver<TIn,TOut>> observers = new List<ICipherObserver<TIn,TOut>>();\n",
    "\n",
    "  public ObservableCipher (ICipher<TIn,TOut> cipher)\n",
    "    => this.cipher = cipher;\n",
    "\n",
    "  public void Add (ICipherObserver<TIn,TOut> observer)\n",
    "    => observers.Add(observer);\n",
    "\n",
    "  public TOut Encode (TIn input)\n",
    "  {\n",
    "    TOut output = cipher.Encode(input);  // Delegate the encoding of input.\n",
    "    notify(input, output);               // Notify all observers.\n",
    "    return output;\n",
    "  }\n",
    "\n",
    "  void notify (TIn input, TOut output)\n",
    "  {\n",
    "    foreach (ICipherObserver<TIn,TOut> observer in observers)\n",
    "      observer.Update(input, output);\n",
    "  }\n",
    "}"
   ]
  },
  {
   "cell_type": "markdown",
   "id": "7969c459",
   "metadata": {},
   "source": [
    "Let's bring back the Reverse cipher so that we can run an example with a cipher that's more interesting than the identity cipher.\n",
    "%Let's bring back the Caesar cipher so that we can run an example with a cipher that's more interesting than the identity cipher.\n",
    "%We'll also have to bring in the classes `SubstitutionCipher` and `CharToStringAdapter` to enable us to encode full strings."
   ]
  },
  {
   "cell_type": "code",
   "execution_count": 13,
   "id": "62e00366",
   "metadata": {
    "tags": [
     "hide-input"
    ]
   },
   "outputs": [],
   "source": [
    "class ReverseCipher : ICipher<string,string>\n",
    "{\n",
    "  public string Encode (string input)\n",
    "  {\n",
    "    string output = \"\";\n",
    "    for (int i=input.Length-1; i>=0; i--)\n",
    "      output += input[i];\n",
    "    return output;\n",
    "  }\n",
    "}"
   ]
  },
  {
   "cell_type": "markdown",
   "id": "130c0197",
   "metadata": {},
   "source": [
    "Ok, let's now run it to make sure that it works."
   ]
  },
  {
   "cell_type": "code",
   "execution_count": 14,
   "id": "adacda69",
   "metadata": {},
   "outputs": [
    {
     "name": "stdout",
     "output_type": "stream",
     "text": [
      "\"abc\" was translated into \"cba\"\n"
     ]
    },
    {
     "name": "stdout",
     "output_type": "stream",
     "text": [
      "Writing encode data to file...\n"
     ]
    }
   ],
   "source": [
    "// Instantiate observable cipher.\n",
    "ObservableCipher<string,string> observable\n",
    "  = new ObservableCipher<string,string>(new ReverseCipher());\n",
    "\n",
    "// Instantiate and add observables.\n",
    "observable.Add(new CipherViewer());\n",
    "observable.Add(new CipherWriter());\n",
    "\n",
    "// Run the encoding on the observable.\n",
    "observable.Encode(\"abc\");"
   ]
  },
  {
   "cell_type": "markdown",
   "id": "0dcb047f",
   "metadata": {},
   "source": [
    "%### Observing key-presses\n",
    "%\n",
    "%SIMPLIFIERA DETTA OCH SEPARERA PRINTING IFRPN OBSERVERS.\n",
    "%TÄNK snarare att en observer subtyp är ett EncodedMessage och den andra typen är en Display. Injecta sedan in alla messages i Display:en innan vi startar vår key stream.\n",
    "%\n",
    "%```{code-cell} csharp %KeyObservable keyObservable = new KeyObservable();\n",
    "%keyObservable.Add(new ScreenClearer());\n",
    "%keyObservable.Add(new CipherPrinter(\" IDENTITY\", new IdentityCipher<string>()));\n",
    "%keyObservable.Add(new CipherPrinter(\"  ROBBERS\", new SubstitutionCipher(new RobbersCipher('o'))));\n",
    "%keyObservable.Add(new CipherPrinter(\"CAESAR(2)\", new SubstitutionCipher(new CaesarCipher(2))));\n",
    "%\n",
    "%while (true)\n",
    "%{\n",
    "%  keyObservable.PressKey(Console.ReadKey().KeyChar);\n",
    "%}\n",
    "%\n",
    "%class KeyObservable\n",
    "%{\n",
    "%  List<IKeyObserver> observables = new List<IKeyObserver>();\n",
    "%\n",
    "%  public void Add (IKeyObserver observer)\n",
    "%    => observables.Add(observer);\n",
    "%\n",
    "%  public void PressKey (char key)\n",
    "%  {\n",
    "%    Notify(key);\n",
    "%  }\n",
    "%\n",
    "%  public void Notify (char key)\n",
    "%  {\n",
    "%    foreach (IKeyObserver obs in observables)\n",
    "%      obs.Update(key);\n",
    "%  }\n",
    "%}\n",
    "%\n",
    "%interface IKeyObserver\n",
    "%{\n",
    "%  void Update (char input);\n",
    "%}\n",
    "%\n",
    "%class CipherPrinter : IKeyObserver\n",
    "%{\n",
    "%  string name;\n",
    "%  ICipher<string,string> cipher;\n",
    "%  string input = \"\";\n",
    "%\n",
    "%  public CipherPrinter (string name, ICipher<string,string> cipher)\n",
    "%  {\n",
    "%    this.name = name;\n",
    "%    this.cipher = cipher;\n",
    "%  }\n",
    "%\n",
    "%  public void Update (char key)\n",
    "%  {\n",
    "%    input += key;\n",
    "%    Console.WriteLine(name + \": \" + cipher.Encode(input));\n",
    "%  }\n",
    "%}\n",
    "%\n",
    "%class ScreenClearer : IKeyObserver\n",
    "%{\n",
    "%  public void Update (char input)\n",
    "%    => Console.Clear();\n",
    "%}\n",
    "%\n",
    "%interface ICipher<in TIn, out TOut>\n",
    "%{\n",
    "%  public TOut Encode(TIn input);\n",
    "%}\n",
    "%\n",
    "%class IdentityCipher<T> : ICipher<T,T>\n",
    "%{\n",
    "%  public T Encode (T input) => input;\n",
    "%}\n",
    "%\n",
    "%class RobbersCipher : ICipher<char,string>\n",
    "%{\n",
    "%  private char vowel;\n",
    "%\n",
    "%  public RobbersCipher (char vowel)\n",
    "%    => this.vowel = vowel;\n",
    "%\n",
    "%  public string Encode (char input)\n",
    "%  {\n",
    "%    string consonants = \"BCDFGHJKLMNPQRSTVXYZ\";\n",
    "%    if (consonants.IndexOf(Char.ToUpper(input)) != -1)\n",
    "%      return $\"{input}{vowel}{input}\";\n",
    "%    else\n",
    "%      return $\"{input}\";\n",
    "%  }\n",
    "%}\n",
    "%\n",
    "%class CaesarCipher : ICipher<char,char>\n",
    "%{\n",
    "%  int steps;\n",
    "%\n",
    "%  public CaesarCipher (int steps)\n",
    "%    => this.steps = steps;\n",
    "%\n",
    "%  public char Encode (char input)\n",
    "%  {\n",
    "%    string alphabet = \"ABCDEFGHIJKLMNOPQRSTUVXYZ\";\n",
    "%    int i = alphabet.IndexOf(Char.ToUpper(input));\n",
    "%    int newIndex = (i + steps) % alphabet.Length;\n",
    "%    if (i != -1)\n",
    "%    {\n",
    "%      if (newIndex < 0)\n",
    "%        newIndex += alphabet.Length;\n",
    "%\n",
    "%      if (Char.IsLower(input))\n",
    "%        return Char.ToLower(alphabet[newIndex]);\n",
    "%      else\n",
    "%        return alphabet[newIndex];\n",
    "%    }\n",
    "%    return input;\n",
    "%  }\n",
    "%}\n",
    "%\n",
    "%class SubstitutionCipher : ICipher<string,string>\n",
    "%{\n",
    "%  ICipher<char,string> cipher;\n",
    "%\n",
    "%  public SubstitutionCipher (ICipher<char,string> cipher)\n",
    "%    => this.cipher = cipher;\n",
    "%\n",
    "%  public SubstitutionCipher (ICipher<char,char> cipher)\n",
    "%    => this.cipher = new CharToStringAdapter(cipher);\n",
    "%\n",
    "%  public string Encode (string input)\n",
    "%  {\n",
    "%    string output = \"\";\n",
    "%    foreach (char c in input)\n",
    "%      output += cipher.Encode(c);\n",
    "%    return output;\n",
    "%  }\n",
    "%}\n",
    "%\n",
    "%class CharToStringAdapter : ICipher<char,string>\n",
    "%{\n",
    "%  ICipher<char,char> cipher;\n",
    "%\n",
    "%  public CharToStringAdapter (ICipher<char,char> cipher)\n",
    "%    => this.cipher = cipher;\n",
    "%\n",
    "%  public string Encode (char input)\n",
    "%    => cipher.Encode(input).ToString();\n",
    "%}\n",
    "%```\n",
    "\n",
    "\n",
    "\n",
    "## Video\n",
    "\n",
    "<iframe width=\"560\" height=\"315\" src=\"https://www.youtube.com/embed/_BpmfnqjgzQ\" title=\"YouTube video player\" frameborder=\"0\" allow=\"accelerometer; autoplay; clipboard-write; encrypted-media; gyroscope; picture-in-picture\" allowfullscreen></iframe>\n",
    "\n",
    "\n",
    "## Exercises\n",
    "\n",
    "```{exercise}\n",
    "What is the observer pattern?\n",
    "Explain it in your own words and by using an example.\n",
    "```\n",
    "\n",
    "```{exercise}\n",
    "Come up with your own example that meaningfully uses the observer pattern and implement it in code.\n",
    "```\n",
    "\n",
    "```{exercise}\n",
    "What do we mean when we say that observer pattern replaces \"polling\" with \"pushing\", from the perspective of the observer?\n",
    "```\n",
    "\n",
    "```{exercise}\n",
    "How are the [maintainability characteristics](maintainability:characteristics) affected when using the observer pattern?\n",
    "```\n",
    "\n",
    "```{exercise-start}\n",
    ":label: ex:observer-pattern:cipher-log\n",
    "```\n",
    "Write a class called `CipherLog` that implements the interface `ICipherObserver<string,string>` from this chapter.\n",
    "The observer should log the input and output of all completed encode operations.\n",
    "You can choose to log the translations any way you like, but I would suggest a simple list of `(string,string)` tuples.\n",
    "It should also expose a method with the signature `string ToTSV()` or `string ToCSV()` that returns a [CSV](https://en.wikipedia.org/wiki/Comma-separated_values) or [TSV](https://en.wikipedia.org/wiki/Tab-separated_values) formatted string of the full log.\n",
    "%In the example below I've opted to separate columns with comma (`,`) and rows with semi-colon (`;`).\n",
    "\n",
    "The completed class should behave like in the example below."
   ]
  },
  {
   "cell_type": "code",
   "execution_count": 15,
   "id": "7c70f000",
   "metadata": {
    "tags": [
     "remove-input"
    ]
   },
   "outputs": [],
   "source": [
    "class CipherLog : ICipherObserver<string,string>\n",
    "{\n",
    "  List<(string,string)> log = new List<(string,string)>();\n",
    "  public void Update (string input, string output)\n",
    "    => log.Add((input, output));\n",
    "  public string ToTSV()\n",
    "  {\n",
    "    string output = \"INPUT\\tOUTPUT\\n\";\n",
    "    foreach (var entry in log)\n",
    "      output += $\"{entry.Item1}\\t{entry.Item2}\\n\";\n",
    "    return output;\n",
    "  }\n",
    "}"
   ]
  },
  {
   "cell_type": "code",
   "execution_count": 16,
   "id": "6ef1b036",
   "metadata": {},
   "outputs": [
    {
     "name": "stdout",
     "output_type": "stream",
     "text": [
      "INPUT\tOUTPUT\n",
      "abc\tcba\n",
      "ABC\tCBA\n",
      "123\t321\n",
      "\n"
     ]
    }
   ],
   "source": [
    "// Instantiate observable cipher.\n",
    "ObservableCipher<string,string> observable\n",
    "  = new ObservableCipher<string,string>(new ReverseCipher());\n",
    "\n",
    "// Instantiate log that will observe.\n",
    "CipherLog log = new CipherLog();\n",
    "\n",
    "// Add the log as an observable.\n",
    "observable.Add(log);\n",
    "\n",
    "// Run the encoding on the observable.\n",
    "observable.Encode(\"abc\");\n",
    "observable.Encode(\"ABC\");\n",
    "observable.Encode(\"123\");\n",
    "\n",
    "// Print the log.\n",
    "Console.WriteLine(log.ToTSV());"
   ]
  },
  {
   "cell_type": "markdown",
   "id": "5851e1a8",
   "metadata": {},
   "source": [
    "```{exercise-end}\n",
    "```\n",
    "\n",
    "\n",
    "% TODO: Observable keystream exercise. Useful when trying to understand reactive programming.\n",
    "%```{exercise-start}\n",
    "%Write an observable with an instance method that accepts keystrokes.\n",
    "%\n",
    "%Observable\n",
    "%```\n",
    "%```{code-cell} csharp\n",
    "%interface IKeyLogger\n",
    "%{\n",
    "%  void Add (ICipherDisplay display);\n",
    "%  void AddChar (char input);\n",
    "%  void Clear ();\n",
    "%}\n",
    "%\n",
    "%interface IVisualCipher {\n",
    "%  // If the update method is called Encode then this is basically a cipher?! :O\n",
    "%  string Encode (string input);\n",
    "%}\n",
    "%```\n",
    "%```{exercise-end}\n",
    "%```\n",
    "%"
   ]
  }
 ],
 "metadata": {
  "jupytext": {
   "formats": "md:myst",
   "text_representation": {
    "extension": ".md",
    "format_name": "myst"
   }
  },
  "kernelspec": {
   "display_name": "csharp",
   "language": ".net-csharp",
   "name": ".net-csharp"
  },
  "language_info": {
   "file_extension": ".cs",
   "mimetype": "text/x-csharp",
   "name": "C#",
   "pygments_lexer": "csharp",
   "version": "10.0"
  },
  "source_map": [
   11,
   55,
   60,
   68,
   73,
   80,
   85,
   92,
   98,
   103,
   109,
   119,
   141,
   146,
   148,
   152,
   155,
   159,
   161,
   189,
   194,
   201,
   213,
   221,
   246,
   252,
   264,
   268,
   279,
   468,
   484,
   502
  ]
 },
 "nbformat": 4,
 "nbformat_minor": 5
}