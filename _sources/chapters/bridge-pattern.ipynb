{
 "cells": [
  {
   "cell_type": "markdown",
   "id": "89079169",
   "metadata": {},
   "source": [
    "# Bridge pattern\n",
    "\n",
    "```{warning}\n",
    "Work in progress.\n",
    "```\n",
    "\n",
    "%TODO: Strategy pattern as it should be used.\n",
    "\n",
    "## Definition\n",
    "\n",
    "In the original [design patterns](design-patterns) book {cite:t}`gammaEtAl1995`, the intent of the bridge pattern is defined as:\n",
    "\n",
    "```{epigraph}\n",
    "Decouple an abstraction from its implementation so that the two can vary independently.\n",
    "\n",
    "-- {cite:p}`gammaEtAl1995`\n",
    "```\n",
    "\n",
    "Another way to think about the bridge pattern is as an abstraction using an abstraction, or two layers of abstraction.\n",
    "In [strategy pattern](strategy-pattern) we have one abstraction and multiple concretions.\n",
    "In bridge pattern we have one abstraction composed with another abstraction where both might have multiple concretions.\n",
    "\n",
    "% TODO: Replace image.\n",
    "```{figure} https://upload.wikimedia.org/wikipedia/commons/c/cf/Bridge_UML_class_diagram.svg\n",
    ":name: fig:bridge-pattern-original\n",
    ":height: 300px\n",
    "\n",
    "UML class diagram of bridge pattern.\n",
    "*[Image will be replaced soon]* [[Image source](https://en.wikipedia.org/wiki/File:Bridge_UML_class_diagram.svg)]\n",
    "```\n",
    "\n",
    "In its original conception, the reference to the second abstraction lies in the first abstraction.\n",
    "This is visualized in {numref}`fig:bridge-pattern-original` as the aggregation arrow between the left and the right abstraction.\n",
    "\n",
    "These days, the reference to the second abstraction is placed in concretions of the first abstraction.\n",
    "This is even more flexible than the original idea since different concretions of the first abstraction can couple to different second abstractions.\n",
    "If the first abstraction holds the reference to the second abstraction, then the second abstraction is fixed.\n",
    "If instead, the concretions of the first abstraction holds a reference to the second abstraction than all the concretions of the first abstraction can hold a reference to whatever abstraction they wish.\n",
    "\n",
    "% TODO: IS THIS ACTUALLY A MODERN CONCEPTION OR IS IT DISCUSSED IN THE ORIGINAL BOOK TOO?\n",
    "Notice where the association arrow comes from in {numref}`fig:bridge-pattern-modern`.\n",
    "In this newer interpretation I think it is useful to think of this as [strategy pattern](strategy-pattern) applied to each strategy in a case of strategy pattern.\n",
    "\n",
    "% TODO: Replace image.\n",
    "```{figure} https://upload.wikimedia.org/wikipedia/commons/f/fd/W3sDesign_Bridge_Design_Pattern_UML.jpg\n",
    ":name: fig:bridge-pattern-modern\n",
    ":height: 300px\n",
    "\n",
    "UML class diagram (left) of modern interpretation of bridge pattern using an interface rather than a class as the abstraction.\n",
    "*[Image will be replaced soon]* [[Image source](https://en.wikipedia.org/wiki/File:W3sDesign_Bridge_Design_Pattern_UML.jpg)]\n",
    "```\n",
    "\n",
    "% TODO: Separating the Platform-specific from the platform-general.\n",
    "\n",
    "\n",
    "\n",
    "## Examples\n",
    "\n",
    "\n",
    "### Cipher displays in old style"
   ]
  },
  {
   "cell_type": "code",
   "execution_count": 1,
   "id": "4240b47f",
   "metadata": {
    "tags": [
     "hide-input"
    ]
   },
   "outputs": [
    {
     "data": {
      "text/html": [
       "\r\n",
       "<div>\r\n",
       "    <div id='dotnet-interactive-this-cell-2419.Microsoft.DotNet.Interactive.Http.HttpPort' style='display: none'>\r\n",
       "        The below script needs to be able to find the current output cell; this is an easy method to get it.\r\n",
       "    </div>\r\n",
       "    <script type='text/javascript'>\r\n",
       "async function probeAddresses(probingAddresses) {\r\n",
       "    function timeout(ms, promise) {\r\n",
       "        return new Promise(function (resolve, reject) {\r\n",
       "            setTimeout(function () {\r\n",
       "                reject(new Error('timeout'))\r\n",
       "            }, ms)\r\n",
       "            promise.then(resolve, reject)\r\n",
       "        })\r\n",
       "    }\r\n",
       "\r\n",
       "    if (Array.isArray(probingAddresses)) {\r\n",
       "        for (let i = 0; i < probingAddresses.length; i++) {\r\n",
       "\r\n",
       "            let rootUrl = probingAddresses[i];\r\n",
       "\r\n",
       "            if (!rootUrl.endsWith('/')) {\r\n",
       "                rootUrl = `${rootUrl}/`;\r\n",
       "            }\r\n",
       "\r\n",
       "            try {\r\n",
       "                let response = await timeout(1000, fetch(`${rootUrl}discovery`, {\r\n",
       "                    method: 'POST',\r\n",
       "                    cache: 'no-cache',\r\n",
       "                    mode: 'cors',\r\n",
       "                    timeout: 1000,\r\n",
       "                    headers: {\r\n",
       "                        'Content-Type': 'text/plain'\r\n",
       "                    },\r\n",
       "                    body: probingAddresses[i]\r\n",
       "                }));\r\n",
       "\r\n",
       "                if (response.status == 200) {\r\n",
       "                    return rootUrl;\r\n",
       "                }\r\n",
       "            }\r\n",
       "            catch (e) { }\r\n",
       "        }\r\n",
       "    }\r\n",
       "}\r\n",
       "\r\n",
       "function loadDotnetInteractiveApi() {\r\n",
       "    probeAddresses([\"http://10.1.0.30:1024/\", \"http://127.0.0.1:1024/\"])\r\n",
       "        .then((root) => {\r\n",
       "        // use probing to find host url and api resources\r\n",
       "        // load interactive helpers and language services\r\n",
       "        let dotnetInteractiveRequire = require.config({\r\n",
       "        context: '2419.Microsoft.DotNet.Interactive.Http.HttpPort',\r\n",
       "                paths:\r\n",
       "            {\r\n",
       "                'dotnet-interactive': `${root}resources`\r\n",
       "                }\r\n",
       "        }) || require;\r\n",
       "\r\n",
       "            window.dotnetInteractiveRequire = dotnetInteractiveRequire;\r\n",
       "\r\n",
       "            window.configureRequireFromExtension = function(extensionName, extensionCacheBuster) {\r\n",
       "                let paths = {};\r\n",
       "                paths[extensionName] = `${root}extensions/${extensionName}/resources/`;\r\n",
       "                \r\n",
       "                let internalRequire = require.config({\r\n",
       "                    context: extensionCacheBuster,\r\n",
       "                    paths: paths,\r\n",
       "                    urlArgs: `cacheBuster=${extensionCacheBuster}`\r\n",
       "                    }) || require;\r\n",
       "\r\n",
       "                return internalRequire\r\n",
       "            };\r\n",
       "        \r\n",
       "            dotnetInteractiveRequire([\r\n",
       "                    'dotnet-interactive/dotnet-interactive'\r\n",
       "                ],\r\n",
       "                function (dotnet) {\r\n",
       "                    dotnet.init(window);\r\n",
       "                },\r\n",
       "                function (error) {\r\n",
       "                    console.log(error);\r\n",
       "                }\r\n",
       "            );\r\n",
       "        })\r\n",
       "        .catch(error => {console.log(error);});\r\n",
       "    }\r\n",
       "\r\n",
       "// ensure `require` is available globally\r\n",
       "if ((typeof(require) !==  typeof(Function)) || (typeof(require.config) !== typeof(Function))) {\r\n",
       "    let require_script = document.createElement('script');\r\n",
       "    require_script.setAttribute('src', 'https://cdnjs.cloudflare.com/ajax/libs/require.js/2.3.6/require.min.js');\r\n",
       "    require_script.setAttribute('type', 'text/javascript');\r\n",
       "    \r\n",
       "    \r\n",
       "    require_script.onload = function() {\r\n",
       "        loadDotnetInteractiveApi();\r\n",
       "    };\r\n",
       "\r\n",
       "    document.getElementsByTagName('head')[0].appendChild(require_script);\r\n",
       "}\r\n",
       "else {\r\n",
       "    loadDotnetInteractiveApi();\r\n",
       "}\r\n",
       "\r\n",
       "    </script>\r\n",
       "</div>"
      ]
     },
     "metadata": {},
     "output_type": "display_data"
    }
   ],
   "source": [
    "interface ICipher<in TIn, out TOut>\n",
    "{\n",
    "  TOut Encode (TIn input);\n",
    "}\n",
    "\n",
    "class ReverseCipher : ICipher<string,string>\n",
    "{\n",
    "  public string Encode (string input)\n",
    "  {\n",
    "    string output = \"\";\n",
    "    for (int i=input.Length-1; i>=0; i--)\n",
    "      output += input[i];\n",
    "    return output;\n",
    "  }\n",
    "}\n",
    "\n",
    "class CaesarCipher : ICipher<char,char>\n",
    "{\n",
    "  int steps;\n",
    "\n",
    "  public CaesarCipher (int steps)\n",
    "    => this.steps = steps;\n",
    "\n",
    "  public char Encode (char input)\n",
    "  {\n",
    "    string alphabet = \"ABCDEFGHIJKLMNOPQRSTUVXYZ\";\n",
    "    int i = alphabet.IndexOf(Char.ToUpper(input));\n",
    "    int newIndex = (i + steps) % alphabet.Length;\n",
    "    if (i != -1)\n",
    "    {\n",
    "      if (newIndex < 0)\n",
    "        newIndex += alphabet.Length;\n",
    "\n",
    "      if (Char.IsLower(input))\n",
    "        return Char.ToLower(alphabet[newIndex]);\n",
    "      else\n",
    "        return alphabet[newIndex];\n",
    "    }\n",
    "    return input;\n",
    "  }\n",
    "}\n",
    "\n",
    "class SubstitutionCipher : ICipher<string,string>\n",
    "{\n",
    "  ICipher<char,string> cipher;\n",
    "\n",
    "  public SubstitutionCipher (ICipher<char,string> cipher)\n",
    "    => this.cipher = cipher;\n",
    "\n",
    "  public SubstitutionCipher (ICipher<char,char> cipher)\n",
    "    => this.cipher = new CharToStringAdapter(cipher);\n",
    "\n",
    "  public string Encode (string input)\n",
    "  {\n",
    "    string output = \"\";\n",
    "    foreach (char c in input)\n",
    "      output += cipher.Encode(c);\n",
    "    return output;\n",
    "  }\n",
    "}\n",
    "\n",
    "class CharToStringAdapter : ICipher<char,string>\n",
    "{\n",
    "  ICipher<char,char> cipher;\n",
    "\n",
    "  public CharToStringAdapter (ICipher<char,char> cipher)\n",
    "    => this.cipher = cipher;\n",
    "\n",
    "  public string Encode (char input)\n",
    "    => cipher.Encode(input).ToString();\n",
    "}"
   ]
  },
  {
   "cell_type": "code",
   "execution_count": 2,
   "id": "11375209",
   "metadata": {},
   "outputs": [],
   "source": [
    "abstract class CipherView\n",
    "{\n",
    "  protected ICipher<string,string> cipher;\n",
    "\n",
    "  public CipherView (ICipher<string,string> cipher)\n",
    "    => this.cipher = cipher;\n",
    "\n",
    "  public abstract void Draw (string input);\n",
    "}\n",
    "\n",
    "class CompactView : CipherView\n",
    "{\n",
    "  string label;\n",
    "\n",
    "  public CompactView (ICipher<string,string> cipher, string label)\n",
    "    : base (cipher)\n",
    "      => this.label = label;\n",
    "\n",
    "  public override void Draw (string input)\n",
    "    => Console.WriteLine($\"{label}: {cipher.Encode(input)}\");\n",
    "}\n",
    "\n",
    "class VerboseView : CipherView\n",
    "{\n",
    "  string label;\n",
    "\n",
    "  public VerboseView (ICipher<string,string> cipher, string label)\n",
    "    : base (cipher)\n",
    "      => this.label = label;\n",
    "\n",
    "  public override void Draw (string input)\n",
    "    => Console.WriteLine($\"Using \\\"{label}\\\", the input \\\"{input}\\\" translates to \\\"{cipher.Encode(input)}\\\".\");\n",
    "}"
   ]
  },
  {
   "cell_type": "markdown",
   "id": "373f2312",
   "metadata": {},
   "source": [
    "Now we can combine any view with any cipher to create a displayable cipher.\n",
    "Since all views share the same supertype we can also treat them interchangeably.\n",
    "In other words, we have two layers of abstraction.\n",
    "We can combine any view with any cipher and then pass that object around without whoever is to use it needing to know what view and cipher we've got."
   ]
  },
  {
   "cell_type": "code",
   "execution_count": 3,
   "id": "58673775",
   "metadata": {},
   "outputs": [],
   "source": [
    "ICipher<string,string> reverse = new ReverseCipher();\n",
    "ICipher<string,string> caesar1 = new SubstitutionCipher(new CaesarCipher(1));\n",
    "\n",
    "CipherView compactReverse = new CompactView(reverse, \"Reverse\");\n",
    "CipherView compactCaesar1 = new CompactView(caesar1, \"Caesar (steps = 1)\");\n",
    "CipherView verboseReverse = new VerboseView(reverse, \"Reverse\");\n",
    "CipherView verboseCaesar1 = new VerboseView(caesar1, \"Caesar (steps = 1)\");"
   ]
  },
  {
   "cell_type": "code",
   "execution_count": 4,
   "id": "ed1d2331",
   "metadata": {},
   "outputs": [
    {
     "name": "stdout",
     "output_type": "stream",
     "text": [
      "Reverse: dlrow olleH\n"
     ]
    }
   ],
   "source": [
    "compactReverse.Draw(\"Hello world\");"
   ]
  },
  {
   "cell_type": "code",
   "execution_count": 5,
   "id": "eeaef1cb",
   "metadata": {},
   "outputs": [
    {
     "name": "stdout",
     "output_type": "stream",
     "text": [
      "Using \"Caesar (steps = 1)\", the input \"Hello world\" translates to \"Ifmmp wpsme\".\n"
     ]
    }
   ],
   "source": [
    "verboseCaesar1.Draw(\"Hello world\");"
   ]
  },
  {
   "cell_type": "markdown",
   "id": "ce8f9962",
   "metadata": {},
   "source": [
    "### Cipher displays in new style"
   ]
  },
  {
   "cell_type": "code",
   "execution_count": 6,
   "id": "9fbbb342",
   "metadata": {},
   "outputs": [],
   "source": [
    "interface ICipherView\n",
    "{\n",
    "  void Draw (string input);\n",
    "}\n",
    "\n",
    "class CompactView : ICipherView\n",
    "{\n",
    "  ICipher<string,string> cipher;\n",
    "  string label;\n",
    "\n",
    "  public CompactView (ICipher<string,string> cipher, string label)\n",
    "  {\n",
    "    this.cipher = cipher;\n",
    "    this.label = label;\n",
    "  }\n",
    "\n",
    "  public void Draw (string input)\n",
    "    => Console.WriteLine($\"{label}: {cipher.Encode(input)}\");\n",
    "}\n",
    "\n",
    "class VerboseView : ICipherView\n",
    "{\n",
    "  ICipher<string,string> cipher;\n",
    "  string label;\n",
    "\n",
    "  public VerboseView (ICipher<string,string> cipher, string label)\n",
    "  {\n",
    "    this.cipher = cipher;\n",
    "    this.label = label;\n",
    "  }\n",
    "\n",
    "  public void Draw (string input)\n",
    "    => Console.WriteLine($\"Using \\\"{label}\\\", the input \\\"{input}\\\" translates to \\\"{cipher.Encode(input)}\\\".\");\n",
    "}"
   ]
  },
  {
   "cell_type": "markdown",
   "id": "ff3e99c0",
   "metadata": {},
   "source": [
    "The added benefit of this approach is that the first abstraction (`ICipherView`) isn't at all coupled to the idea of `ICipher`.\n",
    "Consequently, implementations of the interface don't actually need to compose something of type `ICipher<string,string>` or anything at all for that matter.\n",
    "The implementations are free to compose whatever other combination of objects they wish.\n",
    "\n",
    "So, the interface `ICipherView` is more general than the abstract class `CipherView` from the last example.\n",
    "In fact, this interface should perhaps simply be called `IView` instead.\n",
    "\n",
    "Of course, we can still combine any view with any cipher and pass the result around without users needing to worry about what concrete view and cipher has been used."
   ]
  },
  {
   "cell_type": "code",
   "execution_count": 7,
   "id": "1ce04a37",
   "metadata": {},
   "outputs": [],
   "source": [
    "ICipher<string,string> reverse = new ReverseCipher();\n",
    "ICipher<string,string> caesar1 = new SubstitutionCipher(new CaesarCipher(1));\n",
    "\n",
    "ICipherView compactReverse = new CompactView(reverse, \"Reverse\");\n",
    "ICipherView compactCaesar1 = new CompactView(caesar1, \"Caesar (steps = 1)\");\n",
    "ICipherView verboseReverse = new VerboseView(reverse, \"Reverse\");\n",
    "ICipherView verboseCaesar1 = new VerboseView(caesar1, \"Caesar (steps = 1)\");"
   ]
  },
  {
   "cell_type": "code",
   "execution_count": 8,
   "id": "5955f343",
   "metadata": {},
   "outputs": [
    {
     "name": "stdout",
     "output_type": "stream",
     "text": [
      "Reverse: dlrow olleH\n"
     ]
    }
   ],
   "source": [
    "compactReverse.Draw(\"Hello world\");"
   ]
  },
  {
   "cell_type": "code",
   "execution_count": 9,
   "id": "6a0be31c",
   "metadata": {},
   "outputs": [
    {
     "name": "stdout",
     "output_type": "stream",
     "text": [
      "Using \"Caesar (steps = 1)\", the input \"Hello world\" translates to \"Ifmmp wpsme\".\n"
     ]
    }
   ],
   "source": [
    "verboseCaesar1.Draw(\"Hello world\");"
   ]
  },
  {
   "cell_type": "markdown",
   "id": "cbd235de",
   "metadata": {},
   "source": [
    "## Video\n",
    "\n",
    "<iframe width=\"560\" height=\"315\" src=\"https://www.youtube.com/embed/F1YQ7YRjttI\" title=\"YouTube video player\" frameborder=\"0\" allow=\"accelerometer; autoplay; clipboard-write; encrypted-media; gyroscope; picture-in-picture\" allowfullscreen></iframe>\n",
    "\n",
    "\n",
    "## Exercises\n",
    "\n",
    "```{exercise}\n",
    "What is the bridge pattern? Explain it in your own words and by using an example.\n",
    "```\n",
    "\n",
    "```{exercise}\n",
    "Come up with your own example use case for bridge pattern and implement it in code.\n",
    "```\n",
    "\n",
    "```{exercise}\n",
    "In this chapter we have discussed two \"flavors\" of the bridge pattern.\n",
    "What is the difference between the two and what effects does this difference have on the maintainability of the resulting software?\n",
    "Use the [maintainability characteristics](maintainability:characteristics) terminology from the maintainability chapter.\n",
    "```\n",
    "\n",
    "```{exercise}\n",
    "We have described the bridge pattern as making use of two layers of abstraction.\n",
    "Is it possible to have a number of layers of abstraction?\n",
    "Why would it be useful to have more layers of abstraction?\n",
    "\n",
    "Hint: `new A(new B(new C()))`\n",
    "```\n",
    "\n",
    "```{exercise-start}\n",
    "```\n",
    "Write another class that implements the interface `ICipherView` or inherits from the abstract class `CipherView` from the examples in this chapter.\n",
    "Let's call the new class `ArrowView`.\n",
    "It should behave like this:"
   ]
  },
  {
   "cell_type": "code",
   "execution_count": 10,
   "id": "d25f7fae",
   "metadata": {
    "tags": [
     "remove-input"
    ]
   },
   "outputs": [],
   "source": [
    "class ArrowView : ICipherView\n",
    "{\n",
    "  ICipher<string,string> cipher;\n",
    "  public ArrowView ( ICipher<string,string> cipher)\n",
    "    => this.cipher = cipher;\n",
    "  public void Draw (string input)\n",
    "    => Console.WriteLine($\"{input} => {cipher.Encode(input)}\");\n",
    "}"
   ]
  },
  {
   "cell_type": "code",
   "execution_count": 11,
   "id": "7fa98936",
   "metadata": {},
   "outputs": [
    {
     "name": "stdout",
     "output_type": "stream",
     "text": [
      "Secret message => egassem terceS\n"
     ]
    },
    {
     "name": "stdout",
     "output_type": "stream",
     "text": [
      "Secret message => Ugetgv oguucig\n"
     ]
    }
   ],
   "source": [
    "ArrowView reverseView = new ArrowView(new ReverseCipher());\n",
    "ArrowView caesar2View = new ArrowView(new SubstitutionCipher(new CaesarCipher(2)));\n",
    "reverseView.Draw(\"Secret message\");\n",
    "caesar2View.Draw(\"Secret message\");"
   ]
  },
  {
   "cell_type": "markdown",
   "id": "33e4bc56",
   "metadata": {},
   "source": [
    "```{exercise-end}\n",
    "```"
   ]
  }
 ],
 "metadata": {
  "jupytext": {
   "formats": "md:myst",
   "text_representation": {
    "extension": ".md",
    "format_name": "myst"
   }
  },
  "kernelspec": {
   "display_name": "csharp",
   "language": ".net-csharp",
   "name": ".net-csharp"
  },
  "language_info": {
   "file_extension": ".cs",
   "mimetype": "text/x-csharp",
   "name": "C#",
   "pygments_lexer": "csharp",
   "version": "10.0"
  },
  "source_map": [
   11,
   74,
   149,
   183,
   190,
   200,
   204,
   206,
   212,
   247,
   258,
   268,
   272,
   274,
   312,
   323,
   328
  ]
 },
 "nbformat": 4,
 "nbformat_minor": 5
}