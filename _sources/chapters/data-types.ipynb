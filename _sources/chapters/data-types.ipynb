{
 "cells": [
  {
   "cell_type": "markdown",
   "id": "6de0f394",
   "metadata": {},
   "source": [
    "# Data types\n",
    "\n",
    "## Motivation\n",
    "\n",
    "As we saw in the chapter on [variables](variables), variables have types.\n",
    "As we will see in the chapters on [methods](methods) all method parameters have types and all methods have a return type (including methods that return nothing).\n",
    "Methods correspond to the operations that we can perform on types.\n",
    "As we will see in the chapter on [classes](classes) and [structure types](structure-types), these are used to define custom data types that can be used in variables or methods.\n",
    "In this chapter we dicsuss types in general, and give examples using variables.\n",
    "\n",
    "## Definition\n",
    "\n",
    "A data type defines a set of possible values and a set of operations we can perform upon the values.\n",
    "Let's talk about what it means to define a set of values and a set of operations one by one.\n",
    "\n",
    "\n",
    "### Values\n",
    "\n",
    "As you may recall from the chapter on [sets](sets), data types correspond to mathematical sets.\n",
    "What we mean with this is that whenever we have a data type we can just as well use set theory to reason about that data type and its relation to other data types.\n",
    "\n",
    "Let's start with something simple like the type `bool`.\n",
    "\n",
    "```{note}\n",
    "`bool` is actually an alias for `Boolean` which is the actual name of the type.\n",
    "The alias is commonly used since it means that we don't explicitly have to have access to the `System` namespace.\n",
    "More on this in the chapter on [namespaces](namespaces).\n",
    "```\n",
    "\n",
    "Think back to our discussion around the set $\\mathit{Boolean}$ in the chapter on [Sets](sets).\n",
    "The set $\\mathit{Boolean}$ has two elements: $\\mathit{True}$ and $\\mathit{False}$.\n",
    "The set $\\mathit{Boolean}$ corresponds to the data type `bool`.\n",
    "The possible values of `bool` is `true` and `false`.\n",
    "\n",
    "% TODO: Image\n",
    "%``{figure} https://via.placeholder.com/700x200?text=Image+coming+soon\n",
    "%:name: fig:bool\n",
    "%A `bool` is either `true` or `false`.\n",
    "%``\n",
    "\n",
    "Ok, so `bool` is a type with a finite set of values.\n",
    "Can you think of a set that's infinite but that still corresponds to a data type?\n",
    "How about the set of all positive and negative integers?\n",
    "In mathematics we usually denote this set with the symbol $\\mathbb{Z}$ and we could define it like this.\n",
    "\n",
    "$$\n",
    "\\mathbb{Z} = \\{ \\dotsc \\enspace , \\enspace -2 \\enspace , \\enspace -1 \\enspace , \\enspace 0 \\enspace , \\enspace 1 \\enspace , \\enspace 2 \\enspace , \\enspace \\dotsc \\}\n",
    "$$\n",
    "\n",
    "This set does not however correspond to the data type `int`, or more specifically `Int32`.\n",
    "Why?\n",
    "Because computer integers are not actually infinite.\n",
    "There's a maximum number and a minimum number.\n",
    "If we need to represent a larger or smaller number then we need a different data type.\n",
    "\n",
    "```{note}\n",
    "Remember that `int` is an alias for `Int32`.\n",
    "```\n",
    "\n",
    "To define a set that corresponds to the data type `int` we must first figure out what the minimum and maximum values are.\n",
    "We do this by checking two [static](static) properties of the `int` [class](classes)."
   ]
  },
  {
   "cell_type": "code",
   "execution_count": 1,
   "id": "ff9d9ca8",
   "metadata": {},
   "outputs": [
    {
     "data": {
      "text/html": [
       "\r\n",
       "<div>\r\n",
       "    <div id='dotnet-interactive-this-cell-2757.Microsoft.DotNet.Interactive.Http.HttpPort' style='display: none'>\r\n",
       "        The below script needs to be able to find the current output cell; this is an easy method to get it.\r\n",
       "    </div>\r\n",
       "    <script type='text/javascript'>\r\n",
       "async function probeAddresses(probingAddresses) {\r\n",
       "    function timeout(ms, promise) {\r\n",
       "        return new Promise(function (resolve, reject) {\r\n",
       "            setTimeout(function () {\r\n",
       "                reject(new Error('timeout'))\r\n",
       "            }, ms)\r\n",
       "            promise.then(resolve, reject)\r\n",
       "        })\r\n",
       "    }\r\n",
       "\r\n",
       "    if (Array.isArray(probingAddresses)) {\r\n",
       "        for (let i = 0; i < probingAddresses.length; i++) {\r\n",
       "\r\n",
       "            let rootUrl = probingAddresses[i];\r\n",
       "\r\n",
       "            if (!rootUrl.endsWith('/')) {\r\n",
       "                rootUrl = `${rootUrl}/`;\r\n",
       "            }\r\n",
       "\r\n",
       "            try {\r\n",
       "                let response = await timeout(1000, fetch(`${rootUrl}discovery`, {\r\n",
       "                    method: 'POST',\r\n",
       "                    cache: 'no-cache',\r\n",
       "                    mode: 'cors',\r\n",
       "                    timeout: 1000,\r\n",
       "                    headers: {\r\n",
       "                        'Content-Type': 'text/plain'\r\n",
       "                    },\r\n",
       "                    body: probingAddresses[i]\r\n",
       "                }));\r\n",
       "\r\n",
       "                if (response.status == 200) {\r\n",
       "                    return rootUrl;\r\n",
       "                }\r\n",
       "            }\r\n",
       "            catch (e) { }\r\n",
       "        }\r\n",
       "    }\r\n",
       "}\r\n",
       "\r\n",
       "function loadDotnetInteractiveApi() {\r\n",
       "    probeAddresses([\"http://10.1.0.131:1024/\", \"http://127.0.0.1:1024/\"])\r\n",
       "        .then((root) => {\r\n",
       "        // use probing to find host url and api resources\r\n",
       "        // load interactive helpers and language services\r\n",
       "        let dotnetInteractiveRequire = require.config({\r\n",
       "        context: '2757.Microsoft.DotNet.Interactive.Http.HttpPort',\r\n",
       "                paths:\r\n",
       "            {\r\n",
       "                'dotnet-interactive': `${root}resources`\r\n",
       "                }\r\n",
       "        }) || require;\r\n",
       "\r\n",
       "            window.dotnetInteractiveRequire = dotnetInteractiveRequire;\r\n",
       "\r\n",
       "            window.configureRequireFromExtension = function(extensionName, extensionCacheBuster) {\r\n",
       "                let paths = {};\r\n",
       "                paths[extensionName] = `${root}extensions/${extensionName}/resources/`;\r\n",
       "                \r\n",
       "                let internalRequire = require.config({\r\n",
       "                    context: extensionCacheBuster,\r\n",
       "                    paths: paths,\r\n",
       "                    urlArgs: `cacheBuster=${extensionCacheBuster}`\r\n",
       "                    }) || require;\r\n",
       "\r\n",
       "                return internalRequire\r\n",
       "            };\r\n",
       "        \r\n",
       "            dotnetInteractiveRequire([\r\n",
       "                    'dotnet-interactive/dotnet-interactive'\r\n",
       "                ],\r\n",
       "                function (dotnet) {\r\n",
       "                    dotnet.init(window);\r\n",
       "                },\r\n",
       "                function (error) {\r\n",
       "                    console.log(error);\r\n",
       "                }\r\n",
       "            );\r\n",
       "        })\r\n",
       "        .catch(error => {console.log(error);});\r\n",
       "    }\r\n",
       "\r\n",
       "// ensure `require` is available globally\r\n",
       "if ((typeof(require) !==  typeof(Function)) || (typeof(require.config) !== typeof(Function))) {\r\n",
       "    let require_script = document.createElement('script');\r\n",
       "    require_script.setAttribute('src', 'https://cdnjs.cloudflare.com/ajax/libs/require.js/2.3.6/require.min.js');\r\n",
       "    require_script.setAttribute('type', 'text/javascript');\r\n",
       "    \r\n",
       "    \r\n",
       "    require_script.onload = function() {\r\n",
       "        loadDotnetInteractiveApi();\r\n",
       "    };\r\n",
       "\r\n",
       "    document.getElementsByTagName('head')[0].appendChild(require_script);\r\n",
       "}\r\n",
       "else {\r\n",
       "    loadDotnetInteractiveApi();\r\n",
       "}\r\n",
       "\r\n",
       "    </script>\r\n",
       "</div>"
      ]
     },
     "metadata": {},
     "output_type": "display_data"
    },
    {
     "name": "stdout",
     "output_type": "stream",
     "text": [
      "-2147483648\n"
     ]
    }
   ],
   "source": [
    "Console.WriteLine(int.MinValue);"
   ]
  },
  {
   "cell_type": "code",
   "execution_count": 2,
   "id": "b8a2ad26",
   "metadata": {},
   "outputs": [
    {
     "name": "stdout",
     "output_type": "stream",
     "text": [
      "2147483647\n"
     ]
    }
   ],
   "source": [
    "Console.WriteLine(int.MaxValue);"
   ]
  },
  {
   "cell_type": "markdown",
   "id": "192b4edb",
   "metadata": {},
   "source": [
    "Now that we have our limits we can define the set that corresponds to the type `int`.\n",
    "\n",
    "$$\n",
    "\\mathit{Int} = \\{ -2147483648, \\enspace \\dotsc \\enspace -1 \\enspace , \\enspace 0 \\enspace , \\enspace 1 \\enspace , \\enspace \\dotsc \\enspace 2147483647 \\}\n",
    "$$\n",
    "\n",
    "\n",
    "Sets can be used to describe both compile-time types and run-time types.\n",
    "\n",
    "But, what about `null` you might ask.\n",
    "Well, the short answer is that `int` is not \"nullable\" which means that its type does not contain the value `null`.\n",
    "The long answer is that we'll deal with `null` in the chapter on [nothingness](nothingness).\n",
    "\n",
    "\n",
    "\n",
    "#### Literal values\n",
    "\n",
    "In the chapter on [Values](values) we saw how `\"Hello world\"`, `42`, and `3.14` are all examples of literal values.\n",
    "But what types of values are these?\n",
    "Let's invoke the `GetType` method to find what the run-time type such objects are."
   ]
  },
  {
   "cell_type": "code",
   "execution_count": 3,
   "id": "a18b326f",
   "metadata": {},
   "outputs": [
    {
     "name": "stdout",
     "output_type": "stream",
     "text": [
      "System.String\n"
     ]
    }
   ],
   "source": [
    "Console.WriteLine( \"Hello world\".GetType() );"
   ]
  },
  {
   "cell_type": "markdown",
   "id": "bb91b17a",
   "metadata": {},
   "source": [
    "The value `\"Hello world\"` is a `String`.\n",
    "Let's try with a number."
   ]
  },
  {
   "cell_type": "code",
   "execution_count": 4,
   "id": "42e5e91f",
   "metadata": {},
   "outputs": [
    {
     "name": "stdout",
     "output_type": "stream",
     "text": [
      "System.Int32\n"
     ]
    }
   ],
   "source": [
    "Console.WriteLine( 42.GetType() );"
   ]
  },
  {
   "cell_type": "markdown",
   "id": "c9400a6a",
   "metadata": {},
   "source": [
    "The value `42` is an integer, more specifically of the type `Int32`.\n",
    "Remember that `int` is an alias for `Int32`.\n",
    "Let's try with a decimal number."
   ]
  },
  {
   "cell_type": "code",
   "execution_count": 5,
   "id": "c044f976",
   "metadata": {},
   "outputs": [
    {
     "name": "stdout",
     "output_type": "stream",
     "text": [
      "System.Double\n"
     ]
    }
   ],
   "source": [
    "Console.WriteLine( (3.14).GetType() );"
   ]
  },
  {
   "cell_type": "markdown",
   "id": "8875d627",
   "metadata": {},
   "source": [
    "Ok so a decimal number literal is of type `Double`.\n",
    "\n",
    "The method `GetType()` is an [instance method](instance-methods) that we can [invoke](static-methods) on [objects](objects) to see what run-time type they have.\n",
    "A lot of new words here.\n",
    "Don't worry, we'll explain everything in due time.\n",
    "For now, just note that it is possible to check what the run-time type is of any object by invoking the `GetType()` method.\n",
    "More on both instance methods and objects in future chapters.\n",
    "We invoke the method using something known as \"dot notation\" which we also will discuss later."
   ]
  },
  {
   "cell_type": "code",
   "execution_count": 6,
   "id": "8c7eef4a",
   "metadata": {},
   "outputs": [
    {
     "name": "stdout",
     "output_type": "stream",
     "text": [
      "System.String\n"
     ]
    }
   ],
   "source": [
    "Console.WriteLine( \"A\".GetType()  );"
   ]
  },
  {
   "cell_type": "code",
   "execution_count": 7,
   "id": "bb51de63",
   "metadata": {},
   "outputs": [
    {
     "name": "stdout",
     "output_type": "stream",
     "text": [
      "System.Int32\n"
     ]
    }
   ],
   "source": [
    "Console.WriteLine( 420.GetType()  );"
   ]
  },
  {
   "cell_type": "code",
   "execution_count": 8,
   "id": "77b7faca",
   "metadata": {},
   "outputs": [
    {
     "name": "stdout",
     "output_type": "stream",
     "text": [
      "System.Double\n"
     ]
    }
   ],
   "source": [
    "Console.WriteLine( 3.14.GetType() );"
   ]
  },
  {
   "cell_type": "markdown",
   "id": "82f5922b",
   "metadata": {},
   "source": [
    "When calling `GetType` on `\"hello world\"`, `42`, and `3.14` we can see that their types are `String`, `Int32`, and `Double`, respectively.\n",
    "\n",
    "\n",
    "```{note}\n",
    "Note that there are aliases for a bunch of the basic types of C#.\n",
    "This mean that the type `string` is the same type as `String`.\n",
    "\n",
    "| Alias    | Type      |\n",
    "| :--      | :--       |\n",
    "| `string` | `String`  |\n",
    "| `int`    | `Int32`   |\n",
    "| `bool`   | `Boolean` |\n",
    "| `double` | `Double`  |\n",
    "\n",
    "More on aliases in the chapters on [data types](data-types) and [namespaces](namespaces).\n",
    "\n",
    "You can find a table of more aliases [in the documentation](https://docs.microsoft.com/en-us/dotnet/csharp/language-reference/builtin-types/built-in-types).\n",
    "The aliases are, [according to the documentation](https://docs.microsoft.com/en-us/dotnet/csharp/programming-guide/strings/), preferred since we don't have to explicitly include the namespace `System` to have access to them.\n",
    "```\n",
    "\n",
    "\n",
    "%We'll talk more about types and methods when we get to the chapters on [methods](methods) but here's a quick note.\n",
    "%Notice how we've used the method `Console.WriteLine` a lot without ever really talking about it more.\n",
    "%We're still not ready to talk about it fully because we first need to understand [static methods](static-methods), [namespaces](namespaces), and [overloading](overloading).\n",
    "%What we can say at this point however is that `WriteLine` expects that you pass it a `String`.\n",
    "%If you pass it a `String` then it will print that string to the screen.\n",
    "%`WriteLine` can however also handle a bunch of other things since we can print booleans, integers, and so forth.\n",
    "%But we will explain how this works in the chapter on [overloading](overloading).\n",
    "\n",
    "In the chapter on [variables](variables) we showed how you can declare and initialize a variable by either explicitly stating the data type of the variable or by using the keyword `var` to let the compiler infer the type.\n",
    "Compare the following two statements."
   ]
  },
  {
   "cell_type": "code",
   "execution_count": 9,
   "id": "bf40b7b9",
   "metadata": {},
   "outputs": [],
   "source": [
    "int explicitly = 1;\n",
    "var implicitly = 2;"
   ]
  },
  {
   "cell_type": "markdown",
   "id": "4a796c9c",
   "metadata": {},
   "source": [
    "In the declaration of the first variable, which we called `explicitly`, we explicitly state that the data type of the variable is `int`.\n",
    "In the declaration of the second variable, which we called `implicitly`, we use the `var` keyword to let the compiler *infer* the data type.\n",
    "Both variables will be of type `int`.\n",
    "Or actually, they will both be of the type `Int32` since, as you might remember, `int` is just an alias for the type `Int32`."
   ]
  },
  {
   "cell_type": "code",
   "execution_count": 10,
   "id": "c3f53499",
   "metadata": {},
   "outputs": [
    {
     "name": "stdout",
     "output_type": "stream",
     "text": [
      "System.Int32\n"
     ]
    }
   ],
   "source": [
    "Console.WriteLine( explicitly.GetType() );"
   ]
  },
  {
   "cell_type": "code",
   "execution_count": 11,
   "id": "f211d4d0",
   "metadata": {},
   "outputs": [
    {
     "name": "stdout",
     "output_type": "stream",
     "text": [
      "System.Int32\n"
     ]
    }
   ],
   "source": [
    "Console.WriteLine( implicitly.GetType() );"
   ]
  },
  {
   "cell_type": "markdown",
   "id": "2a63284e",
   "metadata": {},
   "source": [
    "Notice how the word `System` and a dot (`.`) is prefixed before the data type when it's printed.\n",
    "This is because the data type in question is defined in the \"namespace\" called `System`.\n",
    "More on this in the chapter on [Namespaces](namespaces).\n",
    "\n",
    "The `GetType()` method is really quite useful when we're learning C# since we can ask any object what it's run-time type is.\n",
    "Since all expressions evaluate to objects we can also wrap any expression in parenthases and then ask it what it's type is."
   ]
  },
  {
   "cell_type": "code",
   "execution_count": 12,
   "id": "ddc67aad",
   "metadata": {},
   "outputs": [
    {
     "name": "stdout",
     "output_type": "stream",
     "text": [
      "System.Int32\n"
     ]
    }
   ],
   "source": [
    "Console.WriteLine( (10 + 10 * 200).GetType() );"
   ]
  },
  {
   "cell_type": "code",
   "execution_count": 13,
   "id": "1c481686",
   "metadata": {},
   "outputs": [
    {
     "name": "stdout",
     "output_type": "stream",
     "text": [
      "System.Boolean\n"
     ]
    }
   ],
   "source": [
    "Console.WriteLine( (true || false).GetType() );"
   ]
  },
  {
   "cell_type": "markdown",
   "id": "0c24f883",
   "metadata": {},
   "source": [
    "(run-time-and-compile-time-types)=\n",
    "#### Run-time and compile-time types\n",
    "\n",
    "% TODO: Clarify this more based on: https://learn.microsoft.com/en-us/dotnet/csharp/fundamentals/types/#compile-time-type-and-run-time-type\n",
    "\n",
    "Remember how we've previously distinguished between the left-hand side and the right-hand side?\n",
    "We've learned that variables are on the left and values are on the right.\n",
    "Well, the data type on the left-hand side is referred to as the compile-time type, while the data type on the right is referred to as the run-time type.\n",
    "For now you can think of it as that the type on the right determines what type a value actually is of while the type on the left determines what what we're \"treating\" the type as.\n",
    "\n",
    "To understand this business of the type on the left and the type on the right being different we first have to understand [subtype polymorphism](subtype-polymorphism) which is a topic for a much later chapter.\n",
    "But for now you can think of it this way:\n",
    "Types can form a subtype hierarchy or inheritance hierarchy where a type can be \"treated\" as any of the supertypes or parent types that it inherits from.\n",
    "When we say \"treat something of type $X$ as something of type $Y$\" we mean that the run-time type is $X$ but the compile-time type is $Y$.\n",
    "\n",
    "This is all premature, but if you're really wanting an example then here's one.\n",
    "All objects in C# inherit from the type `object` which means that they can be \"treated as\" being of type `object` instead of being treated as the type they actually are.\n",
    "One such object is the type `string`.\n",
    "Consider the code below:"
   ]
  },
  {
   "cell_type": "code",
   "execution_count": 14,
   "id": "a81a3ed2",
   "metadata": {},
   "outputs": [],
   "source": [
    "string message1 = \"This is a string.\";\n",
    "object message2 = \"This is a string.\";"
   ]
  },
  {
   "cell_type": "markdown",
   "id": "e881219f",
   "metadata": {},
   "source": [
    "The run-time type of both variables is `string` but the compile-time type of the first line is `string` while the second is `object`.\n",
    "We can visually verify that this statement is true in terms of the compile-time type being different since we can see that we've used `string` on the left-hand side in the first case and `object` in the second, but how do we verify the run-time type?\n",
    "Well, for one, it's the same literal in both cases.\n",
    "But if we're not satisfied with that answer, we can invoke the instance method `GetType` to check that the run-time type of both variables indeed is `string`."
   ]
  },
  {
   "cell_type": "code",
   "execution_count": 15,
   "id": "11b53c61",
   "metadata": {},
   "outputs": [
    {
     "name": "stdout",
     "output_type": "stream",
     "text": [
      "System.String\n"
     ]
    },
    {
     "name": "stdout",
     "output_type": "stream",
     "text": [
      "System.String\n"
     ]
    }
   ],
   "source": [
    "Console.WriteLine(message1.GetType());\n",
    "Console.WriteLine(message2.GetType());"
   ]
  },
  {
   "cell_type": "markdown",
   "id": "1d6f7abd",
   "metadata": {},
   "source": [
    "But we'll get back to this much later so don't worry if it's confusing.\n",
    "\n",
    "In this chapter we will only see explicit data types on the left and literals or other variables on the right.\n",
    "So we don't explicitly specify the right-hand types, or the run-time types, in this chapter.\n",
    "When we get to the chapter on [classes](classes) you will start to see explicit types on the right-hand side.\n",
    "When we get to the chapter on [subtype polymorphism](subtype-polymorphism) you will start to see how the types on the right and left doesn't necessarily have to be the same.\n",
    "\n",
    "Simplistically, the compile-time type is used for all actions at compile-time, while the run-time type is used for all actions at run-time.\n",
    "\n",
    "\n",
    "(operations)=\n",
    "### Operations\n",
    "\n",
    "We said that a data type defines a set of values and a set of allowed operations that can be performed on these values.\n",
    "Why operations?\n",
    "Because a data type is not useful if there's nothing we can do with it.\n",
    "Think about it.\n",
    "What's the point of having a value that we can't do anything with?\n",
    "\n",
    "There are a few different ways of defining operations in C#.\n",
    "[Local functions](local-functions) are invoked by simply issuing the name of the function, [static](static-methods) and [instance](instance-methods) methods are invoked using dot notation, and finally we have operators like for example arithmetic addition.\n",
    "Which syntax we use to invoke the method depends on how the operation is defined.\n",
    "\n",
    "%If it's been defined as a (static or instance) method then we use dot notation.\n",
    "%If it's been defined as an operator then we use operator notation.\n",
    "%If it's a local function, then we simply issue the name of the method.\n",
    "\n",
    "%We'll more about dot notation in the chapters on [static](static-methods) and [instance methods](instance-methods) while we'll talk more about operators in the chapter on [operators](operators).\n",
    "%Perhaps confusingly, both dot notation and operators is used in what's known as [expressions](expressions) but we'll talk more about that in it's own chapter.\n",
    "\n",
    "It's premature to talk about all of this since we yet to talk about methods in detail\n",
    "So we'll talk more about all these different kinds in their own chapters.\n",
    "However I want to make two points before we leave this chapter.\n",
    "First I want to exemplify what it means when we say that types support operations.\n",
    "Second, I want to emphasize that we can also always think about an operation itself as having a data type.\n",
    "Again, we'll talk much more about this later so don't get bogged down by too many details.\n",
    "\n",
    "\n",
    "%#### Operators\n",
    "\n",
    "Let's take operators as an example.\n",
    "In this chapter we have used values in arithmetic and logical expressions.\n",
    "More specifically we've seen that the type `int` supports the arithmetic addition (`+`) and multiplication (` * `) operators.\n",
    "We've also seen that the type `bool` supports the logical or-operator known as logical disjunction (`||`).\n",
    "\n",
    "This means that the data type `int` supports arithmetic addition and multiplication, while `bool` supports logical disjunction.\n",
    "Of course, these types support lots of other operations but let's talk about these.\n",
    "\n",
    "This is what we mean when we say that a data type supports an operation.\n",
    "We can call the operation and the operation somehow acts upon values of the type.\n",
    "\n",
    "(type-signatures)=\n",
    "What about this idea that an operation itself can have a type?\n",
    "Well, the type of arithmetic addition could be written as:\n",
    "\n",
    "```\n",
    "(+) :: (int, int) -> int\n",
    "```\n",
    "\n",
    "```{warning}\n",
    "This is not C# syntax.\n",
    "It is however a fairly common language-agnostic syntax for reasoning about types.\n",
    "% TODO: Reintroduce below?\n",
    "%When we are defining type signatures like this, we are using a language-agnostic syntax which is also used by popular standards such as e.g. the [Fantasy Land Specification](https://github.com/fantasyland/fantasy-land).\n",
    "%We'll talk more about this syntax in the chapter on [type signatures](type-signatures).\n",
    "%\n",
    "%In actual C# code we use what's known as [method signatures](static-methods).\n",
    "%Type signatures are however expressed at a higher level of abstraction, and thus ought to be easier to read and understand, which is why I prefer to use them in this book.\n",
    "%You'll find a comparison between type signatures and method signatures in the chapter on [type signatures](type-signatures).\n",
    "```\n",
    "\n",
    "Let's take an even simpler example.\n",
    "Assume that we've defined an operation called `inc` that takes integers as input and gives us an integer as output.\n",
    "If we pass it `1` we get `2`, if we pass it `2` we get `3`, and so forth.\n",
    "We would say that the type of this operation is:\n",
    "\n",
    "```\n",
    "inc :: int -> int\n",
    "```\n",
    "\n",
    "Since this operation takes a single input argument, we can visualize it as a function that maps from the set of integers to the set of integers.\n",
    "%See {numref}`fig:inc-type`.\n",
    "\n",
    "%% TODO: Add figure.\n",
    "%```{figure} https://via.placeholder.com/700x200?text=Image+coming+soon\n",
    "%:name: fig:inc-type\n",
    "%\n",
    "%Visualization of the type of integer incrementation.\n",
    "%```\n",
    "\n",
    "We could also visualize the type of arithmetic addition, but since it takes two integers as input we would have to draw it as a a mapping between the set of ordered integer pairs to the set of integers.\n",
    "%See {numref}`fig:addition-type`.\n",
    "\n",
    "%% TODO: Add figure.\n",
    "%```{figure} https://via.placeholder.com/700x200?text=Image+coming+soon\n",
    "%:name: fig:addition-type\n",
    "%\n",
    "%Visualization of the type of arithmetic addition.\n",
    "%```\n",
    "\n",
    "We would read this as `+` is an operator that when given an `int` and an `int` returns an `int`.\n",
    "Of course the arithmetic addition operator is not only defined for whole numbers (integers) but also for `float`, `decimal`, and so forth but let's keep it simple for now.\n",
    "Interestingly the addition operator is also defined for strings to implement something known as \"string concatenation\" but more on this in the chapter on [operators](operators).\n",
    "\n",
    "%The type signature of the logical disjunction operator (`||`) could be written as:\n",
    "%\n",
    "%```\n",
    "%(||) :: (bool, bool) -> bool\n",
    "%```\n",
    "%\n",
    "%We would read this as `||` is an operator that when given a `bool` and a `bool` returns a `bool`.\n",
    "%\n",
    "%So what if we try using a logical operator on values of type `int` or an arithmetic operator on values of type `bool`.\n",
    "%Meaning what if we try to use an operation in a way that doesn't correspond to its type signature.\n",
    "%Let's try adding to values of type `bool` together.\n",
    "%\n",
    "%```{code-cell}\n",
    "%:tags: [raises-exception]\n",
    "%bool addedBools = true + true;\n",
    "%```\n",
    "%\n",
    "As you might have suspected not all types support all operations.\n",
    "The type `bool`, for example, usually does not support the arithmetic addition operation.\n",
    "Checking for this kind of errors is known as type checking and we'll talk about it in the chapter on [type-checking](type-checking).\n",
    "\n",
    "````{warning}\n",
    "When we only consider an operations type signature then we know nothing about the underlying implementation.\n",
    "Note how for example how addition, multiplication, subtraction, and division all have the same type signature albeit different names.\n",
    "\n",
    "```\n",
    "(+) :: (int, int) -> int\n",
    "(-) :: (int, int) -> int\n",
    "(*) :: (int, int) -> int\n",
    "(/) :: (int, int) -> int\n",
    "```\n",
    "````\n",
    "\n",
    "But we'll talk a lot more about operations in future chapters after we have more skin in the game so let's move on for tnow.\n",
    "\n",
    "\n",
    "\n",
    "\n",
    "## Exercises\n",
    "\n",
    "```{exercise}\n",
    "What are literal values, also known as simply literals?\n",
    "```\n",
    "\n",
    "```{exercise}\n",
    "We tend to say that data types define two things.\n",
    "What are these two things?\n",
    "Explain, in your own words, what this means.\n",
    "```\n",
    "\n",
    "```{exercise}\n",
    "What do the terms compile-time type and run-time type mean?\n",
    "What's the difference between the two?\n",
    "```\n",
    "\n",
    "```{exercise-start}\n",
    "```\n",
    "Come up with examples of operations that could have the following types:\n",
    "```\n",
    "string -> string\n",
    "int -> int\n",
    "int -> string\n",
    "string -> int\n",
    "```\n",
    "```{exercise-end}\n",
    "```"
   ]
  }
 ],
 "metadata": {
  "jupytext": {
   "formats": "md:myst",
   "text_representation": {
    "extension": ".md",
    "format_name": "myst"
   }
  },
  "kernelspec": {
   "display_name": "csharp",
   "language": ".net-csharp",
   "name": ".net-csharp"
  },
  "language_info": {
   "file_extension": ".cs",
   "mimetype": "text/x-csharp",
   "name": "C#",
   "pygments_lexer": "csharp",
   "version": "10.0"
  },
  "source_map": [
   11,
   75,
   78,
   80,
   103,
   105,
   110,
   112,
   118,
   120,
   131,
   134,
   137,
   139,
   173,
   176,
   183,
   186,
   188,
   197,
   200,
   202,
   226,
   229,
   236,
   239
  ]
 },
 "nbformat": 4,
 "nbformat_minor": 5
}