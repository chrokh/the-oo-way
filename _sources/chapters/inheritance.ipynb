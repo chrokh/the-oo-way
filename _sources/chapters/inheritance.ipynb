{
 "cells": [
  {
   "cell_type": "markdown",
   "id": "3e120b4b",
   "metadata": {},
   "source": [
    "# Inheritance\n",
    "\n",
    "% TODO: Mention drawback of only one spot for inheritance. Referenced from chapter on Liskov.\n",
    "%- Base keyword!! Both in constructor context and beyond.\n",
    "%- Fragile base class. Example: Abstract class Shape which defines a Scale method that multiplies width and height with factor. This breaks if a subclass of Shape like Circle changes both Width and Height in response to a change in one of them.\n",
    "\n",
    "\n",
    "## Motivation\n",
    "\n",
    "Inheritance, in object oriented languages, tend to serve two purposes.\n",
    "\n",
    "1. Inheriting the Inheritance is a mechanism that allows a subtype to either inherit or [override](overriding) instance members from its supertype. This can be thought of as inheriting the implementation and is sometimes called \"implementation inheritance\".\n",
    "2. Inheritance causes the subtype to be substitutable for the supertype in the sense of subtype polymorphism. This can be thought of as inheriting the type and is sometimes called \"interface inheritance\".\n",
    "\n",
    "We have already discussed the benefits of subtype polymorphism in the chapters on [interfaces](interfaces) and [subtype polymorphism](subtype-polymorphism).\n",
    "We have thus already dealt with the second point above, and will in this chapter therefore mostly focus on the first.\n",
    "Namely, that of using inheritance to eliminate duplication by allowing subclasses to use code from its superclass.\n",
    "\n",
    "Nevertheless, it is of *vital importance* to realize that these two purposes always go hand-in-hand.\n",
    "Whenever we declare that a subclass inherits from a superclass, then we are always and without exception also declaring that the former is a subtype of the latter.\n",
    "\n",
    "In other words, inheritance always leads to subtype polymorphism which means that we must take care not violate the [Liskov substitution principle](liskov-substitution-principle) or else we are in for a world of hurt.\n",
    "\n",
    "```{danger}\n",
    "Inheritance must *not* blindly be used for *code reuse* without respecting the rules of substitutability.\n",
    "```\n",
    "\n",
    "\n",
    "## Definition\n",
    "\n",
    "Inheritance is a binary directed relationship between two (possibly [abstract](abstract-classes)) classes or [interfaces](interface-inheritance).\n",
    "Similar to the terminology used in [subtype polymorphism](subtype-polymorphism) we refer to the two parties as sub/child/derived class/type and super/parent/base class/type.\n",
    "The subclass inherits both type and members from its superclass.\n",
    "We'll discuss [abstract classes](abstract-classes) in a separate chapter.\n",
    "\n",
    "To declare that a class is a subclass of another class in C# we use the same syntax as we use when declaring that the class implements some [interface](interfaces).\n",
    "In other words, we write a colon (`:`) after the class name and then the name of the superclass.\n",
    "\n",
    "In the example below, we declare that the class `Child` inherits from the class `Parent`."
   ]
  },
  {
   "cell_type": "code",
   "execution_count": 1,
   "id": "850df0c2",
   "metadata": {},
   "outputs": [
    {
     "data": {
      "text/html": [
       "\r\n",
       "<div>\r\n",
       "    <div id='dotnet-interactive-this-cell-3468.Microsoft.DotNet.Interactive.Http.HttpPort' style='display: none'>\r\n",
       "        The below script needs to be able to find the current output cell; this is an easy method to get it.\r\n",
       "    </div>\r\n",
       "    <script type='text/javascript'>\r\n",
       "async function probeAddresses(probingAddresses) {\r\n",
       "    function timeout(ms, promise) {\r\n",
       "        return new Promise(function (resolve, reject) {\r\n",
       "            setTimeout(function () {\r\n",
       "                reject(new Error('timeout'))\r\n",
       "            }, ms)\r\n",
       "            promise.then(resolve, reject)\r\n",
       "        })\r\n",
       "    }\r\n",
       "\r\n",
       "    if (Array.isArray(probingAddresses)) {\r\n",
       "        for (let i = 0; i < probingAddresses.length; i++) {\r\n",
       "\r\n",
       "            let rootUrl = probingAddresses[i];\r\n",
       "\r\n",
       "            if (!rootUrl.endsWith('/')) {\r\n",
       "                rootUrl = `${rootUrl}/`;\r\n",
       "            }\r\n",
       "\r\n",
       "            try {\r\n",
       "                let response = await timeout(1000, fetch(`${rootUrl}discovery`, {\r\n",
       "                    method: 'POST',\r\n",
       "                    cache: 'no-cache',\r\n",
       "                    mode: 'cors',\r\n",
       "                    timeout: 1000,\r\n",
       "                    headers: {\r\n",
       "                        'Content-Type': 'text/plain'\r\n",
       "                    },\r\n",
       "                    body: probingAddresses[i]\r\n",
       "                }));\r\n",
       "\r\n",
       "                if (response.status == 200) {\r\n",
       "                    return rootUrl;\r\n",
       "                }\r\n",
       "            }\r\n",
       "            catch (e) { }\r\n",
       "        }\r\n",
       "    }\r\n",
       "}\r\n",
       "\r\n",
       "function loadDotnetInteractiveApi() {\r\n",
       "    probeAddresses([\"http://10.1.0.21:1024/\", \"http://127.0.0.1:1024/\"])\r\n",
       "        .then((root) => {\r\n",
       "        // use probing to find host url and api resources\r\n",
       "        // load interactive helpers and language services\r\n",
       "        let dotnetInteractiveRequire = require.config({\r\n",
       "        context: '3468.Microsoft.DotNet.Interactive.Http.HttpPort',\r\n",
       "                paths:\r\n",
       "            {\r\n",
       "                'dotnet-interactive': `${root}resources`\r\n",
       "                }\r\n",
       "        }) || require;\r\n",
       "\r\n",
       "            window.dotnetInteractiveRequire = dotnetInteractiveRequire;\r\n",
       "\r\n",
       "            window.configureRequireFromExtension = function(extensionName, extensionCacheBuster) {\r\n",
       "                let paths = {};\r\n",
       "                paths[extensionName] = `${root}extensions/${extensionName}/resources/`;\r\n",
       "                \r\n",
       "                let internalRequire = require.config({\r\n",
       "                    context: extensionCacheBuster,\r\n",
       "                    paths: paths,\r\n",
       "                    urlArgs: `cacheBuster=${extensionCacheBuster}`\r\n",
       "                    }) || require;\r\n",
       "\r\n",
       "                return internalRequire\r\n",
       "            };\r\n",
       "        \r\n",
       "            dotnetInteractiveRequire([\r\n",
       "                    'dotnet-interactive/dotnet-interactive'\r\n",
       "                ],\r\n",
       "                function (dotnet) {\r\n",
       "                    dotnet.init(window);\r\n",
       "                },\r\n",
       "                function (error) {\r\n",
       "                    console.log(error);\r\n",
       "                }\r\n",
       "            );\r\n",
       "        })\r\n",
       "        .catch(error => {console.log(error);});\r\n",
       "    }\r\n",
       "\r\n",
       "// ensure `require` is available globally\r\n",
       "if ((typeof(require) !==  typeof(Function)) || (typeof(require.config) !== typeof(Function))) {\r\n",
       "    let require_script = document.createElement('script');\r\n",
       "    require_script.setAttribute('src', 'https://cdnjs.cloudflare.com/ajax/libs/require.js/2.3.6/require.min.js');\r\n",
       "    require_script.setAttribute('type', 'text/javascript');\r\n",
       "    \r\n",
       "    \r\n",
       "    require_script.onload = function() {\r\n",
       "        loadDotnetInteractiveApi();\r\n",
       "    };\r\n",
       "\r\n",
       "    document.getElementsByTagName('head')[0].appendChild(require_script);\r\n",
       "}\r\n",
       "else {\r\n",
       "    loadDotnetInteractiveApi();\r\n",
       "}\r\n",
       "\r\n",
       "    </script>\r\n",
       "</div>"
      ]
     },
     "metadata": {},
     "output_type": "display_data"
    }
   ],
   "source": [
    "class Parent { }\n",
    "class Child : Parent { }"
   ]
  },
  {
   "cell_type": "markdown",
   "id": "cc25033f",
   "metadata": {},
   "source": [
    "### Inheriting members\n",
    "\n",
    "We've said that the subclass inherits all ([public or protected](access-modifiers)) members of the superclass.\n",
    "What does this mean in practice?\n",
    "In the code below the the subclass contains no instance members.\n",
    "We do however declare that the subclass inherits from a superclass which does contain a public instance method."
   ]
  },
  {
   "cell_type": "code",
   "execution_count": 2,
   "id": "12352cfd",
   "metadata": {},
   "outputs": [],
   "source": [
    "class Parent\n",
    "{\n",
    "  public void InheritedMethod ()\n",
    "    => Console.WriteLine(\"Implemented in parent.\");\n",
    "}\n",
    "\n",
    "class Child : Parent { }"
   ]
  },
  {
   "cell_type": "markdown",
   "id": "c6d3e937",
   "metadata": {},
   "source": [
    "Since the superclass defines an instance method we can of course call that instance method on instances of that type."
   ]
  },
  {
   "cell_type": "code",
   "execution_count": 3,
   "id": "9d0d6278",
   "metadata": {},
   "outputs": [
    {
     "name": "stdout",
     "output_type": "stream",
     "text": [
      "Implemented in parent.\n"
     ]
    }
   ],
   "source": [
    "Parent parent = new Parent();\n",
    "parent.InheritedMethod();"
   ]
  },
  {
   "cell_type": "markdown",
   "id": "b3bef821",
   "metadata": {},
   "source": [
    "However, since the subclass *inherits* from that superclass we can also call that instance method on all instances of the subclass."
   ]
  },
  {
   "cell_type": "code",
   "execution_count": 4,
   "id": "4714833b",
   "metadata": {},
   "outputs": [
    {
     "name": "stdout",
     "output_type": "stream",
     "text": [
      "Implemented in parent.\n"
     ]
    }
   ],
   "source": [
    "Child child = new Child(); // Note that this is the subtype!\n",
    "child.InheritedMethod();"
   ]
  },
  {
   "cell_type": "markdown",
   "id": "c2b90543",
   "metadata": {},
   "source": [
    "### Inheriting types\n",
    "\n",
    "We've also said that the subclass inherits the type of the superclass in the sense of [subtype polymorphism](subtype-polymorphism).\n",
    "What does this mean?\n",
    "It means that we can treat instances of the subclass as if they were instances of the superclass.\n",
    "It means that we can let the compile-time type be the superclass and the run-time type be any subclasses of that superclass.\n",
    "\n",
    "Given the two types `Parent` and `Child` that we defined above we can therefore assign instances of type `Child` to variables of type `Parent`.\n",
    "Note how the compile-time type is the general type, while the run-time type is the special type in the code below."
   ]
  },
  {
   "cell_type": "code",
   "execution_count": 5,
   "id": "b49ffd0e",
   "metadata": {},
   "outputs": [],
   "source": [
    "Parent child = new Child();"
   ]
  },
  {
   "cell_type": "markdown",
   "id": "9b3643d9",
   "metadata": {},
   "source": [
    "Of course, the compiler still allows us to invoke the instance method `InheritedMethod` since it's defined in `Parent` and our compile-time type is `Parent`."
   ]
  },
  {
   "cell_type": "code",
   "execution_count": 6,
   "id": "5e15ae6d",
   "metadata": {},
   "outputs": [
    {
     "name": "stdout",
     "output_type": "stream",
     "text": [
      "Implemented in parent.\n"
     ]
    }
   ],
   "source": [
    "child.InheritedMethod();"
   ]
  },
  {
   "cell_type": "markdown",
   "id": "9b5c5f9c",
   "metadata": {},
   "source": [
    "(overriding)=\n",
    "### Overriding\n",
    "\n",
    "We've established that a subclass inherits all members from its superclass.\n",
    "However, if an [instance method](instance-methods) or [instance property](properties) in the superclass is marked as `virtual` then it is possible for the subclass to `override` that implementation.\n",
    "Meaning, it is possible for the subclass to define its own specialized implementation for that member to use instead of the one defined by the superclass.\n",
    "\n",
    "Starting from the same code as above, let's rewrite it so that the instance method in the superclass is marked as `virtual` so that we can `override` it in the subclass."
   ]
  },
  {
   "cell_type": "code",
   "execution_count": 7,
   "id": "8e14af79",
   "metadata": {},
   "outputs": [],
   "source": [
    "class Parent\n",
    "{\n",
    "  public virtual void OverriddenMethod ()\n",
    "    => Console.WriteLine(\"Implemented in PARENT.\");\n",
    "}\n",
    "\n",
    "class Child : Parent\n",
    "{\n",
    "  public override void OverriddenMethod ()\n",
    "    => Console.WriteLine(\"Implemented in CHILD.\");\n",
    "}"
   ]
  },
  {
   "cell_type": "markdown",
   "id": "68980c32",
   "metadata": {},
   "source": [
    "If we instantiate a `Parent`, treat it as a `Parent`, and then call the instance method, we will execute the implementation defined in `Parent`.\n",
    "Unsurprising."
   ]
  },
  {
   "cell_type": "code",
   "execution_count": 8,
   "id": "87ea4478",
   "metadata": {},
   "outputs": [
    {
     "name": "stdout",
     "output_type": "stream",
     "text": [
      "Implemented in PARENT.\n"
     ]
    }
   ],
   "source": [
    "Parent parentAsParent = new Parent();\n",
    "parentAsParent.OverriddenMethod();"
   ]
  },
  {
   "cell_type": "markdown",
   "id": "c5e20082",
   "metadata": {},
   "source": [
    "What is also unsurprising, is that if we instantiate a `Child`, treat it as a `Child`, and then call the instance method, we will execute the implementation defined in `Child`."
   ]
  },
  {
   "cell_type": "code",
   "execution_count": 9,
   "id": "21329c74",
   "metadata": {},
   "outputs": [
    {
     "name": "stdout",
     "output_type": "stream",
     "text": [
      "Implemented in CHILD.\n"
     ]
    }
   ],
   "source": [
    "Child childAsChild = new Child();\n",
    "childAsChild.OverriddenMethod();"
   ]
  },
  {
   "cell_type": "markdown",
   "id": "f42b6390",
   "metadata": {},
   "source": [
    "However, what you might find surprising is that if we instantiate a `Child`, *but* treat it as a `Parent`, and then call the instance method, we will execute the implementation defined in `Child`."
   ]
  },
  {
   "cell_type": "code",
   "execution_count": 10,
   "id": "e7b51633",
   "metadata": {},
   "outputs": [
    {
     "name": "stdout",
     "output_type": "stream",
     "text": [
      "Implemented in CHILD.\n"
     ]
    }
   ],
   "source": [
    "Parent childAsParent = new Child();\n",
    "childAsParent.OverriddenMethod();"
   ]
  },
  {
   "cell_type": "markdown",
   "id": "4f754d1e",
   "metadata": {},
   "source": [
    "At first you might find this counter-intuitive.\n",
    "But, this is the entire point of overriding.\n",
    "Due to subtype polymorphism you can then treat all subclasses of the same superclass interchangibly, but whenever you call a method marked as `virtual` that has been overridden in the subclass then the specialized method in the subclass is the one that's being executed.\n",
    "This behavior is also summarized in {numref}`tbl:inheritance:override`.\n",
    "\n",
    "```{tip}\n",
    "When overriding, which implementation is executed is determined by the *run-time type* and not the compile-time type.\n",
    "This behavior was discussed in the chapter on [subtype polymorphism](subtype-polymorphism).\n",
    "```\n",
    "\n",
    "Remember, when overriding, what implementation to run is determined by the run-time type.\n",
    "\n",
    "```{list-table} What implementation is executed depends on the run-time type in the case of overriding and the compile-time type in the case of hiding.\n",
    ":header-rows: 1\n",
    ":name: tbl:inheritance:override\n",
    "\n",
    "* - Compile-time type\n",
    "  - Run-time type\n",
    "  - Executed implementation (overriding)\n",
    "  - Executed implementation (hiding)\n",
    "* - Parent\n",
    "  - Parent\n",
    "  - Parent\n",
    "  - Parent\n",
    "* - Child\n",
    "  - Child\n",
    "  - Child\n",
    "  - Child\n",
    "* - Parent\n",
    "  - Child\n",
    "  - Child\n",
    "  - Parent\n",
    "```\n",
    "\n",
    "```{seealso}\n",
    "It should be noted that in some languages, we don't mark what methods are virtual, we mark what methods are not virtual.\n",
    "In C#, instance methods are non-virtual unless otherwise specified.\n",
    "In Java, instance methods are virtual unless otherwise specified.\n",
    "```\n",
    "\n",
    "\n",
    "\n",
    "(hiding)=\n",
    "### Hiding\n",
    "%- Not overriding (\"new\" modifier)\n",
    "%- Called shadowing?\n",
    "\n",
    "Before moving on we need to talk about a feature that isn't actually only related to inheritance but often comes up when we fail to remember to use the keyword `override`.\n",
    "That feautre is \"method hiding\".\n",
    "Let's say we have a method in a subclass with the same signature as one in the superclass and we mark the method in the subclass as `new` rather than `override`.\n",
    "In this case we are *not* using overriding.\n",
    "Instead we are using what is known as \"hiding\".\n",
    "We say that the method in the subclass \"hides\" the method in the superclass.\n",
    "\n",
    "In {numref}`tbl:inheritance:override` you can see how hiding is different from overriding.\n",
    "\n",
    "```{tip}\n",
    "When hiding, which implementation is executed is determined by the *compile-time type* and not the run-time type.\n",
    "```\n",
    "\n",
    "Let's go through all the same examples as before.\n",
    "This time however we will mark the method as `new` in the subclass.\n",
    "Whether we mark the method in the superclass as `virtual` or not does not matter."
   ]
  },
  {
   "cell_type": "code",
   "execution_count": 11,
   "id": "523d3d39",
   "metadata": {},
   "outputs": [],
   "source": [
    "class Parent\n",
    "{\n",
    "  public void HiddenMethod ()\n",
    "    => Console.WriteLine(\"Implemented in PARENT.\");\n",
    "}\n",
    "\n",
    "class Child : Parent\n",
    "{\n",
    "  public new void HiddenMethod ()\n",
    "    => Console.WriteLine(\"Implemented in CHILD.\");\n",
    "}"
   ]
  },
  {
   "cell_type": "markdown",
   "id": "e084e2c4",
   "metadata": {},
   "source": [
    "If we instantiate a `Parent`, treat it as a `Parent`, and then call the instance method, we will execute the implementation defined in `Parent`.\n",
    "Still, unsurprising."
   ]
  },
  {
   "cell_type": "code",
   "execution_count": 12,
   "id": "6039f878",
   "metadata": {},
   "outputs": [
    {
     "name": "stdout",
     "output_type": "stream",
     "text": [
      "Implemented in PARENT.\n"
     ]
    }
   ],
   "source": [
    "Parent parentAsParent = new Parent();\n",
    "parentAsParent.HiddenMethod();"
   ]
  },
  {
   "cell_type": "markdown",
   "id": "c27eaade",
   "metadata": {},
   "source": [
    "What is also still unsurprising, is that if we instantiate a `Child`, treat it as a `Child`, and then call the instance method, we will execute the implementation defined in `Child`."
   ]
  },
  {
   "cell_type": "code",
   "execution_count": 13,
   "id": "c20246b7",
   "metadata": {},
   "outputs": [
    {
     "name": "stdout",
     "output_type": "stream",
     "text": [
      "Implemented in CHILD.\n"
     ]
    }
   ],
   "source": [
    "Child childAsChild = new Child();\n",
    "childAsChild.HiddenMethod();"
   ]
  },
  {
   "cell_type": "markdown",
   "id": "2a1ef4a8",
   "metadata": {},
   "source": [
    "However, when we are hiding rather than overriding, instantiate a `Child` but treat it as a `Parent`, and then call the instance method, we will execute the implementation defined in `Parent`.\n",
    "Remember, when hiding, what implementation to run is determined by the compile-time type."
   ]
  },
  {
   "cell_type": "code",
   "execution_count": 14,
   "id": "5c1b7674",
   "metadata": {},
   "outputs": [
    {
     "name": "stdout",
     "output_type": "stream",
     "text": [
      "Implemented in PARENT.\n"
     ]
    }
   ],
   "source": [
    "Parent childAsParent = new Child();\n",
    "childAsParent.HiddenMethod();"
   ]
  },
  {
   "cell_type": "markdown",
   "id": "1c0525bc",
   "metadata": {},
   "source": [
    "### Constructor chaining\n",
    "\n",
    "Remember the concept of [constructor chaining](constructor-chaining)?\n",
    "We said that a constructor can call another constructor by using the keyword `this`.\n",
    "In that chapter we also mentioned that when we get to inheritance we will also discuss the keyword `base`.\n",
    "\n",
    "The keyword `base`, works just like the keyword `this` in that it can be used for two purposes.\n",
    "It can be used for constructor chaining.\n",
    "In other words it can be used to call a constructor in the base class (hence the name \"base\") from a constructor in a derived class.\n",
    "\n",
    "% TODO: Give example of how subclass runs superclasses constructor using Console.WriteLine in the base.\n",
    "\n",
    "```{important}\n",
    "If the superclass does not define a parameterless constructor then any subclass of the superclass must define how to instantiate the superclass's constructor by using the keyword `base`.\n",
    "```\n",
    "\n",
    "Notice how the code below causes a compiler error."
   ]
  },
  {
   "cell_type": "code",
   "execution_count": 15,
   "id": "2d3faf1e",
   "metadata": {
    "tags": [
     "raises-exception"
    ]
   },
   "outputs": [
    {
     "name": "stderr",
     "output_type": "stream",
     "text": [
      "\n",
      "(7,7): error CS7036: There is no argument given that corresponds to the required formal parameter 'x' of 'Parent.Parent(int)'\n",
      "\n"
     ]
    },
    {
     "ename": "Error",
     "evalue": "compilation error",
     "output_type": "error",
     "traceback": []
    }
   ],
   "source": [
    "class Parent\n",
    "{\n",
    "  public Parent (int x)\n",
    "    => Console.WriteLine(\"Instantiated with \" + x);\n",
    "}\n",
    "\n",
    "class Child : Parent { }"
   ]
  },
  {
   "cell_type": "markdown",
   "id": "4c94d212",
   "metadata": {},
   "source": [
    "Why do we get a compiler error?\n",
    "Because in order to know how to construct the `Child` we must also know how to construct the `Parent`.\n",
    "\n",
    "In the code below we've added two constructors that both call the `base` constructor and that both would, on their own, be enough to get rid of that compiler error."
   ]
  },
  {
   "cell_type": "code",
   "execution_count": 16,
   "id": "38a9c01c",
   "metadata": {},
   "outputs": [],
   "source": [
    "class Parent\n",
    "{\n",
    "  public Parent (int x)\n",
    "    => Console.WriteLine(\"Instantiated with \" + x);\n",
    "}\n",
    "\n",
    "class Child : Parent\n",
    "{\n",
    "  public Child ()\n",
    "    : base(10) { }\n",
    "\n",
    "  public Child (int x)\n",
    "    : base(x) { }\n",
    "}"
   ]
  },
  {
   "cell_type": "markdown",
   "id": "fb2df378",
   "metadata": {},
   "source": [
    "It now compiles.\n",
    "Whenever we run any of the constructors of the subclass a constructor in the superclass is now also run."
   ]
  },
  {
   "cell_type": "code",
   "execution_count": 17,
   "id": "8407f4d6",
   "metadata": {},
   "outputs": [
    {
     "name": "stdout",
     "output_type": "stream",
     "text": [
      "Instantiated with 10\n"
     ]
    },
    {
     "name": "stdout",
     "output_type": "stream",
     "text": [
      "Instantiated with 5\n"
     ]
    }
   ],
   "source": [
    "Child child1 = new Child();\n",
    "Child child2 = new Child(5);"
   ]
  },
  {
   "cell_type": "markdown",
   "id": "336cd064",
   "metadata": {},
   "source": [
    "### Accessing base members\n",
    "\n",
    "Just like you can use the keyword `this` to access other members in the object itself, you can use the keyword `base` to access other members in the superclass.\n",
    "\n",
    "This is of course particularly useful in the case of hiding.\n",
    "Meaning when we have an instance member in the subclass with the same signature as a member in the superclass but want to explicitly call the one in the superclass."
   ]
  },
  {
   "cell_type": "code",
   "execution_count": 18,
   "id": "b4553c5b",
   "metadata": {},
   "outputs": [],
   "source": [
    "class Parent\n",
    "{\n",
    "  public void Method ()\n",
    "    => Console.WriteLine(\"Called method in parent.\");\n",
    "}\n",
    "\n",
    "class Child : Parent\n",
    "{\n",
    "  public new void Method ()\n",
    "    => base.Method();\n",
    "}"
   ]
  },
  {
   "cell_type": "code",
   "execution_count": 19,
   "id": "a034bab2",
   "metadata": {},
   "outputs": [
    {
     "name": "stdout",
     "output_type": "stream",
     "text": [
      "Called method in parent.\n"
     ]
    }
   ],
   "source": [
    "Child child = new Child();\n",
    "child.Method();"
   ]
  },
  {
   "cell_type": "markdown",
   "id": "452e22ce",
   "metadata": {},
   "source": [
    "Just like in the case of `this`, the keyword `base` refers to an object which means that we can pass around that value like any other value.\n",
    "\n",
    "\n",
    "\n",
    "(inheritance:uml)=\n",
    "### UML class diagrams\n",
    "\n",
    "In UML class diagram notation, inheritance is called \"generalization\" (or sometimes simply \"inheritance\") and is depicted using a solid line with a hollow arrow head.\n",
    "The arrow points from the subclass to the superclass.\n",
    "\n",
    "% TODO: REPLACE IMAGE!!\n",
    "```{figure} https://upload.wikimedia.org/wikipedia/commons/thumb/9/93/Uml_classes_en.svg/800px-Uml_classes_en.svg.png\n",
    ":name: fig:uml-class-diagram-realization\n",
    ":width: 300\n",
    "\n",
    "In UML class diagram notation, inheritance is called \"generalization\" and is depicted using a solid line with a hollow arrow head.\n",
    "The arrow points from the implementation to the interface.\n",
    "[[Image source](https://en.wikipedia.org/wiki/Class_diagram)].\n",
    "```\n",
    "\n",
    "In the diagram below we have four classes:\n",
    "`Sequence`, `PalindromicSequence`, `EvenSequence`, and `OddSequence`.\n",
    "The three latter classes all inherit from the class `Sequence`.\n",
    "\n",
    "We'll discuss the this example more in the [examples section](inheritance:sequences) where we'll also look at similar code.\n",
    "```\n",
    "     ┌───────────────────────────────────────┐\n",
    "     │                Sequence               │\n",
    "     ├───────────────────────────────────────┤\n",
    "     │                                       │\n",
    "     ├───────────────────────────────────────┤\n",
    "     │ + <<get>> Current : int               │\n",
    "     │ - <<set>> Current : int               │\n",
    "     │ + Next () : void                      │\n",
    "     │ + Take (int n) : int[]                │\n",
    "     └───────────────────────────────────────┘\n",
    "                   Δ   Δ   Δ\n",
    "           ┌───────┘   │   └─────┐\n",
    "           │           │         │\n",
    "┌───────────────────┐  │  ┌───────────────────┐\n",
    "│    EvenSequence   │  │  │     OddSequence   │\n",
    "├───────────────────┤  │  ├───────────────────┤\n",
    "├───────────────────┤  │  ├───────────────────┤\n",
    "│ + ^Next () : void │  │  │ + ^Next () : void │\n",
    "└───────────────────┘  │  └───────────────────┘\n",
    "                       │\n",
    "             ┌─────────────────────┐\n",
    "             │ PalindromicSequence │\n",
    "             ├─────────────────────┤\n",
    "             ├─────────────────────┤\n",
    "             │ + ^Next () : void   │\n",
    "             └─────────────────────┘\n",
    "\n",
    "\n",
    "```\n",
    "\n",
    "Subclasses are conventionally drawn \"below\" superclasses.\n",
    "\n",
    "Whether or not to include (meaning: repeat) the inherited members in the subclass varies depending on who you ask.\n",
    "Remember that we had this same discussion in the chapter on interfaces?\n",
    "A common suggestion, and the choice we have made above, is however to, out of those members that also appear in the superclass, only mention those that override (or hide) members from the superclass.\n",
    "\n",
    "To be able to tell [overriding](overriding) apart from [hiding](hiding), some prepend the caret symbol (`^`) to the name of the member to indicate that it has been overridden as opposed to hidden.\n",
    "\n",
    "```{tip}\n",
    "Pick a syntax and stick to it.\n",
    "Consistency is key.\n",
    "```\n",
    "\n",
    "In the example above we have overriden the implementation of `Next` in all subclasses of `Sequence`.\n",
    "All other members are inherited.\n",
    "\n",
    "% Example: Get rid of the foreach? Or is this perhaps not a great solution?\n",
    "\n",
    "%- Including abstract classes.\n",
    "%- UML class diagram notation.\n",
    "%- White-box reuse (as opposed to black-box which is composition) (Gamma et al)\n",
    "%- Object type (lowercase is an alias for the same as the uppercase). All classes inherit from object.\n",
    "%- Forward ref to Subtype polymorphism\n",
    "%- Overriding \n",
    "\n",
    "\n",
    "## Examples\n",
    "\n",
    "(inheritance:sequences)=\n",
    "### Sequences\n",
    "\n",
    "% TODO: We're discussing two ideas at once. Filtered sequences and sequences that can be implemented. Let's separate the two into two sections. I will probably have built these classes already in earlier chapters anyway. Just like with ciphers. HARMONIZE BOTH UNDER THE SAME SUPERCLASS?\n",
    "% TODO: Adding constructors that take parameters makes the expressing the subclasses much harder. This is not a problem with interfaces.\n",
    "\n",
    "Let's talk about number sequences.\n",
    "What is a number sequence?\n",
    "Well, the natural numbers starting from 1 is one and incrementing all the way to infinity (or the maximum value for `int` in practical terms) is a sequence.\n",
    "Two other sequences are those of odd and even numbers.\n",
    "A more complex sequence would be for example the Fibonacci sequence which says that the next number is the sum of the two preceding numbers.\n",
    "\n",
    "```{note}\n",
    "This might seem a bit esoteric at the moment, but once we've learned about [generics](generics) you will see how this generalizes to sequences of any type.\n",
    "Then, when we get to [design patterns](design-patterns), you will see how this is the core idea of the [iterator pattern](iterator-pattern).\n",
    "```\n",
    "\n",
    "Let's start by defining a superclass, called `Sequence`, that simply models the sequence of incrementing integers starting from the number `0`.\n",
    "\n",
    "Have a look at the implementation below."
   ]
  },
  {
   "cell_type": "code",
   "execution_count": 20,
   "id": "0f9c9e4a",
   "metadata": {},
   "outputs": [],
   "source": [
    "class Sequence\n",
    "{\n",
    "  public virtual int Current { get; private set; } = 0;\n",
    "\n",
    "  public virtual void Next()\n",
    "    => Current++;\n",
    "\n",
    "  public int[] Take (int n)\n",
    "  {\n",
    "    int[] nums = new int[n];\n",
    "    for (int i=0; i<nums.Length; i++)\n",
    "    {\n",
    "      nums[i] = Current;\n",
    "      Next();\n",
    "    }\n",
    "    return nums;\n",
    "  }\n",
    "}"
   ]
  },
  {
   "cell_type": "markdown",
   "id": "fca219c0",
   "metadata": {},
   "source": [
    "The class `Sequence` defines one property and two instance methods.\n",
    "\n",
    "The property `Current` is of type `int`, holds the current number of the sequence, and is initialized to `0`.\n",
    "Its `get` accessor is `public` while its `set` accessor is `private`.\n",
    "It\n",
    "\n",
    "The first instance method is called `Next` and it simply increments the `Current` number by `1`.\n",
    "\n",
    "Note that we've marked both the property `Current` and the instance method `Next` with the keyword `virtual`.\n",
    "This is because we want it possible to override these members in subclasses so that the subclasses in question can implement their actual sequences.\n",
    "\n",
    "Note that since the `set` accessor of the property `Current` is marked as `private` it is not overridable.\n",
    "Subclasses will not have access to the `set` accessor and will thus interpret the property `Current` as a read-only property that is marked as `virtual`.\n",
    "\n",
    "The second instance method is called `Take` and it takes an integer called `n` representing the number of numbers that we want from the sequence.\n",
    "It calls `Next` on the sequence `n` times and puts the value of `Current` in, after each call to next, in an array that it then returns.\n",
    "In other words, the method `Take` simply returns the next `n` numbers from the sequence in an array while also moving the sequence that many steps.\n",
    "\n",
    "Ok, so we've got a basic sequence now.\n",
    "Let's try it out to make sure that it works."
   ]
  },
  {
   "cell_type": "code",
   "execution_count": 21,
   "id": "77907be0",
   "metadata": {},
   "outputs": [
    {
     "name": "stdout",
     "output_type": "stream",
     "text": [
      "0, 1, 2, 3, 4, 5, 6, 7, 8, 9\n"
     ]
    }
   ],
   "source": [
    "// Instantiate sequence.\n",
    "Sequence seq = new Sequence();\n",
    "\n",
    "// Take 10 elements.\n",
    "int[] output = seq.Take(10);\n",
    "\n",
    "// Print the elements.\n",
    "Console.WriteLine(String.Join(\", \", output));"
   ]
  },
  {
   "cell_type": "markdown",
   "id": "e5672200",
   "metadata": {},
   "source": [
    "Seems to work.\n",
    "Let's now define some subclasses of this sequence that reuses code from the superclass.\n",
    "\n",
    "#### Step sequence\n",
    "\n",
    "% TODO: Steps are an unnecessary complication. Remove this section and stick to the sequences that are depicted in the UML diagram earlier in this chapter.\n",
    "Let's define a subclass called `StepSequence` that models the series of integers that moves in increments of `steps`.\n",
    "In other words, it specializes the class `Sequence` by saying that every time it moves to the next number we may move multiple steps.\n",
    "\n",
    "We're now going to look at two ways of writing this class as a subclass of `Sequence`.\n",
    "Let's start by reusing as much code as possible.\n",
    "Here's the class."
   ]
  },
  {
   "cell_type": "code",
   "execution_count": 22,
   "id": "c71116c8",
   "metadata": {},
   "outputs": [],
   "source": [
    "class StepSequence : Sequence\n",
    "{\n",
    "  private int steps;\n",
    "\n",
    "  public StepSequence (int steps)\n",
    "    => this.steps = steps;\n",
    "\n",
    "  public override void Next()\n",
    "  {\n",
    "    for (int i=0; i<steps; i++)\n",
    "      base.Next();\n",
    "  }\n",
    "}"
   ]
  },
  {
   "cell_type": "markdown",
   "id": "4f3e6314",
   "metadata": {},
   "source": [
    "Let's try it out to make sure that it works and then let's discuss it."
   ]
  },
  {
   "cell_type": "code",
   "execution_count": 23,
   "id": "3536bb5f",
   "metadata": {},
   "outputs": [
    {
     "name": "stdout",
     "output_type": "stream",
     "text": [
      "0, 2, 4, 6, 8, 10, 12, 14, 16, 18\n"
     ]
    }
   ],
   "source": [
    "StepSequence seq = new StepSequence(2);\n",
    "int[] output = seq.Take(10);\n",
    "Console.WriteLine(String.Join(\", \", output));"
   ]
  },
  {
   "cell_type": "code",
   "execution_count": 24,
   "id": "9c6a37f7",
   "metadata": {},
   "outputs": [
    {
     "name": "stdout",
     "output_type": "stream",
     "text": [
      "0, 10, 20, 30, 40, 50, 60, 70, 80, 90\n"
     ]
    }
   ],
   "source": [
    "StepSequence seq = new StepSequence(10);\n",
    "int[] output = seq.Take(10);\n",
    "Console.WriteLine(String.Join(\", \", output));"
   ]
  },
  {
   "cell_type": "markdown",
   "id": "f54ab664",
   "metadata": {},
   "source": [
    "Seems to work, but let's now talk about why.\n",
    "\n",
    "It works because we're [overriding](overriding) the instance method `Next` with an implementation that calls the instance method `Next` in the superclass as many times as defined by the instance field `steps`.\n",
    "Notice how we're making use of the keyword `base` to differentiate between `Next` as defined in `StepSequence` and as defined in its parent `Sequence`.\n",
    "\n",
    "What about code reuse?\n",
    "Well, we've reused the property `Current` and the instance method `Take`.\n",
    "\n",
    "Alright, so we said that there are at least two ways of doing this.\n",
    "What's the other way?\n",
    "Well, we could also decide to ignore the way that the superclass implements `Next` and `Current` altogether and simply write our own implementation.\n",
    "Have a look at the code below."
   ]
  },
  {
   "cell_type": "code",
   "execution_count": 25,
   "id": "40338c41",
   "metadata": {},
   "outputs": [],
   "source": [
    "class StepSequence : Sequence\n",
    "{\n",
    "  private int n = 0;\n",
    "  private int steps;\n",
    "\n",
    "  public StepSequence (int steps)\n",
    "    => this.steps = steps;\n",
    "\n",
    "  public override int Current\n",
    "  {\n",
    "    get => n;\n",
    "  }\n",
    "\n",
    "  public override void Next()\n",
    "    => n += steps;\n",
    "}"
   ]
  },
  {
   "cell_type": "markdown",
   "id": "d5fdcfe1",
   "metadata": {},
   "source": [
    "This implementation works just like the other.\n",
    "However, in this implementation we've reused less code from the superclass.\n",
    "Why?\n",
    "Because we've also overridden the property `Current`.\n",
    "\n",
    "\n",
    "\n",
    "% TODO: Need chapter on command query separation. That should also be linked here.\n",
    "\n",
    "\n",
    "\n",
    "\n",
    "#### Evens and odds\n",
    "\n",
    "Let's build something a bit more complex.\n",
    "How about sequences that generate even and odd numbers?\n",
    "\n",
    "Interestingly, both the sequence of even numbers and that of odd numbers move in increments of 2.\n",
    "So to model, for example, the sequence of even numbers we must figure out how to start on an even number and then consistently increment by 2.\n",
    "\n",
    "Again, we find multiple ways of implementing these classes.\n",
    "Let's first talk about how we would implement them as subclasses of `StepSequence`.\n",
    "If these inherit from the class `StepSequence` then we don't need to worry about changing the implementation of `Next`.\n",
    "Instead, we just need to make sure that we start on an even or odd number (depending on which class we are talking about) and that we set the parameter `steps` to `2`.\n",
    "\n",
    "Unfortunately that requires to add a constructor to the implementation of `StepSequence` so that we can control the starting number.\n",
    "Have a look at the code below."
   ]
  },
  {
   "cell_type": "code",
   "execution_count": 26,
   "id": "916f8bd2",
   "metadata": {},
   "outputs": [],
   "source": [
    "// Updated implementation.\n",
    "class StepSequence : Sequence\n",
    "{\n",
    "  private int current;\n",
    "  private int steps;\n",
    "\n",
    "  public StepSequence (int steps)\n",
    "    : this(steps, 0) { }\n",
    "\n",
    "  public StepSequence (int steps, int initial)\n",
    "  {\n",
    "    this.steps = steps;\n",
    "    this.current = initial;\n",
    "  }\n",
    "\n",
    "  public override int Current\n",
    "  {\n",
    "    get => current;\n",
    "  }\n",
    "\n",
    "  public override void Next()\n",
    "    => current += steps;\n",
    "}"
   ]
  },
  {
   "cell_type": "markdown",
   "id": "e9550609",
   "metadata": {},
   "source": [
    "```{warning}\n",
    "We're going to talk about the design principle known as [composition over inheritance](composition-over-inheritance) at length.\n",
    "Had we used composition instead of inheritance to solve this problem we would not have been forced to change the `StepSequence` class at all.\n",
    "We'll discuss this further in the chapters on [abstract constructed](abstract-constructed-object-composition) and [abstract injected object composition](abstract-injected-object-composition).\n",
    "```\n",
    "\n",
    "With our redefined version of `StepSequence` that allows us to start a sequence at a number that we choose we are ready to subclass it in order to implement even and odd sequences."
   ]
  },
  {
   "cell_type": "code",
   "execution_count": 27,
   "id": "8e7e9393",
   "metadata": {},
   "outputs": [],
   "source": [
    "class EvenSequence : StepSequence\n",
    "{\n",
    "  public EvenSequence () : base(2) { }\n",
    "}\n",
    "\n",
    "class OddSequence : StepSequence\n",
    "{\n",
    "  public OddSequence () : base(2, 1) { }\n",
    "}"
   ]
  },
  {
   "cell_type": "code",
   "execution_count": 28,
   "id": "cb0bd55e",
   "metadata": {},
   "outputs": [
    {
     "name": "stdout",
     "output_type": "stream",
     "text": [
      "0, 2, 4, 6, 8, 10, 12, 14, 16, 18\n"
     ]
    },
    {
     "name": "stdout",
     "output_type": "stream",
     "text": [
      "1, 3, 5, 7, 9, 11, 13, 15, 17, 19\n"
     ]
    }
   ],
   "source": [
    "EvenSequence evenSeq = new EvenSequence();\n",
    "OddSequence oddSeq  = new OddSequence();\n",
    "\n",
    "int[] evens = evenSeq.Take(10);\n",
    "int[] odds = oddSeq.Take(10);\n",
    "\n",
    "Console.WriteLine(String.Join(\", \", evens));\n",
    "Console.WriteLine(String.Join(\", \", odds));"
   ]
  },
  {
   "cell_type": "markdown",
   "id": "f4076438",
   "metadata": {},
   "source": [
    "Again, we said that we would talk about two ways to build these sequences.\n",
    "One other way of building a sequence of even numbers and one of odds is to again simply override not only the method `Next` but also the property `Current`."
   ]
  },
  {
   "cell_type": "code",
   "execution_count": 29,
   "id": "b0278b91",
   "metadata": {},
   "outputs": [],
   "source": [
    "// Alterantive implementation.\n",
    "class EvenSequence : Sequence\n",
    "{\n",
    "  private int current = 0;\n",
    "\n",
    "  public override int Current\n",
    "  {\n",
    "    get => current;\n",
    "  }\n",
    "\n",
    "  public override void Next ()\n",
    "    => current += 2;\n",
    "}"
   ]
  },
  {
   "cell_type": "code",
   "execution_count": 30,
   "id": "5b4ca326",
   "metadata": {},
   "outputs": [
    {
     "name": "stdout",
     "output_type": "stream",
     "text": [
      "0, 2, 4, 6, 8, 10, 12, 14, 16, 18\n"
     ]
    }
   ],
   "source": [
    "Console.WriteLine(String.Join(\", \", new EvenSequence().Take(10)));"
   ]
  },
  {
   "cell_type": "code",
   "execution_count": 31,
   "id": "9bdd1de7",
   "metadata": {},
   "outputs": [],
   "source": [
    "// Alterantive implementation.\n",
    "class OddSequence : Sequence\n",
    "{\n",
    "  private int current = 1;\n",
    "\n",
    "  public override int Current\n",
    "  {\n",
    "    get => current;\n",
    "  }\n",
    "\n",
    "  public override void Next ()\n",
    "    => current += 2;\n",
    "}"
   ]
  },
  {
   "cell_type": "code",
   "execution_count": 32,
   "id": "808f3273",
   "metadata": {},
   "outputs": [
    {
     "name": "stdout",
     "output_type": "stream",
     "text": [
      "1, 3, 5, 7, 9, 11, 13, 15, 17, 19\n"
     ]
    }
   ],
   "source": [
    "Console.WriteLine(String.Join(\", \", new OddSequence().Take(10)));"
   ]
  },
  {
   "cell_type": "markdown",
   "id": "62495a35",
   "metadata": {},
   "source": [
    "These too work just fine, but once again we're reusing less and overriding more.\n",
    "At some point it will be pointless to keep using inheritance instead of composition.\n",
    "\n",
    "\n",
    "#### Palindromic numbers\n",
    "\n",
    "Let's now have a look at a sequence which isn't so trivial.\n",
    "How about the sequence of palindromic numbers?\n",
    "A palindrome is a string whose value remains the same when reversed.\n",
    "A palindromic number is a number that behaves like a palindrome when treated like a string.\n",
    "Some examples of palindromic numbers include `2`, `11`, `505`, and `110011`.\n",
    "\n",
    "The class below is called `PalindromicSequence` and implements this idea."
   ]
  },
  {
   "cell_type": "code",
   "execution_count": 33,
   "id": "e6b848ea",
   "metadata": {},
   "outputs": [],
   "source": [
    "class PalindromicSequence : Sequence\n",
    "{\n",
    "  public override void Next ()\n",
    "  {\n",
    "    base.Next();\n",
    "    if (!isPalindromic())\n",
    "      Next();\n",
    "  }\n",
    "\n",
    "  private bool isPalindromic ()\n",
    "  {\n",
    "    string number = Current.ToString();\n",
    "    for (int i=0; i<number.Length; i++)\n",
    "      if (number[i] != number[number.Length - i - 1])\n",
    "        return false;\n",
    "    return true;\n",
    "  }\n",
    "}"
   ]
  },
  {
   "cell_type": "markdown",
   "id": "44e66dd7",
   "metadata": {},
   "source": [
    "```{note}\n",
    "There's probably more efficient ways of implementing this algorithm but I've opted for this way since it is fairly readable in the context.\n",
    "```\n",
    "\n",
    "Notice how the overridden implementation of the instance method is [recursive](recursion).\n",
    "It calls `base.Next` and then calls itself again unless the number we have found is a palindrome.\n",
    "The method could also have been written non-recursively, using [iteration](iteration), like this:\n",
    "\n",
    "```csharp\n",
    "do {\n",
    "  base.Next();\n",
    "} while (!isPalindromic());\n",
    "```\n",
    "\n",
    "Also note how we opted to inherit from `Sequence` and not from `StepSequence` since the palindrome finding algorithm that we've implemented must move in increments of `1` when looking for the next palindrome.\n",
    "\n",
    "Let's try it out to make sure that it works."
   ]
  },
  {
   "cell_type": "code",
   "execution_count": 34,
   "id": "fbabb5e5",
   "metadata": {},
   "outputs": [
    {
     "name": "stdout",
     "output_type": "stream",
     "text": [
      "0, 1, 2, 3, 4, 5, 6, 7, 8, 9\n"
     ]
    }
   ],
   "source": [
    "PalindromicSequence sequence = new PalindromicSequence();\n",
    "int[] output = sequence.Take(10);\n",
    "Console.WriteLine(String.Join(\", \", output));"
   ]
  },
  {
   "cell_type": "markdown",
   "id": "2c989448",
   "metadata": {},
   "source": [
    "#### Square numbers\n",
    "\n",
    "Let's do one final sequence before we move on.\n",
    "Here's something that's quite different from what we've seen so far.\n",
    "How about the sequence of square numbers?\n",
    "\n",
    "The `n`:th number in the sequence of squares is simply defined as `n * n`.\n",
    "Ideally we'd like to use that formula rather than having to step through each number and check whether that number happens to be a `square` number.\n",
    "Have a look at the implementation below."
   ]
  },
  {
   "cell_type": "code",
   "execution_count": 35,
   "id": "19bb1726",
   "metadata": {},
   "outputs": [],
   "source": [
    "class SquareSequence : Sequence\n",
    "{\n",
    "  int n = 0;\n",
    "\n",
    "  public override int Current\n",
    "  {\n",
    "    get => (n * (n + 1)) / 2;\n",
    "  }\n",
    "\n",
    "  public override void Next()\n",
    "    => n++;\n",
    "}"
   ]
  },
  {
   "cell_type": "code",
   "execution_count": 36,
   "id": "5023a8d2",
   "metadata": {},
   "outputs": [
    {
     "name": "stdout",
     "output_type": "stream",
     "text": [
      "0, 1, 3, 6, 10, 15, 21, 28, 36, 45\n"
     ]
    }
   ],
   "source": [
    "SquareSequence sequence = new SquareSequence();\n",
    "int[] output = sequence.Take(10);\n",
    "Console.WriteLine(String.Join(\", \", output));"
   ]
  },
  {
   "cell_type": "markdown",
   "id": "c455c117",
   "metadata": {},
   "source": [
    "In the implementation above, we're only reusing the method `Take`.\n",
    "The rest has been overridden.\n",
    "Had we not overridden `Current` we would have had to write a much more complicated algorithm.\n",
    "Have a look at the alternative solution below.\n",
    "\n",
    "(sequence-recursive-duplication)="
   ]
  },
  {
   "cell_type": "code",
   "execution_count": 37,
   "id": "40c37179",
   "metadata": {},
   "outputs": [],
   "source": [
    "class SquareSequence : Sequence\n",
    "{\n",
    "  public override void Next()\n",
    "  {\n",
    "    base.Next();\n",
    "    if (!isSquare())\n",
    "      Next();\n",
    "  }\n",
    "\n",
    "  private bool isSquare ()\n",
    "    => (int)Math.Sqrt(Current) * (int)Math.Sqrt(Current) == Current;\n",
    "}"
   ]
  },
  {
   "cell_type": "code",
   "execution_count": 38,
   "id": "96fc02a6",
   "metadata": {},
   "outputs": [
    {
     "name": "stdout",
     "output_type": "stream",
     "text": [
      "0, 1, 4, 9, 16, 25, 36, 49, 64, 81\n"
     ]
    }
   ],
   "source": [
    "Console.WriteLine(String.Join(\", \", new SquareSequence().Take(10)));"
   ]
  },
  {
   "cell_type": "markdown",
   "id": "fb256c9d",
   "metadata": {},
   "source": [
    "```{admonition} Key takeaway\n",
    "In the latter case we tried to reuse more code by allowing ourselves use a less efficient algorithm we *still* ended up having to duplicate code.\n",
    "Notice how the implementation of the recursive method `Next` in `SquareSequence` essentially is the same as the implementation of `Next` in `PalindromicSequence`.\n",
    "We'll return to this discussion in {numref}`filtered-sequences-and-inheritance`.\n",
    "```\n",
    "\n",
    "\n",
    "\n",
    "\n",
    "\n",
    "\n",
    "(inheritance:examples:characterwise)=\n",
    "### Characterwise ciphers\n",
    "\n",
    "Remember how we've been unable to get rid of the duplicated `foreach` loop present in all the [substitution ciphers](methods:substitution-ciphers).\n",
    "The only solution for  this that we've seen so far was given in the chapter on [methods](methods:substitution-ciphers).\n",
    "In that chapter I suggested that without some form of polymorphism we often have to resort to turning part of our algorithms into data in order to keep increasing abstraction and thus remove duplication.\n",
    "\n",
    "But in this book we're exploring object oriented programming, so we don't want to be forced to turn our algorithms into data.\n",
    "We want to let our algorithms be algorithms.\n",
    "\n",
    "In this example, we'll be able to remove the duplicated `foreach` loop from all substitution cipher classes that implement the interface `ICharToCharCipher`.\n",
    "Meaning all substitution ciphers that have an encode method which works charwise and replaces each character with a single character.\n",
    "The Robber's language does *not* fit that description, but Caesar ciphers and the Leet language do so let's use those two.\n",
    "\n",
    "As alluded to in the motivation section however, it would in this case, as is often the case, be preferable to use composition over inheritance since that would allow us to eliminate all duplication.\n",
    "But we'll switch to that solution in the chapter on [abstract injected object composition](abstract-injected-object-composition).\n",
    "\n",
    "We've still got our interfaces from the chapter on [interfaces](interfaces:ciphers) but these don't really help us here."
   ]
  },
  {
   "cell_type": "code",
   "execution_count": 39,
   "id": "60fe3045",
   "metadata": {
    "tags": [
     "hide-input"
    ]
   },
   "outputs": [],
   "source": [
    "interface ICharToCharCipher\n",
    "{\n",
    "  char Encode (char input);\n",
    "}\n",
    "\n",
    "interface IStringToStringCipher\n",
    "{\n",
    "  string Encode (string input);\n",
    "}\n",
    "\n",
    "interface ICharToStringCipher\n",
    "{\n",
    "  string Encode (char input);\n",
    "}"
   ]
  },
  {
   "cell_type": "markdown",
   "id": "bf8a4eda",
   "metadata": {},
   "source": [
    "Let us just first take stock of what the duplication looks like.\n",
    "Pay special attention to the two implemented methods with the signature `string Encode (string input)` below.\n",
    "Notice how both implementations are entirely the same.\n",
    "\n",
    "Let's first have a look at the class `LeetCipher`:"
   ]
  },
  {
   "cell_type": "code",
   "execution_count": 40,
   "id": "104c4b28",
   "metadata": {
    "tags": [
     "hide-input"
    ]
   },
   "outputs": [],
   "source": [
    "class LeetCipher : ICharToCharCipher, IStringToStringCipher\n",
    "{\n",
    "  public string Encode (string input) {\n",
    "    string output = \"\";\n",
    "    foreach (char letter in input)\n",
    "      output += Encode (letter);\n",
    "    return output;\n",
    "  }\n",
    "\n",
    "  public char Encode (char input)\n",
    "    => input switch {\n",
    "      'L' => '1', '1' => 'L',\n",
    "      'A' => '4', '4' => 'A',\n",
    "      'O' => '0', '0' => 'O',\n",
    "      'T' => '7', '7' => 'T',\n",
    "      'E' => '3', '3' => 'E',\n",
    "      _ => input\n",
    "    };\n",
    "}"
   ]
  },
  {
   "cell_type": "markdown",
   "id": "aa81cc7a",
   "metadata": {},
   "source": [
    "Let's then have a look at the class `CaesarCipher`:"
   ]
  },
  {
   "cell_type": "code",
   "execution_count": 41,
   "id": "1b5b8ef8",
   "metadata": {
    "tags": [
     "hide-input"
    ]
   },
   "outputs": [],
   "source": [
    "class CaesarCipher : ICharToCharCipher, IStringToStringCipher\n",
    "{\n",
    "  int steps;\n",
    "\n",
    "  public CaesarCipher (int steps)\n",
    "    => this.steps = steps;\n",
    "\n",
    "  public string Encode (string input) {\n",
    "    string output = \"\";\n",
    "    foreach (char letter in input)\n",
    "      output += Encode (letter);\n",
    "    return output;\n",
    "  }\n",
    "\n",
    "  public char Encode (char input) {\n",
    "    string alphabet = \"ABCDEFGHIJKLMNOPQRSTUVXYZ\";\n",
    "    int i = alphabet.IndexOf(Char.ToUpper(input));\n",
    "    int newIndex = (i + steps) % alphabet.Length;\n",
    "    if (i != -1)\n",
    "    {\n",
    "      if (newIndex < 0)\n",
    "        newIndex += alphabet.Length;\n",
    "\n",
    "      if (Char.IsLower(input))\n",
    "        return Char.ToLower(alphabet[newIndex]);\n",
    "      else\n",
    "        return alphabet[newIndex];\n",
    "    }\n",
    "    return input;\n",
    "  }\n",
    "}"
   ]
  },
  {
   "cell_type": "markdown",
   "id": "5cc26cdc",
   "metadata": {},
   "source": [
    "Notice how the implementation of the method with the signature `string Encode (string input)` is *exactly* the same in both classes.\n",
    "The only thing that's different is in what context the method is executed, which in turn determines which `char Encode (char input)` method is being called.\n",
    "\n",
    "Again, if we at this point knew about the design principle [composition over inheritance](composition-over-inheritance) we would solve this using [abstract injected object composition](abstract-injected-object-composition).\n",
    "But, let's take it one step at a time, and let's see what we can do with regular old inheritance first.\n",
    "\n",
    "Here's the key.\n",
    "Notice how the implementations of `string Encode (string input)` fulfill the interface `IStringToStringCipher` and depend on `ICharToCharCipher`.\n",
    "It fulfills the first because the encode method itself is the only method required by that interface.\n",
    "It depends on the second because the implementation of the encode method delegates to the other overload of `Encode` which takes and returns a character.\n",
    "\n",
    "So, let's introduce a superclass called `CharWiseCipher` that implements both `IStringToStringCipher` and `ICharToCharCipher`.\n",
    "We'll let this superclass behave like the [identity cipher](identity-cipher) that we also implemented in the chapter on [subtype polymorphism](subtype-polymorphism:identity-cipher).\n",
    "\n",
    "In the identity cipher, the encode method that takes and returns a character will simply return whatever character we give it.\n",
    "Similarly, the encode method that takes and returns a string ought to return whatever we give it.\n",
    "\n",
    "However, instead of simply returning what we get we will choose to iterate over the input `string`, call the method `char Encode (char input)` for each character one by one, and concatenate the results into a `string` again.\n",
    "Even though the method that receives and returns a `char` will always return the same `char`\n",
    "In other words, the implementation of `string Encode (string input)` will be the one that we are trying to unify for the other classes.\n",
    "\n",
    "But why would we do such a silly thing?\n",
    "Isn't this just a waste of resources?\n",
    "Why iterate over the input `string` if we're just going to call a method for each character that always returns the same character that we give it.\n",
    "Well, because we're going to mark that silly method as `virtual`.\n",
    "Which means that subclasses of `CharWiseCipher` can `override` our implementation of `char Encode (char input)`.\n",
    "If they do, then it is no longer pointless for us to iterate over the string and delegate to the overridden method.\n",
    "\n",
    "Let's look at some code.\n",
    "Here's our superclass that behaves like the identity cipher.\n",
    "Pay attention to how we use the keyword `virtual`."
   ]
  },
  {
   "cell_type": "code",
   "execution_count": 42,
   "id": "ad0394d1",
   "metadata": {},
   "outputs": [],
   "source": [
    "class CharWiseCipher : ICharToCharCipher, IStringToStringCipher\n",
    "{\n",
    "  public virtual char Encode (char input)\n",
    "    => input;\n",
    "\n",
    "  public string Encode (string input)\n",
    "  {\n",
    "    string output = \"\";\n",
    "    foreach (char letter in input)\n",
    "      output += Encode (letter);\n",
    "    return output;\n",
    "  }\n",
    "}"
   ]
  },
  {
   "cell_type": "markdown",
   "id": "6f74c239",
   "metadata": {},
   "source": [
    "Let's run it to make sure that it behaves like the identity cipher."
   ]
  },
  {
   "cell_type": "code",
   "execution_count": 43,
   "id": "3e6b9b4e",
   "metadata": {},
   "outputs": [],
   "source": [
    "CharWiseCipher identity = new CharWiseCipher();\n",
    "identity.Encode('x');"
   ]
  },
  {
   "cell_type": "markdown",
   "id": "a2b9a991",
   "metadata": {},
   "source": [
    "Yup, when we pass it a `char`, we get the same `char` back.\n",
    "How about a `string`?"
   ]
  },
  {
   "cell_type": "code",
   "execution_count": 44,
   "id": "f72ea22e",
   "metadata": {},
   "outputs": [],
   "source": [
    "identity.Encode(\"Hello world\");"
   ]
  },
  {
   "cell_type": "markdown",
   "id": "8e639470",
   "metadata": {},
   "source": [
    "Works too.\n",
    "Ok, so we've got the superclass figured out.\n",
    "Let's create some subclasses.\n",
    "\n",
    "We'll start with `LeetCipher`.\n",
    "Pay attention to how we use the keyword `override`."
   ]
  },
  {
   "cell_type": "code",
   "execution_count": 45,
   "id": "f8127477",
   "metadata": {},
   "outputs": [],
   "source": [
    "class LeetCipher : CharWiseCipher\n",
    "{\n",
    "  public override char Encode (char input)\n",
    "    => input switch {\n",
    "      'L' => '1', '1' => 'L',\n",
    "      'A' => '4', '4' => 'A',\n",
    "      'O' => '0', '0' => 'O',\n",
    "      'T' => '7', '7' => 'T',\n",
    "      'E' => '3', '3' => 'E',\n",
    "      _ => input\n",
    "    };\n",
    "}"
   ]
  },
  {
   "cell_type": "markdown",
   "id": "e56d4ed2",
   "metadata": {},
   "source": [
    "Hmmm.. does this really work?\n",
    "Does this `LeetCipher` actually have a method that takes and returns a `string`?\n",
    "Let's try it out."
   ]
  },
  {
   "cell_type": "code",
   "execution_count": 46,
   "id": "3f0a2d47",
   "metadata": {},
   "outputs": [
    {
     "name": "stdout",
     "output_type": "stream",
     "text": [
      "1337 LOL\n"
     ]
    }
   ],
   "source": [
    "LeetCipher leet = new LeetCipher();\n",
    "Console.WriteLine(leet.Encode(\"LEET 101\"));"
   ]
  },
  {
   "cell_type": "code",
   "execution_count": 47,
   "id": "46701565",
   "metadata": {},
   "outputs": [
    {
     "name": "stdout",
     "output_type": "stream",
     "text": [
      "3\n"
     ]
    }
   ],
   "source": [
    "Console.WriteLine(leet.Encode(\"E\"));"
   ]
  },
  {
   "cell_type": "markdown",
   "id": "d796276e",
   "metadata": {},
   "source": [
    "As you can see, it actually works.\n",
    "The `Encode` method that we've called is defined on the superclass but since our subclass inherits from the superclass we can also call the method on instances of the superclass.\n",
    "Furthermore, since the `Encode` method calls the other `Encode` method which takes and receives a `char`, and since that method has been overridden in the subclass we get a cipher that no longer behaves as the identity cipher.\n",
    "\n",
    "```{seealso}\n",
    "This idea of having a base class with an instance method that uses another instance member that is often overridden in a subclass is known as the Template method pattern.\n",
    "We'll talk more about [design patterns](design-patterns) in a separate chapter.\n",
    "```\n",
    "\n",
    "Pretty neat, no?\n",
    "Now, let's try the `CaesarCipher`.\n",
    "Same kind of drill here."
   ]
  },
  {
   "cell_type": "code",
   "execution_count": 48,
   "id": "fded5aa4",
   "metadata": {},
   "outputs": [],
   "source": [
    "class CaesarCipher : CharWiseCipher\n",
    "{\n",
    "  int steps;\n",
    "\n",
    "  public CaesarCipher (int steps)\n",
    "    => this.steps = steps;\n",
    "\n",
    "  public override char Encode (char input)\n",
    "  {\n",
    "    string alphabet = \"ABCDEFGHIJKLMNOPQRSTUVXYZ\";\n",
    "    int i = alphabet.IndexOf(Char.ToUpper(input));\n",
    "    int newIndex = (i + steps) % alphabet.Length;\n",
    "    if (i != -1)\n",
    "    {\n",
    "      if (newIndex < 0)\n",
    "        newIndex += alphabet.Length;\n",
    "\n",
    "      if (Char.IsLower(input))\n",
    "        return Char.ToLower(alphabet[newIndex]);\n",
    "      else\n",
    "        return alphabet[newIndex];\n",
    "    }\n",
    "    return input;\n",
    "  }\n",
    "}"
   ]
  },
  {
   "cell_type": "code",
   "execution_count": 49,
   "id": "1b5b725a",
   "metadata": {},
   "outputs": [
    {
     "name": "stdout",
     "output_type": "stream",
     "text": [
      "CDE\n"
     ]
    }
   ],
   "source": [
    "CaesarCipher leet = new CaesarCipher(2);\n",
    "Console.WriteLine(leet.Encode(\"ABC\"));"
   ]
  },
  {
   "cell_type": "code",
   "execution_count": 50,
   "id": "68e61dd2",
   "metadata": {},
   "outputs": [
    {
     "name": "stdout",
     "output_type": "stream",
     "text": [
      "C\n"
     ]
    }
   ],
   "source": [
    "Console.WriteLine(leet.Encode('A'));"
   ]
  },
  {
   "cell_type": "markdown",
   "id": "56f98f66",
   "metadata": {},
   "source": [
    "Lo and behold.\n",
    "It works.\n",
    "\n",
    "\n",
    "### Interface inheritance\n",
    "\n",
    "Remember how we said that an interface can inherit from another interface?\n",
    "Let me show you an example of that before we move on.\n",
    "Let's say that we've got an interface called `IIncrementable` which requires that whoever implements declares an instance method with the signature `void Inc ()`."
   ]
  },
  {
   "cell_type": "code",
   "execution_count": 51,
   "id": "afae1535",
   "metadata": {},
   "outputs": [],
   "source": [
    "interface IIncrementable\n",
    "{\n",
    "  void Inc ();\n",
    "}"
   ]
  },
  {
   "cell_type": "markdown",
   "id": "e1e1a185",
   "metadata": {},
   "source": [
    "Let's then say that we're creating another interface called `IAddable` which requires that whoever implements it declares an instance method with the signature `void Add (int y)`.\n",
    "In addition to this however, the interface also inherits from the other interface `IIncrementable`."
   ]
  },
  {
   "cell_type": "code",
   "execution_count": 52,
   "id": "addcaaa0",
   "metadata": {},
   "outputs": [],
   "source": [
    "interface IAddable : IIncrementable\n",
    "{\n",
    "  void Add (int y);\n",
    "}"
   ]
  },
  {
   "cell_type": "markdown",
   "id": "ebaede47",
   "metadata": {},
   "source": [
    "If we now write a class called `Number` that claims to implement `IAddable` and try to only implement the method `Add` we will get a compilation error."
   ]
  },
  {
   "cell_type": "code",
   "execution_count": 53,
   "id": "1d7bf6ca",
   "metadata": {
    "tags": [
     "raises-exception"
    ]
   },
   "outputs": [
    {
     "name": "stderr",
     "output_type": "stream",
     "text": [
      "\n",
      "(1,16): error CS0535: 'Number' does not implement interface member 'IIncrementable.Inc()'\n",
      "\n"
     ]
    },
    {
     "ename": "Error",
     "evalue": "compilation error",
     "output_type": "error",
     "traceback": []
    }
   ],
   "source": [
    "class Number : IAddable\n",
    "{\n",
    "  int x = 0;\n",
    "\n",
    "  public void Add (int y) => x += y;\n",
    "}"
   ]
  },
  {
   "cell_type": "markdown",
   "id": "422954d5",
   "metadata": {},
   "source": [
    "Since `IAddable` inherits from the interface `IIncrementable`, `Number` must not only implement `Add` but also `Inc`."
   ]
  },
  {
   "cell_type": "code",
   "execution_count": 54,
   "id": "281dbd99",
   "metadata": {},
   "outputs": [],
   "source": [
    "class Number : IAddable\n",
    "{\n",
    "  int x = 0;\n",
    "\n",
    "  public void Inc () => x++;\n",
    "  public void Add (int y) => x += y;\n",
    "}"
   ]
  },
  {
   "cell_type": "markdown",
   "id": "497c2c99",
   "metadata": {},
   "source": [
    "## Discussion\n",
    "\n",
    "If you find the examples in this chapter awkward, you're not alone.\n",
    "I do too.\n",
    "\n",
    "I have searched far and wide and the more I look, the more I get convinced that there are no good examples of inheritance where the base class is not abstract or where the whole thing is not [better](maintainability) modeled with [composition over inheritance](composition-over-inheritance).\n",
    "\n",
    "In the case of C#, you can even choose to combine interfaces and [extension methods](extension-methods) but we'll cover that much later.\n",
    "\n",
    "However, just because all I've seen is white swans, doesn't prove that there are no black swans, so if you ever come across a good example, I would really, really, really appreciate it if you would let me know.\n",
    "Because I for one have given up on inheritance, just like I have given up on [object oriented programming](why-oo).\n",
    "\n",
    "\n",
    "## Exercises\n",
    "% TODO: NEEDS CODING EXERCISES!\n",
    "\n",
    "```{exercise}\n",
    "What is *inheritance*?\n",
    "Use your own words, give an example, and then implement that example.\n",
    "```\n",
    "\n",
    "```{exercise}\n",
    "What is *overriding*?\n",
    "Use your own words, give an example, and then implement that example.\n",
    "```\n",
    "\n",
    "```{exercise}\n",
    "What is the difference between *overriding*, *overloading*, and *hiding*?\n",
    "Explain in words and then show the difference by means of an example.\n",
    "```\n",
    "\n",
    "\n",
    "```{exercise}\n",
    "Can the class `ReverseCipher` inherit from `CharWiseCipher`?\n",
    "Why or why not?\n",
    "```\n",
    "\n",
    "```{exercise}\n",
    ":label: ex:inheritance:robbers-cipher-charwisecipher\n",
    "Can the class `RobbersCipher` inherit from `CharWiseCipher`?\n",
    "Why or why not?\n",
    "\n",
    "Hint: Perhaps the class should be called `CharToCharSubstitutionCipher` or `CharwiseCharToCharCipher`. Why is that?\n",
    "```\n",
    "\n",
    "```{exercise}\n",
    ":label: inheritance:exercises:chartostringsubstitutioncipher\n",
    "Think about your answer to {numref}`ex:inheritance:robbers-cipher-charwisecipher` and use our implementation of `CharWiseCipher` (which perhaps should be called `CharToCharSubstitutionCipher`) as inspiration for the following exercise.\n",
    "\n",
    "Write a class called `CharToStringSubstitutionCipher` that implements the interfaces `ICharToStringCipher` and `IStringToStringCipher`.\n",
    "`RobbersCipher` should inherit from this new class in a way that makes it possible to remove the method with the signature `string Encode (string input)` from `RobbersCipher`.\n",
    "```\n",
    "\n",
    "```{exercise}\n",
    "Can an interface inherit from multiple interfaces?\n",
    "Try it.\n",
    "```\n",
    "\n",
    "```{exercise}\n",
    "Can we introduce an interface that inherits from all our three cipher interfaces?\n",
    "What would such an interface mean?\n",
    "How is it useful?\n",
    "```\n",
    "\n",
    "```{exercise}\n",
    ":label: ex:inheritance:triangular\n",
    "Start with the class `Sequence` that we wrote in this chapter.\n",
    "Write your own subclass of the class `Sequence` that implements the [Triangular number sequence](https://en.wikipedia.org/wiki/Triangular_number).\n",
    "```"
   ]
  },
  {
   "cell_type": "code",
   "execution_count": 55,
   "id": "717d3672",
   "metadata": {
    "tags": [
     "remove-input"
    ]
   },
   "outputs": [
    {
     "name": "stderr",
     "output_type": "stream",
     "text": [
      "\n",
      "(6,7): error CS1729: 'Sequence' does not contain a constructor that takes 1 arguments\n",
      "\n"
     ]
    },
    {
     "ename": "Error",
     "evalue": "compilation error",
     "output_type": "error",
     "traceback": []
    }
   ],
   "source": [
    "class Triangular : Sequence\n",
    "{\n",
    "  int n = 0;\n",
    "\n",
    "  public Triangular ()\n",
    "    : base(0) { }\n",
    "\n",
    "  public override int Current\n",
    "  {\n",
    "    get => (n * (n + 1)) / 2;\n",
    "  }\n",
    "\n",
    "  public override void Next()\n",
    "  {\n",
    "    n++;\n",
    "  }\n",
    "}"
   ]
  },
  {
   "cell_type": "markdown",
   "id": "c4204f5b",
   "metadata": {},
   "source": [
    "```{exercise}\n",
    ":label: ex:inheritance:fibonacci\n",
    "Start with the class `Sequence` that we wrote in this chapter.\n",
    "Write your own subclass of the class `Sequence` that implements the [Fibonacci sequence](https://en.wikipedia.org/wiki/Fibonacci_number).\n",
    "```\n",
    "\n",
    "\n",
    "\n",
    "\n",
    "%## TODO: RE-INTRODUCE ANY OF THIS OLD STUFF?\n",
    "%\n",
    "%Let's start with the code we built in the end of the chapter on [concrete dependency construction](concrete-dependency-construction).\n",
    "%We had a class called `RobbersStringCipher` that exposed a method called `Encode` that took a `string` as input and produced a `string` as output.\n",
    "%This method in turn instantiated and delegated to an instance of `RobbersCharCipher`.\n",
    "%The method it delegated to was also called `Encode` but this method took a `char` as input and produced a `string` as output.\n",
    "%Together it all looked like the code below:\n",
    "%\n",
    "%```csharp\n",
    "%class RobbersStringCipher\n",
    "%{\n",
    "%  RobbersCharCipher charCipher;\n",
    "%\n",
    "%  public RobbersStringCipher (char vowel)\n",
    "%    => charCipher = new RobbersCharCipher(vowel);\n",
    "%\n",
    "%  public string Encode (string input)\n",
    "%  {\n",
    "%    string output = \"\";\n",
    "%\n",
    "%    foreach (char c in input)\n",
    "%      output += charCipher.Encode(c);\n",
    "%\n",
    "%    return output;\n",
    "%  }\n",
    "%}\n",
    "%\n",
    "%class RobbersCharCipher\n",
    "%{\n",
    "%  char vowel;\n",
    "%\n",
    "%  public RobbersCharCipher (char vowel)\n",
    "%    => this.vowel = vowel;\n",
    "%\n",
    "%  public string Encode (char input)\n",
    "%  {\n",
    "%    string consonants = \"bcdfghjklmnpqrstvwxz\";\n",
    "%\n",
    "%    if (consonants.IndexOf(Char.ToLower(input)) != -1)\n",
    "%      return $\"{input}{vowel}{input}\";\n",
    "%    else\n",
    "%      return input.ToString();\n",
    "%  }\n",
    "%}\n",
    "%```\n",
    "%\n",
    "%Now that we've learned about subtype polymorphism we should have our abstraction goggles on and constantly look for commonalities between types that would lend themselves to a new abstraction.\n",
    "%Remember Leetspeak?\n",
    "%Have a look at the following code:\n",
    "%\n",
    "%```csharp\n",
    "%class LeetStringCipher\n",
    "%{\n",
    "%  LeetCharCipher charCipher = new LeetCharCipher();\n",
    "%\n",
    "%  public string Encode (string input)\n",
    "%  {\n",
    "%    string output = \"\";\n",
    "%\n",
    "%    foreach (char c in input)\n",
    "%      output += charCipher.Encode(c);\n",
    "%\n",
    "%    return output;\n",
    "%  }\n",
    "%}\n",
    "%\n",
    "%class LeetCharCipher : ICharCipher\n",
    "%{\n",
    "%  public string Encode (char input)\n",
    "%  {\n",
    "%    switch (input)\n",
    "%    {\n",
    "%      case 'A': return \"4\";\n",
    "%      case '4': return \"A\";\n",
    "%      case 'L': return \"7\";\n",
    "%      case '7': return \"L\";\n",
    "%      case 'E': return \"3\";\n",
    "%      case '3': return \"E\";\n",
    "%      case 'O': return \"0\";\n",
    "%      case '0': return \"O\";\n",
    "%      default: return input.ToString();\n",
    "%    }\n",
    "%  }\n",
    "%}\n",
    "%```\n",
    "%\n",
    "%Starting to see where this is going?\n",
    "%Have a close look at `RobbersStringCipher` and `LeetStringCipher`.\n",
    "%They are eerily similar, are they not?\n",
    "%How about `RobbersCharCipher` and `LeetCharCipher`?\n",
    "%They too are similar.\n",
    "%Of course, this whole example is orchestrated by me so that these similarities emerge.\n",
    "%However, you will often find that if you think about your domain model long and hard enough then you will find a way to make similarities, and hence abstractions, emerge.\n",
    "%\n",
    "%Remember the code you wrote in {numref}`ex:concrete-dependency-construction-caesar-cipher` where we implemented a Caesar Cipher by again decomposing the problem into the idea of encoding a full string and decoding a single character.\n",
    "%You ought to have ended up with two classes that also are eerily similar to the two string and `char` cipher classes here.\n",
    "%\n",
    "%We've already talked about how we can unify different ciphers that take a `string` as input and produce a `string` as output under the interface `ICipher` in the chapter on [subtype polymorphism](subtype-polymorphism).\n",
    "%Let's ignore the `string` ciphers in this chapter and instead focus on the `char` ciphers.\n",
    "%\n",
    "%%Adapting the code above is trivial since we just have to state that the two classes implement the interface `ICipher`.\n",
    "%%It would look something like this:\n",
    "%%\n",
    "%%```csharp\n",
    "%%interface ICipher { string Encode (string input); }\n",
    "%%class RobbersStringCipher : ICipher { /* ... */ }\n",
    "%%class LeetStringCipher : ICipher { /* ... */ }\n",
    "%%```\n",
    "%\n",
    "%All the `char` ciphers have a method called `Encode` which takes a `char` as input and produces a `string` as output.\n",
    "%Let's put that in an interface.\n",
    "%\n",
    "%```csharp\n",
    "%interface ICharCipher\n",
    "%{\n",
    "%  string Encode (char input);\n",
    "%}\n",
    "%```\n",
    "%\n",
    "%Ok, implementing that interface should be straightforward since we wrote the interface based on a method that already existed in both `RobbersCharCipher` and `LeetCharCipher`.\n",
    "%So let's just declare that these two classes are implementing the interface `ICharCipher` and make sure that our code compiles.\n",
    "%\n",
    "%```csharp\n",
    "%class RobbersCharCipher : ICharCipher { /* ... */ }\n",
    "%class LeetCharCipher : ICharCipher { /* ... */ }\n",
    "%```\n",
    "%\n",
    "%```output\n",
    "%Build succeeded.\n",
    "%```\n",
    "%\n",
    "%Ok, but what does the common interface `ICharCipher` enable us to do?\n",
    "%Sure, we could redefine the lines that declare the variable `charCipher` in both `RobbersStringCipher` and `LeetStringCipher` so that the compile-time type is the abstraction `ICharCipher` rather than any concrete implementation of that interface.\n",
    "%We would take this code:\n",
    "%\n",
    "%```csharp\n",
    "%class RobbersStringCipher\n",
    "%{\n",
    "%  RobbersCharCipher charCipher;\n",
    "%// ...\n",
    "%```\n",
    "%\n",
    "%and change it to this:\n",
    "%\n",
    "%\n",
    "%```csharp\n",
    "%class RobbersStringCipher\n",
    "%{\n",
    "%  ICharCipher charCipher;\n",
    "%// ...\n",
    "%```\n",
    "%\n",
    "%But do we really gain anything substantial from this?\n",
    "%Not really.\n",
    "%If you've got code where you're somehow switching between different ciphers in the same object over time then it's possible to gain something from this but probably not.\n",
    "%In our case, there's really no obvious benefit.\n",
    "%\n",
    "%\n",
    "%## Finding an abstraction\n",
    "%\n",
    "%However, what if we could get rid of the duplicated code in the `Encode` methods of the `string` ciphers.\n",
    "%That would be useful.\n",
    "%We have already learned the design principle abbreviated DRY, which stands for \"Don't Repeat Yourself\".\n",
    "%As we will learn later, duplicated code is also considered a [code smell](code-smell).\n",
    "%\n",
    "%Notice how *almost all the variation* between the ciphers in this chapter occurr in the `char` ciphers, not in the `string` ciphers.\n",
    "%Ignoring parameterization of constructors for now, we conclude that the *only* difference between `RobbersStringCipher` and `LeetStringCipher` is what *type* of `char` cipher they happen to instantiate and thus delegate to.\n",
    "%\n",
    "%So let's think about this.\n",
    "%If there's nothing that's different between `RobbersStringCipher` and `LeetStringCipher`, then what is the concept that makes them the same.\n",
    "%Think about it, they both encode in the same way.\n",
    "%One character at a time.\n",
    "%\n",
    "%To see similarities, we must sometimes look at differences.\n",
    "%Remember the reverse cipher?\n",
    "%Here's an implementation of the reverse cipher:\n",
    "%\n",
    "%```csharp\n",
    "%class ReverseCipher\n",
    "%{\n",
    "%  public string Encode (string input)\n",
    "%  {\n",
    "%    string output = \"\";\n",
    "%    for (int i=input.Length-1; i >= 0; i--)\n",
    "%      output += input[i];\n",
    "%    return output;\n",
    "%  }\n",
    "%}\n",
    "%```\n",
    "%\n",
    "%Notice how we're picking characters from the input string \"backwards\" but we're building the encoded string \"forwards\".\n",
    "%In other words we're taking characters last to first but we're building the resulting string first to last.\n",
    "%\n",
    "%The Reverse cipher algorithm is fundamentally different from the Robber's cipher and Leetspeak.\n",
    "%In the sense that it cannot (easily) be implemented as a left-to-right character-by-character conversion.\n",
    "%The first character of the input `string` *cannot* be used as input to create the first chunk of the output `string`.\n",
    "%\n",
    "%So, what's one thing that unifies the Robber's cipher and Leetspeak?\n",
    "%The encoding algorithms can both be implemented as character-by-character conversions where every input character yields one or more output characters in the correct order.\n",
    "%\n",
    "%## Composing the abstraction\n",
    "%\n",
    "%So how do we implement this?\n",
    "%In this chapter we'll use [inheritance](inheritance) but in the chapter on [abstract injected object composition](abstract-injected-object-composition) we'll use composition instead.\n",
    "%Most, including myself, would argue that the composition based solution is superior.\n",
    "%If you've ever heard about the design principle [composition over inheritance](composition-over-inheritance) you will soon start to see why this principle exists.\n",
    "%At it's core, the problem with inheritance is that it assumes that you problem forms a hierarchy.\n",
    "%Few problems are hierarchies, many are graphs.\n",
    "%But, let's go with inheritance in this chapter since we're talking about abstract dependency *construction* and not *injection*.\n",
    "%\n",
    "%What we can do with inheritance is that we can say that the method `string Encode (string input)` should be implemented in a baseclass from which other subclasses can inherit.\n",
    "%That method then delegates to a [protected](advanced-access-modifiers) instance variable which can be overwritten upon construction of subclasses.\n",
    "%Let's look at some code to make sense of this.\n",
    "%Here's the base class:\n",
    "%\n",
    "%```csharp\n",
    "%class CharWiseCipher : ICipher\n",
    "%{\n",
    "%  protected ICharCipher charCipher = new IdentityCharCipher();\n",
    "%\n",
    "%  public string Encode (string input)\n",
    "%  {\n",
    "%    string output = \"\";\n",
    "%\n",
    "%    foreach (char c in input)\n",
    "%      output += charCipher.Encode(c);\n",
    "%\n",
    "%    return output;\n",
    "%  }\n",
    "%}\n",
    "%```\n",
    "%\n",
    "%What does this baseclass do?\n",
    "%Two things:\n",
    "%\n",
    "%1. It declares and initializes the `protected` instance variable `charCipher` to a default value.\n",
    "%2. It declares and implements the instance method `string Encode (string input)` as simply passing each character of the `string` to the `Encode` method of `charCipher` and concatenating the result.\n",
    "%\n",
    "%But what is the type `IdentityCharCipher` that acts as the default value?\n",
    "%Well, we've talked about the idea of identity functions and values before.\n",
    "%The identity `char` cipher is a cipher that simply returns whatever you pass it back.\n",
    "%As you might have suspected, the class `IdentityCharCipher` is implemented something like this:\n",
    "%\n",
    "%```csharp\n",
    "%class IdentityCharCipher : ICharCipher\n",
    "%{\n",
    "%  public string Encode (char input) => input.ToString();\n",
    "%}\n",
    "%```\n",
    "%\n",
    "%Let's now look at how the baseclass `CharWiseCipher` behaves before we move on.\n",
    "%\n",
    "%```csharp\n",
    "%Console.WriteLine(new CharWiseCipher().Encode(\"Hello world\"));\n",
    "%```\n",
    "%\n",
    "%```output\n",
    "%Hello world\n",
    "%```\n",
    "%\n",
    "%Simple, and pretty pointless so far.\n",
    "%But, we can now create subclasses for each of our character-wise ciphers.\n",
    "%Each of the subclasses must, upon construction, replace the `protected` instance variable `charCipher` that's declared in the base class with whatever concrete `ICharCipher` that they need.\n",
    "%\n",
    "%```csharp\n",
    "%class LeetCipher : CharWiseCipher\n",
    "%{\n",
    "%  public LeetCipher ()\n",
    "%    => charCipher = new LeetCharCipher();\n",
    "%}\n",
    "%\n",
    "%class RobbersCipher : CharWiseCipher\n",
    "%{\n",
    "%  public RobbersCipher (char vowel)\n",
    "%    => charCipher = new RobbersCharCipher(vowel);\n",
    "%}\n",
    "%```\n",
    "%\n",
    "%Notice how utterly simple both of these ciphers now are.\n",
    "%They almost don't contain any code at all.\n",
    "%This is the power of abstraction and composition.\n",
    "%By building abstract building blocks we can trivially compose them to solve complex problems.\n",
    "%\n",
    "%Notice how the constructor of `RobbersCipher` can remain parameterized and thus still pass the parameter on to the constructor of `RobbersCharCipher`.\n",
    "%However, perhaps you remember that we, in the chapter on [concrete dependency construction](concrete-dependency-construction) cautioned that this need to pass constructor values down from type to type is a symptom of which dependency *construction* is the cause.\n",
    "%When we move to dependency *injection* this need to enable passing of constructor parameters simply goes away.\n",
    "%\n",
    "%For an overview of the code that we've built in this chapter, have a look at {numref}`fig:abstract-dependency-construction-uml`.\n",
    "%\n",
    "%```{figure} https://via.placeholder.com/500x275?text=Image+coming+soon\n",
    "%:name: fig:abstract-dependency-construction-uml\n",
    "%\n",
    "%UML class diagram of our example of abstract dependency construction.\n",
    "%```\n",
    "%\n",
    "%Isn't all this a bit overkill you might ask?\n",
    "%No, this is just the beginning.\n",
    "%The point is that now other ciphers that take a full `string` as input and performs their transformation one character at a time from left to right can subclass `CharWiseCipher` and simply, upon construction, set the instance variable to an instance that's suitable for whatever we're trying to achieve with that particular cipher.\n",
    "%\n",
    "%This means that the `LeetStringCipher` which we've now renamed to `LeetCipher` and the `RobbersStringCipher` which we've now renamed to simply `RobbersCipher` can become utterly trivial.\n",
    "%\n",
    "\n",
    "\n",
    "\n",
    "\n",
    "% TODO: MOVED HERE FROM DATA TYPES CHAPTER. USE HERE?\n",
    "%#### Dot notation\n",
    "%\n",
    "%Let's now talk about dot notation.\n",
    "%If you use dot notation on an object then we are calling an [instance method](instance-methods) on that object.\n",
    "%If you use dot notation on a class then we are calling a [static method](static-methods) on that class.\n",
    "%We'll talk a lot more about both instance and static methods in their respective chapters so don't worry if it feels overwhelming at this point.\n",
    "%\n",
    "%We've already discussed how we can use the instance method `GetType` to make an object report what it's run-time type is.\n",
    "%This method is an instance method that we call using dot-notation and that can be called on all things that can be treated as objects.\n",
    "%More on this in the chapter on [type hierarchies](type-hierarchies).\n",
    "%\n",
    "%```csharp\n",
    "%\"A\".GetType();\n",
    "%420.GetType();\n",
    "%3.14.GetType();\n",
    "%```\n",
    "%\n",
    "%What I want to show you now is that the data type of the method `GetType` can be defined like this:\n",
    "%\n",
    "%```\n",
    "%GetType :: object ~> string\n",
    "%```\n",
    "%\n",
    "%We can read this type signatures as that `GetType` is an instance method on the type `object` that when called without any arguments, returns a `string`.\n",
    "%\n",
    "%Another method that we've seen a lot is the method `WriteLine`.\n",
    "%This is a static method that can be run in a number of different ways since it has been defined with a bunch of different, so called, [method overloads](overloading).\n",
    "%More on this in it's own chapter, but this means that the method `WriteLine` has a bunch of different type signatures.\n",
    "%Some of the signatures that we've used are listed below.\n",
    "%\n",
    "%```\n",
    "%WriteLine :: string -> void\n",
    "%WriteLine :: bool -> void\n",
    "%WriteLine :: int -> void\n",
    "%```\n",
    "%\n",
    "%The first one says that `WriteLine` is a static method that, when called with a `string`, returns nothing.\n",
    "%The second one says that `WriteLine` is a static method that, when called with a `bool`, returns nothing.\n",
    "%Finally, the third one says that `WriteLine` is a static method that, when called with an `int`, returns nothing.\n",
    "%\n",
    "%The astute reader might have noticed that we snuck the type `void` into the examples above and then referred to it as \"nothing\" when reading the types.\n",
    "%We'll return to this special data type in the chapter on [nothingness](nothingness)."
   ]
  }
 ],
 "metadata": {
  "jupytext": {
   "formats": "md:myst",
   "text_representation": {
    "extension": ".md",
    "format_name": "myst"
   }
  },
  "kernelspec": {
   "display_name": "csharp",
   "language": ".net-csharp",
   "name": ".net-csharp"
  },
  "language_info": {
   "file_extension": ".cs",
   "mimetype": "text/x-csharp",
   "name": "C#",
   "pygments_lexer": "csharp",
   "version": "10.0"
  },
  "source_map": [
   11,
   53,
   56,
   65,
   73,
   77,
   80,
   84,
   87,
   100,
   102,
   106,
   108,
   121,
   133,
   138,
   141,
   145,
   148,
   152,
   155,
   221,
   233,
   238,
   241,
   245,
   248,
   253,
   256,
   277,
   286,
   293,
   308,
   313,
   316,
   327,
   341,
   344,
   451,
   470,
   493,
   502,
   517,
   531,
   535,
   541,
   545,
   560,
   577,
   607,
   631,
   641,
   653,
   662,
   667,
   683,
   687,
   703,
   705,
   721,
   740,
   760,
   764,
   777,
   792,
   796,
   804,
   819,
   821,
   853,
   869,
   877,
   898,
   902,
   935,
   969,
   983,
   987,
   990,
   995,
   997,
   1006,
   1019,
   1025,
   1030,
   1032,
   1047,
   1076,
   1081,
   1083,
   1095,
   1100,
   1105,
   1110,
   1114,
   1122,
   1126,
   1134,
   1207,
   1226
  ]
 },
 "nbformat": 4,
 "nbformat_minor": 5
}