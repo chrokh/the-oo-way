{
 "cells": [
  {
   "cell_type": "markdown",
   "id": "b7f78fa5",
   "metadata": {},
   "source": [
    "# Inheritance\n",
    "\n",
    "% TODO: Mention drawback of only one spot for inheritance. Referenced from chapter on Liskov.\n",
    "%- Base keyword!! Both in constructor context and beyond.\n",
    "%- Fragile base class. Example: Abstract class Shape which defines a Scale method that multiplies width and height with factor. This breaks if a subclass of Shape like Circle changes both Width and Height in response to a change in one of them.\n",
    "\n",
    "\n",
    "## Motivation\n",
    "\n",
    "Inheritance, in object oriented languages, tend to serve two purposes.\n",
    "\n",
    "1. Inheriting the Inheritance is a mechanism that allows a subtype to either inherit or [override](overriding) instance members from its supertype. This can be thought of as inheriting the implementation and is sometimes called \"implementation inheritance\".\n",
    "2. Inheritance causes the subtype to be substitutable for the supertype in the sense of subtype polymorphism. This can be thought of as inheriting the type and is sometimes called \"interface inheritance\".\n",
    "\n",
    "We have already discussed the benefits of subtype polymorphism in the chapters on [interfaces](interfaces) and [subtype polymorphism](subtype-polymorphism).\n",
    "We have thus already dealt with the second point above, and will in this chapter therefore mostly focus on the first.\n",
    "Namely, that of using inheritance to eliminate duplication by allowing subclasses to use code from its superclass.\n",
    "\n",
    "Nevertheless, it is of *vital importance* to realize that these two purposes always go hand-in-hand.\n",
    "Whenever we declare that a subclass inherits from a superclass, then we are always and without exception also declaring that the former is a subtype of the latter.\n",
    "\n",
    "In other words, inheritance always leads to subtype polymorphism which means that we must take care not violate the [Liskov substitution principle](liskov-substitution-principle) or else we are in for a world of hurt.\n",
    "\n",
    "```{danger}\n",
    "Inheritance must *not* blindly be used for *code reuse* without respecting the rules of substitutability.\n",
    "```\n",
    "\n",
    "\n",
    "## Definition\n",
    "\n",
    "Inheritance is a binary directed relationship between two (possibly [abstract](abstract-classes)) classes or [interfaces](interface-inheritance).\n",
    "Similar to the terminology used in [subtype polymorphism](subtype-polymorphism) we refer to the two parties as sub/child/derived class/type and super/parent/base class/type.\n",
    "The subclass inherits both type and members from its superclass.\n",
    "We'll discuss [abstract classes](abstract-classes) in a separate chapter.\n",
    "\n",
    "To declare that a class is a subclass of another class in C# we use the same syntax as we use when declaring that the class implements some [interface](interfaces).\n",
    "In other words, we write a colon (`:`) after the class name and then the name of the superclass.\n",
    "\n",
    "In the example below, we declare that the class `Child` inherits from the class `Parent`."
   ]
  },
  {
   "cell_type": "code",
   "execution_count": 1,
   "id": "95ca4f54",
   "metadata": {},
   "outputs": [
    {
     "data": {
      "text/html": [
       "\r\n",
       "<div>\r\n",
       "    <div id='dotnet-interactive-this-cell-3148.Microsoft.DotNet.Interactive.Http.HttpPort' style='display: none'>\r\n",
       "        The below script needs to be able to find the current output cell; this is an easy method to get it.\r\n",
       "    </div>\r\n",
       "    <script type='text/javascript'>\r\n",
       "async function probeAddresses(probingAddresses) {\r\n",
       "    function timeout(ms, promise) {\r\n",
       "        return new Promise(function (resolve, reject) {\r\n",
       "            setTimeout(function () {\r\n",
       "                reject(new Error('timeout'))\r\n",
       "            }, ms)\r\n",
       "            promise.then(resolve, reject)\r\n",
       "        })\r\n",
       "    }\r\n",
       "\r\n",
       "    if (Array.isArray(probingAddresses)) {\r\n",
       "        for (let i = 0; i < probingAddresses.length; i++) {\r\n",
       "\r\n",
       "            let rootUrl = probingAddresses[i];\r\n",
       "\r\n",
       "            if (!rootUrl.endsWith('/')) {\r\n",
       "                rootUrl = `${rootUrl}/`;\r\n",
       "            }\r\n",
       "\r\n",
       "            try {\r\n",
       "                let response = await timeout(1000, fetch(`${rootUrl}discovery`, {\r\n",
       "                    method: 'POST',\r\n",
       "                    cache: 'no-cache',\r\n",
       "                    mode: 'cors',\r\n",
       "                    timeout: 1000,\r\n",
       "                    headers: {\r\n",
       "                        'Content-Type': 'text/plain'\r\n",
       "                    },\r\n",
       "                    body: probingAddresses[i]\r\n",
       "                }));\r\n",
       "\r\n",
       "                if (response.status == 200) {\r\n",
       "                    return rootUrl;\r\n",
       "                }\r\n",
       "            }\r\n",
       "            catch (e) { }\r\n",
       "        }\r\n",
       "    }\r\n",
       "}\r\n",
       "\r\n",
       "function loadDotnetInteractiveApi() {\r\n",
       "    probeAddresses([\"http://10.1.0.56:1024/\", \"http://127.0.0.1:1024/\"])\r\n",
       "        .then((root) => {\r\n",
       "        // use probing to find host url and api resources\r\n",
       "        // load interactive helpers and language services\r\n",
       "        let dotnetInteractiveRequire = require.config({\r\n",
       "        context: '3148.Microsoft.DotNet.Interactive.Http.HttpPort',\r\n",
       "                paths:\r\n",
       "            {\r\n",
       "                'dotnet-interactive': `${root}resources`\r\n",
       "                }\r\n",
       "        }) || require;\r\n",
       "\r\n",
       "            window.dotnetInteractiveRequire = dotnetInteractiveRequire;\r\n",
       "\r\n",
       "            window.configureRequireFromExtension = function(extensionName, extensionCacheBuster) {\r\n",
       "                let paths = {};\r\n",
       "                paths[extensionName] = `${root}extensions/${extensionName}/resources/`;\r\n",
       "                \r\n",
       "                let internalRequire = require.config({\r\n",
       "                    context: extensionCacheBuster,\r\n",
       "                    paths: paths,\r\n",
       "                    urlArgs: `cacheBuster=${extensionCacheBuster}`\r\n",
       "                    }) || require;\r\n",
       "\r\n",
       "                return internalRequire\r\n",
       "            };\r\n",
       "        \r\n",
       "            dotnetInteractiveRequire([\r\n",
       "                    'dotnet-interactive/dotnet-interactive'\r\n",
       "                ],\r\n",
       "                function (dotnet) {\r\n",
       "                    dotnet.init(window);\r\n",
       "                },\r\n",
       "                function (error) {\r\n",
       "                    console.log(error);\r\n",
       "                }\r\n",
       "            );\r\n",
       "        })\r\n",
       "        .catch(error => {console.log(error);});\r\n",
       "    }\r\n",
       "\r\n",
       "// ensure `require` is available globally\r\n",
       "if ((typeof(require) !==  typeof(Function)) || (typeof(require.config) !== typeof(Function))) {\r\n",
       "    let require_script = document.createElement('script');\r\n",
       "    require_script.setAttribute('src', 'https://cdnjs.cloudflare.com/ajax/libs/require.js/2.3.6/require.min.js');\r\n",
       "    require_script.setAttribute('type', 'text/javascript');\r\n",
       "    \r\n",
       "    \r\n",
       "    require_script.onload = function() {\r\n",
       "        loadDotnetInteractiveApi();\r\n",
       "    };\r\n",
       "\r\n",
       "    document.getElementsByTagName('head')[0].appendChild(require_script);\r\n",
       "}\r\n",
       "else {\r\n",
       "    loadDotnetInteractiveApi();\r\n",
       "}\r\n",
       "\r\n",
       "    </script>\r\n",
       "</div>"
      ]
     },
     "metadata": {},
     "output_type": "display_data"
    }
   ],
   "source": [
    "class Parent { }\n",
    "class Child : Parent { }"
   ]
  },
  {
   "cell_type": "markdown",
   "id": "e6a430c0",
   "metadata": {},
   "source": [
    "### Inheriting members\n",
    "\n",
    "We've said that the subclass inherits all ([public or protected](access-modifiers)) members of the superclass.\n",
    "What does this mean in practice?\n",
    "In the code below the the subclass contains no instance members.\n",
    "We do however declare that the subclass inherits from a superclass which does contain a public instance method."
   ]
  },
  {
   "cell_type": "code",
   "execution_count": 2,
   "id": "df464254",
   "metadata": {},
   "outputs": [],
   "source": [
    "class Parent\n",
    "{\n",
    "  public void InheritedMethod ()\n",
    "    => Console.WriteLine(\"Implemented in parent.\");\n",
    "}\n",
    "\n",
    "class Child : Parent { }"
   ]
  },
  {
   "cell_type": "markdown",
   "id": "ba6e4d68",
   "metadata": {},
   "source": [
    "Since the superclass defines an instance method we can of course call that instance method on instances of that type."
   ]
  },
  {
   "cell_type": "code",
   "execution_count": 3,
   "id": "310d4122",
   "metadata": {},
   "outputs": [
    {
     "name": "stdout",
     "output_type": "stream",
     "text": [
      "Implemented in parent.\n"
     ]
    }
   ],
   "source": [
    "Parent parent = new Parent();\n",
    "parent.InheritedMethod();"
   ]
  },
  {
   "cell_type": "markdown",
   "id": "ab1595c0",
   "metadata": {},
   "source": [
    "However, since the subclass *inherits* from that superclass we can also call that instance method on all instances of the subclass."
   ]
  },
  {
   "cell_type": "code",
   "execution_count": 4,
   "id": "619509df",
   "metadata": {},
   "outputs": [
    {
     "name": "stdout",
     "output_type": "stream",
     "text": [
      "Implemented in parent.\n"
     ]
    }
   ],
   "source": [
    "Child child = new Child(); // Note that this is the subtype!\n",
    "child.InheritedMethod();"
   ]
  },
  {
   "cell_type": "markdown",
   "id": "6460807c",
   "metadata": {},
   "source": [
    "### Inheriting types\n",
    "\n",
    "We've also said that the subclass inherits the type of the superclass in the sense of [subtype polymorphism](subtype-polymorphism).\n",
    "What does this mean?\n",
    "It means that we can treat instances of the subclass as if they were instances of the superclass.\n",
    "It means that we can let the compile-time type be the superclass and the run-time type be any subclasses of that superclass.\n",
    "\n",
    "Given the two types `Parent` and `Child` that we defined above we can therefore assign instances of type `Child` to variables of type `Parent`.\n",
    "Note how the compile-time type is the general type, while the run-time type is the special type in the code below."
   ]
  },
  {
   "cell_type": "code",
   "execution_count": 5,
   "id": "1adfe98e",
   "metadata": {},
   "outputs": [],
   "source": [
    "Parent child = new Child();"
   ]
  },
  {
   "cell_type": "markdown",
   "id": "ccbf3afb",
   "metadata": {},
   "source": [
    "Of course, the compiler still allows us to invoke the instance method `InheritedMethod` since it's defined in `Parent` and our compile-time type is `Parent`."
   ]
  },
  {
   "cell_type": "code",
   "execution_count": 6,
   "id": "a188330c",
   "metadata": {},
   "outputs": [
    {
     "name": "stdout",
     "output_type": "stream",
     "text": [
      "Implemented in parent.\n"
     ]
    }
   ],
   "source": [
    "child.InheritedMethod();"
   ]
  },
  {
   "cell_type": "markdown",
   "id": "01fb728e",
   "metadata": {},
   "source": [
    "(overriding)=\n",
    "### Overriding\n",
    "\n",
    "We've established that a subclass inherits all members from its superclass.\n",
    "However, if an [instance method](instance-methods) or [instance property](properties) in the superclass is marked as `virtual` then it is possible for the subclass to `override` that implementation.\n",
    "Meaning, it is possible for the subclass to define its own specialized implementation for that member to use instead of the one defined by the superclass.\n",
    "\n",
    "Starting from the same code as above, let's rewrite it so that the instance method in the superclass is marked as `virtual` so that we can `override` it in the subclass."
   ]
  },
  {
   "cell_type": "code",
   "execution_count": 7,
   "id": "4bb40814",
   "metadata": {},
   "outputs": [],
   "source": [
    "class Parent\n",
    "{\n",
    "  public virtual void OverriddenMethod ()\n",
    "    => Console.WriteLine(\"Implemented in PARENT.\");\n",
    "}\n",
    "\n",
    "class Child : Parent\n",
    "{\n",
    "  public override void OverriddenMethod ()\n",
    "    => Console.WriteLine(\"Implemented in CHILD.\");\n",
    "}"
   ]
  },
  {
   "cell_type": "markdown",
   "id": "d7560ace",
   "metadata": {},
   "source": [
    "If we instantiate a `Parent`, treat it as a `Parent`, and then call the instance method, we will execute the implementation defined in `Parent`.\n",
    "Unsurprising."
   ]
  },
  {
   "cell_type": "code",
   "execution_count": 8,
   "id": "2eccbcc9",
   "metadata": {},
   "outputs": [
    {
     "name": "stdout",
     "output_type": "stream",
     "text": [
      "Implemented in PARENT.\n"
     ]
    }
   ],
   "source": [
    "Parent parentAsParent = new Parent();\n",
    "parentAsParent.OverriddenMethod();"
   ]
  },
  {
   "cell_type": "markdown",
   "id": "d21463b0",
   "metadata": {},
   "source": [
    "What is also unsurprising, is that if we instantiate a `Child`, treat it as a `Child`, and then call the instance method, we will execute the implementation defined in `Child`."
   ]
  },
  {
   "cell_type": "code",
   "execution_count": 9,
   "id": "58b25589",
   "metadata": {},
   "outputs": [
    {
     "name": "stdout",
     "output_type": "stream",
     "text": [
      "Implemented in CHILD.\n"
     ]
    }
   ],
   "source": [
    "Child childAsChild = new Child();\n",
    "childAsChild.OverriddenMethod();"
   ]
  },
  {
   "cell_type": "markdown",
   "id": "77a55384",
   "metadata": {},
   "source": [
    "However, what you might find surprising is that if we instantiate a `Child`, *but* treat it as a `Parent`, and then call the instance method, we will execute the implementation defined in `Child`."
   ]
  },
  {
   "cell_type": "code",
   "execution_count": 10,
   "id": "b20ffc5e",
   "metadata": {},
   "outputs": [
    {
     "name": "stdout",
     "output_type": "stream",
     "text": [
      "Implemented in CHILD.\n"
     ]
    }
   ],
   "source": [
    "Parent childAsParent = new Child();\n",
    "childAsParent.OverriddenMethod();"
   ]
  },
  {
   "cell_type": "markdown",
   "id": "68e60c1d",
   "metadata": {},
   "source": [
    "At first you might find this counter-intuitive.\n",
    "But, this is the entire point of overriding.\n",
    "Due to subtype polymorphism you can then treat all subclasses of the same superclass interchangibly, but whenever you call a method marked as `virtual` that has been overridden in the subclass then the specialized method in the subclass is the one that's being executed.\n",
    "This behavior is also summarized in {numref}`tbl:inheritance:override`.\n",
    "\n",
    "```{tip}\n",
    "When overriding, which implementation is executed is determined by the *run-time type* and not the compile-time type.\n",
    "This behavior was discussed in the chapter on [subtype polymorphism](subtype-polymorphism).\n",
    "```\n",
    "\n",
    "Remember, when overriding, what implementation to run is determined by the run-time type.\n",
    "\n",
    "```{list-table} What implementation is executed depends on the run-time type in the case of overriding and the compile-time type in the case of hiding.\n",
    ":header-rows: 1\n",
    ":name: tbl:inheritance:override\n",
    "\n",
    "* - Compile-time type\n",
    "  - Run-time type\n",
    "  - Executed implementation (overriding)\n",
    "  - Executed implementation (hiding)\n",
    "* - Parent\n",
    "  - Parent\n",
    "  - Parent\n",
    "  - Parent\n",
    "* - Child\n",
    "  - Child\n",
    "  - Child\n",
    "  - Child\n",
    "* - Parent\n",
    "  - Child\n",
    "  - Child\n",
    "  - Parent\n",
    "```\n",
    "\n",
    "```{seealso}\n",
    "It should be noted that in some languages, we don't mark what methods are virtual, we mark what methods are not virtual.\n",
    "In C#, instance methods are non-virtual unless otherwise specified.\n",
    "In Java, instance methods are virtual unless otherwise specified.\n",
    "```\n",
    "\n",
    "\n",
    "\n",
    "(hiding)=\n",
    "### Hiding\n",
    "%- Not overriding (\"new\" modifier)\n",
    "%- Called shadowing?\n",
    "\n",
    "Before moving on we need to talk about a feature that isn't actually only related to inheritance but often comes up when we fail to remember to use the keyword `override`.\n",
    "That feautre is \"method hiding\".\n",
    "Let's say we have a method in a subclass with the same signature as one in the superclass and we mark the method in the subclass as `new` rather than `override`.\n",
    "In this case we are *not* using overriding.\n",
    "Instead we are using what is known as \"hiding\".\n",
    "We say that the method in the subclass \"hides\" the method in the superclass.\n",
    "\n",
    "In {numref}`tbl:inheritance:override` you can see how hiding is different from overriding.\n",
    "\n",
    "```{tip}\n",
    "When hiding, which implementation is executed is determined by the *compile-time type* and not the run-time type.\n",
    "```\n",
    "\n",
    "Let's go through all the same examples as before.\n",
    "This time however we will mark the method as `new` in the subclass.\n",
    "Whether we mark the method in the superclass as `virtual` or not does not matter."
   ]
  },
  {
   "cell_type": "code",
   "execution_count": 11,
   "id": "ab94273a",
   "metadata": {},
   "outputs": [],
   "source": [
    "class Parent\n",
    "{\n",
    "  public void HiddenMethod ()\n",
    "    => Console.WriteLine(\"Implemented in PARENT.\");\n",
    "}\n",
    "\n",
    "class Child : Parent\n",
    "{\n",
    "  public new void HiddenMethod ()\n",
    "    => Console.WriteLine(\"Implemented in CHILD.\");\n",
    "}"
   ]
  },
  {
   "cell_type": "markdown",
   "id": "dc837ccc",
   "metadata": {},
   "source": [
    "If we instantiate a `Parent`, treat it as a `Parent`, and then call the instance method, we will execute the implementation defined in `Parent`.\n",
    "Still, unsurprising."
   ]
  },
  {
   "cell_type": "code",
   "execution_count": 12,
   "id": "91c20864",
   "metadata": {},
   "outputs": [
    {
     "name": "stdout",
     "output_type": "stream",
     "text": [
      "Implemented in PARENT.\n"
     ]
    }
   ],
   "source": [
    "Parent parentAsParent = new Parent();\n",
    "parentAsParent.HiddenMethod();"
   ]
  },
  {
   "cell_type": "markdown",
   "id": "eadafe20",
   "metadata": {},
   "source": [
    "What is also still unsurprising, is that if we instantiate a `Child`, treat it as a `Child`, and then call the instance method, we will execute the implementation defined in `Child`."
   ]
  },
  {
   "cell_type": "code",
   "execution_count": 13,
   "id": "8c2f3006",
   "metadata": {},
   "outputs": [
    {
     "name": "stdout",
     "output_type": "stream",
     "text": [
      "Implemented in CHILD.\n"
     ]
    }
   ],
   "source": [
    "Child childAsChild = new Child();\n",
    "childAsChild.HiddenMethod();"
   ]
  },
  {
   "cell_type": "markdown",
   "id": "7c6e2823",
   "metadata": {},
   "source": [
    "However, when we are hiding rather than overriding, instantiate a `Child` but treat it as a `Parent`, and then call the instance method, we will execute the implementation defined in `Parent`.\n",
    "Remember, when hiding, what implementation to run is determined by the compile-time type."
   ]
  },
  {
   "cell_type": "code",
   "execution_count": 14,
   "id": "2b4f1107",
   "metadata": {},
   "outputs": [
    {
     "name": "stdout",
     "output_type": "stream",
     "text": [
      "Implemented in PARENT.\n"
     ]
    }
   ],
   "source": [
    "Parent childAsParent = new Child();\n",
    "childAsParent.HiddenMethod();"
   ]
  },
  {
   "cell_type": "markdown",
   "id": "dd947c4a",
   "metadata": {},
   "source": [
    "### Constructor chaining\n",
    "\n",
    "Remember the concept of [constructor chaining](constructor-chaining)?\n",
    "We said that a constructor can call another constructor by using the keyword `this`.\n",
    "In that chapter we also mentioned that when we get to inheritance we will also discuss the keyword `base`.\n",
    "\n",
    "The keyword `base`, works just like the keyword `this` in that it can be used for two purposes.\n",
    "It can be used for constructor chaining.\n",
    "In other words it can be used to call a constructor in the base class (hence the name \"base\") from a constructor in a derived class.\n",
    "\n",
    "% TODO: Give example of how subclass runs superclasses constructor using Console.WriteLine in the base.\n",
    "\n",
    "```{important}\n",
    "If the superclass does not define a parameterless constructor then any subclass of the superclass must define how to instantiate the superclass's constructor by using the keyword `base`.\n",
    "```\n",
    "\n",
    "Notice how the code below causes a compiler error."
   ]
  },
  {
   "cell_type": "code",
   "execution_count": 15,
   "id": "8fbe12cd",
   "metadata": {
    "tags": [
     "raises-exception"
    ]
   },
   "outputs": [
    {
     "name": "stderr",
     "output_type": "stream",
     "text": [
      "\n",
      "(7,7): error CS7036: There is no argument given that corresponds to the required formal parameter 'x' of 'Parent.Parent(int)'\n",
      "\n"
     ]
    },
    {
     "ename": "Error",
     "evalue": "compilation error",
     "output_type": "error",
     "traceback": []
    }
   ],
   "source": [
    "class Parent\n",
    "{\n",
    "  public Parent (int x)\n",
    "    => Console.WriteLine(\"Instantiated with \" + x);\n",
    "}\n",
    "\n",
    "class Child : Parent { }"
   ]
  },
  {
   "cell_type": "markdown",
   "id": "ea1d0c28",
   "metadata": {},
   "source": [
    "Why do we get a compiler error?\n",
    "Because in order to know how to construct the `Child` we must also know how to construct the `Parent`.\n",
    "\n",
    "In the code below we've added two constructors that both call the `base` constructor and that both would, on their own, be enough to get rid of that compiler error."
   ]
  },
  {
   "cell_type": "code",
   "execution_count": 16,
   "id": "1a4bb30f",
   "metadata": {},
   "outputs": [],
   "source": [
    "class Parent\n",
    "{\n",
    "  public Parent (int x)\n",
    "    => Console.WriteLine(\"Instantiated with \" + x);\n",
    "}\n",
    "\n",
    "class Child : Parent\n",
    "{\n",
    "  public Child ()\n",
    "    : base(10) { }\n",
    "\n",
    "  public Child (int x)\n",
    "    : base(x) { }\n",
    "}"
   ]
  },
  {
   "cell_type": "markdown",
   "id": "7901be24",
   "metadata": {},
   "source": [
    "It now compiles.\n",
    "Whenever we run any of the constructors of the subclass a constructor in the superclass is now also run."
   ]
  },
  {
   "cell_type": "code",
   "execution_count": 17,
   "id": "7ff7f751",
   "metadata": {},
   "outputs": [
    {
     "name": "stdout",
     "output_type": "stream",
     "text": [
      "Instantiated with 10\n"
     ]
    },
    {
     "name": "stdout",
     "output_type": "stream",
     "text": [
      "Instantiated with 5\n"
     ]
    }
   ],
   "source": [
    "Child child1 = new Child();\n",
    "Child child2 = new Child(5);"
   ]
  },
  {
   "cell_type": "markdown",
   "id": "076b4da1",
   "metadata": {},
   "source": [
    "### Accessing base members\n",
    "\n",
    "Just like you can use the keyword `this` to access other members in the object itself, you can use the keyword `base` to access other members in the superclass.\n",
    "\n",
    "This is of course particularly useful in the case of hiding.\n",
    "Meaning when we have an instance member in the subclass with the same signature as a member in the superclass but want to explicitly call the one in the superclass."
   ]
  },
  {
   "cell_type": "code",
   "execution_count": 18,
   "id": "38e29fd9",
   "metadata": {},
   "outputs": [],
   "source": [
    "class Parent\n",
    "{\n",
    "  public void Method ()\n",
    "    => Console.WriteLine(\"Called method in parent.\");\n",
    "}\n",
    "\n",
    "class Child : Parent\n",
    "{\n",
    "  public new void Method ()\n",
    "    => base.Method();\n",
    "}"
   ]
  },
  {
   "cell_type": "code",
   "execution_count": 19,
   "id": "0c3eb3bb",
   "metadata": {},
   "outputs": [
    {
     "name": "stdout",
     "output_type": "stream",
     "text": [
      "Called method in parent.\n"
     ]
    }
   ],
   "source": [
    "Child child = new Child();\n",
    "child.Method();"
   ]
  },
  {
   "cell_type": "markdown",
   "id": "2434974e",
   "metadata": {},
   "source": [
    "Just like in the case of `this`, the keyword `base` refers to an object which means that we can pass around that value like any other value.\n",
    "\n",
    "\n",
    "\n",
    "(inheritance:uml)=\n",
    "### UML class diagrams\n",
    "\n",
    "In UML class diagram notation, inheritance is called \"generalization\" (or sometimes simply \"inheritance\") and is depicted using a solid line with a hollow arrow head.\n",
    "The arrow points from the subclass to the superclass.\n",
    "\n",
    "% TODO: REPLACE IMAGE!!\n",
    "```{figure} https://upload.wikimedia.org/wikipedia/commons/thumb/9/93/Uml_classes_en.svg/800px-Uml_classes_en.svg.png\n",
    ":name: fig:uml-class-diagram-realization\n",
    ":width: 300\n",
    "\n",
    "In UML class diagram notation, inheritance is called \"generalization\" and is depicted using a solid line with a hollow arrow head.\n",
    "The arrow points from the implementation to the interface.\n",
    "[[Image source](https://en.wikipedia.org/wiki/Class_diagram)].\n",
    "```\n",
    "\n",
    "In the diagram below we have four classes:\n",
    "`Sequence`, `SkipSequence`, `EvenSequence`, and `OddSequence`.\n",
    "The two classes `EvenSequence` and `OddSequence` inherits from the class `SkipSequence` which in turn inherits from the class `Sequence`.\n",
    "\n",
    "We'll discuss the this example more in the [examples section](inheritance:sequences) where we'll also look at the corresponding code.\n",
    "\n",
    "```\n",
    "     ┌───────────────────────────────────────┐\n",
    "     │                Sequence               │\n",
    "     ├───────────────────────────────────────┤\n",
    "     │                                       │\n",
    "     ├───────────────────────────────────────┤\n",
    "     │ + Sequence (initial : int) : Sequence │\n",
    "     │ + int Current ()                      │\n",
    "     │ + void Next ()                        │\n",
    "     │ + int[] Take (int n)                  │\n",
    "     └───────────────────────────────────────┘\n",
    "                 Δ\n",
    "                 │\n",
    "                 │\n",
    "     ┌─────────────────────────────────────────┐\n",
    "     │               SkipSequence              │\n",
    "     ├─────────────────────────────────────────┤\n",
    "     ├─────────────────────────────────────────┤\n",
    "     │ + SkipSequence (int initial, int skips) │\n",
    "     │ + int ^GetNext ()                       │\n",
    "     └─────────────────────────────────────────┘\n",
    "                       Δ  Δ\n",
    "                 ┌─────┘  └─────────────────────────┐\n",
    "                 │                                  │\n",
    "┌──────────────────────────────────┐  ┌────────────────────────────────┐\n",
    "│           EvenSequence           │  │          OddSequence           │\n",
    "├──────────────────────────────────┤  ├────────────────────────────────┤\n",
    "├──────────────────────────────────┤  ├────────────────────────────────┤\n",
    "│ + EvenSequence () : EvenSequence │  │ + OddSequence () : OddSequence │\n",
    "└──────────────────────────────────┘  └────────────────────────────────┘\n",
    "```\n",
    "\n",
    "Subclasses are conventionally drawn \"below\" superclasses.\n",
    "\n",
    "Whether or not to include (meaning: repeat) the inherited members in the subclass varies depending on who you ask.\n",
    "Remember that we had this same discussion in the chapter on interfaces?\n",
    "A common suggestion, and the choice we have made above, is however to, out of those members that also appear in the superclass, only mention those that override (or hide) members from the superclass.\n",
    "\n",
    "To be able to tell [overriding](overriding) apart from [hiding](hiding), some prepend the caret symbol (`^`) to the name of the member to indicate that it has been overridden as opposed to hidden.\n",
    "\n",
    "```{tip}\n",
    "Pick a syntax and stick to it.\n",
    "Consistency is key.\n",
    "```\n",
    "\n",
    "In the example above we have overriden the implementation of `GetNext` in the class `SkipSequence`.\n",
    "The class also defines its own constructor but beyond that, the implementation of all other members are inherited.\n",
    "The classes `EvenSequence` and `OddSequence` define their own constructors and then inherit the implementation of all other members without overriding any of them.\n",
    "\n",
    "% Example: Get rid of the foreach? Or is this perhaps not a great solution?\n",
    "\n",
    "%- Including abstract classes.\n",
    "%- UML class diagram notation.\n",
    "%- White-box reuse (as opposed to black-box which is composition) (Gamma et al)\n",
    "%- Object type (lowercase is an alias for the same as the uppercase). All classes inherit from object.\n",
    "%- Forward ref to Subtype polymorphism\n",
    "%- Overriding \n",
    "\n",
    "\n",
    "## Examples\n",
    "\n",
    "(inheritance:sequences)=\n",
    "### Sequences\n",
    "\n",
    "Let's talk about infinite number sequences.\n",
    "What is an infinite number sequence?\n",
    "Well, the natural numbers starting from 1 is one and incrementing all the way to infinity (or the maximum value for `int` in practical terms) is a sequence.\n",
    "Two other sequences are those of odd and even numbers.\n",
    "A more complex sequence would be for example the Fibonacci sequence which says that the next number is the sum of the two preceeding numbers.\n",
    "\n",
    "```{note}\n",
    "This might seem a bit esoteric at the moment, but once we've learned about [generics](generics) you will see how this generalizes to sequences of any type.\n",
    "Then, when we get to [design patterns](design-patterns), you will see how this is the core idea of the [iterator pattern](iterator-pattern).\n",
    "```\n",
    "\n",
    "Let's define a base class that models the series of integers that moves in increments of `1`.\n",
    "We'll let the initial number (meaning the starting point) be set via the constructor and then we'll add instance methods for getting the current number, the next number, and one method that returns an array of numbers which moves the incrementor forward multiple times and returns each number generated along the way.\n",
    "\n",
    "% TODO: Need chapter on command query separation. That should also be linked here."
   ]
  },
  {
   "cell_type": "code",
   "execution_count": 20,
   "id": "90ae1c8d",
   "metadata": {},
   "outputs": [],
   "source": [
    "class Sequence\n",
    "{\n",
    "  private int i;\n",
    "\n",
    "  public Sequence (int initial)\n",
    "    => i = initial;\n",
    "\n",
    "  public virtual int Current ()\n",
    "    => i;\n",
    "\n",
    "  public virtual void Next()\n",
    "    => i++;\n",
    "\n",
    "  public virtual int[] Take (int n)\n",
    "  {\n",
    "    int[] nums = new int[n];\n",
    "    for (int i=0; i<nums.Length; i++)\n",
    "    {\n",
    "      nums[i] = Current();\n",
    "      Next();\n",
    "    }\n",
    "    return nums;\n",
    "  }\n",
    "}"
   ]
  },
  {
   "cell_type": "markdown",
   "id": "ca2453fe",
   "metadata": {},
   "source": [
    "Great, so we've got a basic sequence now.\n",
    "Let's try it out to make sure that it works."
   ]
  },
  {
   "cell_type": "code",
   "execution_count": 21,
   "id": "f1f0ffb8",
   "metadata": {},
   "outputs": [
    {
     "name": "stdout",
     "output_type": "stream",
     "text": [
      "5, 6, 7, 8, 9, 10, 11, 12, 13, 14\n"
     ]
    }
   ],
   "source": [
    "// Initialize sequence.\n",
    "Sequence seq = new Sequence(5);\n",
    "\n",
    "// Take 10 elements.\n",
    "int[] output = seq.Take(10);\n",
    "\n",
    "// Print the elements.\n",
    "Console.WriteLine(String.Join(\", \", output));"
   ]
  },
  {
   "cell_type": "markdown",
   "id": "8201b325",
   "metadata": {},
   "source": [
    "Now let's build some subclasses that inherits from this base class.\n",
    "Let's start with a sequence that skips every `n` number.\n",
    "What number is `n`?\n",
    "Let's make that a parameter of the constructor that we call `skip`.\n",
    "Let's call this sequence a `SkipSequence`."
   ]
  },
  {
   "cell_type": "code",
   "execution_count": 22,
   "id": "423d76be",
   "metadata": {},
   "outputs": [],
   "source": [
    "class SkipSequence : Sequence\n",
    "{\n",
    "  int skip;\n",
    "\n",
    "  public SkipSequence (int initial, int skip)\n",
    "    : base(initial)\n",
    "      => this.skip = (skip >= 0) ? skip : 0;\n",
    "\n",
    "  public override void Next()\n",
    "  {\n",
    "    base.Next();\n",
    "    for (int i=1; i<skip; i++)\n",
    "      base.Next();\n",
    "  }\n",
    "}"
   ]
  },
  {
   "cell_type": "markdown",
   "id": "2d8e4499",
   "metadata": {},
   "source": [
    "There are two important things to notice in the example above.\n",
    "\n",
    "1. The constructor of the subclass is calling the constructor of the superclass by using the `base` keyword. Remember this from [constructor chaining](constructor-chaining)?\n",
    "2. The instance method `Next` is overriding the implementation of the superclass."
   ]
  },
  {
   "cell_type": "code",
   "execution_count": 23,
   "id": "fab6b8c1",
   "metadata": {},
   "outputs": [
    {
     "name": "stdout",
     "output_type": "stream",
     "text": [
      "1, 11, 21, 31, 41, 51, 61, 71, 81, 91\n"
     ]
    }
   ],
   "source": [
    "Sequence tensSeq = new SkipSequence(1, 10);\n",
    "\n",
    "int[] tens = tensSeq.Take(10);\n",
    "\n",
    "Console.WriteLine(String.Join(\", \", tens));"
   ]
  },
  {
   "cell_type": "markdown",
   "id": "f2c0e2ad",
   "metadata": {},
   "source": [
    "Let's now build the even and odd sequences.\n",
    "If these inherit from the class `SkipSequence` then we don't need to worry about changing the implementation of `Next`.\n",
    "Instead, we just need to make sure that we start on an even or odd number (depending on which class we are talking about) and that we set the parameter `skip` to `2`.\n",
    "We can do all that by using simple constructor chaining and calling base."
   ]
  },
  {
   "cell_type": "code",
   "execution_count": 24,
   "id": "149bf41c",
   "metadata": {},
   "outputs": [],
   "source": [
    "class EvenSequence : SkipSequence\n",
    "{\n",
    "  public EvenSequence ()\n",
    "    : base(0, 1) { }\n",
    "}\n",
    "\n",
    "class OddSequence : SkipSequence\n",
    "{\n",
    "  public OddSequence ()\n",
    "    : base(1, 1) { }\n",
    "}"
   ]
  },
  {
   "cell_type": "code",
   "execution_count": 25,
   "id": "6afbaa01",
   "metadata": {},
   "outputs": [
    {
     "name": "stdout",
     "output_type": "stream",
     "text": [
      "0, 1, 2, 3, 4, 5, 6, 7, 8, 9\n"
     ]
    },
    {
     "name": "stdout",
     "output_type": "stream",
     "text": [
      "1, 2, 3, 4, 5, 6, 7, 8, 9, 10\n"
     ]
    }
   ],
   "source": [
    "Sequence evenSeq = new EvenSequence();\n",
    "Sequence oddSeq  = new OddSequence();\n",
    "\n",
    "int[] evens = evenSeq.Take(10);\n",
    "int[] odds = oddSeq.Take(10);\n",
    "\n",
    "Console.WriteLine(String.Join(\", \", evens));\n",
    "Console.WriteLine(String.Join(\", \", odds));"
   ]
  },
  {
   "cell_type": "markdown",
   "id": "2ae02353",
   "metadata": {},
   "source": [
    "```{warning}\n",
    "The implementation is a bit awkward but we'll rewrite this implementation after we have learned about the `protected` modifier in the chapter on [advanced access modifiers](advanced-access-modifiers).\n",
    "It will then be slightly less awkward, albeit still quite awkward.\n",
    "```\n",
    "\n",
    "```{warning}\n",
    "Why did I choose such an awkward example?\n",
    "Because I have searched far and wide and the more I look, the more I get convinved that there are no good examples of inheritance where the base class is not abstract or where the whole thing is not [better](maintainability) modeled with [composition over inheritance](composition-over-inheritance)\n",
    "\n",
    "However, just because all I've seen is white swans, doesn't prove that there are no black swans, so if you ever come across a good example, I would love it if you would let me know.\n",
    "```\n",
    "\n",
    "\n",
    "(inheritance:examples:characterwise)=\n",
    "### Characterwise ciphers\n",
    "\n",
    "Remember how we've been unable to get rid of the duplicated `foreach` loop present in all the [substitution ciphers](methods:substitution-ciphers).\n",
    "The only solution for  this that we've seen so far was given in the chapter on [methods](methods:substitution-ciphers).\n",
    "In that chapter I suggested that without some form of polymorphism we often have to resort to turning part of our algorithms into data in order to keep increasing abstraction and thus remove duplication.\n",
    "\n",
    "But in this book we're exploring object oriented programming, so we don't want to be forced to turn our algorithms into data.\n",
    "We want to let our algorithms be algorithms.\n",
    "\n",
    "In this example, we'll be able to remove the duplicated `foreach` loop from all substitution cipher classes that implement the interface `ICharToCharCipher`.\n",
    "Meaning all substitution ciphers that have an encode method which works charwise and replaces each character with a single character.\n",
    "The Robber's language does *not* fit that description, but Caesar ciphers and the Leet language do so let's use those two.\n",
    "\n",
    "As alluded to in the motivation section however, it would in this case, as is often the case, be preferable to use composition over inheritance since that would allow us to eliminate all duplication.\n",
    "But we'll switch to that solution in the chapter on [abstract injected object composition](abstract-injected-object-composition).\n",
    "\n",
    "We've still got our interfaces from the chapter on [interfaces](interfaces:ciphers) but these don't really help us here."
   ]
  },
  {
   "cell_type": "code",
   "execution_count": 26,
   "id": "b23df39d",
   "metadata": {
    "tags": [
     "hide-input"
    ]
   },
   "outputs": [],
   "source": [
    "interface ICharToCharCipher\n",
    "{\n",
    "  char Encode (char input);\n",
    "}\n",
    "\n",
    "interface IStringToStringCipher\n",
    "{\n",
    "  string Encode (string input);\n",
    "}\n",
    "\n",
    "interface ICharToStringCipher\n",
    "{\n",
    "  string Encode (char input);\n",
    "}"
   ]
  },
  {
   "cell_type": "markdown",
   "id": "25a1be67",
   "metadata": {},
   "source": [
    "Let us just first take stock of what the duplication looks like.\n",
    "Pay special attention to the two implemented methods with the signature `string Encode (string input)` below.\n",
    "Notice how both implementations are entirely the same.\n",
    "\n",
    "Let's first have a look at the class `LeetCipher`:"
   ]
  },
  {
   "cell_type": "code",
   "execution_count": 27,
   "id": "b5ddecc5",
   "metadata": {
    "tags": [
     "hide-input"
    ]
   },
   "outputs": [],
   "source": [
    "class LeetCipher : ICharToCharCipher, IStringToStringCipher\n",
    "{\n",
    "  public string Encode (string input) {\n",
    "    string output = \"\";\n",
    "    foreach (char letter in input)\n",
    "      output += Encode (letter);\n",
    "    return output;\n",
    "  }\n",
    "\n",
    "  public char Encode (char input)\n",
    "    => input switch {\n",
    "      'L' => '1', '1' => 'L',\n",
    "      'A' => '4', '4' => 'A',\n",
    "      'O' => '0', '0' => 'O',\n",
    "      'T' => '7', '7' => 'T',\n",
    "      'E' => '3', '3' => 'E',\n",
    "      _ => input\n",
    "    };\n",
    "}"
   ]
  },
  {
   "cell_type": "markdown",
   "id": "3ba88040",
   "metadata": {},
   "source": [
    "Let's then have a look at the class `CaesarCipher`:"
   ]
  },
  {
   "cell_type": "code",
   "execution_count": 28,
   "id": "522d29b2",
   "metadata": {
    "tags": [
     "hide-input"
    ]
   },
   "outputs": [],
   "source": [
    "class CaesarCipher : ICharToCharCipher, IStringToStringCipher\n",
    "{\n",
    "  int steps;\n",
    "\n",
    "  public CaesarCipher (int steps)\n",
    "    => this.steps = steps;\n",
    "\n",
    "  public string Encode (string input) {\n",
    "    string output = \"\";\n",
    "    foreach (char letter in input)\n",
    "      output += Encode (letter);\n",
    "    return output;\n",
    "  }\n",
    "\n",
    "  public char Encode (char input) {\n",
    "    string alphabet = \"ABCDEFGHIJKLMNOPQRSTUVXYZ\";\n",
    "    int i = alphabet.IndexOf(Char.ToUpper(input));\n",
    "    int newIndex = (i + steps) % alphabet.Length;\n",
    "    if (i != -1)\n",
    "    {\n",
    "      if (newIndex < 0)\n",
    "        newIndex += alphabet.Length;\n",
    "\n",
    "      if (Char.IsLower(input))\n",
    "        return Char.ToLower(alphabet[newIndex]);\n",
    "      else\n",
    "        return alphabet[newIndex];\n",
    "    }\n",
    "    return input;\n",
    "  }\n",
    "}"
   ]
  },
  {
   "cell_type": "markdown",
   "id": "96faa068",
   "metadata": {},
   "source": [
    "Notice how the implementation of the method with the signature `string Encode (string input)` is *exactly* the same in both classes.\n",
    "The only thing that's different is in what context the method is executed, which in turn determines which `char Encode (char input)` method is being called.\n",
    "\n",
    "Again, if we at this point knew about the design principle [composition over inheritance](composition-over-inheritance) we would solve this using [abstract injected object composition](abstract-injected-object-composition).\n",
    "But, let's take it one step at a time, and let's see what we can do with regular old inheritance first.\n",
    "\n",
    "Here's the key.\n",
    "Notice how the implementations of `string Encode (string input)` fulfill the interface `IStringToStringCipher` and depend on `ICharToCharCipher`.\n",
    "It fulfills the first because the encode method itself is the only method required by that interface.\n",
    "It depends on the second because the implementation of the encode method delegates to the other overload of `Encode` which takes and returns a character.\n",
    "\n",
    "So, let's introduce a superclass called `CharWiseCipher` that implements both `IStringToStringCipher` and `ICharToCharCipher`.\n",
    "We'll let this superclass behave like the [identity cipher](identity-cipher) that we also implemented in the chapter on [subtype polymorphism](subtype-polymorphism:identity-cipher).\n",
    "\n",
    "In the identity cipher, the encode method that takes and returns a character will simply return whatever character we give it.\n",
    "Similarly, the encode method that takes and returns a string ought to return whatever we give it.\n",
    "\n",
    "However, instead of simply returning what we get we will choose to iterate over the input `string`, call the method `char Encode (char input)` for each character one by one, and concatenate the results into a `string` again.\n",
    "Even though the method that receives and returns a `char` will always return the same `char`\n",
    "In other words, the implementation of `string Encode (string input)` will be the one that we are trying to unify for the other classes.\n",
    "\n",
    "But why would we do such a silly thing?\n",
    "Isn't this just a waste of resources?\n",
    "Why iterate over the input `string` if we're just going to call a method for each character that always returns the same character that we give it.\n",
    "Well, because we're going to mark that silly method as `virtual`.\n",
    "Which means that subclasses of `CharWiseCipher` can `override` our implementation of `char Encode (char input)`.\n",
    "If they do, then it is no longer pointless for us to iterate over the string and delegate to the overridden method.\n",
    "\n",
    "Let's look at some code.\n",
    "Here's our superclass that behaves like the identity cipher.\n",
    "Pay attention to how we use the keyword `virtual`."
   ]
  },
  {
   "cell_type": "code",
   "execution_count": 29,
   "id": "4a57e90d",
   "metadata": {},
   "outputs": [],
   "source": [
    "class CharWiseCipher : ICharToCharCipher, IStringToStringCipher\n",
    "{\n",
    "  public virtual char Encode (char input)\n",
    "    => input;\n",
    "\n",
    "  public string Encode (string input)\n",
    "  {\n",
    "    string output = \"\";\n",
    "    foreach (char letter in input)\n",
    "      output += Encode (letter);\n",
    "    return output;\n",
    "  }\n",
    "}"
   ]
  },
  {
   "cell_type": "markdown",
   "id": "834362a5",
   "metadata": {},
   "source": [
    "Let's run it to make sure that it behaves like the identity cipher."
   ]
  },
  {
   "cell_type": "code",
   "execution_count": 30,
   "id": "b4b0d6ac",
   "metadata": {},
   "outputs": [],
   "source": [
    "CharWiseCipher identity = new CharWiseCipher();\n",
    "identity.Encode('x');"
   ]
  },
  {
   "cell_type": "markdown",
   "id": "307c3def",
   "metadata": {},
   "source": [
    "Yup, when we pass it a `char`, we get the same `char` back.\n",
    "How about a `string`?"
   ]
  },
  {
   "cell_type": "code",
   "execution_count": 31,
   "id": "65b5d72d",
   "metadata": {},
   "outputs": [],
   "source": [
    "identity.Encode(\"Hello world\");"
   ]
  },
  {
   "cell_type": "markdown",
   "id": "4d6269ed",
   "metadata": {},
   "source": [
    "Works too.\n",
    "Ok, so we've got the superclass figured out.\n",
    "Let's create some subclasses.\n",
    "\n",
    "We'll start with `LeetCipher`.\n",
    "Pay attention to how we use the keyword `override`."
   ]
  },
  {
   "cell_type": "code",
   "execution_count": 32,
   "id": "34be7c09",
   "metadata": {},
   "outputs": [],
   "source": [
    "class LeetCipher : CharWiseCipher\n",
    "{\n",
    "  public override char Encode (char input)\n",
    "    => input switch {\n",
    "      'L' => '1', '1' => 'L',\n",
    "      'A' => '4', '4' => 'A',\n",
    "      'O' => '0', '0' => 'O',\n",
    "      'T' => '7', '7' => 'T',\n",
    "      'E' => '3', '3' => 'E',\n",
    "      _ => input\n",
    "    };\n",
    "}"
   ]
  },
  {
   "cell_type": "markdown",
   "id": "d94a6f89",
   "metadata": {},
   "source": [
    "Hmmm.. does this really work?\n",
    "Does this `LeetCipher` actually have a method that takes and returns a `string`?\n",
    "Let's try it out."
   ]
  },
  {
   "cell_type": "code",
   "execution_count": 33,
   "id": "1981f978",
   "metadata": {},
   "outputs": [
    {
     "name": "stdout",
     "output_type": "stream",
     "text": [
      "1337 LOL\n"
     ]
    }
   ],
   "source": [
    "LeetCipher leet = new LeetCipher();\n",
    "Console.WriteLine(leet.Encode(\"LEET 101\"));"
   ]
  },
  {
   "cell_type": "code",
   "execution_count": 34,
   "id": "8020db09",
   "metadata": {},
   "outputs": [
    {
     "name": "stdout",
     "output_type": "stream",
     "text": [
      "3\n"
     ]
    }
   ],
   "source": [
    "Console.WriteLine(leet.Encode(\"E\"));"
   ]
  },
  {
   "cell_type": "markdown",
   "id": "0a99f15b",
   "metadata": {},
   "source": [
    "As you can see, it actually works.\n",
    "The `Encode` method that we've called is defined on the superclass but since our subclass inherits from the superclass we can also call the method on instances of the superclass.\n",
    "Furthermore, since the `Encode` method calls the other `Encode` method which takes and receives a `char`, and since that method has been overridden in the subclass we get a cipher that no longer behaves as the identity cipher.\n",
    "\n",
    "```{seealso}\n",
    "This idea of having a base class with an instance method that uses another instance member that is often overridden in a subclass is known as the Template method pattern.\n",
    "We'll talk more about [design patterns](design-patterns) in a separate chapter.\n",
    "```\n",
    "\n",
    "Pretty neat, no?\n",
    "Now, let's try the `CaesarCipher`.\n",
    "Same kind of drill here."
   ]
  },
  {
   "cell_type": "code",
   "execution_count": 35,
   "id": "858b3b7e",
   "metadata": {},
   "outputs": [],
   "source": [
    "class CaesarCipher : CharWiseCipher\n",
    "{\n",
    "  int steps;\n",
    "\n",
    "  public CaesarCipher (int steps)\n",
    "    => this.steps = steps;\n",
    "\n",
    "  public override char Encode (char input)\n",
    "  {\n",
    "    string alphabet = \"ABCDEFGHIJKLMNOPQRSTUVXYZ\";\n",
    "    int i = alphabet.IndexOf(Char.ToUpper(input));\n",
    "    int newIndex = (i + steps) % alphabet.Length;\n",
    "    if (i != -1)\n",
    "    {\n",
    "      if (newIndex < 0)\n",
    "        newIndex += alphabet.Length;\n",
    "\n",
    "      if (Char.IsLower(input))\n",
    "        return Char.ToLower(alphabet[newIndex]);\n",
    "      else\n",
    "        return alphabet[newIndex];\n",
    "    }\n",
    "    return input;\n",
    "  }\n",
    "}"
   ]
  },
  {
   "cell_type": "code",
   "execution_count": 36,
   "id": "9548868f",
   "metadata": {},
   "outputs": [
    {
     "name": "stdout",
     "output_type": "stream",
     "text": [
      "CDE\n"
     ]
    }
   ],
   "source": [
    "CaesarCipher leet = new CaesarCipher(2);\n",
    "Console.WriteLine(leet.Encode(\"ABC\"));"
   ]
  },
  {
   "cell_type": "code",
   "execution_count": 37,
   "id": "ca37cfbe",
   "metadata": {},
   "outputs": [
    {
     "name": "stdout",
     "output_type": "stream",
     "text": [
      "C\n"
     ]
    }
   ],
   "source": [
    "Console.WriteLine(leet.Encode('A'));"
   ]
  },
  {
   "cell_type": "markdown",
   "id": "133a7382",
   "metadata": {},
   "source": [
    "Lo and behold.\n",
    "It works.\n",
    "\n",
    "\n",
    "### Interface inheritance\n",
    "\n",
    "Remember how we said that an interface can inherit from another interface?\n",
    "Let me show you an example of that before we move on.\n",
    "Let's say that we've got an interface called `IIncrementable` which requires that whoever implements declares an instance method with the signature `void Inc ()`."
   ]
  },
  {
   "cell_type": "code",
   "execution_count": 38,
   "id": "18db8b31",
   "metadata": {},
   "outputs": [],
   "source": [
    "interface IIncrementable\n",
    "{\n",
    "  void Inc ();\n",
    "}"
   ]
  },
  {
   "cell_type": "markdown",
   "id": "684da086",
   "metadata": {},
   "source": [
    "Let's then say that we're creating another interface called `IAddable` which requires that whoever implements it declares an instance method with the signature `void Add (int y)`.\n",
    "In addition to this however, the interface also inherits from the other interface `IIncrementable`."
   ]
  },
  {
   "cell_type": "code",
   "execution_count": 39,
   "id": "d1317977",
   "metadata": {},
   "outputs": [],
   "source": [
    "interface IAddable : IIncrementable\n",
    "{\n",
    "  void Add (int y);\n",
    "}"
   ]
  },
  {
   "cell_type": "markdown",
   "id": "2502c390",
   "metadata": {},
   "source": [
    "If we now write a class called `Number` that claims to implement `IAddable` and try to only implement the method `Add` we will get a compilation error."
   ]
  },
  {
   "cell_type": "code",
   "execution_count": 40,
   "id": "3cd715b1",
   "metadata": {
    "tags": [
     "raises-exception"
    ]
   },
   "outputs": [
    {
     "name": "stderr",
     "output_type": "stream",
     "text": [
      "\n",
      "(1,16): error CS0535: 'Number' does not implement interface member 'IIncrementable.Inc()'\n",
      "\n"
     ]
    },
    {
     "ename": "Error",
     "evalue": "compilation error",
     "output_type": "error",
     "traceback": []
    }
   ],
   "source": [
    "class Number : IAddable\n",
    "{\n",
    "  int x = 0;\n",
    "\n",
    "  public void Add (int y) => x += y;\n",
    "}"
   ]
  },
  {
   "cell_type": "markdown",
   "id": "a74612a2",
   "metadata": {},
   "source": [
    "Since `IAddable` inherits from the interface `IIncrementable`, `Number` must not only implement `Add` but also `Inc`."
   ]
  },
  {
   "cell_type": "code",
   "execution_count": 41,
   "id": "27f14c38",
   "metadata": {},
   "outputs": [],
   "source": [
    "class Number : IAddable\n",
    "{\n",
    "  int x = 0;\n",
    "\n",
    "  public void Inc () => x++;\n",
    "  public void Add (int y) => x += y;\n",
    "}"
   ]
  },
  {
   "cell_type": "markdown",
   "id": "bb667043",
   "metadata": {},
   "source": [
    "## Exercises\n",
    "% TODO: NEEDS CODING EXERCISES!\n",
    "\n",
    "```{exercise}\n",
    "What is *inheritance*?\n",
    "Use your own words, give an example, and then implement that example.\n",
    "```\n",
    "\n",
    "```{exercise}\n",
    "What is *overriding*?\n",
    "Use your own words, give an example, and then implement that example.\n",
    "```\n",
    "\n",
    "```{exercise}\n",
    "What is the difference between *overriding*, *overloading*, and *hiding*?\n",
    "Explain in words and then show the difference by means of an example.\n",
    "```\n",
    "\n",
    "\n",
    "```{exercise}\n",
    "Can the class `ReverseCipher` inherit from `CharWiseCipher`?\n",
    "Why or why not?\n",
    "```\n",
    "\n",
    "```{exercise}\n",
    ":label: ex:inheritance:robbers-cipher-charwisecipher\n",
    "Can the class `RobbersCipher` inherit from `CharWiseCipher`?\n",
    "Why or why not?\n",
    "\n",
    "Hint: Perhaps the class should be called `CharToCharSubstitutionCipher` or `CharwiseCharToCharCipher`. Why is that?\n",
    "```\n",
    "\n",
    "```{exercise}\n",
    ":label: inheritance:exercises:chartostringsubstitutioncipher\n",
    "Think about your answer to {numref}`ex:inheritance:robbers-cipher-charwisecipher` and use our implementation of `CharWiseCipher` (which perhaps should be called `CharToCharSubstitutionCipher`) as inspiration for the following exercise.\n",
    "\n",
    "Write a class called `CharToStringSubstitutionCipher` that implements the interfaces `ICharToStringCipher` and `IStringToStringCipher`.\n",
    "`RobbersCipher` should inherit from this new class in a way that makes it possible to remove the method with the signature `string Encode (string input)` from `RobbersCipher`.\n",
    "```\n",
    "\n",
    "```{exercise}\n",
    "Can an interface inherit from multiple interfaces?\n",
    "Try it.\n",
    "```\n",
    "\n",
    "```{exercise}\n",
    "Can we introduce an interface that inherits from all our three cipher interfaces?\n",
    "What would such an interface mean?\n",
    "How is it useful?\n",
    "```\n",
    "\n",
    "\n",
    "\n",
    "\n",
    "\n",
    "%## TODO: RE-INTRODUCE ANY OF THIS OLD STUFF?\n",
    "%\n",
    "%Let's start with the code we built in the end of the chapter on [concrete dependency construction](concrete-dependency-construction).\n",
    "%We had a class called `RobbersStringCipher` that exposed a method called `Encode` that took a `string` as input and produced a `string` as output.\n",
    "%This method in turn instantiated and delegated to an instance of `RobbersCharCipher`.\n",
    "%The method it delegated to was also called `Encode` but this method took a `char` as input and produced a `string` as output.\n",
    "%Together it all looked like the code below:\n",
    "%\n",
    "%```csharp\n",
    "%class RobbersStringCipher\n",
    "%{\n",
    "%  RobbersCharCipher charCipher;\n",
    "%\n",
    "%  public RobbersStringCipher (char vowel)\n",
    "%    => charCipher = new RobbersCharCipher(vowel);\n",
    "%\n",
    "%  public string Encode (string input)\n",
    "%  {\n",
    "%    string output = \"\";\n",
    "%\n",
    "%    foreach (char c in input)\n",
    "%      output += charCipher.Encode(c);\n",
    "%\n",
    "%    return output;\n",
    "%  }\n",
    "%}\n",
    "%\n",
    "%class RobbersCharCipher\n",
    "%{\n",
    "%  char vowel;\n",
    "%\n",
    "%  public RobbersCharCipher (char vowel)\n",
    "%    => this.vowel = vowel;\n",
    "%\n",
    "%  public string Encode (char input)\n",
    "%  {\n",
    "%    string consonants = \"bcdfghjklmnpqrstvwxz\";\n",
    "%\n",
    "%    if (consonants.IndexOf(Char.ToLower(input)) != -1)\n",
    "%      return $\"{input}{vowel}{input}\";\n",
    "%    else\n",
    "%      return input.ToString();\n",
    "%  }\n",
    "%}\n",
    "%```\n",
    "%\n",
    "%Now that we've learned about subtype polymorphism we should have our abstraction goggles on and constantly look for commonalities between types that would lend themselves to a new abstraction.\n",
    "%Remember Leetspeak?\n",
    "%Have a look at the following code:\n",
    "%\n",
    "%```csharp\n",
    "%class LeetStringCipher\n",
    "%{\n",
    "%  LeetCharCipher charCipher = new LeetCharCipher();\n",
    "%\n",
    "%  public string Encode (string input)\n",
    "%  {\n",
    "%    string output = \"\";\n",
    "%\n",
    "%    foreach (char c in input)\n",
    "%      output += charCipher.Encode(c);\n",
    "%\n",
    "%    return output;\n",
    "%  }\n",
    "%}\n",
    "%\n",
    "%class LeetCharCipher : ICharCipher\n",
    "%{\n",
    "%  public string Encode (char input)\n",
    "%  {\n",
    "%    switch (input)\n",
    "%    {\n",
    "%      case 'A': return \"4\";\n",
    "%      case '4': return \"A\";\n",
    "%      case 'L': return \"7\";\n",
    "%      case '7': return \"L\";\n",
    "%      case 'E': return \"3\";\n",
    "%      case '3': return \"E\";\n",
    "%      case 'O': return \"0\";\n",
    "%      case '0': return \"O\";\n",
    "%      default: return input.ToString();\n",
    "%    }\n",
    "%  }\n",
    "%}\n",
    "%```\n",
    "%\n",
    "%Starting to see where this is going?\n",
    "%Have a close look at `RobbersStringCipher` and `LeetStringCipher`.\n",
    "%They are eerily similar, are they not?\n",
    "%How about `RobbersCharCipher` and `LeetCharCipher`?\n",
    "%They too are similar.\n",
    "%Of course, this whole example is orchestrated by me so that these similarities emerge.\n",
    "%However, you will often find that if you think about your domain model long and hard enough then you will find a way to make similarities, and hence abstractions, emerge.\n",
    "%\n",
    "%Remember the code you wrote in {numref}`ex:concrete-dependency-construction-caesar-cipher` where we implemented a Caesar Cipher by again decomposing the problem into the idea of encoding a full string and decoding a single character.\n",
    "%You ought to have ended up with two classes that also are eerily similar to the two string and `char` cipher classes here.\n",
    "%\n",
    "%We've already talked about how we can unify different ciphers that take a `string` as input and produce a `string` as output under the interface `ICipher` in the chapter on [subtype polymorphism](subtype-polymorphism).\n",
    "%Let's ignore the `string` ciphers in this chapter and instead focus on the `char` ciphers.\n",
    "%\n",
    "%%Adapting the code above is trivial since we just have to state that the two classes implement the interface `ICipher`.\n",
    "%%It would look something like this:\n",
    "%%\n",
    "%%```csharp\n",
    "%%interface ICipher { string Encode (string input); }\n",
    "%%class RobbersStringCipher : ICipher { /* ... */ }\n",
    "%%class LeetStringCipher : ICipher { /* ... */ }\n",
    "%%```\n",
    "%\n",
    "%All the `char` ciphers have a method called `Encode` which takes a `char` as input and produces a `string` as output.\n",
    "%Let's put that in an interface.\n",
    "%\n",
    "%```csharp\n",
    "%interface ICharCipher\n",
    "%{\n",
    "%  string Encode (char input);\n",
    "%}\n",
    "%```\n",
    "%\n",
    "%Ok, implementing that interface should be straightforward since we wrote the interface based on a method that already existed in both `RobbersCharCipher` and `LeetCharCipher`.\n",
    "%So let's just declare that these two classes are implementing the interface `ICharCipher` and make sure that our code compiles.\n",
    "%\n",
    "%```csharp\n",
    "%class RobbersCharCipher : ICharCipher { /* ... */ }\n",
    "%class LeetCharCipher : ICharCipher { /* ... */ }\n",
    "%```\n",
    "%\n",
    "%```output\n",
    "%Build succeeded.\n",
    "%```\n",
    "%\n",
    "%Ok, but what does the common interface `ICharCipher` enable us to do?\n",
    "%Sure, we could redefine the lines that declare the variable `charCipher` in both `RobbersStringCipher` and `LeetStringCipher` so that the compile-time type is the abstraction `ICharCipher` rather than any concrete implementation of that interface.\n",
    "%We would take this code:\n",
    "%\n",
    "%```csharp\n",
    "%class RobbersStringCipher\n",
    "%{\n",
    "%  RobbersCharCipher charCipher;\n",
    "%// ...\n",
    "%```\n",
    "%\n",
    "%and change it to this:\n",
    "%\n",
    "%\n",
    "%```csharp\n",
    "%class RobbersStringCipher\n",
    "%{\n",
    "%  ICharCipher charCipher;\n",
    "%// ...\n",
    "%```\n",
    "%\n",
    "%But do we really gain anything substantial from this?\n",
    "%Not really.\n",
    "%If you've got code where you're somehow switching between different ciphers in the same object over time then it's possible to gain something from this but probably not.\n",
    "%In our case, there's really no obvious benefit.\n",
    "%\n",
    "%\n",
    "%## Finding an abstraction\n",
    "%\n",
    "%However, what if we could get rid of the duplicated code in the `Encode` methods of the `string` ciphers.\n",
    "%That would be useful.\n",
    "%We have already learned the design principle abbreviated DRY, which stands for \"Don't Repeat Yourself\".\n",
    "%As we will learn later, duplicated code is also considered a [code smell](code-smell).\n",
    "%\n",
    "%Notice how *almost all the variation* between the ciphers in this chapter occurr in the `char` ciphers, not in the `string` ciphers.\n",
    "%Ignoring parameterization of constructors for now, we conclude that the *only* difference between `RobbersStringCipher` and `LeetStringCipher` is what *type* of `char` cipher they happen to instantiate and thus delegate to.\n",
    "%\n",
    "%So let's think about this.\n",
    "%If there's nothing that's different between `RobbersStringCipher` and `LeetStringCipher`, then what is the concept that makes them the same.\n",
    "%Think about it, they both encode in the same way.\n",
    "%One character at a time.\n",
    "%\n",
    "%To see similarities, we must sometimes look at differences.\n",
    "%Remember the reverse cipher?\n",
    "%Here's an implementation of the reverse cipher:\n",
    "%\n",
    "%```csharp\n",
    "%class ReverseCipher\n",
    "%{\n",
    "%  public string Encode (string input)\n",
    "%  {\n",
    "%    string output = \"\";\n",
    "%    for (int i=input.Length-1; i >= 0; i--)\n",
    "%      output += input[i];\n",
    "%    return output;\n",
    "%  }\n",
    "%}\n",
    "%```\n",
    "%\n",
    "%Notice how we're picking characters from the input string \"backwards\" but we're building the encoded string \"forwards\".\n",
    "%In other words we're taking characters last to first but we're building the resulting string first to last.\n",
    "%\n",
    "%The Reverse cipher algorithm is fundamentally different from the Robber's cipher and Leetspeak.\n",
    "%In the sense that it cannot (easily) be implemented as a left-to-right character-by-character conversion.\n",
    "%The first character of the input `string` *cannot* be used as input to create the first chunk of the output `string`.\n",
    "%\n",
    "%So, what's one thing that unifies the Robber's cipher and Leetspeak?\n",
    "%The encoding algorithms can both be implemented as character-by-character conversions where every input character yields one or more output characters in the correct order.\n",
    "%\n",
    "%## Composing the abstraction\n",
    "%\n",
    "%So how do we implement this?\n",
    "%In this chapter we'll use [inheritance](inheritance) but in the chapter on [abstract injected object composition](abstract-injected-object-composition) we'll use composition instead.\n",
    "%Most, including myself, would argue that the composition based solution is superior.\n",
    "%If you've ever heard about the design principle [composition over inheritance](composition-over-inheritance) you will soon start to see why this principle exists.\n",
    "%At it's core, the problem with inheritance is that it assumes that you problem forms a hierarchy.\n",
    "%Few problems are hierarchies, many are graphs.\n",
    "%But, let's go with inheritance in this chapter since we're talking about abstract dependency *construction* and not *injection*.\n",
    "%\n",
    "%What we can do with inheritance is that we can say that the method `string Encode (string input)` should be implemented in a baseclass from which other subclasses can inherit.\n",
    "%That method then delegates to a [protected](advanced-access-modifiers) instance variable which can be overwritten upon construction of subclasses.\n",
    "%Let's look at some code to make sense of this.\n",
    "%Here's the base class:\n",
    "%\n",
    "%```csharp\n",
    "%class CharWiseCipher : ICipher\n",
    "%{\n",
    "%  protected ICharCipher charCipher = new IdentityCharCipher();\n",
    "%\n",
    "%  public string Encode (string input)\n",
    "%  {\n",
    "%    string output = \"\";\n",
    "%\n",
    "%    foreach (char c in input)\n",
    "%      output += charCipher.Encode(c);\n",
    "%\n",
    "%    return output;\n",
    "%  }\n",
    "%}\n",
    "%```\n",
    "%\n",
    "%What does this baseclass do?\n",
    "%Two things:\n",
    "%\n",
    "%1. It declares and initializes the `protected` instance variable `charCipher` to a default value.\n",
    "%2. It declares and implements the instance method `string Encode (string input)` as simply passing each character of the `string` to the `Encode` method of `charCipher` and concatenating the result.\n",
    "%\n",
    "%But what is the type `IdentityCharCipher` that acts as the default value?\n",
    "%Well, we've talked about the idea of identity functions and values before.\n",
    "%The identity `char` cipher is a cipher that simply returns whatever you pass it back.\n",
    "%As you might have suspected, the class `IdentityCharCipher` is implemented something like this:\n",
    "%\n",
    "%```csharp\n",
    "%class IdentityCharCipher : ICharCipher\n",
    "%{\n",
    "%  public string Encode (char input) => input.ToString();\n",
    "%}\n",
    "%```\n",
    "%\n",
    "%Let's now look at how the baseclass `CharWiseCipher` behaves before we move on.\n",
    "%\n",
    "%```csharp\n",
    "%Console.WriteLine(new CharWiseCipher().Encode(\"Hello world\"));\n",
    "%```\n",
    "%\n",
    "%```output\n",
    "%Hello world\n",
    "%```\n",
    "%\n",
    "%Simple, and pretty pointless so far.\n",
    "%But, we can now create subclasses for each of our character-wise ciphers.\n",
    "%Each of the subclasses must, upon construction, replace the `protected` instance variable `charCipher` that's declared in the base class with whatever concrete `ICharCipher` that they need.\n",
    "%\n",
    "%```csharp\n",
    "%class LeetCipher : CharWiseCipher\n",
    "%{\n",
    "%  public LeetCipher ()\n",
    "%    => charCipher = new LeetCharCipher();\n",
    "%}\n",
    "%\n",
    "%class RobbersCipher : CharWiseCipher\n",
    "%{\n",
    "%  public RobbersCipher (char vowel)\n",
    "%    => charCipher = new RobbersCharCipher(vowel);\n",
    "%}\n",
    "%```\n",
    "%\n",
    "%Notice how utterly simple both of these ciphers now are.\n",
    "%They almost don't contain any code at all.\n",
    "%This is the power of abstraction and composition.\n",
    "%By building abstract building blocks we can trivially compose them to solve complex problems.\n",
    "%\n",
    "%Notice how the constructor of `RobbersCipher` can remain parameterized and thus still pass the parameter on to the constructor of `RobbersCharCipher`.\n",
    "%However, perhaps you remember that we, in the chapter on [concrete dependency construction](concrete-dependency-construction) cautioned that this need to pass constructor values down from type to type is a symptom of which dependency *construction* is the cause.\n",
    "%When we move to dependency *injection* this need to enable passing of constructor parameters simply goes away.\n",
    "%\n",
    "%For an overview of the code that we've built in this chapter, have a look at {numref}`fig:abstract-dependency-construction-uml`.\n",
    "%\n",
    "%```{figure} https://via.placeholder.com/500x275?text=Image+coming+soon\n",
    "%:name: fig:abstract-dependency-construction-uml\n",
    "%\n",
    "%UML class diagram of our example of abstract dependency construction.\n",
    "%```\n",
    "%\n",
    "%Isn't all this a bit overkill you might ask?\n",
    "%No, this is just the beginning.\n",
    "%The point is that now other ciphers that take a full `string` as input and performs their transformation one character at a time from left to right can subclass `CharWiseCipher` and simply, upon construction, set the instance variable to an instance that's suitable for whatever we're trying to achieve with that particular cipher.\n",
    "%\n",
    "%This means that the `LeetStringCipher` which we've now renamed to `LeetCipher` and the `RobbersStringCipher` which we've now renamed to simply `RobbersCipher` can become utterly trivial.\n",
    "%\n",
    "\n",
    "\n",
    "\n",
    "\n",
    "% TODO: MOVED HERE FROM DATA TYPES CHAPTER. USE HERE?\n",
    "%#### Dot notation\n",
    "%\n",
    "%Let's now talk about dot notation.\n",
    "%If you use dot notation on an object then we are calling an [instance method](instance-methods) on that object.\n",
    "%If you use dot notation on a class then we are calling a [static method](static-methods) on that class.\n",
    "%We'll talk a lot more about both instance and static methods in their respective chapters so don't worry if it feels overwhelming at this point.\n",
    "%\n",
    "%We've already discussed how we can use the instance method `GetType` to make an object report what it's run-time type is.\n",
    "%This method is an instance method that we call using dot-notation and that can be called on all things that can be treated as objects.\n",
    "%More on this in the chapter on [type hierarchies](type-hierarchies).\n",
    "%\n",
    "%```csharp\n",
    "%\"A\".GetType();\n",
    "%420.GetType();\n",
    "%3.14.GetType();\n",
    "%```\n",
    "%\n",
    "%What I want to show you now is that the data type of the method `GetType` can be defined like this:\n",
    "%\n",
    "%```\n",
    "%GetType :: object ~> string\n",
    "%```\n",
    "%\n",
    "%We can read this type signatures as that `GetType` is an instance method on the type `object` that when called without any arguments, returns a `string`.\n",
    "%\n",
    "%Another method that we've seen a lot is the method `WriteLine`.\n",
    "%This is a static method that can be run in a number of different ways since it has been defined with a bunch of different, so called, [method overloads](overloading).\n",
    "%More on this in it's own chapter, but this means that the method `WriteLine` has a bunch of different type signatures.\n",
    "%Some of the signatures that we've used are listed below.\n",
    "%\n",
    "%```\n",
    "%WriteLine :: string -> void\n",
    "%WriteLine :: bool -> void\n",
    "%WriteLine :: int -> void\n",
    "%```\n",
    "%\n",
    "%The first one says that `WriteLine` is a static method that, when called with a `string`, returns nothing.\n",
    "%The second one says that `WriteLine` is a static method that, when called with a `bool`, returns nothing.\n",
    "%Finally, the third one says that `WriteLine` is a static method that, when called with an `int`, returns nothing.\n",
    "%\n",
    "%The astute reader might have noticed that we snuck the type `void` into the examples above and then referred to it as \"nothing\" when reading the types.\n",
    "%We'll return to this special data type in the chapter on [nothingness](nothingness)."
   ]
  }
 ],
 "metadata": {
  "jupytext": {
   "formats": "md:myst",
   "text_representation": {
    "extension": ".md",
    "format_name": "myst"
   }
  },
  "kernelspec": {
   "display_name": "csharp",
   "language": ".net-csharp",
   "name": ".net-csharp"
  },
  "language_info": {
   "file_extension": ".cs",
   "mimetype": "text/x-csharp",
   "name": "C#",
   "pygments_lexer": "csharp",
   "version": "10.0"
  },
  "source_map": [
   11,
   53,
   56,
   65,
   73,
   77,
   80,
   84,
   87,
   100,
   102,
   106,
   108,
   121,
   133,
   138,
   141,
   145,
   148,
   152,
   155,
   221,
   233,
   238,
   241,
   245,
   248,
   253,
   256,
   277,
   286,
   293,
   308,
   313,
   316,
   327,
   341,
   344,
   452,
   477,
   482,
   491,
   499,
   515,
   522,
   528,
   535,
   549,
   558,
   592,
   608,
   616,
   637,
   641,
   674,
   708,
   722,
   726,
   729,
   734,
   736,
   745,
   758,
   764,
   769,
   771,
   786,
   815,
   820,
   822,
   834,
   839,
   844,
   849,
   853,
   861,
   865,
   873
  ]
 },
 "nbformat": 4,
 "nbformat_minor": 5
}