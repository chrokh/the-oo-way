{
 "cells": [
  {
   "cell_type": "markdown",
   "id": "468310f9",
   "metadata": {},
   "source": [
    "# Constructors\n",
    "\n",
    "%- TODO: Empty constructors. Implicit, explicit.\n",
    "\n",
    "\n",
    "## Motivation\n",
    "\n",
    "Constructors solve two main problems.\n",
    "\n",
    "1. They allow us to initialize the [fields](fields) (and [properties](properties) but we haven't talked about those yet) of an object upon creation.\n",
    "2. They allow us to validate whether it, in the current state of the world and given the data that we have been passed, is possible to create an instance of the object or not. This problem can generally be thought of as \"validation\" or \"sanitization\".\n",
    "\n",
    "The second point is very important since it allows us to assume that any instance of a type actually is a valid instance of that type.\n",
    "Remember the maxim of making impossible states impossible in the chapter on [types over tests](types-over-tests)?\n",
    "We can use constructors to make sure that our application never contains an instance (meaning value) that's nonsensical given the definition of that type.\n",
    "\n",
    "Take the notion of vowels for example.\n",
    "According to the [bijection rule](types-over-tests) or the notion of types over tests, it is not sensible to use a `char` to model vowels.\n",
    "The two data types support different values and different operations.\n",
    "\n",
    "\n",
    "## Definition\n",
    "\n",
    "A constructor, in C#, is any method whose name is the same as the enclosing type (in this case: class) and that doesn't specify a return type.\n",
    "There is no need to specify a return type because a constructor always returns instances of the type in which it is defined.\n",
    "\n",
    "```\n",
    "class [identifier]\n",
    "{\n",
    "  public [identifier] (<[parameters]>)\n",
    "  {\n",
    "  }\n",
    "}\n",
    "```\n",
    "\n",
    "In the chapter on [classes](classes) we discussed the keyword `new` which is used to create instances of a class.\n",
    "When we use the keyword `new` followed by a class name, a pair of parentheses, and possibly some arguments, then a constructor (that matches that list of arguments is called) is called and we get back an object of that type.\n",
    "I say \"a constructor\" rather than \"the constructor\" since constructors support overloading and so a class might have any number of constructors.\n",
    "More on that in a moment though.\n",
    "\n",
    "%Let's write a constructor for the `Balloon` class that we discussed in the chapter on [classes](classes).\n",
    "\n",
    "### Default constructor\n",
    "\n",
    "If we don't define a constructor for a class in C# then it's as if that class contains a constructor that takes no parameters and has no method body.\n",
    "As soon as we define a constructor though, this empty and parameterless constructor is no longer implicitly created.\n",
    "\n",
    "Remember how we, in the chapter on [fields](fields), mentioned that instance fields in C# are automatically intialized to their default values unless we initialize them ourselves in the class or upon construction using an [object initializer](object-initializers)?\n",
    "\n",
    "Let's say that we've got a class that models a point on a two-dimensional grid."
   ]
  },
  {
   "cell_type": "code",
   "execution_count": 1,
   "id": "5966a06c",
   "metadata": {},
   "outputs": [
    {
     "data": {
      "text/html": [
       "\r\n",
       "<div>\r\n",
       "    <div id='dotnet-interactive-this-cell-2700.Microsoft.DotNet.Interactive.Http.HttpPort' style='display: none'>\r\n",
       "        The below script needs to be able to find the current output cell; this is an easy method to get it.\r\n",
       "    </div>\r\n",
       "    <script type='text/javascript'>\r\n",
       "async function probeAddresses(probingAddresses) {\r\n",
       "    function timeout(ms, promise) {\r\n",
       "        return new Promise(function (resolve, reject) {\r\n",
       "            setTimeout(function () {\r\n",
       "                reject(new Error('timeout'))\r\n",
       "            }, ms)\r\n",
       "            promise.then(resolve, reject)\r\n",
       "        })\r\n",
       "    }\r\n",
       "\r\n",
       "    if (Array.isArray(probingAddresses)) {\r\n",
       "        for (let i = 0; i < probingAddresses.length; i++) {\r\n",
       "\r\n",
       "            let rootUrl = probingAddresses[i];\r\n",
       "\r\n",
       "            if (!rootUrl.endsWith('/')) {\r\n",
       "                rootUrl = `${rootUrl}/`;\r\n",
       "            }\r\n",
       "\r\n",
       "            try {\r\n",
       "                let response = await timeout(1000, fetch(`${rootUrl}discovery`, {\r\n",
       "                    method: 'POST',\r\n",
       "                    cache: 'no-cache',\r\n",
       "                    mode: 'cors',\r\n",
       "                    timeout: 1000,\r\n",
       "                    headers: {\r\n",
       "                        'Content-Type': 'text/plain'\r\n",
       "                    },\r\n",
       "                    body: probingAddresses[i]\r\n",
       "                }));\r\n",
       "\r\n",
       "                if (response.status == 200) {\r\n",
       "                    return rootUrl;\r\n",
       "                }\r\n",
       "            }\r\n",
       "            catch (e) { }\r\n",
       "        }\r\n",
       "    }\r\n",
       "}\r\n",
       "\r\n",
       "function loadDotnetInteractiveApi() {\r\n",
       "    probeAddresses([\"http://10.1.0.103:1024/\", \"http://127.0.0.1:1024/\"])\r\n",
       "        .then((root) => {\r\n",
       "        // use probing to find host url and api resources\r\n",
       "        // load interactive helpers and language services\r\n",
       "        let dotnetInteractiveRequire = require.config({\r\n",
       "        context: '2700.Microsoft.DotNet.Interactive.Http.HttpPort',\r\n",
       "                paths:\r\n",
       "            {\r\n",
       "                'dotnet-interactive': `${root}resources`\r\n",
       "                }\r\n",
       "        }) || require;\r\n",
       "\r\n",
       "            window.dotnetInteractiveRequire = dotnetInteractiveRequire;\r\n",
       "\r\n",
       "            window.configureRequireFromExtension = function(extensionName, extensionCacheBuster) {\r\n",
       "                let paths = {};\r\n",
       "                paths[extensionName] = `${root}extensions/${extensionName}/resources/`;\r\n",
       "                \r\n",
       "                let internalRequire = require.config({\r\n",
       "                    context: extensionCacheBuster,\r\n",
       "                    paths: paths,\r\n",
       "                    urlArgs: `cacheBuster=${extensionCacheBuster}`\r\n",
       "                    }) || require;\r\n",
       "\r\n",
       "                return internalRequire\r\n",
       "            };\r\n",
       "        \r\n",
       "            dotnetInteractiveRequire([\r\n",
       "                    'dotnet-interactive/dotnet-interactive'\r\n",
       "                ],\r\n",
       "                function (dotnet) {\r\n",
       "                    dotnet.init(window);\r\n",
       "                },\r\n",
       "                function (error) {\r\n",
       "                    console.log(error);\r\n",
       "                }\r\n",
       "            );\r\n",
       "        })\r\n",
       "        .catch(error => {console.log(error);});\r\n",
       "    }\r\n",
       "\r\n",
       "// ensure `require` is available globally\r\n",
       "if ((typeof(require) !==  typeof(Function)) || (typeof(require.config) !== typeof(Function))) {\r\n",
       "    let require_script = document.createElement('script');\r\n",
       "    require_script.setAttribute('src', 'https://cdnjs.cloudflare.com/ajax/libs/require.js/2.3.6/require.min.js');\r\n",
       "    require_script.setAttribute('type', 'text/javascript');\r\n",
       "    \r\n",
       "    \r\n",
       "    require_script.onload = function() {\r\n",
       "        loadDotnetInteractiveApi();\r\n",
       "    };\r\n",
       "\r\n",
       "    document.getElementsByTagName('head')[0].appendChild(require_script);\r\n",
       "}\r\n",
       "else {\r\n",
       "    loadDotnetInteractiveApi();\r\n",
       "}\r\n",
       "\r\n",
       "    </script>\r\n",
       "</div>"
      ]
     },
     "metadata": {},
     "output_type": "display_data"
    }
   ],
   "source": [
    "class Point\n",
    "{\n",
    "  public int X = 0; // Default value.\n",
    "  public int Y = 0; // Default value.\n",
    "}"
   ]
  },
  {
   "cell_type": "markdown",
   "id": "83ac717a",
   "metadata": {},
   "source": [
    "Whenever we create an instance of the class `Point`, this empty and parameterless \"default\" constructor is run."
   ]
  },
  {
   "cell_type": "code",
   "execution_count": 2,
   "id": "2d236731",
   "metadata": {},
   "outputs": [],
   "source": [
    "Point p1 = new Point(); // This causes the constructor to be called."
   ]
  },
  {
   "cell_type": "markdown",
   "id": "163114a2",
   "metadata": {},
   "source": [
    "Since the empty constructor isn't changing the value of any of the instance fields, the instantiated point will contain whatever values we set as defaults.\n",
    "As can be observed below."
   ]
  },
  {
   "cell_type": "code",
   "execution_count": 3,
   "id": "45023222",
   "metadata": {},
   "outputs": [
    {
     "name": "stdout",
     "output_type": "stream",
     "text": [
      "0\n"
     ]
    }
   ],
   "source": [
    "Console.WriteLine(p1.X);"
   ]
  },
  {
   "cell_type": "markdown",
   "id": "c7c7981a",
   "metadata": {},
   "source": [
    "### Initializing fields\n",
    "\n",
    "What's the problem?\n",
    "Well, sometimes it's possible to identify a sensible \"default\" value that we can initialize our instance fields to, and sometimes it's not.\n",
    "What if we don't want to specify a default value for a field in our class?\n",
    "Worse, what if there really isn't any default value that remotely makes sense in our domain?\n",
    "Remember the maxim of [making impossible states impossible](types-over-tests).\n",
    "If it doesn't make sense in the domain, then we shouldn't allow it in our types.\n",
    "\n",
    "By declaring a constructor with some parameters we make it impossible to instantiate the class without also passing arguments for those parameters.\n",
    "Remember what we said about the default constructor.\n",
    "An empty, parameterless constructor isn't implicitly added to your class if you define a constructor.\n",
    "However, to construct an instance of a class, we must run a constructor.\n",
    "So, if there is only one constructor in a class, and that constructor takes some parameters, then it is impossible to create an instance of that class without also providing arguments for those parameters.\n",
    "\n",
    "By using constructors we can force anyone who wants to create an instance of the class to have to specify the two coordinates that the point should be at.\n",
    "It would look like this."
   ]
  },
  {
   "cell_type": "code",
   "execution_count": 4,
   "id": "d993432a",
   "metadata": {},
   "outputs": [],
   "source": [
    "class Point\n",
    "{\n",
    "  public int X; // No default needed.\n",
    "  public int Y; // No default needed.\n",
    "\n",
    "  // This is the constructor.\n",
    "  public Point (int x, int y)\n",
    "  {\n",
    "    this.X = x; // Assigns input argument to field.\n",
    "    this.Y = y; // Assigns input argument to field.\n",
    "  }\n",
    "}"
   ]
  },
  {
   "cell_type": "markdown",
   "id": "137a5760",
   "metadata": {},
   "source": [
    "```{note}\n",
    "Wondering what the keyword `this` is?\n",
    "Don't worry, we'll get there in a second.\n",
    "```\n",
    "\n",
    "In the code above, we've declared a constructor with two parameters of type `int`.\n",
    "The two parameters are named `x` and `y`.\n",
    "In the body of the constructor, meaning the implementation of the constructor, we take these two arguments and assign them to our instance fields called `X` and `Y`.\n",
    "\n",
    "When do we pass these arguments?\n",
    "We pass them when we instantiate the class."
   ]
  },
  {
   "cell_type": "code",
   "execution_count": 5,
   "id": "da22643f",
   "metadata": {},
   "outputs": [],
   "source": [
    "Point p2 = new Point(10, 20);\n",
    "Point p3 = new Point(4, 5);"
   ]
  },
  {
   "cell_type": "markdown",
   "id": "9a2fa3e2",
   "metadata": {},
   "source": [
    "Notice how it is no longer possible to instantiate a `Point` without also passing arguments to the constructor.\n",
    "If we try to do that, then we get a compiler error."
   ]
  },
  {
   "cell_type": "code",
   "execution_count": 6,
   "id": "918a810e",
   "metadata": {
    "tags": [
     "raises-exception"
    ]
   },
   "outputs": [
    {
     "name": "stderr",
     "output_type": "stream",
     "text": [
      "\n",
      "(1,16): error CS7036: There is no argument given that corresponds to the required formal parameter 'x' of 'Point.Point(int, int)'\n",
      "\n"
     ]
    },
    {
     "ename": "Error",
     "evalue": "compilation error",
     "output_type": "error",
     "traceback": []
    }
   ],
   "source": [
    "Point p4 = new Point(); // Will not compile."
   ]
  },
  {
   "cell_type": "markdown",
   "id": "3c90a318",
   "metadata": {},
   "source": [
    "A constructor is a method, and to call the method we must supply arguments for all its parameters.\n",
    "\n",
    "This means that we can guarantee that anytime we have an instance of type `Point` it was instantiated with some intial values that whoever instantiated the class chose.\n",
    "However, we can *not* guarantee that any instance of type `Point` will at all times have coordinates that \"make sense\" in our domain since the [access modifiers](access-modifiers) of the instance fields are `public` and since the fields are [mutable](mutability).\n",
    "To achieve true information hiding we must also learn about [instance methods](instance-methods) or [properties](properties).\n",
    "\n",
    "\n",
    "### `this` keyword\n",
    "\n",
    "So what about the `this` keyword that's being used in the example above.\n",
    "What is it and what does it do?\n",
    "\n",
    "When the code in the body of the constructor is being executed, then that code is being executed in the context of the object that was just created.\n",
    "The keyword `this` refers to the object that is being constructed.\n",
    "\n",
    "In that particular example we don't actually need the keyword `this`.\n",
    "We could just as well, simply, have written `X = x` and `Y = y`.\n",
    "This is because there is no ambiguity.\n",
    "What do we mean when we say that there is no ambiguity?\n",
    "We mean that the variables `X` and `x`, for example, are both only defined in one place that's in scope in the constructor.\n",
    "\n",
    "If however we had named the constructor parameters `X` and `Y`, meaning in uppercase then there would be ambiguity.\n",
    "Think about it.\n",
    "What are we assigning to what if we would say `X = X`?\n",
    "The C# compiler will assume that we are referring to the local variable which means that we will be assigning the value of a variable to itself.\n",
    "Which of course is pointless and not what we meant to do.\n",
    "Have a look at the compiler warnings that we get below:"
   ]
  },
  {
   "cell_type": "code",
   "execution_count": 7,
   "id": "4f86d842",
   "metadata": {
    "tags": [
     "raises-exception"
    ]
   },
   "outputs": [
    {
     "name": "stderr",
     "output_type": "stream",
     "text": [
      "\n",
      "(8,5): warning CS1717: Assignment made to same variable; did you mean to assign something else?\n",
      "\n",
      "(9,5): warning CS1717: Assignment made to same variable; did you mean to assign something else?\n",
      "\n"
     ]
    }
   ],
   "source": [
    "class Point\n",
    "{\n",
    "  public int X = 0;\n",
    "  public int Y = 0;\n",
    "\n",
    "  public Point (int X, int Y)\n",
    "  {\n",
    "    X = X;\n",
    "    Y = Y;\n",
    "  }\n",
    "}"
   ]
  },
  {
   "cell_type": "markdown",
   "id": "71b92c47",
   "metadata": {},
   "source": [
    "%TODO: WHAT DOES THE KEYWORD `THIS` MEAN\n",
    "\n",
    "\n",
    "```{warning}\n",
    "Work in progress.\n",
    "```\n",
    "\n",
    "\n",
    "### Overloading\n",
    "\n",
    "Constructors are [overloadable](overloading).\n",
    "This is known as \"constructor overloading\" and means that we can define multiple constructors that differ in their parameter lists and have different implementations.\n",
    "This is very useful since it, for example, allows us to define types that can be instantiated in very different ways.\n",
    "\n",
    "Consider for example the idea of a weekday.\n",
    "If we have a type that models weekdays called `Weekday` then we can trivially think of a number of different ways to instantiate it.\n",
    "To instantiate an object that represents Tuesday we might for example want to support the following different syntaxes."
   ]
  },
  {
   "cell_type": "code",
   "execution_count": 8,
   "id": "2bfca8ad",
   "metadata": {
    "tags": [
     "remove-input"
    ]
   },
   "outputs": [],
   "source": [
    "class Weekday\n",
    "{\n",
    "  public Weekday (string day) {}\n",
    "  public Weekday (int day) {}\n",
    "}"
   ]
  },
  {
   "cell_type": "code",
   "execution_count": 9,
   "id": "a0c77744",
   "metadata": {},
   "outputs": [],
   "source": [
    "new Weekday (2);            // int\n",
    "new Weekday ('T');          // char\n",
    "new Weekday (\"Tuesday\");    // string"
   ]
  },
  {
   "cell_type": "markdown",
   "id": "0ae11cda",
   "metadata": {},
   "source": [
    "Notice how we're instantiating the same type, namely `Weekday`, in all three cases above.\n",
    "However, notice also how the type of the argument that we pass to the constructor varies.\n",
    "There are essentially three constructors."
   ]
  },
  {
   "cell_type": "code",
   "execution_count": 10,
   "id": "69ae7202",
   "metadata": {},
   "outputs": [],
   "source": [
    "class Weekday\n",
    "{\n",
    "  public Weekday (string day) { /* ... */ }\n",
    "  public Weekday (int day) { /* ... */ }\n",
    "  public Weekday (char day) { /* ... */ }\n",
    "}"
   ]
  },
  {
   "cell_type": "markdown",
   "id": "2bfb5756",
   "metadata": {},
   "source": [
    "Whichever constructor is run depends on the data type we pass when we instantiate the class.\n",
    "\n",
    "\n",
    "### Constructor chaining\n",
    "\n",
    "```{warning}\n",
    "Work in progress.\n",
    "```\n",
    "\n",
    "\n",
    "### Access modifiers\n",
    "\n",
    "\n",
    "```{warning}\n",
    "Work in progress.\n",
    "```\n",
    "\n",
    "%- TODO: Constructors can be private.\n",
    "%- TODO: Example: Use static methods to allow us to only create \"correct\" vowel instances. Prefer compile-time errors over run-time errors.\n",
    "\n",
    "\n",
    "### Expression-bodied members\n",
    "\n",
    "As mentioned in an earlier chapter, constructors support the C# feature known as expression-bodied members.\n",
    "This means that if we have a constructor whose implementation can be expressed as a single expression, then we can omit the curly braces (`{ }`) and instead use a fat-arrow (`=>`).\n",
    "Like in the example below."
   ]
  },
  {
   "cell_type": "code",
   "execution_count": 11,
   "id": "aeb0d4e2",
   "metadata": {},
   "outputs": [],
   "source": [
    "class Person\n",
    "{\n",
    "  public string Name;\n",
    "  public Person (string name)\n",
    "    => Name = name;\n",
    "}"
   ]
  },
  {
   "cell_type": "markdown",
   "id": "3024883a",
   "metadata": {},
   "source": [
    "%### Order\n",
    "%\n",
    "%First field initializers, then chained constructor, then constructor?\n",
    "\n",
    "\n",
    "## Examples\n",
    "\n",
    "%### Vowels\n",
    "%\n",
    "%```{code-cell} csharp\n",
    "%class Vowel\n",
    "%{\n",
    "%  char letter;\n",
    "%\n",
    "%  public Vowel (char vowel)\n",
    "%  {\n",
    "%    string legal = \"AEIOU\";\n",
    "%    if (legal.IndexOf(Char.ToUpper(vowel)) == -1)\n",
    "%      throw new ArgumentException(\"Must be a vowel (AEIOU).\");\n",
    "%    letter = vowel;\n",
    "%  }\n",
    "%\n",
    "%  public char ToChar () => letter;\n",
    "%\n",
    "%  public static implicit operator char(Vowel v) => v.ToChar();\n",
    "%}\n",
    "%```\n",
    "%Write a class that models the domain concept of English vowels.\n",
    "%It should be possible to pass upper and lowercase vowels as characters when instantiating it, and it should be possible to extract these vowels again.\n",
    "%See the usage examples below.\n",
    "%\n",
    "%```{code-cell} csharp\n",
    "%char c1 = new Vowel('A').ToChar();\n",
    "%Console.WriteLine(c1);\n",
    "%```\n",
    "%\n",
    "%```{code-cell} csharp\n",
    "%char c2 = new Vowel('u').ToChar();\n",
    "%Console.WriteLine(c2);\n",
    "%```\n",
    "%\n",
    "%Rember the maxim [types over tests](types-over-tests)?\n",
    "%It suggests that illegal states shouldn't be representable.\n",
    "%If you try to instantiate the class by passing a non-vowel character then the class should throw an `ArgumentException`.\n",
    "%\n",
    "%```{code-cell} csharp\n",
    "%:tags: [raises-exception]\n",
    "%new Vowel('z').ToChar();\n",
    "%```\n",
    "%\n",
    "%\n",
    "%We have learned that illegal states should not be representable.\n",
    "%We have also learned that compile-time errors are preferable over run-time errors.\n",
    "%Rewrite the class `Vowel` that you wrote in {numref}`ex:constructors:vowel` so that we get a compile-time error instead of a run-time error whenever we try to instantiate it with a non-vowel.\n",
    "%\n",
    "%Hint: Use [enums](enums).\n",
    "\n",
    "\n",
    "### Robber's cipher vowel\n",
    "\n",
    "In the chapter on [fields](fields) we gave an example where we assigned the consonant `B` to a field that was supposed to contain a vowel.\n",
    "Let's add a constructor to that class so that we can ensure that every time we have an instance of the class `RobbersCipherVowel` we know that it contains an actual vowel."
   ]
  },
  {
   "cell_type": "code",
   "execution_count": 12,
   "id": "9c2bb225",
   "metadata": {},
   "outputs": [],
   "source": [
    "class RobbersCipherVowel\n",
    "{\n",
    "  public char Vowel;\n",
    "  public RobbersCipherVowel (char vowel)\n",
    "  {\n",
    "    Vowel = vowel switch {\n",
    "      'A' or 'a' or 'E' or 'e' or 'I' or 'i' or 'O' or 'o' or 'U' or 'u'\n",
    "        => vowel,\n",
    "      _ => 'o'\n",
    "    };\n",
    "  }\n",
    "}"
   ]
  },
  {
   "cell_type": "markdown",
   "id": "dd38690b",
   "metadata": {},
   "source": [
    "Pretty neat right?\n",
    "What happens if we now try to create an instance of `RobbersCipherVowel` by passing a consonant (or any other non-vowel character for that matter) to the constructor?\n",
    "Well, the constructor will simply ignore the character that we sent it and instead just use the character `'o'` that we chose as the default."
   ]
  },
  {
   "cell_type": "code",
   "execution_count": 13,
   "id": "4d6215a8",
   "metadata": {},
   "outputs": [
    {
     "name": "stdout",
     "output_type": "stream",
     "text": [
      "o\n"
     ]
    }
   ],
   "source": [
    "RobbersCipherVowel certainlyVowel = new RobbersCipherVowel('K');\n",
    "Console.WriteLine(certainlyVowel.Vowel);"
   ]
  },
  {
   "cell_type": "markdown",
   "id": "a71bade7",
   "metadata": {},
   "source": [
    "%Arguably, it would make sense to use an [enum](enums) for input instead.\n",
    "%We're not going to write that code since it's given to you as {numref}`ex:constructors:vowel-enums`.\n",
    "%However, we're going to talk a lot more about the idea of using types that prevent your data types from ever entering illegal states in the chapter on [types over tests](types-over-tests).\n",
    "\n",
    "But wait a minute!\n",
    "What if someone just changes the vowel *after* the object has been created?\n",
    "\n",
    "```{danger}\n",
    "Be weary of mutating fields and properties.\n",
    "```"
   ]
  },
  {
   "cell_type": "code",
   "execution_count": 14,
   "id": "45bcbef8",
   "metadata": {},
   "outputs": [
    {
     "name": "stdout",
     "output_type": "stream",
     "text": [
      "K\n"
     ]
    }
   ],
   "source": [
    "certainlyVowel.Vowel = 'K';\n",
    "Console.WriteLine(certainlyVowel.Vowel);"
   ]
  },
  {
   "cell_type": "markdown",
   "id": "421a7dd7",
   "metadata": {},
   "source": [
    "That's definitly not a vowel!\n",
    "This is a problem caused by allowing mutation and not actually embracing encapsulation.\n",
    "We're actually not encapsulating the vowel.\n",
    "We're not actually hiding it from the outside world.\n",
    "When we say that it is `public` we've exposed it.\n",
    "And since it's a field, that means that anyone can change it.\n",
    "\n",
    "To encapsulate the vowel we need to learn about [instance methods](instance-methods) or [properties](properties).\n",
    "\n",
    "\n",
    "(exception-arguments)=\n",
    "### Exceptions\n",
    "\n",
    "Remember how we discussed that [expections](throwing-exceptions) are just regular classes and that we can instantiate and then throw them ourselves?\n",
    "There are two things we must learn about exceptions when talking about constructors.\n",
    "\n",
    "1. We can pass arguments to the constructor when instantiating an exception.\n",
    "2. We can throw exceptions in our own constructors when users try to create instances of our type that doesn't make sense.\n",
    "\n",
    "If an exception is just a class, then that means that when we are instantiating them we are running a constructor.\n",
    "Which in turn means that the constructor might take arguments.\n",
    "\n",
    "I've mentioned that we'll make heavy use of the type `ArgumentException`, and it just so happens that this class, as many other exception classes in .NET, defines a constructor that takes a single `string` as an argument.\n",
    "This `string` is the message that we want to send with the exception when it is thrown.\n",
    "\n",
    "We can use this feature in order to tell the user more about what went wrong when something went wrong.\n",
    "Have a look at how we're using exceptions below to guarantee that a Balloon without a text cannot be created."
   ]
  },
  {
   "cell_type": "code",
   "execution_count": 15,
   "id": "66b53875",
   "metadata": {
    "tags": [
     "raises-exception"
    ]
   },
   "outputs": [],
   "source": [
    "class Balloon\n",
    "{\n",
    "  public string Text = \"\";\n",
    "\n",
    "  public Balloon (string text)\n",
    "  {\n",
    "    if (text == null || text == \"\")\n",
    "      throw new ArgumentException($\"Text must be non-null and non-empty.\");\n",
    "    this.Text = text;\n",
    "  }\n",
    "}"
   ]
  },
  {
   "cell_type": "markdown",
   "id": "f3ed14c1",
   "metadata": {},
   "source": [
    "### Static factory methods\n",
    "\n",
    "```{warning}\n",
    "Work in progress.\n",
    "```\n",
    "\n",
    "%!!!!!!!!!!!!!!!!!!!!!\n",
    "%!!!!!!!!!!!!!!!!!!!!!\n",
    "%!!!!!!!!!!!!!!!!!!!!!\n",
    "%!!!!!!!!!!!!!!!!!!!!!\n",
    "%VOWEL EXAMPLE AND STATIC FACTORIES\n",
    "\n",
    "\n",
    "\n",
    "## Exercises\n",
    "\n",
    "```{exercise}\n",
    "How can we make use of the keyword `this` in a constructor?\n",
    "```\n",
    "\n",
    "```{exercise}\n",
    "What is constructor overloading and constructor chaining?\n",
    "How do they relate to eachother?\n",
    "```\n",
    "\n",
    "```{exercise}\n",
    "Write your own example that shows how constructor overloading works.\n",
    "```\n",
    "\n",
    "```{exercise}\n",
    "Write your own example that shows how constructor chaining.\n",
    "```\n",
    "\n",
    "```{exercise-start}\n",
    "```\n",
    "The code below generates warnings and doesn't behave as intended.\n",
    "How do we get rid of the warning and make it behave as the programmer most likely intended it to behave like?"
   ]
  },
  {
   "cell_type": "code",
   "execution_count": 16,
   "id": "b5b45c31",
   "metadata": {},
   "outputs": [
    {
     "name": "stderr",
     "output_type": "stream",
     "text": [
      "\n",
      "(6,8): warning CS1717: Assignment made to same variable; did you mean to assign something else?\n",
      "\n",
      "(3,10): warning CS0169: The field 'Cat.Name' is never used\n",
      "\n"
     ]
    }
   ],
   "source": [
    "class Cat\n",
    "{\n",
    "  string Name;\n",
    "\n",
    "  public Cat (string Name)\n",
    "    => Name = Name;\n",
    "}"
   ]
  },
  {
   "cell_type": "markdown",
   "id": "48e1847a",
   "metadata": {},
   "source": [
    "```{exercise-end}\n",
    "```\n",
    "\n",
    "\n",
    "%```{exercise}\n",
    "%:label: ex:constructors:vowel-enums\n",
    "%\n",
    "%Use constructor overloading to add another constructor to the class `CaesarCipherVowel` from this chapter.\n",
    "%The new constructor should take an [enum](enums) that only can be set to vowels.\n",
    "%Make sure that the updated class still can be used in the encode methods of the static class `RobbersCipher` from the chapter on [fields](fields).\n",
    "%```\n",
    "\n",
    "\n",
    "```{exercise}\n",
    "When and why would you choose to expose a parameter through the constructor as opposed to through an instance method?\n",
    "Explain using your own words.\n",
    "```\n",
    "\n",
    "\n",
    "%```{exercise}\n",
    "%TODO: First name and last name.\n",
    "%```\n",
    "\n",
    "\n",
    "%```{exercise-start}\n",
    "%:label: ex:constructors:vowel\n",
    "%```\n",
    "%Below you'll find a draft of a class called `Weekday`.\n",
    "%```{code-cell}\n",
    "%class Weekday\n",
    "%{\n",
    "%  public int Day;\n",
    "%  public Weekday (int day) { /* ... */ }\n",
    "%  public Weekday (string day) { /* ... */ }\n",
    "%  public Weekday (char day) { /* ... */ }\n",
    "%}\n",
    "%```\n",
    "%Complete the definition of the class so that we can use it to run the following code and get the same result.\n",
    "%```{code-cell} csharp\n",
    "%class Weekday\n",
    "%{\n",
    "%  int day;\n",
    "%\n",
    "%  public Weekday (int day)\n",
    "%  {\n",
    "%    if (weekday < 1 || weekday > 7)\n",
    "%      throw new ArgumentException(\"Number must be between 1 and 7.\");\n",
    "%  }\n",
    "%\n",
    "%  public Weekday (string day)\n",
    "%  {\n",
    "%    string[] legal = new string[] {\n",
    "%      \"Monday\", \"Tuesday\", \"Wednesday\", \"Thursday\", \"Friday\", \"Saturday\", \"Sunday\" }\n",
    "%    Array.IndexOf(legal, day)\n",
    "%    if (legal.IndexOf(Char.ToUpper(vowel)) == -1)\n",
    "%      throw new ArgumentException(\"Must be a vowel (AEIOU).\");\n",
    "%    letter = vowel;\n",
    "%  }\n",
    "%\n",
    "%  public Weekday (int weekday)\n",
    "%  {\n",
    "%    if (weekday < 1 || weekday > 7)\n",
    "%      throw new ArgumentException(\"Number must be between 1 and 7.\");\n",
    "%  }\n",
    "%\n",
    "%  public char ToChar () => letter;\n",
    "%\n",
    "%  public static implicit operator char(Vowel v) => v.ToChar();\n",
    "%}\n",
    "%```\n",
    "%Write a class that models the domain concept of English vowels.\n",
    "%It should be possible to pass upper and lowercase vowels as characters when instantiating it, and it should be possible to extract these vowels again.\n",
    "%See the usage examples below.\n",
    "%\n",
    "%```{code-cell} csharp\n",
    "%char c1 = new Vowel('A').ToChar();\n",
    "%Console.WriteLine(c1);\n",
    "%```\n",
    "%```{code-cell} csharp\n",
    "%char c2 = new Vowel('u').ToChar();\n",
    "%Console.WriteLine(c2);\n",
    "%```\n",
    "%Rember the maxim [types over tests](types-over-tests)?\n",
    "%It suggests that illegal states shouldn't be representable.\n",
    "%If you try to instantiate the class by passing a non-vowel character then the class should throw an `ArgumentException`.\n",
    "%\n",
    "%```{code-cell} csharp\n",
    "%:tags: [raises-exception]\n",
    "%new Vowel('z').ToChar();\n",
    "%```\n",
    "%```{exercise-end}\n",
    "%```\n",
    "\n",
    "\n",
    "%```{exercise-start}\n",
    "%```\n",
    "%We have learned that illegal states should not be representable.\n",
    "%We have also learned that compile-time errors are preferable over run-time errors.\n",
    "%Rewrite the class `Weekday` that you wrote in {numref}`ex:constructors:vowel` so that we get a compile-time error instead of a run-time error whenever we try to instantiate it with a non-vowel.\n",
    "%\n",
    "%Hint: Use static factory methods.\n",
    "%```{exercise-end}\n",
    "%```\n",
    "\n",
    "```{exercise}\n",
    "Write a class that can be used to represent phone numbers for your country.\n",
    "Rember the maxim [types over tests](types-over-tests).\n",
    "Illegal states should not be representable.\n",
    "```\n",
    "\n",
    "\n",
    "%\n",
    "%```{code-cell}\n",
    "%class Vowel\n",
    "%{\n",
    "%  char vowel;\n",
    "%\n",
    "%  public Vowel (char vowel)\n",
    "%  {\n",
    "%    this.vowel = vowel;\n",
    "%  }\n",
    "%}\n",
    "%```"
   ]
  }
 ],
 "metadata": {
  "jupytext": {
   "formats": "md:myst",
   "text_representation": {
    "extension": ".md",
    "format_name": "myst"
   }
  },
  "kernelspec": {
   "display_name": "csharp",
   "language": ".net-csharp",
   "name": ".net-csharp"
  },
  "language_info": {
   "file_extension": ".cs",
   "mimetype": "text/x-csharp",
   "name": "C#",
   "pygments_lexer": "csharp",
   "version": "10.0"
  },
  "source_map": [
   11,
   64,
   70,
   73,
   75,
   80,
   82,
   103,
   116,
   130,
   133,
   138,
   141,
   171,
   184,
   204,
   213,
   217,
   223,
   230,
   259,
   266,
   332,
   345,
   351,
   354,
   367,
   370,
   400,
   413,
   452,
   460
  ]
 },
 "nbformat": 4,
 "nbformat_minor": 5
}