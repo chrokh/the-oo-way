{
 "cells": [
  {
   "cell_type": "markdown",
   "id": "ed565f6c",
   "metadata": {},
   "source": [
    "# Delegates\n",
    "\n",
    "```{warning}\n",
    "Work in progress.\n",
    "```\n",
    "\n",
    "## Motivation\n",
    "\n",
    "% TODO: This first part should perhaps be moved to strategy pattern intro?\n",
    "Verbs are just as important as nouns.\n",
    "Functions are also values.\n",
    "Functions have types, just like values have types.\n",
    "The value `2` might have type `int` and the function `+` might have type `int -> int`.\n",
    "We would read the latter as \"int to int\".\n",
    "Or verbosely, we would say that the function `+` maps from `int` to `int`.\n",
    "\n",
    "Delegates, in C#, can be viewed as a more compact implementation of strategy pattern.\n",
    "Inversely, strategy pattern can be seen as a way to implement delegates in object oriented languages.\n",
    "\n",
    "## Definition\n",
    "\n",
    "A delegate, in C#, is a *type* whose values are methods.\n",
    "Since we are talking about imperative programming, where functions are usually not [pure](purity), I will, as [previously discussed](methods), use the word \"method\" rather than \"function\".\n",
    "\n",
    "If the values of a type are methods, then the type must define what these methods take as input and what they produce as output.\n",
    "In other words, a delegate defines the method signature (including return type) that all members of the delegate type, meaning methods that belong to the type, share.\n",
    "More verbosely, a delegate defines the return type and the parameter list of all values of that delegate type.\n",
    "\n",
    "Since a delegate is a type and not a value, it has to gate can be defined directly in a [namespace](namespace), or as a member of a [class](classes).\n",
    "We cannot define a delegate inside a method, just like how we cannot define a new class inside another method.\n",
    "We can however define a new class inside a namespace or another class.\n",
    "\n",
    "To define a delegate we use the keyword `delegate` then state the return type of the delegate type, followed by the name of the delegate type, which is finally followed by a parameter list."
   ]
  },
  {
   "cell_type": "code",
   "execution_count": 1,
   "id": "eac6f113",
   "metadata": {},
   "outputs": [
    {
     "data": {
      "text/html": [
       "\r\n",
       "<div>\r\n",
       "    <div id='dotnet-interactive-this-cell-2832.Microsoft.DotNet.Interactive.Http.HttpPort' style='display: none'>\r\n",
       "        The below script needs to be able to find the current output cell; this is an easy method to get it.\r\n",
       "    </div>\r\n",
       "    <script type='text/javascript'>\r\n",
       "async function probeAddresses(probingAddresses) {\r\n",
       "    function timeout(ms, promise) {\r\n",
       "        return new Promise(function (resolve, reject) {\r\n",
       "            setTimeout(function () {\r\n",
       "                reject(new Error('timeout'))\r\n",
       "            }, ms)\r\n",
       "            promise.then(resolve, reject)\r\n",
       "        })\r\n",
       "    }\r\n",
       "\r\n",
       "    if (Array.isArray(probingAddresses)) {\r\n",
       "        for (let i = 0; i < probingAddresses.length; i++) {\r\n",
       "\r\n",
       "            let rootUrl = probingAddresses[i];\r\n",
       "\r\n",
       "            if (!rootUrl.endsWith('/')) {\r\n",
       "                rootUrl = `${rootUrl}/`;\r\n",
       "            }\r\n",
       "\r\n",
       "            try {\r\n",
       "                let response = await timeout(1000, fetch(`${rootUrl}discovery`, {\r\n",
       "                    method: 'POST',\r\n",
       "                    cache: 'no-cache',\r\n",
       "                    mode: 'cors',\r\n",
       "                    timeout: 1000,\r\n",
       "                    headers: {\r\n",
       "                        'Content-Type': 'text/plain'\r\n",
       "                    },\r\n",
       "                    body: probingAddresses[i]\r\n",
       "                }));\r\n",
       "\r\n",
       "                if (response.status == 200) {\r\n",
       "                    return rootUrl;\r\n",
       "                }\r\n",
       "            }\r\n",
       "            catch (e) { }\r\n",
       "        }\r\n",
       "    }\r\n",
       "}\r\n",
       "\r\n",
       "function loadDotnetInteractiveApi() {\r\n",
       "    probeAddresses([\"http://10.1.0.103:1024/\", \"http://127.0.0.1:1024/\"])\r\n",
       "        .then((root) => {\r\n",
       "        // use probing to find host url and api resources\r\n",
       "        // load interactive helpers and language services\r\n",
       "        let dotnetInteractiveRequire = require.config({\r\n",
       "        context: '2832.Microsoft.DotNet.Interactive.Http.HttpPort',\r\n",
       "                paths:\r\n",
       "            {\r\n",
       "                'dotnet-interactive': `${root}resources`\r\n",
       "                }\r\n",
       "        }) || require;\r\n",
       "\r\n",
       "            window.dotnetInteractiveRequire = dotnetInteractiveRequire;\r\n",
       "\r\n",
       "            window.configureRequireFromExtension = function(extensionName, extensionCacheBuster) {\r\n",
       "                let paths = {};\r\n",
       "                paths[extensionName] = `${root}extensions/${extensionName}/resources/`;\r\n",
       "                \r\n",
       "                let internalRequire = require.config({\r\n",
       "                    context: extensionCacheBuster,\r\n",
       "                    paths: paths,\r\n",
       "                    urlArgs: `cacheBuster=${extensionCacheBuster}`\r\n",
       "                    }) || require;\r\n",
       "\r\n",
       "                return internalRequire\r\n",
       "            };\r\n",
       "        \r\n",
       "            dotnetInteractiveRequire([\r\n",
       "                    'dotnet-interactive/dotnet-interactive'\r\n",
       "                ],\r\n",
       "                function (dotnet) {\r\n",
       "                    dotnet.init(window);\r\n",
       "                },\r\n",
       "                function (error) {\r\n",
       "                    console.log(error);\r\n",
       "                }\r\n",
       "            );\r\n",
       "        })\r\n",
       "        .catch(error => {console.log(error);});\r\n",
       "    }\r\n",
       "\r\n",
       "// ensure `require` is available globally\r\n",
       "if ((typeof(require) !==  typeof(Function)) || (typeof(require.config) !== typeof(Function))) {\r\n",
       "    let require_script = document.createElement('script');\r\n",
       "    require_script.setAttribute('src', 'https://cdnjs.cloudflare.com/ajax/libs/require.js/2.3.6/require.min.js');\r\n",
       "    require_script.setAttribute('type', 'text/javascript');\r\n",
       "    \r\n",
       "    \r\n",
       "    require_script.onload = function() {\r\n",
       "        loadDotnetInteractiveApi();\r\n",
       "    };\r\n",
       "\r\n",
       "    document.getElementsByTagName('head')[0].appendChild(require_script);\r\n",
       "}\r\n",
       "else {\r\n",
       "    loadDotnetInteractiveApi();\r\n",
       "}\r\n",
       "\r\n",
       "    </script>\r\n",
       "</div>"
      ]
     },
     "metadata": {},
     "output_type": "display_data"
    }
   ],
   "source": [
    "delegate int BinaryOperation (int x, int y);"
   ]
  },
  {
   "cell_type": "markdown",
   "id": "b0cd27c7",
   "metadata": {},
   "source": [
    "We can then declare variables of this type like we would any other type."
   ]
  },
  {
   "cell_type": "code",
   "execution_count": 2,
   "id": "4020d583",
   "metadata": {},
   "outputs": [],
   "source": [
    "BinaryOperation op;"
   ]
  },
  {
   "cell_type": "markdown",
   "id": "105b9b90",
   "metadata": {},
   "source": [
    "When assigning a value to a variable of our delegate type however, the value must be a method that satisfies the signature of the delegate type.\n",
    "Let's, for example, say that we have two [local functions](local-functions) called `add` and `sub` which adds and subtracts integers."
   ]
  },
  {
   "cell_type": "code",
   "execution_count": 3,
   "id": "249a7faf",
   "metadata": {},
   "outputs": [],
   "source": [
    "int Add (int x, int y) => x + y;\n",
    "int Sub (int x, int y) => x - y;"
   ]
  },
  {
   "cell_type": "markdown",
   "id": "34174194",
   "metadata": {},
   "source": [
    "These two methods could be considered values of the delegate type `BinaryOperation` that we've defined.\n",
    "Why can they be considered members of that type?\n",
    "Well, because they both take two parameters of type `int` as input, and both produce a single `int` as output.\n",
    "Their types are `(int, int) -> int` which is the same type as the type that our delegate defined.\n",
    "They belong to the set of members defined by the delegate type `BinaryOperation`.\n",
    "\n",
    "This means that we can assign any of the two methods to variables of type `BinaryOperation`."
   ]
  },
  {
   "cell_type": "code",
   "execution_count": 4,
   "id": "8db68630",
   "metadata": {},
   "outputs": [],
   "source": [
    "BinaryOperation op1 = Add;\n",
    "BinaryOperation op2 = Sub;"
   ]
  },
  {
   "cell_type": "markdown",
   "id": "64112e7e",
   "metadata": {},
   "source": [
    "```{warning}\n",
    "When assigning a method to a variable of a delegate type, we don't invoke the method.\n",
    "Therefore there are no parenthases (and no argument list) following the words `Add` and `Sub` in the example above.\n",
    "```\n",
    "\n",
    "\n",
    "### Variance\n",
    "\n",
    "Methods don't have to match the type of a delegate *exactly* in order to be considered members.\n",
    "Like we learned in the chapter on [variance](variance), input types can be contravariant, and output types can be covariant.\n",
    "\n",
    "This means that a delegate type that expects values of type `Cat` and produces values of type `Animal` also would consider a method that takes `Animal` (because of contravariance in input types) and produces values of type `Cat` (because of covariance in output types) a member of the type defined by the delegate.\n",
    "Why does this work?\n",
    "Well, because the method is a member of a subtype of the delegate.\n",
    "Refer back to the chapter on the [Liskov substitution principle](liskov-substitution-principle) if this doesn't feel intuitive."
   ]
  },
  {
   "cell_type": "code",
   "execution_count": 5,
   "id": "c7d133ad",
   "metadata": {},
   "outputs": [],
   "source": [
    "class Animal {}                       // Supertype\n",
    "class Cat : Animal {}                 // Subtype\n",
    "delegate Animal MyDelegate (Cat cat); // Delegate type\n",
    "Cat MyMethod (Animal a) => new Cat(); // Some method\n",
    "MyDelegate op = MyMethod;             // Method is member of the delegate type"
   ]
  },
  {
   "cell_type": "markdown",
   "id": "3b367f0d",
   "metadata": {},
   "source": [
    "### Generic delegates\n",
    "\n",
    "As we learned in the chapter on [generic methods](generic-methods), methods can also be generic.\n",
    "Consequently, delegates can also be generic."
   ]
  },
  {
   "cell_type": "code",
   "execution_count": 6,
   "id": "e2ebeb4f",
   "metadata": {},
   "outputs": [],
   "source": [
    "delegate T BinaryOperation<T> (T x, T y);\n",
    "\n",
    "int Add (int x, int y) => x + y;\n",
    "bool And (bool a, bool b) => a && b;\n",
    "\n",
    "BinaryOperation<int> op1 = Add;\n",
    "BinaryOperation<bool> op2 = And;"
   ]
  },
  {
   "cell_type": "markdown",
   "id": "3c93d18d",
   "metadata": {},
   "source": [
    "(delegates:multicast)=\n",
    "### Multicast delegates\n",
    "\n",
    "Multiple delegates values, in C#, can be combined into a single delegate value.\n",
    "This is, in C#, known as \"multicast delegates\"."
   ]
  },
  {
   "cell_type": "code",
   "execution_count": 7,
   "id": "e9865480",
   "metadata": {},
   "outputs": [],
   "source": [
    "delegate void Operation ();\n",
    "\n",
    "void Print1 () => Console.WriteLine(\"hello\");\n",
    "void Print2 () => Console.WriteLine(\"world\");\n",
    "\n",
    "Operation op1 = Print1;\n",
    "Operation op2 = Print2;\n",
    "Operation both = op1 + op2;"
   ]
  },
  {
   "cell_type": "markdown",
   "id": "976ff216",
   "metadata": {},
   "source": [
    "When invoking the delegate, all methods in the multicast delegate are executed in sequence, and the value of the last method in the delegate is returned."
   ]
  },
  {
   "cell_type": "code",
   "execution_count": 8,
   "id": "45999cdc",
   "metadata": {},
   "outputs": [
    {
     "name": "stdout",
     "output_type": "stream",
     "text": [
      "hello\n"
     ]
    },
    {
     "name": "stdout",
     "output_type": "stream",
     "text": [
      "world\n"
     ]
    }
   ],
   "source": [
    "both();"
   ]
  },
  {
   "cell_type": "markdown",
   "id": "f4e8f5bc",
   "metadata": {},
   "source": [
    "```{note}\n",
    "If you happen to be famililar with function composition you might want to know that multicast delegates unfortunately do not behave like composition.\n",
    "It seems reasonable to assume that multicast delegates is a feature that exists to simplify the act of adding event handlers.\n",
    "But more on that in the chapter on [events](events).\n",
    "```\n",
    "\n",
    "We can also use the `+=` operator to the same effect."
   ]
  },
  {
   "cell_type": "code",
   "execution_count": 9,
   "id": "69047213",
   "metadata": {},
   "outputs": [],
   "source": [
    "Operation op = Print1;\n",
    "op += Print2;"
   ]
  },
  {
   "cell_type": "markdown",
   "id": "a8047fbc",
   "metadata": {},
   "source": [
    "(func-and-action)=\n",
    "### Built-in delegate types\n",
    "\n",
    ".NET has a few built-in delegate types.\n",
    "Most notable are the `Action` and `Func` types.\n",
    "I say types not type, because there are versions of the types defined for parameter list lengths from 0 all the way up to 16 parameters.\n",
    "\n",
    "The types called `Action` can be used to declare delegates that take some number of arguments and don't return a value, or in other words that returns `void`.\n",
    "The types called `Func` can be used to declare delegates that take some number of arguments and return some value.\n",
    "\n",
    "So in the examples that we've seen so far we didn't really need to define our own delegates.\n",
    "Instead we could have simply used the built-in types."
   ]
  },
  {
   "cell_type": "code",
   "execution_count": 10,
   "id": "b6c67f0a",
   "metadata": {},
   "outputs": [],
   "source": [
    "Func<int,int,int> op1 = Add;\n",
    "Func<int,int,int> Op2 = Sub;\n",
    "Func<bool,bool,bool> Op3 = And;\n",
    "Action op3 = Print1;"
   ]
  },
  {
   "cell_type": "markdown",
   "id": "48dd0144",
   "metadata": {},
   "source": [
    "```{seealso}\n",
    "See the documentation for more information on the various versions of [Func](https://learn.microsoft.com/en-us/dotnet/api/system.func-2?view=net-7.0) and [Action](https://learn.microsoft.com/en-us/dotnet/api/system.action?view=net-6.0) respectively.\n",
    "```\n",
    "\n",
    "%## Closures\n",
    "%Instance methods can be assigned to delegates.\n",
    "%Num num1 = new Num(10);\n",
    "%Func<Num> neg = num1.Neg;\n",
    "%\n",
    "%Num num2 = neg();\n",
    "%\n",
    "%Console.WriteLine(num1.n);\n",
    "%Console.WriteLine(num2.n);\n",
    "%\n",
    "%class Num\n",
    "%{\n",
    "%  public int n { get; private set; }\n",
    "%  public Num (int n)\n",
    "%    => this.n = n;\n",
    "%  public Num Neg ()\n",
    "%    => new Num(-n);\n",
    "%}\n",
    "\n",
    "\n",
    "\n",
    "\n",
    "\n",
    "## Exercises\n",
    "\n",
    "```{exercise}\n",
    "What are delegates and why are they useful?\n",
    "```\n",
    "\n",
    "```{exercise}\n",
    "It could be argued that strategy pattern and delegates solve the same problem (albeit in syntactically different ways).\n",
    "How so?\n",
    "```\n",
    "\n",
    "```{exercise}\n",
    "Come up with your own example of where delegates could be useful and implement it in code.\n",
    "```\n",
    "\n",
    "```{exercise-start}\n",
    "```\n",
    "Rewrite the class `ConditionalCipher` from {numref}`ex:generic-types:conditional-cipher` so that the predicate is passed as a delegate.\n",
    "You can choose whether to write your own predicate type, or use the built-in types `Func<T,TResult>` or `Predicate<T>`.\n",
    "\n",
    "We should be able to use the conditional cipher as follows.\n",
    "Let's say that we declare a method that we want to use as a predicate, assign that method to a delegate, and then pass it to the constructor when instantiating a cipher."
   ]
  },
  {
   "cell_type": "code",
   "execution_count": 11,
   "id": "35f4f518",
   "metadata": {
    "tags": [
     "hide-input"
    ]
   },
   "outputs": [],
   "source": [
    "interface ICipher<TIn,TOut>\n",
    "{\n",
    "  TOut Encode (TIn input);\n",
    "}\n",
    "\n",
    "class LeetCipher : ICipher<char,char>\n",
    "{\n",
    "  public char Encode (char input)\n",
    "  {\n",
    "    switch (input)\n",
    "    {\n",
    "      case 'L': return '1'; case '1': return 'L';\n",
    "      case 'A': return '4'; case '4': return 'A';\n",
    "      case 'O': return '0'; case '0': return 'O';\n",
    "      case 'T': return '7'; case '7': return 'T';\n",
    "      case 'E': return '3'; case '3': return 'E';\n",
    "      default: return input;\n",
    "    }\n",
    "  }\n",
    "}"
   ]
  },
  {
   "cell_type": "code",
   "execution_count": 12,
   "id": "54b5d874",
   "metadata": {
    "tags": [
     "remove-input"
    ]
   },
   "outputs": [],
   "source": [
    "class ConditionalCipher<T> : ICipher<T,T>\n",
    "{\n",
    "  ICipher<T,T> cipher;\n",
    "  Func<T,bool> pred;\n",
    "\n",
    "  public ConditionalCipher (ICipher<T,T> cipher, Func<T,bool> pred)\n",
    "  {\n",
    "    this.cipher = cipher;\n",
    "    this.pred = pred;\n",
    "  }\n",
    "\n",
    "  public T Encode (T input)\n",
    "    => pred(input) ? cipher.Encode(input) : input;\n",
    "}"
   ]
  },
  {
   "cell_type": "code",
   "execution_count": 13,
   "id": "be0da56e",
   "metadata": {},
   "outputs": [],
   "source": [
    "bool IsUpper (char c) => Char.IsUpper(c);\n",
    "Func<char,bool> isUpper = IsUpper;\n",
    "ConditionalCipher<char> cipher = new ConditionalCipher<char>(new LeetCipher(), isUpper);"
   ]
  },
  {
   "cell_type": "markdown",
   "id": "6dba1e4c",
   "metadata": {},
   "source": [
    "If we now execute the conditional cipher it should only run the composed cipher if the predicate happens to be true for the input."
   ]
  },
  {
   "cell_type": "code",
   "execution_count": 14,
   "id": "edb5ba18",
   "metadata": {},
   "outputs": [
    {
     "name": "stdout",
     "output_type": "stream",
     "text": [
      "3\n"
     ]
    }
   ],
   "source": [
    "Console.WriteLine( cipher.Encode('E') );"
   ]
  },
  {
   "cell_type": "markdown",
   "id": "b22db1f6",
   "metadata": {},
   "source": [
    "If the predicate isn't true for the input value then we simply get back the same input as output."
   ]
  },
  {
   "cell_type": "code",
   "execution_count": 15,
   "id": "75422fa1",
   "metadata": {},
   "outputs": [
    {
     "name": "stdout",
     "output_type": "stream",
     "text": [
      "e\n"
     ]
    }
   ],
   "source": [
    "Console.WriteLine( cipher.Encode('e') );"
   ]
  },
  {
   "cell_type": "markdown",
   "id": "fc5628ea",
   "metadata": {},
   "source": [
    "```{exercise-end}\n",
    "```\n",
    "\n",
    "\n",
    "% TODO: Add exercise that generalizes IncrementingCaesarCipherFactory and DecrementingCaesarCipherFactory from the chapter on generic variant interfaces. Use delegates instead of hard-coding the operation to perform on the int.\n",
    "\n",
    "\n",
    "%--------------\n",
    "\n",
    "\n",
    "% TODO: USE THE STUFF BELOW?\n",
    "\n",
    "% Include generic delegates if this is not it's own chapter.\n",
    "\n",
    "% Arguably, strategy pattern and dependency injection exists since functions are usually not first class citizens in object oriented languages.\n",
    "\n",
    "%- Example: Use delegate version of `Predicate` instead of `IPredicate<T>` that we saw in [generics](generics) and [abstract injected object composition](abstract-injected-object-composition).\n",
    "%- Implement the method that repeatedly applies ciphers using delegates instead. See the chapter on [subtype polymorphism](subtype-polymorphism).\n",
    "\n",
    "\n",
    "\n",
    "%```csharp\n",
    "%int Inc (int x) => x + 1;\n",
    "%Func<int, int> f = Inc;\n",
    "%Func<int, int> g = (int x) => x + 1;\n",
    "%```\n",
    "\n",
    "% Defer pattern matching part in chapter on pattern matching chapter.\n",
    "% This is a sensible alternative to the NullObject pattern which is less flexible because there you need to bundle data with the use case of what happens when you want to extract the data. Then again that argument is at the heart of the OOP vs FP debate.\n",
    "% Also show how this can be written in terms of strategy pattern / dependency injection.\n",
    "\n",
    "%```csharp\n",
    "%// Applying a function\n",
    "%var m1 = new Just<int>(10);\n",
    "%Maybe<string> m2 = m1.Map(x => x.ToString());\n",
    "%\n",
    "%// Pattern matching\n",
    "%string toString (Maybe<string> maybe) =>\n",
    "%  maybe switch\n",
    "%  {\n",
    "%    Just<string> just => just.Value,\n",
    "%    _ => \"\",\n",
    "%  };\n",
    "%Console.WriteLine(toString(new Just<string>(\"hello\")));\n",
    "%Console.WriteLine(toString(new Nothing<string>()));\n",
    "%\n",
    "%// Applying an action\n",
    "%var just = new Just<int>(10);\n",
    "%just.Map(x => Console.WriteLine(x));\n",
    "%\n",
    "%\n",
    "%abstract class Maybe<A>\n",
    "%{\n",
    "%  public abstract Maybe<B> Map<B> (Func<A, B> f);\n",
    "%  public abstract Maybe<A> Map (Action<A> f);\n",
    "%}\n",
    "%class Just<A> : Maybe<A>\n",
    "%{\n",
    "%  public A Value { get; private set; }\n",
    "%  public Just(A val) => Value = val;\n",
    "%  public override Maybe<B> Map<B> (Func<A, B> f)\n",
    "%    => new Just<B>(f(Value));\n",
    "%  public override Maybe<A> Map (Action<A> f)\n",
    "%  {\n",
    "%    f(Value);\n",
    "%    return this;\n",
    "%  }\n",
    "%}\n",
    "%class Nothing<A> : Maybe<A>\n",
    "%{\n",
    "%  public override Maybe<B> Map<B> (Func<A, B> f)\n",
    "%    => new Nothing<B>();\n",
    "%  public override Maybe<A> Map (Action<A> f)\n",
    "%    => this;\n",
    "%}\n",
    "%```\n",
    "\n",
    "\n",
    "\n",
    "%```csharp\n",
    "%class Program\n",
    "%{\n",
    "%  delegate bool Bin (bool a, bool b);\n",
    "%\n",
    "%  static bool And (bool a, bool b) => a && b;\n",
    "%\n",
    "%  public static void Main ()\n",
    "%  {\n",
    "%    Bin a = (bool a, bool b) => a && b;\n",
    "%    Bin b = And;\n",
    "%\n",
    "%    // Does not compile since f is of a different type.\n",
    "%    Func<bool, bool, bool> f = (bool a, bool b) => a && b;\n",
    "%    Bin c = f;\n",
    "%  }\n",
    "%}\n",
    "%```"
   ]
  }
 ],
 "metadata": {
  "jupytext": {
   "formats": "md:myst",
   "text_representation": {
    "extension": ".md",
    "format_name": "myst"
   }
  },
  "kernelspec": {
   "display_name": "csharp",
   "language": ".net-csharp",
   "name": ".net-csharp"
  },
  "language_info": {
   "file_extension": ".cs",
   "mimetype": "text/x-csharp",
   "name": "C#",
   "pygments_lexer": "csharp",
   "version": "10.0"
  },
  "source_map": [
   11,
   47,
   49,
   53,
   55,
   60,
   63,
   73,
   76,
   94,
   100,
   108,
   116,
   125,
   134,
   138,
   140,
   150,
   153,
   168,
   173,
   224,
   247,
   264,
   268,
   270,
   272,
   274,
   276
  ]
 },
 "nbformat": 4,
 "nbformat_minor": 5
}