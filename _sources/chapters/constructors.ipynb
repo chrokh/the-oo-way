{
 "cells": [
  {
   "cell_type": "markdown",
   "id": "4546e4ae",
   "metadata": {},
   "source": [
    "# Constructors\n",
    "\n",
    "```{warning}\n",
    "Work in progress.\n",
    "```\n",
    "\n",
    "%- Constructor overloading.\n",
    "%- Use it to set defaults.\n",
    "%- this keyword.\n",
    "%- Empty constructors. Implicit, explicit.\n",
    "\n",
    "\n",
    "## Motivation\n",
    "\n",
    "Constructors solve two main problems.\n",
    "\n",
    "1. They allow us to initialize the [fields](fields) and [properties](properties) of an object upon creation.\n",
    "2. They allow us to validate whether the state of an object, upon creation, is valid or not.\n",
    "\n",
    "The second point is very important since it allows us to assume that any instance of a type actually is a valid instance of that type.\n",
    "\n",
    "\n",
    "## Examples\n",
    "\n",
    "### Robber's cipher vowel\n",
    "\n",
    "In the chapter on [fields](fields) we gave an example where we assigned the consonant `B` to a field that was supposed to contain a vowel.\n",
    "Let's add a constructor to that class so that we can ensure that every time we have an instance of the class `RobbersCipherVowel` we know that it contains an actual vowel."
   ]
  },
  {
   "cell_type": "code",
   "execution_count": 1,
   "id": "bff68e11",
   "metadata": {},
   "outputs": [
    {
     "data": {
      "text/html": [
       "\r\n",
       "<div>\r\n",
       "    <div id='dotnet-interactive-this-cell-2533.Microsoft.DotNet.Interactive.Http.HttpPort' style='display: none'>\r\n",
       "        The below script needs to be able to find the current output cell; this is an easy method to get it.\r\n",
       "    </div>\r\n",
       "    <script type='text/javascript'>\r\n",
       "async function probeAddresses(probingAddresses) {\r\n",
       "    function timeout(ms, promise) {\r\n",
       "        return new Promise(function (resolve, reject) {\r\n",
       "            setTimeout(function () {\r\n",
       "                reject(new Error('timeout'))\r\n",
       "            }, ms)\r\n",
       "            promise.then(resolve, reject)\r\n",
       "        })\r\n",
       "    }\r\n",
       "\r\n",
       "    if (Array.isArray(probingAddresses)) {\r\n",
       "        for (let i = 0; i < probingAddresses.length; i++) {\r\n",
       "\r\n",
       "            let rootUrl = probingAddresses[i];\r\n",
       "\r\n",
       "            if (!rootUrl.endsWith('/')) {\r\n",
       "                rootUrl = `${rootUrl}/`;\r\n",
       "            }\r\n",
       "\r\n",
       "            try {\r\n",
       "                let response = await timeout(1000, fetch(`${rootUrl}discovery`, {\r\n",
       "                    method: 'POST',\r\n",
       "                    cache: 'no-cache',\r\n",
       "                    mode: 'cors',\r\n",
       "                    timeout: 1000,\r\n",
       "                    headers: {\r\n",
       "                        'Content-Type': 'text/plain'\r\n",
       "                    },\r\n",
       "                    body: probingAddresses[i]\r\n",
       "                }));\r\n",
       "\r\n",
       "                if (response.status == 200) {\r\n",
       "                    return rootUrl;\r\n",
       "                }\r\n",
       "            }\r\n",
       "            catch (e) { }\r\n",
       "        }\r\n",
       "    }\r\n",
       "}\r\n",
       "\r\n",
       "function loadDotnetInteractiveApi() {\r\n",
       "    probeAddresses([\"http://10.1.1.122:1024/\", \"http://127.0.0.1:1024/\"])\r\n",
       "        .then((root) => {\r\n",
       "        // use probing to find host url and api resources\r\n",
       "        // load interactive helpers and language services\r\n",
       "        let dotnetInteractiveRequire = require.config({\r\n",
       "        context: '2533.Microsoft.DotNet.Interactive.Http.HttpPort',\r\n",
       "                paths:\r\n",
       "            {\r\n",
       "                'dotnet-interactive': `${root}resources`\r\n",
       "                }\r\n",
       "        }) || require;\r\n",
       "\r\n",
       "            window.dotnetInteractiveRequire = dotnetInteractiveRequire;\r\n",
       "\r\n",
       "            window.configureRequireFromExtension = function(extensionName, extensionCacheBuster) {\r\n",
       "                let paths = {};\r\n",
       "                paths[extensionName] = `${root}extensions/${extensionName}/resources/`;\r\n",
       "                \r\n",
       "                let internalRequire = require.config({\r\n",
       "                    context: extensionCacheBuster,\r\n",
       "                    paths: paths,\r\n",
       "                    urlArgs: `cacheBuster=${extensionCacheBuster}`\r\n",
       "                    }) || require;\r\n",
       "\r\n",
       "                return internalRequire\r\n",
       "            };\r\n",
       "        \r\n",
       "            dotnetInteractiveRequire([\r\n",
       "                    'dotnet-interactive/dotnet-interactive'\r\n",
       "                ],\r\n",
       "                function (dotnet) {\r\n",
       "                    dotnet.init(window);\r\n",
       "                },\r\n",
       "                function (error) {\r\n",
       "                    console.log(error);\r\n",
       "                }\r\n",
       "            );\r\n",
       "        })\r\n",
       "        .catch(error => {console.log(error);});\r\n",
       "    }\r\n",
       "\r\n",
       "// ensure `require` is available globally\r\n",
       "if ((typeof(require) !==  typeof(Function)) || (typeof(require.config) !== typeof(Function))) {\r\n",
       "    let require_script = document.createElement('script');\r\n",
       "    require_script.setAttribute('src', 'https://cdnjs.cloudflare.com/ajax/libs/require.js/2.3.6/require.min.js');\r\n",
       "    require_script.setAttribute('type', 'text/javascript');\r\n",
       "    \r\n",
       "    \r\n",
       "    require_script.onload = function() {\r\n",
       "        loadDotnetInteractiveApi();\r\n",
       "    };\r\n",
       "\r\n",
       "    document.getElementsByTagName('head')[0].appendChild(require_script);\r\n",
       "}\r\n",
       "else {\r\n",
       "    loadDotnetInteractiveApi();\r\n",
       "}\r\n",
       "\r\n",
       "    </script>\r\n",
       "</div>"
      ]
     },
     "metadata": {},
     "output_type": "display_data"
    }
   ],
   "source": [
    "class RobbersCipherVowel\n",
    "{\n",
    "  public char Vowel;\n",
    "  public RobbersCipherVowel (char vowel)\n",
    "  {\n",
    "    Vowel = vowel switch {\n",
    "      'A' or 'a' or 'E' or 'e' or 'I' or 'i' or 'O' or 'o' or 'U' or 'u'\n",
    "        => vowel,\n",
    "      _ => 'o'\n",
    "    };\n",
    "  }\n",
    "}"
   ]
  },
  {
   "cell_type": "markdown",
   "id": "7832605c",
   "metadata": {},
   "source": [
    "Pretty neat right?\n",
    "What happens if we now try to create an instance of `RobbersCipherVowel` by passing a consonant (or any other non-vowel character for that matter) to the constructor?\n",
    "Well, the constructor will simply ignore the character that we sent it and instead just use the character `'o'` that we chose as the default."
   ]
  },
  {
   "cell_type": "code",
   "execution_count": 2,
   "id": "f8550c5d",
   "metadata": {},
   "outputs": [
    {
     "name": "stdout",
     "output_type": "stream",
     "text": [
      "o\n"
     ]
    }
   ],
   "source": [
    "RobbersCipherVowel certainlyVowel = new RobbersCipherVowel('K');\n",
    "Console.WriteLine(certainlyVowel.Vowel);"
   ]
  },
  {
   "cell_type": "markdown",
   "id": "ff1e3e8d",
   "metadata": {},
   "source": [
    "Arguably, it would make sense to use an [enum](enums) for input instead.\n",
    "We're not going to write that code since it's given to you as {numref}`ex:constructors:vowel-enums`.\n",
    "However, we're going to talk a lot more about the idea of using types that prevent your data types from ever entering illegal states in the chapter on [types over tests](types-over-tests).\n",
    "\n",
    "But wait a minute!\n",
    "What if someone just changes the vowel *after* the object has been created?\n",
    "\n",
    "```{danger}\n",
    "Be weary of mutating fields and properties.\n",
    "```"
   ]
  },
  {
   "cell_type": "code",
   "execution_count": 3,
   "id": "bf401260",
   "metadata": {},
   "outputs": [
    {
     "name": "stdout",
     "output_type": "stream",
     "text": [
      "K\n"
     ]
    }
   ],
   "source": [
    "certainlyVowel.Vowel = 'K';\n",
    "Console.WriteLine(certainlyVowel.Vowel);"
   ]
  },
  {
   "cell_type": "markdown",
   "id": "a9fbb200",
   "metadata": {},
   "source": [
    "That's definitly not a vowel!\n",
    "This is a problem caused by allowing mutation and not actually embracing encapsulation.\n",
    "We're actually not encapsulating the vowel.\n",
    "We're not actually hiding it from the outside world.\n",
    "When we say that it is `public` we've exposed it.\n",
    "And since it's a field, that means that anyone can change it.\n",
    "\n",
    "To encapsulate the vowel we need to learn about [instance methods](instance-methods) or [properties](properties).\n",
    "\n",
    "\n",
    "\n",
    "\n",
    "## Exercises\n",
    "\n",
    "```{exercise}\n",
    ":label: ex:constructors:vowel-enums\n",
    "\n",
    "Use constructor overloading to add another constructor to the class `CaesarCipherVowel` from this chapter.\n",
    "The new constructor should take an [enum](enums) that only can be set to vowels.\n",
    "Make sure that the updated class still can be used in the encode methods of the static class `RobbersCipher` from the chapter on [fields](fields).\n",
    "```\n",
    "\n",
    "```{exercise}\n",
    "What do we mean when we say that public fields \"break\" encapsulation?\n",
    "```"
   ]
  }
 ],
 "metadata": {
  "jupytext": {
   "formats": "md:myst",
   "text_representation": {
    "extension": ".md",
    "format_name": "myst"
   }
  },
  "kernelspec": {
   "display_name": "csharp",
   "language": ".net-csharp",
   "name": ".net-csharp"
  },
  "language_info": {
   "file_extension": ".cs",
   "mimetype": "text/x-csharp",
   "name": "C#",
   "pygments_lexer": "csharp",
   "version": "10.0"
  },
  "source_map": [
   11,
   42,
   55,
   61,
   64,
   77,
   80
  ]
 },
 "nbformat": 4,
 "nbformat_minor": 5
}