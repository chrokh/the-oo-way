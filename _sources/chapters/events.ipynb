{
 "cells": [
  {
   "cell_type": "markdown",
   "id": "bcda2ef4",
   "metadata": {},
   "source": [
    "# Events\n",
    "\n",
    "```{warning}\n",
    "Work in progress.\n",
    "```\n",
    "\n",
    "% TODO: Discuss event-driven programming, reactive programming, and FRP.\n",
    "\n",
    "## Motivation\n",
    "\n",
    "As mentioned in the chapter on [observer pattern](observer-pattern), events together with delegates are, in a sense, solving the same problem as the observer pattern.\n",
    "Events and delegates allow to subscribe to some event, and run some code as a consequence of that event occurring.\n",
    "\n",
    "%1. Declare a delegate that will be used as the event handler.\n",
    "%2. Declare an event.\n",
    "%3. Raise the event somewhere.\n",
    "\n",
    "\n",
    "\n",
    "## Examples\n",
    "\n",
    "### Observable ciphers\n",
    "\n",
    "Let's take the example of generic observable ciphers from the chapter on [observer pattern](observer-pattern:generic-observable-ciphers) and reimplement it using events and delegates.\n",
    "\n",
    "When using events and delegates our observers become delegates.\n",
    "So let's start there.\n",
    "Recall that we had three observers: `CipherViewer`, `CipherWriter`, and `CipherLog`.\n",
    "But just as in the chapter on observer pattern that last observer is left as an exercise for you.\n",
    "\n",
    "Let's use simple [local functions](local-functions) to build our two observables that can be stored in delegates."
   ]
  },
  {
   "cell_type": "code",
   "execution_count": 1,
   "id": "58aff250",
   "metadata": {},
   "outputs": [
    {
     "data": {
      "text/html": [
       "\r\n",
       "<div>\r\n",
       "    <div id='dotnet-interactive-this-cell-2981.Microsoft.DotNet.Interactive.Http.HttpPort' style='display: none'>\r\n",
       "        The below script needs to be able to find the current output cell; this is an easy method to get it.\r\n",
       "    </div>\r\n",
       "    <script type='text/javascript'>\r\n",
       "async function probeAddresses(probingAddresses) {\r\n",
       "    function timeout(ms, promise) {\r\n",
       "        return new Promise(function (resolve, reject) {\r\n",
       "            setTimeout(function () {\r\n",
       "                reject(new Error('timeout'))\r\n",
       "            }, ms)\r\n",
       "            promise.then(resolve, reject)\r\n",
       "        })\r\n",
       "    }\r\n",
       "\r\n",
       "    if (Array.isArray(probingAddresses)) {\r\n",
       "        for (let i = 0; i < probingAddresses.length; i++) {\r\n",
       "\r\n",
       "            let rootUrl = probingAddresses[i];\r\n",
       "\r\n",
       "            if (!rootUrl.endsWith('/')) {\r\n",
       "                rootUrl = `${rootUrl}/`;\r\n",
       "            }\r\n",
       "\r\n",
       "            try {\r\n",
       "                let response = await timeout(1000, fetch(`${rootUrl}discovery`, {\r\n",
       "                    method: 'POST',\r\n",
       "                    cache: 'no-cache',\r\n",
       "                    mode: 'cors',\r\n",
       "                    timeout: 1000,\r\n",
       "                    headers: {\r\n",
       "                        'Content-Type': 'text/plain'\r\n",
       "                    },\r\n",
       "                    body: probingAddresses[i]\r\n",
       "                }));\r\n",
       "\r\n",
       "                if (response.status == 200) {\r\n",
       "                    return rootUrl;\r\n",
       "                }\r\n",
       "            }\r\n",
       "            catch (e) { }\r\n",
       "        }\r\n",
       "    }\r\n",
       "}\r\n",
       "\r\n",
       "function loadDotnetInteractiveApi() {\r\n",
       "    probeAddresses([\"http://10.1.1.216:1024/\", \"http://127.0.0.1:1024/\"])\r\n",
       "        .then((root) => {\r\n",
       "        // use probing to find host url and api resources\r\n",
       "        // load interactive helpers and language services\r\n",
       "        let dotnetInteractiveRequire = require.config({\r\n",
       "        context: '2981.Microsoft.DotNet.Interactive.Http.HttpPort',\r\n",
       "                paths:\r\n",
       "            {\r\n",
       "                'dotnet-interactive': `${root}resources`\r\n",
       "                }\r\n",
       "        }) || require;\r\n",
       "\r\n",
       "            window.dotnetInteractiveRequire = dotnetInteractiveRequire;\r\n",
       "\r\n",
       "            window.configureRequireFromExtension = function(extensionName, extensionCacheBuster) {\r\n",
       "                let paths = {};\r\n",
       "                paths[extensionName] = `${root}extensions/${extensionName}/resources/`;\r\n",
       "                \r\n",
       "                let internalRequire = require.config({\r\n",
       "                    context: extensionCacheBuster,\r\n",
       "                    paths: paths,\r\n",
       "                    urlArgs: `cacheBuster=${extensionCacheBuster}`\r\n",
       "                    }) || require;\r\n",
       "\r\n",
       "                return internalRequire\r\n",
       "            };\r\n",
       "        \r\n",
       "            dotnetInteractiveRequire([\r\n",
       "                    'dotnet-interactive/dotnet-interactive'\r\n",
       "                ],\r\n",
       "                function (dotnet) {\r\n",
       "                    dotnet.init(window);\r\n",
       "                },\r\n",
       "                function (error) {\r\n",
       "                    console.log(error);\r\n",
       "                }\r\n",
       "            );\r\n",
       "        })\r\n",
       "        .catch(error => {console.log(error);});\r\n",
       "    }\r\n",
       "\r\n",
       "// ensure `require` is available globally\r\n",
       "if ((typeof(require) !==  typeof(Function)) || (typeof(require.config) !== typeof(Function))) {\r\n",
       "    let require_script = document.createElement('script');\r\n",
       "    require_script.setAttribute('src', 'https://cdnjs.cloudflare.com/ajax/libs/require.js/2.3.6/require.min.js');\r\n",
       "    require_script.setAttribute('type', 'text/javascript');\r\n",
       "    \r\n",
       "    \r\n",
       "    require_script.onload = function() {\r\n",
       "        loadDotnetInteractiveApi();\r\n",
       "    };\r\n",
       "\r\n",
       "    document.getElementsByTagName('head')[0].appendChild(require_script);\r\n",
       "}\r\n",
       "else {\r\n",
       "    loadDotnetInteractiveApi();\r\n",
       "}\r\n",
       "\r\n",
       "    </script>\r\n",
       "</div>"
      ]
     },
     "metadata": {},
     "output_type": "display_data"
    }
   ],
   "source": [
    "void printTranslation (string input, string output)\n",
    "  => Console.WriteLine($\"\\\"{input}\\\" was translated into \\\"{output}\\\"\");\n",
    "\n",
    "void writeTranslation (string input, string output)\n",
    "  => Console.WriteLine(\"Writing encoded data to file...\");"
   ]
  },
  {
   "cell_type": "markdown",
   "id": "489c0456",
   "metadata": {},
   "source": [
    "Ok, so what about the observable cipher?\n",
    "Let's build that now."
   ]
  },
  {
   "cell_type": "code",
   "execution_count": 2,
   "id": "2faa9ec6",
   "metadata": {
    "tags": [
     "hide-input"
    ]
   },
   "outputs": [],
   "source": [
    "interface ICipher<in TIn,out TOut>\n",
    "{\n",
    "  TOut Encode (TIn input);\n",
    "}"
   ]
  },
  {
   "cell_type": "code",
   "execution_count": 3,
   "id": "e524953a",
   "metadata": {},
   "outputs": [],
   "source": [
    "class ObservableCipher<TIn,TOut> : ICipher<TIn,TOut>\n",
    "{\n",
    "  // This corresponds to the IObservable interface in observer pattern.\n",
    "  public delegate void EncodedEventHandler (TIn input, TOut output);\n",
    "\n",
    "  // This corresponds to the subscribe/unsubscribe methods in the observer pattern.\n",
    "  public event EncodedEventHandler Encoded;\n",
    "\n",
    "  public ICipher<TIn,TOut> cipher;\n",
    "\n",
    "  public ObservableCipher (ICipher<TIn,TOut> cipher)\n",
    "    => this.cipher = cipher;\n",
    "\n",
    "  public TOut Encode (TIn input)\n",
    "  {\n",
    "    TOut output = cipher.Encode(input); // Delegate the encoding of input.\n",
    "    onEncoded(input, output);           // Raise event (i.e. notify subscribers).\n",
    "    return output;\n",
    "  }\n",
    "\n",
    "  // This corresponds to the method that notifies all observers in the observer pattern.\n",
    "  void onEncoded (TIn input, TOut output)\n",
    "  {\n",
    "    if (Encoded != null)\n",
    "      Encoded(input, output);\n",
    "  }\n",
    "}"
   ]
  },
  {
   "cell_type": "markdown",
   "id": "25003db2",
   "metadata": {},
   "source": [
    "Let's now reintroduce our old Reverse cipher class so that we have an actual cipher to work with."
   ]
  },
  {
   "cell_type": "code",
   "execution_count": 4,
   "id": "894c01e3",
   "metadata": {},
   "outputs": [],
   "source": [
    "class ReverseCipher : ICipher<string,string>\n",
    "{\n",
    "  public string Encode (string input)\n",
    "  {\n",
    "    string output = \"\";\n",
    "    for (int i=input.Length-1; i>=0; i--)\n",
    "      output += input[i];\n",
    "    return output;\n",
    "  }\n",
    "}"
   ]
  },
  {
   "cell_type": "markdown",
   "id": "9254f4ad",
   "metadata": {},
   "source": [
    "Ok, now we are ready to create an instance of our observable cipher."
   ]
  },
  {
   "cell_type": "code",
   "execution_count": 5,
   "id": "76eaca94",
   "metadata": {},
   "outputs": [],
   "source": [
    "ObservableCipher<string,string> observable\n",
    "  = new ObservableCipher<string,string>(new ReverseCipher());"
   ]
  },
  {
   "cell_type": "markdown",
   "id": "d455a573",
   "metadata": {},
   "source": [
    "Let's now add our event handlers to the `Encoded` event."
   ]
  },
  {
   "cell_type": "code",
   "execution_count": 6,
   "id": "6df58d6a",
   "metadata": {},
   "outputs": [],
   "source": [
    "observable.Encoded += printTranslation;\n",
    "observable.Encoded += writeTranslation;"
   ]
  },
  {
   "cell_type": "markdown",
   "id": "89b62eab",
   "metadata": {},
   "source": [
    "All dressed up. It's time to go.\n",
    "Let's now run the encode method in our observable cipher to see if our event handlers are fired off in order."
   ]
  },
  {
   "cell_type": "code",
   "execution_count": 7,
   "id": "2b67bff9",
   "metadata": {},
   "outputs": [
    {
     "name": "stdout",
     "output_type": "stream",
     "text": [
      "\"ABC\" was translated into \"CBA\"\n"
     ]
    },
    {
     "name": "stdout",
     "output_type": "stream",
     "text": [
      "Writing encoded data to file...\n"
     ]
    },
    {
     "name": "stdout",
     "output_type": "stream",
     "text": [
      "\"123\" was translated into \"321\"\n"
     ]
    },
    {
     "name": "stdout",
     "output_type": "stream",
     "text": [
      "Writing encoded data to file...\n"
     ]
    }
   ],
   "source": [
    "observable.Encode(\"ABC\");\n",
    "observable.Encode(\"123\");"
   ]
  },
  {
   "cell_type": "markdown",
   "id": "0c0978d1",
   "metadata": {},
   "source": [
    "```{note}\n",
    "What is this `+=` syntax used when adding the events?\n",
    "Events in C# make use of [multi-cast delegates](delegates:multicast).\n",
    "This allows us to add event handlers to the event by using the `+=` syntax.\n",
    "```\n",
    "\n",
    "\n",
    "\n",
    "## Exercises\n",
    "\n",
    "```{exercise}\n",
    "What are events and why are they useful?\n",
    "```\n",
    "\n",
    "```{exercise}\n",
    "How are delegates used in events?\n",
    "```\n",
    "\n",
    "```{exercise}\n",
    "It could be argued that events and delegates together solve the same problem as the observer pattern do.\n",
    "How so?\n",
    "```\n",
    "\n",
    "```{exercise}\n",
    "What is event-driven programming?\n",
    "```\n",
    "\n",
    "```{exercise-start}\n",
    "```\n",
    "Rewrite the observer `CipherLog` that we wrote in {numref}`ex:observer-pattern:cipher-log` as a method that we can add as an event handler to the event `Encoded` on instances of `ObservableCipher`."
   ]
  },
  {
   "cell_type": "code",
   "execution_count": 8,
   "id": "0e712190",
   "metadata": {
    "tags": [
     "remove-input"
    ]
   },
   "outputs": [],
   "source": [
    "class CipherLog\n",
    "{\n",
    "  List<(string,string)> log = new List<(string,string)>();\n",
    "  public void Update (string input, string output)\n",
    "    => log.Add((input, output));\n",
    "  public string ToTSV()\n",
    "  {\n",
    "    string output = \"INPUT\\tOUTPUT\\n\";\n",
    "    foreach (var entry in log)\n",
    "      output += $\"{entry.Item1}\\t{entry.Item2}\\n\";\n",
    "    return output;\n",
    "  }\n",
    "}"
   ]
  },
  {
   "cell_type": "code",
   "execution_count": 9,
   "id": "ed4a6c92",
   "metadata": {},
   "outputs": [
    {
     "name": "stdout",
     "output_type": "stream",
     "text": [
      "INPUT\tOUTPUT\n",
      "abc\tcba\n",
      "ABC\tCBA\n",
      "123\t321\n",
      "\n"
     ]
    }
   ],
   "source": [
    "// Instantiate observable cipher.\n",
    "ObservableCipher<string,string> observable\n",
    "  = new ObservableCipher<string,string>(new ReverseCipher());\n",
    "\n",
    "// Instantiate log that will observe.\n",
    "CipherLog log = new CipherLog();\n",
    "\n",
    "// Add the log's update method as an event handler.\n",
    "observable.Encoded += log.Update;\n",
    "\n",
    "// Run the encoding on the observable.\n",
    "observable.Encode(\"abc\");\n",
    "observable.Encode(\"ABC\");\n",
    "observable.Encode(\"123\");\n",
    "\n",
    "// Print the log.\n",
    "Console.WriteLine(log.ToTSV());"
   ]
  },
  {
   "cell_type": "markdown",
   "id": "9091f55e",
   "metadata": {},
   "source": [
    "```{exercise-end}\n",
    "```\n",
    "\n",
    "\n",
    "\n",
    "\n",
    "\n",
    "\n",
    "```{exercise-start}\n",
    "```\n",
    "Instantiate two observable ciphers and call them `o1` and `o2`.\n",
    "The first should wrap a reverse cipher and the other a Caesar cipher with steps set to 1.\n",
    "\n",
    "Then instantiate two logs and call them `log1` and `log2`.\n",
    "The first log should be updated whenever any of the two ciphers encode data.\n",
    "The second log should only be updated when the first cipher encode data."
   ]
  },
  {
   "cell_type": "code",
   "execution_count": 10,
   "id": "ea648d98",
   "metadata": {
    "tags": [
     "remove-input"
    ]
   },
   "outputs": [],
   "source": [
    "ObservableCipher<string,string> o1\n",
    "  = new ObservableCipher<string,string>(new ReverseCipher());\n",
    "ObservableCipher<string,string> o2\n",
    "  = new ObservableCipher<string,string>(new ReverseCipher());\n",
    "\n",
    "CipherLog log1 = new CipherLog();\n",
    "CipherLog log2 = new CipherLog();\n",
    "\n",
    "o1.Encoded += log1.Update;\n",
    "o1.Encoded += log2.Update;\n",
    "o2.Encoded += log1.Update;"
   ]
  },
  {
   "cell_type": "markdown",
   "id": "d8a931f5",
   "metadata": {},
   "source": [
    "Then encode the following data using the first observable:"
   ]
  },
  {
   "cell_type": "code",
   "execution_count": 11,
   "id": "feec560b",
   "metadata": {},
   "outputs": [],
   "source": [
    "o1.Encode(\"abc\");\n",
    "o1.Encode(\"ABC\");"
   ]
  },
  {
   "cell_type": "markdown",
   "id": "ad2bfd45",
   "metadata": {},
   "source": [
    "And the following input using the second observable:"
   ]
  },
  {
   "cell_type": "code",
   "execution_count": 12,
   "id": "38f595c9",
   "metadata": {},
   "outputs": [],
   "source": [
    "o2.Encode(\"123\");\n",
    "o2.Encode(\"987\");"
   ]
  },
  {
   "cell_type": "markdown",
   "id": "87a1f7e7",
   "metadata": {},
   "source": [
    "If you've followed these instructions precisely, then `log1` should report the following when we print it:"
   ]
  },
  {
   "cell_type": "code",
   "execution_count": 13,
   "id": "b0f7139b",
   "metadata": {},
   "outputs": [
    {
     "name": "stdout",
     "output_type": "stream",
     "text": [
      "INPUT\tOUTPUT\n",
      "abc\tcba\n",
      "ABC\tCBA\n",
      "123\t321\n",
      "987\t789\n",
      "\n"
     ]
    }
   ],
   "source": [
    "Console.WriteLine(log1.ToTSV());"
   ]
  },
  {
   "cell_type": "markdown",
   "id": "c2eb053d",
   "metadata": {},
   "source": [
    "However `log2` should only contain the following:"
   ]
  },
  {
   "cell_type": "code",
   "execution_count": 14,
   "id": "f352e92e",
   "metadata": {},
   "outputs": [
    {
     "name": "stdout",
     "output_type": "stream",
     "text": [
      "INPUT\tOUTPUT\n",
      "abc\tcba\n",
      "ABC\tCBA\n",
      "\n"
     ]
    }
   ],
   "source": [
    "Console.WriteLine(log2.ToTSV());"
   ]
  },
  {
   "cell_type": "markdown",
   "id": "1c8065f4",
   "metadata": {},
   "source": [
    "Bonus question: Why is the output of the two logs different?\n",
    "```{exercise-end}\n",
    "```"
   ]
  }
 ],
 "metadata": {
  "jupytext": {
   "formats": "md:myst",
   "text_representation": {
    "extension": ".md",
    "format_name": "myst"
   }
  },
  "kernelspec": {
   "display_name": "csharp",
   "language": ".net-csharp",
   "name": ".net-csharp"
  },
  "language_info": {
   "file_extension": ".cs",
   "mimetype": "text/x-csharp",
   "name": "C#",
   "pygments_lexer": "csharp",
   "version": "10.0"
  },
  "source_map": [
   11,
   45,
   51,
   56,
   64,
   92,
   96,
   107,
   111,
   114,
   118,
   121,
   126,
   129,
   161,
   177,
   195,
   213,
   226,
   230,
   233,
   237,
   240,
   244,
   246,
   250,
   252
  ]
 },
 "nbformat": 4,
 "nbformat_minor": 5
}