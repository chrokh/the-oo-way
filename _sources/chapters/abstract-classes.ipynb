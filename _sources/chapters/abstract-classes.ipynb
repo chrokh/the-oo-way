{
 "cells": [
  {
   "cell_type": "markdown",
   "id": "e4b8ea81",
   "metadata": {},
   "source": [
    "% TODO: Must mention that abstract classes still can have constructors!\n",
    "\n",
    "# Abstract classes\n",
    "\n",
    "## Motivation\n",
    "\n",
    "Sometimes we want to use [inheritance](inheritance) for purposes of code reuse but we don't want it to be possible to instantiate the superclass.\n",
    "Sometimes it just doesn't make sense to have instances of the super class on its own.\n",
    "\n",
    "It's as if we would like to use an [interface](interfaces) but find that if we do then we have to duplicate some code that we could otherwise reuse through inheritance.\n",
    "Granted, at this point, all your smoke sensors should be sounding.\n",
    "In a later chapter we will talk about the design principle [composition over inheritance](composition-over-inheritance).\n",
    "You probably should solve this problem with composition rather than inheritance.\n",
    "\n",
    "However, since we have not yet discussed composition over inheritance which often relies on [abstract injected object composition](abstract-injected-object-composition) which we also haven't talked about, let's instead talk about how we can solve this using abstract classes.\n",
    "\n",
    "\n",
    "## Definition\n",
    "\n",
    "An abstract class is similar to an [interface](interfaces) in the sense that:\n",
    "\n",
    "* it cannot be instantiated, and\n",
    "* it can declare signatures of members that its inheritors must implement.\n",
    "\n",
    "An abstract class is similar to a class in the sense that:\n",
    "\n",
    "* it can contain members with implementations that it's inheritors will inherit (and not just signatures).\n",
    "\n",
    "In an abstract class we can mark any combination of its (public) members as `abstract`.\n",
    "It is legal to mark all of them as well as none of them as `abstract`.\n",
    "If they are marked as `abstract` then that means that they cannot have any implementation.\n",
    "\n",
    "% TODO: Any of its non-private, non-sealed members??\n",
    "\n",
    "Any member marked as `abstract` must be [overridden](overriding) in all non-abstract classes that inherit from the abstract class.\n",
    "We emphasize the word *non-abstract* since abstract classes of course may inherit from abstract classes.\n",
    "Only when we reach a non-abstract class must we start implementing the abstract members.\n",
    "\n",
    "In C# we can declare that a class is abstract by simply prepending the word `abstract` before the keyword `class` but after any [access modifiers](access-modifiers).\n",
    "In C# we can declare that a method is abstract by prepending the word `abstract` before the return type but after any [access modifiers](access-modifiers).\n",
    "\n",
    "\n",
    "### UML class diagrams\n",
    "\n",
    "In UML class diagrams, the standard is to denote abstract members using italic text.\n",
    "\n",
    "\n",
    "\n",
    "## Examples\n",
    "\n",
    "### Incrementing sequences\n",
    "\n",
    "Remember the hierarchy of sequences that we built in the chapter on [inheritance](inheritance:sequences) and refined in the chapter on [access modifiers](protected:sequences)?\n",
    "We never really discussed it, but it was quite awkward that the base class was called `Sequence` even though it was evidently modeling the sequence of incrementing integers.\n",
    "We should probably have called it `IncrementingSequence`.\n",
    "\n",
    "But, what if we wanted to implement a series of decrementing integers?\n",
    "In the chapter on [access modifiers](protected:sequences) we marked the `set` accessor of the property `Current` as `protected` which means that subclasses now has write-access.\n",
    "This means that, in theory, we could actually write a subclass of `IncrementingSequence` that decrements.\n",
    "\n",
    "There's something that just feels pretty off about that idea.\n",
    "When we have discussed the rules of \"behavioral subtyping\" in the chapter on [Liskov substitution principle](liskov-substitution-principle) you will have a formal way of discsusing why this idea is wrong.\n",
    "In short, the principle states that any subtype must be able to use at any point where its supertype is expected.\n",
    "If we use a decrementing sequence, where an incrementing one is expected, then we are violating this principle.\n",
    "\n",
    "%This means that we have to choose between calling the base class `Sequence` and `IntSequence`.\n",
    "%The former is not an excellent representation for the implementation that we have while the latter is not an excellent name for a base class.\n",
    "%We will discuss the rules of \"behavioral subtyping\" in the chapter on [Liskov substitution principle](liskov-substitution-principle).\n",
    "%However, the consequence of thinking of the base class as the sequence of incrementing integers is that all subtypes of `Sequence` now must be specializations of that sequence that don't violate the rules of that sequence.\n",
    "%What if, for example, we also want to model decrementing sequences?\n",
    "%The condition is too restrictive.\n",
    "\n",
    "%What's the alternative?\n",
    "%Well, remember how I in the chapter on [inheritance](inheritance) said that I personally have yet to come across a case of inheritance that isn't more elegantly solved using interfaces and composition?\n",
    "%If you've seen that then you know where my sympathies lie.\n",
    "%The base type should be an interface.\n",
    "%\n",
    "%But, since we should never dismiss something without first fully understanding how sit works and what we can do with it, let's force ourselves to keep using inheritance.\n",
    "%Using an abstract base class is much better than using a concrete base class in the case of our sequnce hierarchy.\n",
    "%\n",
    "%By making the base class abstract we are guaranteed that there will be no instances of that class.\n",
    "%This in turn means that we don't have to worry about specifying both the interface (in the abstract sense of the word) *and* the implementation for all memebrs of the superclass.\n",
    "%This means that we can choose to specify only the interface where we want to leave the implementation very open, and conversely actually provide an implementation where that implementation makes sense in the superclass.\n",
    "\n",
    "What's the alterantive?\n",
    "Well, what if we didn't provide a base implementation for the method `Next` at all?\n",
    "What if we make the superclass abstract and simply mark the method `Next` as `abstract`.\n",
    "Have a look at the code below."
   ]
  },
  {
   "cell_type": "code",
   "execution_count": 1,
   "id": "b89b66ef",
   "metadata": {},
   "outputs": [
    {
     "data": {
      "text/html": [
       "\r\n",
       "<div>\r\n",
       "    <div id='dotnet-interactive-this-cell-2233.Microsoft.DotNet.Interactive.Http.HttpPort' style='display: none'>\r\n",
       "        The below script needs to be able to find the current output cell; this is an easy method to get it.\r\n",
       "    </div>\r\n",
       "    <script type='text/javascript'>\r\n",
       "async function probeAddresses(probingAddresses) {\r\n",
       "    function timeout(ms, promise) {\r\n",
       "        return new Promise(function (resolve, reject) {\r\n",
       "            setTimeout(function () {\r\n",
       "                reject(new Error('timeout'))\r\n",
       "            }, ms)\r\n",
       "            promise.then(resolve, reject)\r\n",
       "        })\r\n",
       "    }\r\n",
       "\r\n",
       "    if (Array.isArray(probingAddresses)) {\r\n",
       "        for (let i = 0; i < probingAddresses.length; i++) {\r\n",
       "\r\n",
       "            let rootUrl = probingAddresses[i];\r\n",
       "\r\n",
       "            if (!rootUrl.endsWith('/')) {\r\n",
       "                rootUrl = `${rootUrl}/`;\r\n",
       "            }\r\n",
       "\r\n",
       "            try {\r\n",
       "                let response = await timeout(1000, fetch(`${rootUrl}discovery`, {\r\n",
       "                    method: 'POST',\r\n",
       "                    cache: 'no-cache',\r\n",
       "                    mode: 'cors',\r\n",
       "                    timeout: 1000,\r\n",
       "                    headers: {\r\n",
       "                        'Content-Type': 'text/plain'\r\n",
       "                    },\r\n",
       "                    body: probingAddresses[i]\r\n",
       "                }));\r\n",
       "\r\n",
       "                if (response.status == 200) {\r\n",
       "                    return rootUrl;\r\n",
       "                }\r\n",
       "            }\r\n",
       "            catch (e) { }\r\n",
       "        }\r\n",
       "    }\r\n",
       "}\r\n",
       "\r\n",
       "function loadDotnetInteractiveApi() {\r\n",
       "    probeAddresses([\"http://10.1.0.242:1024/\", \"http://127.0.0.1:1024/\"])\r\n",
       "        .then((root) => {\r\n",
       "        // use probing to find host url and api resources\r\n",
       "        // load interactive helpers and language services\r\n",
       "        let dotnetInteractiveRequire = require.config({\r\n",
       "        context: '2233.Microsoft.DotNet.Interactive.Http.HttpPort',\r\n",
       "                paths:\r\n",
       "            {\r\n",
       "                'dotnet-interactive': `${root}resources`\r\n",
       "                }\r\n",
       "        }) || require;\r\n",
       "\r\n",
       "            window.dotnetInteractiveRequire = dotnetInteractiveRequire;\r\n",
       "\r\n",
       "            window.configureRequireFromExtension = function(extensionName, extensionCacheBuster) {\r\n",
       "                let paths = {};\r\n",
       "                paths[extensionName] = `${root}extensions/${extensionName}/resources/`;\r\n",
       "                \r\n",
       "                let internalRequire = require.config({\r\n",
       "                    context: extensionCacheBuster,\r\n",
       "                    paths: paths,\r\n",
       "                    urlArgs: `cacheBuster=${extensionCacheBuster}`\r\n",
       "                    }) || require;\r\n",
       "\r\n",
       "                return internalRequire\r\n",
       "            };\r\n",
       "        \r\n",
       "            dotnetInteractiveRequire([\r\n",
       "                    'dotnet-interactive/dotnet-interactive'\r\n",
       "                ],\r\n",
       "                function (dotnet) {\r\n",
       "                    dotnet.init(window);\r\n",
       "                },\r\n",
       "                function (error) {\r\n",
       "                    console.log(error);\r\n",
       "                }\r\n",
       "            );\r\n",
       "        })\r\n",
       "        .catch(error => {console.log(error);});\r\n",
       "    }\r\n",
       "\r\n",
       "// ensure `require` is available globally\r\n",
       "if ((typeof(require) !==  typeof(Function)) || (typeof(require.config) !== typeof(Function))) {\r\n",
       "    let require_script = document.createElement('script');\r\n",
       "    require_script.setAttribute('src', 'https://cdnjs.cloudflare.com/ajax/libs/require.js/2.3.6/require.min.js');\r\n",
       "    require_script.setAttribute('type', 'text/javascript');\r\n",
       "    \r\n",
       "    \r\n",
       "    require_script.onload = function() {\r\n",
       "        loadDotnetInteractiveApi();\r\n",
       "    };\r\n",
       "\r\n",
       "    document.getElementsByTagName('head')[0].appendChild(require_script);\r\n",
       "}\r\n",
       "else {\r\n",
       "    loadDotnetInteractiveApi();\r\n",
       "}\r\n",
       "\r\n",
       "    </script>\r\n",
       "</div>"
      ]
     },
     "metadata": {},
     "output_type": "display_data"
    }
   ],
   "source": [
    "abstract class Sequence\n",
    "{\n",
    "  public virtual int Current { get; protected set; }\n",
    "\n",
    "  public abstract void Next();\n",
    "\n",
    "  public virtual int[] Take (int n)\n",
    "  {\n",
    "    int[] nums = new int[n];\n",
    "    for (int i=0; i<nums.Length; i++)\n",
    "    {\n",
    "      nums[i] = Current;\n",
    "      Next();\n",
    "    }\n",
    "    return nums;\n",
    "  }\n",
    "}"
   ]
  },
  {
   "cell_type": "markdown",
   "id": "fbb1b7c7",
   "metadata": {},
   "source": [
    "Can we now instantiate the superclass?\n",
    "No, it's now abstract."
   ]
  },
  {
   "cell_type": "code",
   "execution_count": 2,
   "id": "5467c725",
   "metadata": {
    "tags": [
     "raises-exception"
    ]
   },
   "outputs": [
    {
     "name": "stderr",
     "output_type": "stream",
     "text": [
      "\n",
      "(1,16): error CS0144: Cannot create an instance of the abstract type or interface 'Sequence'\n",
      "\n"
     ]
    },
    {
     "ename": "Error",
     "evalue": "compilation error",
     "output_type": "error",
     "traceback": []
    }
   ],
   "source": [
    "Sequence sub = new Sequence();"
   ]
  },
  {
   "cell_type": "markdown",
   "id": "85bf2f93",
   "metadata": {},
   "source": [
    "Does the fact that we've now made the superclass abstract affect the classes that inherit from the superclass in any way?\n",
    "Well, any subclass that depended on the base method `Next` will no longer compile.\n",
    "One possible solution to this problem is to simply reintroduce the idea of an incrementing sequence by creating another subclass of `Sequence`.\n",
    "Have a look at the class below."
   ]
  },
  {
   "cell_type": "code",
   "execution_count": 3,
   "id": "60c2114e",
   "metadata": {},
   "outputs": [],
   "source": [
    "class IncrementingSequence : Sequence\n",
    "{\n",
    "  public override void Next ()\n",
    "    => Current++;\n",
    "}"
   ]
  },
  {
   "cell_type": "code",
   "execution_count": 4,
   "id": "fe992e49",
   "metadata": {},
   "outputs": [
    {
     "name": "stdout",
     "output_type": "stream",
     "text": [
      "0, 1, 2, 3, 4, 5, 6, 7, 8, 9\n"
     ]
    }
   ],
   "source": [
    "Console.WriteLine(String.Join(\", \", new IncrementingSequence().Take(10)));"
   ]
  },
  {
   "cell_type": "markdown",
   "id": "2e46fb6a",
   "metadata": {},
   "source": [
    "How do these classes help us?\n",
    "Well, two classes that no longer compile, after we've marked the method `Next` as `abstract` in the superclass `Sequence`, are `PalindromicSequence` and `FilteredSequence`.\n",
    "However the former only fails to work because the latter fails to work.\n",
    "So how do we rewrite the `FilteredSequence`?\n",
    "Well, now that we've introduced the class `IncrementingSequence` we've got a replacement that behaves like our old non-abstract implementation of the superclass `Sequence`.\n",
    "So we can get both `FilteredSequence` and by extension `PalindromicSequence` to work again by simply saying that `FilteredSequence` inherits from `IncrementingSequence`.\n",
    "\n",
    "In the code snippet below the implementation of `FilteredSequence` remains the same.\n",
    "The only thing that has changed is that it inherits from `IncrementingSequence` instead of from `Sequence`."
   ]
  },
  {
   "cell_type": "code",
   "execution_count": 5,
   "id": "a95b77aa",
   "metadata": {},
   "outputs": [],
   "source": [
    "class FilteredSequence : IncrementingSequence\n",
    "{\n",
    "  public override void Next()\n",
    "  {\n",
    "    Current++;\n",
    "    if (!IsValid())\n",
    "      Next();\n",
    "  }\n",
    "\n",
    "  protected virtual bool IsValid ()\n",
    "    => true;\n",
    "}"
   ]
  },
  {
   "cell_type": "code",
   "execution_count": 6,
   "id": "b9ff54ec",
   "metadata": {},
   "outputs": [
    {
     "name": "stdout",
     "output_type": "stream",
     "text": [
      "0, 1, 2, 3, 4, 5, 6, 7, 8, 9\n"
     ]
    }
   ],
   "source": [
    "Console.WriteLine(String.Join(\", \", new FilteredSequence().Take(10)));"
   ]
  },
  {
   "cell_type": "markdown",
   "id": "f0c3cf71",
   "metadata": {},
   "source": [
    "The implementation of `PalindromicSequence` can remain the same."
   ]
  },
  {
   "cell_type": "code",
   "execution_count": 7,
   "id": "942d6e4c",
   "metadata": {
    "tags": [
     "hide-input"
    ]
   },
   "outputs": [],
   "source": [
    "class PalindromicSequence : FilteredSequence\n",
    "{\n",
    "  protected override bool IsValid ()\n",
    "  {\n",
    "    string number = Current.ToString();\n",
    "    for (int i=0; i<number.Length; i++)\n",
    "      if (number[i] != number[number.Length - i - 1])\n",
    "        return false;\n",
    "    return true;\n",
    "  }\n",
    "}"
   ]
  },
  {
   "cell_type": "code",
   "execution_count": 8,
   "id": "8b3c5ced",
   "metadata": {},
   "outputs": [
    {
     "name": "stdout",
     "output_type": "stream",
     "text": [
      "0, 1, 2, 3, 4, 5, 6, 7, 8, 9, 11, 22, 33, 44, 55, 66, 77, 88, 99, 101\n"
     ]
    }
   ],
   "source": [
    "Console.WriteLine(String.Join(\", \", new PalindromicSequence().Take(20)));"
   ]
  },
  {
   "cell_type": "markdown",
   "id": "f84931ef",
   "metadata": {},
   "source": [
    "### Decrementing sequences\n",
    "\n",
    "Remember how we said that letting the superclass model incrementing sequences was too restrictive?\n",
    "Well, now that we've got a more general superclass, and a subclass that models the notion of an incrementing sequence it is trivial to see how we would implement a decrementing sequence.\n",
    "\n",
    "%TODO: THIS IS THE MAJOR LEAP THAT'S GOING TO TAKE US INTO COMPOSITION SINCE WE HAVE TO DUPLICATE ALL SEQUENCE VARIATIONS. WHERE DO I START INTRODUCING THIS?"
   ]
  },
  {
   "cell_type": "code",
   "execution_count": 9,
   "id": "26dd7ff4",
   "metadata": {},
   "outputs": [],
   "source": [
    "class DecrementingSequence : Sequence\n",
    "{\n",
    "  public override void Next ()\n",
    "    => Current--;\n",
    "}"
   ]
  },
  {
   "cell_type": "code",
   "execution_count": 10,
   "id": "67420604",
   "metadata": {},
   "outputs": [
    {
     "name": "stdout",
     "output_type": "stream",
     "text": [
      "0, -1, -2, -3, -4, -5, -6, -7, -8, -9\n"
     ]
    }
   ],
   "source": [
    "Console.WriteLine(String.Join(\", \", new DecrementingSequence().Take(10)));"
   ]
  },
  {
   "cell_type": "markdown",
   "id": "59ae20ad",
   "metadata": {},
   "source": [
    "Ok, seems to work.\n",
    "But wait a minute.\n",
    "What if we want to implement a decrementing palindromic sequence?\n",
    "Do we really have to write two classes everytime we want to have an algorithm that filters numbers in a number sequence?\n",
    "No, we don't have to.\n",
    "\n",
    "The more we model our numbers this way, the more obvious it becomes that the cause of our problems is our use of inheritance.\n",
    "Later we will discuss the design principle known as [composition over inheritance](composition-over-inheritance).\n",
    "But already now, are we starting to see why it exists.\n",
    "There are cracks in the foundation of inheritance.\n",
    "It just isn't as useful for code reuse as composition is.\n",
    "\n",
    "We'll keep working with our sequences in the chapters on abstract [constructed](abstract-constructed:sequences) and [injected](abstract-injected:sequences) composition.\n",
    "\n",
    "\n",
    "\n",
    "\n",
    "\n",
    "%#### Limitations of inheritance\n",
    "\n",
    "\n",
    "\n",
    "### Characterwise ciphers\n",
    "\n",
    "%TODO: MOTIVATION: FOR LISKOV CHAPTER. DOES IT MAKE SENSE FOR OTHER CIPHERS TO INHERIT FROM NULLCIPHER? PROBABLY NOT RIGHT?\n",
    "\n",
    "In the chapter on [inheritance](inheritance:examples:characterwise) we discussed back and forth about the usefulness of the implementation in the superclass `CharWiseCipher` which we later renamed to `CharToCharSubstitutionCipher`.\n",
    "Now that we know about abstract classes it is possible for us to avoid having to even think about this by making that base class abstract.\n",
    "\n",
    "How come we don't have to think about it?\n",
    "Well, if we mark the base class as abstract then we can be sure that there will never be any instances of that class floating around.\n",
    "Also, since we then can mark any of its members as abstract, we don't actually have to implement the method `char Encode (char input)`, meaning the method that takes and produces a `char`.\n",
    "That method was our main concern in the example on [inheritance](inheritance:examples:characterwise).\n",
    "\n",
    "So let's try to simply mark it as abstract.\n",
    "This time we'll call the class `CharToCharSubstitutionCipher`."
   ]
  },
  {
   "cell_type": "code",
   "execution_count": 11,
   "id": "8205c37c",
   "metadata": {},
   "outputs": [],
   "source": [
    "abstract class CharToCharSubstitutionCipher\n",
    "{\n",
    "  public abstract char Encode (char input);\n",
    "\n",
    "  public string Encode (string input)\n",
    "  {\n",
    "    string output = \"\";\n",
    "    foreach (char letter in input)\n",
    "      output += Encode (letter);\n",
    "    return output;\n",
    "  }\n",
    "}"
   ]
  },
  {
   "cell_type": "markdown",
   "id": "b9e4c49c",
   "metadata": {},
   "source": [
    "Notice how we've marked the class as `abstract` and the method `Encode` which no longer has an implementation.\n",
    "We've now actually only implemented the part we wanted to have from the start.\n",
    "Namely the method that iterates over the input `string`, delegates to the character-encoding method, concatenates, and returns the result.\n",
    "It was the duplication of this method that we were concerned about in the first place.\n",
    "\n",
    "Can we now instantiate the superclass?\n",
    "No, it's now abstract."
   ]
  },
  {
   "cell_type": "code",
   "execution_count": 12,
   "id": "6934c928",
   "metadata": {
    "tags": [
     "raises-exception"
    ]
   },
   "outputs": [
    {
     "name": "stderr",
     "output_type": "stream",
     "text": [
      "\n",
      "(1,36): error CS0144: Cannot create an instance of the abstract type or interface 'CharToCharSubstitutionCipher'\n",
      "\n"
     ]
    },
    {
     "ename": "Error",
     "evalue": "compilation error",
     "output_type": "error",
     "traceback": []
    }
   ],
   "source": [
    "CharToCharSubstitutionCipher sub = new CharToCharSubstitutionCipher();"
   ]
  },
  {
   "cell_type": "markdown",
   "id": "9bd2d210",
   "metadata": {},
   "source": [
    "Does the fact that we've now made the superclass abstract affect the classes that inherit from the superclass in any way?\n",
    "No.\n",
    "Since they already have implementations for `char Encode (char input)` we're good to go."
   ]
  },
  {
   "cell_type": "code",
   "execution_count": 13,
   "id": "086879e7",
   "metadata": {
    "tags": [
     "hide-input"
    ]
   },
   "outputs": [],
   "source": [
    "class CaesarCipher : CharToCharSubstitutionCipher\n",
    "{\n",
    "  int steps;\n",
    "\n",
    "  public CaesarCipher (int steps)\n",
    "    => this.steps = steps;\n",
    "\n",
    "  public override char Encode (char input)\n",
    "  {\n",
    "    string alphabet = \"ABCDEFGHIJKLMNOPQRSTUVXYZ\";\n",
    "    int i = alphabet.IndexOf(Char.ToUpper(input));\n",
    "    int newIndex = (i + steps) % alphabet.Length;\n",
    "    if (i != -1)\n",
    "    {\n",
    "      if (newIndex < 0)\n",
    "        newIndex += alphabet.Length;\n",
    "\n",
    "      if (Char.IsLower(input))\n",
    "        return Char.ToLower(alphabet[newIndex]);\n",
    "      else\n",
    "        return alphabet[newIndex];\n",
    "    }\n",
    "    return input;\n",
    "  }\n",
    "}"
   ]
  },
  {
   "cell_type": "code",
   "execution_count": 14,
   "id": "b11fe0ae",
   "metadata": {
    "tags": [
     "hide-input"
    ]
   },
   "outputs": [],
   "source": [
    "class LeetCipher : CharToCharSubstitutionCipher\n",
    "{\n",
    "  public override char Encode (char input)\n",
    "    => input switch {\n",
    "      'L' => '1', '1' => 'L',\n",
    "      'A' => '4', '4' => 'A',\n",
    "      'O' => '0', '0' => 'O',\n",
    "      'T' => '7', '7' => 'T',\n",
    "      'E' => '3', '3' => 'E',\n",
    "      _ => input\n",
    "    };\n",
    "}"
   ]
  },
  {
   "cell_type": "markdown",
   "id": "d605adbe",
   "metadata": {},
   "source": [
    "## Exercises\n",
    "\n",
    "```{exercise}\n",
    "What is an abstract class? Why are they useful?\n",
    "```\n",
    "\n",
    "```{exercise}\n",
    "What is an abstract method? Why are they useful?\n",
    "```\n",
    "\n",
    "```{exercise}\n",
    "Why is it useful to be allowed to define an abstract class without any abstract members?\n",
    "```\n",
    "\n",
    "\n",
    "```{exercise-start}\n",
    "```\n",
    "Write an abstract class called `Shape` which corresponds to the class depicted in the UML class diagram below.\n",
    "```\n",
    "┌────────────────────────────────┐\n",
    "│           Shape                │\n",
    "├────────────────────────────────┤\n",
    "│ + <get> Width : double         │\n",
    "│ + <set> Width : double         │\n",
    "│ + <get> Height : double        │\n",
    "│ + <set> Height : double        │\n",
    "│ + <get> Area : double          │\n",
    "├────────────────────────────────┤\n",
    "│ + Scale (factor:double) : void │\n",
    "└────────────────────────────────┘\n",
    "```\n",
    "Then write three classes called `Rectangle`, `Square`, `Circle` that all inherit from `Shape`.\n",
    "Strive to override as few methods as possible.\n",
    "\n",
    "When you are done, you should be able to run the following code and get the same result."
   ]
  },
  {
   "cell_type": "code",
   "execution_count": 15,
   "id": "e4733d2f",
   "metadata": {
    "tags": [
     "remove-input"
    ]
   },
   "outputs": [],
   "source": [
    "abstract class Shape\n",
    "{\n",
    "  public virtual double Width { get; set; }\n",
    "  public virtual double Height { get; set; }\n",
    "  public abstract double Area { get; }\n",
    "  public virtual void Scale (double factor)\n",
    "  {\n",
    "    Width *= factor;\n",
    "    Height *= factor;\n",
    "  }\n",
    "}\n",
    "\n",
    "class RightTriangle : Shape\n",
    "{\n",
    "  public override double Area\n",
    "  {\n",
    "    get => Width * Height / 2;\n",
    "  }\n",
    "}\n",
    "\n",
    "class Rectangle : Shape\n",
    "{\n",
    "  public override double Area\n",
    "  {\n",
    "    get => Width * Height;\n",
    "  }\n",
    "}\n",
    "\n",
    "class Oval : Shape\n",
    "{\n",
    "  public override double Area\n",
    "  {\n",
    "    get => Math.PI * Width * Height;\n",
    "  }\n",
    "}"
   ]
  },
  {
   "cell_type": "code",
   "execution_count": 16,
   "id": "33275789",
   "metadata": {},
   "outputs": [
    {
     "name": "stdout",
     "output_type": "stream",
     "text": [
      "Area increased by: 4\n"
     ]
    }
   ],
   "source": [
    "Shape[] shapes = new Shape[] {\n",
    "  new Rectangle() { Width=2, Height=1 },\n",
    "  new RightTriangle() { Width=3, Height=1 },\n",
    "  new Oval() { Width=0.5, Height=0.5 }\n",
    "};\n",
    "\n",
    "double before = 0;\n",
    "double after = 0;\n",
    "foreach (Shape shape in shapes)\n",
    "{\n",
    "  before += shape.Area;\n",
    "  shape.Scale(2);\n",
    "  after += shape.Area;\n",
    "}\n",
    "Console.WriteLine($\"Area increased by: {after / before}\");"
   ]
  },
  {
   "cell_type": "markdown",
   "id": "da42ee81",
   "metadata": {},
   "source": [
    "```{exercise-end}\n",
    "```\n",
    "\n",
    "\n",
    "```{exercise}\n",
    "Start with your solution to {numref}`ex:subtype-polymorphism:time`.\n",
    "Can you use an abstract base class instead of an interface to eliminate further duplication?\n",
    "```\n",
    "\n",
    "\n",
    "```{exercise}\n",
    "1. Come up with your own example of where using an abstract class with abstract methods would make sense.\n",
    "2. Motivate why using an abstract class makes sense in words.\n",
    "3. Implement your example in code.\n",
    "```\n",
    "\n",
    "```{exercise}\n",
    "Start from the code you wrote in {numref}`inheritance:exercises:chartostringsubstitutioncipher`.\n",
    "Mark both the superclass and the method with the signature `string Encode (char input)` as `abstract`.\n",
    "```\n",
    "\n",
    "\n",
    "\n",
    "\n",
    "\n",
    "%The class `StepSequence` models the idea of incrementing, decrementing, and skipping all at once.\n",
    "%If we wanted specific types for those concepts so that we couldn't accidentally get passed a decrementing sequence when we expected an incrementing one we trivially introduce those types.\n",
    "%\n",
    "%```{code-cell}\n",
    "%class IncrementingSequence : StepSequence\n",
    "%{\n",
    "%  public IncrementingSequence (int initial)\n",
    "%    : base(initial, 1) { }\n",
    "%}\n",
    "%\n",
    "%class DecrementingSequence : StepSequence\n",
    "%{\n",
    "%  public DecrementingSequence (int initial)\n",
    "%    : base(initial, 1) { }\n",
    "%}\n",
    "%\n",
    "%class SkipSequence : StepSequence\n",
    "%{\n",
    "%  public SkipSequence (int initial, int skips)\n",
    "%    : base(initial, skipsToSteps(skips)) { }\n",
    "%\n",
    "%  private static int skipsToSteps (int skips)\n",
    "%    => skips > 0 ? skips + 1 : 0;\n",
    "%}\n",
    "%```\n",
    "%\n",
    "%Let's try it out to make sure that they work.\n",
    "%\n",
    "%```{code-cell}\n",
    "%IncrementingSequence seq = new IncrementingSequence(5); // Initialize sequence.\n",
    "%int[] output = seq.Take(10); // Take 10 elements.\n",
    "%Console.WriteLine(String.Join(\", \", output)); // Print the elements.\n",
    "%```\n",
    "%\n",
    "%```{code-cell}\n",
    "%DecrementingSequence seq = new DecrementingSequence(5); // Initialize sequence.\n",
    "%int[] output = seq.Take(10); // Take 10 elements.\n",
    "%Console.WriteLine(String.Join(\", \", output)); // Print the elements.\n",
    "%```\n",
    "%\n",
    "%```{code-cell}\n",
    "%SkipSequence seq = new SkipSequence(2, 1); // Initialize sequence.\n",
    "%int[] output = seq.Take(10); // Take 10 elements.\n",
    "%Console.WriteLine(String.Join(\", \", output)); // Print the elements.\n",
    "%```\n",
    "%\n",
    "%But wait a minute, what about a `SkipSequence` that skips in a negative sequences?\n",
    "%Don't worry, we'll get to that when we get to [abstract composition](abstract-constructed-object-composition)."
   ]
  }
 ],
 "metadata": {
  "jupytext": {
   "formats": "md:myst",
   "text_representation": {
    "extension": ".md",
    "format_name": "myst"
   }
  },
  "kernelspec": {
   "display_name": "csharp",
   "language": ".net-csharp",
   "name": ".net-csharp"
  },
  "language_info": {
   "file_extension": ".cs",
   "mimetype": "text/x-csharp",
   "name": "C#",
   "pygments_lexer": "csharp",
   "version": "10.0"
  },
  "source_map": [
   11,
   102,
   120,
   125,
   128,
   135,
   143,
   145,
   157,
   172,
   174,
   178,
   193,
   195,
   206,
   214,
   216,
   255,
   268,
   278,
   281,
   287,
   316,
   330,
   367,
   405,
   421
  ]
 },
 "nbformat": 4,
 "nbformat_minor": 5
}