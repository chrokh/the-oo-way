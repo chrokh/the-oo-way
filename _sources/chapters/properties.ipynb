{
 "cells": [
  {
   "cell_type": "markdown",
   "id": "7fe0671f",
   "metadata": {},
   "source": [
    "# Properties\n",
    "\n",
    "%- TODO: Uniform access principle (use Robert Martin as source?)\n",
    "%\n",
    "\n",
    "## Motivation\n",
    "\n",
    "In order to respect the principle of information hiding we sometimes we find ourselves writing instance methods to get and set private variables.\n",
    "\n",
    "Some languages, like C#, offer what in C# is called \"properties\" that help us keep doing this but with way less boilerplate code.\n",
    "%- Specific to some languages.\n",
    "\n",
    "\n",
    "\n",
    "## Definition\n",
    "\n",
    "Properties in C# essentially allow us to use the getting and setting syntax of instance fields while allowing us to execute code before the setting and getting occurs just as when we manually wrote getter and setter instance methods.\n",
    "\n",
    "Properties can be *read-write*, *read-only*, or *write-only*[^write-only-properties].\n",
    "The keywords `get`, `set`, and `init` are, in C#, known as \"property accessors\".\n",
    "If a property has a `get` accessor then we can ask for its value.\n",
    "If a property has a `set` or `init` accessor then we can set its value.\n",
    "In the case of `set` we can set it anytime but in the case of `init` we can only set it upon instantiation through an object initializer, the constructor or via another property marked as `init`.\n",
    "\n",
    "[^write-only-properties]: The usefulness of write-only properties have been debated and the .NET style guidelines prescribes that [write-only properties always should be replaced by instance methods](https://learn.microsoft.com/en-us/dotnet/fundamentals/code-analysis/quality-rules/ca1044).\n",
    "\n",
    "Property accessors support [access modifiers](access-modifiers).\n",
    "It is therefore possible to, for example, have a field which is privately settable but publicly gettable.\n",
    "\n",
    "Finally, properties can be marked as `required` which means that an object cannot be instantiated without having had the property initialized to a value.\n",
    "\n",
    "```{note}\n",
    "As with fields and methods, C# classes support both instance and static properties.\n",
    "Since this is a book on object oriented programming we're almost exclusively focusing on instance properties.\n",
    "```\n",
    "\n",
    "Let's unpack what all this means.\n",
    "\n",
    "%- Synonyms: Getters / Setters, Accessors, Mutators.\n",
    "\n",
    "\n",
    "### Auto-implemented\n",
    "\n",
    "In the chapter on [instance methods](instance-methods) we discussed how we can have `private` fields that we then expose `public` getters and setters for via instance methods.\n",
    "We refer to the `private` field as \"the backing field.\"\n",
    "It would look something like the code below."
   ]
  },
  {
   "cell_type": "code",
   "execution_count": 1,
   "id": "2af962d4",
   "metadata": {},
   "outputs": [
    {
     "data": {
      "text/html": [
       "\r\n",
       "<div>\r\n",
       "    <div id='dotnet-interactive-this-cell-4018.Microsoft.DotNet.Interactive.Http.HttpPort' style='display: none'>\r\n",
       "        The below script needs to be able to find the current output cell; this is an easy method to get it.\r\n",
       "    </div>\r\n",
       "    <script type='text/javascript'>\r\n",
       "async function probeAddresses(probingAddresses) {\r\n",
       "    function timeout(ms, promise) {\r\n",
       "        return new Promise(function (resolve, reject) {\r\n",
       "            setTimeout(function () {\r\n",
       "                reject(new Error('timeout'))\r\n",
       "            }, ms)\r\n",
       "            promise.then(resolve, reject)\r\n",
       "        })\r\n",
       "    }\r\n",
       "\r\n",
       "    if (Array.isArray(probingAddresses)) {\r\n",
       "        for (let i = 0; i < probingAddresses.length; i++) {\r\n",
       "\r\n",
       "            let rootUrl = probingAddresses[i];\r\n",
       "\r\n",
       "            if (!rootUrl.endsWith('/')) {\r\n",
       "                rootUrl = `${rootUrl}/`;\r\n",
       "            }\r\n",
       "\r\n",
       "            try {\r\n",
       "                let response = await timeout(1000, fetch(`${rootUrl}discovery`, {\r\n",
       "                    method: 'POST',\r\n",
       "                    cache: 'no-cache',\r\n",
       "                    mode: 'cors',\r\n",
       "                    timeout: 1000,\r\n",
       "                    headers: {\r\n",
       "                        'Content-Type': 'text/plain'\r\n",
       "                    },\r\n",
       "                    body: probingAddresses[i]\r\n",
       "                }));\r\n",
       "\r\n",
       "                if (response.status == 200) {\r\n",
       "                    return rootUrl;\r\n",
       "                }\r\n",
       "            }\r\n",
       "            catch (e) { }\r\n",
       "        }\r\n",
       "    }\r\n",
       "}\r\n",
       "\r\n",
       "function loadDotnetInteractiveApi() {\r\n",
       "    probeAddresses([\"http://10.1.0.21:1024/\", \"http://127.0.0.1:1024/\"])\r\n",
       "        .then((root) => {\r\n",
       "        // use probing to find host url and api resources\r\n",
       "        // load interactive helpers and language services\r\n",
       "        let dotnetInteractiveRequire = require.config({\r\n",
       "        context: '4018.Microsoft.DotNet.Interactive.Http.HttpPort',\r\n",
       "                paths:\r\n",
       "            {\r\n",
       "                'dotnet-interactive': `${root}resources`\r\n",
       "                }\r\n",
       "        }) || require;\r\n",
       "\r\n",
       "            window.dotnetInteractiveRequire = dotnetInteractiveRequire;\r\n",
       "\r\n",
       "            window.configureRequireFromExtension = function(extensionName, extensionCacheBuster) {\r\n",
       "                let paths = {};\r\n",
       "                paths[extensionName] = `${root}extensions/${extensionName}/resources/`;\r\n",
       "                \r\n",
       "                let internalRequire = require.config({\r\n",
       "                    context: extensionCacheBuster,\r\n",
       "                    paths: paths,\r\n",
       "                    urlArgs: `cacheBuster=${extensionCacheBuster}`\r\n",
       "                    }) || require;\r\n",
       "\r\n",
       "                return internalRequire\r\n",
       "            };\r\n",
       "        \r\n",
       "            dotnetInteractiveRequire([\r\n",
       "                    'dotnet-interactive/dotnet-interactive'\r\n",
       "                ],\r\n",
       "                function (dotnet) {\r\n",
       "                    dotnet.init(window);\r\n",
       "                },\r\n",
       "                function (error) {\r\n",
       "                    console.log(error);\r\n",
       "                }\r\n",
       "            );\r\n",
       "        })\r\n",
       "        .catch(error => {console.log(error);});\r\n",
       "    }\r\n",
       "\r\n",
       "// ensure `require` is available globally\r\n",
       "if ((typeof(require) !==  typeof(Function)) || (typeof(require.config) !== typeof(Function))) {\r\n",
       "    let require_script = document.createElement('script');\r\n",
       "    require_script.setAttribute('src', 'https://cdnjs.cloudflare.com/ajax/libs/require.js/2.3.6/require.min.js');\r\n",
       "    require_script.setAttribute('type', 'text/javascript');\r\n",
       "    \r\n",
       "    \r\n",
       "    require_script.onload = function() {\r\n",
       "        loadDotnetInteractiveApi();\r\n",
       "    };\r\n",
       "\r\n",
       "    document.getElementsByTagName('head')[0].appendChild(require_script);\r\n",
       "}\r\n",
       "else {\r\n",
       "    loadDotnetInteractiveApi();\r\n",
       "}\r\n",
       "\r\n",
       "    </script>\r\n",
       "</div>"
      ]
     },
     "metadata": {},
     "output_type": "display_data"
    }
   ],
   "source": [
    "class Circle\n",
    "{\n",
    "  private int radius;\n",
    "\n",
    "  public int GetRadius ()\n",
    "    => radius;\n",
    "\n",
    "  public void SetRadius (int radius)\n",
    "    => this.radius = radius;\n",
    "}"
   ]
  },
  {
   "cell_type": "markdown",
   "id": "508e7d85",
   "metadata": {},
   "source": [
    "And we would use the code like this:"
   ]
  },
  {
   "cell_type": "code",
   "execution_count": 2,
   "id": "38944a57",
   "metadata": {},
   "outputs": [
    {
     "name": "stdout",
     "output_type": "stream",
     "text": [
      "20\n"
     ]
    }
   ],
   "source": [
    "Circle circle = new Circle ();\n",
    "\n",
    "circle.SetRadius(20);\n",
    "\n",
    "Console.WriteLine( circle.GetRadius() );"
   ]
  },
  {
   "cell_type": "markdown",
   "id": "388e04c5",
   "metadata": {},
   "source": [
    "However, when using C# properties we don't have to do all this manual work.\n",
    "By using the feature known as \"auto-implemented properties\" we can instead write the following code."
   ]
  },
  {
   "cell_type": "code",
   "execution_count": 3,
   "id": "3a22d1d5",
   "metadata": {},
   "outputs": [],
   "source": [
    "class Circle\n",
    "{\n",
    "  public int Radius { get; set; }\n",
    "}"
   ]
  },
  {
   "cell_type": "markdown",
   "id": "c8c29d05",
   "metadata": {},
   "source": [
    "That code essentially gives us the same benefits as the code we saw before.\n",
    "We've got a `public` way of getting and setting the radius.\n",
    "But, if we later down the line want to insert some code before we set or get the value we can do so.\n",
    "More on that in a moment though.\n",
    "\n",
    "A key difference is that the syntax for getting and setting the value of a property looks like that of [fields](fields) rather than [instance methods](instance-methods).\n",
    "It would look like this:"
   ]
  },
  {
   "cell_type": "code",
   "execution_count": 4,
   "id": "26448062",
   "metadata": {},
   "outputs": [
    {
     "name": "stdout",
     "output_type": "stream",
     "text": [
      "20\n"
     ]
    }
   ],
   "source": [
    "Circle circle = new Circle ();\n",
    "\n",
    "circle.Radius = 20;\n",
    "\n",
    "Console.WriteLine( circle.Radius );"
   ]
  },
  {
   "cell_type": "markdown",
   "id": "63bf8663",
   "metadata": {},
   "source": [
    "Notice how there are no parentheses, neither in the case of setting the value nor in the case of getting the value.\n",
    "\n",
    "```{important}\n",
    "When interacting with properties we use syntax that resembles that of fields rather than instance methods.\n",
    "```\n",
    "\n",
    "\n",
    "#### Must support get\n",
    "\n",
    "Auto-implemented properties can be read-write or read-only but they cannot be write-only.\n",
    "If you think about it, that makes sense, because why would we want to write a to a backing field that we cannot ever read from?"
   ]
  },
  {
   "cell_type": "code",
   "execution_count": 5,
   "id": "f7a08970",
   "metadata": {},
   "outputs": [],
   "source": [
    "class Circle\n",
    "{\n",
    "  public int Radius { get; set; } // read-write\n",
    "  public int Corners { get; } // read-only\n",
    "}"
   ]
  },
  {
   "cell_type": "markdown",
   "id": "fce83ea5",
   "metadata": {},
   "source": [
    "#### Initialization\n",
    "\n",
    "The initial value of an auto-implemented property can be set by, after defining our `get` and `set` accessors, using the equals sign and specifying a value."
   ]
  },
  {
   "cell_type": "code",
   "execution_count": 6,
   "id": "3e8add22",
   "metadata": {},
   "outputs": [],
   "source": [
    "class Circle\n",
    "{\n",
    "  public int Radius { get; set; } = 3;\n",
    "  public int Corners { get; } = 0;\n",
    "}"
   ]
  },
  {
   "cell_type": "code",
   "execution_count": 7,
   "id": "fe589daa",
   "metadata": {},
   "outputs": [
    {
     "name": "stdout",
     "output_type": "stream",
     "text": [
      "3\n"
     ]
    },
    {
     "name": "stdout",
     "output_type": "stream",
     "text": [
      "0\n"
     ]
    }
   ],
   "source": [
    "Circle circle = new Circle();\n",
    "Console.WriteLine(circle.Radius);\n",
    "Console.WriteLine(circle.Corners);"
   ]
  },
  {
   "cell_type": "markdown",
   "id": "24f3f894",
   "metadata": {},
   "source": [
    "### Access modifiers\n",
    "\n",
    "The protection level of the accessors of C# properties can be changed independently.\n",
    "In the real world, you will often find that properties have `public` `get` accessors and `private` `set` accessors.\n",
    "\n",
    "Under the banner of [information hiding](information-hiding) we should hide all implementation details.\n",
    "We should hide anything that might change.\n",
    "Consequently, we ought to default to making our properties `private`.\n",
    "\n",
    "```{note}\n",
    "Much later, we will touch on a design principle known as \"[tell don't ask](tell-dont-ask)\".\n",
    "The conclusion of this principle, in relation to C# properties, is usually thought to be that we should not publically expose data through properties.\n",
    "Even if our setters are private.\n",
    "The reason for this is that we should not *ask* an object for data and then make decisions on its behalf.\n",
    "Instead we should expose methods that we can call to *tell* the object what to do an let it choose on its own.\n",
    "Remember, [objects](objects) should be thought of as autonomous agents.\n",
    "```\n",
    "\n",
    "Syntactically, we can change the access modifiers of C# property accessors in two places.\n",
    "First, we can change the access modifier of the whole property by adding the access modifier before data type.\n",
    "Notice how the property `radius` is marked as `private` below.\n",
    "Also notice how we *can* set its value from the constructor without getting a compiler error."
   ]
  },
  {
   "cell_type": "code",
   "execution_count": 8,
   "id": "1e3a85c5",
   "metadata": {},
   "outputs": [],
   "source": [
    "class Circle\n",
    "{\n",
    "  private int radius { get; set; }\n",
    "\n",
    "  public Circle (int radius)\n",
    "    => this.radius = radius;\n",
    "}"
   ]
  },
  {
   "cell_type": "markdown",
   "id": "026b7ef2",
   "metadata": {},
   "source": [
    "Now notice how we cannot access the property from outside the class without getting a compiler error like the one below."
   ]
  },
  {
   "cell_type": "code",
   "execution_count": 9,
   "id": "126c795f",
   "metadata": {
    "tags": [
     "raises-exception"
    ]
   },
   "outputs": [
    {
     "name": "stderr",
     "output_type": "stream",
     "text": [
      "\n",
      "(1,21): error CS7036: There is no argument given that corresponds to the required formal parameter 'radius' of 'Circle.Circle(int)'\n",
      "\n",
      "(2,21): error CS0122: 'Circle.radius' is inaccessible due to its protection level\n",
      "\n"
     ]
    },
    {
     "ename": "Error",
     "evalue": "compilation error",
     "output_type": "error",
     "traceback": []
    }
   ],
   "source": [
    "Circle circle = new Circle();\n",
    "int radius = circle.radius;"
   ]
  },
  {
   "cell_type": "markdown",
   "id": "845d6c1f",
   "metadata": {},
   "source": [
    "The second place where we can change the protection level of a property is on one (and only one) of the accessors themselves.\n",
    "The key rules to remember is that the accessibility modifier of an accessor must be *more* restrictive than the accessibility modifier of the property.\n",
    "\n",
    "If, for example, the property is marked as `public` then we can mark *one* of the accessors as `private` (or `protected` but more on that in a [later chapter](advanced-access-modifiers)).\n",
    "This would mean that we can `get` the property from outside the class but only `set` it from within the class."
   ]
  },
  {
   "cell_type": "code",
   "execution_count": 10,
   "id": "da106c22",
   "metadata": {},
   "outputs": [],
   "source": [
    "class Circle\n",
    "{\n",
    "  public int radius { get; private set; }\n",
    "\n",
    "  public Circle (int radius)\n",
    "    => this.radius = radius;\n",
    "}"
   ]
  },
  {
   "cell_type": "markdown",
   "id": "69342ddb",
   "metadata": {},
   "source": [
    "With the same technique, we could of course also express a `get` accessor that's more restrictive than the `set` accessor.\n",
    "That could mean that we have a property that we can `set` from outside the class but only `get` from within the class.\n",
    "\n",
    "If the property however is marked as `private` (which also happens if we don't specify an access modifier since the default modifier is `private` in C#) then we cannot add an accessibility to any of the accessors since there is nothing more restrictive than `private`."
   ]
  },
  {
   "cell_type": "code",
   "execution_count": 11,
   "id": "bc429c5c",
   "metadata": {},
   "outputs": [],
   "source": [
    "class Circle\n",
    "{\n",
    "  private int radius { get; set; }\n",
    "\n",
    "  public Circle (int radius)\n",
    "    => this.radius = radius;\n",
    "}"
   ]
  },
  {
   "cell_type": "markdown",
   "id": "3a405b38",
   "metadata": {},
   "source": [
    "### Manually implemented\n",
    "\n",
    "If further down the line we realize that we actually want a \"backing field\" that we manage ourselves then we can trivially introduce it.\n",
    "Importantly, we can do so without forcing users of our class to have to change.\n",
    "All changes occurs *within* the class that defines the property."
   ]
  },
  {
   "cell_type": "code",
   "execution_count": 12,
   "id": "67fd5e9a",
   "metadata": {},
   "outputs": [],
   "source": [
    "class Circle\n",
    "{\n",
    "  private int radius;\n",
    "  public int Radius\n",
    "  {\n",
    "    get => radius;\n",
    "    set => radius = value;\n",
    "  }\n",
    "}"
   ]
  },
  {
   "cell_type": "code",
   "execution_count": 13,
   "id": "8de3194e",
   "metadata": {},
   "outputs": [
    {
     "name": "stdout",
     "output_type": "stream",
     "text": [
      "20\n"
     ]
    }
   ],
   "source": [
    "Circle circle = new Circle ();\n",
    "\n",
    "circle.Radius = 20;\n",
    "\n",
    "Console.WriteLine( circle.Radius );"
   ]
  },
  {
   "cell_type": "markdown",
   "id": "bacd52a2",
   "metadata": {},
   "source": [
    "In the case above, our manual implementation is pointless since it behaves in exactly the same way as the auto-implemented properties we had before.\n",
    "However, the important thing to realize here is that we are free to execute code right before the value is being returned or set.\n",
    "\n",
    "Notice how we use the keyword `value` in the implementation of the class `Circle` above?\n",
    "Why do we need the keyword `value`?\n",
    "Since the `set` accessor doesn't follow regular method syntax there is no parameter that represents the value that the user of the object is trying to set.\n",
    "If we set the value through an instance method we would say:\n",
    "\n",
    "```\n",
    "circle.Radius(20);\n",
    "```\n",
    "\n",
    "The number `20` would then be the value that we can access in some argument that's named by the definition of the `Radius` method.\n",
    "But property accessors are *not* invoked like instance methods.\n",
    "We get and set the value of properties using the same syntax that we use to set instance fields.\n",
    "Like this:\n",
    "\n",
    "```\n",
    "circle.Radius = 20;\n",
    "```\n",
    "\n",
    "But if there's no instance method, how do we access the value that the invoker of our property is trying to set?\n",
    "Well, that's why we have the keyword `value`.\n",
    "The keyword `value` holds the value that we're trying to set the property to.\n",
    "Consequently, it's type must always be the same as the type of the property in question.\n",
    "\n",
    "```{tip}\n",
    "The type of the value referenced by the `value` keyword must always be the same as the type of the property in question.\n",
    "```\n",
    "\n",
    "In the above example we we're making use of the [expression-body syntax](expression-bodied-property-accessors) (`=>`) but we can also use curly braces and write multiple statements.\n",
    "In the code below, for example, we're inserting a check before setting the value to ensure that it is greater than `0`.\n",
    "If it's not, then we throw an exception."
   ]
  },
  {
   "cell_type": "code",
   "execution_count": 14,
   "id": "0eca03b6",
   "metadata": {},
   "outputs": [],
   "source": [
    "class Circle\n",
    "{\n",
    "  private int radius;\n",
    "  public int Radius\n",
    "  {\n",
    "    get => radius;\n",
    "    set\n",
    "    {\n",
    "      if (value <= 0)\n",
    "        throw new ArgumentException(\"Radius must be greater than 0.\");\n",
    "      radius = value;\n",
    "    }\n",
    "  }\n",
    "}"
   ]
  },
  {
   "cell_type": "code",
   "execution_count": 15,
   "id": "ca07082b",
   "metadata": {
    "tags": [
     "raises-exception"
    ]
   },
   "outputs": [
    {
     "ename": "Error",
     "evalue": "System.ArgumentException: Radius must be greater than 0.\n   at Submission#16.Circle.set_Radius(Int32 value)\n   at Submission#17.<<Initialize>>d__0.MoveNext()\n--- End of stack trace from previous location ---\n   at Microsoft.CodeAnalysis.Scripting.ScriptExecutionState.RunSubmissionsAsync[TResult](ImmutableArray`1 precedingExecutors, Func`2 currentExecutor, StrongBox`1 exceptionHolderOpt, Func`2 catchExceptionOpt, CancellationToken cancellationToken)",
     "output_type": "error",
     "traceback": [
      "System.ArgumentException: Radius must be greater than 0.\n   at Submission#16.Circle.set_Radius(Int32 value)\n   at Submission#17.<<Initialize>>d__0.MoveNext()\n--- End of stack trace from previous location ---\n   at Microsoft.CodeAnalysis.Scripting.ScriptExecutionState.RunSubmissionsAsync[TResult](ImmutableArray`1 precedingExecutors, Func`2 currentExecutor, StrongBox`1 exceptionHolderOpt, Func`2 catchExceptionOpt, CancellationToken cancellationToken)",
      "   at Submission#16.Circle.set_Radius(Int32 value)",
      "   at Submission#17.<<Initialize>>d__0.MoveNext()",
      "--- End of stack trace from previous location ---",
      "   at Microsoft.CodeAnalysis.Scripting.ScriptExecutionState.RunSubmissionsAsync[TResult](ImmutableArray`1 precedingExecutors, Func`2 currentExecutor, StrongBox`1 exceptionHolderOpt, Func`2 catchExceptionOpt, CancellationToken cancellationToken)"
     ]
    }
   ],
   "source": [
    "Circle circle = new Circle ();\n",
    "circle.Radius = 0;"
   ]
  },
  {
   "cell_type": "markdown",
   "id": "8bb41da0",
   "metadata": {},
   "source": [
    "(expression-bodied-property-accessors)=\n",
    "### Expression-bodied members\n",
    "\n",
    "In a previous chapter we discussed how the implementation of some class members can be written as single expressions following a fat-arrow (`=>`).\n",
    "This allows us to omit curly braces and the `return` keyword.\n",
    "The two implementations below are thus equivalent."
   ]
  },
  {
   "cell_type": "code",
   "execution_count": 16,
   "id": "f121501c",
   "metadata": {
    "tags": [
     "hide-input"
    ]
   },
   "outputs": [],
   "source": [
    "class Circle\n",
    "{\n",
    "  private int radius;\n",
    "  public int Radius\n",
    "  {\n",
    "    get => radius;\n",
    "    set => radius = value;\n",
    "  }\n",
    "}"
   ]
  },
  {
   "cell_type": "code",
   "execution_count": 17,
   "id": "1bd03816",
   "metadata": {
    "tags": [
     "hide-input"
    ]
   },
   "outputs": [],
   "source": [
    "class Circle\n",
    "{\n",
    "  private int radius;\n",
    "  public int Radius\n",
    "  {\n",
    "    get\n",
    "    {\n",
    "      return radius;\n",
    "    }\n",
    "    set\n",
    "    {\n",
    "      radius = value;\n",
    "    }\n",
    "  }\n",
    "}"
   ]
  },
  {
   "cell_type": "markdown",
   "id": "72d98c00",
   "metadata": {},
   "source": [
    "### Computed/calculated properties\n",
    "\n",
    "We mentioned that we can use \"[guards](guards)\" to, for example, throw an exception if, for example, an invoker tries to set our property to an invalid value.\n",
    "Are what we call \"guards\" the only use case for inserting code in our getters and setters?\n",
    "No, not at all.\n",
    "We can also create properties that don't actually have a backing field at all, but simply are alternative ways to interact with other fields.\n",
    "\n",
    "(guards)=\n",
    "```{admonition} Terminology\n",
    "\"Guards\" are, in programming, [conditionals](selection) that we execute before embarking on the \"happy path\" (meaning the thing that we actually want to do).\n",
    "If a guard finds that something is wrong then we abort the happy path to for example return early, get or set some default, or throw an exception.\n",
    "```\n",
    "\n",
    "Think about the relationship between the idea of the radius and the diameter.\n",
    "The relationship between these two is well defined.\n",
    "The diameter is twice the radius, and the radius is half the diameter.\n",
    "This should always and always be true.\n",
    "\n",
    "Having one settable field for the diameter and one for the radius is therefore an accident waiting to happen.\n",
    "Instead we can think of one of them as being a \"computed\" or \"calculated\" property of the other."
   ]
  },
  {
   "cell_type": "code",
   "execution_count": 18,
   "id": "b96aacf2",
   "metadata": {},
   "outputs": [],
   "source": [
    "class Circle\n",
    "{\n",
    "  public double Radius { get; set; }\n",
    "  public double Diameter\n",
    "  {\n",
    "    get => Radius * 2;\n",
    "    set => Radius = value / 2;\n",
    "  }\n",
    "}"
   ]
  },
  {
   "cell_type": "code",
   "execution_count": 19,
   "id": "8450cdbc",
   "metadata": {},
   "outputs": [
    {
     "name": "stdout",
     "output_type": "stream",
     "text": [
      "10\n"
     ]
    },
    {
     "name": "stdout",
     "output_type": "stream",
     "text": [
      "40\n"
     ]
    }
   ],
   "source": [
    "Circle circle = new Circle ();\n",
    "\n",
    "// Setting diameter, then getting radius.\n",
    "circle.Diameter = 20;\n",
    "Console.WriteLine( circle.Radius );\n",
    "\n",
    "// Setting radius, then getting diameter.\n",
    "circle.Radius = 20;\n",
    "Console.WriteLine( circle.Diameter );"
   ]
  },
  {
   "cell_type": "markdown",
   "id": "331c8bf2",
   "metadata": {},
   "source": [
    "If we `set` the `Diameter` then the `Radius` is set to half of what we tried to set the `Diameter` to.\n",
    "If we `get` the `Diameter` then we get twice the `Radius`.\n",
    "\n",
    "There is no \"backing field\" for the `Diameter` property.\n",
    "Seen from the inside, `Diameter` is merely another way to interact with the `Radius` field.\n",
    "Seen from the outside, we have no idea whether the circle actually stores the `Diameter`, the `Radius` or both.\n",
    "This is the power of encapsulation.\n",
    "We've hidden the implementation.\n",
    "\n",
    "Is it possible to create an infinite loop like this?\n",
    "Well yes, it is.\n",
    "So we must be careful.\n",
    "Have a look at the class below.\n",
    "If we try to get or set one of its properties then it will cause a stack overflow.\n",
    "Meaning, we will end up in an infinite loop until we crash."
   ]
  },
  {
   "cell_type": "code",
   "execution_count": 20,
   "id": "1e1cda2f",
   "metadata": {},
   "outputs": [],
   "source": [
    "class Loop\n",
    "{\n",
    "  public int Two\n",
    "  {\n",
    "    get => One;\n",
    "    set => One = value;\n",
    "  }\n",
    "  public int One\n",
    "  {\n",
    "    get => Two;\n",
    "    set => Two = value;\n",
    "  }\n",
    "}"
   ]
  },
  {
   "cell_type": "markdown",
   "id": "580e91cb",
   "metadata": {},
   "source": [
    "Try it for yourself!\n",
    "\n",
    "\n",
    "\n",
    "\n",
    "### Object initializers\n",
    "\n",
    "Remember how we lost the ability to use object initializers when we replaced [public](access-modifiers) [instance fields](instance-fields) with [private](access-modifiers) instance fields and [instance methods](instance-methods)?\n",
    "Remember how we said that we'll get them back?\n",
    "Well, the time has come to get them back.\n",
    "\n",
    "If you've got a `public` `set` accessor for your property then you can use object initialization syntax to set the value of the property upon instantiation.\n",
    "This works irrespectively of whether your property is auto-implemented or manually implemented.\n",
    "What matters is that you have a `public` `set` (or `init`, but more on that in a moment) accessor."
   ]
  },
  {
   "cell_type": "code",
   "execution_count": 21,
   "id": "354a7062",
   "metadata": {},
   "outputs": [],
   "source": [
    "class Rectangle\n",
    "{\n",
    "  public double Width { private get; set; } = 1;\n",
    "  public double Height { private get; set; } = 1;\n",
    "  public double Area\n",
    "  {\n",
    "    get => Width * Height;\n",
    "    set\n",
    "    {\n",
    "      Width = value / 2;\n",
    "      Height = value / 2;\n",
    "    }\n",
    "  }\n",
    "}"
   ]
  },
  {
   "cell_type": "code",
   "execution_count": 22,
   "id": "441cf2bc",
   "metadata": {},
   "outputs": [],
   "source": [
    "Rectangle r1 = new Rectangle { Width=20, Height=10 };\n",
    "Rectangle r2 = new Rectangle { Area=100 };"
   ]
  },
  {
   "cell_type": "markdown",
   "id": "b5888c14",
   "metadata": {},
   "source": [
    "### Init\n",
    "\n",
    "We mentioned that you can choose between the `set` and `init` accessors if you don't want to make your property read-only.\n",
    "The `init` accessor works like the `set` accessor except that it only allows you to set values upon instantiation."
   ]
  },
  {
   "cell_type": "code",
   "execution_count": 23,
   "id": "60973e39",
   "metadata": {},
   "outputs": [],
   "source": [
    "class Circle\n",
    "{\n",
    "  // This is the property with an `init` accessor.\n",
    "  public double Diameter { get; init; } = 1;\n",
    "\n",
    "  public double Radius {\n",
    "    get => Diameter / 2;\n",
    "    init => Diameter = value * 2;\n",
    "  }\n",
    "\n",
    "  public Circle () { }\n",
    "\n",
    "  public Circle (double diameter)\n",
    "    => Diameter = diameter;\n",
    "}"
   ]
  },
  {
   "cell_type": "markdown",
   "id": "1b5d4005",
   "metadata": {},
   "source": [
    "Practically, this means that you can assign values in an objcet initializer, in a constructor, or in an `init` accessor.\n",
    "Notice for example how it's OK to set the default value on the property itself above.\n",
    "Notice also how it's OK to set the value through another property's `init` accessor.\n",
    "Notice also how it's OK to set the value through a constructor.\n",
    "Finally, notice how, in the code below, it's OK to set the value through an object initializer:"
   ]
  },
  {
   "cell_type": "code",
   "execution_count": 24,
   "id": "316b0538",
   "metadata": {},
   "outputs": [],
   "source": [
    "Circle c1 = new Circle() { Diameter = 10 };\n",
    "Circle c2 = new Circle() { Radius = 2 };"
   ]
  },
  {
   "cell_type": "markdown",
   "id": "0d99a6a4",
   "metadata": {},
   "source": [
    "However, notice how we get a compiler-error if we try set a value through an `init` accessor *after* the object has been created."
   ]
  },
  {
   "cell_type": "code",
   "execution_count": 25,
   "id": "bd0b1b82",
   "metadata": {
    "tags": [
     "raises-exception"
    ]
   },
   "outputs": [
    {
     "name": "stderr",
     "output_type": "stream",
     "text": [
      "\n",
      "(1,1): error CS8852: Init-only property or indexer 'Circle.Diameter' can only be assigned in an object initializer, or on 'this' or 'base' in an instance constructor or an 'init' accessor.\n",
      "\n"
     ]
    },
    {
     "ename": "Error",
     "evalue": "compilation error",
     "output_type": "error",
     "traceback": []
    }
   ],
   "source": [
    "new Circle().Diameter = 1;"
   ]
  },
  {
   "cell_type": "code",
   "execution_count": 26,
   "id": "47c0f8c2",
   "metadata": {
    "tags": [
     "raises-exception"
    ]
   },
   "outputs": [
    {
     "name": "stderr",
     "output_type": "stream",
     "text": [
      "\n",
      "(1,1): error CS8852: Init-only property or indexer 'Circle.Radius' can only be assigned in an object initializer, or on 'this' or 'base' in an instance constructor or an 'init' accessor.\n",
      "\n"
     ]
    },
    {
     "ename": "Error",
     "evalue": "compilation error",
     "output_type": "error",
     "traceback": []
    }
   ],
   "source": [
    "new Circle().Radius = 1;"
   ]
  },
  {
   "cell_type": "markdown",
   "id": "3ccf7468",
   "metadata": {},
   "source": [
    "Notice how we get a compiler-error if we try to set a value through an `init` accessor from a `set` accessor."
   ]
  },
  {
   "cell_type": "code",
   "execution_count": 27,
   "id": "d7e94fa8",
   "metadata": {
    "tags": [
     "raises-exception"
    ]
   },
   "outputs": [
    {
     "name": "stderr",
     "output_type": "stream",
     "text": [
      "\n",
      "(9,12): error CS8852: Init-only property or indexer 'Circle.Diameter' can only be assigned in an object initializer, or on 'this' or 'base' in an instance constructor or an 'init' accessor.\n",
      "\n"
     ]
    },
    {
     "ename": "Error",
     "evalue": "compilation error",
     "output_type": "error",
     "traceback": []
    }
   ],
   "source": [
    "class Circle\n",
    "{\n",
    "  // This is the property with an `init` accessor.\n",
    "  public double Diameter { get; init; } = 1;\n",
    "\n",
    "  // Notice how we use `set`, not `init` here.\n",
    "  public double Radius {\n",
    "    get => Diameter / 2;\n",
    "    set => Diameter = value * 2;\n",
    "  }\n",
    "}"
   ]
  },
  {
   "cell_type": "markdown",
   "id": "1449b121",
   "metadata": {},
   "source": [
    "### Required\n",
    "\n",
    "There's one final piece that we must talk about that makes C# properties really useful.\n",
    "That is the keyword `required`.\n",
    "\n",
    "The keyword `required` can be added before the type of a property.\n",
    "If added, the class is impossible to instantiate without the property being set either via a constructor or an object initializer.\n",
    "\n",
    "The `required` keyword thus makes it possible for us to keep using object initializer syntax instead of constructors without loosing our ability to guarantee that some set of arguments have been set upon instantiation of a class.\n",
    "\n",
    "```{tip}\n",
    "The `required` keyword requires C# 11 which means that you must be targeting at least .NET 7.\n",
    "Please refer to [the documentation](https://learn.microsoft.com/en-us/dotnet/csharp/language-reference/configure-language-version) for more information on what version of C# is used when targeting any given .NET version.\n",
    "```\n",
    "\n",
    "```{note}\n",
    "The reason that the code examples below look visually different is that I haven't figured out how to switch to C# 11 in jupyter-book which I use to build this book. If you happen to know how to do that I'd really appreciate it if you would send me a ping.\n",
    "```\n",
    "\n",
    "```csharp\n",
    "class Rectangle\n",
    "{\n",
    "  public required int Width { get; init; }\n",
    "  public required int Height { get; init; }\n",
    "}\n",
    "```\n",
    "\n",
    "Notice how we get a compiler error if we fail to initialize both the `Width` and `Height` properties upon instantiation.\n",
    "\n",
    "```csharp\n",
    "Rectangle r1 = new Rectangle() { Width=10 };\n",
    "```\n",
    "\n",
    "```output\n",
    "error CS9035: Required member 'Rectangle.Height' must be set in the object initializer or attribute constructor.\n",
    "```\n",
    "\n",
    "If we however set both properties then it compiles and runs just fine.\n",
    "\n",
    "```csharp\n",
    "Rectangle r2 = new Rectangle() { Width=10, Height=5 };\n",
    "```\n",
    "\n",
    "\n",
    "\n",
    "### UML class diagrams\n",
    "\n",
    "How do we represent properties in UML class diagram syntax?\n",
    "Since UML class diagrams are language independent there is no specific support for the C# specific idea of properties.\n",
    "\n",
    "Consequently, modelers choose to model them in slightly different ways.\n",
    "One such variation, makes use of what UML calls \"stereotypes\".\n",
    "It would look something like the diagram below.\n",
    "\n",
    "```\n",
    "┌────────────────────────────────────────┐\n",
    "│                Rectangle               │\n",
    "├────────────────────────────────────────┤\n",
    "│ + <<get>> Width : int                  │\n",
    "│ - <<set>> Width : int                  │\n",
    "│ + <<get>> Height : int                 │\n",
    "│ - <<set>> Height : int                 │\n",
    "│ + <<get>> Area : int                   │\n",
    "├────────────────────────────────────────┤\n",
    "└────────────────────────────────────────┘\n",
    "```\n",
    "\n",
    "The UML class diagram above would correspond to the following code in C#."
   ]
  },
  {
   "cell_type": "code",
   "execution_count": 28,
   "id": "fa2dbb42",
   "metadata": {},
   "outputs": [],
   "source": [
    "class Rectangle\n",
    "{\n",
    "  public double Width { get; private set; }\n",
    "  public double Height { get; private set; }\n",
    "  public double Area { get; }\n",
    "}"
   ]
  },
  {
   "cell_type": "markdown",
   "id": "af75430e",
   "metadata": {},
   "source": [
    "%## TODO: Examples\n",
    "\n",
    "\n",
    "## Exercises\n",
    "\n",
    "```{exercise}\n",
    "What are properties?\n",
    "```\n",
    "\n",
    "```{exercise}\n",
    "Sometimes we mark the setter of a property as `private` while the getter is `public`.\n",
    "Why is this useful?\n",
    "```\n",
    "\n",
    "```{exercise}\n",
    "What is a read-only property in C#?\n",
    "What are they useful for?\n",
    "```\n",
    "\n",
    "```{exercise}\n",
    "What is an `init` accessor in the context of C# properties?\n",
    "What is it useful for?\n",
    "```\n",
    "\n",
    "```{exercise}\n",
    "What is the `required` keyword in the context of C# properties?\n",
    "What is it useful for?\n",
    "```\n",
    "\n",
    "\n",
    "```{exercise-start}\n",
    "```\n",
    "Assume that we have the following class."
   ]
  },
  {
   "cell_type": "code",
   "execution_count": 29,
   "id": "e175facd",
   "metadata": {},
   "outputs": [],
   "source": [
    "class Circle\n",
    "{\n",
    "  private int diameter = 2;\n",
    "  public int Diameter\n",
    "  {\n",
    "    get => Radius * 2;\n",
    "    set => diameter = value;\n",
    "  }\n",
    "  public int Radius\n",
    "  {\n",
    "    get => Diameter / 2;\n",
    "    set => Diameter = value * 2;\n",
    "  }\n",
    "}"
   ]
  },
  {
   "cell_type": "markdown",
   "id": "caf15eeb",
   "metadata": {},
   "source": [
    "Which of the following lines causes the program to crash at run-time?\n",
    "Why does it crash?\n",
    "```csharp\n",
    "Circle circ = new Circle() { Diameter = 2 };\n",
    "circ.Radius = 1;\n",
    "Console.WriteLine(circ.Radius);\n",
    "```\n",
    "```{exercise-end}\n",
    "```\n",
    "\n",
    "\n",
    "```{exercise}\n",
    ":label: ex:properties:square\n",
    "Write a class called `Square` and give it the properties `Width`, `Height`, `Area`, `Perimeter`, and `Side`.\n",
    "All the properties should have `get` and `set` accessors.\n",
    "\n",
    "Remember to make use of calculated properties to avoid allowing a `set` accessor put an object of type `Square` in a state which violates the rules of a square (namely that all sides are the same length).\n",
    "```\n",
    "\n",
    "```{exercise}\n",
    ":label: ex:properties:equilateral-triangle\n",
    "Write a class called `EquilateralTriangle` and give it the properties `Width`, `Height`, `Area`, `Perimeter`, and `Side`.\n",
    "\n",
    "When computing the width and height of a triangle, you can assume that one of the sides are perfectly parallel with the x-axis.\n",
    "\n",
    "Remember to make use of calculated properties to avoid allowing a `set` accessor put an object of type `Square` in a state which violates the rules of a square (namely that all sides are the same length).\n",
    "```\n",
    "\n",
    "```{exercise}\n",
    "Looking at the classes you wrote in {numref}`ex:properties:square` and {numref}`ex:properties:equilateral-triangle`.\n",
    "If you were to replace some `set` accessors with `init` accessors, which would you replace and why?\n",
    "```\n",
    "\n",
    "```{exercise}\n",
    "Looking at the classes you wrote in {numref}`ex:properties:square` and {numref}`ex:properties:equilateral-triangle`.\n",
    "If you were to mark some properties as `required`, which would you mark and why?\n",
    "```"
   ]
  }
 ],
 "metadata": {
  "jupytext": {
   "formats": "md:myst",
   "text_representation": {
    "extension": ".md",
    "format_name": "myst"
   }
  },
  "kernelspec": {
   "display_name": "csharp",
   "language": ".net-csharp",
   "name": ".net-csharp"
  },
  "language_info": {
   "file_extension": ".cs",
   "mimetype": "text/x-csharp",
   "name": "C#",
   "pygments_lexer": "csharp",
   "version": "10.0"
  },
  "source_map": [
   11,
   60,
   71,
   75,
   81,
   86,
   91,
   101,
   107,
   121,
   127,
   134,
   142,
   146,
   172,
   180,
   184,
   188,
   196,
   204,
   211,
   219,
   228,
   240,
   246,
   282,
   299,
   303,
   313,
   326,
   343,
   369,
   381,
   391,
   409,
   423,
   440,
   457,
   460,
   469,
   485,
   493,
   496,
   500,
   505,
   508,
   512,
   525,
   599,
   606,
   643,
   658
  ]
 },
 "nbformat": 4,
 "nbformat_minor": 5
}