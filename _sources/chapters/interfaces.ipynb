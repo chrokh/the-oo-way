{
 "cells": [
  {
   "cell_type": "markdown",
   "id": "208547f5",
   "metadata": {},
   "source": [
    "# Interfaces\n",
    "\n",
    "The word \"interface\" is, in object oriented programming commonly used to mean two different but related things.\n",
    "\n",
    "1. A contract or an abstraction.\n",
    "2. A data type declared using the keyword `interface` present in many object oriented languages.\n",
    "\n",
    "In this chapter we'll make a distinction between these two by either saying \"interface\" or `interface`.\n",
    "Let's start with the abstract idea of an interface.\n",
    "What is an interface?\n",
    "\n",
    "%## The idea\n",
    "\n",
    "```{important}\n",
    "An interface defines *what* something can do without defining *how* it does it.[^defaults]\n",
    "```\n",
    "\n",
    "% TODO: Interface default implementations:\n",
    "[^defaults]: Since C# 8.0, it is possible to define \"default implementations\" in interfaces which means that it now actually is possible to define the \"how\" in an interface. This chapter will soon be updated with more on this topic.\n",
    "\n",
    "Remember how we've learned that a [class](classes) consists of a bunch of instance and static members?\n",
    "Members are either methods or variables.\n",
    "Then we have [properties](properties) which can be thought of somewhere in between methods and variables.\n",
    "\n",
    "The set of all [public](access-modifiers) [instance members](classes) of a class are part of what we call the \"interface\" of a class.\n",
    "An interface is a \"contract\" that tells us what we can do with something.\n",
    "In other words, the set of all public members define *what* we can do with objects of the class.\n",
    "\n",
    "Think of it like a standard.\n",
    "If you've got a thing that adheres to some standard then you know how you can use that thing even if you don't know how the thing works \"inside\".\n",
    "A power plug can be plugged into an outlet if they share the same standard.\n",
    "We don't have to understand voltage, wattage, and amperage in order to use it.\n",
    "\n",
    "If we've got an object and all we know is its interface then we know what methods we can call and what types to expect in return.\n",
    "We know what variables we can access and what types they have.\n",
    "\n",
    "\n",
    "## Motivation\n",
    "\n",
    "Why is this a good idea?\n",
    "What's the point?\n",
    "Let's use an analogy.\n",
    "Think about screws, bolts, and screwdrivers.\n",
    "The drive type of the screw or bolt determines what screwdriver you need to screw or unscrew it.\n",
    "The same screwdriver can however be used to drive a wide number of different types of screws and bolts.\n",
    "Some fit into nuts, some are intended to penetrate material.\n",
    "Some are left-handed and some are right-handed.\n",
    "The same screwdriver can be used since different types of screws and bolts share the same drive type.\n",
    "\n",
    "The drive type is what we would refer to as the \"interface\".\n",
    "Think of it as a \"standard\".\n",
    "It is the contract between the screw and the screwdriver.\n",
    "Screw manufacturers make sure that their screw heads adhere to a standardized drive type.\n",
    "Similarly, screwdriver manufacturers make sure that their screwdrivers adhere to a standardized drive type.\n",
    "\n",
    "%TODO: Replace image\n",
    "```{figure} https://images.unsplash.com/photo-1597424216809-3ba9864aeb18?ixlib=rb-4.0.3&ixid=MnwxMjA3fDB8MHxwaG90by1wYWdlfHx8fGVufDB8fHx8&auto=format&fit=crop&w=1074&q=80\n",
    ":name: fig:screws-nuts-and-screwdrivers\n",
    ":height: 300px\n",
    "\n",
    "The same type of screw driver can be used with many types of screws. [Image will be replaced soon.] [[Image source](https://unsplash.com/photos/uOIvZYZ3PwA).]\n",
    "```\n",
    "\n",
    "This separation between interface and implementation has immense benefits.\n",
    "For one we don't have to buy a new screwdriver every time we buy a new screw.\n",
    "In programming we refer to this as [reusability](reusability).\n",
    "\n",
    "But also, it means that we don't have to coordinate between screw manufacturers, bolt manufacturers, and screwdrive manufacturers.\n",
    "In programming we refer to this as [modifiability](modifiability).\n",
    "We'll talk more about both reusability and modifiability in the chapter on [maintainability](maintainability).\n",
    "\n",
    "%This is what we, in the chapter on maintainability, will refer to as \"[reusability](reusability)\".\n",
    "%This is what we, in the chapter on maintainability, will refer to as \"[modifiability](modifiability)\".\n",
    "\n",
    "\n",
    "## Definition\n",
    "\n",
    "An interface is often referred to as an \"abstraction\" while classes, in contrast, are referred to as \"concretions\".\n",
    "Classes are concrete in the sense that they can be instantiated into objects.\n",
    "Interfaces can however *not* be instantiated.\n",
    "\n",
    "```{important}\n",
    "A class defines a compile-time and a run-time type.\n",
    "Interfaces *only define compile-time types* and cannot be instantiated.\n",
    "```\n",
    "\n",
    "In other words, an interface is only a compile-time type.\n",
    "At run-time, any interface must be replaced by a run-time type.\n",
    "\n",
    "\n",
    "### The idea\n",
    "\n",
    "Consider for example the following definition of a class called `Coordinate`:"
   ]
  },
  {
   "cell_type": "code",
   "execution_count": 1,
   "id": "da0e8c55",
   "metadata": {},
   "outputs": [
    {
     "data": {
      "text/html": [
       "\r\n",
       "<div>\r\n",
       "    <div id='dotnet-interactive-this-cell-3487.Microsoft.DotNet.Interactive.Http.HttpPort' style='display: none'>\r\n",
       "        The below script needs to be able to find the current output cell; this is an easy method to get it.\r\n",
       "    </div>\r\n",
       "    <script type='text/javascript'>\r\n",
       "async function probeAddresses(probingAddresses) {\r\n",
       "    function timeout(ms, promise) {\r\n",
       "        return new Promise(function (resolve, reject) {\r\n",
       "            setTimeout(function () {\r\n",
       "                reject(new Error('timeout'))\r\n",
       "            }, ms)\r\n",
       "            promise.then(resolve, reject)\r\n",
       "        })\r\n",
       "    }\r\n",
       "\r\n",
       "    if (Array.isArray(probingAddresses)) {\r\n",
       "        for (let i = 0; i < probingAddresses.length; i++) {\r\n",
       "\r\n",
       "            let rootUrl = probingAddresses[i];\r\n",
       "\r\n",
       "            if (!rootUrl.endsWith('/')) {\r\n",
       "                rootUrl = `${rootUrl}/`;\r\n",
       "            }\r\n",
       "\r\n",
       "            try {\r\n",
       "                let response = await timeout(1000, fetch(`${rootUrl}discovery`, {\r\n",
       "                    method: 'POST',\r\n",
       "                    cache: 'no-cache',\r\n",
       "                    mode: 'cors',\r\n",
       "                    timeout: 1000,\r\n",
       "                    headers: {\r\n",
       "                        'Content-Type': 'text/plain'\r\n",
       "                    },\r\n",
       "                    body: probingAddresses[i]\r\n",
       "                }));\r\n",
       "\r\n",
       "                if (response.status == 200) {\r\n",
       "                    return rootUrl;\r\n",
       "                }\r\n",
       "            }\r\n",
       "            catch (e) { }\r\n",
       "        }\r\n",
       "    }\r\n",
       "}\r\n",
       "\r\n",
       "function loadDotnetInteractiveApi() {\r\n",
       "    probeAddresses([\"http://10.1.1.216:1024/\", \"http://127.0.0.1:1024/\"])\r\n",
       "        .then((root) => {\r\n",
       "        // use probing to find host url and api resources\r\n",
       "        // load interactive helpers and language services\r\n",
       "        let dotnetInteractiveRequire = require.config({\r\n",
       "        context: '3487.Microsoft.DotNet.Interactive.Http.HttpPort',\r\n",
       "                paths:\r\n",
       "            {\r\n",
       "                'dotnet-interactive': `${root}resources`\r\n",
       "                }\r\n",
       "        }) || require;\r\n",
       "\r\n",
       "            window.dotnetInteractiveRequire = dotnetInteractiveRequire;\r\n",
       "\r\n",
       "            window.configureRequireFromExtension = function(extensionName, extensionCacheBuster) {\r\n",
       "                let paths = {};\r\n",
       "                paths[extensionName] = `${root}extensions/${extensionName}/resources/`;\r\n",
       "                \r\n",
       "                let internalRequire = require.config({\r\n",
       "                    context: extensionCacheBuster,\r\n",
       "                    paths: paths,\r\n",
       "                    urlArgs: `cacheBuster=${extensionCacheBuster}`\r\n",
       "                    }) || require;\r\n",
       "\r\n",
       "                return internalRequire\r\n",
       "            };\r\n",
       "        \r\n",
       "            dotnetInteractiveRequire([\r\n",
       "                    'dotnet-interactive/dotnet-interactive'\r\n",
       "                ],\r\n",
       "                function (dotnet) {\r\n",
       "                    dotnet.init(window);\r\n",
       "                },\r\n",
       "                function (error) {\r\n",
       "                    console.log(error);\r\n",
       "                }\r\n",
       "            );\r\n",
       "        })\r\n",
       "        .catch(error => {console.log(error);});\r\n",
       "    }\r\n",
       "\r\n",
       "// ensure `require` is available globally\r\n",
       "if ((typeof(require) !==  typeof(Function)) || (typeof(require.config) !== typeof(Function))) {\r\n",
       "    let require_script = document.createElement('script');\r\n",
       "    require_script.setAttribute('src', 'https://cdnjs.cloudflare.com/ajax/libs/require.js/2.3.6/require.min.js');\r\n",
       "    require_script.setAttribute('type', 'text/javascript');\r\n",
       "    \r\n",
       "    \r\n",
       "    require_script.onload = function() {\r\n",
       "        loadDotnetInteractiveApi();\r\n",
       "    };\r\n",
       "\r\n",
       "    document.getElementsByTagName('head')[0].appendChild(require_script);\r\n",
       "}\r\n",
       "else {\r\n",
       "    loadDotnetInteractiveApi();\r\n",
       "}\r\n",
       "\r\n",
       "    </script>\r\n",
       "</div>"
      ]
     },
     "metadata": {},
     "output_type": "display_data"
    }
   ],
   "source": [
    "class Coordinate\n",
    "{\n",
    "  public int X { get; set; }\n",
    "  public int Y { get; set; }\n",
    "\n",
    "  public Coordinate (int x, int y)\n",
    "  {\n",
    "    X = x;\n",
    "    Y = y;\n",
    "  }\n",
    "\n",
    "  public void Translate (int x, int y)\n",
    "  {\n",
    "    X += x;\n",
    "    Y += y;\n",
    "  }\n",
    "}"
   ]
  },
  {
   "cell_type": "markdown",
   "id": "598d0e33",
   "metadata": {},
   "source": [
    "What is the interface of the class `Coordinate`?\n",
    "Well there are three public instance members:\n",
    "\n",
    "1. The property `int X`.\n",
    "2. The property `int Y`.\n",
    "3. The instance method `void Translate (int x, int y)`.\n",
    "\n",
    "These public instance members are what we would call the \"interface\", or sometimes the \"public interface\", of the class `Coordinate`.\n",
    "\n",
    "\n",
    "### The keyword\n",
    "\n",
    "Even though we can talk about the abstract idea of the interface of the class `Coordinate`, we cannot talk about any concrete `interface` since it doesn't implement one.\n",
    "What would a concrete `interface` that captures the same idea look like?\n",
    "How about this:"
   ]
  },
  {
   "cell_type": "code",
   "execution_count": 2,
   "id": "3085580a",
   "metadata": {},
   "outputs": [],
   "source": [
    "interface ICoordinate\n",
    "{\n",
    "  int X { get; set; }\n",
    "  int Y { get; set; }\n",
    "  void Translate (int x, int y);\n",
    "}"
   ]
  },
  {
   "cell_type": "markdown",
   "id": "6cc1aaab",
   "metadata": {},
   "source": [
    "```{note}\n",
    "In C# the letter `I` is conventionally prepended to the name of an interface.\n",
    "So instead of naming an interface `Collection` we would name it `ICollection`.\n",
    "This is purely a convention and serves no technical purpose.\n",
    "It is however uncommon to find code that doesn't respect this convention.\n",
    "```\n",
    "\n",
    "Remember how we said that interfaces only define compile-time types and hence cannot be instantiated?\n",
    "If we try to instantiate an interface we get an error."
   ]
  },
  {
   "cell_type": "code",
   "execution_count": 3,
   "id": "4d91a73a",
   "metadata": {
    "tags": [
     "raises-exception"
    ]
   },
   "outputs": [
    {
     "name": "stderr",
     "output_type": "stream",
     "text": [
      "\n",
      "(1,21): error CS0144: Cannot create an instance of the abstract type or interface 'ICoordinate'\n",
      "\n"
     ]
    },
    {
     "ename": "Error",
     "evalue": "compilation error",
     "output_type": "error",
     "traceback": []
    }
   ],
   "source": [
    "ICoordinate coord = new ICoordinate();"
   ]
  },
  {
   "cell_type": "markdown",
   "id": "b5d4b153",
   "metadata": {},
   "source": [
    "However, since interfaces do define compile-time types it is only the right-hand side of the assignment statement above that's problematic.\n",
    "The left-hand side is entirely fine.\n",
    "We can declare a variable of type `ICoordinate` and our code will compile just fine."
   ]
  },
  {
   "cell_type": "code",
   "execution_count": 4,
   "id": "c3426a06",
   "metadata": {},
   "outputs": [],
   "source": [
    "ICoordinate coord;"
   ]
  },
  {
   "cell_type": "markdown",
   "id": "5ef1106d",
   "metadata": {},
   "source": [
    "### Implementing an interface\n",
    "\n",
    "But wait a minute you might say.\n",
    "If I can declare a variable to be of type `ICoordinate` but there are no instances of `ICoordinate` how could this possibly be useful?\n",
    "What can I put inside the variable?\n",
    "Glad you asked.\n",
    "We have now arrived at the magical destination know as [subtype polymorphism](subtype-polymorphism).\n",
    "But let's finish up our discussion on interfaces before we dig too deep in that idea.\n",
    "\n",
    "We cannot instantiate an `interface`, but we can declare that some concrete class or [abstract class](inheritance) (more on this later) *implements the interface*.\n",
    "The key word here is \"implements\".\n",
    "We say that some type implements some interface.\n",
    "\n",
    "```{important}\n",
    "A single type can implement multiple interfaces and the same interface can be implemented by multiple types.\n",
    "```\n",
    "\n",
    "To declare that a class implements an interface we use the colon (`:`) symbol after the name of the class in the class declaration and then specify the name of the interface.\n",
    "When we compile our program the compiler will check whether our types actually implement all the members of the interfaces that they claim to implement.\n",
    "\n",
    "In the example below we're defining an empty class called `Point` and claim that it implements the interface `ICoordinate`.\n",
    "When compiling the program we get an error that states that we haven't implemented any of the members that `ICoordinate` demands."
   ]
  },
  {
   "cell_type": "code",
   "execution_count": 5,
   "id": "fd649b26",
   "metadata": {
    "tags": [
     "raises-exception"
    ]
   },
   "outputs": [
    {
     "name": "stderr",
     "output_type": "stream",
     "text": [
      "\n",
      "(1,15): error CS0535: 'Point' does not implement interface member 'ICoordinate.X'\n",
      "\n",
      "(1,15): error CS0535: 'Point' does not implement interface member 'ICoordinate.Y'\n",
      "\n",
      "(1,15): error CS0535: 'Point' does not implement interface member 'ICoordinate.Translate(int, int)'\n",
      "\n"
     ]
    },
    {
     "ename": "Error",
     "evalue": "compilation error",
     "output_type": "error",
     "traceback": []
    }
   ],
   "source": [
    "class Point : ICoordinate { }"
   ]
  },
  {
   "cell_type": "markdown",
   "id": "ffd91640",
   "metadata": {},
   "source": [
    "But what about our previous class `Coordinate`.\n",
    "Since we modeled the interface after that class, surely that class should be a valid implementation of `ICoordinate`.\n",
    "Let's try it out."
   ]
  },
  {
   "cell_type": "code",
   "execution_count": 6,
   "id": "3c61a10c",
   "metadata": {},
   "outputs": [],
   "source": [
    "class Coordinate : ICoordinate\n",
    "{\n",
    "  public int X { get; set; }\n",
    "  public int Y { get; set; }\n",
    "\n",
    "  public Coordinate (int x, int y)\n",
    "  {\n",
    "    X = x;\n",
    "    Y = y;\n",
    "  }\n",
    "\n",
    "  public void Add (Coordinate coord)\n",
    "  {\n",
    "    X += coord.X;\n",
    "  }\n",
    "\n",
    "  public void Translate (int x, int y)\n",
    "  {\n",
    "    X += x;\n",
    "    Y += y;\n",
    "  }\n",
    "}"
   ]
  },
  {
   "cell_type": "markdown",
   "id": "644898b5",
   "metadata": {},
   "source": [
    "Yup, since the class `Coordinate` implements all the required members of the interface `ICoordinate` it is a valid implementation of it.\n",
    "This means that we can now declare a variable with the compile-time type `ICoordinate` and run-time type `Coordinate` since the latter implements the interface of the former."
   ]
  },
  {
   "cell_type": "code",
   "execution_count": 7,
   "id": "336dad16",
   "metadata": {},
   "outputs": [],
   "source": [
    "ICoordinate coord = new Coordinate(0, 0);"
   ]
  },
  {
   "cell_type": "markdown",
   "id": "b24c378e",
   "metadata": {},
   "source": [
    "Remember how we [way back](run-time-and-compile-time-types) said that the compile-time type and the run-time type don't necessarily have to be the same?\n",
    "Remember how we said that we would see cases of that later?\n",
    "\n",
    "Have a look at the assignment statement above.\n",
    "The compile-time type on the left is an interface (or generally: an abstraction) while the run-time type on the right is a concrete class.\n",
    "Why this is useful and what we can do with this is something that we'll deal with in the chapter on [subtype polymorphism](subtype-polymorphism).\n",
    "\n",
    "\n",
    "### Implementing multiple interfaces\n",
    "\n",
    "Before we move on we should mention that a class can implement multiple interfaces by simply separating them with commas.\n",
    "Let's say that we want to split our previous interface into the two interfaces `IPositionable` and `ITranslatable`."
   ]
  },
  {
   "cell_type": "code",
   "execution_count": 8,
   "id": "a5a4bec4",
   "metadata": {},
   "outputs": [],
   "source": [
    "interface IPositionable\n",
    "{\n",
    "  int X { get; set; }\n",
    "  int Y { get; set; }\n",
    "}\n",
    "\n",
    "interface ITranslatable\n",
    "{\n",
    "  void Translate (int x, int y);\n",
    "}"
   ]
  },
  {
   "cell_type": "markdown",
   "id": "7f468e27",
   "metadata": {},
   "source": [
    "Have a look at the two classes below that both implement the two interfaces above."
   ]
  },
  {
   "cell_type": "code",
   "execution_count": 9,
   "id": "09e59a80",
   "metadata": {},
   "outputs": [],
   "source": [
    "class Line : IPositionable, ITranslatable\n",
    "{\n",
    "  public int X { get; set; }\n",
    "  public int Y { get; set; }\n",
    "  public void Translate (int x, int y) { X += x; Y += y; }\n",
    "}\n",
    "\n",
    "class Square : IPositionable, ITranslatable\n",
    "{\n",
    "  public int X { get; set; }\n",
    "  public int Y { get; set; }\n",
    "  public void Translate (int x, int y) { X += x; Y += y; }\n",
    "  public int Size { get; set; }\n",
    "}"
   ]
  },
  {
   "cell_type": "markdown",
   "id": "f0f8384a",
   "metadata": {},
   "source": [
    "```{tip}\n",
    "Interfaces with fewer members have, in theory, more potential possible implementations.\n",
    "```\n",
    "\n",
    "\n",
    "### Overlapping interfaces\n",
    "\n",
    "If a class implements multiple interfaces that all require a member with the same signature then implementation of the member in the class is used for all the interfaces.\n",
    "We can think of this as that the interfaces are \"overlapping\":\n",
    "This is why the following code works."
   ]
  },
  {
   "cell_type": "code",
   "execution_count": 10,
   "id": "248d5f8c",
   "metadata": {},
   "outputs": [],
   "source": [
    "interface IShape\n",
    "{\n",
    "  double Width { get; set; }\n",
    "  double Height { get; set; }\n",
    "  int Edges { get; }\n",
    "}\n",
    "\n",
    "interface IQuadrilateral\n",
    "{\n",
    "  double Width { get; set; }\n",
    "  double Height { get; set; }\n",
    "}\n",
    "\n",
    "public class Rectangle : IShape, IQuadrilateral\n",
    "{\n",
    "  public double Width { get; set; }\n",
    "  public double Height { get; set; }\n",
    "  public int Edges { get; } = 4;\n",
    "}"
   ]
  },
  {
   "cell_type": "markdown",
   "id": "8a05ebc5",
   "metadata": {},
   "source": [
    "If you, in C#, want to distinguish the implementation of a member for one interface from an implementation of a member with the same name for another interface then you must use \"explicit interface implementations\".\n",
    "This is not something we're going to discuss in this book so I advise you to have a look at the [official documentation](https://learn.microsoft.com/en-us/dotnet/csharp/programming-guide/interfaces/explicit-interface-implementation) if you want to know more about this.\n",
    "However, it would look something like the code below."
   ]
  },
  {
   "cell_type": "code",
   "execution_count": 11,
   "id": "a8c7870f",
   "metadata": {},
   "outputs": [],
   "source": [
    "public class Rectangle : IShape, IQuadrilateral\n",
    "{\n",
    "  double IQuadrilateral.Width { get; set; }\n",
    "  double IQuadrilateral.Height { get; set; }\n",
    "\n",
    "  double IShape.Width { get; set; }\n",
    "  double IShape.Height { get; set; }\n",
    "\n",
    "  public int Edges { get; } = 4;\n",
    "}"
   ]
  },
  {
   "cell_type": "markdown",
   "id": "60a67405",
   "metadata": {},
   "source": [
    "One downside of using explicit interface implementations in the case above is that these members are no longer publically accessible on objects whose compile-time type is `Rectangle`.\n",
    "Consequently the following code generates a compile-time error."
   ]
  },
  {
   "cell_type": "code",
   "execution_count": 12,
   "id": "bfb4b76e",
   "metadata": {
    "tags": [
     "raises-exception"
    ]
   },
   "outputs": [
    {
     "name": "stderr",
     "output_type": "stream",
     "text": [
      "\n",
      "(2,6): error CS1061: 'Rectangle' does not contain a definition for 'Width' and no accessible extension method 'Width' accepting a first argument of type 'Rectangle' could be found (are you missing a using directive or an assembly reference?)\n",
      "\n"
     ]
    },
    {
     "ename": "Error",
     "evalue": "compilation error",
     "output_type": "error",
     "traceback": []
    }
   ],
   "source": [
    "Rectangle rect = new Rectangle();\n",
    "rect.Width = 10;"
   ]
  },
  {
   "cell_type": "markdown",
   "id": "22a6872a",
   "metadata": {},
   "source": [
    "The methods are however accessible when we choose to treat objects of type `Rectangle` as either `IQuadrilateral` or `IShape`.\n",
    "So the following code does not generate a compile-time error."
   ]
  },
  {
   "cell_type": "code",
   "execution_count": 13,
   "id": "47273c28",
   "metadata": {},
   "outputs": [],
   "source": [
    "IShape shape = new Rectangle();\n",
    "shape.Width = 10;\n",
    "\n",
    "IShape quadrilateral = new Rectangle();\n",
    "quadrilateral.Width = 10;"
   ]
  },
  {
   "cell_type": "markdown",
   "id": "87b55bc8",
   "metadata": {},
   "source": [
    "Since we have yet to talk about subtype polymorphism it is understandable if you find this section a tad confusing.\n",
    "If that is the case, then I highly recommend that you move on and come back to this section after you have groked subtype polymorphism.\n",
    "\n",
    "\n",
    "\n",
    "\n",
    "(interfaces:uml)=\n",
    "### UML class diagrams\n",
    "\n",
    "In UML class diagram notation, interface implementation is called \"realization\" and is depicted using a dashed line with a hollow arrow head.\n",
    "The arrow points from the implementation to the interface.\n",
    "\n",
    "% TODO: REPLACE IMAGE!!\n",
    "```{figure} https://upload.wikimedia.org/wikipedia/commons/thumb/9/93/Uml_classes_en.svg/800px-Uml_classes_en.svg.png\n",
    ":name: fig:uml-class-diagram-realization\n",
    ":width: 300\n",
    "\n",
    "In UML class diagram notation, interface implementation is called \"realization\" and is depicted using a dashed line with a hollow arrow head.\n",
    "The arrow points from the implementation to the interface.\n",
    "[[Image source](https://en.wikipedia.org/wiki/Class_diagram)].\n",
    "```\n",
    "\n",
    "In the diagram below we are saying that the class `Circle` is implementing the interface `IShape`.\n",
    "We're saying that it implements all the members of `IShape` but we are also adding some additional members not present in `IShape`.\n",
    "\n",
    "```\n",
    "┌────────────────────────────────┐\n",
    "│         <<interface>>          │\n",
    "│            IShape              │\n",
    "├────────────────────────────────┤\n",
    "│ + <get> Width : double         │\n",
    "│ + <set> Width : double         │\n",
    "│ + <get> Height : double        │\n",
    "│ + <set> Height : double        │\n",
    "├────────────────────────────────┤\n",
    "│ + Scale (factor:double) : void │\n",
    "└────────────────────────────────┘\n",
    "               Δ\n",
    "               ╎\n",
    "               ╎\n",
    "               ╎\n",
    "┌────────────────────────────────┐\n",
    "│            Circle              │\n",
    "├────────────────────────────────┤\n",
    "│ + <get> Radius : double        │\n",
    "│ + <set> Radius : double        │\n",
    "│ + <get> Diameter : double      │\n",
    "│ + <set> Diameter : double      │\n",
    "├────────────────────────────────┤\n",
    "│                                │\n",
    "└────────────────────────────────┘\n",
    "```\n",
    "\n",
    "Implementations are conventionally drawn \"below\" interfaces.\n",
    "\n",
    "Whether or not to include (meaning: repeat) the members of the interface in the implementation varies depending on who you ask.\n",
    "Here we have opted to follow the praxis of not repeating the members since the omission leads to no loss of information.\n",
    "If `Circle` truly implements the interface `IShape` then it must *by definition* implement all its members.\n",
    "\n",
    "```{tip}\n",
    "Pick a syntax and stick to it.\n",
    "Consistency is key.\n",
    "```\n",
    "\n",
    "\n",
    "## Examples\n",
    "\n",
    "### Shapes\n",
    "\n",
    "Let's start off with something simple.\n",
    "Let's define an interface called `IShape` with some properties."
   ]
  },
  {
   "cell_type": "code",
   "execution_count": 14,
   "id": "71bb5036",
   "metadata": {},
   "outputs": [],
   "source": [
    "interface IShape\n",
    "{\n",
    "  double Width { get; set; }\n",
    "  double Height { get; set; }\n",
    "  double Area { get; set; }\n",
    "}"
   ]
  },
  {
   "cell_type": "markdown",
   "id": "294a8743",
   "metadata": {},
   "source": [
    "What are some possible implementations of the interface `IShape`?\n",
    "Well how about a perfect circle and a rectangle?\n",
    "Notice how the classes that implement the interface can define additional members, beyond what the interface demands."
   ]
  },
  {
   "cell_type": "code",
   "execution_count": 15,
   "id": "0792aeb0",
   "metadata": {
    "tags": [
     "hide-input"
    ]
   },
   "outputs": [],
   "source": [
    "class Square : IShape\n",
    "{\n",
    "  public double Side { get; set; }\n",
    "\n",
    "  public double Width\n",
    "  {\n",
    "    get => Side;\n",
    "    set => Side = value;\n",
    "  }\n",
    "\n",
    "  public double Height\n",
    "  {\n",
    "    get => Side;\n",
    "    set => Side = value;\n",
    "  }\n",
    "\n",
    "  public double Area\n",
    "  {\n",
    "    get => Side*Side;\n",
    "    set => Side = Math.Sqrt(value);\n",
    "  }\n",
    "\n",
    "  public Square (double side)\n",
    "    => Side = side;\n",
    "}"
   ]
  },
  {
   "cell_type": "code",
   "execution_count": 16,
   "id": "d8abbf33",
   "metadata": {
    "tags": [
     "hide-input"
    ]
   },
   "outputs": [],
   "source": [
    "class Circle : IShape\n",
    "{\n",
    "  public double Radius { get; set; }\n",
    "\n",
    "  public double Diameter\n",
    "  {\n",
    "    get => Radius * 2;\n",
    "    set => Radius = value / 2;\n",
    "  }\n",
    "\n",
    "  public double Width\n",
    "  {\n",
    "    get => Diameter;\n",
    "    set => Diameter = value;\n",
    "   }\n",
    "\n",
    "  public double Height {\n",
    "    get => Diameter;\n",
    "    set => Diameter = value;\n",
    "  }\n",
    "\n",
    "  public double Area\n",
    "  {\n",
    "    get => Math.PI * Math.Pow(Radius, 2);\n",
    "    set => Radius = Math.Sqrt(Area / Math.PI);\n",
    "  }\n",
    "\n",
    "  public Circle (double radius)\n",
    "    => Radius = radius;\n",
    "}"
   ]
  },
  {
   "cell_type": "markdown",
   "id": "26eef5ce",
   "metadata": {},
   "source": [
    "Can we now assign objects of type `Square` or `Circle` where values of type `IShape` is expected?\n",
    "Yes we can.\n",
    "Why we would do this is something that we'll discuss in the chapter on [subtype polymorphism](subtype-polymorphism)."
   ]
  },
  {
   "cell_type": "code",
   "execution_count": 17,
   "id": "1eade2fc",
   "metadata": {},
   "outputs": [],
   "source": [
    "IShape shape1 = new Square(1);\n",
    "IShape shape2 = new Circle(0.5);"
   ]
  },
  {
   "cell_type": "markdown",
   "id": "96a0b26c",
   "metadata": {},
   "source": [
    "(interfaces:ciphers)=\n",
    "### Cipher interfaces\n",
    "\n",
    "Let's now rally up all the ciphers that we've implemented so far and let's try to write interfaces for them.\n",
    "The class names of the ciphers we've seen so far are:\n",
    "\n",
    "1. `ReverseCipher`\n",
    "2. `RobbersCiphers`\n",
    "3. `LeetCipher`\n",
    "4. `CaesarCipher`\n",
    "5. `FlipFlopCaesarCipher`\n",
    "\n",
    "Since we have multiple overloads for the `Encode` method in these interfaces a naive (and incorrect!) first thought might be to implement the following interface:"
   ]
  },
  {
   "cell_type": "code",
   "execution_count": 18,
   "id": "647991e6",
   "metadata": {
    "tags": [
     "raises-exception"
    ]
   },
   "outputs": [
    {
     "name": "stderr",
     "output_type": "stream",
     "text": [
      "\n",
      "(5,10): error CS0111: Type 'ICipher' already defines a member called 'Encode' with the same parameter types\n",
      "\n"
     ]
    },
    {
     "ename": "Error",
     "evalue": "compilation error",
     "output_type": "error",
     "traceback": []
    }
   ],
   "source": [
    "interface ICipher\n",
    "{\n",
    "  char Encode (char input);\n",
    "  string Encode (string input);\n",
    "  string Encode (char input);\n",
    "}"
   ]
  },
  {
   "cell_type": "markdown",
   "id": "71b03e74",
   "metadata": {},
   "source": [
    "That covers all the overloads of these classes.\n",
    "Importantly however, this is the [union](union), not the [intersection](intersection).\n",
    "It is the \"sum\" of all overloads, not the overloads that all of them happen to implement.\n",
    "Interfaces however should express members that all its implementers *share*.\n",
    "Interfaces should express the intersection of members.\n",
    "\n",
    "Note that it also gives us a compiler error, since we're trying to define two overloads of `Encode` that both take `char` as input but returns different output.\n",
    "As we learned in the chapter on [overloading](overloading), this is not allowed.\n",
    "\n",
    "But why do we want both an `Encode` method that returns a `char` and an `Encode` method that returns a `string`?\n",
    "Well, we've talked about this before.\n",
    "Remember how the `RobbersCipher` cannot implement an encoding method that takes a `char` and returns a `char`.\n",
    "Why?\n",
    "Because that's fundamentally not part of the specification of the Robber's cipher.\n",
    "The smallest unit that a Robber's cipher encoding can return is a `string`.\n",
    "Because if you are asked to encode a consonant then you must return three characters.\n",
    "If you are passed `L` and `o` is used as the vowel, then you must return `LoL`.\n",
    "There's just no way around it.\n",
    "\n",
    "However, some other ciphers, such as the `CaesarCipher`, *can* convert single characters to single characters.\n",
    "And since it would be useful to know that we've been returned only a single character we'd prefer to return values of type `char` rather than `string`.\n",
    "\n",
    "%This is also in line with a design principle known as the [interface segration principle](interface-segregation-principle) which we will discuss in a later chapter.\n",
    "\n",
    "So to avoid forcing classes that cannot implement certain methods to still implement these methods, we will write a separate interface for each overload.\n",
    "We end up with the following interfaces:\n",
    "\n",
    "% TODO: You could argue that we should create CharToChar+StringToString and CharToString+StringToString as two kinds of substitution ciphers. Cuz if you e.g. have CharToChar then you always also have StringToString. In fact you also always have CharToString. This would be interesting but I'm not sure how this affects everything when we get to generics. It would however simplify the inheritance stuff."
   ]
  },
  {
   "cell_type": "code",
   "execution_count": 19,
   "id": "0ffacb4d",
   "metadata": {},
   "outputs": [],
   "source": [
    "interface ICharToCharCipher\n",
    "{\n",
    "  char Encode (char input);\n",
    "}\n",
    "\n",
    "interface IStringToStringCipher\n",
    "{\n",
    "  string Encode (string input);\n",
    "}\n",
    "\n",
    "interface ICharToStringCipher\n",
    "{\n",
    "  string Encode (char input);\n",
    "}"
   ]
  },
  {
   "cell_type": "markdown",
   "id": "73ebbaed",
   "metadata": {},
   "source": [
    "```{note}\n",
    "Feeling upset about the fact that this is so verbose and that we need to have three different interfaces?\n",
    "You have every right to be upset and your hunch is right.\n",
    "Good on you!\n",
    "When we get to the chapters on [generics](generics) we'll be able merge all three interfaces into one.\n",
    "```\n",
    "\n",
    "\n",
    "### Cipher implementations\n",
    "\n",
    "Let's now make the ciphers actually implement all interfaces that they can."
   ]
  },
  {
   "cell_type": "code",
   "execution_count": 20,
   "id": "f6fec417",
   "metadata": {
    "tags": [
     "hide-input"
    ]
   },
   "outputs": [],
   "source": [
    "class RobbersCipher : ICharToStringCipher, IStringToStringCipher\n",
    "{\n",
    "  private char vowel;\n",
    "\n",
    "  public RobbersCipher (char vowel)\n",
    "    => this.vowel = vowel;\n",
    "\n",
    "  public string Encode (char input)\n",
    "  {\n",
    "    string consonants = \"BCDFGHJKLMNPQRSTVXYZ\";\n",
    "    if (consonants.IndexOf(Char.ToUpper(input)) != -1)\n",
    "      return $\"{input}{vowel}{input}\";\n",
    "    else\n",
    "      return $\"{input}\";\n",
    "  }\n",
    "\n",
    "  public string Encode (string input)\n",
    "  {\n",
    "    string output = \"\";\n",
    "    foreach (char letter in input)\n",
    "      output += Encode (letter);\n",
    "    return output;\n",
    "  }\n",
    "}"
   ]
  },
  {
   "cell_type": "code",
   "execution_count": 21,
   "id": "538d4546",
   "metadata": {
    "tags": [
     "hide-input"
    ]
   },
   "outputs": [],
   "source": [
    "class CaesarCipher : ICharToCharCipher, IStringToStringCipher\n",
    "{\n",
    "  int steps;\n",
    "\n",
    "  public CaesarCipher (int steps)\n",
    "    => this.steps = steps;\n",
    "\n",
    "  public char Encode (char input)\n",
    "  {\n",
    "    string alphabet = \"ABCDEFGHIJKLMNOPQRSTUVXYZ\";\n",
    "    int i = alphabet.IndexOf(Char.ToUpper(input));\n",
    "    int newIndex = (i + steps) % alphabet.Length;\n",
    "    if (i != -1)\n",
    "    {\n",
    "      if (newIndex < 0)\n",
    "        newIndex += alphabet.Length;\n",
    "\n",
    "      if (Char.IsLower(input))\n",
    "        return Char.ToLower(alphabet[newIndex]);\n",
    "      else\n",
    "        return alphabet[newIndex];\n",
    "    }\n",
    "    return input;\n",
    "  }\n",
    "\n",
    "  public string Encode (string input)\n",
    "  {\n",
    "    string output = \"\";\n",
    "    foreach (char letter in input)\n",
    "      output += Encode(letter);\n",
    "    return output;\n",
    "  }\n",
    "}"
   ]
  },
  {
   "cell_type": "code",
   "execution_count": 22,
   "id": "44254ec8",
   "metadata": {
    "tags": [
     "hide-input"
    ]
   },
   "outputs": [],
   "source": [
    "class ReverseCipher : IStringToStringCipher\n",
    "{\n",
    "  public string Encode (string input)\n",
    "  {\n",
    "    string output = \"\";\n",
    "    for (int i=input.Length-1; i>=0; i--)\n",
    "      output += input[i];\n",
    "    return output;\n",
    "  }\n",
    "}"
   ]
  },
  {
   "cell_type": "markdown",
   "id": "91f01d3f",
   "metadata": {},
   "source": [
    "As it turns out, all the above ciphers implement the interface `IStringToStringCipher`.\n",
    "This means that we can use objects of these types interchangibly under that interface.\n",
    "In other words, we can assign any object of these types to a variable of the compile-time type `IStringToStringCipher`."
   ]
  },
  {
   "cell_type": "code",
   "execution_count": 23,
   "id": "5919651c",
   "metadata": {},
   "outputs": [],
   "source": [
    "IStringToStringCipher cipher1 = new RobbersCipher('o');\n",
    "IStringToStringCipher cipher2 = new CaesarCipher(1);\n",
    "IStringToStringCipher cipher3 = new ReverseCipher();"
   ]
  },
  {
   "cell_type": "markdown",
   "id": "4619d924",
   "metadata": {},
   "source": [
    "Why this is extremely powerful will become apparent when we get to the chapter on [subtype polymorphism](subtype-polymorphism).\n",
    "But in short, the point is that we can now call the method `Encode` without needing to have any idea of what the run-time type is of the thing that we are calling `Encode` on.\n",
    "\n",
    "\n",
    "## Exercises\n",
    "\n",
    "```{exercise}\n",
    "What is the abstract idea of an interface?\n",
    "Come up with your own example in natural language that's different from the example given in this chapter on screws, bolts, and screwdrivers.\n",
    "```\n",
    "\n",
    "```{exercise}\n",
    "Explain the keyword `interface`?\n",
    "```\n",
    "\n",
    "```{exercise}\n",
    "What is the difference between a `class` and an `interface`?\n",
    "```\n",
    "\n",
    "\n",
    "```{exercise-start}\n",
    ":label: ex:interfaces:leet\n",
    "```\n",
    "Rewrite the class `LeetCipher` that you wrote in {numref}`ex:instance-methods:leet` so that it implements the two interfaces `IStringToStringCipher` and `ICharToCharCipher` that we defined earlier in this chapter."
   ]
  },
  {
   "cell_type": "code",
   "execution_count": 24,
   "id": "d4f03e6d",
   "metadata": {
    "tags": [
     "remove-input"
    ]
   },
   "outputs": [],
   "source": [
    "class LeetCipher : IStringToStringCipher, ICharToCharCipher\n",
    "{\n",
    "  public char Encode (char input)\n",
    "  {\n",
    "    switch (input)\n",
    "    {\n",
    "      case 'L': return '1';\n",
    "      case '1': return 'L';\n",
    "      case 'A': return '4';\n",
    "      case '4': return 'A';\n",
    "      case 'O': return '0';\n",
    "      case '0': return 'O';\n",
    "      case 'T': return '7';\n",
    "      case '7': return 'T';\n",
    "      case 'E': return '3';\n",
    "      case '3': return 'E';\n",
    "      default: return input;\n",
    "    }\n",
    "  }\n",
    "\n",
    "  public string Encode (string input)\n",
    "  {\n",
    "    string output = \"\";\n",
    "    foreach (char c in input)\n",
    "      output += Encode(c);\n",
    "    return output;\n",
    "  }\n",
    "}"
   ]
  },
  {
   "cell_type": "markdown",
   "id": "4da9ec49",
   "metadata": {},
   "source": [
    "When you are done you should be able to run the following code and get the corresponding output."
   ]
  },
  {
   "cell_type": "code",
   "execution_count": 25,
   "id": "f069f60d",
   "metadata": {},
   "outputs": [
    {
     "name": "stdout",
     "output_type": "stream",
     "text": [
      "1337 3\n"
     ]
    }
   ],
   "source": [
    "// Note how the compile-time and run-time types are different.\n",
    "IStringToStringCipher stringCipher = new LeetCipher();\n",
    "ICharToCharCipher charCipher = new LeetCipher();\n",
    "\n",
    "string output1 = stringCipher.Encode(\"LEET\");\n",
    "char output2 = charCipher.Encode('E');\n",
    "\n",
    "Console.WriteLine($\"{output1} {output2}\");"
   ]
  },
  {
   "cell_type": "markdown",
   "id": "a2526e9f",
   "metadata": {},
   "source": [
    "```{exercise-end}\n",
    "```\n",
    "\n",
    "\n",
    "```{exercise}\n",
    "Can the class `LeetCipher` of {numref}`ex:interfaces:leet` also implement the interface `ICharToStringCipher`?\n",
    "Why or why not?\n",
    "```\n",
    "\n",
    "```{exercise}\n",
    "Can the class `RobbersCipher` also implement the interface `ICharToCharCipher`?\n",
    "Why or why not?\n",
    "```\n",
    "\n",
    "```{exercise}\n",
    "Rewrite the class `FlipFlopCaesarCipher` from the chapter on [concrete injected object composition](concrete-injected-object-composition) so that it implements all the interfaces from this chapter that you believe that it should implement.\n",
    "Which ones did you choose and which did you not choose?\n",
    "Why?\n",
    "```\n",
    "\n",
    "\n",
    "```{exercise}\n",
    "Does an interface define a \"[compile-time type](run-time-and-compile-time-types)\", a \"[run-time type](run-time-and-compile-time-types)\", or both?\n",
    "What does this mean?\n",
    "```\n",
    "\n",
    "```{exercise}\n",
    ":label: ex:interfaces\n",
    "1. Define your own interface.\n",
    "2. Write a class that implements that interface.\n",
    "3. Declare a variable whose compile-time type is your interface, and whose run-time type is your class.\n",
    "4. Draw a UML class diagram of your interface and your class or classes.\n",
    "```"
   ]
  }
 ],
 "metadata": {
  "jupytext": {
   "formats": "md:myst",
   "text_representation": {
    "extension": ".md",
    "format_name": "myst"
   }
  },
  "kernelspec": {
   "display_name": "csharp",
   "language": ".net-csharp",
   "name": ".net-csharp"
  },
  "language_info": {
   "file_extension": ".cs",
   "mimetype": "text/x-csharp",
   "name": "C#",
   "pygments_lexer": "csharp",
   "version": "10.0"
  },
  "source_map": [
   11,
   107,
   125,
   143,
   150,
   162,
   165,
   171,
   173,
   198,
   201,
   207,
   230,
   235,
   237,
   252,
   263,
   267,
   282,
   295,
   315,
   321,
   332,
   337,
   341,
   346,
   352,
   426,
   433,
   439,
   468,
   500,
   506,
   509,
   527,
   535,
   566,
   581,
   595,
   624,
   661,
   673,
   679,
   683,
   710,
   740,
   742,
   751
  ]
 },
 "nbformat": 4,
 "nbformat_minor": 5
}