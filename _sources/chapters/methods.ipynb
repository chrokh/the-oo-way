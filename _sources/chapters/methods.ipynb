{
 "cells": [
  {
   "cell_type": "markdown",
   "id": "e9fa351d",
   "metadata": {},
   "source": [
    "% TODO: Algorithms chapter claims that we talk about \"parameterization\" here.\n",
    "% TODO: Parameter vs argument\n",
    "\n",
    "\n",
    "(local-functions)=\n",
    "# Methods\n",
    "\n",
    "```{warning}\n",
    "Work in progress.\n",
    "```\n",
    "\n",
    "## Motivation\n",
    "\n",
    "Remember the design principle \"[don't repeat yourself](DRY)\"?\n",
    "The more code we repeat, the more likely we are to introduce bugs.\n",
    "Remember how we said that the way we avoid duplicating code is by increasing abstraction?\n",
    "Well, one such abstraction is that of the procedure, method, or function.\n",
    "\n",
    "The idea of the procedure, method, or function, is, in procedural programming, that we can take a sequence of statements, give that sequence a name, and then whenever we want to execute that sequence we just issue the name.\n",
    "\n",
    "```{note}\n",
    "I prefer using the word \"method\" rather than \"function\" in the context of object oriented programming since functions in imperative languages tend to be [impure](purity).\n",
    "We'll talk about what that means in a separate chapter but in short, a pure function is a function that, given the same input, always returns the same output.\n",
    "But, since functions/methods in C# can depend on and change state, they are not pure.\n",
    "But I digress, we'll talk more about this in the chapter on [purity](purity).\n",
    "\n",
    "The reason I bring this up is that while I would prefer using the term \"method\", we're now going to use a feature of C# called \"local functions\".\n",
    "```\n",
    "\n",
    "\n",
    "## Definition\n",
    "\n",
    "Let's look at what C# calls local functions.\n",
    "Local functions are private methods nested inside another member like a method or a constructor for example.\n",
    "\n",
    "```{note}\n",
    "Wait a minute!\n",
    "What are these strange words?\n",
    "Private, member, constructor.\n",
    "Why are we starting here?\n",
    "\n",
    "Well, perhaps you remember how we in the chapter on [compilation](top-level-statements) discussed how C# supports something called \"top-level statements\" which allow you to just start writing code without having to define a main class and a static main method.\n",
    "It's not that the main method doesn't exist, it's just that it's generated for you.\n",
    "\n",
    "So, what should you take away from all this nonsense?\n",
    "When we're using top-level statements and start defining methods without making them members of a class then they will be either local functions or [lambda expressions](lambdas) which we'll talk about much later.\n",
    "```\n",
    "\n",
    "A local function consists of four parts that we must understand.\n",
    "\n",
    "1. A name.\n",
    "2. A return type.\n",
    "3. A list of parameters with types.\n",
    "4. An implementation.\n",
    "\n",
    "```{figure} https://via.placeholder.com/700x200?text=Image+coming+soon\n",
    ":name: fig:local-method\n",
    "\n",
    "A local function consists of four parts: A name, a return type, a list of parameters, and an implementation.\n",
    "```\n",
    "\n",
    "In the code example below we're defining a local function called `add` which takes two parameters of type `int` and returns a value of type `int`."
   ]
  },
  {
   "cell_type": "code",
   "execution_count": 1,
   "id": "1616b261",
   "metadata": {},
   "outputs": [
    {
     "data": {
      "text/html": [
       "\r\n",
       "<div>\r\n",
       "    <div id='dotnet-interactive-this-cell-3027.Microsoft.DotNet.Interactive.Http.HttpPort' style='display: none'>\r\n",
       "        The below script needs to be able to find the current output cell; this is an easy method to get it.\r\n",
       "    </div>\r\n",
       "    <script type='text/javascript'>\r\n",
       "async function probeAddresses(probingAddresses) {\r\n",
       "    function timeout(ms, promise) {\r\n",
       "        return new Promise(function (resolve, reject) {\r\n",
       "            setTimeout(function () {\r\n",
       "                reject(new Error('timeout'))\r\n",
       "            }, ms)\r\n",
       "            promise.then(resolve, reject)\r\n",
       "        })\r\n",
       "    }\r\n",
       "\r\n",
       "    if (Array.isArray(probingAddresses)) {\r\n",
       "        for (let i = 0; i < probingAddresses.length; i++) {\r\n",
       "\r\n",
       "            let rootUrl = probingAddresses[i];\r\n",
       "\r\n",
       "            if (!rootUrl.endsWith('/')) {\r\n",
       "                rootUrl = `${rootUrl}/`;\r\n",
       "            }\r\n",
       "\r\n",
       "            try {\r\n",
       "                let response = await timeout(1000, fetch(`${rootUrl}discovery`, {\r\n",
       "                    method: 'POST',\r\n",
       "                    cache: 'no-cache',\r\n",
       "                    mode: 'cors',\r\n",
       "                    timeout: 1000,\r\n",
       "                    headers: {\r\n",
       "                        'Content-Type': 'text/plain'\r\n",
       "                    },\r\n",
       "                    body: probingAddresses[i]\r\n",
       "                }));\r\n",
       "\r\n",
       "                if (response.status == 200) {\r\n",
       "                    return rootUrl;\r\n",
       "                }\r\n",
       "            }\r\n",
       "            catch (e) { }\r\n",
       "        }\r\n",
       "    }\r\n",
       "}\r\n",
       "\r\n",
       "function loadDotnetInteractiveApi() {\r\n",
       "    probeAddresses([\"http://10.1.0.144:1024/\", \"http://127.0.0.1:1024/\"])\r\n",
       "        .then((root) => {\r\n",
       "        // use probing to find host url and api resources\r\n",
       "        // load interactive helpers and language services\r\n",
       "        let dotnetInteractiveRequire = require.config({\r\n",
       "        context: '3027.Microsoft.DotNet.Interactive.Http.HttpPort',\r\n",
       "                paths:\r\n",
       "            {\r\n",
       "                'dotnet-interactive': `${root}resources`\r\n",
       "                }\r\n",
       "        }) || require;\r\n",
       "\r\n",
       "            window.dotnetInteractiveRequire = dotnetInteractiveRequire;\r\n",
       "\r\n",
       "            window.configureRequireFromExtension = function(extensionName, extensionCacheBuster) {\r\n",
       "                let paths = {};\r\n",
       "                paths[extensionName] = `${root}extensions/${extensionName}/resources/`;\r\n",
       "                \r\n",
       "                let internalRequire = require.config({\r\n",
       "                    context: extensionCacheBuster,\r\n",
       "                    paths: paths,\r\n",
       "                    urlArgs: `cacheBuster=${extensionCacheBuster}`\r\n",
       "                    }) || require;\r\n",
       "\r\n",
       "                return internalRequire\r\n",
       "            };\r\n",
       "        \r\n",
       "            dotnetInteractiveRequire([\r\n",
       "                    'dotnet-interactive/dotnet-interactive'\r\n",
       "                ],\r\n",
       "                function (dotnet) {\r\n",
       "                    dotnet.init(window);\r\n",
       "                },\r\n",
       "                function (error) {\r\n",
       "                    console.log(error);\r\n",
       "                }\r\n",
       "            );\r\n",
       "        })\r\n",
       "        .catch(error => {console.log(error);});\r\n",
       "    }\r\n",
       "\r\n",
       "// ensure `require` is available globally\r\n",
       "if ((typeof(require) !==  typeof(Function)) || (typeof(require.config) !== typeof(Function))) {\r\n",
       "    let require_script = document.createElement('script');\r\n",
       "    require_script.setAttribute('src', 'https://cdnjs.cloudflare.com/ajax/libs/require.js/2.3.6/require.min.js');\r\n",
       "    require_script.setAttribute('type', 'text/javascript');\r\n",
       "    \r\n",
       "    \r\n",
       "    require_script.onload = function() {\r\n",
       "        loadDotnetInteractiveApi();\r\n",
       "    };\r\n",
       "\r\n",
       "    document.getElementsByTagName('head')[0].appendChild(require_script);\r\n",
       "}\r\n",
       "else {\r\n",
       "    loadDotnetInteractiveApi();\r\n",
       "}\r\n",
       "\r\n",
       "    </script>\r\n",
       "</div>"
      ]
     },
     "metadata": {},
     "output_type": "display_data"
    }
   ],
   "source": [
    "int add (int x, int y)\n",
    "{\n",
    "  return x + y;\n",
    "}"
   ]
  },
  {
   "cell_type": "markdown",
   "id": "e79cb59f",
   "metadata": {},
   "source": [
    "(function-signature)=\n",
    "(method-signature)=\n",
    "### Signatures\n",
    "\n",
    "Think back to the chapter on [functions over sets](functions).\n",
    "The type of this function, can from a set perspective, be described as:\n",
    "\n",
    "$$\n",
    "\\mathit{add} : (\\mathbb{Z} \\times \\mathbb{Z}) \\rightarrow \\mathbb{Z}\n",
    "$$\n",
    "\n",
    "Writing out the type of the function in C# syntax we would say:\n",
    "\n",
    "```csharp\n",
    "int add (int x, int y)\n",
    "```\n",
    "\n",
    "In C# we refer to this as the \"signature\" of the function or method.\n",
    "Depending on the context in which we use the word signature, the return type is either included or not included.\n",
    "\n",
    "Learning to read function/method signatures is vital when learning C#.\n",
    "First, they allow us to understand how we should call a particular function or method.\n",
    "But beyond that, as we shall see in later chapters, signatures are a key component of [overloading polymorphism](overloading) and [subtype polymorphism](subtype-polymorphism).\n",
    "\n",
    "### Invocation\n",
    "So how do we apply this function to some arguments?\n",
    "How do we, as we say, \"call\" it, or \"invoke\" it?\n",
    "When we call the function we pass arguments to it.\n",
    "In terms of terminology, an \"argument\" is used in place of a \"parameter\".\n",
    "\n",
    "Let's say we want to add the numbers `1` and `2`.\n",
    "Well, we simply apply the function, just like we would in mathematics.\n",
    "We state the name of the function, an opening parenthasis, whatever values we want to pass as arguments for the parameters separated by comma, and close the parenthasis.\n",
    "Voilà, we've called the function."
   ]
  },
  {
   "cell_type": "code",
   "execution_count": 2,
   "id": "f6f24817",
   "metadata": {},
   "outputs": [],
   "source": [
    "add(1, 2);"
   ]
  },
  {
   "cell_type": "markdown",
   "id": "41a2f6fa",
   "metadata": {},
   "source": [
    "Let's call it again but let's print out the result this time to make sure that it does what we expected it to do."
   ]
  },
  {
   "cell_type": "code",
   "execution_count": 3,
   "id": "750dd074",
   "metadata": {},
   "outputs": [
    {
     "name": "stdout",
     "output_type": "stream",
     "text": [
      "30\n"
     ]
    }
   ],
   "source": [
    "int result = add(10, 20);\n",
    "Console.WriteLine(result);"
   ]
  },
  {
   "cell_type": "markdown",
   "id": "7ffcb4b2",
   "metadata": {},
   "source": [
    "### Return values\n",
    "\n",
    "How did we get that value out of the function?\n",
    "Well, notice how we used the keyword `return` in the definition of the function.\n",
    "\n",
    "The keyword `return` is in C# known as a \"jump statement\" since it transfers control to another section of the code.\n",
    "More precisely, it returns control to wherever the method was called.\n",
    "However, it also takes whatever value we put to the right of the `return` keyword and replaces our method call with that value.\n",
    "\n",
    "```{caution}\n",
    "As soon as we use the `return` keyword, the method stops executing.\n",
    "Inserting a return statement before the end of the method is known as an \"early return\" and is sometimes a useful way of simplifying code.\n",
    "```\n",
    "% TODO: Example of early return.\n",
    "\n",
    "\n",
    "% TODO: Make its own chapter?\n",
    "### Expression-bodied members\n",
    "\n",
    "In C# there's this feature known as expression-bodied members.\n",
    "This feature allow us to express implementations using a much more compact syntax.\n",
    "\n",
    "If you've got an implementation that only consists of a single expression then you can use the expression-bodied member syntax.\n",
    "As we shall see in future chapters we can also use this syntax to define [static methods](static-methods), [instance methods](instance-methods), [properties](properties), [constructors](constructors), and [indexers](indexers).\n",
    "\n",
    "We can redefine our `add` method using expression-bodied member syntax like this:"
   ]
  },
  {
   "cell_type": "code",
   "execution_count": 4,
   "id": "10863f37",
   "metadata": {},
   "outputs": [],
   "source": [
    "int add (int x, int y) => x + y;"
   ]
  },
  {
   "cell_type": "markdown",
   "id": "a9f284bc",
   "metadata": {},
   "source": [
    "Notice how the `return` keyword is no longer needed since the function returns whatever the single expression returns.\n",
    "Notice also how there are no curly brackets needed since there's no block that needs delimiting.\n",
    "\n",
    "Of course we can still call it the same way:"
   ]
  },
  {
   "cell_type": "code",
   "execution_count": 5,
   "id": "369e1785",
   "metadata": {},
   "outputs": [
    {
     "name": "stdout",
     "output_type": "stream",
     "text": [
      "300\n"
     ]
    }
   ],
   "source": [
    "Console.WriteLine( add(100, 200) );"
   ]
  },
  {
   "cell_type": "markdown",
   "id": "ab09cf34",
   "metadata": {},
   "source": [
    "### Void\n",
    "\n",
    "What if you want to write a procedure that simply does something but doesn't return something.\n",
    "What would be an example of such a procedure?\n",
    "Well, how about `Console.WriteLine` that we've been using so frequently.\n",
    "\n",
    "The return type of `WriteLine` is the special type `void` of which there are no values.\n",
    "In the case of `WriteLine` this makes sense since we're not looking to get a value back but rather to have something printed to screen.\n",
    "We call this a \"side effect\".\n",
    "When we're calling `WriteLine` we're looking for the side effect of having whatever we pass it printed to the screen.\n",
    "\n",
    "We cannot declare a variable of type `void` and so we cannot ever store the result of invoking a function/method that returns `void`.\n",
    "\n",
    "\n",
    "\n",
    "## Examples\n",
    "\n",
    "\n",
    "```{warning}\n",
    "Work in progress.\n",
    "```\n",
    "\n",
    "\n",
    "### Reverse cipher\n",
    "\n",
    "It should be possible to wrap all ciphers that we've defined up to this point in methods.\n",
    "Let's start with the Reverse cipher.\n",
    "We'll simply take the code we wrote in the chapter on [iteration](iteration-reverse) and wrap it in a local function.\n",
    "But of course, we'll expose the `input` variable of type `string` as a parameter."
   ]
  },
  {
   "cell_type": "code",
   "execution_count": 6,
   "id": "5976db82",
   "metadata": {},
   "outputs": [],
   "source": [
    "string reverse (string input)\n",
    "{\n",
    "  string output = \"\";\n",
    "  for (int i=input.Length-1; i>=0; i--)\n",
    "    output += input[i];\n",
    "  return output;\n",
    "}"
   ]
  },
  {
   "cell_type": "markdown",
   "id": "65d11f30",
   "metadata": {},
   "source": [
    "Simple enough.\n",
    "Let's try it out."
   ]
  },
  {
   "cell_type": "code",
   "execution_count": 7,
   "id": "8de93945",
   "metadata": {},
   "outputs": [
    {
     "name": "stdout",
     "output_type": "stream",
     "text": [
      "stressed\n"
     ]
    }
   ],
   "source": [
    "Console.WriteLine( reverse(\"desserts\") );"
   ]
  },
  {
   "cell_type": "markdown",
   "id": "ce577929",
   "metadata": {},
   "source": [
    "Seems to work.\n",
    "Could we rewrite it as a single expression and hence an expression-bodied member?\n",
    "No.\n",
    "But eventually we will, we just have to learn more tricks first.\n",
    "\n",
    "\n",
    "### Robber's language\n",
    "\n",
    "Let's now go for the Robber's language.\n",
    "Let's wrap the code we wrote in the chapter on [iteration](iteration-robbers) in a method and let's make the `input` variable of type `string` a parameter."
   ]
  },
  {
   "cell_type": "code",
   "execution_count": 8,
   "id": "a38fc96a",
   "metadata": {},
   "outputs": [],
   "source": [
    "string robbersEncode (string input)\n",
    "{\n",
    "  string output = \"\";\n",
    "  foreach (char letter in input)\n",
    "  {\n",
    "    output += letter switch\n",
    "    {\n",
    "      'B' or 'b' or 'C' or 'c' or 'D' or 'd' or 'F' or 'f' or 'G' or 'g' or 'H' or 'h' or 'J' or 'j' or 'K' or 'k' or 'L' or 'l' or 'M' or 'm' or 'N' or 'n' or 'P' or 'p' or 'Q' or 'q' or 'R' or 'r' or 'S' or 's' or 'T' or 't' or 'V' or 'v' or 'W' or 'w' or 'X' or 'x' or 'Y' or 'y' or 'Z' or 'z'\n",
    "        => $\"{letter}O{letter}\",\n",
    "      _ => letter\n",
    "    };\n",
    "  }\n",
    "  return output;\n",
    "}"
   ]
  },
  {
   "cell_type": "markdown",
   "id": "f21ad27c",
   "metadata": {},
   "source": [
    "Does it work?\n",
    "Sure does!"
   ]
  },
  {
   "cell_type": "code",
   "execution_count": 9,
   "id": "4e461d53",
   "metadata": {},
   "outputs": [
    {
     "name": "stdout",
     "output_type": "stream",
     "text": [
      "DODOGOG\n"
     ]
    }
   ],
   "source": [
    "Console.WriteLine( robbersEncode(\"DOG\") );"
   ]
  },
  {
   "cell_type": "markdown",
   "id": "04c37074",
   "metadata": {},
   "source": [
    "But we can go further than this.\n",
    "Let's think like programmers.\n",
    "Let's look for opportunities to generalize and parameterize.\n",
    "Why have we hard-coded the vowel that we stick in between consonants?\n",
    "Who says that that must be fixed.\n",
    "Let's just make that a parameter as well."
   ]
  },
  {
   "cell_type": "code",
   "execution_count": 10,
   "id": "a6b99fe3",
   "metadata": {},
   "outputs": [],
   "source": [
    "string robbersEncode (string input, char vowel)\n",
    "{\n",
    "  string output = \"\";\n",
    "  foreach (char letter in input)\n",
    "  {\n",
    "    output += letter switch\n",
    "    {\n",
    "      'B' or 'b' or 'C' or 'c' or 'D' or 'd' or 'F' or 'f' or 'G' or 'g' or 'H' or 'h' or 'J' or 'j' or 'K' or 'k' or 'L' or 'l' or 'M' or 'm' or 'N' or 'n' or 'P' or 'p' or 'Q' or 'q' or 'R' or 'r' or 'S' or 's' or 'T' or 't' or 'V' or 'v' or 'W' or 'w' or 'X' or 'x' or 'Y' or 'y' or 'Z' or 'z'\n",
    "        => $\"{letter}{vowel}{letter}\",\n",
    "      _ => letter\n",
    "    };\n",
    "  }\n",
    "  return output;\n",
    "}"
   ]
  },
  {
   "cell_type": "markdown",
   "id": "1000c0ac",
   "metadata": {},
   "source": [
    "Does it still work?\n",
    "Absolutely.\n",
    "But now that we call it we have to also supply a `char` that will play the role of the `vowel`."
   ]
  },
  {
   "cell_type": "code",
   "execution_count": 11,
   "id": "0dd53d02",
   "metadata": {},
   "outputs": [
    {
     "name": "stdout",
     "output_type": "stream",
     "text": [
      "dedogeg\n"
     ]
    }
   ],
   "source": [
    "Console.WriteLine( robbersEncode(\"dog\", 'e') );"
   ]
  },
  {
   "cell_type": "code",
   "execution_count": 12,
   "id": "872ccc72",
   "metadata": {},
   "outputs": [
    {
     "name": "stdout",
     "output_type": "stream",
     "text": [
      "babirardad\n"
     ]
    }
   ],
   "source": [
    "Console.WriteLine( robbersEncode(\"bird\", 'a') );"
   ]
  },
  {
   "cell_type": "markdown",
   "id": "f5b02b69",
   "metadata": {},
   "source": [
    "It seems to work!\n",
    "But it's a really long method.\n",
    "Let's see if we can decompose it into multiple methods to improve its [maintainability](maintainability).\n",
    "\n",
    "How about splitting the problem into two parts?\n",
    "One method could be responsible for iterating over the `string`, character by character, and the other method could be responsible for encoding any given character.\n",
    "A character can be represented using the `char` data type.\n",
    "Seems reasonable enough, let's try it.\n",
    "\n",
    "Here's a method that encodes a single character:"
   ]
  },
  {
   "cell_type": "code",
   "execution_count": 13,
   "id": "ad88e198",
   "metadata": {},
   "outputs": [],
   "source": [
    "string robbersEncodeChar (char input, char vowel)\n",
    "  => input switch {\n",
    "    'B' or 'b' or 'C' or 'c' or 'D' or 'd' or 'F' or 'f' or 'G' or 'g' or 'H' or 'h' or 'J' or 'j' or 'K' or 'k' or 'L' or 'l' or 'M' or 'm' or 'N' or 'n' or 'P' or 'p' or 'Q' or 'q' or 'R' or 'r' or 'S' or 's' or 'T' or 't' or 'V' or 'v' or 'W' or 'w' or 'X' or 'x' or 'Y' or 'y' or 'Z' or 'z'\n",
    "      => $\"{input}{vowel}{input}\",\n",
    "    _ => $\"{input}\"\n",
    "  };"
   ]
  },
  {
   "cell_type": "markdown",
   "id": "41f43c9d",
   "metadata": {},
   "source": [
    "Since we were using a [switch expression](switch-expressions) rather than a [switch statement](switch-statements), the whole implementation of this local function turned out to be a single expression.\n",
    "Which in turn means that we can use the shorter expression-bodied member syntax to compact the function even further by getting rid of the `return` keyword and curly brackets.\n",
    "\n",
    "```{caution}\n",
    "Notice how we, in the code above, in the default (wildcard) case, return `$\"{input}\"` instead of simply `input`.\n",
    "This is because `input` is a `char` but we need to return a `string`.\n",
    "In other words we need to somehow [convert](type-conversions) the value from type `char` to type `string`.\n",
    "Usually we would do this by calling the [instance method](instance-methods) `ToString()` but since we haven't talked about instance methods yet I chose to do it through [string interpolation](string-interpolation) which we *have* talked about.\n",
    "\n",
    "How come we didn't have this problem before?\n",
    "Well, because previously we never actually assigned a value of type `char` to a variable of type `string` directly.\n",
    "Instead we either concatenated the `char` to a `string` using the concatenation operator `+` or we printed the `char` directly to screen using `Console.WriteLine`.\n",
    "In both cases, under the hood, this makes use of something known as [overloading](overloading).\n",
    "We'll learn more about that later.\n",
    "```\n",
    "\n",
    "Ok, but does our `char` encoding method work?\n",
    "Indeed."
   ]
  },
  {
   "cell_type": "code",
   "execution_count": 14,
   "id": "2f5237b8",
   "metadata": {},
   "outputs": [
    {
     "name": "stdout",
     "output_type": "stream",
     "text": [
      "mum\n"
     ]
    }
   ],
   "source": [
    "Console.WriteLine( robbersEncodeChar('m', 'u') );"
   ]
  },
  {
   "cell_type": "code",
   "execution_count": 15,
   "id": "f63ea7fd",
   "metadata": {},
   "outputs": [
    {
     "name": "stdout",
     "output_type": "stream",
     "text": [
      "a\n"
     ]
    }
   ],
   "source": [
    "Console.WriteLine( robbersEncodeChar('a', 'u') );"
   ]
  },
  {
   "cell_type": "markdown",
   "id": "f61a7ca8",
   "metadata": {},
   "source": [
    "Let's now write the method that takes a whole `string` and applies the `char`-wise cipher to each individual character in order and then concatenates the result."
   ]
  },
  {
   "cell_type": "code",
   "execution_count": 16,
   "id": "29c79488",
   "metadata": {},
   "outputs": [],
   "source": [
    "string robbersEncodeString (string input, char vowel)\n",
    "{\n",
    "  string output = \"\";\n",
    "  foreach (char letter in input)\n",
    "    output += robbersEncodeChar (letter, vowel);\n",
    "  return output;\n",
    "}"
   ]
  },
  {
   "cell_type": "markdown",
   "id": "797cbc56",
   "metadata": {},
   "source": [
    "```{tip}\n",
    "When [refactoring](refactoring) (rewriting) your code, always make sure that it still works at every possible opportunity.\n",
    "Discovering bugs sooner rather than later makes them much easier to fix.\n",
    "```\n",
    "\n",
    "Let's try it in action."
   ]
  },
  {
   "cell_type": "code",
   "execution_count": 17,
   "id": "e4711b9e",
   "metadata": {},
   "outputs": [
    {
     "name": "stdout",
     "output_type": "stream",
     "text": [
      "Atattatacackak atat dadawawnan!\n"
     ]
    }
   ],
   "source": [
    "Console.WriteLine(\n",
    "  robbersEncodeString(\"Attack at dawn!\", 'a'));"
   ]
  },
  {
   "cell_type": "markdown",
   "id": "38ebbf32",
   "metadata": {},
   "source": [
    "Ok, so that's better.\n",
    "In programming jargon we would say that we've \"separated concerns\".\n",
    "\n",
    "\n",
    "\n",
    "### Caesar cipher\n",
    "\n",
    "So far so good.\n",
    "But we've talked about more ciphers than the Robber's language.\n",
    "Remember the [Caesar cipher](caesar-cipher)?\n",
    "If we were to write an implementation of it using only the skills we have learned up to this point, the implementation would be necessarily complicated.\n",
    "For that reason we're going to postpone writing an implementation for now.\n",
    "\n",
    "However, what I want to draw your attention to is that it would be quite possible to write an implementation of it that is based around two very similar methods.\n",
    "We could decompose the problem in the same way.\n",
    "One method is responsible for encoding a single character, while one method is responsible for iterating over the whole `string`, delegataing to the character-converting method, and then concatenating the result.\n",
    "\n",
    "We've parameterized the Robber's language over the vowel we stick in between consonants.\n",
    "A Caesar cipher however ought to be parameterized over the number of steps to move in the alphabet.\n",
    "Let's represent that with an `int`.\n",
    "\n",
    "```csharp\n",
    "string caesarEncodeString (string input, int steps);\n",
    "char caesarEncodeChar (char input, int steps);\n",
    "```\n",
    "\n",
    "Hmm... If we manage to implement `caesarEncodeChar`, the implementation of `caesarEncodeString` ought to be trivial.\n",
    "Have a look at the code below:"
   ]
  },
  {
   "cell_type": "code",
   "execution_count": 18,
   "id": "9f88a098",
   "metadata": {
    "tags": [
     "remove-input"
    ]
   },
   "outputs": [],
   "source": [
    "char caesarEncodeChar (char letter, int steps)\n",
    "  => throw new NotImplementedException();"
   ]
  },
  {
   "cell_type": "code",
   "execution_count": 19,
   "id": "59033363",
   "metadata": {},
   "outputs": [],
   "source": [
    "string caesarEncodeString (string input, int steps)\n",
    "{\n",
    "  string output = \"\";\n",
    "  foreach (char letter in input)\n",
    "    output += caesarEncodeChar (letter, steps);\n",
    "  return output;\n",
    "}"
   ]
  },
  {
   "cell_type": "markdown",
   "id": "de3cf84e",
   "metadata": {},
   "source": [
    "Does this code remind you of anything?\n",
    "It is eerily similar to `robbersEncodeString` right?\n",
    "What are the differences?\n",
    "There are essentially three.\n",
    "\n",
    "1. The parameters (beyond the input `string`) varies.\n",
    "2. Which character-replacing method we call varies.\n",
    "3. One of the character-replacing methods returns a `string` while the other returns a `char`.\n",
    "\n",
    "\n",
    "### Leet language\n",
    "\n",
    "But the eerie similarties doesn't stop here.\n",
    "Remember the [Leet language](leet-langauge) that you wrote a program for in {numref}`ex:iteration-leet`?\n",
    "\n",
    "Let's say we choose the same strategy as with the Caesar cipher and the Robber's language and decompose the problem into two subproblems.\n",
    "One method is responsible for determining what character to replace any given single character with.\n",
    "The other method is responsible for iterating over the characters of a `string` and calling the other method for each character one by one.\n",
    "\n",
    "I won't show how to write the method that converts any given `char` since that's your job in {numref}`ex:methods-leet`.\n",
    "However, the `string`-encoding method ought to look like this:\n",
    "\n",
    "```csharp\n",
    "string leetEncodeString (string input)\n",
    "{\n",
    "  string output = \"\";\n",
    "  foreach (char letter in input)\n",
    "    output += leetEncodeChar (letter);\n",
    "  return output;\n",
    "}\n",
    "```\n",
    "\n",
    "So much duplicated code!\n",
    "Argh!\n",
    "Now we've got three cases of, air quotes, pretty much the same code.\n",
    "Looks like a prime candidate for using methods to eliminate duplication.\n",
    "\n",
    "Think about this for a moment, and you'll realize that whenever we want to build a new cipher that encodes on a character-to-character basis, we'll have to repeat this code.\n",
    "Some parameters vary, and some character-encoding methods return values of type `char` while other return values of type `string`.\n",
    "\n",
    "Remember the principle [DRY (don't repeat yourself)](DRY)?\n",
    "This repetition is not ideal.\n",
    "So how do we get rid of this duplication?\n",
    "\n",
    "\n",
    "(methods:substitution-ciphers)=\n",
    "(methods-substitutions)=\n",
    "### Substitution ciphers\n",
    "\n",
    "Let's think about our use case a bit more.\n",
    "It turns out that in the world of cryptography there's this concept known as a \"substitution cipher\".\n",
    "The one thing such ciphers have in common is that they encode their input \"chunk by chunk\".\n",
    "If that chunk happens to be a single character then it's known as a \"simple substitution cipher\".\n",
    "\n",
    "All ciphers are *not* substitution ciphers of course.\n",
    "Think of the simple reverse cipher that we discussed.\n",
    "Reversing is not a substitution cipher but, what is known as, a \"transposition cipher\".\n",
    "In transposition ciphers we *rearrange* letters while in substitution ciphers we *substitute* letters.\n",
    "\n",
    "In order to avoid an explosion of methods that repeat the same task over and over again, we need to turn something into data so that we can parameterize our methods and thus pass the variation as an argument.\n",
    "That is, *unless we are writing our code in an object oriented style and use subtype polymorphism*.\n",
    "\n",
    "How come we don't have to turn something into pure data when doing it in an object oriented style?\n",
    "Because objects mix data and methods and support subtyping.\n",
    "If you mix data and methods then you have a way of passing around methods.\n",
    "And if you can subtype then you can pass around vastly different methods.\n",
    "But it's too soon to talk about those things.\n",
    "Don't worry, we'll get there eventually.\n",
    "\n",
    "```{seealso}\n",
    "It should however be noted that in the functional programming paradigm functions are, what we call, first-class citizens.\n",
    "This means that you can pass around functions as if they were data.\n",
    "It should be noted that this is a non-issue in functional programming languages since functions are first-class citizens.\n",
    "To pass around methods in C# we would have to use [delegates](delegates) but this is not as powerful as what we get in functional programming because we lack the ability to do partial application.\n",
    "```\n",
    "\n",
    "But let's get back on track.\n",
    "What I want you to take away from this discussion is this:\n",
    "\n",
    "```{important}\n",
    "With simple static methods you often reach a point where you will have to figure out a way to turn your *algorithms* into *data* if you want to elimnate further duplication.\n",
    "```\n",
    "\n",
    "Turning methods into data, what would that look like?\n",
    "Well, think about it.\n",
    "We said that these ciphers are simple substitution ciphers that substitute a character for a character.\n",
    "So what if we use an [array](arrays) of [tuples](tuples) where the first value of each tuple is that character that we want to replace, and the second is the replacement.\n",
    "%Let's call the former the `Pattern` and the latter the `Replacement`.\n",
    "\n",
    "With such an array of substitutions we can simply iterate over each `char` in the input `string`, and then iterate over each substitution in the array of substitution, and check if the character matches the pattern of the substitution.\n",
    "If it does then replace the character with the substitution and otherwise we just continue.\n",
    "Simple enough right?\n",
    "Let's implement it, but let's again separate the two jobs of iterating over a whole `string` and determining replacement character for a given character."
   ]
  },
  {
   "cell_type": "code",
   "execution_count": 20,
   "id": "31092a59",
   "metadata": {},
   "outputs": [],
   "source": [
    "char substituteChar (char input, (char, char)[] substitutions)\n",
    "{\n",
    "    foreach ((char, char) substitution in substitutions)\n",
    "        if (substitution.Item1 == input)\n",
    "            return substitution.Item2;\n",
    "    return input;\n",
    "}\n",
    "\n",
    "string substituteString (string input, (char, char)[] substitutions)\n",
    "{\n",
    "    string output = \"\";\n",
    "    foreach (char c in input)\n",
    "        output += substituteChar(c, substitutions);\n",
    "    return output;\n",
    "}"
   ]
  },
  {
   "cell_type": "markdown",
   "id": "42039425",
   "metadata": {},
   "source": [
    "Does it work?\n",
    "Yes, it does.\n",
    "Have a look below."
   ]
  },
  {
   "cell_type": "code",
   "execution_count": 21,
   "id": "2768607d",
   "metadata": {},
   "outputs": [],
   "source": [
    "(char, char)[] substitutions = new (char, char)[] {\n",
    "  ('L', '1'),\n",
    "  ('E', '3'),\n",
    "  ('T', '7'),\n",
    "};"
   ]
  },
  {
   "cell_type": "code",
   "execution_count": 22,
   "id": "e9c1ace0",
   "metadata": {},
   "outputs": [
    {
     "name": "stdout",
     "output_type": "stream",
     "text": [
      "1337\n"
     ]
    }
   ],
   "source": [
    "Console.WriteLine( substituteString(\"LEET\", substitutions) );"
   ]
  },
  {
   "cell_type": "code",
   "execution_count": 23,
   "id": "0fa47bd9",
   "metadata": {},
   "outputs": [
    {
     "name": "stdout",
     "output_type": "stream",
     "text": [
      "1O1\n"
     ]
    }
   ],
   "source": [
    "Console.WriteLine( substituteString(\"LOL\", substitutions) );"
   ]
  },
  {
   "cell_type": "markdown",
   "id": "189bbd25",
   "metadata": {},
   "source": [
    "### Expanding substitutions\n",
    "\n",
    "Before we leave this idea of treating substitutions as data there's one more thing we have to talk about and it's related to Caesar ciphers.\n",
    "\n",
    "In any given substitution, the Caesar cipher returns a single `char` when given a single `char`.\n",
    "The Robber's language sometimes return multiple characters, or rather a `string`.\n",
    "The Caesar cipher has type `char -> char` while the Robber's language has type `char -> string`.\n",
    "%Or in C# syntax: `char Encode (char input)` compared to `string Encode (char input)`.\n",
    "It looks something like this:\n",
    "\n",
    "Why does this matter?\n",
    "Think about it.\n",
    "How would we use the method `substituteChar` to run a Robber's language cipher?\n",
    "It's not possible.\n",
    "The signature of that method is:\n",
    "\n",
    "```csharp\n",
    "char substituteChar (char input, (char, char)[] substitutions)\n",
    "```\n",
    "\n",
    "But we know that a Robber's cipher, when taking a character as input must return a `char`.\n",
    "This also means that each substitution must have the type `(char, string)` and not `(char, char)`.\n",
    "Taking this together the method would look something like below."
   ]
  },
  {
   "cell_type": "code",
   "execution_count": 24,
   "id": "10fe16a8",
   "metadata": {},
   "outputs": [],
   "source": [
    "string substituteCharUsingString (char input, (char, string)[] substitutions)\n",
    "{\n",
    "  foreach ((char, string) substitution in substitutions)\n",
    "    if (substitution.Item1 == input)\n",
    "      return substitution.Item2;\n",
    "  return $\"{input}\";\n",
    "}"
   ]
  },
  {
   "cell_type": "markdown",
   "id": "90ab5eae",
   "metadata": {},
   "source": [
    "Oh no!\n",
    "We're back in the land of duplication.\n",
    "This looks way too much like the implementation `substituteChar` right?\n",
    "\n",
    "One way of dealing with this duplication involves realizing that any `char` always can be converted into a `string`.\n",
    "Which in turn means that any `(char, char)` tuple can be turned into a `(char, string)` tuple.\n",
    "Which in turn means that any array of substitutions on the form `(char, char)[]` can be turned into an array of type `(char, string)[]`.\n",
    "Finally, since the method `substituteString` returns a `string` anyway, we might as well convert its input substitutions from `(char,char)[]` to `(char,string)[]` and then simply call `substituteCharUsingString` for each character substitution instead.\n",
    "This however only eliminates the duplication between the two methods that take strings as input.\n",
    "\n",
    "%You'll get the exciting but slightly mind-bending task of eliminating this duplication using this strategy.\n",
    "%However, since the names are getting too long and confusing at this point we'll postpone this exercise until we've learned about [overloading](overloading) so that we don't have to come up with so many unique method/function names.\n",
    "\n",
    "\n",
    "\n",
    "\n",
    "## Exercises\n",
    "\n",
    "```{exercise}\n",
    "In the context of local functions or methods, define what the following terms mean using your own words.\n",
    "\n",
    "1. The *name* of a function/method.\n",
    "2. The *return type* of a function/method.\n",
    "3. The *list of parameters* of a function/method.\n",
    "4. The *implementation* of a function/method.\n",
    "```\n",
    "\n",
    "```{exercise}\n",
    "What is the difference between a method/function that returns `null` and one that returns `void`?\n",
    "In what cases would you use one and in one what cases would you use the other?\n",
    "```\n",
    "\n",
    "\n",
    "```{exercise-start}\n",
    ":label: ex:methods-char-to-int\n",
    "```\n",
    "\n",
    "Write a local function with the signature:\n",
    "\n",
    "```csharp\n",
    "int charToInt (char input);\n",
    "```\n",
    "\n",
    "The method should return a number that represents the character it was given, based on the scheme below."
   ]
  },
  {
   "cell_type": "code",
   "execution_count": 25,
   "id": "750826f7",
   "metadata": {
    "tags": [
     "remove-input",
     "hide-output"
    ]
   },
   "outputs": [
    {
     "name": "stdout",
     "output_type": "stream",
     "text": [
      "A => 0\n",
      "B => 1\n",
      "C => 2\n",
      "D => 3\n",
      "E => 4\n",
      "F => 5\n",
      "G => 6\n",
      "H => 7\n",
      "I => 8\n",
      "J => 9\n",
      "K => 10\n",
      "L => 11\n",
      "M => 12\n",
      "N => 13\n",
      "O => 14\n",
      "P => 15\n",
      "Q => 16\n",
      "R => 17\n",
      "S => 18\n",
      "T => 19\n",
      "U => 20\n",
      "V => 21\n",
      "W => 22\n",
      "X => 23\n",
      "Y => 24\n",
      "Z => 25\n",
      "a => 26\n",
      "b => 27\n",
      "c => 28\n",
      "d => 29\n",
      "e => 30\n",
      "f => 31\n",
      "g => 32\n",
      "h => 33\n",
      "i => 34\n",
      "j => 35\n",
      "k => 36\n",
      "l => 37\n",
      "m => 38\n",
      "n => 39\n",
      "o => 40\n",
      "p => 41\n",
      "q => 42\n",
      "r => 43\n",
      "s => 44\n",
      "t => 45\n",
      "u => 46\n",
      "v => 47\n",
      "w => 48\n",
      "x => 49\n",
      "y => 50\n",
      "z => 51\n",
      "\n"
     ]
    }
   ],
   "source": [
    "string letters = \"ABCDEFGHIJKLMNOPQRSTUVWXYZabcdefghijklmnopqrstuvwxyz\";\n",
    "\n",
    "string output=\"\";\n",
    "for (int i=0; i<letters.Length; i++)\n",
    "  output += $\"{letters[i]} => {i}\\n\";\n",
    "\n",
    "Console.WriteLine(output);"
   ]
  },
  {
   "cell_type": "markdown",
   "id": "ed97ff1c",
   "metadata": {},
   "source": [
    "All other characters return `-1`.\n",
    "```{exercise-end}\n",
    "```\n",
    "\n",
    "\n",
    "\n",
    "```{exercise}\n",
    "Think back to the definitions of [total and partial functions](functions).\n",
    "Is the function you've defined in {numref}`ex:methods-char-to-int` total or partial?\n",
    "```\n",
    "\n",
    "\n",
    "````{exercise}\n",
    ":label: ex:methods-leet\n",
    "In {numref}`ex:iteration-leet` we wrote a program that can encode any given `string` in the Leet language.\n",
    "Take inspiration from the Robber's language cipher that we built in this chapter and write two local functions with the following signatures:\n",
    "\n",
    "```csharp\n",
    "char leetEncodeChar (char input);\n",
    "string leetEncodeString (string input);\n",
    "```\n",
    "\n",
    "The local function that maps from `string` to `string` should call the local function that maps from `char` to `char`.\n",
    "Think of how we split the problem in two methods when implementing the Robber's cipher.\n",
    "Same thing here.\n",
    "\n",
    "Please see the usage example below:\n",
    "\n",
    "```csharp\n",
    "Console.WriteLine(leetEncodeChar('A'));\n",
    "Console.WriteLine(leetEncodeChar('5'));\n",
    "Console.WriteLine(leetEncodeString(\"LEET 1015\"));\n",
    "```\n",
    "\n",
    "```output\n",
    "4\n",
    "S\n",
    "1337 LOLS\n",
    "```\n",
    "\n",
    "Note: In this exercise you are expected to implement the substitution algorithm directly *without* using the local functions `substituteChar` and `substituteString` that we defined earlier in this chapter.\n",
    "````\n",
    "\n",
    "```{exercise-start}\n",
    "```\n",
    "In this exercise we are going to implement the Leet language using the local function `substituteString` that we defined earlier in this chapter.\n",
    "Declare and initialize a variable with the following name and type:\n",
    "\n",
    "```csharp\n",
    "(char, char)[] leetSubstitutions;\n",
    "```\n",
    "\n",
    "The variable should contain all the substitutions necessary for the Leet language."
   ]
  },
  {
   "cell_type": "code",
   "execution_count": 26,
   "id": "713ebfb8",
   "metadata": {},
   "outputs": [],
   "source": [
    "(char,char)[] leetSubstitutions = new (char,char)[] {\n",
    "  ('A', '4'),\n",
    "  ('4', 'A'),\n",
    "  ('E', '3'),\n",
    "  ('3', 'E'),\n",
    "  ('L', '1'),\n",
    "  ('1', 'L'),\n",
    "  ('O', '0'),\n",
    "  ('0', 'O'),\n",
    "  ('S', '5'),\n",
    "  ('5', 'S'),\n",
    "  ('T', '7'),\n",
    "  ('7', 'T')\n",
    "};"
   ]
  },
  {
   "cell_type": "markdown",
   "id": "44d098e7",
   "metadata": {},
   "source": [
    "We should be able to use the variable as an argument to the local function `substituteString`:"
   ]
  },
  {
   "cell_type": "code",
   "execution_count": 27,
   "id": "a8bc8262",
   "metadata": {},
   "outputs": [
    {
     "name": "stdout",
     "output_type": "stream",
     "text": [
      "LEET 1015\n"
     ]
    }
   ],
   "source": [
    "Console.WriteLine(\n",
    "  substituteString(\"1337 LOLS\", leetSubstitutions)\n",
    ");"
   ]
  },
  {
   "cell_type": "markdown",
   "id": "7a7b0728",
   "metadata": {},
   "source": [
    "Since the variable contains all the substitutions necessary for the the Leet language you should also be able to iterate over it using a `foreach`:"
   ]
  },
  {
   "cell_type": "code",
   "execution_count": 28,
   "id": "b9efaf39",
   "metadata": {
    "tags": [
     "hide-output"
    ]
   },
   "outputs": [
    {
     "name": "stdout",
     "output_type": "stream",
     "text": [
      "A => 4\n"
     ]
    },
    {
     "name": "stdout",
     "output_type": "stream",
     "text": [
      "4 => A\n"
     ]
    },
    {
     "name": "stdout",
     "output_type": "stream",
     "text": [
      "E => 3\n"
     ]
    },
    {
     "name": "stdout",
     "output_type": "stream",
     "text": [
      "3 => E\n"
     ]
    },
    {
     "name": "stdout",
     "output_type": "stream",
     "text": [
      "L => 1\n"
     ]
    },
    {
     "name": "stdout",
     "output_type": "stream",
     "text": [
      "1 => L\n"
     ]
    },
    {
     "name": "stdout",
     "output_type": "stream",
     "text": [
      "O => 0\n"
     ]
    },
    {
     "name": "stdout",
     "output_type": "stream",
     "text": [
      "0 => O\n"
     ]
    },
    {
     "name": "stdout",
     "output_type": "stream",
     "text": [
      "S => 5\n"
     ]
    },
    {
     "name": "stdout",
     "output_type": "stream",
     "text": [
      "5 => S\n"
     ]
    },
    {
     "name": "stdout",
     "output_type": "stream",
     "text": [
      "T => 7\n"
     ]
    },
    {
     "name": "stdout",
     "output_type": "stream",
     "text": [
      "7 => T\n"
     ]
    }
   ],
   "source": [
    "foreach ((char,char) sub in leetSubstitutions)\n",
    "  Console.WriteLine($\"{sub.Item1} => {sub.Item2}\");"
   ]
  },
  {
   "cell_type": "markdown",
   "id": "c96a42d3",
   "metadata": {},
   "source": [
    "```{exercise-end}\n",
    "```\n",
    "\n",
    "\n",
    "\n",
    "\n",
    "```{exercise-start}\n",
    ":label: ex:methods-robbers-substitutions\n",
    "```\n",
    "Write a local function with the following signature:\n",
    "\n",
    "```csharp\n",
    "(char,string)[] makeRobbersSubstitutions (char vowel);\n",
    "```\n",
    "\n",
    "The method should return an array of `(char,string)` substitutions for the Robber's language when given a `vowel` as input.\n",
    "\n",
    "Since the method returns returns an array of `(char,string)` pairs and not `(char,char)` pairs you should be able to use any result of calling the method as the second argument to `substituteCharUsingString`:"
   ]
  },
  {
   "cell_type": "code",
   "execution_count": 29,
   "id": "50936dd1",
   "metadata": {
    "tags": [
     "remove-input"
    ]
   },
   "outputs": [],
   "source": [
    "(char,string)[] makeRobbersSubstitutions (char vowel)\n",
    "  => new (char,string)[] {\n",
    "      ('B', $\"B{vowel}B\"),\n",
    "      ('C', $\"C{vowel}C\"),\n",
    "      ('D', $\"D{vowel}D\"),\n",
    "      ('F', $\"F{vowel}F\"),\n",
    "      ('G', $\"G{vowel}G\"),\n",
    "      ('H', $\"H{vowel}H\"),\n",
    "      ('J', $\"J{vowel}J\"),\n",
    "      ('K', $\"K{vowel}K\"),\n",
    "      ('L', $\"L{vowel}L\"),\n",
    "      ('M', $\"M{vowel}M\"),\n",
    "      ('N', $\"N{vowel}N\"),\n",
    "      ('P', $\"P{vowel}P\"),\n",
    "      ('Q', $\"Q{vowel}Q\"),\n",
    "      ('R', $\"R{vowel}R\"),\n",
    "      ('S', $\"S{vowel}S\"),\n",
    "      ('T', $\"T{vowel}T\"),\n",
    "      ('V', $\"V{vowel}V\"),\n",
    "      ('X', $\"X{vowel}X\"),\n",
    "      ('Y', $\"Y{vowel}Y\"),\n",
    "      ('Z', $\"Z{vowel}Z\"),\n",
    "      ('b', $\"b{vowel}b\"),\n",
    "      ('c', $\"c{vowel}c\"),\n",
    "      ('d', $\"d{vowel}d\"),\n",
    "      ('f', $\"f{vowel}f\"),\n",
    "      ('g', $\"g{vowel}g\"),\n",
    "      ('h', $\"h{vowel}h\"),\n",
    "      ('j', $\"j{vowel}j\"),\n",
    "      ('k', $\"k{vowel}k\"),\n",
    "      ('l', $\"l{vowel}l\"),\n",
    "      ('m', $\"m{vowel}m\"),\n",
    "      ('n', $\"n{vowel}n\"),\n",
    "      ('p', $\"p{vowel}p\"),\n",
    "      ('q', $\"q{vowel}q\"),\n",
    "      ('r', $\"r{vowel}r\"),\n",
    "      ('s', $\"s{vowel}s\"),\n",
    "      ('t', $\"t{vowel}t\"),\n",
    "      ('v', $\"v{vowel}v\"),\n",
    "      ('x', $\"x{vowel}x\"),\n",
    "      ('y', $\"y{vowel}y\"),\n",
    "      ('z', $\"z{vowel}z\")\n",
    "  };"
   ]
  },
  {
   "cell_type": "code",
   "execution_count": 30,
   "id": "84cd4bde",
   "metadata": {},
   "outputs": [
    {
     "name": "stdout",
     "output_type": "stream",
     "text": [
      "lol\n"
     ]
    }
   ],
   "source": [
    "Console.WriteLine(\n",
    "  substituteCharUsingString('l',\n",
    "      makeRobbersSubstitutions('o')));"
   ]
  },
  {
   "cell_type": "markdown",
   "id": "e873160b",
   "metadata": {},
   "source": [
    "Since the method returns an array you should also be able to iterate over the substitutions using a `foreach`:"
   ]
  },
  {
   "cell_type": "code",
   "execution_count": 31,
   "id": "50f96ad3",
   "metadata": {
    "tags": [
     "hide-output"
    ]
   },
   "outputs": [
    {
     "name": "stdout",
     "output_type": "stream",
     "text": [
      "B => BaB\n"
     ]
    },
    {
     "name": "stdout",
     "output_type": "stream",
     "text": [
      "C => CaC\n"
     ]
    },
    {
     "name": "stdout",
     "output_type": "stream",
     "text": [
      "D => DaD\n"
     ]
    },
    {
     "name": "stdout",
     "output_type": "stream",
     "text": [
      "F => FaF\n"
     ]
    },
    {
     "name": "stdout",
     "output_type": "stream",
     "text": [
      "G => GaG\n"
     ]
    },
    {
     "name": "stdout",
     "output_type": "stream",
     "text": [
      "H => HaH\n"
     ]
    },
    {
     "name": "stdout",
     "output_type": "stream",
     "text": [
      "J => JaJ\n"
     ]
    },
    {
     "name": "stdout",
     "output_type": "stream",
     "text": [
      "K => KaK\n"
     ]
    },
    {
     "name": "stdout",
     "output_type": "stream",
     "text": [
      "L => LaL\n"
     ]
    },
    {
     "name": "stdout",
     "output_type": "stream",
     "text": [
      "M => MaM\n"
     ]
    },
    {
     "name": "stdout",
     "output_type": "stream",
     "text": [
      "N => NaN\n"
     ]
    },
    {
     "name": "stdout",
     "output_type": "stream",
     "text": [
      "P => PaP\n"
     ]
    },
    {
     "name": "stdout",
     "output_type": "stream",
     "text": [
      "Q => QaQ\n"
     ]
    },
    {
     "name": "stdout",
     "output_type": "stream",
     "text": [
      "R => RaR\n"
     ]
    },
    {
     "name": "stdout",
     "output_type": "stream",
     "text": [
      "S => SaS\n"
     ]
    },
    {
     "name": "stdout",
     "output_type": "stream",
     "text": [
      "T => TaT\n"
     ]
    },
    {
     "name": "stdout",
     "output_type": "stream",
     "text": [
      "V => VaV\n"
     ]
    },
    {
     "name": "stdout",
     "output_type": "stream",
     "text": [
      "X => XaX\n"
     ]
    },
    {
     "name": "stdout",
     "output_type": "stream",
     "text": [
      "Y => YaY\n"
     ]
    },
    {
     "name": "stdout",
     "output_type": "stream",
     "text": [
      "Z => ZaZ\n"
     ]
    },
    {
     "name": "stdout",
     "output_type": "stream",
     "text": [
      "b => bab\n"
     ]
    },
    {
     "name": "stdout",
     "output_type": "stream",
     "text": [
      "c => cac\n"
     ]
    },
    {
     "name": "stdout",
     "output_type": "stream",
     "text": [
      "d => dad\n"
     ]
    },
    {
     "name": "stdout",
     "output_type": "stream",
     "text": [
      "f => faf\n"
     ]
    },
    {
     "name": "stdout",
     "output_type": "stream",
     "text": [
      "g => gag\n"
     ]
    },
    {
     "name": "stdout",
     "output_type": "stream",
     "text": [
      "h => hah\n"
     ]
    },
    {
     "name": "stdout",
     "output_type": "stream",
     "text": [
      "j => jaj\n"
     ]
    },
    {
     "name": "stdout",
     "output_type": "stream",
     "text": [
      "k => kak\n"
     ]
    },
    {
     "name": "stdout",
     "output_type": "stream",
     "text": [
      "l => lal\n"
     ]
    },
    {
     "name": "stdout",
     "output_type": "stream",
     "text": [
      "m => mam\n"
     ]
    },
    {
     "name": "stdout",
     "output_type": "stream",
     "text": [
      "n => nan\n"
     ]
    },
    {
     "name": "stdout",
     "output_type": "stream",
     "text": [
      "p => pap\n"
     ]
    },
    {
     "name": "stdout",
     "output_type": "stream",
     "text": [
      "q => qaq\n"
     ]
    },
    {
     "name": "stdout",
     "output_type": "stream",
     "text": [
      "r => rar\n"
     ]
    },
    {
     "name": "stdout",
     "output_type": "stream",
     "text": [
      "s => sas\n"
     ]
    },
    {
     "name": "stdout",
     "output_type": "stream",
     "text": [
      "t => tat\n"
     ]
    },
    {
     "name": "stdout",
     "output_type": "stream",
     "text": [
      "v => vav\n"
     ]
    },
    {
     "name": "stdout",
     "output_type": "stream",
     "text": [
      "x => xax\n"
     ]
    },
    {
     "name": "stdout",
     "output_type": "stream",
     "text": [
      "y => yay\n"
     ]
    },
    {
     "name": "stdout",
     "output_type": "stream",
     "text": [
      "z => zaz\n"
     ]
    }
   ],
   "source": [
    "(char,string)[] substitutions = makeRobbersSubstitutions('a');\n",
    "foreach ((char,string) sub in substitutions)\n",
    "  Console.WriteLine($\"{sub.Item1} => {sub.Item2}\");"
   ]
  },
  {
   "cell_type": "markdown",
   "id": "dd1e54a6",
   "metadata": {},
   "source": [
    "```{exercise-end}\n",
    "```\n",
    "\n",
    "\n",
    "\n",
    "````{exercise}\n",
    ":label: ex:methods-charchar-to-charstring\n",
    "Write a method that takes an array of `(char, char)` tuples and returns a new array of `(char, string)` tuples without loosing any information.\n",
    "It should have the following signature:\n",
    "\n",
    "```csharp\n",
    "(char,string)[] charCharArrayToCharStringArray ((char, char)[] substitutions);\n",
    "```\n",
    "````\n",
    "\n",
    "\n",
    "%```csharp\n",
    "%Write a method with the following signature:\n",
    "%\n",
    "%```csharp\n",
    "%bool isVowel (char letter);\n",
    "%```\n",
    "%\n",
    "%If the letter is a vowel then the method should return `true` and if the letter is \n",
    "%\n",
    "%Feel free to start with the code that you wrote in {numref}`ex:selection-is-vowel`.\n",
    "%```\n",
    "\n",
    "%### Modulo\n",
    "%\n",
    "%Unecssarily complicated because of negative numbers.\n",
    "%% This will be useful when we get to Caesar ciphers.\n",
    "%\n",
    "%```{exercise}\n",
    "%int dividend = -10\n",
    "%int divisor = 3;\n",
    "%\n",
    "%int modulo = dividend % divisor;\n",
    "%if (modulo < 0)\n",
    "%  modulo += divisor;\n",
    "%\n",
    "%Console.WriteLine(modulo);\n",
    "%```"
   ]
  }
 ],
 "metadata": {
  "jupytext": {
   "formats": "md:myst",
   "text_representation": {
    "extension": ".md",
    "format_name": "myst"
   }
  },
  "kernelspec": {
   "display_name": "csharp",
   "language": ".net-csharp",
   "name": ".net-csharp"
  },
  "language_info": {
   "file_extension": ".cs",
   "mimetype": "text/x-csharp",
   "name": "C#",
   "pygments_lexer": "csharp",
   "version": "10.0"
  },
  "source_map": [
   11,
   76,
   81,
   118,
   120,
   124,
   127,
   156,
   158,
   165,
   167,
   199,
   207,
   212,
   214,
   227,
   242,
   247,
   249,
   259,
   274,
   280,
   284,
   286,
   299,
   306,
   327,
   331,
   333,
   337,
   345,
   354,
   357,
   388,
   394,
   402,
   498,
   514,
   520,
   528,
   532,
   534,
   561,
   569,
   616,
   625,
   681,
   696,
   700,
   704,
   708,
   712,
   732,
   778,
   782,
   786,
   791
  ]
 },
 "nbformat": 4,
 "nbformat_minor": 5
}