{
 "cells": [
  {
   "cell_type": "markdown",
   "id": "abc723f5",
   "metadata": {},
   "source": [
    "# Variant generic interfaces\n",
    "\n",
    "```{warning}\n",
    "Work in progress.\n",
    "```\n",
    "\n",
    "## Examples\n",
    "\n",
    "\n",
    "### Predicates\n",
    "\n",
    "What's an example of something that could be contravariant?\n",
    "How about predicates?"
   ]
  },
  {
   "cell_type": "code",
   "execution_count": 1,
   "id": "1bc8c720",
   "metadata": {},
   "outputs": [
    {
     "data": {
      "text/html": [
       "\r\n",
       "<div>\r\n",
       "    <div id='dotnet-interactive-this-cell-4057.Microsoft.DotNet.Interactive.Http.HttpPort' style='display: none'>\r\n",
       "        The below script needs to be able to find the current output cell; this is an easy method to get it.\r\n",
       "    </div>\r\n",
       "    <script type='text/javascript'>\r\n",
       "async function probeAddresses(probingAddresses) {\r\n",
       "    function timeout(ms, promise) {\r\n",
       "        return new Promise(function (resolve, reject) {\r\n",
       "            setTimeout(function () {\r\n",
       "                reject(new Error('timeout'))\r\n",
       "            }, ms)\r\n",
       "            promise.then(resolve, reject)\r\n",
       "        })\r\n",
       "    }\r\n",
       "\r\n",
       "    if (Array.isArray(probingAddresses)) {\r\n",
       "        for (let i = 0; i < probingAddresses.length; i++) {\r\n",
       "\r\n",
       "            let rootUrl = probingAddresses[i];\r\n",
       "\r\n",
       "            if (!rootUrl.endsWith('/')) {\r\n",
       "                rootUrl = `${rootUrl}/`;\r\n",
       "            }\r\n",
       "\r\n",
       "            try {\r\n",
       "                let response = await timeout(1000, fetch(`${rootUrl}discovery`, {\r\n",
       "                    method: 'POST',\r\n",
       "                    cache: 'no-cache',\r\n",
       "                    mode: 'cors',\r\n",
       "                    timeout: 1000,\r\n",
       "                    headers: {\r\n",
       "                        'Content-Type': 'text/plain'\r\n",
       "                    },\r\n",
       "                    body: probingAddresses[i]\r\n",
       "                }));\r\n",
       "\r\n",
       "                if (response.status == 200) {\r\n",
       "                    return rootUrl;\r\n",
       "                }\r\n",
       "            }\r\n",
       "            catch (e) { }\r\n",
       "        }\r\n",
       "    }\r\n",
       "}\r\n",
       "\r\n",
       "function loadDotnetInteractiveApi() {\r\n",
       "    probeAddresses([\"http://10.1.1.144:1024/\", \"http://127.0.0.1:1024/\"])\r\n",
       "        .then((root) => {\r\n",
       "        // use probing to find host url and api resources\r\n",
       "        // load interactive helpers and language services\r\n",
       "        let dotnetInteractiveRequire = require.config({\r\n",
       "        context: '4057.Microsoft.DotNet.Interactive.Http.HttpPort',\r\n",
       "                paths:\r\n",
       "            {\r\n",
       "                'dotnet-interactive': `${root}resources`\r\n",
       "                }\r\n",
       "        }) || require;\r\n",
       "\r\n",
       "            window.dotnetInteractiveRequire = dotnetInteractiveRequire;\r\n",
       "\r\n",
       "            window.configureRequireFromExtension = function(extensionName, extensionCacheBuster) {\r\n",
       "                let paths = {};\r\n",
       "                paths[extensionName] = `${root}extensions/${extensionName}/resources/`;\r\n",
       "                \r\n",
       "                let internalRequire = require.config({\r\n",
       "                    context: extensionCacheBuster,\r\n",
       "                    paths: paths,\r\n",
       "                    urlArgs: `cacheBuster=${extensionCacheBuster}`\r\n",
       "                    }) || require;\r\n",
       "\r\n",
       "                return internalRequire\r\n",
       "            };\r\n",
       "        \r\n",
       "            dotnetInteractiveRequire([\r\n",
       "                    'dotnet-interactive/dotnet-interactive'\r\n",
       "                ],\r\n",
       "                function (dotnet) {\r\n",
       "                    dotnet.init(window);\r\n",
       "                },\r\n",
       "                function (error) {\r\n",
       "                    console.log(error);\r\n",
       "                }\r\n",
       "            );\r\n",
       "        })\r\n",
       "        .catch(error => {console.log(error);});\r\n",
       "    }\r\n",
       "\r\n",
       "// ensure `require` is available globally\r\n",
       "if ((typeof(require) !==  typeof(Function)) || (typeof(require.config) !== typeof(Function))) {\r\n",
       "    let require_script = document.createElement('script');\r\n",
       "    require_script.setAttribute('src', 'https://cdnjs.cloudflare.com/ajax/libs/require.js/2.3.6/require.min.js');\r\n",
       "    require_script.setAttribute('type', 'text/javascript');\r\n",
       "    \r\n",
       "    \r\n",
       "    require_script.onload = function() {\r\n",
       "        loadDotnetInteractiveApi();\r\n",
       "    };\r\n",
       "\r\n",
       "    document.getElementsByTagName('head')[0].appendChild(require_script);\r\n",
       "}\r\n",
       "else {\r\n",
       "    loadDotnetInteractiveApi();\r\n",
       "}\r\n",
       "\r\n",
       "    </script>\r\n",
       "</div>"
      ]
     },
     "metadata": {},
     "output_type": "display_data"
    }
   ],
   "source": [
    "interface IPredicate<in T> // Contravariant!\n",
    "{\n",
    "  bool Check (T input);\n",
    "}"
   ]
  },
  {
   "cell_type": "markdown",
   "id": "c8be5fbc",
   "metadata": {},
   "source": [
    "Let's say that we have a subtyping hierarchy where `Rectangle` is a subtype of the interface `IShape`."
   ]
  },
  {
   "cell_type": "code",
   "execution_count": 2,
   "id": "d11ae952",
   "metadata": {},
   "outputs": [],
   "source": [
    "interface IShape\n",
    "{\n",
    "  public double Area ();\n",
    "}\n",
    "\n",
    "class Rectangle : IShape\n",
    "{\n",
    "  int width, height;\n",
    "  public Rectangle (int width, int height)\n",
    "  {\n",
    "    this.width = width;\n",
    "    this.height = height;\n",
    "  }\n",
    "  public double Area () => width * height;\n",
    "}"
   ]
  },
  {
   "cell_type": "markdown",
   "id": "23c29d5b",
   "metadata": {},
   "source": [
    "Let us then define a predicate that works on objects of type `Shape`."
   ]
  },
  {
   "cell_type": "code",
   "execution_count": 3,
   "id": "cca5a1d9",
   "metadata": {},
   "outputs": [],
   "source": [
    "class LargerThan : IPredicate<IShape>\n",
    "{\n",
    "  double lim;\n",
    "  public LargerThan (double lim) => this.lim = lim;\n",
    "  public bool Check (IShape shape) => shape.Area() > lim;\n",
    "}"
   ]
  },
  {
   "cell_type": "markdown",
   "id": "b6333ba2",
   "metadata": {},
   "source": [
    "Since the type parameter in `IPredicate` is contravariant we can now use values of type `IPredicate<IShape>` where values of type `IPredicate<Rectangle>` are expected."
   ]
  },
  {
   "cell_type": "code",
   "execution_count": 4,
   "id": "d0d9d629",
   "metadata": {},
   "outputs": [],
   "source": [
    "IPredicate<IShape> shapePredicate = new LargerThan(2);\n",
    "IPredicate<Rectangle> p = shapePredicate; // Needs contravariance."
   ]
  },
  {
   "cell_type": "markdown",
   "id": "5e5a1082",
   "metadata": {},
   "source": [
    "Without `T` marked as covariant we would get the following error:"
   ]
  },
  {
   "cell_type": "code",
   "execution_count": 5,
   "id": "8c30a47a",
   "metadata": {
    "tags": [
     "hide-input",
     "raises-exception"
    ]
   },
   "outputs": [
    {
     "name": "stderr",
     "output_type": "stream",
     "text": [
      "\n",
      "(30,27): error CS0266: Cannot implicitly convert type 'IPredicate<IShape>' to 'IPredicate<Rectangle>'. An explicit conversion exists (are you missing a cast?)\n",
      "\n"
     ]
    },
    {
     "ename": "Error",
     "evalue": "compilation error",
     "output_type": "error",
     "traceback": []
    }
   ],
   "source": [
    "interface IPredicate<T>\n",
    "{\n",
    "  bool Check (T input);\n",
    "}\n",
    "\n",
    "interface IShape\n",
    "{\n",
    "  public double Area ();\n",
    "}\n",
    "\n",
    "class Rectangle : IShape\n",
    "{\n",
    "  int width, height;\n",
    "  public Rectangle (int width, int height)\n",
    "  {\n",
    "    this.width = width;\n",
    "    this.height = height;\n",
    "  }\n",
    "  public double Area () => width * height;\n",
    "}\n",
    "\n",
    "class LargerThan : IPredicate<IShape>\n",
    "{\n",
    "  double lim;\n",
    "  public LargerThan (double lim) => this.lim = lim;\n",
    "  public bool Check (IShape shape) => shape.Area() > lim;\n",
    "}\n",
    "\n",
    "IPredicate<IShape> shapePredicate = new LargerThan(2);\n",
    "IPredicate<Rectangle> p = shapePredicate; // Needs contravariance."
   ]
  },
  {
   "cell_type": "markdown",
   "id": "90eb556d",
   "metadata": {},
   "source": [
    "%``{code-cell} csharp\n",
    "%//class ConditionalCipher<T> : ICipher<T,T>\n",
    "%//{\n",
    "%//  ICipher<T,T> cipher;\n",
    "%//  IPredicate<T> predicate;\n",
    "%//  public ConditionalCipher (ICipher<T,T> cipher, IPredicate<T> predicate)\n",
    "%//  {\n",
    "%//    this.cipher = cipher;\n",
    "%//    this.predicate = predicate;\n",
    "%//  }\n",
    "%//\n",
    "%//  public T Encode (T input)\n",
    "%//  {\n",
    "%//    if (predicate.Check(input))\n",
    "%//      return cipher.Encode(input);\n",
    "%//    else\n",
    "%//      return input;\n",
    "%//  }\n",
    "%//}\n",
    "%``\n",
    "\n",
    "\n",
    "\n",
    "### Variant ciphers\n",
    "\n",
    "Remember `ICipher<TIn,TOut>` from the chapter on on [generic types](generic-types:icipher)?\n",
    "If you think about it, `TIn` is only used as input, and `TOut` is only used as output.\n",
    "Consequently, we can, without causing any issues mark `TIn` as being contravariant and `TOut` as being covariant."
   ]
  },
  {
   "cell_type": "code",
   "execution_count": 6,
   "id": "89958253",
   "metadata": {},
   "outputs": [],
   "source": [
    "interface ICipher<in TIn, out TOut>\n",
    "{\n",
    "  TOut Encode (TIn input);\n",
    "}"
   ]
  },
  {
   "cell_type": "markdown",
   "id": "b25c6f45",
   "metadata": {},
   "source": [
    "Let's then assume that we've got a cipher that implements this interface.\n",
    "For the sake of simplicity, let's pick the constant cipher."
   ]
  },
  {
   "cell_type": "code",
   "execution_count": 7,
   "id": "8413cc22",
   "metadata": {},
   "outputs": [],
   "source": [
    "class ConstantCipher<TIn, TOut> : ICipher<TIn,TOut>\n",
    "{\n",
    "  TOut output;\n",
    "  public ConstantCipher (TOut output) => this.output = output;\n",
    "  public TOut Encode (TIn input) => output;\n",
    "}"
   ]
  },
  {
   "cell_type": "markdown",
   "id": "f6f5c442",
   "metadata": {},
   "source": [
    "Let's then assume that we have a simple type hierarchy like this:"
   ]
  },
  {
   "cell_type": "code",
   "execution_count": 8,
   "id": "352ac4c2",
   "metadata": {},
   "outputs": [],
   "source": [
    "class Animal {}\n",
    "class Cat : Animal {}"
   ]
  },
  {
   "cell_type": "markdown",
   "id": "045b07d2",
   "metadata": {},
   "source": [
    "Since `TIn` is marked as being contravariant and `TOut` is marked as being covariant we can now do the following:"
   ]
  },
  {
   "cell_type": "code",
   "execution_count": 9,
   "id": "4a0bc080",
   "metadata": {},
   "outputs": [],
   "source": [
    "Cat output = new Cat();\n",
    "ICipher<Cat,Animal> cipher = new ConstantCipher<Animal,Cat>(output);"
   ]
  },
  {
   "cell_type": "markdown",
   "id": "9a50accd",
   "metadata": {},
   "source": [
    "Notice how the type arguments on the left says `<Cat,Animal>` while the type arguments on the right says `<Animal,Cat>`.\n",
    "\n",
    "\n",
    "\n",
    "\n",
    "\n",
    "(variant-generic-interfaces:cipher-factories)=\n",
    "### Cipher factories\n",
    "\n",
    "Let's look at a contravariant example that can be used in the context of our ciphers.\n",
    "Let's model a type that can spit out any number of objects of another type.\n",
    "You can think of this as a [factory](factory-method-pattern), a stream, a sequence, an infinite list, or an [iterator](iterator-pattern)."
   ]
  },
  {
   "cell_type": "code",
   "execution_count": 10,
   "id": "c0ee09a5",
   "metadata": {},
   "outputs": [],
   "source": [
    "interface IFactory<out T>\n",
    "{\n",
    "  T Next ();\n",
    "  IEnumerable<T> Take (int n);\n",
    "}"
   ]
  },
  {
   "cell_type": "markdown",
   "id": "c07f200f",
   "metadata": {},
   "source": [
    "The method `Next` returns the next element in the sequence.\n",
    "The method `Take` returns the `n` number of next elements in the sequence wrapped in an `IEnumerable` which you can think of as a read-only collection.\n",
    "You can read more about `IEnumerable` in a [later chapter](ienumerable).\n",
    "\n",
    "Let's first define an abstract factory that other factories can inherit from so that we won't have to reimplement the `Take` method for all factories."
   ]
  },
  {
   "cell_type": "code",
   "execution_count": 11,
   "id": "e57f3be4",
   "metadata": {},
   "outputs": [],
   "source": [
    "abstract class Factory<T> : IFactory<T>\n",
    "{\n",
    "  public abstract T Next();\n",
    "  public IEnumerable<T> Take (int n)\n",
    "  {\n",
    "    List<T> result = new List<T>();\n",
    "    for (int i=0; i<n; i++)\n",
    "      result.Add(Next());\n",
    "    return result;\n",
    "  }\n",
    "}"
   ]
  },
  {
   "cell_type": "markdown",
   "id": "34dd2128",
   "metadata": {},
   "source": [
    "Our old trusted friend `CaesarCipher` remains the same, except that we've now also exposed the `steps` parameter as a property that publicly can be read and privately set."
   ]
  },
  {
   "cell_type": "code",
   "execution_count": 12,
   "id": "3aec05e3",
   "metadata": {
    "tags": [
     "hide-input"
    ]
   },
   "outputs": [],
   "source": [
    "interface ICipher<TIn, TOut>\n",
    "{\n",
    "  TOut Encode (TIn input);\n",
    "}\n",
    "\n",
    "class CaesarCipher : ICipher<char,char>\n",
    "{\n",
    "  public int Steps { get; private set; }\n",
    "\n",
    "  public CaesarCipher (int Steps)\n",
    "    => this.Steps = Steps;\n",
    "\n",
    "  public char Encode (char input)\n",
    "  {\n",
    "    string alphabet = \"ABCDEFGHIJKLMNOPQRSTUVXYZ\";\n",
    "    int i = alphabet.IndexOf(Char.ToUpper(input));\n",
    "    int newIndex = (i + Steps) % alphabet.Length;\n",
    "    if (i != -1)\n",
    "    {\n",
    "      if (newIndex < 0)\n",
    "        newIndex += alphabet.Length;\n",
    "\n",
    "      if (Char.IsLower(input))\n",
    "        return Char.ToLower(alphabet[newIndex]);\n",
    "      else\n",
    "        return alphabet[newIndex];\n",
    "    }\n",
    "    return input;\n",
    "  }\n",
    "}"
   ]
  },
  {
   "cell_type": "markdown",
   "id": "035a85ec",
   "metadata": {},
   "source": [
    "Let's now build two factories that yield instances of `CaesarCipher`.\n",
    "The first cipher that the factories generate will have `Steps` set to `0`.\n",
    "Upon every subsequent generation of a new factory, the factories will either increment or decrement the counter used to determine what number of `Steps` the next cipher will be instantiated with."
   ]
  },
  {
   "cell_type": "code",
   "execution_count": 13,
   "id": "556c00bf",
   "metadata": {},
   "outputs": [],
   "source": [
    "class IncrementingCaesarCipherFactory : Factory<CaesarCipher>\n",
    "{\n",
    "  int i = 0;\n",
    "  public override CaesarCipher Next () => new CaesarCipher(i++);\n",
    "}\n",
    "\n",
    "class DecrementingCaesarCipherFactory : Factory<CaesarCipher>\n",
    "{\n",
    "  int i = 0;\n",
    "  public override CaesarCipher Next () => new CaesarCipher(i--);\n",
    "}"
   ]
  },
  {
   "cell_type": "markdown",
   "id": "1113dd46",
   "metadata": {},
   "source": [
    "So what can we do with this?\n",
    "Well, since `T` in the factory interface is covariant, we can assign a typed as a factory that generates subtypes to a variable typed as a factory that generates the supertype."
   ]
  },
  {
   "cell_type": "code",
   "execution_count": 14,
   "id": "d14febbd",
   "metadata": {},
   "outputs": [],
   "source": [
    "IFactory<CaesarCipher> caesarFactory = new IncrementingCaesarCipherFactory();\n",
    "IFactory<ICipher<char,char>> charFactory = caesarFactory; // Needs covariance."
   ]
  },
  {
   "cell_type": "markdown",
   "id": "873a5569",
   "metadata": {},
   "source": [
    "Why would this be useful?\n",
    "Well, sometimes we want to be able to treat a variable as its specific type, and sometimes we want to treat it as its general type.\n",
    "\n",
    "In the example below, we have two methods that take factories of different type.\n",
    "Since `T` in the factory interface is covariant we can pass the value of type `IFactory<CaesarCipher>` to both methods even though one of them excepts a value of type `IFactory<ICipher<char,char>>`.\n",
    "Why?\n",
    "Because a supertype of `CaesarCipher` is `ICipher<char,char>` and the type parameter where we apply this type is covariant."
   ]
  },
  {
   "cell_type": "code",
   "execution_count": 15,
   "id": "cf4a81eb",
   "metadata": {},
   "outputs": [
    {
     "name": "stdout",
     "output_type": "stream",
     "text": [
      "ABCDE\n"
     ]
    },
    {
     "name": "stdout",
     "output_type": "stream",
     "text": [
      "5=>F 6=>G 7=>H 8=>I 9=>J \n"
     ]
    }
   ],
   "source": [
    "string encodeAny (int n, IFactory<ICipher<char,char>> factory) {\n",
    "  string output = \"\";\n",
    "  foreach (ICipher<char,char> cipher in factory.Take(n))\n",
    "    output += cipher.Encode('A');\n",
    "  return output;\n",
    "}\n",
    "\n",
    "string encodeCaesar (int n, IFactory<CaesarCipher> factory) {\n",
    "  string output = \"\";\n",
    "  foreach (CaesarCipher cipher in factory.Take(n))\n",
    "    output += $\"{cipher.Steps}=>{cipher.Encode('A')} \";\n",
    "  return output;\n",
    "}\n",
    "\n",
    "IFactory<CaesarCipher> factory = new IncrementingCaesarCipherFactory();\n",
    "\n",
    "Console.WriteLine(encodeAny(5, factory));\n",
    "Console.WriteLine(encodeCaesar(5, factory)); // Needs covariance."
   ]
  },
  {
   "cell_type": "markdown",
   "id": "aa0c8430",
   "metadata": {},
   "source": [
    "## Exercises\n",
    "\n",
    "```{exercise}\n",
    "In the chapter on [generic types](generic-types:icipher) we introduced the generic interface `ICipher<TIn,TOut>`.\n",
    "Both type parameters in this generic type *can* be variant.\n",
    "Explain why this in your own words and write a new version of `ICipher` where the type parameters are variant.\n",
    "```\n",
    "\n",
    "```{exercise}\n",
    "Come up with and implement your own example of an interface with a type parameter that usefully exhibits covariance.\n",
    "Give an example in code where you are using the fact that the type parameter is covariant.\n",
    "```\n",
    "\n",
    "```{exercise}\n",
    "Come up with and implement your own example of an interface with a type parameter that usefully exhibits contravariance.\n",
    "Give an example in code where you are using the fact that the type parameter is covariant.\n",
    "```\n",
    "\n",
    "```{exercise-start}\n",
    "```\n",
    "Why does the following code generate a compiler-error?"
   ]
  },
  {
   "cell_type": "code",
   "execution_count": 16,
   "id": "ad55f10a",
   "metadata": {
    "tags": [
     "raises-exception",
     "remove-output"
    ]
   },
   "outputs": [
    {
     "name": "stderr",
     "output_type": "stream",
     "text": [
      "\n",
      "(4,12): error CS1961: Invalid variance: The type parameter 'T' must be contravariantly valid on 'IBox<T>.Set(T)'. 'T' is covariant.\n",
      "\n"
     ]
    },
    {
     "ename": "Error",
     "evalue": "compilation error",
     "output_type": "error",
     "traceback": []
    }
   ],
   "source": [
    "interface IBox<out T>\n",
    "{\n",
    "  T Get ();\n",
    "  void Set(T x);\n",
    "}"
   ]
  },
  {
   "cell_type": "markdown",
   "id": "9e518fa1",
   "metadata": {},
   "source": [
    "```{exercise-end}\n",
    "```\n",
    "\n",
    "```{exercise-start}\n",
    "```\n",
    "Why does the method `Set` in the following code example *not* generate a compiler-error even though `T` is marked as covariant."
   ]
  },
  {
   "cell_type": "code",
   "execution_count": 17,
   "id": "560487da",
   "metadata": {},
   "outputs": [],
   "source": [
    "interface IBox<out T>\n",
    "{\n",
    "  T Get ();\n",
    "}\n",
    "\n",
    "class Box<T> : IBox<T>\n",
    "{\n",
    "  T x;\n",
    "  public Box (T x) => this.x = x;\n",
    "  public T Get () => x;\n",
    "  public void Set (T x) => this.x = x;\n",
    "}"
   ]
  },
  {
   "cell_type": "markdown",
   "id": "67eedaee",
   "metadata": {},
   "source": [
    "```{exercise-end}\n",
    "```\n",
    "\n",
    "\n",
    "\n",
    "% Example of variance could be the Predicate interface from an exercise in the chapter on [abstract inject object composition](abstract-injected-object-composition:exercises:predicates). The variant type is always fed in, but never out.\n",
    "\n",
    "%%```csharp\n",
    "%%interface ICipher<in TIn, out TOut>\n",
    "%%{\n",
    "%%  public TOut Encode (TIn input);\n",
    "%%}\n",
    "%%```\n",
    "%\n",
    "%\n",
    "%\n",
    "%%```csharp\n",
    "%%Derived d = new Derived();\n",
    "%%Base b = new Base();\n",
    "%%\n",
    "%%// Example 1\n",
    "%%IBox<Derived> derivedBox = new Box<Derived>(d);\n",
    "%%IBox<Base> baseBox = derivedBox;\n",
    "%%\n",
    "%%// Example 2\n",
    "%%IBox<Base> box = new Box<Derived>(d);\n",
    "%%\n",
    "%%// Example 3 (regular polymorphism to contrast, this is not the thing)\n",
    "%%IBox<Base> different = new Box<Base>(d);\n",
    "%%\n",
    "%%\n",
    "%%class Base {}\n",
    "%%class Derived : Base {}\n",
    "%%\n",
    "%%interface IBox<out T>\n",
    "%%{\n",
    "%%  T Get ();\n",
    "%%}\n",
    "%%\n",
    "%%class Box<T> : IBox<T>\n",
    "%%{\n",
    "%%  T x;\n",
    "%%  // Constructor can still take T as input even thought IBox is covariant. Because constructors are not polymorphic and dynamically dispatched. Constructors are like static methods. Whenever we run them we know exactly what type we have.\n",
    "%%  public Box (T x) => this.x = x;\n",
    "%%  public T Get () => x;\n",
    "%%}\n",
    "%%```\n",
    "\n",
    "\n",
    "% TODO: Example where when we go from two type parameters to one:\n",
    "\n",
    "%IParent<Dog,Dog> id1 = new Identity<Dog>();\n",
    "%IParent<Dog,Animal> id2 = new Identity<Dog>();\n",
    "%IParent<Dog,Animal> id3 = new Identity<Animal>();\n",
    "%\n",
    "%interface IParent <in T1, out T2>\n",
    "%{\n",
    "%  T2 Transform (T1 input);\n",
    "%}\n",
    "%\n",
    "%class Identity<T> : IParent<T,T>\n",
    "%{\n",
    "%  public T Transform (T x) => x;\n",
    "%}\n",
    "%\n",
    "%class Animal {}\n",
    "%class Mammal : Animal {}\n",
    "%class Cat : Mammal {}\n",
    "%class Dog : Mammal {}"
   ]
  }
 ],
 "metadata": {
  "jupytext": {
   "formats": "md:myst",
   "text_representation": {
    "extension": ".md",
    "format_name": "myst"
   }
  },
  "kernelspec": {
   "display_name": "csharp",
   "language": ".net-csharp",
   "name": ".net-csharp"
  },
  "language_info": {
   "file_extension": ".cs",
   "mimetype": "text/x-csharp",
   "name": "C#",
   "pygments_lexer": "csharp",
   "version": "10.0"
  },
  "source_map": [
   11,
   27,
   32,
   36,
   52,
   56,
   63,
   67,
   70,
   74,
   106,
   138,
   143,
   148,
   155,
   159,
   162,
   166,
   169,
   184,
   190,
   198,
   210,
   214,
   246,
   252,
   264,
   269,
   272,
   282,
   301,
   325,
   332,
   339,
   352
  ]
 },
 "nbformat": 4,
 "nbformat_minor": 5
}