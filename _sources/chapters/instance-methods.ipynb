{
 "cells": [
  {
   "cell_type": "markdown",
   "id": "bae9ffc0",
   "metadata": {},
   "source": [
    "%- TODO: Also: void\n",
    "%- TODO: Use `AsString` instead of `Print` to avoid encouraging the habit of coupling to the console. Just mention that we want to call it `ToString` but we can't without warnings since we have to learn about inheritance first.\n",
    "\n",
    "\n",
    "% TODO: Usually verbs. Or implied verbs as discussed in procedures.\n",
    "\n",
    "%\n",
    "%Let's look a slightly more complicated example.\n",
    "%In some of the examples in this chapter we called the method `GetType` on values of type `string`, `int`, and `double`.\n",
    "%This means that the these types support the operation `GetType` and that this method is called using dot notation.\n",
    "%\n",
    "%``{code-cell}\n",
    "%Type t1 = \"A\".GetType();\n",
    "%Type t2 = 420.GetType();\n",
    "%Type t3 = 3.14.GetType();\n",
    "%``\n",
    "%\n",
    "%The method `GetType` is an instance method.\n",
    "%It is defined on the class `Object` and called upon instances of it, meaning on objects of that type.\n",
    "%We'll talk more about the built in types in C# in the chapter on [type hierarchies](type-hierarchies) and about [classes](classes) and [objects](objects) later.\n",
    "%What to understand now however is that `GetType` is an operation that we can call on objects of type `string` because all strings can be treated as if they are of type `Object` and since the method is defined as an instance method on that class.\n",
    "%\n",
    "\n",
    "# Instance methods\n",
    "\n",
    "## Motivation\n",
    "\n",
    "By using `public` instance fields we are violating the pricinple of \"[information hiding](information-hiding)\".\n",
    "We are breaking encapsulation.\n",
    "We discussed this problem in the chapter on [fields](fields) and said that we need to learn more in order to move from `public` to `private`.\n",
    "Now it's time for more.\n",
    "Enter \"instance methods\" and the ability to send [messages](message-passing) to objects.\n",
    "\n",
    "We've said that objects \"mix\" data *and* methods.\n",
    "We've started talking about what it means for an object to contain *data* but we have not yet talked about what it means for an object to contain *methods*.\n",
    "That's what we're talking about in this chapter.\n",
    "\n",
    "\n",
    "\n",
    "\n",
    "## Definition\n",
    "\n",
    "Instance methods are at the end of the day [methods](methods).\n",
    "Luckily, we've already talked about methods so this should be easy.\n",
    "A method has a *name*, a return type, and a parameter list including types and names.\n",
    "This is what we call the signature of the method.\n",
    "\n",
    "Many chapters ago, we discussed the notion of [static methods](static-methods).\n",
    "Static methods are also defined in classes but they are merely methods that are \"namespaced\" to the name of the class.\n",
    "Instance methods are however methods that are executed in the context of the instance upon which we've called the method.\n",
    "\n",
    "What does \"in the context of\" mean?\n",
    "The difference between [static methods](static-methods) and instance methods is essentially the same difference as the difference between [static variables](static-variables) and instance variables.\n",
    "Let's dive in to the details to unpack this.\n",
    "\n",
    "\n",
    "### Declaration\n",
    "\n",
    "In the snippet below we define an instance method where the return type is `void` (1), the method name is `Scale` (2), and the parameter list only contains a single parameter which is `(int factor)` (3).\n",
    "The first (and only) parameter type is `int` (4) and the first (and only) parameter name is `factor` (5).\n",
    "Finally the method body is empty (`{ }`) (6).\n",
    "\n",
    "```\n",
    "class Rectangle\n",
    "{\n",
    "                     _____3_______\n",
    "          _1__ __2__  _4_  ___5__\n",
    "   public void Scale (int  factor)\n",
    "   {\n",
    "     ... 6\n",
    "   }\n",
    "}\n",
    "```\n",
    "\n",
    "So what makes this an instance method rather than a static method or local function?\n",
    "Well, in C# it's the fact that we've defined the method directly within a class and that we've not added the modifier `static` before the return type.\n",
    "\n",
    "So what's different about an instance method when compared to say a [static method](static-methods) or a [local function](local-functions)?\n",
    "\n",
    "```{important}\n",
    "Instance methods are defined in classes, but they are executed in the context of an *instance* of the class rather than in the context of the class itself.\n",
    "Static methods are, in contrast, executed in the context of the class.\n",
    "```\n",
    "\n",
    "What do we mean when we say that the method is executed within the context of an *instance* of the class and not the class itself?\n",
    "Well, think about how instance [fields](fields) work.\n",
    "It's the same deal here.\n",
    "When we're setting a value to or getting a value from a field then we are setting or getting a value to or from a field on a particular object.\n",
    "Not on all objects at once.\n",
    "Not on the class, but on instances of the class.\n",
    "It's the same thing with instance methods.\n",
    "When we're calling a method then the body of the method will be executed within the context of the instance we called it upon.\n",
    "\n",
    "Remember the class `Rectangle` from the chapter on [fields](fields)?\n",
    "Let's use that as a first example.\n",
    "We'll dive in to all the details one by one in a moment.\n",
    "In the chapter on fields the class looked something like the code below.\n",
    "It was a simple class with two `public` instance fields of type `int` called `Width` and `Height`."
   ]
  },
  {
   "cell_type": "code",
   "execution_count": 1,
   "id": "e2d085c5",
   "metadata": {},
   "outputs": [
    {
     "data": {
      "text/html": [
       "\r\n",
       "<div>\r\n",
       "    <div id='dotnet-interactive-this-cell-3407.Microsoft.DotNet.Interactive.Http.HttpPort' style='display: none'>\r\n",
       "        The below script needs to be able to find the current output cell; this is an easy method to get it.\r\n",
       "    </div>\r\n",
       "    <script type='text/javascript'>\r\n",
       "async function probeAddresses(probingAddresses) {\r\n",
       "    function timeout(ms, promise) {\r\n",
       "        return new Promise(function (resolve, reject) {\r\n",
       "            setTimeout(function () {\r\n",
       "                reject(new Error('timeout'))\r\n",
       "            }, ms)\r\n",
       "            promise.then(resolve, reject)\r\n",
       "        })\r\n",
       "    }\r\n",
       "\r\n",
       "    if (Array.isArray(probingAddresses)) {\r\n",
       "        for (let i = 0; i < probingAddresses.length; i++) {\r\n",
       "\r\n",
       "            let rootUrl = probingAddresses[i];\r\n",
       "\r\n",
       "            if (!rootUrl.endsWith('/')) {\r\n",
       "                rootUrl = `${rootUrl}/`;\r\n",
       "            }\r\n",
       "\r\n",
       "            try {\r\n",
       "                let response = await timeout(1000, fetch(`${rootUrl}discovery`, {\r\n",
       "                    method: 'POST',\r\n",
       "                    cache: 'no-cache',\r\n",
       "                    mode: 'cors',\r\n",
       "                    timeout: 1000,\r\n",
       "                    headers: {\r\n",
       "                        'Content-Type': 'text/plain'\r\n",
       "                    },\r\n",
       "                    body: probingAddresses[i]\r\n",
       "                }));\r\n",
       "\r\n",
       "                if (response.status == 200) {\r\n",
       "                    return rootUrl;\r\n",
       "                }\r\n",
       "            }\r\n",
       "            catch (e) { }\r\n",
       "        }\r\n",
       "    }\r\n",
       "}\r\n",
       "\r\n",
       "function loadDotnetInteractiveApi() {\r\n",
       "    probeAddresses([\"http://10.1.0.186:1024/\", \"http://127.0.0.1:1024/\"])\r\n",
       "        .then((root) => {\r\n",
       "        // use probing to find host url and api resources\r\n",
       "        // load interactive helpers and language services\r\n",
       "        let dotnetInteractiveRequire = require.config({\r\n",
       "        context: '3407.Microsoft.DotNet.Interactive.Http.HttpPort',\r\n",
       "                paths:\r\n",
       "            {\r\n",
       "                'dotnet-interactive': `${root}resources`\r\n",
       "                }\r\n",
       "        }) || require;\r\n",
       "\r\n",
       "            window.dotnetInteractiveRequire = dotnetInteractiveRequire;\r\n",
       "\r\n",
       "            window.configureRequireFromExtension = function(extensionName, extensionCacheBuster) {\r\n",
       "                let paths = {};\r\n",
       "                paths[extensionName] = `${root}extensions/${extensionName}/resources/`;\r\n",
       "                \r\n",
       "                let internalRequire = require.config({\r\n",
       "                    context: extensionCacheBuster,\r\n",
       "                    paths: paths,\r\n",
       "                    urlArgs: `cacheBuster=${extensionCacheBuster}`\r\n",
       "                    }) || require;\r\n",
       "\r\n",
       "                return internalRequire\r\n",
       "            };\r\n",
       "        \r\n",
       "            dotnetInteractiveRequire([\r\n",
       "                    'dotnet-interactive/dotnet-interactive'\r\n",
       "                ],\r\n",
       "                function (dotnet) {\r\n",
       "                    dotnet.init(window);\r\n",
       "                },\r\n",
       "                function (error) {\r\n",
       "                    console.log(error);\r\n",
       "                }\r\n",
       "            );\r\n",
       "        })\r\n",
       "        .catch(error => {console.log(error);});\r\n",
       "    }\r\n",
       "\r\n",
       "// ensure `require` is available globally\r\n",
       "if ((typeof(require) !==  typeof(Function)) || (typeof(require.config) !== typeof(Function))) {\r\n",
       "    let require_script = document.createElement('script');\r\n",
       "    require_script.setAttribute('src', 'https://cdnjs.cloudflare.com/ajax/libs/require.js/2.3.6/require.min.js');\r\n",
       "    require_script.setAttribute('type', 'text/javascript');\r\n",
       "    \r\n",
       "    \r\n",
       "    require_script.onload = function() {\r\n",
       "        loadDotnetInteractiveApi();\r\n",
       "    };\r\n",
       "\r\n",
       "    document.getElementsByTagName('head')[0].appendChild(require_script);\r\n",
       "}\r\n",
       "else {\r\n",
       "    loadDotnetInteractiveApi();\r\n",
       "}\r\n",
       "\r\n",
       "    </script>\r\n",
       "</div>"
      ]
     },
     "metadata": {},
     "output_type": "display_data"
    }
   ],
   "source": [
    "class Rectangle\n",
    "{\n",
    "  public int Width = 0;\n",
    "  public int Height = 0;\n",
    "}"
   ]
  },
  {
   "cell_type": "markdown",
   "id": "6ecd2088",
   "metadata": {},
   "source": [
    "In the chapter on [fields](fields) we then defined a [local method](local-methods) with the signature `void printRectangle (Rectangle rect)`.\n",
    "This method took objects of type `Rectangle` as input and produced nothing as output.\n",
    "The \"[side-effect](side-effects)\" of running the method was however that the width and height of the rectangle was printed to screen."
   ]
  },
  {
   "cell_type": "code",
   "execution_count": 2,
   "id": "af717c92",
   "metadata": {},
   "outputs": [],
   "source": [
    "void printRectangle (Rectangle rect)\n",
    "  => Console.WriteLine($\"{rect.Width} x {rect.Height}\");"
   ]
  },
  {
   "cell_type": "markdown",
   "id": "7fa341c5",
   "metadata": {},
   "source": [
    "Why are we talking about that method now if it was a local method?\n",
    "Because now it's time to redefine that method as an instance method.\n",
    "When we redefine it as an instance method it will no longer be a method that takes a `Rectangle` as input and returns `void` as input.\n",
    "Instead it will be a method that's callable *\"on\"* objects of type `Rectangle`.\n",
    "\n",
    "Let's add the method but let's only call it `Print` this time.\n",
    "Why not `PrintRectangle`?\n",
    "Because, since it's now an instance method that will be called on objects of type `Rectangle` it is more obvious that what it prints is the object itself."
   ]
  },
  {
   "cell_type": "code",
   "execution_count": 3,
   "id": "b59fe486",
   "metadata": {},
   "outputs": [],
   "source": [
    "class Rectangle\n",
    "{\n",
    "  public int Width = 0;\n",
    "  public int Height = 0;\n",
    "\n",
    "  public void Print ()\n",
    "    => Console.WriteLine($\"{this.Width} x {this.Height}\");\n",
    "}"
   ]
  },
  {
   "cell_type": "markdown",
   "id": "68470616",
   "metadata": {},
   "source": [
    "The print method is now an instance method that when executed, will be executed within the context of a given instance of type `Rectangle`.\n",
    "Pay special attention to how we've replaced the variable `rect` with the keyword `this`.\n",
    "We'll discuss that keyword more in moment, but in short it is an explicit reference to the object itself.\n",
    "\n",
    "```{note}\n",
    "If you're confused about the fat arrow `=>` then don't be.\n",
    "This is just the [expression-bodied members](expression-bodied-members) syntax that we've discussed earlier.\n",
    "```\n",
    "\n",
    "```{note}\n",
    "If you're wondering what the keyword `this` means, don't worry, we'll talk about it in just a moment.\n",
    "```\n",
    "\n",
    "### Invocation\n",
    "\n",
    "So how do we call an instance method?\n",
    "Well, first we need to get a hold of an instance, and then we simply invoke the method using [dot notation](dot-notation).\n",
    "And when we invoke it we of course must pass whatever arguments the method demands.\n",
    "\n",
    "Let's invoke the instance method `Print` that we defined in the class `Rectangle`."
   ]
  },
  {
   "cell_type": "code",
   "execution_count": 4,
   "id": "7eabf76d",
   "metadata": {},
   "outputs": [
    {
     "name": "stdout",
     "output_type": "stream",
     "text": [
      "10 x 20\n"
     ]
    },
    {
     "name": "stdout",
     "output_type": "stream",
     "text": [
      "100 x 200\n"
     ]
    }
   ],
   "source": [
    "Rectangle r1 = new Rectangle() { Width=10, Height=20 };\n",
    "Rectangle r2 = new Rectangle() { Width=100, Height=200 };\n",
    "\n",
    "r1.Print();\n",
    "r2.Print();"
   ]
  },
  {
   "cell_type": "markdown",
   "id": "514680da",
   "metadata": {},
   "source": [
    "Notice how we're no longer passing any arguments to the printing method.\n",
    "We're simply invoking the instance method `Print` on the object and since that object knows its own width and height it knows what to print.\n",
    "Any given object does not have any information about any other object's width or height.\n",
    "It only knows its own and that's what it prints.\n",
    "\n",
    "\n",
    "(keyword:this)=\n",
    "### Keyword `this`\n",
    "\n",
    "What about the keyword `this` that was used in the implementation of the instance method `Print` of the `Rectangle` class.\n",
    "What is it and what does it do?\n",
    "\n",
    "When the code in the body of an instance method is being executed, then that code is being executed in the context of the object on which it was invoked.\n",
    "The keyword `this` refers to the object itself.\n",
    "\n",
    "In that particular example we don't actually need the keyword `this`.\n",
    "We could just as well, simply, have written `Width` instead of `this.Width`.\n",
    "I only chose to use the keyword `this` in order to force us to have this discussion and to hopefully improve clarity.\n",
    "\n",
    "What do we mean when we say that we don't necessarily \"need\" the `this` keyword?\n",
    "We mean that we don't need it because there is *no ambiguity*.\n",
    "What do we mean when we say that there is \"no ambiguity\"?\n",
    "We mean that the variables `Width` and `Height`, for example, are both only defined in one place that's in scope in the body of the instance method.\n",
    "\n",
    "If however we had named the constructor parameters `X` and `Y`, meaning in uppercase then there would be ambiguity.\n",
    "\n",
    "What's an example where we have ambiguity?\n",
    "We'll get to see some more commonly occurring examples of when such ambiguity arises in the chapter on [constructors](constructors).\n",
    "\n",
    "But let's devise a slightly more contrived example now.\n",
    "Let's define an instance method called `Scale` that takes two parameters called `Width` and `Height`.\n",
    "The method multiplies the current width and height with the scalars that we've passed in.\n",
    "\n",
    "(rectangle-scale)="
   ]
  },
  {
   "cell_type": "code",
   "execution_count": 5,
   "id": "d3a8495c",
   "metadata": {},
   "outputs": [],
   "source": [
    "class Rectangle\n",
    "{\n",
    "  public int Width = 0;\n",
    "  public int Height = 0;\n",
    "\n",
    "  public void Print ()\n",
    "    => Console.WriteLine($\"{this.Width} x {this.Height}\");\n",
    "\n",
    "  public void Scale (int Width, int Height)\n",
    "  {\n",
    "    this.Width *= Width;\n",
    "    this.Height *= Height;\n",
    "  }\n",
    "}"
   ]
  },
  {
   "cell_type": "markdown",
   "id": "28b05c1c",
   "metadata": {},
   "source": [
    "```{note}\n",
    "Why do I say that this is a \"contrived\" example?\n",
    "Because local and `private` variables in C# are customarily given names that start with lowercase letters.\n",
    "So an implementation of this method would probably actually have the signature `void Scale (int width, int height)`.\n",
    "```\n",
    "\n",
    "How does the `Scale` method work?\n",
    "Well, it's an instance method, so we call it on an instance using dot notation but this time we also need to pass arguments."
   ]
  },
  {
   "cell_type": "code",
   "execution_count": 6,
   "id": "c99f605d",
   "metadata": {},
   "outputs": [
    {
     "name": "stdout",
     "output_type": "stream",
     "text": [
      "2 x 6\n"
     ]
    },
    {
     "name": "stdout",
     "output_type": "stream",
     "text": [
      "12 x 20\n"
     ]
    }
   ],
   "source": [
    "Rectangle r1 = new Rectangle() { Width=1, Height=2 };\n",
    "Rectangle r2 = new Rectangle() { Width=3, Height=4 };\n",
    "\n",
    "r1.Scale(2, 3);\n",
    "r2.Scale(4, 5);\n",
    "\n",
    "r1.Print();\n",
    "r2.Print();"
   ]
  },
  {
   "cell_type": "markdown",
   "id": "29444856",
   "metadata": {},
   "source": [
    "But let's get back to discussing the keyword `this`.\n",
    "Why do we need to use that keyword in the definition of the instance method `Scale`?\n",
    "\n",
    "Think about it.\n",
    "What would happen if we say `Width *= Width`?\n",
    "As we know from the chapter on [operators](operators) the expression is shorthand for `Width = Width * Width`.\n",
    "So in other words, we are multiplying the input width with itself and storing it in the local variable `Width` that we passed in as an argument.\n",
    "It would behave like this:"
   ]
  },
  {
   "cell_type": "code",
   "execution_count": 7,
   "id": "ec55d314",
   "metadata": {},
   "outputs": [],
   "source": [
    "class BadRectangle\n",
    "{\n",
    "  public int Width = 0;\n",
    "  public int Height = 0;\n",
    "\n",
    "  public void Scale (int Width, int Height)\n",
    "  {\n",
    "    Width *= Width;\n",
    "    Height *= Height;\n",
    "  }\n",
    "\n",
    "  public void Print ()\n",
    "    => Console.WriteLine($\"{this.Width} x {this.Height}\");\n",
    "}"
   ]
  },
  {
   "cell_type": "code",
   "execution_count": 8,
   "id": "91aaf1ef",
   "metadata": {},
   "outputs": [
    {
     "name": "stdout",
     "output_type": "stream",
     "text": [
      "1 x 1\n"
     ]
    }
   ],
   "source": [
    "BadRectangle rect = new BadRectangle() { Width=1, Height=1 };\n",
    "\n",
    "rect.Scale(1000, 2000);\n",
    "\n",
    "rect.Print();"
   ]
  },
  {
   "cell_type": "markdown",
   "id": "6bb67b6d",
   "metadata": {},
   "source": [
    "Notice how even after we've called the `Scale` method on our object, its dimensions remains whatever we set it to at the start.\n",
    "This is *not* the behavior that we intended to achieve.\n",
    "If we're going to name the parameters of the `Print` method `Width` and `Height` then we must use the keyword `this` to disambiguate between those variables and the instance fields with the same names.\n",
    "\n",
    "In the code below we've rewritten the code for `BadRectangle` so that it makes use of the `this` keyword.\n",
    "With this change, the code behaves as expected again."
   ]
  },
  {
   "cell_type": "code",
   "execution_count": 9,
   "id": "fef4f120",
   "metadata": {},
   "outputs": [],
   "source": [
    "class GoodRectangle\n",
    "{\n",
    "  public int Width = 0;\n",
    "  public int Height = 0;\n",
    "\n",
    "  public void Scale (int Width, int Height)\n",
    "  {\n",
    "    this.Width *= Width;   // Notice the `this` keyword.\n",
    "    this.Height *= Height; // Notice the `this` keyword.\n",
    "  }\n",
    "\n",
    "  public void Print ()\n",
    "    => Console.WriteLine($\"{this.Width} x {this.Height}\");\n",
    "}"
   ]
  },
  {
   "cell_type": "code",
   "execution_count": 10,
   "id": "baf354ed",
   "metadata": {},
   "outputs": [
    {
     "name": "stdout",
     "output_type": "stream",
     "text": [
      "1000 x 2000\n"
     ]
    }
   ],
   "source": [
    "GoodRectangle rect = new GoodRectangle() { Width=1, Height=1 };\n",
    "rect.Scale(1000, 2000);\n",
    "rect.Print();"
   ]
  },
  {
   "cell_type": "markdown",
   "id": "1fa733e7",
   "metadata": {},
   "source": [
    "Of course, as we mentioned before, even though the above code works as expected, it is unconventional to name parameters with an initial capital letter.\n",
    "\n",
    "```{tip}\n",
    "In C# it is convention to name local and instance or static `private` variables and methods with an initial lowercase letter, while `public` instance and static variables and methods are named with an initial uppercase letter.\n",
    "A field is thus conventionally named `Width` if it's `public` but `width` if it's `private`.\n",
    "```\n",
    "\n",
    "One final point about `this` before we move on.\n",
    "You might have already figured this out but since the keyword `this` points to the object itself, then it must have a type.\n",
    "If it's an object then that object must be of a type.\n",
    "What is that type?\n",
    "The type is the same as the class in which it is used.\n",
    "So, when we use the `this` keyword in the instance method `Scale` in the class `GoodRectangle` then the type of object that we get when saying `this` is of type `GoodRectangle`.\n",
    "\n",
    "\n",
    "\n",
    "### Overloading\n",
    "\n",
    "Instance methods support [overloading](overloading).\n",
    "Overloading of instance methods is not substantially different from overloading of [static methods](static-methods).\n",
    "As long as two instance methods have different type signatures they can share the same name.\n",
    "\n",
    "Let's take the method `Scale` that we defined before as an example.\n",
    "In our definition of `Scale` we expected a width and a height multiplier.\n",
    "Let's now define an overload of the instance method `Scale` that only expects a single multiplier that we apply to both the width and height."
   ]
  },
  {
   "cell_type": "code",
   "execution_count": 11,
   "id": "e3fa365c",
   "metadata": {},
   "outputs": [],
   "source": [
    "class Rectangle\n",
    "{\n",
    "  public int Width;\n",
    "  public int Height;\n",
    "\n",
    "  public void Scale (int width, int height)\n",
    "  {\n",
    "    Width *= width;\n",
    "    Height *= height;\n",
    "  }\n",
    "\n",
    "  public void Scale (int factor)\n",
    "  {\n",
    "    Width *= factor;\n",
    "    Height *= factor;\n",
    "  }\n",
    "\n",
    "  public void Print ()\n",
    "    => Console.WriteLine($\"{Width} x {Height}\");\n",
    "}"
   ]
  },
  {
   "cell_type": "markdown",
   "id": "6f91145f",
   "metadata": {},
   "source": [
    "Notice how we now have two instance methods called `Scale`.\n",
    "This is allowed since they have different type signatures.\n",
    "\n",
    "Of course, we could have implemented our second `Scale` method in terms of our first.\n",
    "Think about it.\n",
    "Scaling both the width and height with the same multiplier is a special case of scaling width and height with possibly different multipliers."
   ]
  },
  {
   "cell_type": "code",
   "execution_count": 12,
   "id": "007ab62f",
   "metadata": {},
   "outputs": [],
   "source": [
    "class Rectangle\n",
    "{\n",
    "  public int Width;\n",
    "  public int Height;\n",
    "\n",
    "  public void Scale (int width, int height)\n",
    "  {\n",
    "    Width *= width;\n",
    "    Height *= height;\n",
    "  }\n",
    "\n",
    "  public void Scale (int factor)\n",
    "    => Scale(factor, factor); // Calls the other overload.\n",
    "\n",
    "  public void Print ()\n",
    "    => Console.WriteLine($\"{Width} x {Height}\");\n",
    "}"
   ]
  },
  {
   "cell_type": "markdown",
   "id": "e1ea2ddd",
   "metadata": {},
   "source": [
    "```{note}\n",
    "An instance method can call other instance methods in the same object it is running.\n",
    "This can be done explicitly by using the `this` keyword.\n",
    "%The fact that an instance method in an object may call other instance methods in the same object is known as \"open recursion\".\n",
    "```\n",
    "\n",
    "```{note}\n",
    "The keyword `this` is in some languages known as `base`.\n",
    "```\n",
    "\n",
    "\n",
    "%### TODO: Late binding, Dynamic binding? Michaelis (2020)\n",
    "\n",
    "%### TODO: Recursion.\n",
    "%https://stackoverflow.com/questions/6089086/what-is-open-recursion\n",
    "\n",
    "\n",
    "%### Type signatures\n",
    "%\n",
    "%Using the more mathematical syntax for [type signatures](type-signatures) we would say that the signature is:\n",
    "%\n",
    "%``\n",
    "%printRectangle :: Rectangle -> void\n",
    "%``\n",
    "%\n",
    "%Using our more mathematical type signature syntax we would say that it's type is:\n",
    "%\n",
    "%``\n",
    "%Print :: Rectangle ~> void\n",
    "%``\n",
    "%\n",
    "%Notice how we've replaced the regular arrow (`->`) with a \"squiggly\" arrow (`~>`).\n",
    "%The regular arrow reads as \"maps to\".\n",
    "%The squiggly arrow sort of reads as \"is defined as an instance method on\" but we have to shift the words around a bit when reading a whole type signature.\n",
    "%When reading the type signature of `Print` for example we would say `Print` is an instance method defined on objects of type `Rectangle` that maps to `void`.\n",
    "%\n",
    "%---\n",
    "%\n",
    "%Why do we care about using the more mathematical syntax when we can talk about type signatures in perfectly valid C# syntax?\n",
    "%Because the C# convention is to not distinguish between static and instance methods.\n",
    "%\n",
    "%Consider, for example, the difference between how we convert the case of a single `char` and the case of a full `string`.\n",
    "%\n",
    "%``{code-cell}\n",
    "%Char.ToUpper('c');\n",
    "%\"hello\".ToUpper();\n",
    "%``\n",
    "%\n",
    "%The method `ToUpper` for characters is a static method that we call on the class `Char` and pass an object of type `Char`.\n",
    "%The method `ToUpper` for strings is an instance method that is called on objects of type `string`.\n",
    "%\n",
    "%If we want to discuss the types of these methods using conventional C# syntax and want to include information about what class they are defined upon we would say:\n",
    "%\n",
    "%``\n",
    "%Char.ToUpper (Char)\n",
    "%String.ToUpper ()\n",
    "%``\n",
    "%\n",
    "%Notice how the syntax is the same in both cases.\n",
    "%In some languages, the convention is to use `.` for instance methods and `#` for static methods.\n",
    "%But not in C#.\n",
    "%As such, there is no way to certainly tell what methods are static methods and what methods are instance methods.\n",
    "%If we wanted to maintain that information we would conventionally express ourselves using regular type signature syntax:\n",
    "%\n",
    "%``\n",
    "%public static Char ToUpper (Char c);\n",
    "%public string ToUpper ();\n",
    "%``\n",
    "%\n",
    "%Now we can certainly determine what methods are static and what methods are not static.\n",
    "%However, we've now lost information about the location of these methods.\n",
    "%Meaning in what classes they actually are defined.\n",
    "%\n",
    "%So, this is why I tend to favor using the more mathematical non-C# syntax to discuss types.\n",
    "%With that syntax we would say:\n",
    "%\n",
    "%``\n",
    "%Char.ToUpper :: Char -> Char\n",
    "%ToUpper :: String ~> String\n",
    "%``\n",
    "%\n",
    "%With this syntax we keep information about \"where\" a method is defined.\n",
    "%We can use this synta\n",
    "\n",
    "\n",
    "### UML class diagrams\n",
    "\n",
    "So how do we capture instance methods in UML class diagram notation.\n",
    "Remember how a class in a UML class diagram is divided into three sections (see image below)?\n",
    "Well instance methods are, in UML, called \"operations\".\n",
    "Hence, we define them in the third section.\n",
    "\n",
    "```\n",
    "┌────────────────────┐\n",
    "│ <class identifier> │\n",
    "├────────────────────┤\n",
    "│                    │\n",
    "│    <attributes>    │\n",
    "│                    │\n",
    "├────────────────────┤\n",
    "│                    │\n",
    "│    <operations>    │\n",
    "│                    │\n",
    "└────────────────────┘\n",
    "```\n",
    "\n",
    "Let's capture the class `Rectangle` with all the instance method that we've defined in this chapter.\n",
    "In the examples section in this chapter we will also add another instance method to the `Rectangle` class that is called `Area` and returns an `int`.\n",
    "Let's throw that instance method into the diagram for good measure.\n",
    "\n",
    "```\n",
    "┌────────────────────────────────────────┐\n",
    "│                Rectangle               │\n",
    "├────────────────────────────────────────┤\n",
    "│ + Width : int                          │\n",
    "│ + Height : int                         │\n",
    "├────────────────────────────────────────┤\n",
    "│ + Scale (width:int, height:int) : void │\n",
    "│ + Scale (multiplier:int) : void        │\n",
    "│ + Print () : void                      │\n",
    "│ + Area () : int                        │\n",
    "└────────────────────────────────────────┘\n",
    "```\n",
    "\n",
    "By now you should start to see how UML class diagrams are quite useful when we need to quickly reason about what a class does.\n",
    "\n",
    "\n",
    "\n",
    "## Examples\n",
    "\n",
    "Let's look at some more examples.\n",
    "\n",
    "### Rectangles\n",
    "\n",
    "So far we've only looked at instance methods that return `void`.\n",
    "But of course instance methods can return values of any type.\n",
    "Let's define an instance method called `Area` for the class `Rectangle` that we've worked with in this chapter.\n",
    "As you might expect the method computes the area and returns it.\n",
    "\n",
    "Since both the width and the height of the rectangle are stored as integers then we know that the returned area will be an integer."
   ]
  },
  {
   "cell_type": "code",
   "execution_count": 13,
   "id": "7d70be07",
   "metadata": {},
   "outputs": [],
   "source": [
    "class Rectangle\n",
    "{\n",
    "  public int Width;\n",
    "  public int Height;\n",
    "\n",
    "  public int Area ()\n",
    "    => Width * Height;\n",
    "\n",
    "  public void Scale (int width, int height)\n",
    "  {\n",
    "    Width *= width;\n",
    "    Height *= height;\n",
    "  }\n",
    "\n",
    "  public void Scale (int factor)\n",
    "    => Scale(factor, factor);\n",
    "\n",
    "  public void Print ()\n",
    "    => Console.WriteLine($\"{Width} x {Height}\");\n",
    "}"
   ]
  },
  {
   "cell_type": "markdown",
   "id": "1bf357a0",
   "metadata": {},
   "source": [
    "How does the instance method work?\n",
    "Simple, when we call the instance method `Area` on an instance of type `Rectangle` then the method checks what the `Width` and `Height` is of that object, multiplies them, and return the result."
   ]
  },
  {
   "cell_type": "code",
   "execution_count": 14,
   "id": "1007775a",
   "metadata": {},
   "outputs": [
    {
     "name": "stdout",
     "output_type": "stream",
     "text": [
      "200\n"
     ]
    },
    {
     "name": "stdout",
     "output_type": "stream",
     "text": [
      "600\n"
     ]
    }
   ],
   "source": [
    "Rectangle r1 = new Rectangle () { Width=20, Height=10 };\n",
    "Rectangle r2 = new Rectangle () { Width=30, Height=20 };\n",
    "Console.WriteLine( r1.Area() );\n",
    "Console.WriteLine( r2.Area() );"
   ]
  },
  {
   "cell_type": "markdown",
   "id": "928095dc",
   "metadata": {},
   "source": [
    "### String manipulation\n",
    "\n",
    "We've talked about the type `string`.\n",
    "The type `string` defines many instance methods.\n",
    "In C# we can always find what instance methods a given type supports in the [documentation](https://learn.microsoft.com/en-us/dotnet/api/system.string?view=net-6.0).\n",
    "Let's look at a few simple operations here though so that we can practice using instance methods.\n",
    "\n",
    "#### Contains\n",
    "One instance method that objects of type `string` implement is `Contains`.\n",
    "The instance method `Contains` accepts an argument of type `string` and returns a boolean that represents whether the `string` instance contains the `string` passed as an argument anywhere."
   ]
  },
  {
   "cell_type": "code",
   "execution_count": 15,
   "id": "fe3e441c",
   "metadata": {},
   "outputs": [
    {
     "name": "stdout",
     "output_type": "stream",
     "text": [
      "False\n"
     ]
    }
   ],
   "source": [
    "string message = \"Hello world\";\n",
    "string keyword = \"hello\";\n",
    "\n",
    "bool result = message.Contains(keyword);\n",
    "\n",
    "Console.WriteLine(result);"
   ]
  },
  {
   "cell_type": "markdown",
   "id": "57359920",
   "metadata": {},
   "source": [
    "#### IndexOf\n",
    "\n",
    "Another instance method available on strings is the method `IndexOf`.\n",
    "This instance method too takes a parameter of type `string` and checks whether the second `string` can be found in the first.\n",
    "If a match is found it doesn't however merely return `true`.\n",
    "Instead it returns the index in the `string` where we will find the start of the `string` that it found."
   ]
  },
  {
   "cell_type": "code",
   "execution_count": 16,
   "id": "3e37e8d2",
   "metadata": {},
   "outputs": [
    {
     "name": "stdout",
     "output_type": "stream",
     "text": [
      "6\n"
     ]
    }
   ],
   "source": [
    "Console.WriteLine( \"Hello world\".IndexOf(\"world\") );"
   ]
  },
  {
   "cell_type": "markdown",
   "id": "0abfe0d0",
   "metadata": {},
   "source": [
    "If the `string` that we were looking for could not be found in the `string` that we are searching in then the instance method returns `-1`."
   ]
  },
  {
   "cell_type": "code",
   "execution_count": 17,
   "id": "725d52ab",
   "metadata": {},
   "outputs": [
    {
     "name": "stdout",
     "output_type": "stream",
     "text": [
      "-1\n"
     ]
    }
   ],
   "source": [
    "Console.WriteLine( \"Hello world\".IndexOf(\"apples\") );"
   ]
  },
  {
   "cell_type": "markdown",
   "id": "826f799a",
   "metadata": {},
   "source": [
    "#### Substring\n",
    "\n",
    "Another useful instance method that objects of type `string` supports is the method known as `Substring`.\n",
    "The method extracts a part of `string`.\n",
    "We refer to a part of a string as a \"substring\" which is why the method is named as such.\n",
    "\n",
    "```{tip}\n",
    "In .NET there are often multiple overloads of any given method.\n",
    "Just like when we're trying to figure out what methods are defined by some type, we should resort to [the documentation](https://learn.microsoft.com/en-us/dotnet/api/system.string.substring?view=net-6.0#overloads) to figure out what overloads are available of any given method.\n",
    "```\n",
    "\n",
    "One overload of the method `Substring` takes two parameters of type `int`.\n",
    "The first `int` specifies from which index we should start extracting characters, and the second `int` specifies how many characters we should extract."
   ]
  },
  {
   "cell_type": "code",
   "execution_count": 18,
   "id": "1d45fa55",
   "metadata": {},
   "outputs": [
    {
     "name": "stdout",
     "output_type": "stream",
     "text": [
      "ello\n"
     ]
    }
   ],
   "source": [
    "Console.WriteLine( \"Hello world\".Substring(1, 4) );"
   ]
  },
  {
   "cell_type": "markdown",
   "id": "55d5014b",
   "metadata": {},
   "source": [
    "%### Mutable numbers\n",
    "%\n",
    "%Remember the `Nat` example from when we discussed [message passing](objects:examples:nat) in the chapter on objects?\n",
    "%\n",
    "%``{code-cell} csharp\n",
    "%class Nat\n",
    "%{\n",
    "%  int n = 0;\n",
    "%  public void Add (Nat other) => this.n += other.n;\n",
    "%  public int ToInt () => n;\n",
    "%}\n",
    "%``\n",
    "%\n",
    "%We would be able to use the type to create objects of type `Nat` and then add them like this:\n",
    "%\n",
    "%``{code-cell} csharp\n",
    "%Nat x = new Nat(); // Instantiates an object of type Nat.\n",
    "%Nat y = new Nat();  // Instantiates an object of type Nat.\n",
    "%\n",
    "%Console.WriteLine($\"x = {x.ToInt()}\");\n",
    "%\n",
    "%// Sends the message (calls the instance method) Add\n",
    "%// to the object x, passing object y as an argument.\n",
    "%x.Add(y);\n",
    "%\n",
    "%Console.WriteLine($\"x = {x.ToInt()}\");\n",
    "%``\n",
    "\n",
    "\n",
    "\n",
    "\n",
    "\n",
    "### Robber's language\n",
    "\n",
    "Let's get back to our good old language games and ciphers.\n",
    "We are now ready to convert the static class `RobbersCipher` from the chapter on [overloading](overloading:examples:robbers) to a regular class where all methods are instance methods."
   ]
  },
  {
   "cell_type": "code",
   "execution_count": 19,
   "id": "531e168a",
   "metadata": {},
   "outputs": [],
   "source": [
    "class RobbersCipher\n",
    "{\n",
    "  public char Vowel = 'o';\n",
    "\n",
    "  public string Encode (char input)\n",
    "  {\n",
    "    string consonants = \"BCDFGHJKLMNPQRSTVWXYZ\";\n",
    "    if (consonants.Contains(Char.ToUpper(input)))\n",
    "      return $\"{input}{Vowel}{input}\";\n",
    "    else\n",
    "      return $\"{input}\";\n",
    "  }\n",
    "\n",
    "  public string Encode (string input)\n",
    "  {\n",
    "    string output = \"\";\n",
    "    foreach (char letter in input)\n",
    "      output += Encode (letter);\n",
    "    return output;\n",
    "  }\n",
    "}"
   ]
  },
  {
   "cell_type": "markdown",
   "id": "0bdc1b67",
   "metadata": {},
   "source": [
    "Notice how we've massively simplified the code that checks whether the character that we've been passed is a vowel or not.\n",
    "This is possible since we now know about instance methods and since we now know about the instance method `Contains` that objects of type `string` supports.\n",
    "\n",
    "Primo!\n",
    "But does it work?\n",
    "How do we use it?\n",
    "Well, first off we need to create an instance of the `RobbersCipher` class.\n",
    "If we want to, we can use object initializers to change the `Vowel` that the instance will be using when encoding."
   ]
  },
  {
   "cell_type": "code",
   "execution_count": 20,
   "id": "414330ed",
   "metadata": {},
   "outputs": [],
   "source": [
    "RobbersCipher c1 = new RobbersCipher() { Vowel = 'o' };\n",
    "RobbersCipher c2 = new RobbersCipher() { Vowel = 'a' };"
   ]
  },
  {
   "cell_type": "markdown",
   "id": "57316552",
   "metadata": {},
   "source": [
    "Then we can simply call the `Encode` method any number of times that we want."
   ]
  },
  {
   "cell_type": "code",
   "execution_count": 21,
   "id": "d06e86e1",
   "metadata": {},
   "outputs": [
    {
     "name": "stdout",
     "output_type": "stream",
     "text": [
      "DoDogog\n"
     ]
    }
   ],
   "source": [
    "Console.WriteLine( c1.Encode(\"Dog\") );"
   ]
  },
  {
   "cell_type": "code",
   "execution_count": 22,
   "id": "c16ac9b0",
   "metadata": {},
   "outputs": [
    {
     "name": "stdout",
     "output_type": "stream",
     "text": [
      "DaDogag\n"
     ]
    }
   ],
   "source": [
    "Console.WriteLine( c2.Encode(\"Dog\") );"
   ]
  },
  {
   "cell_type": "markdown",
   "id": "36f837f5",
   "metadata": {},
   "source": [
    "(caesar-encode)=\n",
    "### Caesar cipher\n",
    "\n",
    "Let's now do something a bit more complex.\n",
    "We've learned enough skills to be able to do a [Caesar Cipher](caesar-cipher).\n",
    "\n",
    "Similar to the other ciphers that we've built we'll solve it by writing two overloaded methods.\n",
    "One that takes an input `string` and one that takes an input `char`.\n",
    "The method that takes a `string` will call the other method for each of its constitutent characters and concatenate the resulting encoded `string`.\n",
    "\n",
    "Beyond the input, we ought to accept an additional parameter that we could call `steps`.\n",
    "This parameter is of type `int` and determines how many steps forward or backwards in the alphabet we should take when encoding data.\n",
    "\n",
    "Here's what the class would look like:"
   ]
  },
  {
   "cell_type": "code",
   "execution_count": 23,
   "id": "48243cf4",
   "metadata": {},
   "outputs": [],
   "source": [
    "class CaesarCipher\n",
    "{\n",
    "  public int Steps = 1;\n",
    "\n",
    "  public char Encode (char input)\n",
    "  {\n",
    "    string alphabet = \"ABCDEFGHIJKLMNOPQRSTUVXYZ\";\n",
    "    int i = alphabet.IndexOf(Char.ToUpper(input));\n",
    "    int newIndex = (i + Steps) % alphabet.Length;\n",
    "    if (i != -1)\n",
    "    {\n",
    "      if (newIndex < 0)\n",
    "        newIndex += alphabet.Length;\n",
    "\n",
    "      if (Char.IsLower(input))\n",
    "        return Char.ToLower(alphabet[newIndex]);\n",
    "      else\n",
    "        return alphabet[newIndex];\n",
    "    }\n",
    "    return input;\n",
    "  }\n",
    "\n",
    "  public string Encode (string input)\n",
    "  {\n",
    "    string output = \"\";\n",
    "    foreach (char letter in input)\n",
    "      output += Encode(letter);\n",
    "    return output;\n",
    "  }\n",
    "}"
   ]
  },
  {
   "cell_type": "markdown",
   "id": "59249448",
   "metadata": {},
   "source": [
    "Let's check if it works as expected."
   ]
  },
  {
   "cell_type": "code",
   "execution_count": 24,
   "id": "c642558e",
   "metadata": {},
   "outputs": [],
   "source": [
    "CaesarCipher cipher1 = new CaesarCipher() { Steps = 2 };\n",
    "CaesarCipher cipher2 = new CaesarCipher() { Steps = -1 };"
   ]
  },
  {
   "cell_type": "code",
   "execution_count": 25,
   "id": "fc4538e5",
   "metadata": {},
   "outputs": [
    {
     "name": "stdout",
     "output_type": "stream",
     "text": [
      "CdAb\n"
     ]
    }
   ],
   "source": [
    "Console.WriteLine( cipher1.Encode(\"AbYz\") );"
   ]
  },
  {
   "cell_type": "code",
   "execution_count": 26,
   "id": "7ba6617b",
   "metadata": {},
   "outputs": [
    {
     "name": "stdout",
     "output_type": "stream",
     "text": [
      "ZaXy\n"
     ]
    }
   ],
   "source": [
    "Console.WriteLine( cipher2.Encode(\"AbYz\") );"
   ]
  },
  {
   "cell_type": "markdown",
   "id": "ca735895",
   "metadata": {},
   "source": [
    "Ok, it seems to work.\n",
    "\n",
    "\n",
    "%Now that we've got a method that deals with single characters, `CaesarEncodeChar` we can simplify the method using early `return` statements and the [ternary operator](ternary-operator).\n",
    "%Whether the rewritten method is easier to read or not is a question of taste so you are free to disagree.\n",
    "%Nevertheless, since the new version is shorter I'm going to make use of it in this book since it occupies less vertical space.\n",
    "%\n",
    "%class CaesarCharCipher\n",
    "%{\n",
    "%  int steps;\n",
    "%\n",
    "%  public CaesarCharCipher (int steps)\n",
    "%    => this.steps = steps;\n",
    "%\n",
    "%  public char Encode (char input)\n",
    "%  {\n",
    "%    string alphabet = \"ABCDEFGHIJKLMNOPQRSTUVXYZ\";\n",
    "%    int i = alphabet.IndexOf(Char.ToUpper(input));\n",
    "%    if (i == -1) return input;\n",
    "%    int remainder = (i + steps) % alphabet.Length;\n",
    "%    int newIndex = remainder >= 0 ? remainder : remainder + alphabet.Length;\n",
    "%    char output = alphabet[newIndex];\n",
    "%    return Char.IsLower(input) ? Char.ToLower(output) : output;\n",
    "%  }\n",
    "%}\n",
    "\n",
    "\n",
    "\n",
    "\n",
    "\n",
    "### Random walk\n",
    "\n",
    "%You might be thinking that all this sounds quite simple but not very useful.\n",
    "Let's look at a slightly larger program that solves a more concrete problem.\n",
    "Let's take the problem known as the Drunkard's Walk from statistics.\n",
    "I happen to appreciate the rephrased version called the Drunk Student's Walk.\n",
    "\n",
    "Here's the story.\n",
    "A student has been ingesting way too many alcoholic beverages and is now rendered incapable of walking.\n",
    "Seen from above the student is walking on a two-dimensional grid.\n",
    "Any time the student attempts to take a step he or she is stumbling in any random direction.\n",
    "There are 9 possible moves that the student can make any time he or she attempts to take a step.\n",
    "\n",
    "Now we're asking the following question.\n",
    "If we ask this student to stay within a 10x10 square, how many random steps does it *on average* take before the student exits the 10x10 square.\n",
    "\n",
    "Let's capture the notion of a drunk student as a class and try to use this to solve our problem.\n",
    "Try to solve this problem on your own before you study the solution below.\n",
    "As always, there are many solutions to this problem.\n",
    "\n",
    "You can generate a pseudo random number in C# by first instantiating a single object of type `Random`.\n",
    "For the sake of better randomness it is important that you reuse the same `Random` object rather than instantiating new objects of that type.\n",
    "To get a random number between `-1` and `1` (inclusive) we would call the method `Next` and pass the numbers `-1` and `2`.\n",
    "Like in the example below:"
   ]
  },
  {
   "cell_type": "code",
   "execution_count": 27,
   "id": "7d0d3a87",
   "metadata": {},
   "outputs": [],
   "source": [
    "Random rng = new Random();\n",
    "int randomNumber = rng.Next(-1, 2);"
   ]
  },
  {
   "cell_type": "code",
   "execution_count": 28,
   "id": "2792f20d",
   "metadata": {
    "tags": [
     "hide-input",
     "hide-output"
    ]
   },
   "outputs": [
    {
     "name": "stdout",
     "output_type": "stream",
     "text": [
      "Average steps: 114\n"
     ]
    }
   ],
   "source": [
    "// STUDENT CLASS:\n",
    "\n",
    "class Student\n",
    "{\n",
    "  Random rng = new Random();\n",
    "  int x = 0;\n",
    "  int y = 0;\n",
    "  int steps = 0;\n",
    "\n",
    "  public int StepsTaken ()\n",
    "    => steps;\n",
    "\n",
    "  public void Move ()\n",
    "  {\n",
    "    int dx = rng.Next(-1, 2);\n",
    "    int dy = rng.Next(-1, 2);\n",
    "    x += dx;\n",
    "    y += dy;\n",
    "    steps++;\n",
    "  }\n",
    "\n",
    "  public bool IsWithin (int x, int y)\n",
    "    => this.x <= x\n",
    "    && this.x >= -x\n",
    "    && this.y <= y\n",
    "    && this.y >= -y;\n",
    "}\n",
    "\n",
    "\n",
    "// MAIN PROGRAM:\n",
    "\n",
    "int numStudents = 100;\n",
    "int totalSteps = 0;\n",
    "\n",
    "for (int i=0; i<numStudents; i++)\n",
    "{\n",
    "  Student student = new Student();\n",
    "\n",
    "  while (student.IsWithin(10, 10))\n",
    "    student.Move();\n",
    "\n",
    "  totalSteps += student.StepsTaken();\n",
    "}\n",
    "\n",
    "Console.WriteLine(\"Average steps: \" + totalSteps / numStudents);"
   ]
  },
  {
   "cell_type": "markdown",
   "id": "4839d96f",
   "metadata": {},
   "source": [
    "## Exercises\n",
    "\n",
    "```{exercise}\n",
    "In your own words, explain how instance methods are different from static methods.\n",
    "```\n",
    "\n",
    "```{exercise}\n",
    "What do we mean when we say that public fields \"break\" encapsulation?\n",
    "```\n",
    "\n",
    "\n",
    "```{exercise}\n",
    "Can you *overload* an instance method by just varying the *return type*?\n",
    "Why or why not?\n",
    "```\n",
    "\n",
    "```{exercise}\n",
    "Can you *overload* an instance method by just varying a single *parameter name*?\n",
    "Why or why not?\n",
    "```\n",
    "\n",
    "```{exercise}\n",
    "Can you *overload* an instance method by just varying a single *parameter type*?\n",
    "Why or why not?\n",
    "```\n",
    "\n",
    "\n",
    "\n",
    "\n",
    "```{exercise-start}\n",
    "```\n",
    "Write a class called `ReverseCipher` which expose a public instance method with the following signature:\n",
    "\n",
    "```csharp\n",
    "string Encode (string input);\n",
    "```\n",
    "\n",
    "The method should implement the Reverse cipher that we worked with in the chapter on [static methods](static-methods:examples:reverse).\n",
    "The method should implement the Reverse cipher that we defined in the chapter on [algorithms](reverse-cipher).\n",
    "\n",
    "When you are done, you should be able to run the following code and get the corrseponding output."
   ]
  },
  {
   "cell_type": "code",
   "execution_count": 29,
   "id": "a3ab0077",
   "metadata": {
    "tags": [
     "remove-input"
    ]
   },
   "outputs": [],
   "source": [
    "class ReverseCipher\n",
    "{\n",
    "  public string Encode (string input)\n",
    "  {\n",
    "    string output = \"\";\n",
    "    for (int i=input.Length-1; i>=0; i--)\n",
    "      output += input[i];\n",
    "    return output;\n",
    "  }\n",
    "}"
   ]
  },
  {
   "cell_type": "code",
   "execution_count": 30,
   "id": "30ddf351",
   "metadata": {},
   "outputs": [
    {
     "name": "stdout",
     "output_type": "stream",
     "text": [
      "olleH\n"
     ]
    }
   ],
   "source": [
    "ReverseCipher reverser = new ReverseCipher();\n",
    "Console.WriteLine(reverser.Encode(\"Hello\"));"
   ]
  },
  {
   "cell_type": "markdown",
   "id": "db7cd14a",
   "metadata": {},
   "source": [
    "```{exercise-end}\n",
    "```\n",
    "\n",
    "\n",
    "\n",
    "```{exercise-start}\n",
    ":label: ex:instance-methods:leet\n",
    "```\n",
    "Write a class called `LeetCipher` which expose two overloaded public instance methods with the following signatures:\n",
    "\n",
    "```csharp\n",
    "string Encode (string input);\n",
    "char Encode (char input);\n",
    "```\n",
    "\n",
    "Both methods should encode the input into [Leetspeak](leet-language) and then return the result."
   ]
  },
  {
   "cell_type": "code",
   "execution_count": 31,
   "id": "847cc0ec",
   "metadata": {
    "tags": [
     "remove-input"
    ]
   },
   "outputs": [],
   "source": [
    "class LeetCipher\n",
    "{\n",
    "  public char Encode (char input)\n",
    "  {\n",
    "    switch (input)\n",
    "    {\n",
    "      case 'L': return '1';\n",
    "      case '1': return 'L';\n",
    "      case 'A': return '4';\n",
    "      case '4': return 'A';\n",
    "      case 'O': return '0';\n",
    "      case '0': return 'O';\n",
    "      case 'T': return '7';\n",
    "      case '7': return 'T';\n",
    "      case 'E': return '3';\n",
    "      case '3': return 'E';\n",
    "      default: return input;\n",
    "    }\n",
    "  }\n",
    "\n",
    "  public string Encode (string input)\n",
    "  {\n",
    "    string output = \"\";\n",
    "    foreach (char c in input)\n",
    "      output += Encode(c);\n",
    "    return output;\n",
    "  }\n",
    "}"
   ]
  },
  {
   "cell_type": "markdown",
   "id": "019682e2",
   "metadata": {},
   "source": [
    "When you are done you should be able to run the following code and get the corresponding output.\n",
    "The code first instantiates a cipher and then encodes both a `string` and a `char` and prints the results."
   ]
  },
  {
   "cell_type": "code",
   "execution_count": 32,
   "id": "f95a7e37",
   "metadata": {},
   "outputs": [
    {
     "name": "stdout",
     "output_type": "stream",
     "text": [
      "1337 3\n"
     ]
    }
   ],
   "source": [
    "LeetCipher leet = new LeetCipher();\n",
    "\n",
    "string output1 = leet.Encode(\"LEET\");\n",
    "char output2 = leet.Encode('E');\n",
    "\n",
    "Console.WriteLine($\"{output1} {output2}\");"
   ]
  },
  {
   "cell_type": "markdown",
   "id": "6ed35f4d",
   "metadata": {},
   "source": [
    "```{exercise-end}\n",
    "```\n",
    "\n",
    "\n",
    "\n",
    "\n",
    "```{exercise-start}\n",
    ":label: ex:instance-methods:point-print\n",
    "```\n",
    "In {numref}`ex:fields:point` we wrote a class called `Point` and a local method called `printPoint` that could print the coordinates of objects of type `Point`.\n",
    "\n",
    "Rewrite the class `Point` so that `Print` is now an instance method on the `Point` class itself.\n",
    "When you're done, you should be able to run the following code and get the same result."
   ]
  },
  {
   "cell_type": "code",
   "execution_count": 33,
   "id": "7b5ba802",
   "metadata": {
    "tags": [
     "remove-input"
    ]
   },
   "outputs": [],
   "source": [
    "class Point\n",
    "{\n",
    "  public int X = 0;\n",
    "  public int Y = 0;\n",
    "  public int Z = 0;\n",
    "\n",
    "  public void Print ()\n",
    "    => Console.WriteLine($\"{{X={X}, Y={Y}, Z={Z}}}\");\n",
    "}"
   ]
  },
  {
   "cell_type": "code",
   "execution_count": 34,
   "id": "d17dcf1e",
   "metadata": {},
   "outputs": [
    {
     "name": "stdout",
     "output_type": "stream",
     "text": [
      "{X=10, Y=20, Z=30}\n"
     ]
    },
    {
     "name": "stdout",
     "output_type": "stream",
     "text": [
      "{X=1, Y=2, Z=3}\n"
     ]
    }
   ],
   "source": [
    "Point p1 = new Point() { X=10, Y=20, Z=30 };\n",
    "Point p2 = new Point() { X=1,  Y=2,  Z=3 };\n",
    "\n",
    "p1.Print();\n",
    "p2.Print();"
   ]
  },
  {
   "cell_type": "markdown",
   "id": "6252ce29",
   "metadata": {},
   "source": [
    "```{exercise-end}\n",
    "```\n",
    "\n",
    "\n",
    "\n",
    "\n",
    "```{exercise-start}\n",
    ":label: ex:instance-methods:delta\n",
    "```\n",
    "In {numref}`ex:fields:delta` we defined a local function that took an object of type `Point` and an array of points.\n",
    "It then treated the coordinates of the first `Point` as a delta that should be applied to all points in the array.\n",
    "\n",
    "Let's now forget about the array but instead implement the idea of altering an object of type `Point` by passing it another object of type `Point` that will serve as the delta.\n",
    "\n",
    "Start from the code you wrote in {numref}`ex:instance-methods:point-print`.\n",
    "\n",
    "When you're done, you should be able to run the following code and get the same result."
   ]
  },
  {
   "cell_type": "code",
   "execution_count": 35,
   "id": "6e3e09f4",
   "metadata": {
    "tags": [
     "remove-input"
    ]
   },
   "outputs": [],
   "source": [
    "class Point\n",
    "{\n",
    "  public int X = 0;\n",
    "  public int Y = 0;\n",
    "  public int Z = 0;\n",
    "\n",
    "  public void Print ()\n",
    "    => Console.WriteLine($\"{{X={X}, Y={Y}, Z={Z}}}\");\n",
    "\n",
    "  public void Add (Point other)\n",
    "  {\n",
    "    X += other.X;\n",
    "    Y += other.Y;\n",
    "    Z += other.Z;\n",
    "  }\n",
    "}"
   ]
  },
  {
   "cell_type": "code",
   "execution_count": 36,
   "id": "ab35f21d",
   "metadata": {},
   "outputs": [
    {
     "name": "stdout",
     "output_type": "stream",
     "text": [
      "{X=11, Y=22, Z=33}\n"
     ]
    },
    {
     "name": "stdout",
     "output_type": "stream",
     "text": [
      "{X=101, Y=202, Z=303}\n"
     ]
    },
    {
     "name": "stdout",
     "output_type": "stream",
     "text": [
      "{X=1001, Y=2002, Z=3003}\n"
     ]
    }
   ],
   "source": [
    "Point[] points = new Point[] {\n",
    "  new Point() { X=10, Y=20, Z=30 },\n",
    "  new Point() { X=100, Y=200, Z=300 },\n",
    "  new Point() { X=1000, Y=2000, Z=3000 }\n",
    "};\n",
    "\n",
    "Point delta = new Point() { X=1, Y=2, Z=3 };\n",
    "\n",
    "foreach (Point point in points)\n",
    "{\n",
    "  point.Add(delta);\n",
    "  point.Print();\n",
    "}"
   ]
  },
  {
   "cell_type": "markdown",
   "id": "cbfd45b9",
   "metadata": {},
   "source": [
    "```{exercise-end}\n",
    "```\n",
    "\n",
    "\n",
    "\n",
    "\n",
    "```{exercise-start}\n",
    ":label: ex:instance-methods:point-this\n",
    "```\n",
    "Start from the code you wrote in {numref}`ex:instance-methods:delta`.\n",
    "\n",
    "Add another instance method to the class `Point` that has the signature `Point[] AddTo (Point[] points)`.\n",
    "The method should treat the object as the delta and then apply itself, via the `Add` method, to all the points in the array.\n",
    "\n",
    "In other words, we're solving the same problem we solved in {numref}`ex:fields:delta` but this time with instance methods.\n",
    "\n",
    "When you're done, you should be able to run the following code and get the same result."
   ]
  },
  {
   "cell_type": "code",
   "execution_count": 37,
   "id": "e9f8ca26",
   "metadata": {
    "tags": [
     "remove-input"
    ]
   },
   "outputs": [],
   "source": [
    "class Point\n",
    "{\n",
    "  public int X = 0;\n",
    "  public int Y = 0;\n",
    "  public int Z = 0;\n",
    "\n",
    "  public void Print ()\n",
    "    => Console.WriteLine($\"{{X={X}, Y={Y}, Z={Z}}}\");\n",
    "\n",
    "  public void Add (Point other)\n",
    "  {\n",
    "    X += other.X;\n",
    "    Y += other.Y;\n",
    "    Z += other.Z;\n",
    "  }\n",
    "\n",
    "  public Point[] AddTo (Point[] points)\n",
    "  {\n",
    "    foreach (Point point in points)\n",
    "      point.Add(this);\n",
    "    return points;\n",
    "  }\n",
    "}"
   ]
  },
  {
   "cell_type": "code",
   "execution_count": 38,
   "id": "6312568e",
   "metadata": {},
   "outputs": [
    {
     "name": "stdout",
     "output_type": "stream",
     "text": [
      "{X=11, Y=22, Z=33}\n"
     ]
    },
    {
     "name": "stdout",
     "output_type": "stream",
     "text": [
      "{X=101, Y=202, Z=303}\n"
     ]
    },
    {
     "name": "stdout",
     "output_type": "stream",
     "text": [
      "{X=1001, Y=2002, Z=3003}\n"
     ]
    }
   ],
   "source": [
    "Point[] points = new Point[] {\n",
    "  new Point() { X=10, Y=20, Z=30 },\n",
    "  new Point() { X=100, Y=200, Z=300 },\n",
    "  new Point() { X=1000, Y=2000, Z=3000 }\n",
    "};\n",
    "\n",
    "Point delta = new Point() { X=1, Y=2, Z=3 };\n",
    "delta.AddTo(points);\n",
    "\n",
    "foreach (Point point in points)\n",
    "  point.Print();"
   ]
  },
  {
   "cell_type": "markdown",
   "id": "16f9b773",
   "metadata": {},
   "source": [
    "```{hint}\n",
    ":class: dropdown\n",
    "In this solution you should pass `this` as an argument to the instance method `Add`.\n",
    "```\n",
    "```{exercise-end}\n",
    "```\n",
    "\n",
    "\n",
    "\n",
    "```{exercise}\n",
    "Draw a UML class diagram of the class `Point` as defined in {numref}`ex:instance-methods:point-this`.\n",
    "Remember to include all fields and operations.\n",
    "```\n",
    "\n",
    "\n",
    "\n",
    "\n",
    "\n",
    "%```{exercise-start}\n",
    "%```\n",
    "%Start with the classes you wrote in {numref}`ex:first-classes`.\n",
    "%What does the following code print?\n",
    "%Why is this the output that we get?\n",
    "%\n",
    "%```{code-cell}\n",
    "%Apple f1 = new Apple();\n",
    "%Pear f2 = new Pear();\n",
    "%Console.WriteLine(f1);\n",
    "%Console.WriteLine(f2);\n",
    "%```\n",
    "%```{exercise-end}\n",
    "%```\n",
    "\n",
    "\n",
    "\n",
    "%---\n",
    "\n",
    "%### Substitution ciphers\n",
    "%Remember the idea of substitution ciphers?\n",
    "%Let's start with the four overloaded static methods that we defined in {numref}`ex:overloading-substitutions` in the chapter on [overloading](overloading).\n",
    "%\n",
    "%UNFORTUNATELY WE HAVE LESS CODE REUSE NOW THAT WE HAVE MOVED TO INSTANCE METHODS. WE'LL GET IT BACK LATER. DONT WORRY.\n",
    "%WHY DO WE LOOSE THIS ABILITY?\n",
    "%Because when we want to store the substitutions via the constructor we need to have a single type for it.\n",
    "%We're not going to be able to get back this code reuse before we get to [generics](generics).\n",
    "%\n",
    "%\n",
    "%```{code-cell} csharp\n",
    "%class CharSubstitution\n",
    "%{\n",
    "%  (char, char)[] substitutions;\n",
    "%\n",
    "%  public CharSubstitution ((char, char)[] substitutions)\n",
    "%    => this.substitutions = substitutions;\n",
    "%\n",
    "%  public char Substitute (char input)\n",
    "%  {\n",
    "%    foreach ((char, char) sub in substitutions)\n",
    "%      if (sub.Item1 == input)\n",
    "%        return sub.Item2;\n",
    "%    return input;\n",
    "%  }\n",
    "%\n",
    "%  public string Substitute (string input)\n",
    "%  {\n",
    "%    string output = \"\";\n",
    "%    foreach (char c in input)\n",
    "%      output += Substitute(c);\n",
    "%    return output;\n",
    "%  }\n",
    "%}\n",
    "%```\n",
    "%\n",
    "%```{code-cell} csharp\n",
    "%var subs = new (char,char)[] { ('A', '4') };\n",
    "%CharSubstitution cipher = new CharSubstitution(subs);\n",
    "%cipher.Substitute('A');\n",
    "%cipher.Substitute(\"ABC\");\n",
    "%```\n",
    "%\n",
    "%```{code-cell} csharp\n",
    "%cipher.Substitute(\"ABC\");\n",
    "%```\n",
    "%\n",
    "%```{code-cell} csharp\n",
    "%class StringSubstitution\n",
    "%{\n",
    "%  (char,string)[] substitutions;\n",
    "%\n",
    "%  public StringSubstitution ((char,string)[] substitutions)\n",
    "%    => this.substitutions = substitutions;\n",
    "%\n",
    "%  public string Substitute (char input)\n",
    "%  {\n",
    "%    foreach ((char,string) sub in substitutions)\n",
    "%      if (sub.Item1 == input)\n",
    "%        return sub.Item2;\n",
    "%    return input.ToString();\n",
    "%  }\n",
    "%\n",
    "%  public string Substitute (string input)\n",
    "%  {\n",
    "%    string output = \"\";\n",
    "%    foreach (char c in input)\n",
    "%      output += Substitute(c);\n",
    "%    return output;\n",
    "%  }\n",
    "%}\n",
    "%```\n",
    "%\n",
    "%\n",
    "%\n",
    "%\n",
    "%\n",
    "%### Caesar substitutions\n",
    "%\n",
    "%````{admonition} TODO\n",
    "%How would we build a Caesar cipher with this method?\n",
    "%Well, we need to build up a massive array of tuples that describe all the substitutions for a given number of steps.\n",
    "%Hmm.. sounds like we could use a method for that right?\n",
    "%Have a look at the code below.\n",
    "%\n",
    "%```csharp\n",
    "%static (char, char)[] MakeCaesarSubstitutions (int steps)\n",
    "%{\n",
    "%  string alphabet = \"ABCDEFGHIJKLMNOPQRSTUVWXYZ\";\n",
    "%  (char, char)[] output = new (char, char)[alphabet.Length * 2];\n",
    "%  for (int i=0; i<alphabet.Length; i++)\n",
    "%  {\n",
    "%    int newIndex = (i + steps) % alphabet.Length;\n",
    "%    if (newIndex < 0) newIndex += alphabet.Length;\n",
    "%    output[i*2  ] = (alphabet[i], alphabet[newIndex]);\n",
    "%    output[i*2+1] = (Char.ToLower(alphabet[i]), Char.ToLower(alphabet[newIndex]));\n",
    "%  }\n",
    "%  return output;\n",
    "%}\n",
    "%```\n",
    "%\n",
    "%With that helper method in place we are able to generate the list of substitution tuples needed to run a Caesar encoding with any number of steps, for both uppercase and lowercase letters.\n",
    "%We would run it like this:\n",
    "%\n",
    "%```csharp\n",
    "%// Compactly\n",
    "%Console.WriteLine( SubstituteString(\"Run!\", MakeCaesarSubstitutions(2)) );\n",
    "%\n",
    "%// Or more verbosely\n",
    "%(char,char)[] substitutions = MakeCaesarSubstitutions(2);\n",
    "%string input = \"Run!\";\n",
    "%string output = SubstituteString(input, substitutions);\n",
    "%Console.WriteLine(output);\n",
    "%```\n",
    "%\n",
    "%```output\n",
    "%Twp!\n",
    "%Twp!\n",
    "%```\n",
    "%````\n",
    "%\n",
    "%\n",
    "\n",
    "%```{exercise}\n",
    "%In this chapter we stated that the two classes `CharSubstitution` and `StringSubstitution` cannot be sensibly merged into a single class.\n",
    "%Why is this?\n",
    "%Explain using your own words.\n",
    "%```"
   ]
  }
 ],
 "metadata": {
  "jupytext": {
   "formats": "md:myst",
   "text_representation": {
    "extension": ".md",
    "format_name": "myst"
   }
  },
  "kernelspec": {
   "display_name": "csharp",
   "language": ".net-csharp",
   "name": ".net-csharp"
  },
  "language_info": {
   "file_extension": ".cs",
   "mimetype": "text/x-csharp",
   "name": "C#",
   "pygments_lexer": "csharp",
   "version": "10.0"
  },
  "source_map": [
   11,
   112,
   118,
   124,
   127,
   138,
   147,
   170,
   176,
   212,
   227,
   238,
   247,
   258,
   274,
   280,
   289,
   305,
   309,
   337,
   358,
   367,
   385,
   528,
   549,
   554,
   559,
   573,
   580,
   589,
   591,
   595,
   597,
   613,
   615,
   655,
   677,
   688,
   691,
   695,
   699,
   701,
   721,
   752,
   756,
   761,
   765,
   767,
   824,
   829,
   876,
   923,
   937,
   940,
   958,
   988,
   993,
   1000,
   1014,
   1026,
   1032,
   1050,
   1069,
   1083,
   1101,
   1127,
   1139
  ]
 },
 "nbformat": 4,
 "nbformat_minor": 5
}