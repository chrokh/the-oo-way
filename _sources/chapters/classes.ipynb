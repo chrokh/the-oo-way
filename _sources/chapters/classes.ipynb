{
 "cells": [
  {
   "cell_type": "markdown",
   "id": "6539e1fb",
   "metadata": {},
   "source": [
    "% TODO: IMPORTANT!!!!!!!: I should make chapters much smaller. Classes should be a chapter of which e.g. type testing should be a subsection that has its own division into Motiviation/Definition/Examples. This will make it MUCH easier to write!\n",
    "\n",
    "% TODO:!!! Must discuss default values, initially assigned, definitely assigned, etc somewhere. In some places variables are assigned defaults and in some they are not. This is a very important concept in C#. We can discuss the generalization beyond C#. Are variables assigned default values or not, and what is the default value.\n",
    "\n",
    "# Classes\n",
    "\n",
    "## Motivation\n",
    "\n",
    "Where do objects come from?\n",
    "We've said that in object oriented programming we compose simple objects to solve complex problems.\n",
    "Fair enough.\n",
    "But how do we create these objects?\n",
    "Where do they come from?\n",
    "\n",
    "In general, there are two types of object oriented languages:\n",
    "\n",
    "1. Class based object oriented languages.\n",
    "2. Prototype based object oriented languages.\n",
    "\n",
    "In the former, objects are created by instantiating classes.\n",
    "In the latter objects are created by cloning prototypes.\n",
    "\n",
    "```{note}\n",
    "Since C# is a class based object oriented language, we won't discuss the idea of prototypes at length.\n",
    "However, you can think of it this way.\n",
    "In a prototype based object oriented language you define an object that serves as the prototypical object of some type.\n",
    "That object can then be cloned in order to create new instances of the same type.\n",
    "```\n",
    "\n",
    "\n",
    "## Definition\n",
    "\n",
    "A class defines a type.\n",
    "So, if we define a class then we're also defining a type with the same name as that class.\n",
    "\n",
    "Values of the type that's defined by a class are either called \"objects\"  or \"instances\" of that class.\n",
    "The words \"object\" and \"instance\" mean the same thing.\n",
    "\n",
    "From a set theory perspective, a class, just like a type, defines a set.\n",
    "The members of the set are the objects or instances of that class.\n",
    "\n",
    "\n",
    "### Declaration\n",
    "\n",
    "To declare a class in C# we simply use the keyword `class` and follow it with the identifier name that we want to use to refer to the class and hence to the type.\n",
    "\n",
    "If we, for example, wanted to define a class that models cats, we could say like this:"
   ]
  },
  {
   "cell_type": "code",
   "execution_count": 1,
   "id": "808d9456",
   "metadata": {},
   "outputs": [
    {
     "data": {
      "text/html": [
       "\r\n",
       "<div>\r\n",
       "    <div id='dotnet-interactive-this-cell-2404.Microsoft.DotNet.Interactive.Http.HttpPort' style='display: none'>\r\n",
       "        The below script needs to be able to find the current output cell; this is an easy method to get it.\r\n",
       "    </div>\r\n",
       "    <script type='text/javascript'>\r\n",
       "async function probeAddresses(probingAddresses) {\r\n",
       "    function timeout(ms, promise) {\r\n",
       "        return new Promise(function (resolve, reject) {\r\n",
       "            setTimeout(function () {\r\n",
       "                reject(new Error('timeout'))\r\n",
       "            }, ms)\r\n",
       "            promise.then(resolve, reject)\r\n",
       "        })\r\n",
       "    }\r\n",
       "\r\n",
       "    if (Array.isArray(probingAddresses)) {\r\n",
       "        for (let i = 0; i < probingAddresses.length; i++) {\r\n",
       "\r\n",
       "            let rootUrl = probingAddresses[i];\r\n",
       "\r\n",
       "            if (!rootUrl.endsWith('/')) {\r\n",
       "                rootUrl = `${rootUrl}/`;\r\n",
       "            }\r\n",
       "\r\n",
       "            try {\r\n",
       "                let response = await timeout(1000, fetch(`${rootUrl}discovery`, {\r\n",
       "                    method: 'POST',\r\n",
       "                    cache: 'no-cache',\r\n",
       "                    mode: 'cors',\r\n",
       "                    timeout: 1000,\r\n",
       "                    headers: {\r\n",
       "                        'Content-Type': 'text/plain'\r\n",
       "                    },\r\n",
       "                    body: probingAddresses[i]\r\n",
       "                }));\r\n",
       "\r\n",
       "                if (response.status == 200) {\r\n",
       "                    return rootUrl;\r\n",
       "                }\r\n",
       "            }\r\n",
       "            catch (e) { }\r\n",
       "        }\r\n",
       "    }\r\n",
       "}\r\n",
       "\r\n",
       "function loadDotnetInteractiveApi() {\r\n",
       "    probeAddresses([\"http://10.1.1.32:1024/\", \"http://127.0.0.1:1024/\"])\r\n",
       "        .then((root) => {\r\n",
       "        // use probing to find host url and api resources\r\n",
       "        // load interactive helpers and language services\r\n",
       "        let dotnetInteractiveRequire = require.config({\r\n",
       "        context: '2404.Microsoft.DotNet.Interactive.Http.HttpPort',\r\n",
       "                paths:\r\n",
       "            {\r\n",
       "                'dotnet-interactive': `${root}resources`\r\n",
       "                }\r\n",
       "        }) || require;\r\n",
       "\r\n",
       "            window.dotnetInteractiveRequire = dotnetInteractiveRequire;\r\n",
       "\r\n",
       "            window.configureRequireFromExtension = function(extensionName, extensionCacheBuster) {\r\n",
       "                let paths = {};\r\n",
       "                paths[extensionName] = `${root}extensions/${extensionName}/resources/`;\r\n",
       "                \r\n",
       "                let internalRequire = require.config({\r\n",
       "                    context: extensionCacheBuster,\r\n",
       "                    paths: paths,\r\n",
       "                    urlArgs: `cacheBuster=${extensionCacheBuster}`\r\n",
       "                    }) || require;\r\n",
       "\r\n",
       "                return internalRequire\r\n",
       "            };\r\n",
       "        \r\n",
       "            dotnetInteractiveRequire([\r\n",
       "                    'dotnet-interactive/dotnet-interactive'\r\n",
       "                ],\r\n",
       "                function (dotnet) {\r\n",
       "                    dotnet.init(window);\r\n",
       "                },\r\n",
       "                function (error) {\r\n",
       "                    console.log(error);\r\n",
       "                }\r\n",
       "            );\r\n",
       "        })\r\n",
       "        .catch(error => {console.log(error);});\r\n",
       "    }\r\n",
       "\r\n",
       "// ensure `require` is available globally\r\n",
       "if ((typeof(require) !==  typeof(Function)) || (typeof(require.config) !== typeof(Function))) {\r\n",
       "    let require_script = document.createElement('script');\r\n",
       "    require_script.setAttribute('src', 'https://cdnjs.cloudflare.com/ajax/libs/require.js/2.3.6/require.min.js');\r\n",
       "    require_script.setAttribute('type', 'text/javascript');\r\n",
       "    \r\n",
       "    \r\n",
       "    require_script.onload = function() {\r\n",
       "        loadDotnetInteractiveApi();\r\n",
       "    };\r\n",
       "\r\n",
       "    document.getElementsByTagName('head')[0].appendChild(require_script);\r\n",
       "}\r\n",
       "else {\r\n",
       "    loadDotnetInteractiveApi();\r\n",
       "}\r\n",
       "\r\n",
       "    </script>\r\n",
       "</div>"
      ]
     },
     "metadata": {},
     "output_type": "display_data"
    }
   ],
   "source": [
    "class Cat\n",
    "{\n",
    "  // Class members are defined here...\n",
    "}"
   ]
  },
  {
   "cell_type": "markdown",
   "id": "7394d679",
   "metadata": {},
   "source": [
    "Class identifier names in C# conventionally start with a capital letter.\n",
    "In fact, type names in most programming languages, usually start with a capital letter.\n",
    "This is why we have named the class above `Cat` with an uppercase \"C\" rather than `cat` with a lowercase \"c\".\n",
    "\n",
    "Within the opening (`{`) and closing (`}`) curly brackets we would define the members of the class.\n",
    "We'll talk more about what members are in a moment.\n",
    "\n",
    "```{tip}\n",
    "If you are using Visual Studio then you can right-click on your project, choose \"Add\", and then \"Class\" to easily create a new file with the same name as the name of your class and the necessary boilerplate code.\n",
    "```\n",
    "\n",
    "\n",
    "### Instantiation\n",
    "\n",
    "To understand the difference between classes and objects think of the difference between the notion of a number and that of any particular number.\n",
    "The idea of a number refers to the set of all numbers.\n",
    "But when talking about any particular number we're talking about a particular member of the set.\n",
    "\n",
    "The particular number `3` is not the same as the idea of numbers.\n",
    "Similarly, the idea of numbers is not the same as any particular number.\n",
    "\n",
    "We might for example define a class called `Nat` which we want to use to model natural numbers.\n",
    "Meaning whole numbers larger than zero.\n",
    "Any particular instance of the class `Nat` then corresponds to any particular natural number, such as `3`.\n",
    "\n",
    "%Have a look at {numref}`fig:class-vs-objects`.\n",
    "If we've got objects stored in variables named `\"garfield\"`, `\"simba\"`, `\"bagheera\"`,  and `\"pelle svanslös\"` then the class of which they are instances might be called `Cat`.\n",
    "Neither one of the objects are classes.\n",
    "Stated differently, neither one of these specific cats are a generic representation of the notion of cat:ness.\n",
    "They are *not* the *idea* of cat.\n",
    "They are however *instances* of the idea of a cat.\n",
    "They are let's call it embodiments of the idea of a cat.\n",
    "They are models of actual cats, not of the idea of a cat.\n",
    "Conversely, the class `Cat` is not an object, it is the type that these two objects share.\n",
    "\n",
    "% TODO: Draw image of how multiple objects can be derived from a single class.\n",
    "%``{figure} https://via.placeholder.com/700x200?text=Image+coming+soon\n",
    "%:name: fig:class-vs-objects\n",
    "%\n",
    "%Objects are instances (values) of a class.\n",
    "%``\n",
    "\n",
    "```{hint}\n",
    "If you don't understand the difference between classes and objects/instances then you don't understand the difference between types and values.\n",
    "Let me humbly suggest that you go back and re-read the chapters on [values](values) and [data types](data-types).\n",
    "The difference between classes and objects corresponds to the difference between types and values.\n",
    "```\n",
    "\n",
    "To instantiate a class in C# we use the `new` operator and follow it with the identifier, meaning the name of the class.\n",
    "So if we have a class called `Cat` then we would create instances of the `Cat` class by saying:"
   ]
  },
  {
   "cell_type": "code",
   "execution_count": 2,
   "id": "18e2a1da",
   "metadata": {},
   "outputs": [],
   "source": [
    "new Cat();  // Creates an object (i.e. a value) of type Cat."
   ]
  },
  {
   "cell_type": "markdown",
   "id": "d33d7c31",
   "metadata": {},
   "source": [
    "The opening (`(`) and closing (`)`) parentheses give us a hint that we're doing something that resembles calling a method.\n",
    "Indeed, the method that we're calling is known as a [constructor](constructors) of the class, and the two parentheses delimit the argument list of that constructor.\n",
    "A constructor return an instance of the class in which it is defined.\n",
    "We'll talk more about constructors in its own chapter.\n",
    "\n",
    "Since the class also defines a type, we can declare a variable to be of this type and assign it a value that's an instance of the class."
   ]
  },
  {
   "cell_type": "code",
   "execution_count": 3,
   "id": "2d1353a5",
   "metadata": {},
   "outputs": [],
   "source": [
    "Cat cat1 = new Cat();\n",
    "Cat cat2 = new Cat();"
   ]
  },
  {
   "cell_type": "markdown",
   "id": "5ccf4fdb",
   "metadata": {},
   "source": [
    "Since defining a class also means that we define a type, we can of course also declare a variable of that type without assigning it an instance.\n",
    "We would say that such a variable is an object reference that doesn't yet reference an object."
   ]
  },
  {
   "cell_type": "code",
   "execution_count": 4,
   "id": "9a182fe6",
   "metadata": {},
   "outputs": [],
   "source": [
    "Cat cat3;"
   ]
  },
  {
   "cell_type": "markdown",
   "id": "beb035d3",
   "metadata": {},
   "source": [
    "### Class members\n",
    "\n",
    "Remember how we in the chapter on [objects](objects) said that objects mix data and methods?\n",
    "In a class based object oriented langauge, this is achieved by defining class members.\n",
    "There are usually two kinds of class members:\n",
    "*Instance* members and *static* members.\n",
    "\n",
    "The most commonly used kinds of class members are [fields](fields), [methods](methods), and [constructors](constructors).\n",
    "These kinds of members can either be defined as instance members or as static members.\n",
    "\n",
    "Perhaps you remember, that we've actually already talked about [static methods](static-methods) in an earlier chapter.\n",
    "A static member is in other words a static member of the class in which it is defined.\n",
    "We talked about static methods in the context of [static classes](static-classes).\n",
    "Static classes are classes that *only* can contain static members.\n",
    "Non-static classes (which we usually simply call classes) however can contain both static and non-static members.\n",
    "So a static method can be defined on non-static classes as well.\n",
    "\n",
    "[Fields](fields) and [constructors](constructors) we will talk about in the chapters coming next.\n",
    "\n",
    "```{caution}\n",
    "The idea of `static` is, fundamentally, a procedural idea, *not* an object oriented idea.\n",
    "A static class can be thought of as a namespace, and a static method as a namespaced method.\n",
    "Nothing more fancy going on there.\n",
    "```\n",
    "\n",
    "```{seealso}\n",
    "For a complete list of the kinds of members that we can define on a class, please see [the official documentation](https://learn.microsoft.com/en-us/dotnet/csharp/programming-guide/classes-and-structs/members).\n",
    "```\n",
    "\n",
    "% \"Fields, properties, methods, and events on a class are collectively referred to as class members.\"\n",
    "% https://learn.microsoft.com/en-us/dotnet/csharp/programming-guide/classes-and-structs/members\n",
    "\n",
    "\n",
    "\n",
    "\n",
    "(classes:uml)=\n",
    "### UML class diagrams\n",
    "\n",
    "In this book we make heavy use of UML class diagrams.\n",
    "When reasoning about object oriented design nothing is really quite as efficient as using UML class diagrams.\n",
    "Even if only informally.\n",
    "Having a good understanding of UML class diagram notation is essential if we are to be able to eventually understand object oriented [design patterns](design-patterns).\n",
    "\n",
    "We'll discuss the syntax of UML class diagrams in every chapter where we're covering a concept that's also possible to model using UML class diagram syntax.\n",
    "\n",
    "For now, it's enough to know that to depict a class in a UML class diagram, we draw a rectangle with three sections.\n",
    "See the figure below.\n",
    "\n",
    "```\n",
    "┌────────────────────┐\n",
    "│ <class identifier> │\n",
    "├────────────────────┤\n",
    "│                    │\n",
    "│    <attributes>    │\n",
    "│                    │\n",
    "├────────────────────┤\n",
    "│                    │\n",
    "│    <operations>    │\n",
    "│                    │\n",
    "└────────────────────┘\n",
    "```\n",
    "\n",
    "\n",
    "In the smaller top section we write the name of the class.\n",
    "In the middle section we write the attributes of the class.\n",
    "In the bottom section we write the operations of the class.\n",
    "Attributes are essentially instance variables (which in C# means that they are either instance [fields](fields) or instance [properties](properties)).\n",
    "Operations on the other hand are essentially [instance methods](instance-methods).\n",
    "We'll talk about these more in their respective chapters.\n",
    "The attributes and members of a class are together referred to as the \"members\" of the class.\n",
    "\n",
    "Consider for example the two classes `Apple` and `Pear` as defined below."
   ]
  },
  {
   "cell_type": "code",
   "execution_count": 5,
   "id": "d3e71e0c",
   "metadata": {},
   "outputs": [],
   "source": [
    "class Apple { }\n",
    "class Pear { }"
   ]
  },
  {
   "cell_type": "markdown",
   "id": "8f77c43f",
   "metadata": {},
   "source": [
    "To depict these classes using UML class diagram notation we would draw like this:\n",
    "\n",
    "```\n",
    "┌─────────────────────┐   ┌────────────────────┐\n",
    "│        Apple        │   │        Pear        │\n",
    "├─────────────────────┤   ├────────────────────┤\n",
    "│                     │   │                    │\n",
    "│                     │   │                    │\n",
    "├─────────────────────┤   ├────────────────────┤\n",
    "│                     │   │                    │\n",
    "│                     │   │                    │\n",
    "└─────────────────────┘   └────────────────────┘\n",
    "```\n",
    "\n",
    "UML class diagrams are often, just like with math, used with a tad of informality with the purpose of not bogging down the user with too many details.\n",
    "Consequently you will often find that a class is depicted without the line between attributes and operations.\n",
    "See the class `Apple` in the figure below for an example.\n",
    "\n",
    "If the members are not relevant for the sake of the argument that's trying to be made, you'll sometimes even find that they're even omitted altogether.\n",
    "See the class `Pear` in the figure below for an example.\n",
    "\n",
    "```\n",
    "┌─────────────────────┐   ┌────────────────────┐\n",
    "│        Apple        │   │                    │\n",
    "├─────────────────────┤   │                    │\n",
    "│                     │   │        Pear        │\n",
    "│                     │   │                    │\n",
    "│                     │   │                    │\n",
    "└─────────────────────┘   └────────────────────┘\n",
    "```\n",
    "\n",
    "Above: Two models of classes using a more informal UML class diagram syntax.\n",
    "\n",
    "\n",
    "\n",
    "\n",
    "### Equality\n",
    "\n",
    "It's possible to instantiate an infinite number of objects from a class.\n",
    "Whether all these objects are structurally different is a different question.\n",
    "But, any time we create an object from a class it's a new object.\n",
    "We cannot instantiate two objects that will be equal.\n",
    "\n",
    "Remember the [reference and value semantics](value-and-reference-semantics) that we talked about in a previous chapter?\n",
    "Classes in C#, define *reference types*.\n",
    "[Structure types](structure-types) (which we'll talk about later) define value types.\n",
    "\n",
    "Since classes have reference semantics that means that two different instances of a class are considered different objects, and thus inequivalent, even if they are structurally equivalent."
   ]
  },
  {
   "cell_type": "code",
   "execution_count": 6,
   "id": "6aa0a20e",
   "metadata": {},
   "outputs": [
    {
     "name": "stdout",
     "output_type": "stream",
     "text": [
      "False\n"
     ]
    }
   ],
   "source": [
    "Console.WriteLine(cat1 == cat2);"
   ]
  },
  {
   "cell_type": "markdown",
   "id": "5c52aa40",
   "metadata": {},
   "source": [
    "However, if we take one of the objects and assign it to the other variable, then suddenly both variables are equal.\n",
    "Why?\n",
    "Because they both contain the same object.\n",
    "We don't mean \"the same\" in the sense that they are structurally equivalent, we mean that both variables point to, literally, the same object."
   ]
  },
  {
   "cell_type": "code",
   "execution_count": 7,
   "id": "e9ff2030",
   "metadata": {},
   "outputs": [
    {
     "name": "stdout",
     "output_type": "stream",
     "text": [
      "True\n"
     ]
    }
   ],
   "source": [
    "Cat cat4 = cat1;\n",
    "Console.WriteLine(cat4 == cat1);"
   ]
  },
  {
   "cell_type": "markdown",
   "id": "4d34e12c",
   "metadata": {},
   "source": [
    "Think of it as if both variables are pointing to the same piece of memory in the machine.\n",
    "Remember how we, in the chapter on [value and reference semantics](value-and-reference-semantics), discussed how weird it would be if numbers followed reference semantics.\n",
    "Two instances of the number `3` would not be considered equal if they were not also pointing to the same object in memory.\n",
    "Reference semantics are quite unintuitive when it comes to some types, which is why the simple types are value types.\n",
    "\n",
    "For more complex types however, the reference semantics is slightly more intuitive.\n",
    "Two cats are only the same cat if they actually are the same cat.\n",
    "Once you've constructed a cat, there's only a single solitary instance of that cat.\n",
    "Any other new cat that you construct could not possibly be the same cat.\n",
    "\n",
    "Think about real life.\n",
    "If two identical twin kittens are born then it doesn't matter how \"identical\" they are.\n",
    "They are fundamentally not the same kitten.\n",
    "\n",
    "% TODO: Insert image of kittens?\n",
    "\n",
    "```{seealso}\n",
    "Of course, it's possible to make define your own class that behaves almost like a reference type by [overriding](overriding) some key methods.\n",
    "But that's a discussion for later.\n",
    "```\n",
    "\n",
    "\n",
    "### Assignment\n",
    "% TODO: This chapter should follow directly after instantiation.\n",
    "% TODO: What's the title here?\n",
    "Of course, when we assign an object to a variable, the run-time type of the object must be either equal to the compile-time type of the variable or a subtype of it.\n",
    "We've talked about this general idea when we discussed [run-time and compile-time types](run-time-and-compile-time-types).\n",
    "The object must either be of the same type as that of the variable or of, what we call, a \"substitutable\" type.\n",
    "\n",
    "[Subtyping](subtype-polymorphism) is something we'll discuss in a later chapter.\n",
    "So let's stick to equal types for the moment.\n",
    "This means that we cannot assign an instance of type `Dog` to a variable of type `Cat` if these two types are not in a subtyping relationship.\n",
    "This is essentially no different from how we cannot assign a value of type `string` to a variable of type `int`."
   ]
  },
  {
   "cell_type": "code",
   "execution_count": 8,
   "id": "2f448a19",
   "metadata": {
    "tags": [
     "raises-exception"
    ]
   },
   "outputs": [
    {
     "name": "stderr",
     "output_type": "stream",
     "text": [
      "\n",
      "(4,11): error CS0029: Cannot implicitly convert type 'Dog' to 'Cat'\n",
      "\n"
     ]
    },
    {
     "ename": "Error",
     "evalue": "compilation error",
     "output_type": "error",
     "traceback": []
    }
   ],
   "source": [
    "class Cat { }\n",
    "class Dog { }\n",
    "\n",
    "Cat cat = new Dog();"
   ]
  },
  {
   "cell_type": "markdown",
   "id": "087c77bf",
   "metadata": {},
   "source": [
    "(type-testing-objects)=\n",
    "### Type testing\n",
    "\n",
    "We've talked about object equality, let's now talk about type equality.\n",
    "Remember the methods `GetType` and `typeof` from the chapter on [type testing](type-testing)?\n",
    "These methods work on classes and objects just as well as they work on other types and other values.\n",
    "\n",
    "Let's define two new classes.\n",
    "One that models apples and another one that models pears."
   ]
  },
  {
   "cell_type": "code",
   "execution_count": 9,
   "id": "fcf29f84",
   "metadata": {},
   "outputs": [],
   "source": [
    "class Apple { }\n",
    "class Pear { }"
   ]
  },
  {
   "cell_type": "markdown",
   "id": "17a15cdd",
   "metadata": {},
   "source": [
    "You can extract the [compile-time type](run-time-and-compile-time-types) from the class name by using the `typeof` method.\n",
    "\n",
    "% TODO: For these manual examples \n",
    "```csharp\n",
    "Type t1 = typeof(Apple);\n",
    "Type t2 = typeof(Pear);\n",
    "\n",
    "Console.WriteLine(t1);\n",
    "Console.WriteLine(t2);\n",
    "```\n",
    "\n",
    "```\n",
    "Apple\n",
    "Pear\n",
    "```\n",
    "\n",
    "If you've defined the classes in a namespace, such as e.g. `System` then the program would instead print the name of your namespace followed by a dot and then the name of your class.\n",
    "\n",
    "```\n",
    "System.Apple\n",
    "System.Pear\n",
    "```\n",
    "\n",
    "Of course, we can then perform type testing to, at run-time, check whether two types are the same or not."
   ]
  },
  {
   "cell_type": "code",
   "execution_count": 10,
   "id": "f1dd99a5",
   "metadata": {},
   "outputs": [
    {
     "name": "stdout",
     "output_type": "stream",
     "text": [
      "True\n"
     ]
    },
    {
     "name": "stdout",
     "output_type": "stream",
     "text": [
      "True\n"
     ]
    },
    {
     "name": "stdout",
     "output_type": "stream",
     "text": [
      "False\n"
     ]
    }
   ],
   "source": [
    "Console.WriteLine(typeof(Apple) == typeof(Apple));\n",
    "Console.WriteLine(typeof(Pear)  == typeof(Pear));\n",
    "Console.WriteLine(typeof(Apple) == typeof(Pear));"
   ]
  },
  {
   "cell_type": "markdown",
   "id": "36a922be",
   "metadata": {},
   "source": [
    "Ok, so that's the compile-time type.\n",
    "But what about the [run-time type](run-time-and-compile-time-types)?\n",
    "Same thing as in the chapter on [type testing](type-testing).\n",
    "You can extract the run-time type from an object constructed from a class by using the [instance method](instance-methods) `GetType()`.\n",
    "We have still not talked about instance methods, but now we're getting very, very close.\n",
    "\n",
    "```\n",
    "Apple apple = new Apple();\n",
    "Type t3 = apple.GetType();\n",
    "Console.WriteLine(t3);\n",
    "```\n",
    "\n",
    "```\n",
    "Apple\n",
    "```\n",
    "\n",
    "So then we can of course check if the run-time type of an object corresponds to some compile-time type."
   ]
  },
  {
   "cell_type": "code",
   "execution_count": 11,
   "id": "f63ef827",
   "metadata": {},
   "outputs": [
    {
     "name": "stdout",
     "output_type": "stream",
     "text": [
      "True\n"
     ]
    },
    {
     "name": "stdout",
     "output_type": "stream",
     "text": [
      "False\n"
     ]
    }
   ],
   "source": [
    "Apple apple = new Apple();\n",
    "Console.WriteLine(apple.GetType() == typeof(Apple));\n",
    "Console.WriteLine(apple.GetType() == typeof(Pear));"
   ]
  },
  {
   "cell_type": "markdown",
   "id": "8e345fb9",
   "metadata": {},
   "source": [
    "As we saw in the chapter on [type testing](type-testing), we can also use the more compact pattern `is` to achieve the same thing."
   ]
  },
  {
   "cell_type": "code",
   "execution_count": 12,
   "id": "96d3cef5",
   "metadata": {
    "tags": [
     "remove-stderr"
    ]
   },
   "outputs": [
    {
     "name": "stdout",
     "output_type": "stream",
     "text": [
      "True\n"
     ]
    },
    {
     "name": "stdout",
     "output_type": "stream",
     "text": [
      "False\n"
     ]
    },
    {
     "name": "stderr",
     "output_type": "stream",
     "text": [
      "\n",
      "(2,19): warning CS0184: The given expression is never of the provided ('Pear') type\n",
      "\n"
     ]
    }
   ],
   "source": [
    "Console.WriteLine(apple is Apple);\n",
    "Console.WriteLine(apple is Pear);"
   ]
  },
  {
   "cell_type": "markdown",
   "id": "c116664c",
   "metadata": {},
   "source": [
    "%TODO: What to keep from the below?\n",
    "%## Examples\n",
    "\n",
    "%- Equivalence (i.e. two structurally equivalent objects are not necessarily the same).\n",
    "%- Public instance variables (objects can hold state).\n",
    "%- UML class diagrams (start early and introduce piece by piece\n",
    "  % - https://www.omg.org/spec/UML/2.5.1/PDF\n",
    "  % Fig 11.22 (p. 198) for constructors.\n",
    "%- Usually nouns. Methods are usually verbs.\n",
    "%- Members\n",
    "%  - https://docs.microsoft.com/en-us/dotnet/csharp/fundamentals/object-oriented/\n",
    "%  - Make an informal distinction between which of these concepts are object oriented and which are not.\n",
    "%\n",
    "%- TODO: Documentation comments.\n",
    "\n",
    "\n",
    "\n",
    "\n",
    "\n",
    "(throwing-exceptions)=\n",
    "### Exceptions\n",
    "\n",
    "Let's talk about one more thing before we move on.\n",
    "Remember how our programs throw an [exception](exceptions) if, for example, we try to access an index that's outside the bounds of an [array](array)?\n",
    "\n",
    "Well, we can also throw exceptions ourselves.\n",
    "To throw an exception, in C#, we simply type `throw` and then instantiate an exception class.\n",
    "\n",
    "What are some available exception classes in .NET?\n",
    "To find that out we have to resort to the [documentation](https://learn.microsoft.com/en-us/dotnet/api/system.exception?view=net-7.0).\n",
    "\n",
    "One exception that we use extensively in this book, is `ArgumentException`.\n",
    "Try instantiating and throwing an exception and see what happens."
   ]
  },
  {
   "cell_type": "code",
   "execution_count": 13,
   "id": "d23a687f",
   "metadata": {
    "tags": [
     "raises-exception"
    ]
   },
   "outputs": [
    {
     "ename": "Error",
     "evalue": "System.ArgumentException: Value does not fall within the expected range.\n   at Submission#15.<<Initialize>>d__0.MoveNext()\n--- End of stack trace from previous location ---\n   at Microsoft.CodeAnalysis.Scripting.ScriptExecutionState.RunSubmissionsAsync[TResult](ImmutableArray`1 precedingExecutors, Func`2 currentExecutor, StrongBox`1 exceptionHolderOpt, Func`2 catchExceptionOpt, CancellationToken cancellationToken)",
     "output_type": "error",
     "traceback": [
      "System.ArgumentException: Value does not fall within the expected range.\n   at Submission#15.<<Initialize>>d__0.MoveNext()\n--- End of stack trace from previous location ---\n   at Microsoft.CodeAnalysis.Scripting.ScriptExecutionState.RunSubmissionsAsync[TResult](ImmutableArray`1 precedingExecutors, Func`2 currentExecutor, StrongBox`1 exceptionHolderOpt, Func`2 catchExceptionOpt, CancellationToken cancellationToken)",
      "   at Submission#15.<<Initialize>>d__0.MoveNext()",
      "--- End of stack trace from previous location ---",
      "   at Microsoft.CodeAnalysis.Scripting.ScriptExecutionState.RunSubmissionsAsync[TResult](ImmutableArray`1 precedingExecutors, Func`2 currentExecutor, StrongBox`1 exceptionHolderOpt, Func`2 catchExceptionOpt, CancellationToken cancellationToken)"
     ]
    }
   ],
   "source": [
    "throw new ArgumentException();"
   ]
  },
  {
   "cell_type": "markdown",
   "id": "066ed592",
   "metadata": {},
   "source": [
    "We'll talk about how to define our own [custom exceptions](custom-exceptions) in a later chapter.\n",
    "\n",
    "\n",
    "\n",
    "## Exercises\n",
    "\n",
    "```{exercise}\n",
    "What is the difference between an object and a class?\n",
    "```\n",
    "\n",
    "```{exercise}\n",
    "What is the difference between an object and an instance?\n",
    "```\n",
    "\n",
    "```{exercise-start}\n",
    "```\n",
    "Given that we have defined a class called `House` with no members like this:"
   ]
  },
  {
   "cell_type": "code",
   "execution_count": 14,
   "id": "21feac50",
   "metadata": {},
   "outputs": [],
   "source": [
    "class House { }"
   ]
  },
  {
   "cell_type": "markdown",
   "id": "b7e325ea",
   "metadata": {},
   "source": [
    "Will the variable `b` below contain `true` or `false`?\n",
    "Why is this?"
   ]
  },
  {
   "cell_type": "code",
   "execution_count": 15,
   "id": "1abbfd6b",
   "metadata": {},
   "outputs": [],
   "source": [
    "House h1 = new House();\n",
    "House h2 = new House();\n",
    "bool b = h1 == h2;"
   ]
  },
  {
   "cell_type": "markdown",
   "id": "f1c7bcea",
   "metadata": {},
   "source": [
    "Does it matter if we instead write the code like this?"
   ]
  },
  {
   "cell_type": "code",
   "execution_count": 16,
   "id": "d1dcb203",
   "metadata": {},
   "outputs": [],
   "source": [
    "bool b = new House() == new House();"
   ]
  },
  {
   "cell_type": "markdown",
   "id": "1664d6cd",
   "metadata": {},
   "source": [
    "```{exercise-end}\n",
    "```\n",
    "\n",
    "\n",
    "```{exercise}\n",
    "Create a UML class diagram that depicts two classes.\n",
    "One class is called `Apple` and the other `Pear`.\n",
    "```\n",
    "\n",
    "\n",
    "```{exercise-start}\n",
    "```\n",
    "Write two classes called `Apple` and `Pear`.\n",
    "When you're done, you should be able to run the following code and get the same result.\n",
    "Why do we get `true` in some cases as output and `false` in other?"
   ]
  },
  {
   "cell_type": "code",
   "execution_count": 17,
   "id": "d13714e2",
   "metadata": {
    "tags": [
     "remove-input"
    ]
   },
   "outputs": [],
   "source": [
    "class Apple {}\n",
    "class Pear {}"
   ]
  },
  {
   "cell_type": "code",
   "execution_count": 18,
   "id": "9b39c108",
   "metadata": {
    "tags": [
     "remove-stderr"
    ]
   },
   "outputs": [
    {
     "name": "stdout",
     "output_type": "stream",
     "text": [
      "True\n"
     ]
    },
    {
     "name": "stdout",
     "output_type": "stream",
     "text": [
      "False\n"
     ]
    },
    {
     "name": "stdout",
     "output_type": "stream",
     "text": [
      "True\n"
     ]
    },
    {
     "name": "stdout",
     "output_type": "stream",
     "text": [
      "False\n"
     ]
    },
    {
     "name": "stderr",
     "output_type": "stream",
     "text": [
      "\n",
      "(7,19): warning CS1718: Comparison made to same variable; did you mean to compare something else?\n",
      "\n",
      "(9,19): warning CS1718: Comparison made to same variable; did you mean to compare something else?\n",
      "\n"
     ]
    }
   ],
   "source": [
    "Apple apple1 = new Apple();\n",
    "Apple apple2 = new Apple();\n",
    "\n",
    "Pear pear1 = new Pear();\n",
    "Pear pear2 = new Pear();\n",
    "\n",
    "Console.WriteLine(apple1 == apple1);\n",
    "Console.WriteLine(apple1 == apple2);\n",
    "Console.WriteLine(pear1 == pear1);\n",
    "Console.WriteLine(pear1 == pear2);"
   ]
  },
  {
   "cell_type": "markdown",
   "id": "f6c7b002",
   "metadata": {},
   "source": [
    "```{exercise-end}\n",
    "```\n",
    "\n",
    "\n",
    "```{exercise-start}\n",
    "```\n",
    "Write two classes called `Apple` and `Pear`.\n",
    "Why does the following line generate a compiler error?"
   ]
  },
  {
   "cell_type": "code",
   "execution_count": 19,
   "id": "56daca3b",
   "metadata": {
    "tags": [
     "remove-input"
    ]
   },
   "outputs": [],
   "source": [
    "class Apple {}\n",
    "class Pear {}"
   ]
  },
  {
   "cell_type": "code",
   "execution_count": 20,
   "id": "584b5872",
   "metadata": {
    "tags": [
     "raises-exception",
     "remove-stderr",
     "remove-output"
    ]
   },
   "outputs": [
    {
     "name": "stderr",
     "output_type": "stream",
     "text": [
      "\n",
      "(1,13): error CS0029: Cannot implicitly convert type 'Pear' to 'Apple'\n",
      "\n"
     ]
    },
    {
     "ename": "Error",
     "evalue": "compilation error",
     "output_type": "error",
     "traceback": []
    }
   ],
   "source": [
    "Apple obj = new Pear();"
   ]
  },
  {
   "cell_type": "markdown",
   "id": "b425478b",
   "metadata": {},
   "source": [
    "```{exercise-end}\n",
    "```\n",
    "\n",
    "\n",
    "```{exercise-start}\n",
    "```\n",
    "Write two classes called `Apple` and `Pear`.\n",
    "Try to run the following code.\n",
    "\n",
    "1. What is the compiler error that it results in?\n",
    "2. Why does it result in a compiler error?"
   ]
  },
  {
   "cell_type": "code",
   "execution_count": 21,
   "id": "c34c0a22",
   "metadata": {
    "tags": [
     "raises-exception",
     "remove-output"
    ]
   },
   "outputs": [
    {
     "name": "stderr",
     "output_type": "stream",
     "text": [
      "\n",
      "(3,19): error CS0019: Operator '==' cannot be applied to operands of type 'Apple' and 'Pear'\n",
      "\n"
     ]
    },
    {
     "ename": "Error",
     "evalue": "compilation error",
     "output_type": "error",
     "traceback": []
    }
   ],
   "source": [
    "Apple apple = new Apple();\n",
    "Pear pear = new Pear();\n",
    "Console.WriteLine(apple == pear);"
   ]
  },
  {
   "cell_type": "markdown",
   "id": "45dad94f",
   "metadata": {},
   "source": [
    "```{exercise-end}\n",
    "```\n",
    "\n",
    "\n",
    "```{exercise-start}\n",
    "```\n",
    "Write two classes called `Apple` and `Pear`.\n",
    "Try to run the following lines of code.\n",
    "\n",
    "1. Which of the lines cause compiler errors?\n",
    "2. Why do they give a compiler errors?"
   ]
  },
  {
   "cell_type": "code",
   "execution_count": 22,
   "id": "deabdd40",
   "metadata": {
    "tags": [
     "raises-exception",
     "remove-output"
    ]
   },
   "outputs": [
    {
     "name": "stderr",
     "output_type": "stream",
     "text": [
      "\n",
      "(2,12): error CS0029: Cannot implicitly convert type 'Pear' to 'Apple'\n",
      "\n",
      "(4,11): error CS0029: Cannot implicitly convert type 'Apple' to 'Pear'\n",
      "\n"
     ]
    },
    {
     "ename": "Error",
     "evalue": "compilation error",
     "output_type": "error",
     "traceback": []
    }
   ],
   "source": [
    "Apple f1 = new Apple();\n",
    "Apple f2 = new Pear();\n",
    "Pear f3 = new Pear();\n",
    "Pear f4 = new Apple();"
   ]
  },
  {
   "cell_type": "markdown",
   "id": "af3bc54b",
   "metadata": {},
   "source": [
    "```{exercise-end}\n",
    "```\n",
    "\n",
    "\n",
    "```{exercise}\n",
    "Instantiate an object from the class `Apple` and then first compare whether its *run-time type* is equal to the type defined by the class `Apple`.\n",
    "Then check whether its run-time type is equal to the type defined by the class `Pear`.\n",
    "First solve these two problems without using the `is` operator and then solve it using the `is` operator.\n",
    "```\n",
    "\n",
    "\n",
    "```{exercise}\n",
    "What is the difference between a static class and a class?\n",
    "```\n",
    "\n",
    "```{exercise}\n",
    "What are class members?\n",
    "```\n",
    "\n",
    "```{exercise}\n",
    "Write a program that instantiates and throws an exception of type `ArgumentException`.\n",
    "```"
   ]
  }
 ],
 "metadata": {
  "jupytext": {
   "formats": "md:myst",
   "text_representation": {
    "extension": ".md",
    "format_name": "myst"
   }
  },
  "kernelspec": {
   "display_name": "csharp",
   "language": ".net-csharp",
   "name": ".net-csharp"
  },
  "language_info": {
   "file_extension": ".cs",
   "mimetype": "text/x-csharp",
   "name": "C#",
   "pygments_lexer": "csharp",
   "version": "10.0"
  },
  "source_map": [
   11,
   61,
   66,
   119,
   121,
   130,
   133,
   138,
   140,
   217,
   220,
   271,
   273,
   280,
   283,
   319,
   325,
   339,
   342,
   369,
   373,
   393,
   397,
   401,
   405,
   446,
   449,
   468,
   470,
   473,
   477,
   479,
   481,
   497,
   502,
   514,
   523,
   528,
   531,
   544,
   549,
   562,
   568
  ]
 },
 "nbformat": 4,
 "nbformat_minor": 5
}