{
 "cells": [
  {
   "cell_type": "markdown",
   "id": "dd9e0e03",
   "metadata": {},
   "source": [
    "# Types over tests\n",
    "\n",
    "```{warning}\n",
    "Work in progress.\n",
    "```\n",
    "\n",
    "## Definition\n",
    "\n",
    "%### Make impossible states impossible\n",
    "\n",
    "```{epigraph}\n",
    "Testing is good. Impossible is better.\n",
    "\n",
    "-- Richard Feldman [[Source needed.](https://youtu.be/IcgmSRJHu_8?t=484)]\n",
    "```\n",
    "\n",
    "```{epigraph}\n",
    "Make illegal states unrepresentable.\n",
    "\n",
    "-- Yaron Minsky [[Source needed.](https://maximilianocontieri.com/software-engineering-great-quotes)]\n",
    "```\n",
    "\n",
    "```{epigraph}\n",
    "Make impossible states impossible.\n",
    "\n",
    "-- Richard Feldman [[Source needed.](https://youtu.be/IcgmSRJHu_8)]\n",
    "```\n",
    "\n",
    "\n",
    "%### Bijection rule\n",
    "\n",
    "```{epigraph}\n",
    "Each domain object must be represented by a single object in our computable model and vice versa.\n",
    "\n",
    "-- Maximiliano Contieri calls this \"The one and only software design principle\".\n",
    "```\n",
    "\n",
    "```{figure} https://www.mathsisfun.com/sets/images/function-mapping.svg\n",
    "\n",
    "A bijective function is a function where every element in the input domain corresponds to an element in the codomain. [Image will be replaced] [[Image source](https://maximilianocontieri.com/the-one-and-only-software-design-principle)].\n",
    "```\n",
    "\n",
    "```{figure} https://cdn.hashnode.com/res/hashnode/image/upload/v1598843113002/Vr87N_Nbn.png?auto=compress,format&format=webp\n",
    "\n",
    "Every object in our model should map to a single concept in our domain. [Image will be replaced] [[Image source](https://maximilianocontieri.com/the-one-and-only-software-design-principle)].\n",
    "```\n",
    "\n",
    "```{figure} https://cdn.hashnode.com/res/hashnode/image/upload/v1598843176464/--Dy6h_VM.png?auto=compress,format&format=webp\n",
    "\n",
    "Each domain concept should map to a single object in our model. [Image will be replaced] [[Image source](https://maximilianocontieri.com/the-one-and-only-software-design-principle)].\n",
    "```\n",
    "\n",
    "\n",
    "%## Examples\n",
    "\n",
    "% - Phone numbers over strings.\n",
    "% - Nullable reference types and warnings as errors.\n",
    "\n",
    "%- The vowel that you stick between consonants in Robber's language is a great example. Wrap it in a class and define an automatic type conversion between that type and char.\n",
    "\n",
    "\n",
    "\n",
    "## Exercises\n",
    "\n",
    "```{exercise}\n",
    "What is meant with the maxim \"types over tests\"?\n",
    "```\n",
    "\n",
    "```{exercise}\n",
    "What is the \"bijection rule\"?\n",
    "```\n",
    "\n",
    "```{exercise}\n",
    "What is meant with the maxim \"make illegal states unrepresentable\"?\n",
    "```\n",
    "\n",
    "```{exercise}\n",
    "Why should we prefer compile-time type errors over run-time errors?\n",
    "```\n",
    "\n",
    "```{exercise}\n",
    "Why is `string` not a suitable type to store phone numbers?\n",
    "Use set theory in your explanation.\n",
    "```\n",
    "\n",
    "```{exercise}\n",
    "Why is `double` not a suitable type to represent the area of a triangle in centimeters?\n",
    "```\n",
    "\n",
    "\n",
    "\n",
    "```{exercise-start}\n",
    "```"
   ]
  },
  {
   "cell_type": "code",
   "execution_count": 1,
   "id": "ca1fd2ea",
   "metadata": {
    "tags": [
     "remove-input"
    ]
   },
   "outputs": [
    {
     "data": {
      "text/html": [
       "\r\n",
       "<div>\r\n",
       "    <div id='dotnet-interactive-this-cell-3345.Microsoft.DotNet.Interactive.Http.HttpPort' style='display: none'>\r\n",
       "        The below script needs to be able to find the current output cell; this is an easy method to get it.\r\n",
       "    </div>\r\n",
       "    <script type='text/javascript'>\r\n",
       "async function probeAddresses(probingAddresses) {\r\n",
       "    function timeout(ms, promise) {\r\n",
       "        return new Promise(function (resolve, reject) {\r\n",
       "            setTimeout(function () {\r\n",
       "                reject(new Error('timeout'))\r\n",
       "            }, ms)\r\n",
       "            promise.then(resolve, reject)\r\n",
       "        })\r\n",
       "    }\r\n",
       "\r\n",
       "    if (Array.isArray(probingAddresses)) {\r\n",
       "        for (let i = 0; i < probingAddresses.length; i++) {\r\n",
       "\r\n",
       "            let rootUrl = probingAddresses[i];\r\n",
       "\r\n",
       "            if (!rootUrl.endsWith('/')) {\r\n",
       "                rootUrl = `${rootUrl}/`;\r\n",
       "            }\r\n",
       "\r\n",
       "            try {\r\n",
       "                let response = await timeout(1000, fetch(`${rootUrl}discovery`, {\r\n",
       "                    method: 'POST',\r\n",
       "                    cache: 'no-cache',\r\n",
       "                    mode: 'cors',\r\n",
       "                    timeout: 1000,\r\n",
       "                    headers: {\r\n",
       "                        'Content-Type': 'text/plain'\r\n",
       "                    },\r\n",
       "                    body: probingAddresses[i]\r\n",
       "                }));\r\n",
       "\r\n",
       "                if (response.status == 200) {\r\n",
       "                    return rootUrl;\r\n",
       "                }\r\n",
       "            }\r\n",
       "            catch (e) { }\r\n",
       "        }\r\n",
       "    }\r\n",
       "}\r\n",
       "\r\n",
       "function loadDotnetInteractiveApi() {\r\n",
       "    probeAddresses([\"http://10.1.1.79:1024/\", \"http://127.0.0.1:1024/\"])\r\n",
       "        .then((root) => {\r\n",
       "        // use probing to find host url and api resources\r\n",
       "        // load interactive helpers and language services\r\n",
       "        let dotnetInteractiveRequire = require.config({\r\n",
       "        context: '3345.Microsoft.DotNet.Interactive.Http.HttpPort',\r\n",
       "                paths:\r\n",
       "            {\r\n",
       "                'dotnet-interactive': `${root}resources`\r\n",
       "                }\r\n",
       "        }) || require;\r\n",
       "\r\n",
       "            window.dotnetInteractiveRequire = dotnetInteractiveRequire;\r\n",
       "\r\n",
       "            window.configureRequireFromExtension = function(extensionName, extensionCacheBuster) {\r\n",
       "                let paths = {};\r\n",
       "                paths[extensionName] = `${root}extensions/${extensionName}/resources/`;\r\n",
       "                \r\n",
       "                let internalRequire = require.config({\r\n",
       "                    context: extensionCacheBuster,\r\n",
       "                    paths: paths,\r\n",
       "                    urlArgs: `cacheBuster=${extensionCacheBuster}`\r\n",
       "                    }) || require;\r\n",
       "\r\n",
       "                return internalRequire\r\n",
       "            };\r\n",
       "        \r\n",
       "            dotnetInteractiveRequire([\r\n",
       "                    'dotnet-interactive/dotnet-interactive'\r\n",
       "                ],\r\n",
       "                function (dotnet) {\r\n",
       "                    dotnet.init(window);\r\n",
       "                },\r\n",
       "                function (error) {\r\n",
       "                    console.log(error);\r\n",
       "                }\r\n",
       "            );\r\n",
       "        })\r\n",
       "        .catch(error => {console.log(error);});\r\n",
       "    }\r\n",
       "\r\n",
       "// ensure `require` is available globally\r\n",
       "if ((typeof(require) !==  typeof(Function)) || (typeof(require.config) !== typeof(Function))) {\r\n",
       "    let require_script = document.createElement('script');\r\n",
       "    require_script.setAttribute('src', 'https://cdnjs.cloudflare.com/ajax/libs/require.js/2.3.6/require.min.js');\r\n",
       "    require_script.setAttribute('type', 'text/javascript');\r\n",
       "    \r\n",
       "    \r\n",
       "    require_script.onload = function() {\r\n",
       "        loadDotnetInteractiveApi();\r\n",
       "    };\r\n",
       "\r\n",
       "    document.getElementsByTagName('head')[0].appendChild(require_script);\r\n",
       "}\r\n",
       "else {\r\n",
       "    loadDotnetInteractiveApi();\r\n",
       "}\r\n",
       "\r\n",
       "    </script>\r\n",
       "</div>"
      ]
     },
     "metadata": {},
     "output_type": "display_data"
    }
   ],
   "source": [
    "class Vowel\n",
    "{\n",
    "  char letter;\n",
    "\n",
    "  public Vowel (char vowel)\n",
    "  {\n",
    "    string legal = \"AEIOU\";\n",
    "    if (legal.IndexOf(Char.ToUpper(vowel)) == -1)\n",
    "      throw new ArgumentException(\"Must be a vowel (AEIOU).\");\n",
    "    letter = vowel;\n",
    "  }\n",
    "\n",
    "  public char ToChar () => letter;\n",
    "\n",
    "  public static implicit operator char(Vowel v) => v.ToChar();\n",
    "}"
   ]
  },
  {
   "cell_type": "markdown",
   "id": "e8a34675",
   "metadata": {},
   "source": [
    "Write a class that models the domain concept of English vowels.\n",
    "It should be possible to pass upper and lowercase vowels as characters when instantiating it, and it should be possible to extract these vowels again.\n",
    "See the usage examples below."
   ]
  },
  {
   "cell_type": "code",
   "execution_count": 2,
   "id": "257cfee6",
   "metadata": {},
   "outputs": [
    {
     "name": "stdout",
     "output_type": "stream",
     "text": [
      "A\n"
     ]
    }
   ],
   "source": [
    "char c1 = new Vowel('A').ToChar();\n",
    "Console.WriteLine(c1);"
   ]
  },
  {
   "cell_type": "code",
   "execution_count": 3,
   "id": "6596c04b",
   "metadata": {},
   "outputs": [
    {
     "name": "stdout",
     "output_type": "stream",
     "text": [
      "u\n"
     ]
    }
   ],
   "source": [
    "char c2 = new Vowel('u').ToChar();\n",
    "Console.WriteLine(c2);"
   ]
  },
  {
   "cell_type": "markdown",
   "id": "e7c37b4c",
   "metadata": {},
   "source": [
    "If however you try to instantiate the class by passing a non-vowel character then the class should throw an `ArgumentException`."
   ]
  },
  {
   "cell_type": "code",
   "execution_count": 4,
   "id": "a7afb125",
   "metadata": {
    "tags": [
     "raises-exception"
    ]
   },
   "outputs": [
    {
     "ename": "Error",
     "evalue": "System.ArgumentException: Must be a vowel (AEIOU).\n   at Submission#3.Vowel..ctor(Char vowel)\n   at Submission#6.<<Initialize>>d__0.MoveNext()\n--- End of stack trace from previous location ---\n   at Microsoft.CodeAnalysis.Scripting.ScriptExecutionState.RunSubmissionsAsync[TResult](ImmutableArray`1 precedingExecutors, Func`2 currentExecutor, StrongBox`1 exceptionHolderOpt, Func`2 catchExceptionOpt, CancellationToken cancellationToken)",
     "output_type": "error",
     "traceback": [
      "System.ArgumentException: Must be a vowel (AEIOU).\n   at Submission#3.Vowel..ctor(Char vowel)\n   at Submission#6.<<Initialize>>d__0.MoveNext()\n--- End of stack trace from previous location ---\n   at Microsoft.CodeAnalysis.Scripting.ScriptExecutionState.RunSubmissionsAsync[TResult](ImmutableArray`1 precedingExecutors, Func`2 currentExecutor, StrongBox`1 exceptionHolderOpt, Func`2 catchExceptionOpt, CancellationToken cancellationToken)",
      "   at Submission#3.Vowel..ctor(Char vowel)",
      "   at Submission#6.<<Initialize>>d__0.MoveNext()",
      "--- End of stack trace from previous location ---",
      "   at Microsoft.CodeAnalysis.Scripting.ScriptExecutionState.RunSubmissionsAsync[TResult](ImmutableArray`1 precedingExecutors, Func`2 currentExecutor, StrongBox`1 exceptionHolderOpt, Func`2 catchExceptionOpt, CancellationToken cancellationToken)"
     ]
    }
   ],
   "source": [
    "new Vowel('z').ToChar();"
   ]
  },
  {
   "cell_type": "markdown",
   "id": "9a59c220",
   "metadata": {},
   "source": [
    "```{exercise-end}\n",
    "```\n",
    "\n",
    "\n",
    "\n",
    "\n",
    "\n",
    "```{exercise-start}\n",
    "```\n",
    "Write a bunch of classes that can be used to model time in seconds, minutes, and hours.\n",
    "Make sure that your code behaves according to the usage example below.\n",
    "\n",
    "Hint: Consider converting to the base unit (seconds) before performing other conversions to avoid duplication."
   ]
  },
  {
   "cell_type": "code",
   "execution_count": 5,
   "id": "c8ab19aa",
   "metadata": {
    "tags": [
     "remove-input"
    ]
   },
   "outputs": [],
   "source": [
    "abstract class Time\n",
    "{\n",
    "  public double Number { get; set; }\n",
    "  public abstract Seconds ToBaseUnit ();\n",
    "  public Seconds ToSeconds () => ToBaseUnit();\n",
    "  public Minutes ToMinutes () => new Minutes(ToBaseUnit().Number / 60);\n",
    "  public Hours ToHours () => new Hours(ToBaseUnit().Number / 3600);\n",
    "}\n",
    "\n",
    "class Seconds : Time {\n",
    "  public Seconds (double x) => Number = x;\n",
    "  public override Seconds ToBaseUnit ()\n",
    "    => this;\n",
    "}\n",
    "class Minutes : Time {\n",
    "  public Minutes (double x) => Number = x;\n",
    "  public override Seconds ToBaseUnit () => new Seconds (Number * 60);\n",
    "}\n",
    "class Hours : Time {\n",
    "  public Hours (double x) => Number = x;\n",
    "  public override Seconds ToBaseUnit() => new Seconds (Number * 3600);\n",
    "}"
   ]
  },
  {
   "cell_type": "code",
   "execution_count": 6,
   "id": "21f52431",
   "metadata": {},
   "outputs": [
    {
     "name": "stdout",
     "output_type": "stream",
     "text": [
      "4500s = 75mins = 1.25hrs.\n"
     ]
    },
    {
     "name": "stdout",
     "output_type": "stream",
     "text": [
      "2700s = 45mins = 0.75hrs.\n"
     ]
    },
    {
     "name": "stdout",
     "output_type": "stream",
     "text": [
      "900s = 15mins = 0.25hrs.\n"
     ]
    }
   ],
   "source": [
    "void printTime (Time t)\n",
    "{\n",
    "  Seconds s = t.ToSeconds();\n",
    "  Minutes m = t.ToMinutes();\n",
    "  Hours h = t.ToHours();\n",
    "  Console.WriteLine($\"{s.Number}s = {m.Number}mins = {h.Number}hrs.\");\n",
    "}\n",
    "\n",
    "printTime(new Seconds(4500));\n",
    "printTime(new Hours(0.75));\n",
    "printTime(new Minutes(15));"
   ]
  },
  {
   "cell_type": "markdown",
   "id": "f84375df",
   "metadata": {},
   "source": [
    "```{exercise-end}\n",
    "```\n",
    "\n",
    "\n",
    "\n",
    "```{exercise}\n",
    "Write a class that can be used to represent phone numbers for your country.\n",
    "Illegal states should not be representable.\n",
    "```\n",
    "\n",
    "\n",
    "\n",
    "%\n",
    "%- https://maximilianocontieri.com/the-one-and-only-software-design-principle\n",
    "%  - \"The one and only software design principle\"\n",
    "%  - \"The bijection rule\"\n",
    "%-  Domain modeling (there's no objective right or wrong, there's just your domain)\n",
    "%- Types over checks. (What's the term I discussed with rtfeldman on twitter?)\n",
    "%- Relevant to objects and to functions.\n",
    "%- Similar to how Comment chapter argues that you cannot describe all semantic details with names only.\n",
    "%- Problem with null:\n",
    "%  - https://maximilianocontieri.com/null-the-billion-dollar-mistake\n",
    "%\n",
    "\n",
    "%- https://maximilianocontieri.com/code-smell-120-sequential-ids"
   ]
  }
 ],
 "metadata": {
  "jupytext": {
   "formats": "md:myst",
   "text_representation": {
    "extension": ".md",
    "format_name": "myst"
   }
  },
  "kernelspec": {
   "display_name": "csharp",
   "language": ".net-csharp",
   "name": ".net-csharp"
  },
  "language_info": {
   "file_extension": ".cs",
   "mimetype": "text/x-csharp",
   "name": "C#",
   "pygments_lexer": "csharp",
   "version": "10.0"
  },
  "source_map": [
   11,
   106,
   124,
   129,
   134,
   137,
   141,
   144,
   158,
   183,
   195
  ]
 },
 "nbformat": 4,
 "nbformat_minor": 5
}