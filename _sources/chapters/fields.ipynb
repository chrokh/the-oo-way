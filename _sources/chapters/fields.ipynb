{
 "cells": [
  {
   "cell_type": "markdown",
   "id": "c9d7002b",
   "metadata": {},
   "source": [
    "# Fields\n",
    "%- Public / private / protected.\n",
    "%- Static / instance.\n",
    "%- Also works on struct.\n",
    "%- Only use private / protected fields.\n",
    "\n",
    "%- [Initialized to default value](https://docs.microsoft.com/en-us/dotnet/csharp/language-reference/language-specification/variables)\n",
    "\n",
    "\n",
    "## Motivation\n",
    "\n",
    "We've said that objects mix data and methods.\n",
    "We've referred to this idea as [encapsulation](encapsulation).\n",
    "That objects \"encapsulate\" data.\n",
    "In this chapter we're going to talk about what it means for objects to encapsulate data.\n",
    "\n",
    "In many languages, we call a variable that is encapsulated in an object an \"instance variable\".\n",
    "In C# we use the term \"instance field\".\n",
    "The concept of \"fields\" is used both for \"instance fields\" and \"static fields\".\n",
    "\n",
    "Since this is a book on object oriented programming, and not procedural programming, we will almost exclusively discuss instance fields.\n",
    "In the chapter on [static methods](static-methods) we learned that static methods are methods that are namespaced to a class.\n",
    "We also learned that this is an idea from procedural programming and that it has nothing to do with object oriented programming.\n",
    "\n",
    "Another key idea in object oriented programming is that of [subtype polymorphism](subtype-polymorphism).\n",
    "In an object oriented langauge, both instance methods and instance variables are usually implemented so that they support subtype polymorphism.\n",
    "But this is something we'll get to later.\n",
    "\n",
    "\n",
    "## Definition\n",
    "\n",
    "The term \"instance variable\", I think, is really quite revealing.\n",
    "Instance variables are variables that are connected to an instance.\n",
    "In other words, they are variables whose values might vary on an object-to-object basis.\n",
    "\n",
    "If we have two balloons, and we write the letter `'A'` on one of them, and the letter `'B'` on the other then these balloons have different states.\n",
    "The two balloons are both still balloons, but their states are different.\n",
    "\n",
    "### Declaration\n",
    "\n",
    "We declare an instance field just like we define a regular [local variable](variables).\n",
    "By specifying the type of the variable, and then the identifier name that we want to use for the variable.\n",
    "However, we declare instance or static variables (meaning fields) \"inside\" the definition of the class.\n",
    "\n",
    "If we add the keyword `static` before the type in the declaration, then we are making a static field.\n",
    "If we don't add the keyword `static` then we are making an instance field.\n",
    "\n",
    "```\n",
    "<class-identifier>\n",
    "{\n",
    "  <access-modifier> [static] <field-type> <field-identifier>;\n",
    "}\n",
    "```\n",
    "\n",
    "In the example below, we've got a class called `Balloon`, with two instance fields.\n",
    "One is called `Text` and the other is called `Diameter`."
   ]
  },
  {
   "cell_type": "code",
   "execution_count": 1,
   "id": "1f587272",
   "metadata": {
    "tags": [
     "remove-stderr"
    ]
   },
   "outputs": [
    {
     "data": {
      "text/html": [
       "\r\n",
       "<div>\r\n",
       "    <div id='dotnet-interactive-this-cell-3018.Microsoft.DotNet.Interactive.Http.HttpPort' style='display: none'>\r\n",
       "        The below script needs to be able to find the current output cell; this is an easy method to get it.\r\n",
       "    </div>\r\n",
       "    <script type='text/javascript'>\r\n",
       "async function probeAddresses(probingAddresses) {\r\n",
       "    function timeout(ms, promise) {\r\n",
       "        return new Promise(function (resolve, reject) {\r\n",
       "            setTimeout(function () {\r\n",
       "                reject(new Error('timeout'))\r\n",
       "            }, ms)\r\n",
       "            promise.then(resolve, reject)\r\n",
       "        })\r\n",
       "    }\r\n",
       "\r\n",
       "    if (Array.isArray(probingAddresses)) {\r\n",
       "        for (let i = 0; i < probingAddresses.length; i++) {\r\n",
       "\r\n",
       "            let rootUrl = probingAddresses[i];\r\n",
       "\r\n",
       "            if (!rootUrl.endsWith('/')) {\r\n",
       "                rootUrl = `${rootUrl}/`;\r\n",
       "            }\r\n",
       "\r\n",
       "            try {\r\n",
       "                let response = await timeout(1000, fetch(`${rootUrl}discovery`, {\r\n",
       "                    method: 'POST',\r\n",
       "                    cache: 'no-cache',\r\n",
       "                    mode: 'cors',\r\n",
       "                    timeout: 1000,\r\n",
       "                    headers: {\r\n",
       "                        'Content-Type': 'text/plain'\r\n",
       "                    },\r\n",
       "                    body: probingAddresses[i]\r\n",
       "                }));\r\n",
       "\r\n",
       "                if (response.status == 200) {\r\n",
       "                    return rootUrl;\r\n",
       "                }\r\n",
       "            }\r\n",
       "            catch (e) { }\r\n",
       "        }\r\n",
       "    }\r\n",
       "}\r\n",
       "\r\n",
       "function loadDotnetInteractiveApi() {\r\n",
       "    probeAddresses([\"http://10.1.0.103:1024/\", \"http://127.0.0.1:1024/\"])\r\n",
       "        .then((root) => {\r\n",
       "        // use probing to find host url and api resources\r\n",
       "        // load interactive helpers and language services\r\n",
       "        let dotnetInteractiveRequire = require.config({\r\n",
       "        context: '3018.Microsoft.DotNet.Interactive.Http.HttpPort',\r\n",
       "                paths:\r\n",
       "            {\r\n",
       "                'dotnet-interactive': `${root}resources`\r\n",
       "                }\r\n",
       "        }) || require;\r\n",
       "\r\n",
       "            window.dotnetInteractiveRequire = dotnetInteractiveRequire;\r\n",
       "\r\n",
       "            window.configureRequireFromExtension = function(extensionName, extensionCacheBuster) {\r\n",
       "                let paths = {};\r\n",
       "                paths[extensionName] = `${root}extensions/${extensionName}/resources/`;\r\n",
       "                \r\n",
       "                let internalRequire = require.config({\r\n",
       "                    context: extensionCacheBuster,\r\n",
       "                    paths: paths,\r\n",
       "                    urlArgs: `cacheBuster=${extensionCacheBuster}`\r\n",
       "                    }) || require;\r\n",
       "\r\n",
       "                return internalRequire\r\n",
       "            };\r\n",
       "        \r\n",
       "            dotnetInteractiveRequire([\r\n",
       "                    'dotnet-interactive/dotnet-interactive'\r\n",
       "                ],\r\n",
       "                function (dotnet) {\r\n",
       "                    dotnet.init(window);\r\n",
       "                },\r\n",
       "                function (error) {\r\n",
       "                    console.log(error);\r\n",
       "                }\r\n",
       "            );\r\n",
       "        })\r\n",
       "        .catch(error => {console.log(error);});\r\n",
       "    }\r\n",
       "\r\n",
       "// ensure `require` is available globally\r\n",
       "if ((typeof(require) !==  typeof(Function)) || (typeof(require.config) !== typeof(Function))) {\r\n",
       "    let require_script = document.createElement('script');\r\n",
       "    require_script.setAttribute('src', 'https://cdnjs.cloudflare.com/ajax/libs/require.js/2.3.6/require.min.js');\r\n",
       "    require_script.setAttribute('type', 'text/javascript');\r\n",
       "    \r\n",
       "    \r\n",
       "    require_script.onload = function() {\r\n",
       "        loadDotnetInteractiveApi();\r\n",
       "    };\r\n",
       "\r\n",
       "    document.getElementsByTagName('head')[0].appendChild(require_script);\r\n",
       "}\r\n",
       "else {\r\n",
       "    loadDotnetInteractiveApi();\r\n",
       "}\r\n",
       "\r\n",
       "    </script>\r\n",
       "</div>"
      ]
     },
     "metadata": {},
     "output_type": "display_data"
    },
    {
     "name": "stderr",
     "output_type": "stream",
     "text": [
      "\n",
      "(4,14): warning CS0649: Field 'Balloon.Diameter' is never assigned to, and will always have its default value 0\n",
      "\n",
      "(3,17): warning CS0649: Field 'Balloon.Text' is never assigned to, and will always have its default value null\n",
      "\n"
     ]
    }
   ],
   "source": [
    "class Balloon\n",
    "{\n",
    "  public string Text;\n",
    "  public int Diameter;\n",
    "}"
   ]
  },
  {
   "cell_type": "markdown",
   "id": "bcc72ca8",
   "metadata": {},
   "source": [
    "What is this keyword `public` that we in the definition above called an \"access modifier\"?\n",
    "We'll talk about this more, first in the chapter on [basic access modifiers](basic-access-modifiers), and then in the one on [advanced access modifiers](advanced-access-modifiers).\n",
    "In short, when marking an instance field as `public` we're saying that whoever has access to an instance of this class will have read and write access to this instance field.\n",
    "\n",
    "One of the core ideas in object oriented programming, is that of information hiding.\n",
    "We talked about this in the chapter on [objects](objects).\n",
    "However, when we are using the keyword `public` we are not actually \"hiding\" our data.\n",
    "We are not \"hiding our private parts\".\n",
    "Another way to say this, is that we are \"breaking encapsulation\".\n",
    "So why do we do this here?\n",
    "Well, we've got to start somewhere right?\n",
    "Once we've learned about [instance methods](instance-methods) and about [constructors](constructors), we will never have to (nor should) use public instance fields again.\n",
    "\n",
    "```{warning}\n",
    "By using `public` instance fields we are violating the pricinple of information hiding.\n",
    "Another way to say this, is that we are \"breaking encapsulation\".\n",
    "We're only using `public` here as a step on our learning journey.\n",
    "Once we've learned about [instance methods](instance-methods) and [constructors](constructors) we should always make our instance fields `private`.\n",
    "```\n",
    "\n",
    "### Access\n",
    "\n",
    "When an object exposes an instance field (or an [instance method](instance-methods) for that matter) then we can access it using dot-notation.\n",
    "We've already used dot-notation when interacting with [arrays](arrays), but we never really discussed why we interact with the object that way.\n",
    "\n",
    "To access some instance field of some object we simply type the name of the object, a dot (`.`), and then the name of the instance field.\n",
    "\n",
    "```\n",
    "[variable].[instance-field];\n",
    "```\n",
    "\n",
    "We can also set values to the instance field, just like we would assign any old local variable.\n",
    "\n",
    "```\n",
    "[variable].[instance-field];\n",
    "```\n",
    "\n",
    "If we've got an instance of the class `Balloon` (which we declared earlier in this chapter) then we can set and get both the `Text` field as well as the `Diameter`."
   ]
  },
  {
   "cell_type": "code",
   "execution_count": 2,
   "id": "84aaadfb",
   "metadata": {},
   "outputs": [
    {
     "name": "stdout",
     "output_type": "stream",
     "text": [
      "A\n"
     ]
    },
    {
     "name": "stdout",
     "output_type": "stream",
     "text": [
      "B\n"
     ]
    }
   ],
   "source": [
    "Balloon b1 = new Balloon();\n",
    "Balloon b2 = new Balloon();\n",
    "\n",
    "b1.Text = \"A\";\n",
    "b2.Text = \"B\";\n",
    "\n",
    "Console.WriteLine(b1.Text);\n",
    "Console.WriteLine(b2.Text);"
   ]
  },
  {
   "cell_type": "markdown",
   "id": "861793e7",
   "metadata": {},
   "source": [
    "Of course, when we are setting a value to an instance field of some instance then we are only setting the value to the instance field of *that particular instance*.\n",
    "Other instances of the same type are not affected.\n",
    "Notice how we can set the text of any of the two balloons in the example above, without affecting the other.\n",
    "\n",
    "\n",
    "### Initialization\n",
    "\n",
    "We can initialize an instance field, just like we initialize a regular variable.\n",
    "Whenever we create an instance of the class, all instance field initializers are run.\n",
    "We haven't talked about [constructors](constructors) yet, but since instance fields, in C#, are initialized *before* the constructor runs, we can use the constructor to override any values we've set in the initializers.\n",
    "But more on this in the chapter on constructors.\n",
    "\n",
    "If we don't specify an initializer for an instance field then that instance field will, in C#, be assigned the default value for its type.\n",
    "You can read more about the different default values for different types in the [official documentation](https://docs.microsoft.com/en-us/dotnet/csharp/language-reference/language-specification/variables)."
   ]
  },
  {
   "cell_type": "code",
   "execution_count": 3,
   "id": "4c944036",
   "metadata": {
    "tags": [
     "remove-stderr"
    ]
   },
   "outputs": [
    {
     "name": "stderr",
     "output_type": "stream",
     "text": [
      "\n",
      "(4,14): warning CS0649: Field 'Balloon.Diameter' is never assigned to, and will always have its default value 0\n",
      "\n",
      "(3,17): warning CS0649: Field 'Balloon.Text' is never assigned to, and will always have its default value null\n",
      "\n"
     ]
    }
   ],
   "source": [
    "class Balloon\n",
    "{\n",
    "  public string Text;  // Defaults to `null`.\n",
    "  public int Diameter; // Defaults to 0.\n",
    "}"
   ]
  },
  {
   "cell_type": "code",
   "execution_count": 4,
   "id": "6bc35501",
   "metadata": {},
   "outputs": [
    {
     "name": "stdout",
     "output_type": "stream",
     "text": [
      "True\n"
     ]
    }
   ],
   "source": [
    "Console.WriteLine( new Balloon().Text == null );"
   ]
  },
  {
   "cell_type": "code",
   "execution_count": 5,
   "id": "f4ac0c00",
   "metadata": {},
   "outputs": [
    {
     "name": "stdout",
     "output_type": "stream",
     "text": [
      "True\n"
     ]
    }
   ],
   "source": [
    "Console.WriteLine( new Balloon().Diameter == 0 );"
   ]
  },
  {
   "cell_type": "markdown",
   "id": "db1c1ac6",
   "metadata": {},
   "source": [
    "(object-initializers)=\n",
    "### Object initializers\n",
    "\n",
    "When you've got a class whose instance fields you have access to, it is, in C#, possible to use the \"object initializer\" syntax.\n",
    "This syntax allows us to instantiate an object and immediately assign values to its instance fields all in a single [statement](statements).\n",
    "This feature is also available for instance [properties](properties), but we'll talk about that in a separate chapter.\n",
    "\n",
    "This means that we can instantiate an object and assign values to its instance properties in a single statement like this:"
   ]
  },
  {
   "cell_type": "code",
   "execution_count": 6,
   "id": "c2b6a3f3",
   "metadata": {},
   "outputs": [],
   "source": [
    "Balloon inflated = new Balloon { Text=\"Inflated\", Diameter=20 };\n",
    "Balloon deflated = new Balloon { Text=\"Deflated\" };"
   ]
  },
  {
   "cell_type": "markdown",
   "id": "6054419a",
   "metadata": {},
   "source": [
    "Notice how, in the second example above, we're not setting any value to the instance field `Diameter`.\n",
    "In other words, we can use object initializers to set any number of instance fields that we want, and we don't have to set all.\n",
    "\n",
    "If we didn't have object initializers we would have to write multiple statments in order to achieve the same results as the statements above."
   ]
  },
  {
   "cell_type": "code",
   "execution_count": 7,
   "id": "d0d9e72e",
   "metadata": {},
   "outputs": [],
   "source": [
    "Balloon inflated = new Balloon();\n",
    "inflated.Text = \"Inflated\";\n",
    "inflated.Diameter = 20;\n",
    "\n",
    "Balloon deflated = new Balloon();\n",
    "deflated.Text = \"Deflated\";"
   ]
  },
  {
   "cell_type": "markdown",
   "id": "1c1f33e5",
   "metadata": {},
   "source": [
    "### UML class diagrams\n",
    "\n",
    "In UML class diagrams, instance fields are modeled by what UML calls \"attributes\".\n",
    "Remember how, in the chapter on [classes](classes), we discussed that the section that lists class members of a class in a UML class diagram is divided in two subsections.\n",
    "The first lists attributes, and the second lists operations.\n",
    "Instance fields in C# (as well as [properties](properties) which we'll talk about soon) are represented as attributes in UML class diagrams.\n",
    "\n",
    "The balloon class would, in a UML class diagram, be represented as the right class in the figure below.\n",
    "\n",
    "```\n",
    "|--------------------|     |--------------------|\n",
    "| <class identifier> |     |       Balloon      |\n",
    "|--------------------|     |--------------------|\n",
    "|                    |     | Text : string      |\n",
    "|    <attributes>    |     | Diameter : int     |\n",
    "|                    |     |                    |\n",
    "|--------------------|     |--------------------|\n",
    "|                    |     |                    |\n",
    "|    <operations>    |     |                    |\n",
    "|                    |     |                    |\n",
    "|--------------------|     |--------------------|\n",
    "```\n",
    "\n",
    "Notice how, when listing an attribute we also write out the type of the attribute.\n",
    "In the chapter on [classes](classes:uml) we mentioned that UML class diagrams are often draw with a varying level of informality.\n",
    "As such, the data types of attributes are often omitted if the situtation doesn't require them in order to explain whatever it is we're trying to explain.\n",
    "\n",
    "\n",
    "\n",
    "\n",
    "## Examples\n",
    "\n",
    "### Coordinates\n",
    "\n",
    "Let's use objects with instance fields to model players in some ficticious game that can move on a two dimensional grid.\n",
    "We'll call the class `Player` and we'll give it three instance fields: a `Name`, an `X` coordinate, and a `Y` coordinate.\n",
    "We might define the class like this:"
   ]
  },
  {
   "cell_type": "code",
   "execution_count": 8,
   "id": "ffaf0454",
   "metadata": {},
   "outputs": [],
   "source": [
    "class Player\n",
    "{\n",
    "  public int X = 0;\n",
    "  public int Y = 0;\n",
    "  public string Name = \"Unnamed\";\n",
    "}"
   ]
  },
  {
   "cell_type": "markdown",
   "id": "54145461",
   "metadata": {},
   "source": [
    "We can now instantiate players like this:"
   ]
  },
  {
   "cell_type": "code",
   "execution_count": 9,
   "id": "2e6555ad",
   "metadata": {},
   "outputs": [],
   "source": [
    "Player p1 = new Player();\n",
    "Player p2 = new Player();"
   ]
  },
  {
   "cell_type": "markdown",
   "id": "da7fae51",
   "metadata": {},
   "source": [
    "We can also set the values of their instance fields like this:"
   ]
  },
  {
   "cell_type": "code",
   "execution_count": 10,
   "id": "08d914d2",
   "metadata": {},
   "outputs": [],
   "source": [
    "p1.Name = \"Player 1\";\n",
    "p2.Name = \"Player 2\";"
   ]
  },
  {
   "cell_type": "markdown",
   "id": "48cd3332",
   "metadata": {},
   "source": [
    "Let's now write a method that can print a player."
   ]
  },
  {
   "cell_type": "code",
   "execution_count": 11,
   "id": "f4e21e91",
   "metadata": {},
   "outputs": [],
   "source": [
    "void printPlayer (Player player)\n",
    "  => Console.WriteLine($\"{player.Name}: ({player.X},{player.Y})\");"
   ]
  },
  {
   "cell_type": "markdown",
   "id": "f52023a9",
   "metadata": {},
   "source": [
    "We can now use that method to print players."
   ]
  },
  {
   "cell_type": "code",
   "execution_count": 12,
   "id": "1e1ab5c4",
   "metadata": {},
   "outputs": [
    {
     "name": "stdout",
     "output_type": "stream",
     "text": [
      "Player 1: (0,0)\n"
     ]
    }
   ],
   "source": [
    "printPlayer(p1);"
   ]
  },
  {
   "cell_type": "markdown",
   "id": "c9393cf6",
   "metadata": {},
   "source": [
    "Let's now write a method that we can use to move a player multiple times.\n",
    "It takes a `Player` and a `string`.\n",
    "The `string` will be broken up into a list of characters and for every character that contains a letter corresponding to a direction (`N` for north, `E` east, `S` for south, and `W` for west) the player is moved one step in that direction."
   ]
  },
  {
   "cell_type": "code",
   "execution_count": 13,
   "id": "dbd5a58b",
   "metadata": {},
   "outputs": [],
   "source": [
    "void movePlayer (Player player, string moves)\n",
    "{\n",
    "  foreach (char move in moves)\n",
    "  {\n",
    "    player.X += move switch { 'E' => 1, 'W' => -1, _ => 0 };\n",
    "    player.Y += move switch { 'N' => 1, 'S' => -1, _ => 0 };\n",
    "  }\n",
    "}"
   ]
  },
  {
   "cell_type": "markdown",
   "id": "4ccad557",
   "metadata": {},
   "source": [
    "Let's now move the two players around and then use our printing method to print their updated positions."
   ]
  },
  {
   "cell_type": "code",
   "execution_count": 14,
   "id": "3d0bfc9a",
   "metadata": {},
   "outputs": [
    {
     "name": "stdout",
     "output_type": "stream",
     "text": [
      "Player 1: (2,-4)\n"
     ]
    },
    {
     "name": "stdout",
     "output_type": "stream",
     "text": [
      "Player 2: (1,0)\n"
     ]
    }
   ],
   "source": [
    "movePlayer (p1, \"SSSESE\");\n",
    "movePlayer (p2, \"NNSWSEE\");\n",
    "printPlayer(p1);\n",
    "printPlayer(p2);"
   ]
  },
  {
   "cell_type": "markdown",
   "id": "95177272",
   "metadata": {},
   "source": [
    "%### Robber's cipher\n",
    "%\n",
    "%Let's start by creating a class for the [Robber's cipher](robbers-cipher) whose instances will hold the vowel that we want to use in a [Caesar cipher](caesar-cipher).\n",
    "%Eventually, we'll also incorporate instance methods that operate on this encapsulated vowel but let's take it one step at a time, eh.\n",
    "%\n",
    "%Let's call the class `RobbersCipherVowel` and let's call the field `Vowel`.\n",
    "%We'll make the field `public` so that anyone who has access to an object of type `RobbersCipherVowel`.\n",
    "%\n",
    "%```{code-cell} csharp\n",
    "%class RobbersCipherVowel\n",
    "%{\n",
    "%  public char Vowel = 'o';\n",
    "%}\n",
    "%```\n",
    "%\n",
    "%We can now instantiate ciphers.\n",
    "%\n",
    "%```{code-cell} csharp\n",
    "%RobbersCipherVowel v1 = new RobbersCipherVowel();\n",
    "%RobbersCipherVowel v2 = new RobbersCipherVowel();\n",
    "%```\n",
    "%\n",
    "%And assign them different vowels.\n",
    "%\n",
    "%```{code-cell} csharp\n",
    "%v1.Vowel = 'a';\n",
    "%v2.Vowel = 'B';\n",
    "%```\n",
    "%\n",
    "%```{danger}\n",
    "%Wait a minute!\n",
    "%`B` is not a vowel.\n",
    "%We'll have a look at this problem in the chapter on [constructors](constructors).\n",
    "%```\n",
    "%\n",
    "%Of course we could then rewrite the encode methods that we wrote in the chapter on [overloading](overloading:examples:robbers) so that they take a parameter of type `RobbersCipherVowel` instead of simply a `char`.\n",
    "%\n",
    "%```{code-cell} csharp\n",
    "%static class RobbersCipher\n",
    "%{\n",
    "%  public static string Encode (char input, RobbersCipherVowel vowel)\n",
    "%    => input switch {\n",
    "%      'B' or 'b' or 'C' or 'c' or 'D' or 'd' or 'F' or 'f' or 'G' or 'g' or 'H' or 'h' or 'J' or 'j' or 'K' or 'k' or 'L' or 'l' or 'M' or 'm' or 'N' or 'n' or 'P' or 'p' or 'Q' or 'q' or 'R' or 'r' or 'S' or 's' or 'T' or 't' or 'V' or 'v' or 'W' or 'w' or 'X' or 'x' or 'Y' or 'y' or 'Z' or 'z'\n",
    "%      => $\"{input}{vowel.Vowel}{input}\",\n",
    "%    _ => $\"{input}\"\n",
    "%  };\n",
    "%\n",
    "%  public static string Encode (string input, RobbersCipherVowel vowel)\n",
    "%  {\n",
    "%    string output = \"\";\n",
    "%    foreach (char letter in input)\n",
    "%      output += Encode (letter, vowel);\n",
    "%    return output;\n",
    "%  }\n",
    "%}\n",
    "%```\n",
    "%\n",
    "%The static encode methods still work but now we have to pass them instances of `RobbersCipherVowel` in order to run them.\n",
    "%\n",
    "%```{code-cell} csharp\n",
    "%Console.WriteLine( RobbersCipher.Encode( \"Hello\", v1) );\n",
    "%```\n",
    "%\n",
    "%```{code-cell} csharp\n",
    "%Console.WriteLine( RobbersCipher.Encode( \"Hello\", v2) );\n",
    "%```\n",
    "%\n",
    "%Seems to work.\n",
    "\n",
    "\n",
    "\n",
    "\n",
    "## Discussion\n",
    "\n",
    "The way we've solved problems in the examples of this chapter is **not** following the object oriented way.\n",
    "In these examples we use objects as [data structures](data-structures), not as [agents](objects) that you can send messages to.\n",
    "\n",
    "```{important}\n",
    "In object oriented programming we mix methods and data. We don't simply store data in object and then pass these objects to methods so that they can extract the data.\n",
    "```\n",
    "\n",
    "In our examples above we're not solving problems in an object oriented fashion.\n",
    "We're simply using objects as containers of data.\n",
    "To really utilize the ideas of object oriented programming we need to move forward and at least learn about [instance methods](instance-methods) and [constructors](constructors).\n",
    "\n",
    "\n",
    "\n",
    "## Exercises\n",
    "\n",
    "```{exercise}\n",
    "What are *fields*?\n",
    "```\n",
    "\n",
    "```{exercise}\n",
    "What is the difference between an *instance field* and a *static field*?\n",
    "```\n",
    "\n",
    "```{exercise}\n",
    "We tend to say that `public` instance fields \"break encapsulation\".\n",
    "What is meant by this?\n",
    "Another way to say this is that making instance fields `public` breaks the prinicple of \"information hiding\".\n",
    "```\n",
    "\n",
    "\n",
    "```{exercise-start}\n",
    ":label: ex:fields:point\n",
    "```\n",
    "Write a class called `Point` that models a point in three-dimensional space.\n",
    "It should expose three `public` instance fields called `X`, `Y`, and `Z` of type `int`.\n",
    "The fields should be initialized to the value `0`.\n",
    "\n",
    "Then define a local or static method that takes a point and prints it to screen.\n",
    "\n",
    "With the class and the method in place you should be able to run the following code and get the same output."
   ]
  },
  {
   "cell_type": "code",
   "execution_count": 15,
   "id": "205cff5a",
   "metadata": {
    "tags": [
     "remove-input"
    ]
   },
   "outputs": [],
   "source": [
    "class Point\n",
    "{\n",
    "  public int X = 0;\n",
    "  public int Y = 0;\n",
    "  public int Z = 0;\n",
    "}\n",
    "\n",
    "void printPoint (Point p)\n",
    "  => Console.WriteLine($\"{{X={p.X}, Y={p.Y}, Z={p.Z}}}\");"
   ]
  },
  {
   "cell_type": "code",
   "execution_count": 16,
   "id": "c0415b58",
   "metadata": {},
   "outputs": [
    {
     "name": "stdout",
     "output_type": "stream",
     "text": [
      "{X=4, Y=3, Z=1}\n"
     ]
    },
    {
     "name": "stdout",
     "output_type": "stream",
     "text": [
      "{X=-4, Y=3, Z=0}\n"
     ]
    }
   ],
   "source": [
    "Point p1 = new Point();\n",
    "Point p2 = new Point();\n",
    "\n",
    "p1.X += 2;\n",
    "p1.X *= 2;\n",
    "p1.Y = 3;\n",
    "p1.Z = 2;\n",
    "\n",
    "p2.X = -4;\n",
    "p2.Y += 3;\n",
    "p1.Z /= 2;\n",
    "\n",
    "printPoint(p1);\n",
    "printPoint(p2);"
   ]
  },
  {
   "cell_type": "markdown",
   "id": "a8173500",
   "metadata": {},
   "source": [
    "```{exercise-end}\n",
    "```\n",
    "\n",
    "\n",
    "```{exercise-start}\n",
    ":label: ex:fields:move-points\n",
    "```\n",
    "Start with the code that you wrote in {numref}`ex:fields:point`.\n",
    "Write three local or static methods with the following signatures:\n",
    "\n",
    "```csharp\n",
    "void movePointsInX (int delta, Point[] points);\n",
    "void movePointsInY (int delta, Point[] points);\n",
    "void movePointsInZ (int delta, Point[] points);\n",
    "```\n",
    "\n",
    "The methods should iterate over all points in the array `points` and apply the `delta` to the dimension that the method corresponds to.\n",
    "The method `movePointsInX` should apply the delta to the instance field `X`, the method `movePointsInY` to `Y`, and `movePointsInZ` to `Z`.\n",
    "\n",
    "When you've implemented the method, you should be able to run the following code and get the same result."
   ]
  },
  {
   "cell_type": "code",
   "execution_count": 17,
   "id": "012e4ca5",
   "metadata": {
    "tags": [
     "remove-input"
    ]
   },
   "outputs": [],
   "source": [
    "void movePointsInX (int delta, Point[] points)\n",
    "{\n",
    "  foreach (Point point in points)\n",
    "    point.X += delta;\n",
    "}\n",
    "\n",
    "void movePointsInY (int delta, Point[] points)\n",
    "{\n",
    "  foreach (Point point in points)\n",
    "    point.Y += delta;\n",
    "}\n",
    "\n",
    "void movePointsInZ (int delta, Point[] points)\n",
    "{\n",
    "  foreach (Point point in points)\n",
    "    point.Z += delta;\n",
    "}"
   ]
  },
  {
   "cell_type": "code",
   "execution_count": 18,
   "id": "1c864379",
   "metadata": {},
   "outputs": [
    {
     "name": "stdout",
     "output_type": "stream",
     "text": [
      "{X=15, Y=0, Z=150}\n"
     ]
    },
    {
     "name": "stdout",
     "output_type": "stream",
     "text": [
      "{X=6, Y=-18, Z=105}\n"
     ]
    }
   ],
   "source": [
    "Point p1 = new Point() { X=10, Y=20, Z=50 };\n",
    "Point p2 = new Point() { X=1,  Y=2,  Z=5  };\n",
    "\n",
    "Point[] points = new Point[] { p1, p2 };\n",
    "\n",
    "movePointsInX(5, points);\n",
    "movePointsInY(-20, points);\n",
    "movePointsInZ(100, points);\n",
    "\n",
    "printPoint(p1);\n",
    "printPoint(p2);"
   ]
  },
  {
   "cell_type": "markdown",
   "id": "45d4f4bf",
   "metadata": {},
   "source": [
    "```{exercise-end}\n",
    "```\n",
    "\n",
    "\n",
    "```{exercise-start}\n",
    ":label: ex:fields:delta\n",
    "```\n",
    "Start with the code that you wrote in {numref}`ex:fields:point`.\n",
    "In {numref}`ex:fields:move-points` we solved the problem of applying some delta to a number of potentially different points at the same time.\n",
    "Let's solve that in a slightly more general way now.\n",
    "\n",
    "Write a new class called `Delta` which contains three `public` instance fields of type `int`, named `X`, `Y`, and `Z`.\n",
    "Then write a new static or local method with the signature below.\n",
    "\n",
    "```csharp\n",
    "void movePoints (Delta delta, Point[] points);\n",
    "```\n",
    "\n",
    "When you've implemented both the class and the method you should be able to run the following code and get the same result."
   ]
  },
  {
   "cell_type": "code",
   "execution_count": 19,
   "id": "ed34459f",
   "metadata": {
    "tags": [
     "remove-input"
    ]
   },
   "outputs": [],
   "source": [
    "class Delta\n",
    "{\n",
    "  public int X = 0;\n",
    "  public int Y = 0;\n",
    "  public int Z = 0;\n",
    "}\n",
    "\n",
    "void movePoints (Delta delta, Point[] points)\n",
    "{\n",
    "  foreach (Point point in points)\n",
    "  {\n",
    "    point.X += delta.X;\n",
    "    point.Y += delta.Y;\n",
    "    point.Z += delta.Z;\n",
    "  }\n",
    "}"
   ]
  },
  {
   "cell_type": "code",
   "execution_count": 20,
   "id": "79ffb36a",
   "metadata": {},
   "outputs": [
    {
     "name": "stdout",
     "output_type": "stream",
     "text": [
      "{X=15, Y=0, Z=150}\n"
     ]
    },
    {
     "name": "stdout",
     "output_type": "stream",
     "text": [
      "{X=6, Y=-18, Z=105}\n"
     ]
    }
   ],
   "source": [
    "Point p1 = new Point() { X=10, Y=20, Z=50 };\n",
    "Point p2 = new Point() { X=1,  Y=2,  Z=5  };\n",
    "\n",
    "Point[] points = new Point[] { p1, p2 };\n",
    "\n",
    "movePoints(new Delta() { X = 5 }, points);\n",
    "movePoints(new Delta() { Y = -20 }, points);\n",
    "movePoints(new Delta() { Z = 100 }, points);\n",
    "\n",
    "printPoint(p1);\n",
    "printPoint(p2);"
   ]
  },
  {
   "cell_type": "markdown",
   "id": "abe1b39c",
   "metadata": {},
   "source": [
    "```{exercise-end}\n",
    "```\n",
    "\n",
    "\n",
    "```{exercise-start}\n",
    "```\n",
    "Start with the code that you wrote in {numref}`ex:fields:point`.\n",
    "Write a local or static method with the following signature:\n",
    "\n",
    "```csharp\n",
    "Point[] makeIncrementingPoints (int numPoints, int incrementor, Point first);\n",
    "```\n",
    "\n",
    "The method should generate an array of elements of type `Point`.\n",
    "The array should contain `numPoints` number of points and the `X` and `Y` coordinates of each point should be `incrementor` higher than the last point in the array.\n",
    "The point `first` must be the first point in the generated array.\n",
    "\n",
    "When you are done you should be able to run the following code and get the same output."
   ]
  },
  {
   "cell_type": "code",
   "execution_count": 21,
   "id": "1329ebbf",
   "metadata": {
    "tags": [
     "remove-input"
    ]
   },
   "outputs": [],
   "source": [
    "Point[] makeIncrementingPoints (int numPoints, int incrementor, Point first)\n",
    "{\n",
    "  Point[] points = new Point[numPoints];\n",
    "  points[0] = first;\n",
    "  for (int i=1; i<numPoints; i++)\n",
    "  {\n",
    "    points[i] = new Point();\n",
    "    points[i].X = points[i-1].X + incrementor;\n",
    "    points[i].Y = points[i-1].Y + incrementor;\n",
    "    points[i].Z = points[i-1].Z + incrementor;\n",
    "  }\n",
    "  return points;\n",
    "}"
   ]
  },
  {
   "cell_type": "code",
   "execution_count": 22,
   "id": "669a8ed1",
   "metadata": {},
   "outputs": [
    {
     "name": "stdout",
     "output_type": "stream",
     "text": [
      "{X=10, Y=10, Z=10}\n"
     ]
    },
    {
     "name": "stdout",
     "output_type": "stream",
     "text": [
      "{X=20, Y=20, Z=20}\n"
     ]
    },
    {
     "name": "stdout",
     "output_type": "stream",
     "text": [
      "{X=30, Y=30, Z=30}\n"
     ]
    },
    {
     "name": "stdout",
     "output_type": "stream",
     "text": [
      "{X=40, Y=40, Z=40}\n"
     ]
    },
    {
     "name": "stdout",
     "output_type": "stream",
     "text": [
      "{X=50, Y=50, Z=50}\n"
     ]
    }
   ],
   "source": [
    "void printPointArray (Point[] points)\n",
    "{\n",
    "  foreach (Point point in points)\n",
    "    printPoint(point);\n",
    "}\n",
    "\n",
    "Point initial = new Point();\n",
    "initial.X = 10;\n",
    "initial.Y = 10;\n",
    "initial.Z = 10;\n",
    "printPointArray(makeIncrementingPoints(5, 10, initial));"
   ]
  },
  {
   "cell_type": "markdown",
   "id": "a6941be0",
   "metadata": {},
   "source": [
    "```{exercise-end}\n",
    "```\n",
    "\n",
    "```{exercise}\n",
    "Draw a UML class diagram containing both the class `Point` from {numref}`ex:fields:point` and the class `Delta` from {numref}`ex:fields:delta`.\n",
    "Remember to represent all instance fields.\n",
    "```\n",
    "\n",
    "\n",
    "% TODO: Add exercise where you build a Point class with an arbitrary number of dimensions.\n",
    "%```{code-cell}\n",
    "%class Delta\n",
    "%{\n",
    "%  public int Dimension = 0;\n",
    "%  public int Value = 0;\n",
    "%}\n",
    "%\n",
    "%class Point\n",
    "%{\n",
    "%  int[] position;\n",
    "%}\n",
    "%```"
   ]
  }
 ],
 "metadata": {
  "jupytext": {
   "formats": "md:myst",
   "text_representation": {
    "extension": ".md",
    "format_name": "myst"
   }
  },
  "kernelspec": {
   "display_name": "csharp",
   "language": ".net-csharp",
   "name": ".net-csharp"
  },
  "language_info": {
   "file_extension": ".cs",
   "mimetype": "text/x-csharp",
   "name": "C#",
   "pygments_lexer": "csharp",
   "version": "10.0"
  },
  "source_map": [
   11,
   70,
   77,
   118,
   127,
   145,
   154,
   158,
   160,
   172,
   175,
   182,
   189,
   230,
   237,
   241,
   244,
   248,
   251,
   255,
   258,
   262,
   264,
   270,
   279,
   283,
   288,
   407,
   420,
   435,
   457,
   479,
   491,
   513,
   533,
   545,
   565,
   582,
   594
  ]
 },
 "nbformat": 4,
 "nbformat_minor": 5
}