{
 "cells": [
  {
   "cell_type": "markdown",
   "id": "d17a84d4",
   "metadata": {},
   "source": [
    "(blocks)=\n",
    "# Static methods\n",
    "\n",
    "```{warning}\n",
    "Work in progress.\n",
    "```\n",
    "\n",
    "% TODO: Dot notation must be explained here. Take text from fields chapter.\n",
    "\n",
    "%TODO: SIMPLE SUBSTITUTION CIPHERS.\n",
    "\n",
    "%- Example: LEET language. Convert L<=>7 to allow reversibility.\n",
    "\n",
    "%- Subroutine on Wikipedia\n",
    "%- Procedure, hence Procedural programming paradigm.\n",
    "%- Static methods in C\\#\n",
    "%- Method signature (includes return type in the context of [delegates](https://docs.microsoft.com/en-us/dotnet/csharp/programming-guide/delegates/), but not in the context of overloading).\n",
    "%- Parameters/arguments\n",
    "%- Return type and value\n",
    "%  - In mathematics we say that a function \"maps\" a certain argument to a certain value, or in other words, a certain input to a certain output. In the imperative programming paradigm however we say that a method \"returns\" a value. When we define a method we must define what it's, so called, \"return type\" is. Meaning what the data type is of the values that it returns when we call it.\n",
    "%In mathematics we say that a function \"maps\" a certain argument to a certain value, or in other words, a certain input to a certain output.\n",
    "%In the imperative programming paradigm however we say that a method \"returns\" a value \n",
    "%- Early returns. For example when searching in arrays.\n",
    "%- Verbs or implicit verbs where Name would usually get or set name.\n",
    "%- Void (a return type)\n",
    "%- Parameterization\n",
    "%- Documentation comments.\n",
    "%- Types of methods\n",
    "%  - `WriteLine : String -> void`\n",
    "%  - Refer back to [type-checking](type-checking) chapter.\n",
    "%  - Show compiler errors when:\n",
    "%    - calling non-existant method.\n",
    "%    - calling with wrong number of arguments.\n",
    "%    - calling with incorrect type of arguments.\n",
    "%    - using returned value as wrong type.\n",
    "%- Is string interpolation syntactic sugar for `String.Format`?\n",
    "%- Exercises\n",
    "%  - Write a method that greets a name that you pass.\n",
    "%  - Write a method that computes the hypothenuse.\n",
    "%  - Write a method that converts a `string?` to a `string`. Tie back to the nullable discussion in the chapter on [data types](data-types).\n",
    "%\n",
    "%---\n",
    "%\n",
    "%- Multiple input types to WriteLine due to overloads.\n",
    "%- Console can also be thought of as defining a type with only a single member. Static means that there's only one member.\n",
    "%- Sets and functions. Not elegant due to mutation. Still mention it though. It is still valid, but it might also mutate things beyond the in and out. Use bool negation operation (`!`) since it's unary.\n",
    "%- Methods can have parameters and thus arity. More on this later.\n",
    "%- Operators can be unary or nullary.\n",
    "\n",
    "%- Fat-arrow syntax\n",
    "\n",
    "\n",
    "%We have actually already seen a *static* method.\n",
    "%The method `WriteLine` is a static method that's defined on the static class `Console`.\n",
    "%It is therefore called directly upon references to the class, not on instances of the class.\n",
    "%We'll talk more about [static classes](static-classes) and [static methods](static-methods) in separate chapters so don't worry too much if your head has started to spin.\n",
    "%For now however, I just wanted us to quickly think about this method that we've already used a lot in terms of types.\n",
    "%\n",
    "%The method `WriteLine` is called by stating the class name `Console`, adding a dot, the static method name `WriteLine`, and then enclosing whatever argument we wish to print in parentheses.\n",
    "%\n",
    "%Console.WriteLine(\"Hello world\");\n",
    "%Console.WriteLine(1);\n",
    "%Console.WriteLine(true);\n",
    "%\n",
    "%Remember how we in the chapter on [mathematical functions](functions) said that we can use set theory to reason about functions?\n",
    "%Functions map input to output and both static and instance methods are like functions with the important exception that they are also allowed to \"mutate\" the world.\n",
    "%We'll talk more about mutation in the chapter on [mutability](mutability) but what we mean is that methods are not only allowed to return some particular output given some particular input but they are also allowed to change things.\n",
    "%\n",
    "%The method `WriteLine` is a good example of mutation since it maps all input to a single output value called `void`.\n",
    "%This output value is special as you are not allowed to pass around instances of the type.\n",
    "%The type `void` is used when we want to say that a method does not evaluate to any value no matter how we call it.\n",
    "%In the case of `WriteLine` this makes sense since we're not looking to get a value back but rather to have something printed to screen.\n",
    "%We call this a \"side effect\".\n",
    "%When we're calling `WriteLine` we're looking for the side effect of having whatever we pass it printed to the screen.\n",
    "%\n",
    "%\n",
    "%\n",
    "%%{exercise}\n",
    "%% Fizz buzz.\n",
    "%%\n",
    "\n",
    "\n",
    "\n",
    "\n",
    "\n",
    "## Examples\n",
    "\n",
    "%### Existing methods\n",
    "%\n",
    "%Char.ToUpper('x');\n",
    "%Char.ToLower('X');\n",
    "%Console.WriteLine(\"hello\");\n",
    "%String.Format() and string interpolation.\n",
    "\n",
    "\n",
    "(static-methods:examples:reverse)=\n",
    "### Reverse cipher\n",
    "\n",
    "In the chapter on [methods](methods) we wrote a local function that implemented the reverse cipher.\n",
    "Let's now wrap that code in a public static method defined in a static class."
   ]
  },
  {
   "cell_type": "code",
   "execution_count": 1,
   "id": "5f93bc42",
   "metadata": {},
   "outputs": [
    {
     "data": {
      "text/html": [
       "\r\n",
       "<div>\r\n",
       "    <div id='dotnet-interactive-this-cell-4077.Microsoft.DotNet.Interactive.Http.HttpPort' style='display: none'>\r\n",
       "        The below script needs to be able to find the current output cell; this is an easy method to get it.\r\n",
       "    </div>\r\n",
       "    <script type='text/javascript'>\r\n",
       "async function probeAddresses(probingAddresses) {\r\n",
       "    function timeout(ms, promise) {\r\n",
       "        return new Promise(function (resolve, reject) {\r\n",
       "            setTimeout(function () {\r\n",
       "                reject(new Error('timeout'))\r\n",
       "            }, ms)\r\n",
       "            promise.then(resolve, reject)\r\n",
       "        })\r\n",
       "    }\r\n",
       "\r\n",
       "    if (Array.isArray(probingAddresses)) {\r\n",
       "        for (let i = 0; i < probingAddresses.length; i++) {\r\n",
       "\r\n",
       "            let rootUrl = probingAddresses[i];\r\n",
       "\r\n",
       "            if (!rootUrl.endsWith('/')) {\r\n",
       "                rootUrl = `${rootUrl}/`;\r\n",
       "            }\r\n",
       "\r\n",
       "            try {\r\n",
       "                let response = await timeout(1000, fetch(`${rootUrl}discovery`, {\r\n",
       "                    method: 'POST',\r\n",
       "                    cache: 'no-cache',\r\n",
       "                    mode: 'cors',\r\n",
       "                    timeout: 1000,\r\n",
       "                    headers: {\r\n",
       "                        'Content-Type': 'text/plain'\r\n",
       "                    },\r\n",
       "                    body: probingAddresses[i]\r\n",
       "                }));\r\n",
       "\r\n",
       "                if (response.status == 200) {\r\n",
       "                    return rootUrl;\r\n",
       "                }\r\n",
       "            }\r\n",
       "            catch (e) { }\r\n",
       "        }\r\n",
       "    }\r\n",
       "}\r\n",
       "\r\n",
       "function loadDotnetInteractiveApi() {\r\n",
       "    probeAddresses([\"http://10.1.0.34:1024/\", \"http://127.0.0.1:1024/\"])\r\n",
       "        .then((root) => {\r\n",
       "        // use probing to find host url and api resources\r\n",
       "        // load interactive helpers and language services\r\n",
       "        let dotnetInteractiveRequire = require.config({\r\n",
       "        context: '4077.Microsoft.DotNet.Interactive.Http.HttpPort',\r\n",
       "                paths:\r\n",
       "            {\r\n",
       "                'dotnet-interactive': `${root}resources`\r\n",
       "                }\r\n",
       "        }) || require;\r\n",
       "\r\n",
       "            window.dotnetInteractiveRequire = dotnetInteractiveRequire;\r\n",
       "\r\n",
       "            window.configureRequireFromExtension = function(extensionName, extensionCacheBuster) {\r\n",
       "                let paths = {};\r\n",
       "                paths[extensionName] = `${root}extensions/${extensionName}/resources/`;\r\n",
       "                \r\n",
       "                let internalRequire = require.config({\r\n",
       "                    context: extensionCacheBuster,\r\n",
       "                    paths: paths,\r\n",
       "                    urlArgs: `cacheBuster=${extensionCacheBuster}`\r\n",
       "                    }) || require;\r\n",
       "\r\n",
       "                return internalRequire\r\n",
       "            };\r\n",
       "        \r\n",
       "            dotnetInteractiveRequire([\r\n",
       "                    'dotnet-interactive/dotnet-interactive'\r\n",
       "                ],\r\n",
       "                function (dotnet) {\r\n",
       "                    dotnet.init(window);\r\n",
       "                },\r\n",
       "                function (error) {\r\n",
       "                    console.log(error);\r\n",
       "                }\r\n",
       "            );\r\n",
       "        })\r\n",
       "        .catch(error => {console.log(error);});\r\n",
       "    }\r\n",
       "\r\n",
       "// ensure `require` is available globally\r\n",
       "if ((typeof(require) !==  typeof(Function)) || (typeof(require.config) !== typeof(Function))) {\r\n",
       "    let require_script = document.createElement('script');\r\n",
       "    require_script.setAttribute('src', 'https://cdnjs.cloudflare.com/ajax/libs/require.js/2.3.6/require.min.js');\r\n",
       "    require_script.setAttribute('type', 'text/javascript');\r\n",
       "    \r\n",
       "    \r\n",
       "    require_script.onload = function() {\r\n",
       "        loadDotnetInteractiveApi();\r\n",
       "    };\r\n",
       "\r\n",
       "    document.getElementsByTagName('head')[0].appendChild(require_script);\r\n",
       "}\r\n",
       "else {\r\n",
       "    loadDotnetInteractiveApi();\r\n",
       "}\r\n",
       "\r\n",
       "    </script>\r\n",
       "</div>"
      ]
     },
     "metadata": {},
     "output_type": "display_data"
    }
   ],
   "source": [
    "static class ReverseCipher\n",
    "{\n",
    "  public static string Encode (string input)\n",
    "  {\n",
    "    string output = \"\";\n",
    "    for (int i=input.Length-1; i>=0; i--)\n",
    "      output += input[i];\n",
    "    return output;\n",
    "  }\n",
    "}"
   ]
  },
  {
   "cell_type": "markdown",
   "id": "0ef90c02",
   "metadata": {},
   "source": [
    "Now that we've enclosed the method in a static class with a descriptive name, there's no need anymore to include the name of the cipher (\"reverse\") in the method name.\n",
    "So, let's just call the method `Encode`.\n",
    "Does it work?\n",
    "Yes, it does."
   ]
  },
  {
   "cell_type": "code",
   "execution_count": 2,
   "id": "6e21a1e9",
   "metadata": {},
   "outputs": [
    {
     "name": "stdout",
     "output_type": "stream",
     "text": [
      "not object oriented\n"
     ]
    }
   ],
   "source": [
    "Console.WriteLine(\n",
    "  ReverseCipher.Encode(\"detneiro tcejbo ton\"));"
   ]
  },
  {
   "cell_type": "markdown",
   "id": "ad41534b",
   "metadata": {},
   "source": [
    "(static-methods:examples:robbers)=\n",
    "(static-methods-example-robbers)=\n",
    "### Robber's cipher\n",
    "\n",
    "Let's now do the same thing to the Robber's cipher that we wrote in the chapter on [methods](methods).\n",
    "However, remember that we refactored that method so that the method that encoded input strings called another method that knows how to convert any single character.\n",
    "Let's do the same thing here.\n",
    "\n",
    "We'll create a static class called `RobbersCipher` and we'll add two public static methods called `EncodeChar` and `EncodeString`.\n",
    "If you're annoyed by these names, then don't worry, we'll simplify this when we get to [overloading](overloading).\n",
    "\n",
    "% TODO: Should simplify first Encode by using Char.ToUpper()."
   ]
  },
  {
   "cell_type": "code",
   "execution_count": 3,
   "id": "b94bdd5e",
   "metadata": {},
   "outputs": [],
   "source": [
    "static class RobbersCipher\n",
    "{\n",
    "  public static string EncodeChar (char input, char vowel)\n",
    "    => input switch {\n",
    "      'B' or 'b' or 'C' or 'c' or 'D' or 'd' or 'F' or 'f' or 'G' or 'g' or 'H' or 'h' or 'J' or 'j' or 'K' or 'k' or 'L' or 'l' or 'M' or 'm' or 'N' or 'n' or 'P' or 'p' or 'Q' or 'q' or 'R' or 'r' or 'S' or 's' or 'T' or 't' or 'V' or 'v' or 'W' or 'w' or 'X' or 'x' or 'Y' or 'y' or 'Z' or 'z'\n",
    "      => $\"{input}{vowel}{input}\",\n",
    "    _ => $\"{input}\"\n",
    "  };\n",
    "\n",
    "  public static string EncodeString (string input, char vowel)\n",
    "  {\n",
    "    string output = \"\";\n",
    "    foreach (char letter in input)\n",
    "      output += EncodeChar (letter, vowel);\n",
    "    return output;\n",
    "  }\n",
    "}"
   ]
  },
  {
   "cell_type": "markdown",
   "id": "47ad9622",
   "metadata": {},
   "source": [
    "Let's test the method that encodes single characters to ensure that it still works."
   ]
  },
  {
   "cell_type": "code",
   "execution_count": 4,
   "id": "b8286677",
   "metadata": {},
   "outputs": [
    {
     "name": "stdout",
     "output_type": "stream",
     "text": [
      "dad\n"
     ]
    }
   ],
   "source": [
    "Console.WriteLine(RobbersCipher.EncodeChar('d', 'a'));"
   ]
  },
  {
   "cell_type": "markdown",
   "id": "2428825e",
   "metadata": {},
   "source": [
    "And then let's test the method that encodes full strings to ensure that it also still works."
   ]
  },
  {
   "cell_type": "code",
   "execution_count": 5,
   "id": "67cf34ae",
   "metadata": {},
   "outputs": [
    {
     "name": "stdout",
     "output_type": "stream",
     "text": [
      "bobirordod\n"
     ]
    }
   ],
   "source": [
    "Console.WriteLine(RobbersCipher.EncodeString(\"bird\", 'o'));"
   ]
  },
  {
   "cell_type": "markdown",
   "id": "33f28a1a",
   "metadata": {},
   "source": [
    "## Exercises\n",
    "\n",
    "\n",
    "```{exercise}\n",
    "Why are static methods useful?\n",
    "```\n",
    "\n",
    "\n",
    "```{exercise}\n",
    "In C#, what is the difference between a *static method* and a *local function*?\n",
    "```\n",
    "\n",
    "\n",
    "```{exercise-start}\n",
    ":label: ex:static-methods-leet\n",
    "```\n",
    "Create a static class called `LeetCipher` and let it contain two static methods called `EncodeString` and `EncodeChar`.\n",
    "These methods should essentially contain the code that we wrote in {numref}`ex:methods-leet`.\n",
    "In other words, the static methods should implement the leet language and be able to convert strings and individual characters.\n",
    "Your static methods should behave according to the usage example below."
   ]
  },
  {
   "cell_type": "code",
   "execution_count": 6,
   "id": "768ab00b",
   "metadata": {
    "tags": [
     "remove-input"
    ]
   },
   "outputs": [],
   "source": [
    "static class LeetCipher\n",
    "{\n",
    "  public static char EncodeChar (char input)\n",
    "    => input switch {\n",
    "      'A' => '4', '4' => 'A',\n",
    "      'E' => '3', '3' => 'E',\n",
    "      'L' => '1', '1' => 'L',\n",
    "      'O' => '0', '0' => 'O',\n",
    "      'S' => '5', '5' => 'S',\n",
    "      'T' => '7', '7' => 'T',\n",
    "      _ => input\n",
    "    };\n",
    "\n",
    "  public static string EncodeString (string input)\n",
    "  {\n",
    "    string output = \"\";\n",
    "    foreach (char c in input)\n",
    "      output += EncodeChar(c);\n",
    "    return output;\n",
    "  }\n",
    "}"
   ]
  },
  {
   "cell_type": "code",
   "execution_count": 7,
   "id": "73e5c34b",
   "metadata": {},
   "outputs": [
    {
     "name": "stdout",
     "output_type": "stream",
     "text": [
      "1337 LOL\n"
     ]
    }
   ],
   "source": [
    "Console.WriteLine( LeetCipher.EncodeString(\"LEET 101\") );"
   ]
  },
  {
   "cell_type": "code",
   "execution_count": 8,
   "id": "7f189433",
   "metadata": {},
   "outputs": [
    {
     "name": "stdout",
     "output_type": "stream",
     "text": [
      "3\n"
     ]
    }
   ],
   "source": [
    "Console.WriteLine( LeetCipher.EncodeChar('E') );"
   ]
  },
  {
   "cell_type": "markdown",
   "id": "c05ba4d0",
   "metadata": {},
   "source": [
    "```{exercise-end}\n",
    "```\n",
    "\n",
    "\n",
    "\n",
    "\n",
    "```{exercise-start}\n",
    ":label: ex:static-methods-substitutions\n",
    "```\n",
    "In the chapter on [methods](methods) we either wrote or discussed the possibility to write four different methods for applying arrays of substitutions to a character or string.\n",
    "Let's now throw them all in a static class that we'll call `SubstitutionCipher`.\n",
    "\n",
    "While we're at it, we'll also give them new names that hopefully make it a tad easier to see what method does what.\n",
    "If these names drive you crazy then rest assured that we will deal with this when we get to the chapter on [overloading](overloading)."
   ]
  },
  {
   "cell_type": "code",
   "execution_count": 9,
   "id": "bc811d96",
   "metadata": {
    "tags": [
     "remove-input"
    ]
   },
   "outputs": [],
   "source": [
    "static class SubstitutionCipher\n",
    "{\n",
    "  public static char EncodeCharWithCharReplacements (char input, (char, char)[] substitutions)\n",
    "  {\n",
    "    foreach ((char, char) substitution in substitutions)\n",
    "      if (substitution.Item1 == input)\n",
    "        return substitution.Item2;\n",
    "    return input;\n",
    "  }\n",
    "\n",
    "  public static string EncodeCharWithStringReplacements (char input, (char, string)[] substitutions)\n",
    "  {\n",
    "    foreach ((char, string) substitution in substitutions)\n",
    "      if (substitution.Item1 == input)\n",
    "        return substitution.Item2.ToString();\n",
    "    return input.ToString();\n",
    "  }\n",
    "\n",
    "  public static string EncodeStringWithCharReplacements (string input, (char, char)[] substitutions)\n",
    "  {\n",
    "    string output = \"\";\n",
    "    foreach (char c in input)\n",
    "      output += EncodeCharWithCharReplacements(c, substitutions);\n",
    "    return output;\n",
    "  }\n",
    "\n",
    "  public static string EncodeStringWithStringReplacements (string input, (char, string)[] substitutions)\n",
    "  {\n",
    "    string output = \"\";\n",
    "    foreach (char c in input)\n",
    "      output += EncodeCharWithStringReplacements(c, substitutions);\n",
    "    return output;\n",
    "  }\n",
    "}"
   ]
  },
  {
   "cell_type": "markdown",
   "id": "affa8a8b",
   "metadata": {},
   "source": [
    "Implement a static class that looks like this:\n",
    "\n",
    "```csharp\n",
    "static class SubstitutionCipher\n",
    "{\n",
    "  public static char EncodeCharWithCharReplacements (char input, (char, char)[] substitutions) => // ..\n",
    "  public static string EncodeCharWithStringReplacements (char input, (char, string)[] substitutions) => // ..\n",
    "  public static string EncodeStringWithCharReplacements (string input, (char, char)[] substitutions) => // ..\n",
    "  public static string EncodeStringWithStringReplacements (string input, (char, string)[] substitutions) => // ..\n",
    "}\n",
    "```\n",
    "\n",
    "The static methods of the static class should behave like this:"
   ]
  },
  {
   "cell_type": "code",
   "execution_count": 10,
   "id": "4b544276",
   "metadata": {},
   "outputs": [
    {
     "name": "stdout",
     "output_type": "stream",
     "text": [
      "1\n"
     ]
    },
    {
     "name": "stdout",
     "output_type": "stream",
     "text": [
      "LOL\n"
     ]
    },
    {
     "name": "stdout",
     "output_type": "stream",
     "text": [
      "H3110\n"
     ]
    },
    {
     "name": "stdout",
     "output_type": "stream",
     "text": [
      "HOHELOLLOLO\n"
     ]
    }
   ],
   "source": [
    "var leetLike = new (char, char)[] {\n",
    "  ('E', '3'), ('L', '1'), ('O', '0') };\n",
    "var robbersLike = new (char, string)[] {\n",
    "  ('H', \"HOH\"), ('L', \"LOL\") };\n",
    "\n",
    "Console.WriteLine(SubstitutionCipher.EncodeCharWithCharReplacements('L', leetLike));\n",
    "Console.WriteLine(SubstitutionCipher.EncodeCharWithStringReplacements('L', robbersLike));\n",
    "Console.WriteLine(SubstitutionCipher.EncodeStringWithCharReplacements(\"HELLO\", leetLike));\n",
    "Console.WriteLine(SubstitutionCipher.EncodeStringWithStringReplacements(\"HELLO\", robbersLike));"
   ]
  },
  {
   "cell_type": "markdown",
   "id": "76086751",
   "metadata": {},
   "source": [
    "```{tip}\n",
    "We also wrote a method called `charCharArrayToCharStringArray` in {numref}`ex:methods-charchar-to-charstring`.\n",
    "Feel free to choose whether to add this as another method to this static class, to inline that code in the appropriate method above, or simply to use more duplication.\n",
    "```\n",
    "```{exercise-end}\n",
    "```"
   ]
  }
 ],
 "metadata": {
  "jupytext": {
   "formats": "md:myst",
   "text_representation": {
    "extension": ".md",
    "format_name": "myst"
   }
  },
  "kernelspec": {
   "display_name": "csharp",
   "language": ".net-csharp",
   "name": ".net-csharp"
  },
  "language_info": {
   "file_extension": ".cs",
   "mimetype": "text/x-csharp",
   "name": "C#",
   "pygments_lexer": "csharp",
   "version": "10.0"
  },
  "source_map": [
   11,
   114,
   125,
   132,
   135,
   150,
   168,
   172,
   174,
   178,
   180,
   205,
   230,
   233,
   235,
   251,
   287,
   303,
   313
  ]
 },
 "nbformat": 4,
 "nbformat_minor": 5
}