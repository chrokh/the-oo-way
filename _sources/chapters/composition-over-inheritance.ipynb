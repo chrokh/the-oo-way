{
 "cells": [
  {
   "cell_type": "markdown",
   "id": "5acb36fb",
   "metadata": {},
   "source": [
    "# Composition over inheritance\n",
    "\n",
    "```{warning}\n",
    "Work in progress.\n",
    "```\n",
    "\n",
    "## Examples\n",
    "\n",
    "(composition-over-inheritance:examples:ducks)=\n",
    "### Ducks\n",
    "\n",
    "Let's run through an example similar to the duck example made famous by {cite:t}`freemanAndRobson2004`.\n",
    "\n",
    "We start with this:"
   ]
  },
  {
   "cell_type": "code",
   "execution_count": 1,
   "id": "81e2e419",
   "metadata": {},
   "outputs": [
    {
     "data": {
      "text/html": [
       "\r\n",
       "<div>\r\n",
       "    <div id='dotnet-interactive-this-cell-2352.Microsoft.DotNet.Interactive.Http.HttpPort' style='display: none'>\r\n",
       "        The below script needs to be able to find the current output cell; this is an easy method to get it.\r\n",
       "    </div>\r\n",
       "    <script type='text/javascript'>\r\n",
       "async function probeAddresses(probingAddresses) {\r\n",
       "    function timeout(ms, promise) {\r\n",
       "        return new Promise(function (resolve, reject) {\r\n",
       "            setTimeout(function () {\r\n",
       "                reject(new Error('timeout'))\r\n",
       "            }, ms)\r\n",
       "            promise.then(resolve, reject)\r\n",
       "        })\r\n",
       "    }\r\n",
       "\r\n",
       "    if (Array.isArray(probingAddresses)) {\r\n",
       "        for (let i = 0; i < probingAddresses.length; i++) {\r\n",
       "\r\n",
       "            let rootUrl = probingAddresses[i];\r\n",
       "\r\n",
       "            if (!rootUrl.endsWith('/')) {\r\n",
       "                rootUrl = `${rootUrl}/`;\r\n",
       "            }\r\n",
       "\r\n",
       "            try {\r\n",
       "                let response = await timeout(1000, fetch(`${rootUrl}discovery`, {\r\n",
       "                    method: 'POST',\r\n",
       "                    cache: 'no-cache',\r\n",
       "                    mode: 'cors',\r\n",
       "                    timeout: 1000,\r\n",
       "                    headers: {\r\n",
       "                        'Content-Type': 'text/plain'\r\n",
       "                    },\r\n",
       "                    body: probingAddresses[i]\r\n",
       "                }));\r\n",
       "\r\n",
       "                if (response.status == 200) {\r\n",
       "                    return rootUrl;\r\n",
       "                }\r\n",
       "            }\r\n",
       "            catch (e) { }\r\n",
       "        }\r\n",
       "    }\r\n",
       "}\r\n",
       "\r\n",
       "function loadDotnetInteractiveApi() {\r\n",
       "    probeAddresses([\"http://10.1.0.240:1024/\", \"http://127.0.0.1:1024/\"])\r\n",
       "        .then((root) => {\r\n",
       "        // use probing to find host url and api resources\r\n",
       "        // load interactive helpers and language services\r\n",
       "        let dotnetInteractiveRequire = require.config({\r\n",
       "        context: '2352.Microsoft.DotNet.Interactive.Http.HttpPort',\r\n",
       "                paths:\r\n",
       "            {\r\n",
       "                'dotnet-interactive': `${root}resources`\r\n",
       "                }\r\n",
       "        }) || require;\r\n",
       "\r\n",
       "            window.dotnetInteractiveRequire = dotnetInteractiveRequire;\r\n",
       "\r\n",
       "            window.configureRequireFromExtension = function(extensionName, extensionCacheBuster) {\r\n",
       "                let paths = {};\r\n",
       "                paths[extensionName] = `${root}extensions/${extensionName}/resources/`;\r\n",
       "                \r\n",
       "                let internalRequire = require.config({\r\n",
       "                    context: extensionCacheBuster,\r\n",
       "                    paths: paths,\r\n",
       "                    urlArgs: `cacheBuster=${extensionCacheBuster}`\r\n",
       "                    }) || require;\r\n",
       "\r\n",
       "                return internalRequire\r\n",
       "            };\r\n",
       "        \r\n",
       "            dotnetInteractiveRequire([\r\n",
       "                    'dotnet-interactive/dotnet-interactive'\r\n",
       "                ],\r\n",
       "                function (dotnet) {\r\n",
       "                    dotnet.init(window);\r\n",
       "                },\r\n",
       "                function (error) {\r\n",
       "                    console.log(error);\r\n",
       "                }\r\n",
       "            );\r\n",
       "        })\r\n",
       "        .catch(error => {console.log(error);});\r\n",
       "    }\r\n",
       "\r\n",
       "// ensure `require` is available globally\r\n",
       "if ((typeof(require) !==  typeof(Function)) || (typeof(require.config) !== typeof(Function))) {\r\n",
       "    let require_script = document.createElement('script');\r\n",
       "    require_script.setAttribute('src', 'https://cdnjs.cloudflare.com/ajax/libs/require.js/2.3.6/require.min.js');\r\n",
       "    require_script.setAttribute('type', 'text/javascript');\r\n",
       "    \r\n",
       "    \r\n",
       "    require_script.onload = function() {\r\n",
       "        loadDotnetInteractiveApi();\r\n",
       "    };\r\n",
       "\r\n",
       "    document.getElementsByTagName('head')[0].appendChild(require_script);\r\n",
       "}\r\n",
       "else {\r\n",
       "    loadDotnetInteractiveApi();\r\n",
       "}\r\n",
       "\r\n",
       "    </script>\r\n",
       "</div>"
      ]
     },
     "metadata": {},
     "output_type": "display_data"
    }
   ],
   "source": [
    "interface IDuck\n",
    "{\n",
    "  string Quack ();\n",
    "  string Fly ();\n",
    "}\n",
    "\n",
    "class WildDuck : IDuck\n",
    "{\n",
    "  public virtual string Quack () => \"Quack quack.\";\n",
    "  public virtual string Fly () => \"Flying with wings.\";\n",
    "}\n",
    "\n",
    "class RubberDuck : IDuck\n",
    "{\n",
    "  public virtual string Quack () => \"Squeak squeak.\";\n",
    "  public virtual string Fly () => \"Cannot fly.\";\n",
    "}\n",
    "\n",
    "class RocketPoweredWildDuck : WildDuck\n",
    "{\n",
    "  public override string Fly () => \"Flying with rockets.\";\n",
    "}\n",
    "\n",
    "class RocketPoweredRubberDuck : RubberDuck\n",
    "{\n",
    "  public override string Fly () => \"Flying with rockets.\";\n",
    "}\n",
    "\n",
    "class RubberDuckWithVoiceSynthesizer : RubberDuck\n",
    "{\n",
    "  public override string Quack () => \"Quack quack.\";\n",
    "}"
   ]
  },
  {
   "cell_type": "markdown",
   "id": "3000ff99",
   "metadata": {},
   "source": [
    "Pay special attention to how inheritance in the example above doesn't help us in eliminating all duplication.\n",
    "Our use case doesn't simply form a nice hierarchy and so we end up with duplicated code even though we try our best to use the code-reuse facilities of [inheritance](inheritance) to eliminate it.\n",
    "\n",
    "Either way, we can use the code like this:"
   ]
  },
  {
   "cell_type": "code",
   "execution_count": 2,
   "id": "4ce84e13",
   "metadata": {
    "tags": [
     "hide-output"
    ]
   },
   "outputs": [
    {
     "name": "stdout",
     "output_type": "stream",
     "text": [
      "Quack quack. | Flying with wings.\n"
     ]
    },
    {
     "name": "stdout",
     "output_type": "stream",
     "text": [
      "Squeak squeak. | Cannot fly.\n"
     ]
    },
    {
     "name": "stdout",
     "output_type": "stream",
     "text": [
      "Quack quack. | Flying with rockets.\n"
     ]
    },
    {
     "name": "stdout",
     "output_type": "stream",
     "text": [
      "Squeak squeak. | Flying with rockets.\n"
     ]
    },
    {
     "name": "stdout",
     "output_type": "stream",
     "text": [
      "Quack quack. | Cannot fly.\n"
     ]
    }
   ],
   "source": [
    "IDuck[] ducks = new IDuck[] {\n",
    "  new WildDuck(),\n",
    "  new RubberDuck(),\n",
    "  new RocketPoweredWildDuck(),\n",
    "  new RocketPoweredRubberDuck(),\n",
    "  new RubberDuckWithVoiceSynthesizer()\n",
    "};\n",
    "\n",
    "foreach (IDuck duck in ducks)\n",
    "  Console.WriteLine(duck.Quack() + \" | \" + duck.Fly());"
   ]
  },
  {
   "cell_type": "markdown",
   "id": "c16d65ce",
   "metadata": {},
   "source": [
    "But as we apply the idea of favoring composition over inheritance we realize that we can break out individual behaviors into their own classes and then compose them as we see fit.\n",
    "Let's start with quacking behaviors."
   ]
  },
  {
   "cell_type": "code",
   "execution_count": 3,
   "id": "420de717",
   "metadata": {},
   "outputs": [],
   "source": [
    "interface IQuackBehavior\n",
    "{\n",
    "  string Quack ();\n",
    "}\n",
    "\n",
    "class QuackBehavior : IQuackBehavior\n",
    "{\n",
    "  public string Quack () => \"Quack quack.\";\n",
    "}\n",
    "\n",
    "class SqueakBehavior : IQuackBehavior\n",
    "{\n",
    "  public string Quack () => \"Squeak squeak.\";\n",
    "}"
   ]
  },
  {
   "cell_type": "markdown",
   "id": "1f39ed63",
   "metadata": {},
   "source": [
    "Starting to see where this is going?\n",
    "Let's now do the same thing for fly behaviors."
   ]
  },
  {
   "cell_type": "code",
   "execution_count": 4,
   "id": "36abc42e",
   "metadata": {},
   "outputs": [],
   "source": [
    "interface IFlyBehavior\n",
    "{\n",
    "  string Fly ();\n",
    "}\n",
    "\n",
    "class FlyWithWings : IFlyBehavior\n",
    "{\n",
    "  public string Fly () => \"Flying with wings.\";\n",
    "}\n",
    "\n",
    "class NoFlyBehavior : IFlyBehavior\n",
    "{\n",
    "  public string Fly () => \"Cannot fly.\";\n",
    "}\n",
    "\n",
    "class FlyWithRockets : IFlyBehavior\n",
    "{\n",
    "  public string Fly () => \"Fly with rockets.\";\n",
    "}"
   ]
  },
  {
   "cell_type": "markdown",
   "id": "946cb42e",
   "metadata": {},
   "source": [
    "Ok, but what happens to all the duck subclasses?\n",
    "Well, now that we're composing behaviors instead of inheriting and overriding them, we don't need inheritance anymore.\n",
    "A single `Duck` class will do just fine."
   ]
  },
  {
   "cell_type": "code",
   "execution_count": 5,
   "id": "dc6c2fb2",
   "metadata": {},
   "outputs": [],
   "source": [
    "class Duck\n",
    "{\n",
    "  IQuackBehavior quackBehavior;\n",
    "  IFlyBehavior flyBehavior;\n",
    "\n",
    "  public Duck (IQuackBehavior quackBehavior, IFlyBehavior flyBehavior)\n",
    "  {\n",
    "    this.quackBehavior = quackBehavior;\n",
    "    this.flyBehavior = flyBehavior;\n",
    "  }\n",
    "\n",
    "  public string Quack () => quackBehavior.Quack();\n",
    "  public string Fly () => flyBehavior.Fly();\n",
    "}"
   ]
  },
  {
   "cell_type": "markdown",
   "id": "d4cb591d",
   "metadata": {},
   "source": [
    "What we previously considered to be different \"types\" of ducks no longer need to be represented by different individual classes.\n",
    "Instead we can grab any two combination of existing or future quack and fly behaviors and pass them as arguments when constructing a duck.\n",
    "The creation of different \"types\" of ducks, consequently, now happens at run-time rather than compile-time.\n",
    "\n",
    "To execute code equivalent to the example that we had before, we would write something like this:"
   ]
  },
  {
   "cell_type": "code",
   "execution_count": 6,
   "id": "6e56ea9d",
   "metadata": {
    "tags": [
     "hide-output"
    ]
   },
   "outputs": [
    {
     "name": "stdout",
     "output_type": "stream",
     "text": [
      "Quack quack. | Flying with wings.\n"
     ]
    },
    {
     "name": "stdout",
     "output_type": "stream",
     "text": [
      "Squeak squeak. | Cannot fly.\n"
     ]
    },
    {
     "name": "stdout",
     "output_type": "stream",
     "text": [
      "Quack quack. | Fly with rockets.\n"
     ]
    },
    {
     "name": "stdout",
     "output_type": "stream",
     "text": [
      "Squeak squeak. | Fly with rockets.\n"
     ]
    },
    {
     "name": "stdout",
     "output_type": "stream",
     "text": [
      "Quack quack. | Cannot fly.\n"
     ]
    }
   ],
   "source": [
    "Duck[] ducks = new Duck[] {\n",
    "  new Duck(new QuackBehavior(), new FlyWithWings()),\n",
    "  new Duck(new SqueakBehavior(), new NoFlyBehavior()),\n",
    "  new Duck(new QuackBehavior(), new FlyWithRockets()),\n",
    "  new Duck(new SqueakBehavior(), new FlyWithRockets()),\n",
    "  new Duck(new QuackBehavior(), new NoFlyBehavior())\n",
    "};\n",
    "\n",
    "foreach (Duck duck in ducks)\n",
    "  Console.WriteLine(duck.Quack() + \" | \" + duck.Fly());"
   ]
  },
  {
   "cell_type": "markdown",
   "id": "1ae66299",
   "metadata": {},
   "source": [
    "%---\n",
    "% EXAMPLE: SOLVE THE ISSUE DISCUSSED IN INHERITANCE CHAPTER WHERE WE COULDN'T IMPLEMENT THE FOREACH FOR BOTH CHAR-TO-STRING CIPHERS and CHAR-TO-CHAR CIPHERS. USE COMPOSITION!\n",
    "\n",
    "%- White-box/black-box reuse. Breaking encapsulation / information hiding (cuz protected, see Gamma et al, 1994, kap 1).\n",
    "%- Re-use implementation horizontally (strategy pattern video, sandi metz?).\n",
    "%- En student skrev om Kentaur (halv människa halvt djur) som exempel på horisontell delning av kod. Bra exempel. Använd själv Mermaid som exempel för att inte sno dennes exempel rakt av.\n",
    "%- Changing behaviour at runtime vs compile time.\n",
    "%- Exercises:\n",
    "%    - Draw two class diagram in UML that show how a solution that uses inheritance might be refactored into one that uses composition?\n",
    "%\n",
    "\n",
    "%```{important}\n",
    "%At it's core, the problem with inheritance is that it assumes that you problem forms a hierarchy.\n",
    "%```\n",
    "%Few problems are hierarchies, many are graphs.\n",
    "\n",
    "\n",
    "## Exercises\n",
    "\n",
    "```{exercise}\n",
    "Explain the principle usually called \"composition over inheritance\" in your own words.\n",
    "```\n",
    "\n",
    "```{exercise}\n",
    "How are the [maintainability characteristics](maintainability:characteristics) affected when following the principle of composition over inheritance?\n",
    "```\n",
    "\n",
    "```{exercise}\n",
    "It could be argued that favoring composition over inheritance helps avoid issues related to the Liskov substitution principle.\n",
    "In what sense?\n",
    "```\n",
    "\n",
    "```{exercise}\n",
    "Many object oriented languages do not support multiple inheritance.\n",
    "In what sense is the lack of support for multiple inheritance an argument for favoring composition over inheritance?\n",
    "```\n",
    "\n",
    "```{exercise}\n",
    "What do we mean when we say that composition over inheritance gives us the flexibility to change behavior at run-time?\n",
    "```\n",
    "\n",
    "\n",
    "```{exercise-start}\n",
    ":label: ex:composition-over-inheritance:levels\n",
    "```\n",
    "Refactor the application below by favoring composition over inheritance.\n",
    "When you are done, levels should not be classes but objects.\n",
    "In other words, whenever you want to add a new level, you should not have to write a new class.\n",
    "Instead you simply instantiate another `Level` object and pass your configuration of choice to the constructor."
   ]
  },
  {
   "cell_type": "code",
   "execution_count": 7,
   "id": "785976a6",
   "metadata": {
    "tags": [
     "hide-input"
    ]
   },
   "outputs": [],
   "source": [
    "class Game\n",
    "{\n",
    "  public void Run (ILevel level, char secret)\n",
    "  {\n",
    "    Console.WriteLine($\"The output is '{level.Encode(secret)}'. What is the input?\");\n",
    "    Console.Write(\"Your guess: \");\n",
    "    char guess = Console.ReadKey().KeyChar;\n",
    "    Console.WriteLine();\n",
    "    if (guess == secret)\n",
    "    {\n",
    "      Console.WriteLine(\"You win!\");\n",
    "    }\n",
    "    else\n",
    "    {\n",
    "      Console.WriteLine($\"Wrong. Try again!\");\n",
    "      Console.WriteLine();\n",
    "      Console.WriteLine($\"Hint: {level.GetHint()}\");\n",
    "      Run(level, secret);\n",
    "    }\n",
    "  }\n",
    "}\n",
    "\n",
    "interface ILevel\n",
    "{\n",
    "  char Encode (char input);\n",
    "  string GetHint ();\n",
    "}\n",
    "\n",
    "class Level1 : ILevel\n",
    "{\n",
    "  public char Encode (char input)\n",
    "  {\n",
    "    string alphabet = \"ABCDEFGHIJKLMNOPQRSTUVXYZ\";\n",
    "    int i = alphabet.IndexOf(Char.ToUpper(input));\n",
    "    int newIndex = (i + 1) % alphabet.Length;\n",
    "    if (i != -1)\n",
    "    {\n",
    "      if (Char.IsLower(input))\n",
    "        return Char.ToLower(alphabet[newIndex]);\n",
    "      else\n",
    "        return alphabet[newIndex];\n",
    "    }\n",
    "    return input;\n",
    "  }\n",
    "\n",
    "  public string GetHint ()\n",
    "    => \"One step at a time.\";\n",
    "}\n",
    "\n",
    "class Level2 : ILevel\n",
    "{\n",
    "  public char Encode (char input)\n",
    "  {\n",
    "    string alphabet = \"ABCDEFGHIJKLMNOPQRSTUVXYZ\";\n",
    "    int i = alphabet.IndexOf(Char.ToUpper(input));\n",
    "    int newIndex = (i - 4) % alphabet.Length;\n",
    "    if (i != -1)\n",
    "    {\n",
    "      if (newIndex < 0)\n",
    "        newIndex += alphabet.Length;\n",
    "\n",
    "      if (Char.IsLower(input))\n",
    "        return Char.ToLower(alphabet[newIndex]);\n",
    "      else\n",
    "        return alphabet[newIndex];\n",
    "    }\n",
    "    return input;\n",
    "  }\n",
    "\n",
    "  public string GetHint ()\n",
    "    => \"Two steps forward, six steps back.\";\n",
    "}\n",
    "\n",
    "class Level3 : ILevel\n",
    "{\n",
    "  public char Encode (char input)\n",
    "  {\n",
    "    switch (input)\n",
    "    {\n",
    "      case 'L': return '1'; case '1': return 'L';\n",
    "      case 'A': return '4'; case '4': return 'A';\n",
    "      case 'O': return '0'; case '0': return 'O';\n",
    "      case 'T': return '7'; case '7': return 'T';\n",
    "      case 'E': return '3'; case '3': return 'E';\n",
    "      default: return input;\n",
    "    }\n",
    "  }\n",
    "\n",
    "  public string GetHint ()\n",
    "    => \"H4x\";\n",
    "}"
   ]
  },
  {
   "cell_type": "markdown",
   "id": "2c6f231c",
   "metadata": {},
   "source": [
    "Be sure to try out the game before you start refactoring it.\n",
    "The example below shows how to start a game.\n",
    "```csharp\n",
    "Game game = new Game();\n",
    "game.Run(new Level1(), 'A');\n",
    "```\n",
    "The output of running the game above should look like below, if you guess `C` the first time and `A` the second.\n",
    "```output\n",
    "The output is 'B'. What is the input?\n",
    "Your guess: C\n",
    "Wrong. Try again!\n",
    "\n",
    "Hint: One step at a time.\n",
    "The output is 'B'. What is the input?\n",
    "Your guess: A\n",
    "You win!\n",
    "```\n",
    "```{exercise-end}\n",
    "```\n",
    "\n",
    "\n",
    "```{exercise}\n",
    "Consider your solution to {numref}`ex:composition-over-inheritance:levels`.\n",
    "How is the [maintainability](maintainability:characteristics) of the application changed after having favored composition over inheritance?\n",
    "```\n",
    "\n",
    "```{exercise}\n",
    "Come up with your own example of a case where one ought to favor composition over inheritance.\n",
    "Describe your case in detail but without using any code.\n",
    "Use UML class diagrams to illustrate the before and after.\n",
    "```"
   ]
  }
 ],
 "metadata": {
  "jupytext": {
   "formats": "md:myst",
   "text_representation": {
    "extension": ".md",
    "format_name": "myst"
   }
  },
  "kernelspec": {
   "display_name": "csharp",
   "language": ".net-csharp",
   "name": ".net-csharp"
  },
  "language_info": {
   "file_extension": ".cs",
   "mimetype": "text/x-csharp",
   "name": "C#",
   "pygments_lexer": "csharp",
   "version": "10.0"
  },
  "source_map": [
   11,
   28,
   61,
   68,
   80,
   85,
   100,
   105,
   125,
   131,
   146,
   154,
   166,
   219,
   312
  ]
 },
 "nbformat": 4,
 "nbformat_minor": 5
}