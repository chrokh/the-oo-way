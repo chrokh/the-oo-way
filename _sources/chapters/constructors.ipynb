{
 "cells": [
  {
   "cell_type": "markdown",
   "id": "2f4d2e26",
   "metadata": {},
   "source": [
    "# Constructors\n",
    "\n",
    "% TODO: UML class diagrams. Specification says use <<Create>> but it's also common to just use the same name and return type as the class.\n",
    "% TODO: Benefits are very similar to partial application when we send in data through the constructor. Our data depends on the state of the object. Being able to store some data in an instance and then use objects of the same type interchangably at runtime. For example instantiating caesar ciphers with multiple different steps, passing them around, and then switching between them.\n",
    "\n",
    "%- Principle: Encapsulation / Information hiding (coupling, hide what changes)\n",
    "%    - <https://stackoverflow.com/questions/13913174/what-are-the-differences-between-information-hiding-and-encapsulation>\n",
    "%- Principle: The state space of a type should equal the state space of whatever domain concept it is modeling.\n",
    "\n",
    "\n",
    "\n",
    "## Motivation\n",
    "\n",
    "Constructors solve two main problems.\n",
    "\n",
    "1. They allow us to initialize the [fields](fields) (and [properties](properties) but we haven't talked about those yet) of an object upon creation.\n",
    "2. They allow us to validate whether it, in the current state of the world and given the data that we have been passed, is possible to create an instance of the object or not. This problem can generally be thought of as \"validation\" or \"sanitization\".\n",
    "\n",
    "The second point is very important since it allows us to assume that any instance of a type actually is a valid instance of that type.\n",
    "Remember the maxim of making impossible states impossible in the chapter on [types over tests](types-over-tests)?\n",
    "We can use constructors to make sure that our application never contains an instance (meaning value) that's nonsensical given the definition of that type.\n",
    "\n",
    "Take the notion of vowels for example.\n",
    "According to the [bijection rule](types-over-tests) or the notion of types over tests, it is not sensible to use a `char` to model vowels.\n",
    "The two data types support different values and different operations.\n",
    "\n",
    "\n",
    "## Definition\n",
    "\n",
    "A constructor, in C#, is any method whose name is the same as the enclosing type (in this case: class) and that doesn't specify a return type.\n",
    "There is no need to specify a return type because a constructor always returns instances of the type in which it is defined.\n",
    "\n",
    "```\n",
    "class [identifier]\n",
    "{\n",
    "  public [identifier] (<[parameters]>)\n",
    "  {\n",
    "  }\n",
    "}\n",
    "```\n",
    "\n",
    "In the chapter on [classes](classes) we discussed the keyword `new` which is used to create instances of a class.\n",
    "When we use the keyword `new` followed by a class name, a pair of parentheses, and possibly some arguments, then a constructor (that matches that list of arguments is called) is called and we get back an object of that type.\n",
    "\n",
    "I say \"a constructor\" rather than \"the constructor\" since constructors support overloading and so a class might have any number of constructors.\n",
    "More on that in a moment though.\n",
    "\n",
    "%Let's write a constructor for the `Balloon` class that we discussed in the chapter on [classes](classes).\n",
    "\n",
    "```{hint}\n",
    "Remember the `static` method `MakeCircle` from the chapter on [access modifiers](access-modifiers)?\n",
    "The idea of that method is, metaphorically, not far away from the idea of a constructor.\n",
    "```\n",
    "\n",
    "\n",
    "### Default constructor\n",
    "\n",
    "If we don't define a constructor for a class in C# then it's as if that class contains a constructor that takes no parameters and has no method body.\n",
    "As soon as we define a constructor though, this empty and parameterless constructor is no longer implicitly created.\n",
    "\n",
    "Remember how we, in the chapter on [fields](fields), mentioned that instance fields in C# are automatically intialized to their default values unless we initialize them ourselves in the class or upon construction using an [object initializer](object-initializers)?\n",
    "\n",
    "Let's get back to our good old trusted `Rectangle` example."
   ]
  },
  {
   "cell_type": "code",
   "execution_count": 1,
   "id": "77fcb17c",
   "metadata": {},
   "outputs": [
    {
     "data": {
      "text/html": [
       "\r\n",
       "<div>\r\n",
       "    <div id='dotnet-interactive-this-cell-2694.Microsoft.DotNet.Interactive.Http.HttpPort' style='display: none'>\r\n",
       "        The below script needs to be able to find the current output cell; this is an easy method to get it.\r\n",
       "    </div>\r\n",
       "    <script type='text/javascript'>\r\n",
       "async function probeAddresses(probingAddresses) {\r\n",
       "    function timeout(ms, promise) {\r\n",
       "        return new Promise(function (resolve, reject) {\r\n",
       "            setTimeout(function () {\r\n",
       "                reject(new Error('timeout'))\r\n",
       "            }, ms)\r\n",
       "            promise.then(resolve, reject)\r\n",
       "        })\r\n",
       "    }\r\n",
       "\r\n",
       "    if (Array.isArray(probingAddresses)) {\r\n",
       "        for (let i = 0; i < probingAddresses.length; i++) {\r\n",
       "\r\n",
       "            let rootUrl = probingAddresses[i];\r\n",
       "\r\n",
       "            if (!rootUrl.endsWith('/')) {\r\n",
       "                rootUrl = `${rootUrl}/`;\r\n",
       "            }\r\n",
       "\r\n",
       "            try {\r\n",
       "                let response = await timeout(1000, fetch(`${rootUrl}discovery`, {\r\n",
       "                    method: 'POST',\r\n",
       "                    cache: 'no-cache',\r\n",
       "                    mode: 'cors',\r\n",
       "                    timeout: 1000,\r\n",
       "                    headers: {\r\n",
       "                        'Content-Type': 'text/plain'\r\n",
       "                    },\r\n",
       "                    body: probingAddresses[i]\r\n",
       "                }));\r\n",
       "\r\n",
       "                if (response.status == 200) {\r\n",
       "                    return rootUrl;\r\n",
       "                }\r\n",
       "            }\r\n",
       "            catch (e) { }\r\n",
       "        }\r\n",
       "    }\r\n",
       "}\r\n",
       "\r\n",
       "function loadDotnetInteractiveApi() {\r\n",
       "    probeAddresses([\"http://10.1.0.131:1024/\", \"http://127.0.0.1:1024/\"])\r\n",
       "        .then((root) => {\r\n",
       "        // use probing to find host url and api resources\r\n",
       "        // load interactive helpers and language services\r\n",
       "        let dotnetInteractiveRequire = require.config({\r\n",
       "        context: '2694.Microsoft.DotNet.Interactive.Http.HttpPort',\r\n",
       "                paths:\r\n",
       "            {\r\n",
       "                'dotnet-interactive': `${root}resources`\r\n",
       "                }\r\n",
       "        }) || require;\r\n",
       "\r\n",
       "            window.dotnetInteractiveRequire = dotnetInteractiveRequire;\r\n",
       "\r\n",
       "            window.configureRequireFromExtension = function(extensionName, extensionCacheBuster) {\r\n",
       "                let paths = {};\r\n",
       "                paths[extensionName] = `${root}extensions/${extensionName}/resources/`;\r\n",
       "                \r\n",
       "                let internalRequire = require.config({\r\n",
       "                    context: extensionCacheBuster,\r\n",
       "                    paths: paths,\r\n",
       "                    urlArgs: `cacheBuster=${extensionCacheBuster}`\r\n",
       "                    }) || require;\r\n",
       "\r\n",
       "                return internalRequire\r\n",
       "            };\r\n",
       "        \r\n",
       "            dotnetInteractiveRequire([\r\n",
       "                    'dotnet-interactive/dotnet-interactive'\r\n",
       "                ],\r\n",
       "                function (dotnet) {\r\n",
       "                    dotnet.init(window);\r\n",
       "                },\r\n",
       "                function (error) {\r\n",
       "                    console.log(error);\r\n",
       "                }\r\n",
       "            );\r\n",
       "        })\r\n",
       "        .catch(error => {console.log(error);});\r\n",
       "    }\r\n",
       "\r\n",
       "// ensure `require` is available globally\r\n",
       "if ((typeof(require) !==  typeof(Function)) || (typeof(require.config) !== typeof(Function))) {\r\n",
       "    let require_script = document.createElement('script');\r\n",
       "    require_script.setAttribute('src', 'https://cdnjs.cloudflare.com/ajax/libs/require.js/2.3.6/require.min.js');\r\n",
       "    require_script.setAttribute('type', 'text/javascript');\r\n",
       "    \r\n",
       "    \r\n",
       "    require_script.onload = function() {\r\n",
       "        loadDotnetInteractiveApi();\r\n",
       "    };\r\n",
       "\r\n",
       "    document.getElementsByTagName('head')[0].appendChild(require_script);\r\n",
       "}\r\n",
       "else {\r\n",
       "    loadDotnetInteractiveApi();\r\n",
       "}\r\n",
       "\r\n",
       "    </script>\r\n",
       "</div>"
      ]
     },
     "metadata": {},
     "output_type": "display_data"
    }
   ],
   "source": [
    "class Rectangle\n",
    "{\n",
    "  public int Width = 0; // Default value.\n",
    "  public int Height = 0; // Default value.\n",
    "}"
   ]
  },
  {
   "cell_type": "markdown",
   "id": "a41a8c9e",
   "metadata": {},
   "source": [
    "Whenever we create an instance of the class `Rectangle`, this empty (\"bodiless\") and parameterless \"default\" constructor is run."
   ]
  },
  {
   "cell_type": "code",
   "execution_count": 2,
   "id": "73436289",
   "metadata": {},
   "outputs": [],
   "source": [
    "Rectangle r1 = new Rectangle(); // This causes the constructor to be called."
   ]
  },
  {
   "cell_type": "markdown",
   "id": "aac84930",
   "metadata": {},
   "source": [
    "Since the empty constructor isn't changing the value of any of the instance fields, the instantiated rectangle will contain whatever values we set as defaults.\n",
    "As can be observed below."
   ]
  },
  {
   "cell_type": "code",
   "execution_count": 3,
   "id": "f0fca517",
   "metadata": {},
   "outputs": [
    {
     "name": "stdout",
     "output_type": "stream",
     "text": [
      "0\n"
     ]
    }
   ],
   "source": [
    "Console.WriteLine(r1.Width);"
   ]
  },
  {
   "cell_type": "markdown",
   "id": "6591fd66",
   "metadata": {},
   "source": [
    "### Parameterless constructor\n",
    "\n",
    "We can replace the implicitly generated empty constructor by defining our own empty constructor.\n",
    "In this constructor we can do anything we want to do immediately following the creating of an object of the class in which we are defining it.\n",
    "\n",
    "Previously we've initialized the `Width` and `Height` fields in the same place as where we've declared them.\n",
    "However, we could also initially assign their values through the constructor.\n",
    "It would look like this:"
   ]
  },
  {
   "cell_type": "code",
   "execution_count": 4,
   "id": "5e06179d",
   "metadata": {},
   "outputs": [],
   "source": [
    "class Rectangle\n",
    "{\n",
    "  public int Width;  // No default needed.\n",
    "  public int Height; // No default needed.\n",
    "\n",
    "  // This is the constructor.\n",
    "  public Rectangle ()\n",
    "  {\n",
    "    this.Width  = 2;  // Set default\n",
    "    this.Height = 1;  // Set default\n",
    "  }\n",
    "}"
   ]
  },
  {
   "cell_type": "markdown",
   "id": "58dbf7b3",
   "metadata": {},
   "source": [
    "Notice how the compiler no longer warns us that `Width` and `Height` will be automatically initialized to the default values for their respective types as it did when discussing auto-initialization in the chapter on [fields](fields-default).\n",
    "The compiler understands that **all** instances of type `Rectangle` will have values assigned to the fields `Width` and `Height` after construction.\n",
    "\n",
    "How can it know that the fields will be assigned upon construction?\n",
    "Because (1) a constructor is always run when an object is created, (2) we are assigning values in the only constructor that exists, and (3) there no longer exists an empty implicit constructor that doesn't assign values.\n",
    "\n",
    "If we now instantiate a `Rectangle` the constructor will be run and our object will get values assigned to its fields."
   ]
  },
  {
   "cell_type": "code",
   "execution_count": 5,
   "id": "41b09b82",
   "metadata": {},
   "outputs": [
    {
     "name": "stdout",
     "output_type": "stream",
     "text": [
      "2x1\n"
     ]
    }
   ],
   "source": [
    "Rectangle rect = new Rectangle();\n",
    "Console.WriteLine(rect.Width + \"x\" + rect.Height);"
   ]
  },
  {
   "cell_type": "markdown",
   "id": "06c6b006",
   "metadata": {},
   "source": [
    "### Constructor parameters\n",
    "\n",
    "Sometimes it's easy to come up with a default value for an instance field and sometimes it's not.\n",
    "What if we don't want to specify a default value for a field in our class?\n",
    "Worse, what if there is *no default value that makes sense in our domain*?\n",
    "\n",
    "Think about a type modeling employees for example.\n",
    "If we want to model employees then we might say that it makes no sense to have an employee that doesn't have a name.\n",
    "If that is so then we should make it impossible to construct objects of type `Employee` that have no name.\n",
    "\n",
    "Remember the maxim of [making impossible states impossible](types-over-tests).\n",
    "If it doesn't make sense in the domain, then we shouldn't allow it in our types.\n",
    "\n",
    "```{important}\n",
    "By declaring a constructor with some parameters we make it **impossible to instantiate** the class **without passing arguments for those parameters.**\n",
    "```\n",
    "\n",
    "Said differently, a class with no empty constructor **guarantees** that all objects of the type that the class defines were originally created with arguments passed for whatever parameters one of the other constructors required.\n",
    "\n",
    "Remember what we said about the default constructor?\n",
    "An empty, parameterless constructor isn't implicitly added to your class if you define a constructor.\n",
    "However, to construct an instance of a class, we must run a constructor.\n",
    "So, if there is only one constructor in a class, and that constructor takes some parameters, then it is impossible to create an instance of that class without also providing arguments for those parameters.\n",
    "\n",
    "By using constructors we can force anyone who wants to create an instance of the class to have to specify the width and height of the rectangle.\n",
    "It would look like this."
   ]
  },
  {
   "cell_type": "code",
   "execution_count": 6,
   "id": "e6529c89",
   "metadata": {},
   "outputs": [],
   "source": [
    "class Rectangle\n",
    "{\n",
    "  private int width;\n",
    "  private int height;\n",
    "\n",
    "  // This is the constructor.\n",
    "  public Rectangle (int width, int height)\n",
    "  {\n",
    "    this.width  = width;  // Assigns input argument to field.\n",
    "    this.height = height; // Assigns input argument to field.\n",
    "  }\n",
    "\n",
    "  public void Print ()\n",
    "    => Console.WriteLine(this.width + \"x\" + this.height);\n",
    "}"
   ]
  },
  {
   "cell_type": "markdown",
   "id": "efdc1358",
   "metadata": {},
   "source": [
    "Remember, now that we've defined a constructor ourselves, the C# compiler no longer automatically creates an empty constructor for us.\n",
    "The *only* way to construct a `Rectangle` is now via the constructor that has two parameters.\n",
    "\n",
    "In the code above, we've declared a constructor with two parameters of type `int`.\n",
    "The two parameters are named `x` and `y`.\n",
    "In the body of the constructor, meaning the implementation of the constructor, we take these two arguments and assign them to our instance fields called `X` and `Y`.\n",
    "\n",
    "```{note}\n",
    "Remember the keyword `this` that we've talked about [earlier](keyword:this)?\n",
    "In the case of an instance method, it is a reference to the object upon which the instance method was called.\n",
    "In the case of a constructor, it is a reference to the object that was just created.\n",
    "```\n",
    "\n",
    "\n",
    "### Invocation\n",
    "\n",
    "How do we run the constructor?\n",
    "When do we pass these arguments?\n",
    "Well, we pass the arguments when we instantiate the class."
   ]
  },
  {
   "cell_type": "code",
   "execution_count": 7,
   "id": "6ddbadca",
   "metadata": {},
   "outputs": [
    {
     "name": "stdout",
     "output_type": "stream",
     "text": [
      "10x20\n"
     ]
    },
    {
     "name": "stdout",
     "output_type": "stream",
     "text": [
      "4x5\n"
     ]
    }
   ],
   "source": [
    "Rectangle r2 = new Rectangle(10, 20);\n",
    "Rectangle r3 = new Rectangle(4, 5);\n",
    "\n",
    "r2.Print();\n",
    "r3.Print();"
   ]
  },
  {
   "cell_type": "markdown",
   "id": "787fdc00",
   "metadata": {},
   "source": [
    "Notice how it is no longer possible to instantiate a `Rectangle` without also passing arguments to the constructor.\n",
    "If we try to do that, then we get a compiler error."
   ]
  },
  {
   "cell_type": "code",
   "execution_count": 8,
   "id": "07b3e9bc",
   "metadata": {
    "tags": [
     "raises-exception"
    ]
   },
   "outputs": [
    {
     "name": "stderr",
     "output_type": "stream",
     "text": [
      "\n",
      "(1,20): error CS7036: There is no argument given that corresponds to the required formal parameter 'width' of 'Rectangle.Rectangle(int, int)'\n",
      "\n"
     ]
    },
    {
     "ename": "Error",
     "evalue": "compilation error",
     "output_type": "error",
     "traceback": []
    }
   ],
   "source": [
    "Rectangle r4 = new Rectangle(); // Will not compile."
   ]
  },
  {
   "cell_type": "markdown",
   "id": "412ba11c",
   "metadata": {},
   "source": [
    "We've removed the empty constructor and there's now only a single constructor that has two parameters.\n",
    "A constructor is a method, and to call the method we must supply arguments for all its parameters.\n",
    "\n",
    "This means that we can guarantee that anytime we have an instance of type `Rectangle` it was instantiated with some intial values that whoever instantiated the class chose.\n",
    "\n",
    "However, had we made the [access modifiers](access-modifiers) of the instance fields `public` then we could *not* guarantee that any instance of type `Rectangle` will at all times have a size that \"makes sense\" in our domain since the fields would then be [mutable](mutability).\n",
    "\n",
    "```{danger}\n",
    "Be weary of mutating fields and properties.\n",
    "Follow the principle of information hiding.\n",
    "```\n",
    "\n",
    "```{important}\n",
    "To achieve information hiding we must also make our fields `private`.\n",
    "By never exposing our encapsulated data we can guarantee that all objects of some type always have data that is \"valid\" in our domain.\n",
    "This is *tremendously* valuable.\n",
    "```\n",
    "\n",
    "Notice that we, as discussed in the chapter on [access modifiers](access-modifiers), loose the ability to use the object initializer syntax when switching to `private` fields.\n",
    "However, when switching to constructors we get way more in return.\n",
    "We gain a higher level of correctness and expressivity for our types.\n",
    "We can now express classes whose instances are always valid instances according to our specification of that type.\n",
    "\n",
    "\n",
    "\n",
    "%### `this` keyword\n",
    "%\n",
    "%% TODO: REMOVE ALL THIS??\n",
    "%\n",
    "%MOST OF THIS IS ALREADY EXPLAINED IN THE CHAPTER ON INSTANCE METHODS.\n",
    "%% MUST HOWEVER SHOW COMPILER WARNING THAT WE GET WHEN WE ASSIGN WIDTH TO WIDTH:\n",
    "%%The C# compiler will assume that we are referring to the local variable which means that we will be assigning the value of a variable to itself.\n",
    "%%Which of course is pointless and not what we meant to do.\n",
    "%%Have a look at the compiler warnings that we get below:\n",
    "%\n",
    "%So what about the `this` keyword that's being used in the example above.\n",
    "%What is it and what does it do?\n",
    "%\n",
    "%When the code in the body of the constructor is being executed, then that code is being executed in the context of the object that was just created.\n",
    "%The keyword `this` refers to the object that is being constructed.\n",
    "%\n",
    "%In that particular example we don't actually need the keyword `this`.\n",
    "%We could just as well, simply, have written `X = x` and `Y = y`.\n",
    "%This is because there is no ambiguity.\n",
    "%What do we mean when we say that there is no ambiguity?\n",
    "%We mean that the variables `X` and `x`, for example, are both only defined in one place that's in scope in the constructor.\n",
    "%\n",
    "%If however we had named the constructor parameters `X` and `Y`, meaning in uppercase then there would be ambiguity.\n",
    "%Think about it.\n",
    "%What are we assigning to what if we would say `X = X`?\n",
    "%The C# compiler will assume that we are referring to the local variable which means that we will be assigning the value of a variable to itself.\n",
    "%Which of course is pointless and not what we meant to do.\n",
    "%Have a look at the compiler warnings that we get below:\n",
    "%\n",
    "%``{code-cell}\n",
    "%:tags: [raises-exception]\n",
    "%class Point\n",
    "%{\n",
    "%  public int X = 0;\n",
    "%  public int Y = 0;\n",
    "%\n",
    "%  public Point (int X, int Y)\n",
    "%  {\n",
    "%    X = X;\n",
    "%    Y = Y;\n",
    "%  }\n",
    "%}\n",
    "%``\n",
    "%\n",
    "\n",
    "\n",
    "\n",
    "### Expression-bodied members\n",
    "\n",
    "As mentioned in an earlier chapter, constructors support the C# feature known as expression-bodied members.\n",
    "This means that if we have a constructor whose implementation can be expressed as a single expression, then we can omit the curly braces (`{ }`) and instead use a fat-arrow (`=>`).\n",
    "Like in the example below."
   ]
  },
  {
   "cell_type": "code",
   "execution_count": 9,
   "id": "86417aae",
   "metadata": {},
   "outputs": [],
   "source": [
    "class Person\n",
    "{\n",
    "  public string Name;\n",
    "  public Person (string name)\n",
    "    => Name = name;\n",
    "}"
   ]
  },
  {
   "cell_type": "markdown",
   "id": "fcd31b04",
   "metadata": {},
   "source": [
    "### Overloading\n",
    "\n",
    "Constructors are [overloadable](overloading).\n",
    "This is known as \"constructor overloading\" and means that we can define multiple constructors that differ in their parameter lists and have different implementations.\n",
    "This is very useful since it, for example, allows us to define types that can be instantiated in very different ways.\n",
    "\n",
    "In the case of our `Rectangle` class for example we might want another constructor with a single parameter called `size` instead of two called `width` and `height`.\n",
    "As you might expect, the constructor with a single parameter creates a square since it sets both `Width` and `Height` fields to the `size` parameter.\n",
    "It would look like this:"
   ]
  },
  {
   "cell_type": "code",
   "execution_count": 10,
   "id": "64b464f2",
   "metadata": {},
   "outputs": [],
   "source": [
    "class Rectangle\n",
    "{\n",
    "  private int width;\n",
    "  private int height;\n",
    "\n",
    "  // One of two constructors.\n",
    "  public Rectangle (int size)\n",
    "  {\n",
    "    this.width = size;\n",
    "    this.height = size;\n",
    "  }\n",
    "\n",
    "  // One of two constructors.\n",
    "  public Rectangle (int width, int height)\n",
    "  {\n",
    "    this.width  = width;\n",
    "    this.height = height;\n",
    "  }\n",
    "\n",
    "  public void Print ()\n",
    "    => Console.WriteLine(this.width + \"x\" + this.height);\n",
    "}"
   ]
  },
  {
   "cell_type": "markdown",
   "id": "6efb035d",
   "metadata": {},
   "source": [
    "Whichever constructor is run depends on what arguments when pass when contructing the object."
   ]
  },
  {
   "cell_type": "code",
   "execution_count": 11,
   "id": "ce3245a8",
   "metadata": {},
   "outputs": [
    {
     "name": "stdout",
     "output_type": "stream",
     "text": [
      "3x3\n"
     ]
    },
    {
     "name": "stdout",
     "output_type": "stream",
     "text": [
      "10x5\n"
     ]
    }
   ],
   "source": [
    "Rectangle square = new Rectangle(3);\n",
    "Rectangle rect = new Rectangle(10, 5);\n",
    "\n",
    "square.Print();\n",
    "rect.Print();"
   ]
  },
  {
   "cell_type": "markdown",
   "id": "ac9bafc6",
   "metadata": {},
   "source": [
    "%Consider for example the idea of a weekday.\n",
    "%If we have a type that models weekdays called `Weekday` then we can trivially think of a number of different ways to instantiate it.\n",
    "%To instantiate an object that represents Tuesday we might for example want to support the following different syntaxes.\n",
    "%\n",
    "%``{code-cell}\n",
    "%:tags: [remove-input]\n",
    "%class Weekday\n",
    "%{\n",
    "%  public Weekday (string day) {}\n",
    "%  public Weekday (int day) {}\n",
    "%}\n",
    "%``\n",
    "%\n",
    "%``{code-cell}\n",
    "%new Weekday (2);            // int\n",
    "%new Weekday ('T');          // char\n",
    "%new Weekday (\"Tuesday\");    // string\n",
    "%``\n",
    "%\n",
    "%Notice how we're instantiating the same type, namely `Weekday`, in all three cases above.\n",
    "%However, notice also how the type of the argument that we pass to the constructor varies.\n",
    "%There are essentially three constructors.\n",
    "%\n",
    "%``{code-cell}\n",
    "%class Weekday\n",
    "%{\n",
    "%  public Weekday (string day) { /* ... */ }\n",
    "%  public Weekday (int day) { /* ... */ }\n",
    "%  public Weekday (char day) { /* ... */ }\n",
    "%}\n",
    "%``\n",
    "\n",
    "\n",
    "\n",
    "### Constructor chaining\n",
    "\n",
    "When we've got multiple constructors in a class we can also do something called \"constructor chaining\".\n",
    "A constructor can call another constructor.\n",
    "This is very helpful in [eliminating duplication](dont-repeat-yourself).\n",
    "\n",
    "Remember how we've talked about how the `this` keyword, in the constructor body, refers to the object that we've just created.\n",
    "There is however one more use for the keyword in the context of constructors.\n",
    "Namely, constructor chaining.\n",
    "\n",
    "Constructor chaining essentially means calling another constructor from a constructor before we run the body of our constructor.\n",
    "We do this by using the `this` keyword, *not* in the body of the constructor, but directly after the method signature.\n",
    "The `this` keyword in that context acts like a call to a constructor.\n",
    "We say \"a\" and not \"the\" since what constructor is called depends on what argument list we provide.\n",
    "\n",
    "In the example below, we're implementing the single parameter constructor in terms of the multi parameter constructor.\n",
    "In other words, instead of assigning width and height in our single parameter constructor, we simply take the value that was passed to us and sends it on to the other constructor which will do the assigning.\n",
    "\n",
    "This essentially the same idea as when we implemented one overload of the instance method `Scale` in the chapter on [instance methods](instance-methods) in terms of another overload.\n",
    "While the elimination of duplication might seem trivial in both these examples you can hopefully see how exactly this technique can be used to eliminate much more elaborate duplication in the real world."
   ]
  },
  {
   "cell_type": "code",
   "execution_count": 12,
   "id": "1f58e169",
   "metadata": {},
   "outputs": [],
   "source": [
    "class Rectangle\n",
    "{\n",
    "  private int width;\n",
    "  private int height;\n",
    "\n",
    "  // One of two constructors.\n",
    "  public Rectangle (int size)\n",
    "    : this(size, size) { }\n",
    "\n",
    "  // One of two constructors.\n",
    "  public Rectangle (int width, int height)\n",
    "  {\n",
    "    this.width  = width;\n",
    "    this.height = height;\n",
    "  }\n",
    "\n",
    "  public void Print ()\n",
    "    => Console.WriteLine(this.width + \"x\" + this.height);\n",
    "}"
   ]
  },
  {
   "cell_type": "markdown",
   "id": "6ef6e8dc",
   "metadata": {},
   "source": [
    "### Private constructors\n",
    "\n",
    "Perhaps you might have noticed that we marked our constructors in the examples above as `public`.\n",
    "If a constructor can be `public`, can it then also be `private`?\n",
    "Yes, it can.\n",
    "\n",
    "But that makes no sense you might say.\n",
    "How could I possibly construct an object if its constructor is `private`.\n",
    "Two ways:\n",
    "\n",
    "First, since constructors support overloading we can make some constructors `private` and some `public`.\n",
    "Code outside our class can only access our `public` constructors, but any of our constructors can access all the `private` constructors.\n",
    "\n",
    "Second, you might recall from the chapter on [access modifiers](access-modifiers) that `private` doesn't mean private to that object but private to that *class*.\n",
    "This means that we can have a `public static` method that calls our `private` constructor and returns the object created.\n",
    "\n",
    "Why we would do this?\n",
    "Remember the idea of [making impossible states impossible](types-over-tests) that we keep nagging about?\n",
    "Remember the idea of [failing fast](fail-fast)?\n",
    "That we should prefer compile-time over run-time errors?\n",
    "Have a look at the class below.\n",
    "It gives us a way of guaranteeing that all instances of the type `Vowel` at all times actually represent vowels.\n",
    "\n",
    "% TODO: Is this thread ever picked up again in other chapters? We don't actually talk about Singleton pattern.\n",
    "\n",
    "%TODO: Should static factory methods be its own subsection in the examples?\n",
    "\n",
    "(constructors:private)="
   ]
  },
  {
   "cell_type": "code",
   "execution_count": 13,
   "id": "63d6efc0",
   "metadata": {},
   "outputs": [],
   "source": [
    "class Vowel\n",
    "{\n",
    "  private char letter;\n",
    "\n",
    "  // Private constructor\n",
    "  private Vowel (char letter, bool upper)\n",
    "    => this.letter = upper\n",
    "      ? Char.ToUpper(letter)\n",
    "      : Char.ToLower(letter);\n",
    "\n",
    "  // Public static factory methods\n",
    "  public static Vowel MakeA(bool upper) => new Vowel('A', upper);\n",
    "  public static Vowel MakeE(bool upper) => new Vowel('E', upper);\n",
    "  public static Vowel MakeI(bool upper) => new Vowel('I', upper);\n",
    "  public static Vowel MakeO(bool upper) => new Vowel('O', upper);\n",
    "  public static Vowel MakeU(bool upper) => new Vowel('U', upper);\n",
    "  public static Vowel MakeY(bool upper) => new Vowel('Y', upper);\n",
    "\n",
    "  public char ToChar() => letter;\n",
    "}"
   ]
  },
  {
   "cell_type": "markdown",
   "id": "f92713ae",
   "metadata": {},
   "source": [
    "We can now create perfectly valid vowels with our static factory methods."
   ]
  },
  {
   "cell_type": "code",
   "execution_count": 14,
   "id": "e78eff63",
   "metadata": {},
   "outputs": [
    {
     "name": "stdout",
     "output_type": "stream",
     "text": [
      "A\n"
     ]
    },
    {
     "name": "stdout",
     "output_type": "stream",
     "text": [
      "e\n"
     ]
    }
   ],
   "source": [
    "Vowel vowel1 = Vowel.MakeA(true);\n",
    "Vowel vowel2 = Vowel.MakeE(false);\n",
    "\n",
    "Console.WriteLine(vowel1.ToChar());\n",
    "Console.WriteLine(vowel2.ToChar());"
   ]
  },
  {
   "cell_type": "markdown",
   "id": "63c3bf9e",
   "metadata": {},
   "source": [
    "We cannot however invoke the `private` constructor in order to create an instance of type `Vowel` that does not actually contain a vowel `char`.\n",
    "If we try to do that then we get a compiler error."
   ]
  },
  {
   "cell_type": "code",
   "execution_count": 15,
   "id": "524a5866",
   "metadata": {
    "tags": [
     "raises-exception"
    ]
   },
   "outputs": [
    {
     "name": "stderr",
     "output_type": "stream",
     "text": [
      "\n",
      "(1,18): error CS1729: 'Vowel' does not contain a constructor that takes 1 arguments\n",
      "\n"
     ]
    },
    {
     "ename": "Error",
     "evalue": "compilation error",
     "output_type": "error",
     "traceback": []
    }
   ],
   "source": [
    "Vowel nope = new Vowel('k');"
   ]
  },
  {
   "cell_type": "markdown",
   "id": "49856a67",
   "metadata": {},
   "source": [
    "### Order\n",
    "\n",
    "Let's quickly recap the order in which things are run.\n",
    "First, field initializers are run, then any chained constructor, and then finally the body of the constructor.\n",
    "\n",
    "\n",
    "\n",
    "\n",
    "## Examples\n",
    "\n",
    "\n",
    "(exception-arguments)=\n",
    "### Exceptions\n",
    "\n",
    "Remember how we discussed that [expections](throwing-exceptions) are just regular classes and that we can instantiate and then throw them ourselves?\n",
    "There are two things we must learn about exceptions when talking about constructors.\n",
    "\n",
    "1. We can pass arguments to the constructor when instantiating an exception.\n",
    "2. We can throw exceptions in our own constructors when users try to create instances of our type that doesn't make sense.\n",
    "\n",
    "If an exception is just a class, then that means that when we are instantiating them we are running a constructor.\n",
    "Which in turn means that the constructor might take arguments.\n",
    "\n",
    "I've mentioned that we'll make heavy use of the type `ArgumentException`, and it just so happens that this class, as many other exception classes in .NET, defines a constructor that takes a single `string` as an argument.\n",
    "This `string` is the message that we want to send with the exception when it is thrown.\n",
    "\n",
    "We can use this feature in order to tell the user more about what went wrong when something went wrong.\n",
    "Have a look at how we're using exceptions below to guarantee that a Balloon without a text cannot be created."
   ]
  },
  {
   "cell_type": "code",
   "execution_count": 16,
   "id": "cfa696da",
   "metadata": {
    "tags": [
     "raises-exception"
    ]
   },
   "outputs": [],
   "source": [
    "class Balloon\n",
    "{\n",
    "  public string Text = \"\";\n",
    "\n",
    "  public Balloon (string text)\n",
    "  {\n",
    "    if (text == null || text == \"\")\n",
    "      throw new ArgumentException($\"Text must be non-null and non-empty.\");\n",
    "    this.Text = text;\n",
    "  }\n",
    "}"
   ]
  },
  {
   "cell_type": "markdown",
   "id": "6be38301",
   "metadata": {},
   "source": [
    "We know that we should prefer compile-time errors over run-time errors, but sometimes a compile-time error simply isn't a reasonable option.\n",
    "Under the maxim of [failing fast](fail-fast) it is in these cases better that we throw an exception right in the constructor rather than allowing an, in terms of our domain, \"invalid\" object to be created.\n",
    "Letting the invalid object propagate in our system would allegedly only delay the error (in terms of time and space) and thus make it harder to recover from when it eventually occurrs.\n",
    "\n",
    "\n",
    "\n",
    "## Exercises\n",
    "\n",
    "```{exercise}\n",
    "How can we make use of the keyword `this` in a constructor?\n",
    "```\n",
    "\n",
    "```{exercise}\n",
    "What is constructor overloading and constructor chaining?\n",
    "How do they relate to eachother?\n",
    "```\n",
    "\n",
    "```{exercise}\n",
    "Write your own example that shows how constructor overloading works.\n",
    "```\n",
    "\n",
    "```{exercise}\n",
    "Write your own example that shows how constructor chaining.\n",
    "```\n",
    "\n",
    "```{exercise}\n",
    "Write your own class and constructors that demonstrate in which order the following three are run:\n",
    "field initializers, a chained constructor, and the constructor body.\n",
    "```\n",
    "\n",
    "```{exercise-start}\n",
    "```\n",
    "The code below generates warnings and doesn't behave as intended.\n",
    "How do we get rid of the warning and make it behave as the programmer most likely intended it to behave like?"
   ]
  },
  {
   "cell_type": "code",
   "execution_count": 17,
   "id": "becf0f87",
   "metadata": {},
   "outputs": [
    {
     "name": "stderr",
     "output_type": "stream",
     "text": [
      "\n",
      "(6,8): warning CS1717: Assignment made to same variable; did you mean to assign something else?\n",
      "\n",
      "(3,10): warning CS0169: The field 'Cat.Name' is never used\n",
      "\n"
     ]
    }
   ],
   "source": [
    "class Cat\n",
    "{\n",
    "  string Name;\n",
    "\n",
    "  public Cat (string Name)\n",
    "    => Name = Name;\n",
    "}"
   ]
  },
  {
   "cell_type": "markdown",
   "id": "aa9aea0e",
   "metadata": {},
   "source": [
    "```{exercise-end}\n",
    "```\n",
    "\n",
    "\n",
    "```{exercise-start}\n",
    "```\n",
    "In {numref}`ex:instance-methods:delta` you wrote a class called `Point` that modeled a point in three-dimensional space.\n",
    "Rewrite the class so that all instance fields are `private` and so that the fields are set via a constructor.\n",
    "\n",
    "When you're done, you should be able to run the following code and get the same result."
   ]
  },
  {
   "cell_type": "code",
   "execution_count": 18,
   "id": "08194ac7",
   "metadata": {
    "tags": [
     "remove-input"
    ]
   },
   "outputs": [],
   "source": [
    "class Point\n",
    "{\n",
    "  private int X = 0;\n",
    "  private int Y = 0;\n",
    "  private int Z = 0;\n",
    "\n",
    "  public Point (int x, int y, int z)\n",
    "  {\n",
    "    X = x;\n",
    "    Y = y;\n",
    "    Z = z;\n",
    "  }\n",
    "\n",
    "  public void Print ()\n",
    "    => Console.WriteLine($\"{{X={X}, Y={Y}, Z={Z}}}\");\n",
    "\n",
    "  public void Add (Point other)\n",
    "  {\n",
    "    X += other.X;\n",
    "    Y += other.Y;\n",
    "    Z += other.Z;\n",
    "  }\n",
    "}"
   ]
  },
  {
   "cell_type": "code",
   "execution_count": 19,
   "id": "a3da00eb",
   "metadata": {},
   "outputs": [
    {
     "name": "stdout",
     "output_type": "stream",
     "text": [
      "{X=111, Y=122, Z=133}\n"
     ]
    }
   ],
   "source": [
    "Point point = new Point(10, 20, 30);\n",
    "\n",
    "Point delta1 = new Point(1, 2, 3);\n",
    "Point delta2 = new Point(100, 100, 100);\n",
    "\n",
    "point.Add(delta1);\n",
    "point.Add(delta2);\n",
    "\n",
    "point.Print();"
   ]
  },
  {
   "cell_type": "markdown",
   "id": "19e068b3",
   "metadata": {},
   "source": [
    "```{exercise-end}\n",
    "```\n",
    "\n",
    "\n",
    "\n",
    "\n",
    "\n",
    "%```{exercise}\n",
    "%:label: ex:constructors:vowel-enums\n",
    "%\n",
    "%Use constructor overloading to add another constructor to the class `CaesarCipherVowel` from this chapter.\n",
    "%The new constructor should take an [enum](enums) that only can be set to vowels.\n",
    "%Make sure that the updated class still can be used in the encode methods of the static class `RobbersCipher` from the chapter on [fields](fields).\n",
    "%```\n",
    "\n",
    "\n",
    "```{exercise}\n",
    "When and why would you choose to expose a parameter through the constructor as opposed to through an instance method?\n",
    "Explain using your own words.\n",
    "```\n",
    "\n",
    "\n",
    "%```{exercise}\n",
    "%TODO: First name and last name.\n",
    "%```\n",
    "\n",
    "\n",
    "%```{exercise-start}\n",
    "%:label: ex:constructors:vowel\n",
    "%```\n",
    "%Below you'll find a draft of a class called `Weekday`.\n",
    "%```{code-cell}\n",
    "%class Weekday\n",
    "%{\n",
    "%  public int Day;\n",
    "%  public Weekday (int day) { /* ... */ }\n",
    "%  public Weekday (string day) { /* ... */ }\n",
    "%  public Weekday (char day) { /* ... */ }\n",
    "%}\n",
    "%```\n",
    "%Complete the definition of the class so that we can use it to run the following code and get the same result.\n",
    "%```{code-cell} csharp\n",
    "%class Weekday\n",
    "%{\n",
    "%  int day;\n",
    "%\n",
    "%  public Weekday (int day)\n",
    "%  {\n",
    "%    if (weekday < 1 || weekday > 7)\n",
    "%      throw new ArgumentException(\"Number must be between 1 and 7.\");\n",
    "%  }\n",
    "%\n",
    "%  public Weekday (string day)\n",
    "%  {\n",
    "%    string[] legal = new string[] {\n",
    "%      \"Monday\", \"Tuesday\", \"Wednesday\", \"Thursday\", \"Friday\", \"Saturday\", \"Sunday\" }\n",
    "%    Array.IndexOf(legal, day)\n",
    "%    if (legal.IndexOf(Char.ToUpper(vowel)) == -1)\n",
    "%      throw new ArgumentException(\"Must be a vowel (AEIOU).\");\n",
    "%    letter = vowel;\n",
    "%  }\n",
    "%\n",
    "%  public Weekday (int weekday)\n",
    "%  {\n",
    "%    if (weekday < 1 || weekday > 7)\n",
    "%      throw new ArgumentException(\"Number must be between 1 and 7.\");\n",
    "%  }\n",
    "%\n",
    "%  public char ToChar () => letter;\n",
    "%\n",
    "%  public static implicit operator char(Vowel v) => v.ToChar();\n",
    "%}\n",
    "%```\n",
    "%Write a class that models the domain concept of English vowels.\n",
    "%It should be possible to pass upper and lowercase vowels as characters when instantiating it, and it should be possible to extract these vowels again.\n",
    "%See the usage examples below.\n",
    "%\n",
    "%```{code-cell} csharp\n",
    "%char c1 = new Vowel('A').ToChar();\n",
    "%Console.WriteLine(c1);\n",
    "%```\n",
    "%```{code-cell} csharp\n",
    "%char c2 = new Vowel('u').ToChar();\n",
    "%Console.WriteLine(c2);\n",
    "%```\n",
    "%Rember the maxim [types over tests](types-over-tests)?\n",
    "%It suggests that illegal states shouldn't be representable.\n",
    "%If you try to instantiate the class by passing a non-vowel character then the class should throw an `ArgumentException`.\n",
    "%\n",
    "%```{code-cell} csharp\n",
    "%:tags: [raises-exception]\n",
    "%new Vowel('z').ToChar();\n",
    "%```\n",
    "%```{exercise-end}\n",
    "%```\n",
    "\n",
    "\n",
    "%```{exercise-start}\n",
    "%```\n",
    "%We have learned that illegal states should not be representable.\n",
    "%We have also learned that compile-time errors are preferable over run-time errors.\n",
    "%Rewrite the class `Weekday` that you wrote in {numref}`ex:constructors:vowel` so that we get a compile-time error instead of a run-time error whenever we try to instantiate it with a non-vowel.\n",
    "%\n",
    "%Hint: Use static factory methods.\n",
    "%```{exercise-end}\n",
    "%```\n",
    "\n",
    "\n",
    "```{exercise-start}\n",
    ":label: ex:single-format-phone-numbers\n",
    "```\n",
    "Write a class that can be used to represent one format of phone numbers for your country.\n",
    "Rember the maxim [types over tests](types-over-tests).\n",
    "Illegal states should not be representable.\n",
    "Also remember to [fail fast](fail-fast) and prefer compile-time over run-time errors."
   ]
  },
  {
   "cell_type": "code",
   "execution_count": 20,
   "id": "bb96edd8",
   "metadata": {
    "tags": [
     "remove-input"
    ]
   },
   "outputs": [],
   "source": [
    "class PhoneNo\n",
    "{\n",
    "  string no;\n",
    "\n",
    "  public PhoneNo (int d1, int d2, int d3, int d4, int d5, int d6, int d7, int d8, int d9, int d10)\n",
    "  => no = $\"{d1}{d2}{d3}-{d4}{d5}{d6} {d7}{d8} {d9}{d10}\";\n",
    "\n",
    "  public void Print()\n",
    "    => Console.WriteLine(no);\n",
    "}"
   ]
  },
  {
   "cell_type": "markdown",
   "id": "08de7452",
   "metadata": {},
   "source": [
    "Hint:"
   ]
  },
  {
   "cell_type": "code",
   "execution_count": 21,
   "id": "0253daa4",
   "metadata": {
    "tags": [
     "hide-input",
     "hide-output"
    ]
   },
   "outputs": [
    {
     "name": "stdout",
     "output_type": "stream",
     "text": [
      "070-123 45 67\n"
     ]
    }
   ],
   "source": [
    "PhoneNo no = new PhoneNo(0,7,0,1,2,3,4,5,6,7);\n",
    "no.Print();"
   ]
  },
  {
   "cell_type": "markdown",
   "id": "ec42c0ea",
   "metadata": {},
   "source": [
    "```{exercise-end}\n",
    "```\n",
    "\n",
    "\n",
    "```{exercise-start}\n",
    "```\n",
    "In {numref}`ex:single-format-phone-numbers` you wrote a class that we can use to instantiate phone numbers without risking run-time errors.\n",
    "Let's now do the same thing for email.\n",
    "Email is a much trickier format so it is understandable if you allow yourself to throw some run-time errors from the constructors.\n",
    "But try to capture as many errors as you can at compile-time, meaning on the type-level.\n",
    "\n",
    "Hint:"
   ]
  },
  {
   "cell_type": "code",
   "execution_count": 22,
   "id": "56496ce0",
   "metadata": {
    "tags": [
     "remove-input"
    ]
   },
   "outputs": [],
   "source": [
    "class Email\n",
    "{\n",
    "  string user, domain;\n",
    "  string suffix = \"com\";\n",
    "  private Email (string user, string domain, string suffix)\n",
    "  {\n",
    "    // Run-time error checking missing!\n",
    "    this.user = user;\n",
    "    this.domain = domain;\n",
    "    this.suffix = suffix;\n",
    "  }\n",
    "\n",
    "  public static Email MakeDotCom (string user, string domain)\n",
    "    => new Email(user, domain, \"com\");\n",
    "\n",
    "  public void Print()\n",
    "    => Console.WriteLine($\"{user}@{domain}.{suffix}\");\n",
    "}"
   ]
  },
  {
   "cell_type": "code",
   "execution_count": 23,
   "id": "fe6385c0",
   "metadata": {
    "tags": [
     "hide-input",
     "hide-output"
    ]
   },
   "outputs": [
    {
     "name": "stdout",
     "output_type": "stream",
     "text": [
      "user@example.com\n"
     ]
    }
   ],
   "source": [
    "Email email = Email.MakeDotCom(\"user\", \"example\");\n",
    "email.Print();"
   ]
  },
  {
   "cell_type": "markdown",
   "id": "c574a8f7",
   "metadata": {},
   "source": [
    "```{exercise-end}\n",
    "```\n",
    "\n",
    "\n",
    "%### Vowels\n",
    "%\n",
    "%```{code-cell} csharp\n",
    "%class Vowel\n",
    "%{\n",
    "%  char letter;\n",
    "%\n",
    "%  public Vowel (char vowel)\n",
    "%  {\n",
    "%    string legal = \"AEIOU\";\n",
    "%    if (legal.IndexOf(Char.ToUpper(vowel)) == -1)\n",
    "%      throw new ArgumentException(\"Must be a vowel (AEIOU).\");\n",
    "%    letter = vowel;\n",
    "%  }\n",
    "%\n",
    "%  public char ToChar () => letter;\n",
    "%\n",
    "%  public static implicit operator char(Vowel v) => v.ToChar();\n",
    "%}\n",
    "%```\n",
    "%Write a class that models the domain concept of English vowels.\n",
    "%It should be possible to pass upper and lowercase vowels as characters when instantiating it, and it should be possible to extract these vowels again.\n",
    "%See the usage examples below.\n",
    "%\n",
    "%```{code-cell} csharp\n",
    "%char c1 = new Vowel('A').ToChar();\n",
    "%Console.WriteLine(c1);\n",
    "%```\n",
    "%\n",
    "%```{code-cell} csharp\n",
    "%char c2 = new Vowel('u').ToChar();\n",
    "%Console.WriteLine(c2);\n",
    "%```\n",
    "%\n",
    "%Rember the maxim [types over tests](types-over-tests)?\n",
    "%It suggests that illegal states shouldn't be representable.\n",
    "%If you try to instantiate the class by passing a non-vowel character then the class should throw an `ArgumentException`.\n",
    "%\n",
    "%```{code-cell} csharp\n",
    "%:tags: [raises-exception]\n",
    "%new Vowel('z').ToChar();\n",
    "%```\n",
    "%\n",
    "%\n",
    "%We have learned that illegal states should not be representable.\n",
    "%We have also learned that compile-time errors are preferable over run-time errors.\n",
    "%Rewrite the class `Vowel` that you wrote in {numref}`ex:constructors:vowel` so that we get a compile-time error instead of a run-time error whenever we try to instantiate it with a non-vowel.\n",
    "%\n",
    "%Hint: Use [enums](enums).\n",
    "\n",
    "\n",
    "%### Robber's cipher\n",
    "%\n",
    "%As we create a class to encapsulate this encoding logic we need to ask ourselves whether we want the two parameters `input` and `steps` to be given as arguments to the `Encode` method or to the constructor.\n",
    "%We will opt for setting the `steps` in the constructor, and the `input` in the method.\n",
    "%This very much determines what kind of objects we create with this class.\n",
    "%Let's first look at the code and then discuss the consequences of what we choose to put in the constructor.\n",
    "\n",
    "%Back to the question of constructor parameters.\n",
    "%Think about it.\n",
    "%If we take `steps` in the constructor and `input` in the instance method `Encode` then we're creating a step-specific cipher that can encode any character.\n",
    "%You instantiate the cipher, can pass it around, and can send it any character upon which you get back an encoded character.\n",
    "%\n",
    "%What kind of objects would we have been creating if we instead exposed both `steps` and `input` in the constructor?\n",
    "%Well, in that case the `Encode` method would be nullary, meaning it would not take any arguments.\n",
    "%When we call `Encode` we would always get back the same value since `Encode` is a [pure](purity) method.\n",
    "%Choosing this strategy would imply that we are looking for the ability to evaluate translations at a later time.\n",
    "%Meaning that we have all the input data available beforehand and want to \"preload\" it.\n",
    "%But that we want to be able to wait before we execute the encoding.\n",
    "%\n",
    "%```csharp\n",
    "%class CaesarCipher\n",
    "%{\n",
    "%  string input;\n",
    "%  int steps;\n",
    "%  public CaesarCipher (string input, int steps) // ...\n",
    "%  public char Encode () => // ...\n",
    "%}\n",
    "%```\n",
    "%\n",
    "%What kind of objects would we have been creating if we instead exposed `input` in the constructor but took `steps` as an argument in `Encode`?\n",
    "%This would imply that we want to be able to pass around an object that contains the information to be encoded, but we don't know how many steps we want to encode it with.\n",
    "%\n",
    "%```csharp\n",
    "%class CaesarCipher\n",
    "%{\n",
    "%  string input;\n",
    "%  public CaesarCipher (string input) // ...\n",
    "%  public string Encode (int steps) => // ...\n",
    "%}\n",
    "%```\n",
    "%\n",
    "%What kind of objects would we have been creating if we instead didn't expose *any* arguments in the constructor and instead took both as arguments in `Encode`?\n",
    "%Well, since the constructor is parameterless and since the `Encode` method is [pure](purity), all instances of the cipher would essentially be equivalent.\n",
    "%There isn't too much of a point of wrapping this in a class in that case.\n",
    "%Sure, if we can identity other classes that have a different implementation of `Encode` but still share exactly the same signature, it would be meaningfull.\n",
    "%Because then we could still use [subtype polymorphism](subtype-polymorphism).\n",
    "%But given the case of ciphers, I feel it quite unlikely that we would find such ciphers.\n",
    "%\n",
    "%```csharp\n",
    "%class CaesarCipher\n",
    "%{\n",
    "%  public char Encode (char input, int steps) => // ...\n",
    "%  public string Encode (string input, int steps) => // ...\n",
    "%}\n",
    "%```\n",
    "%\n",
    "%```{seealso}\n",
    "%If you happen to be familiar with functional programming, then choosing what parameters to expose in the constructor resembles the problem of determining the order of function arguments to allow for useful partial application.\n",
    "%If you are not familiar with functional programming, please ignore what I just said.\n",
    "%```\n",
    "%\n",
    "%When we get to the chapters on [subtype polymorphism](subtype-polymorphism) and [abstract injected object composition](abstract-injected-object-composition) you will start to see why it is so important to think about what you expose in your instance methods and what you \"preload\" in the constructor.\n",
    "%I know that this statement doesn't make sense yet, but when you want to use subtype polymorphism whatever instance method you want to override/implement has to have the same signature in all subtypes.\n",
    "%\n",
    "%```{warning}\n",
    "%If we want to be able to easily switch between different kinds of ciphers (like for example Caesar, Reverse, and Robber's language) then it is important that we define our instance methods so that they *don't* require arguments that are specific to any particular subset of ciphers.\n",
    "%```\n",
    "%\n",
    "%Don't worry if you still feel confused about why we chose to put `steps` in the constructor and `input` in the instance method.\n",
    "%After the chapters on [subtype polymorphism](subtype-polymorphism) and [abstract injected object composition](abstract-injected-object-composition) you should have a much better idea.\n",
    "\n",
    "\n",
    "%### Robber's cipher vowel\n",
    "%\n",
    "%In the chapter on [fields](fields) we gave an example where we assigned the consonant `B` to a field that was supposed to contain a vowel.\n",
    "%Let's add a constructor to that class so that we can ensure that every time we have an instance of the class `RobbersCipherVowel` we know that it contains an actual vowel.\n",
    "%\n",
    "%```{code-cell} csharp\n",
    "%class RobbersCipherVowel\n",
    "%{\n",
    "%  public char Vowel;\n",
    "%  public RobbersCipherVowel (char vowel)\n",
    "%  {\n",
    "%    Vowel = vowel switch {\n",
    "%      'A' or 'a' or 'E' or 'e' or 'I' or 'i' or 'O' or 'o' or 'U' or 'u'\n",
    "%        => vowel,\n",
    "%      _ => 'o'\n",
    "%    };\n",
    "%  }\n",
    "%}\n",
    "%```\n",
    "%\n",
    "%Pretty neat right?\n",
    "%What happens if we now try to create an instance of `RobbersCipherVowel` by passing a consonant (or any other non-vowel character for that matter) to the constructor?\n",
    "%Well, the constructor will simply ignore the character that we sent it and instead just use the character `'o'` that we chose as the default.\n",
    "%\n",
    "%```{code-cell} csharp\n",
    "%RobbersCipherVowel certainlyVowel = new RobbersCipherVowel('K');\n",
    "%Console.WriteLine(certainlyVowel.Vowel);\n",
    "%```\n",
    "%\n",
    "%%Arguably, it would make sense to use an [enum](enums) for input instead.\n",
    "%%We're not going to write that code since it's given to you as {numref}`ex:constructors:vowel-enums`.\n",
    "%%However, we're going to talk a lot more about the idea of using types that prevent your data types from ever entering illegal states in the chapter on [types over tests](types-over-tests).\n",
    "%\n",
    "%But wait a minute!\n",
    "%What if someone just changes the vowel *after* the object has been created?\n",
    "%\n",
    "%```{code-cell} csharp\n",
    "%certainlyVowel.Vowel = 'K';\n",
    "%Console.WriteLine(certainlyVowel.Vowel);\n",
    "%```\n",
    "%\n",
    "%That's definitly not a vowel!\n",
    "%This is a problem caused by allowing mutation and not actually embracing encapsulation.\n",
    "%We're actually not encapsulating the vowel.\n",
    "%We're not actually hiding it from the outside world.\n",
    "%When we say that it is `public` we've exposed it.\n",
    "%And since it's a field, that means that anyone can change it.\n",
    "%\n",
    "%To encapsulate the vowel we need to learn about [instance methods](instance-methods) or [properties](properties)."
   ]
  }
 ],
 "metadata": {
  "jupytext": {
   "formats": "md:myst",
   "text_representation": {
    "extension": ".md",
    "format_name": "myst"
   }
  },
  "kernelspec": {
   "display_name": "csharp",
   "language": ".net-csharp",
   "name": ".net-csharp"
  },
  "language_info": {
   "file_extension": ".cs",
   "mimetype": "text/x-csharp",
   "name": "C#",
   "pygments_lexer": "csharp",
   "version": "10.0"
  },
  "source_map": [
   11,
   77,
   83,
   86,
   88,
   93,
   95,
   107,
   120,
   130,
   133,
   163,
   179,
   201,
   207,
   212,
   215,
   295,
   302,
   316,
   339,
   343,
   349,
   406,
   426,
   457,
   478,
   482,
   488,
   493,
   496,
   529,
   542,
   578,
   586,
   597,
   623,
   633,
   749,
   761,
   763,
   767,
   780,
   801,
   805
  ]
 },
 "nbformat": 4,
 "nbformat_minor": 5
}