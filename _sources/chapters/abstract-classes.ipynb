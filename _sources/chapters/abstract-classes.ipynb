{
 "cells": [
  {
   "cell_type": "markdown",
   "id": "8f0c53b7",
   "metadata": {},
   "source": [
    "% TODO: Must mention that abstract classes still can have constructors!\n",
    "\n",
    "# Abstract classes\n",
    "\n",
    "## Motivation\n",
    "\n",
    "Sometimes we want to use [inheritance](inheritance) for purposes of code reuse but we don't want it to be possible to instantiate the superclass.\n",
    "Sometimes it just doesn't make sense to have instances of the super class on its own.\n",
    "\n",
    "It's as if we would like to use an [interface](interfaces) but find that if we do then we have to duplicate some code that we could otherwise reuse through inheritance.\n",
    "Granted, at this point, all your smoke sensors should be sounding.\n",
    "In a later chapter we will talk about the design principle [composition over inheritance](composition-over-inheritance).\n",
    "You probably should solve this problem with composition rather than inheritance.\n",
    "\n",
    "However, since we have not yet discussed composition over inheritance which often relies on [abstract injected object composition](abstract-injected-object-composition) which we also haven't talked about, let's instead talk about how we can solve this using abstract classes.\n",
    "\n",
    "\n",
    "## Definition\n",
    "\n",
    "An abstract class is similar to an [interface](interfaces) in the sense that:\n",
    "\n",
    "* it cannot be instantiated, and\n",
    "* it can declare signatures of members that its inheritors must implement.\n",
    "\n",
    "An abstract class is similar to a class in the sense that:\n",
    "\n",
    "* it can contain members with implementations that it's inheritors will inherit (and not just signatures).\n",
    "\n",
    "In an abstract class we can mark any combination of its (public) members as `abstract`.\n",
    "It is legal to mark all of them as well as none of them as `abstract`.\n",
    "If they are marked as `abstract` then that means that they cannot have any implementation.\n",
    "\n",
    "% TODO: Any of its non-private, non-sealed members??\n",
    "\n",
    "Any member marked as `abstract` must be [overridden](overriding) in all non-abstract classes that inherit from the abstract class.\n",
    "We emphasize the word *non-abstract* since abstract classes of course may inherit from abstract classes.\n",
    "Only when we reach a non-abstract class must we start implementing the abstract members.\n",
    "\n",
    "In C# we can declare that a class is abstract by simply prepending the word `abstract` before the keyword `class` but after any [access modifiers](access-modifiers).\n",
    "In C# we can declare that a method is abstract by prepending the word `abstract` before the return type but after any [access modifiers](access-modifiers).\n",
    "\n",
    "\n",
    "### UML class diagrams\n",
    "\n",
    "In UML class diagrams, the standard is to denote abstract members using italic text.\n",
    "\n",
    "\n",
    "\n",
    "## Examples\n",
    "\n",
    "### Sequences\n",
    "\n",
    "Remember the hierarchy of sequences that we built in the chapter on [inheritance](inheritance)?\n",
    "We never really discussed it, but it was quite awkward that the base class was called `Sequence` even though it was evidently modeling the sequence of incrementing integers.\n",
    "\n",
    "However, since a non-abstract base class must have an implementation for all instance members we were left having to choose one sequence to act as the base class.\n",
    "\n",
    "This means that we have to choose between calling the base class `Sequence` and `IntSequence`.\n",
    "The former is not an excellent representation for the implementation that we have while the latter is not an excellent name for a base class.\n",
    "We will discuss the rules of \"behavioral subtyping\" in the chapter on [Liskov substitution principle](liskov-substitution-principle).\n",
    "However, the consequence of thinking of the base class as the sequence of incrementing integers is that all subtypes of `Sequence` now must be specializations of that sequence that don't violate the rules of that sequence.\n",
    "What if, for example, we also want to model decrementing sequences?\n",
    "The condition is too restrictive.\n",
    "\n",
    "What's the alternative?\n",
    "Well, remember how I in the chapter on [inheritance](inheritance) said that I personally have yet to come across a case of inheritance that isn't more elegantly solved using interfaces and composition?\n",
    "If you've seen that then you know where my sympathies lie.\n",
    "The base type should be an interface.\n",
    "\n",
    "But, since we should never dismiss something without first fully understanding how sit works and what we can do with it, let's force ourselves to keep using inheritance.\n",
    "Using an abstract base class is much better than using a concrete base class in the case of our sequnce hierarchy.\n",
    "\n",
    "By making the base class abstract we are guaranteed that there will be no instances of that class.\n",
    "This in turn means that we don't have to worry about specifying both the interface (in the abstract sense of the word) *and* the implementation for all memebrs of the superclass.\n",
    "This means that we can choose to specify only the interface where we want to leave the implementation very open, and conversely actually provide an implementation where that implementation makes sense in the superclass.\n",
    "\n",
    "Here's an example of how we might write that class in C#."
   ]
  },
  {
   "cell_type": "code",
   "execution_count": 1,
   "id": "1c6fd135",
   "metadata": {},
   "outputs": [
    {
     "data": {
      "text/html": [
       "\r\n",
       "<div>\r\n",
       "    <div id='dotnet-interactive-this-cell-2084.Microsoft.DotNet.Interactive.Http.HttpPort' style='display: none'>\r\n",
       "        The below script needs to be able to find the current output cell; this is an easy method to get it.\r\n",
       "    </div>\r\n",
       "    <script type='text/javascript'>\r\n",
       "async function probeAddresses(probingAddresses) {\r\n",
       "    function timeout(ms, promise) {\r\n",
       "        return new Promise(function (resolve, reject) {\r\n",
       "            setTimeout(function () {\r\n",
       "                reject(new Error('timeout'))\r\n",
       "            }, ms)\r\n",
       "            promise.then(resolve, reject)\r\n",
       "        })\r\n",
       "    }\r\n",
       "\r\n",
       "    if (Array.isArray(probingAddresses)) {\r\n",
       "        for (let i = 0; i < probingAddresses.length; i++) {\r\n",
       "\r\n",
       "            let rootUrl = probingAddresses[i];\r\n",
       "\r\n",
       "            if (!rootUrl.endsWith('/')) {\r\n",
       "                rootUrl = `${rootUrl}/`;\r\n",
       "            }\r\n",
       "\r\n",
       "            try {\r\n",
       "                let response = await timeout(1000, fetch(`${rootUrl}discovery`, {\r\n",
       "                    method: 'POST',\r\n",
       "                    cache: 'no-cache',\r\n",
       "                    mode: 'cors',\r\n",
       "                    timeout: 1000,\r\n",
       "                    headers: {\r\n",
       "                        'Content-Type': 'text/plain'\r\n",
       "                    },\r\n",
       "                    body: probingAddresses[i]\r\n",
       "                }));\r\n",
       "\r\n",
       "                if (response.status == 200) {\r\n",
       "                    return rootUrl;\r\n",
       "                }\r\n",
       "            }\r\n",
       "            catch (e) { }\r\n",
       "        }\r\n",
       "    }\r\n",
       "}\r\n",
       "\r\n",
       "function loadDotnetInteractiveApi() {\r\n",
       "    probeAddresses([\"http://10.1.0.131:1024/\", \"http://127.0.0.1:1024/\"])\r\n",
       "        .then((root) => {\r\n",
       "        // use probing to find host url and api resources\r\n",
       "        // load interactive helpers and language services\r\n",
       "        let dotnetInteractiveRequire = require.config({\r\n",
       "        context: '2084.Microsoft.DotNet.Interactive.Http.HttpPort',\r\n",
       "                paths:\r\n",
       "            {\r\n",
       "                'dotnet-interactive': `${root}resources`\r\n",
       "                }\r\n",
       "        }) || require;\r\n",
       "\r\n",
       "            window.dotnetInteractiveRequire = dotnetInteractiveRequire;\r\n",
       "\r\n",
       "            window.configureRequireFromExtension = function(extensionName, extensionCacheBuster) {\r\n",
       "                let paths = {};\r\n",
       "                paths[extensionName] = `${root}extensions/${extensionName}/resources/`;\r\n",
       "                \r\n",
       "                let internalRequire = require.config({\r\n",
       "                    context: extensionCacheBuster,\r\n",
       "                    paths: paths,\r\n",
       "                    urlArgs: `cacheBuster=${extensionCacheBuster}`\r\n",
       "                    }) || require;\r\n",
       "\r\n",
       "                return internalRequire\r\n",
       "            };\r\n",
       "        \r\n",
       "            dotnetInteractiveRequire([\r\n",
       "                    'dotnet-interactive/dotnet-interactive'\r\n",
       "                ],\r\n",
       "                function (dotnet) {\r\n",
       "                    dotnet.init(window);\r\n",
       "                },\r\n",
       "                function (error) {\r\n",
       "                    console.log(error);\r\n",
       "                }\r\n",
       "            );\r\n",
       "        })\r\n",
       "        .catch(error => {console.log(error);});\r\n",
       "    }\r\n",
       "\r\n",
       "// ensure `require` is available globally\r\n",
       "if ((typeof(require) !==  typeof(Function)) || (typeof(require.config) !== typeof(Function))) {\r\n",
       "    let require_script = document.createElement('script');\r\n",
       "    require_script.setAttribute('src', 'https://cdnjs.cloudflare.com/ajax/libs/require.js/2.3.6/require.min.js');\r\n",
       "    require_script.setAttribute('type', 'text/javascript');\r\n",
       "    \r\n",
       "    \r\n",
       "    require_script.onload = function() {\r\n",
       "        loadDotnetInteractiveApi();\r\n",
       "    };\r\n",
       "\r\n",
       "    document.getElementsByTagName('head')[0].appendChild(require_script);\r\n",
       "}\r\n",
       "else {\r\n",
       "    loadDotnetInteractiveApi();\r\n",
       "}\r\n",
       "\r\n",
       "    </script>\r\n",
       "</div>"
      ]
     },
     "metadata": {},
     "output_type": "display_data"
    }
   ],
   "source": [
    "abstract class Sequence\n",
    "{\n",
    "  public virtual int Current { get; protected set; }\n",
    "\n",
    "  public abstract void Next();\n",
    "\n",
    "  public virtual int[] Take (int n)\n",
    "  {\n",
    "    int[] nums = new int[n];\n",
    "    for (int i=0; i<nums.Length; i++)\n",
    "    {\n",
    "      nums[i] = Current;\n",
    "      Next();\n",
    "    }\n",
    "    return nums;\n",
    "  }\n",
    "}"
   ]
  },
  {
   "cell_type": "markdown",
   "id": "49cf7057",
   "metadata": {},
   "source": [
    "```{note}\n",
    "Notice how we changed the [access modifier](advanced-access-modifiers) of the current number to `protected` so that we can set its value not only from the superclass but also from any subclass of the superclass.\n",
    "```\n",
    "\n",
    "Can we now instantiate the superclass?\n",
    "No, it's now abstract."
   ]
  },
  {
   "cell_type": "code",
   "execution_count": 2,
   "id": "e056bef9",
   "metadata": {
    "tags": [
     "raises-exception"
    ]
   },
   "outputs": [
    {
     "name": "stderr",
     "output_type": "stream",
     "text": [
      "\n",
      "(1,16): error CS0144: Cannot create an instance of the abstract type or interface 'Sequence'\n",
      "\n"
     ]
    },
    {
     "ename": "Error",
     "evalue": "compilation error",
     "output_type": "error",
     "traceback": []
    }
   ],
   "source": [
    "Sequence sub = new Sequence();"
   ]
  },
  {
   "cell_type": "markdown",
   "id": "66c67e70",
   "metadata": {},
   "source": [
    "Does the fact that we've now made the superclass abstract affect the classes that inherit from the superclass in any way?\n",
    "Well, some of them, like `SkipSequence` had their implementation defined in terms of the superclasse's method `Next`.\n",
    "But now that the method `Next` is abstract the class `SkipSequence` must provide its own implementation.\n",
    "\n",
    "I'll explain why I've renamed the class from `SkipSequence` to `StepSequence` in a moment, but let's first look at the implementation."
   ]
  },
  {
   "cell_type": "code",
   "execution_count": 3,
   "id": "41bceafa",
   "metadata": {},
   "outputs": [],
   "source": [
    "class StepSequence : Sequence\n",
    "{\n",
    "  int step;\n",
    "\n",
    "  public StepSequence (int initial, int step)\n",
    "  {\n",
    "    base.Current = initial;\n",
    "    this.step = step;\n",
    "  }\n",
    "\n",
    "  public override void Next()\n",
    "    => base.Current += this.step;\n",
    "}"
   ]
  },
  {
   "cell_type": "markdown",
   "id": "33278941",
   "metadata": {},
   "source": [
    "Remember how we said that letting the superclass model incrementing sequences was too restrictive?\n",
    "Well, now that we've got a more general superclass, the implementation of `StepSequence`, which replaces `SkipSequence`, is both simpler and more general then what we had before.\n",
    "\n",
    "The class `StepSequence` models the idea of incrementing, decrementing, and skipping all at once.\n",
    "If we wanted specific types for those concepts so that we couldn't accidentally get passed a decrementing sequence when we expected an incrementing one we trivially introduce those types."
   ]
  },
  {
   "cell_type": "code",
   "execution_count": 4,
   "id": "c478e2d0",
   "metadata": {},
   "outputs": [],
   "source": [
    "class IncrementingSequence : StepSequence\n",
    "{\n",
    "  public IncrementingSequence (int initial)\n",
    "    : base(initial, 1) { }\n",
    "}\n",
    "\n",
    "class DecrementingSequence : StepSequence\n",
    "{\n",
    "  public DecrementingSequence (int initial)\n",
    "    : base(initial, 1) { }\n",
    "}\n",
    "\n",
    "class SkipSequence : StepSequence\n",
    "{\n",
    "  public SkipSequence (int initial, int skips)\n",
    "    : base(initial, skipsToSteps(skips)) { }\n",
    "\n",
    "  private static int skipsToSteps (int skips)\n",
    "    => skips > 0 ? skips + 1 : 0;\n",
    "}"
   ]
  },
  {
   "cell_type": "markdown",
   "id": "9b959125",
   "metadata": {},
   "source": [
    "Let's try it out to make sure that they work."
   ]
  },
  {
   "cell_type": "code",
   "execution_count": 5,
   "id": "83c2b51a",
   "metadata": {},
   "outputs": [
    {
     "name": "stdout",
     "output_type": "stream",
     "text": [
      "5, 6, 7, 8, 9, 10, 11, 12, 13, 14\n"
     ]
    }
   ],
   "source": [
    "IncrementingSequence seq = new IncrementingSequence(5); // Initialize sequence.\n",
    "int[] output = seq.Take(10); // Take 10 elements.\n",
    "Console.WriteLine(String.Join(\", \", output)); // Print the elements."
   ]
  },
  {
   "cell_type": "code",
   "execution_count": 6,
   "id": "5eae8376",
   "metadata": {},
   "outputs": [
    {
     "name": "stdout",
     "output_type": "stream",
     "text": [
      "5, 6, 7, 8, 9, 10, 11, 12, 13, 14\n"
     ]
    }
   ],
   "source": [
    "DecrementingSequence seq = new DecrementingSequence(5); // Initialize sequence.\n",
    "int[] output = seq.Take(10); // Take 10 elements.\n",
    "Console.WriteLine(String.Join(\", \", output)); // Print the elements."
   ]
  },
  {
   "cell_type": "code",
   "execution_count": 7,
   "id": "58db8a33",
   "metadata": {},
   "outputs": [
    {
     "name": "stdout",
     "output_type": "stream",
     "text": [
      "2, 4, 6, 8, 10, 12, 14, 16, 18, 20\n"
     ]
    }
   ],
   "source": [
    "SkipSequence seq = new SkipSequence(2, 1); // Initialize sequence.\n",
    "int[] output = seq.Take(10); // Take 10 elements.\n",
    "Console.WriteLine(String.Join(\", \", output)); // Print the elements."
   ]
  },
  {
   "cell_type": "markdown",
   "id": "44da6071",
   "metadata": {},
   "source": [
    "But wait a minute, what about a `SkipSequence` that skips in a negative sequences?\n",
    "Don't worry, we'll get to that when we get to [abstract composition](abstract-constructed-object-composition).\n",
    "\n",
    "\n",
    "\n",
    "### Characterwise ciphers\n",
    "\n",
    "%TODO: MOTIVATION: FOR LISKOV CHAPTER. DOES IT MAKE SENSE FOR OTHER CIPHERS TO INHERIT FROM NULLCIPHER? PROBABLY NOT RIGHT?\n",
    "\n",
    "In the chapter on [inheritance](inheritance:examples:characterwise) we discussed back and forth about the usefulness of the implementation in the superclass `CharWiseCipher` which we later renamed to `CharToCharSubstitutionCipher`.\n",
    "Now that we know about abstract classes it is possible for us to avoid having to even think about this by making that base class abstract.\n",
    "\n",
    "How come we don't have to think about it?\n",
    "Well, if we mark the base class as abstract then we can be sure that there will never be any instances of that class floating around.\n",
    "Also, since we then can mark any of its members as abstract, we don't actually have to implement the method `char Encode (char input)`, meaning the method that takes and produces a `char`.\n",
    "That method was our main concern in the example on [inheritance](inheritance:examples:characterwise).\n",
    "\n",
    "So let's try to simply mark it as abstract.\n",
    "This time we'll call the class `CharToCharSubstitutionCipher`."
   ]
  },
  {
   "cell_type": "code",
   "execution_count": 8,
   "id": "e1edae1e",
   "metadata": {},
   "outputs": [],
   "source": [
    "abstract class CharToCharSubstitutionCipher\n",
    "{\n",
    "  public abstract char Encode (char input);\n",
    "\n",
    "  public string Encode (string input)\n",
    "  {\n",
    "    string output = \"\";\n",
    "    foreach (char letter in input)\n",
    "      output += Encode (letter);\n",
    "    return output;\n",
    "  }\n",
    "}"
   ]
  },
  {
   "cell_type": "markdown",
   "id": "2fa584c6",
   "metadata": {},
   "source": [
    "Notice how we've marked the class as `abstract` and the method `Encode` which no longer has an implementation.\n",
    "We've now actually only implemented the part we wanted to have from the start.\n",
    "Namely the method that iterates over the input `string`, delegates to the character-encoding method, concatenates, and returns the result.\n",
    "It was the duplication of this method that we were concerned about in the first place.\n",
    "\n",
    "Can we now instantiate the superclass?\n",
    "No, it's now abstract."
   ]
  },
  {
   "cell_type": "code",
   "execution_count": 9,
   "id": "3558c811",
   "metadata": {
    "tags": [
     "raises-exception"
    ]
   },
   "outputs": [
    {
     "name": "stderr",
     "output_type": "stream",
     "text": [
      "\n",
      "(1,36): error CS0144: Cannot create an instance of the abstract type or interface 'CharToCharSubstitutionCipher'\n",
      "\n"
     ]
    },
    {
     "ename": "Error",
     "evalue": "compilation error",
     "output_type": "error",
     "traceback": []
    }
   ],
   "source": [
    "CharToCharSubstitutionCipher sub = new CharToCharSubstitutionCipher();"
   ]
  },
  {
   "cell_type": "markdown",
   "id": "7eee0e05",
   "metadata": {},
   "source": [
    "Does the fact that we've now made the superclass abstract affect the classes that inherit from the superclass in any way?\n",
    "No.\n",
    "Since they already have implementations for `char Encode (char input)` we're good to go."
   ]
  },
  {
   "cell_type": "code",
   "execution_count": 10,
   "id": "ae0f429c",
   "metadata": {
    "tags": [
     "hide-input"
    ]
   },
   "outputs": [],
   "source": [
    "class CaesarCipher : CharToCharSubstitutionCipher\n",
    "{\n",
    "  int steps;\n",
    "\n",
    "  public CaesarCipher (int steps)\n",
    "    => this.steps = steps;\n",
    "\n",
    "  public override char Encode (char input)\n",
    "  {\n",
    "    string alphabet = \"ABCDEFGHIJKLMNOPQRSTUVXYZ\";\n",
    "    int i = alphabet.IndexOf(Char.ToUpper(input));\n",
    "    int newIndex = (i + steps) % alphabet.Length;\n",
    "    if (i != -1)\n",
    "    {\n",
    "      if (newIndex < 0)\n",
    "        newIndex += alphabet.Length;\n",
    "\n",
    "      if (Char.IsLower(input))\n",
    "        return Char.ToLower(alphabet[newIndex]);\n",
    "      else\n",
    "        return alphabet[newIndex];\n",
    "    }\n",
    "    return input;\n",
    "  }\n",
    "}"
   ]
  },
  {
   "cell_type": "code",
   "execution_count": 11,
   "id": "9e937a04",
   "metadata": {
    "tags": [
     "hide-input"
    ]
   },
   "outputs": [],
   "source": [
    "class LeetCipher : CharToCharSubstitutionCipher\n",
    "{\n",
    "  public override char Encode (char input)\n",
    "    => input switch {\n",
    "      'L' => '1', '1' => 'L',\n",
    "      'A' => '4', '4' => 'A',\n",
    "      'O' => '0', '0' => 'O',\n",
    "      'T' => '7', '7' => 'T',\n",
    "      'E' => '3', '3' => 'E',\n",
    "      _ => input\n",
    "    };\n",
    "}"
   ]
  },
  {
   "cell_type": "markdown",
   "id": "8ca6e34a",
   "metadata": {},
   "source": [
    "## Exercises\n",
    "\n",
    "```{exercise}\n",
    "What is an abstract class? Why are they useful?\n",
    "```\n",
    "\n",
    "```{exercise}\n",
    "What is an abstract method? Why are they useful?\n",
    "```\n",
    "\n",
    "```{exercise}\n",
    "Why is it useful to be allowed to define an abstract class without any abstract members?\n",
    "```\n",
    "\n",
    "\n",
    "```{exercise-start}\n",
    "```\n",
    "Write an abstract class called `Shape` which corresponds to the class depicted in the UML class diagram below.\n",
    "```\n",
    "┌────────────────────────────────┐\n",
    "│           Shape                │\n",
    "├────────────────────────────────┤\n",
    "│ + <get> Width : double         │\n",
    "│ + <set> Width : double         │\n",
    "│ + <get> Height : double        │\n",
    "│ + <set> Height : double        │\n",
    "│ + <get> Area : double          │\n",
    "├────────────────────────────────┤\n",
    "│ + Scale (factor:double) : void │\n",
    "└────────────────────────────────┘\n",
    "```\n",
    "Then write three classes called `Rectangle`, `Square`, `Circle` that all inherit from `Shape`.\n",
    "Strive to override as few methods as possible.\n",
    "\n",
    "When you are done, you should be able to run the following code and get the same result."
   ]
  },
  {
   "cell_type": "code",
   "execution_count": 12,
   "id": "27826ab2",
   "metadata": {
    "tags": [
     "remove-input"
    ]
   },
   "outputs": [],
   "source": [
    "abstract class Shape\n",
    "{\n",
    "  public virtual double Width { get; set; }\n",
    "  public virtual double Height { get; set; }\n",
    "  public abstract double Area { get; }\n",
    "  public virtual void Scale (double factor)\n",
    "  {\n",
    "    Width *= factor;\n",
    "    Height *= factor;\n",
    "  }\n",
    "}\n",
    "\n",
    "class RightTriangle : Shape\n",
    "{\n",
    "  public override double Area\n",
    "  {\n",
    "    get => Width * Height / 2;\n",
    "  }\n",
    "}\n",
    "\n",
    "class Rectangle : Shape\n",
    "{\n",
    "  public override double Area\n",
    "  {\n",
    "    get => Width * Height;\n",
    "  }\n",
    "}\n",
    "\n",
    "class Oval : Shape\n",
    "{\n",
    "  public override double Area\n",
    "  {\n",
    "    get => Math.PI * Width * Height;\n",
    "  }\n",
    "}"
   ]
  },
  {
   "cell_type": "code",
   "execution_count": 13,
   "id": "2ebe14e6",
   "metadata": {},
   "outputs": [
    {
     "name": "stdout",
     "output_type": "stream",
     "text": [
      "Area increased by: 4\n"
     ]
    }
   ],
   "source": [
    "Shape[] shapes = new Shape[] {\n",
    "  new Rectangle() { Width=2, Height=1 },\n",
    "  new RightTriangle() { Width=3, Height=1 },\n",
    "  new Oval() { Width=0.5, Height=0.5 }\n",
    "};\n",
    "\n",
    "double before = 0;\n",
    "double after = 0;\n",
    "foreach (Shape shape in shapes)\n",
    "{\n",
    "  before += shape.Area;\n",
    "  shape.Scale(2);\n",
    "  after += shape.Area;\n",
    "}\n",
    "Console.WriteLine($\"Area increased by: {after / before}\");"
   ]
  },
  {
   "cell_type": "markdown",
   "id": "ef494dfa",
   "metadata": {},
   "source": [
    "```{exercise-end}\n",
    "```\n",
    "\n",
    "\n",
    "```{exercise}\n",
    "Start with your solution to {numref}`ex:subtype-polymorphism:time`.\n",
    "Can you use an abstract base class instead of an interface to eliminate further duplication?\n",
    "```\n",
    "\n",
    "\n",
    "```{exercise}\n",
    "1. Come up with your own example of where using an abstract class with abstract methods would make sense.\n",
    "2. Motivate why using an abstract class makes sense in words.\n",
    "3. Implement your example in code.\n",
    "```\n",
    "\n",
    "```{exercise}\n",
    "Start from the code you wrote in {numref}`inheritance:exercises:chartostringsubstitutioncipher`.\n",
    "Mark both the superclass and the method with the signature `string Encode (char input)` as `abstract`.\n",
    "```"
   ]
  }
 ],
 "metadata": {
  "jupytext": {
   "formats": "md:myst",
   "text_representation": {
    "extension": ".md",
    "format_name": "myst"
   }
  },
  "kernelspec": {
   "display_name": "csharp",
   "language": ".net-csharp",
   "name": ".net-csharp"
  },
  "language_info": {
   "file_extension": ".cs",
   "mimetype": "text/x-csharp",
   "name": "C#",
   "pygments_lexer": "csharp",
   "version": "10.0"
  },
  "source_map": [
   11,
   91,
   109,
   118,
   121,
   129,
   143,
   151,
   172,
   176,
   182,
   188,
   192,
   214,
   227,
   237,
   240,
   246,
   275,
   289,
   326,
   364,
   380
  ]
 },
 "nbformat": 4,
 "nbformat_minor": 5
}