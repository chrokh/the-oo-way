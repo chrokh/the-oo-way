{
 "cells": [
  {
   "cell_type": "markdown",
   "id": "49da091a",
   "metadata": {},
   "source": [
    "(access-modifiers)=\n",
    "# Access modifiers\n",
    "\n",
    "\n",
    "% ALSO: MODIFIERS FOR CLASSES.\n",
    "\n",
    "\n",
    "\n",
    "## Motivation\n",
    "\n",
    "Now that we've talked about both [instance fields](fields) and [instance methods](instance-methods) we're finally ready to meaningfully talk about access modifiers.\n",
    "Remember how we said that `public` fields \"break encapsulation\" or \"violate the principle of information hiding\"?\n",
    "\n",
    "We said that we should hide data inside objects so that others cannot reach into our objects and change the data on our behalf.\n",
    "Data should be encapsulated inside objects.\n",
    "Data is, what we call, an \"implementation detail\" that should be `private`.\n",
    "\n",
    "\n",
    "## Definition\n",
    "\n",
    "We use access modifiers to modify the accessibility of static and instance [fields](fields), static and instance [properties](properties) as well as and [static](static-methods) and [instance methods](instance-methods).\n",
    "Accessibility is also sometimes referred to as \"visibility\" or \"protection level\".\n",
    "The accessibility level essentially determines whether or not we can access something from outside of it.\n",
    "\n",
    "We'll talk about access modifiers in relation to the class members fields and methods in this chapter.\n",
    "Using access modifiers with properties is something that we'll discuss directly in the chapter on access modifiers.\n",
    "\n",
    "You can also use access modifiers to modify the accessibility of classes, records, and structs but that's not something we'll discuss here.\n",
    "% TODO: Will we discuss class access modifiers at all in this book?\n",
    "\n",
    "There are three basic access modifiers that we'll discuss in this book: `public`, `private`, and `protected`.\n",
    "\n",
    "- `public` means accessible by whoever has access to the class.\n",
    "- `private` means accessible *only* from within the class itself.\n",
    "- `protected` means accessible *only* from within the class itself *and* any of its [subclasses](inheritance).\n",
    "\n",
    "It is important to understand that we are talking about from what *classes* a member is accessible from.\n",
    "We're not talking about from what *objects* a member is accessible from.\n",
    "\n",
    "If for example we say that a field called `name` is `private` in a class called `Person` then that doesn't mean that any given person only ever can access its own name.\n",
    "It can access its own name but it can also access the name of any other person that we've passed it.\n",
    "\n",
    "Think about it this way: The class `Person` *knows about* the idea of `name` and hence can access the `name` field on any object that it has access to.\n",
    "Outside of the class `Person` however, we have no idea about the existence of the field `name` since that field has been marked as `private`.\n",
    "We'll talk more about this caveat in the examples section of this chapter.\n",
    "\n",
    "Since we have yet to discuss [inheritance](inheritance) we cannot discuss the modifier `protected` in detail, so we'll return to that in a [later chapter](advanced-access-modifiers).\n",
    "\n",
    "% TODO: Do I need to write more about accessibility and static members in this chapter??\n",
    "\n",
    "\n",
    "### Methods\n",
    "\n",
    "Let's talk about methods first since its easier.\n",
    "To change the accessibility of an [instance method](instance-methods) we simply add an access modifier before the data type in our type signature.\n",
    "In the case of [static methods](static-methods) we simply add an access modifier before the `static` keyword.\n",
    "\n",
    "```\n",
    "<class-identifier>\n",
    "{\n",
    "  <access-modifier> [static] <return-type> ([<param1-type> <param1-name>, ...])\n",
    "  {\n",
    "    [method-body]\n",
    "  };\n",
    "}\n",
    "```\n",
    "\n",
    "Notice for example how the method `sizeString` is marked as `private` in the example below."
   ]
  },
  {
   "cell_type": "code",
   "execution_count": 1,
   "id": "a1549bf7",
   "metadata": {},
   "outputs": [
    {
     "data": {
      "text/html": [
       "\r\n",
       "<div>\r\n",
       "    <div id='dotnet-interactive-this-cell-2293.Microsoft.DotNet.Interactive.Http.HttpPort' style='display: none'>\r\n",
       "        The below script needs to be able to find the current output cell; this is an easy method to get it.\r\n",
       "    </div>\r\n",
       "    <script type='text/javascript'>\r\n",
       "async function probeAddresses(probingAddresses) {\r\n",
       "    function timeout(ms, promise) {\r\n",
       "        return new Promise(function (resolve, reject) {\r\n",
       "            setTimeout(function () {\r\n",
       "                reject(new Error('timeout'))\r\n",
       "            }, ms)\r\n",
       "            promise.then(resolve, reject)\r\n",
       "        })\r\n",
       "    }\r\n",
       "\r\n",
       "    if (Array.isArray(probingAddresses)) {\r\n",
       "        for (let i = 0; i < probingAddresses.length; i++) {\r\n",
       "\r\n",
       "            let rootUrl = probingAddresses[i];\r\n",
       "\r\n",
       "            if (!rootUrl.endsWith('/')) {\r\n",
       "                rootUrl = `${rootUrl}/`;\r\n",
       "            }\r\n",
       "\r\n",
       "            try {\r\n",
       "                let response = await timeout(1000, fetch(`${rootUrl}discovery`, {\r\n",
       "                    method: 'POST',\r\n",
       "                    cache: 'no-cache',\r\n",
       "                    mode: 'cors',\r\n",
       "                    timeout: 1000,\r\n",
       "                    headers: {\r\n",
       "                        'Content-Type': 'text/plain'\r\n",
       "                    },\r\n",
       "                    body: probingAddresses[i]\r\n",
       "                }));\r\n",
       "\r\n",
       "                if (response.status == 200) {\r\n",
       "                    return rootUrl;\r\n",
       "                }\r\n",
       "            }\r\n",
       "            catch (e) { }\r\n",
       "        }\r\n",
       "    }\r\n",
       "}\r\n",
       "\r\n",
       "function loadDotnetInteractiveApi() {\r\n",
       "    probeAddresses([\"http://10.1.0.109:1024/\", \"http://127.0.0.1:1024/\"])\r\n",
       "        .then((root) => {\r\n",
       "        // use probing to find host url and api resources\r\n",
       "        // load interactive helpers and language services\r\n",
       "        let dotnetInteractiveRequire = require.config({\r\n",
       "        context: '2293.Microsoft.DotNet.Interactive.Http.HttpPort',\r\n",
       "                paths:\r\n",
       "            {\r\n",
       "                'dotnet-interactive': `${root}resources`\r\n",
       "                }\r\n",
       "        }) || require;\r\n",
       "\r\n",
       "            window.dotnetInteractiveRequire = dotnetInteractiveRequire;\r\n",
       "\r\n",
       "            window.configureRequireFromExtension = function(extensionName, extensionCacheBuster) {\r\n",
       "                let paths = {};\r\n",
       "                paths[extensionName] = `${root}extensions/${extensionName}/resources/`;\r\n",
       "                \r\n",
       "                let internalRequire = require.config({\r\n",
       "                    context: extensionCacheBuster,\r\n",
       "                    paths: paths,\r\n",
       "                    urlArgs: `cacheBuster=${extensionCacheBuster}`\r\n",
       "                    }) || require;\r\n",
       "\r\n",
       "                return internalRequire\r\n",
       "            };\r\n",
       "        \r\n",
       "            dotnetInteractiveRequire([\r\n",
       "                    'dotnet-interactive/dotnet-interactive'\r\n",
       "                ],\r\n",
       "                function (dotnet) {\r\n",
       "                    dotnet.init(window);\r\n",
       "                },\r\n",
       "                function (error) {\r\n",
       "                    console.log(error);\r\n",
       "                }\r\n",
       "            );\r\n",
       "        })\r\n",
       "        .catch(error => {console.log(error);});\r\n",
       "    }\r\n",
       "\r\n",
       "// ensure `require` is available globally\r\n",
       "if ((typeof(require) !==  typeof(Function)) || (typeof(require.config) !== typeof(Function))) {\r\n",
       "    let require_script = document.createElement('script');\r\n",
       "    require_script.setAttribute('src', 'https://cdnjs.cloudflare.com/ajax/libs/require.js/2.3.6/require.min.js');\r\n",
       "    require_script.setAttribute('type', 'text/javascript');\r\n",
       "    \r\n",
       "    \r\n",
       "    require_script.onload = function() {\r\n",
       "        loadDotnetInteractiveApi();\r\n",
       "    };\r\n",
       "\r\n",
       "    document.getElementsByTagName('head')[0].appendChild(require_script);\r\n",
       "}\r\n",
       "else {\r\n",
       "    loadDotnetInteractiveApi();\r\n",
       "}\r\n",
       "\r\n",
       "    </script>\r\n",
       "</div>"
      ]
     },
     "metadata": {},
     "output_type": "display_data"
    }
   ],
   "source": [
    "class Rectangle\n",
    "{\n",
    "  public int Width = 0;\n",
    "  public int Height = 0;\n",
    "\n",
    "  public void Print ()\n",
    "    => Console.WriteLine(sizeString());\n",
    "\n",
    "  private string sizeString ()\n",
    "    => $\"{this.Width} x {this.Height}\";\n",
    "}"
   ]
  },
  {
   "cell_type": "markdown",
   "id": "81b5ba3e",
   "metadata": {},
   "source": [
    "### Fields\n",
    "\n",
    "In the case of [properties](properties), which we will talk about soon, we divide the problem of accessibility into the sub-problems of setting and getting a value.\n",
    "The set accessibility and the get accessibility can be controlled independently.\n",
    "For fields however we change both the set and get accessibility at the same time.\n",
    "\n",
    "To change the accessibility of a field we simply add an access modifier before the data type in our definition of the field.\n",
    "\n",
    "```\n",
    "<class-identifier>\n",
    "{\n",
    "  <access-modifier> [static] <field-type> <field-identifier>;\n",
    "}\n",
    "```\n",
    "\n",
    "We'll give an example of `private` fields in the examples section of this chapter.\n",
    "\n",
    "\n",
    "### UML class diagrams\n",
    "\n",
    "In UML class diagrams we use the following symbols to denote different levels of accessibility.\n",
    "\n",
    "- `+` for `public`.\n",
    "- `-` for `private`.\n",
    "- `#` for `protected`.\n",
    "\n",
    "So if we've got a class called `Rectangle` and it has two `private` fields we might depict it like this:\n",
    "\n",
    "```\n",
    "┌────────────────┐\n",
    "│   Rectangle    │\n",
    "├────────────────┤\n",
    "│ - Width : int  │\n",
    "│ - Height : int │\n",
    "├────────────────┤\n",
    "└────────────────┘\n",
    "```\n",
    "\n",
    "\n",
    "\n",
    "## Examples\n",
    "\n",
    "### Rectangles\n",
    "\n",
    "Remember how we worked with the fields `Width` and `Height` in the class `Rectangle`?\n",
    "Remember how we said that they \"break encapsulation\"?\n",
    "If we were to make them `private` instead of `public` we would simply replace the latter keyword with the former."
   ]
  },
  {
   "cell_type": "code",
   "execution_count": 2,
   "id": "9b8530cd",
   "metadata": {},
   "outputs": [
    {
     "name": "stderr",
     "output_type": "stream",
     "text": [
      "\n",
      "(3,15): warning CS0414: The field 'Rectangle.width' is assigned but its value is never used\n",
      "\n",
      "(4,15): warning CS0414: The field 'Rectangle.height' is assigned but its value is never used\n",
      "\n"
     ]
    }
   ],
   "source": [
    "class Rectangle\n",
    "{\n",
    "  private int width = 0;\n",
    "  private int height = 0;\n",
    "}"
   ]
  },
  {
   "cell_type": "markdown",
   "id": "824f30e5",
   "metadata": {},
   "source": [
    "```{note}\n",
    "We've renamed the variables so that their names start with a lowercase letter since they are now private.\n",
    "As we've mentioned before, the convention in C# is to let `public` members have names that start with an uppercase letter, and `private` members have names that start with a lowercase letter.\n",
    "```\n",
    "\n",
    "In C#, fields are `private` by default, so if we omit the access modifier altogether the fields would also be `private`.\n",
    "So the code below has the same effect as the code above."
   ]
  },
  {
   "cell_type": "code",
   "execution_count": 3,
   "id": "0e7ce65b",
   "metadata": {},
   "outputs": [
    {
     "name": "stderr",
     "output_type": "stream",
     "text": [
      "\n",
      "(3,7): warning CS0414: The field 'Rectangle.width' is assigned but its value is never used\n",
      "\n",
      "(4,7): warning CS0414: The field 'Rectangle.height' is assigned but its value is never used\n",
      "\n"
     ]
    }
   ],
   "source": [
    "class Rectangle\n",
    "{\n",
    "  int width = 0;\n",
    "  int height = 0;\n",
    "}"
   ]
  },
  {
   "cell_type": "markdown",
   "id": "b162d1c8",
   "metadata": {},
   "source": [
    "Notice how the compiler is now giving us a warning.\n",
    "The warning is saying that we've defined the two variables `width` and `height` but that they aren't used anywhere.\n",
    "The compiler is basically trying to tell us that our program is pointless.\n",
    "\n",
    "Why didn't we get this error before?\n",
    "Home come changing the accessibility of these fields to `private` caused the compiler to suddenly be concerned about our program being pointless?\n",
    "In the chapter on [fields](fields) the compiler warned us that the fields would be initialized to the default value for the type `int` but it never accused us of writing a pointless program.\n",
    "\n",
    "The difference lies in that the accessibility now is `private`.\n",
    "If the fields are `private` then their values can *only* be set and retrieved from instance and static members in this same class.\n",
    "But since the `Rectangle` class, as we've defined it above, has no other members, then it will be impossible to change the values of our fields or to extract the value from them from the outside.\n",
    "Hence, the fields serves no purpose.\n",
    "\n",
    "Have a look at what happens if we try to access the fields from the outside."
   ]
  },
  {
   "cell_type": "code",
   "execution_count": 4,
   "id": "155c150e",
   "metadata": {
    "tags": [
     "raises-exception"
    ]
   },
   "outputs": [
    {
     "name": "stderr",
     "output_type": "stream",
     "text": [
      "\n",
      "(2,6): error CS0122: 'Rectangle.width' is inaccessible due to its protection level\n",
      "\n",
      "(3,24): error CS0122: 'Rectangle.width' is inaccessible due to its protection level\n",
      "\n"
     ]
    },
    {
     "ename": "Error",
     "evalue": "compilation error",
     "output_type": "error",
     "traceback": []
    }
   ],
   "source": [
    "Rectangle rect = new Rectangle();\n",
    "rect.width = 10;\n",
    "Console.WriteLine(rect.width);"
   ]
  },
  {
   "cell_type": "markdown",
   "id": "956d956f",
   "metadata": {},
   "source": [
    "We get two compiler errors and they actually explain exactly what's wrong.\n",
    "`width`, for example, is \"inaccessible due to its protection level\".\n",
    "We get one error for line 2 above and one for line 3.\n",
    "One error for when we try to set the value and one error for when we try to get it.\n",
    "\n",
    "So now we've truly encapsulated the notions of `width` and `height` in the concept of `Rectangle`.\n",
    "But how in the world are we going to be able to do anything useful with them if we can't access them.\n",
    "Well, this is where [instance methods](instance-methods) that we just learned about (or properties but we'll talk about that later) come in to play."
   ]
  },
  {
   "cell_type": "code",
   "execution_count": 5,
   "id": "6ed27c8c",
   "metadata": {},
   "outputs": [],
   "source": [
    "class Rectangle\n",
    "{\n",
    "  private int width = 0;\n",
    "  private int height = 0;\n",
    "\n",
    "  public void SetWidth (int width)\n",
    "    => this.width = width;\n",
    "\n",
    "  public void SetHeight (int height)\n",
    "    => this.height = height;\n",
    "\n",
    "  public void Print ()\n",
    "    => Console.WriteLine($\"{width} x {height}\");\n",
    "}"
   ]
  },
  {
   "cell_type": "markdown",
   "id": "5023db83",
   "metadata": {},
   "source": [
    "No more compiler errors.\n",
    "Can we use this class?\n",
    "Indeed we can."
   ]
  },
  {
   "cell_type": "code",
   "execution_count": 6,
   "id": "1935620f",
   "metadata": {},
   "outputs": [
    {
     "name": "stdout",
     "output_type": "stream",
     "text": [
      "20 x 10\n"
     ]
    }
   ],
   "source": [
    "Rectangle rect = new Rectangle();\n",
    "rect.SetWidth(20);\n",
    "rect.SetHeight(10);\n",
    "rect.Print();"
   ]
  },
  {
   "cell_type": "markdown",
   "id": "efce3f02",
   "metadata": {},
   "source": [
    "Is it all a win or have we lost something?\n",
    "Well, since we've made the fields `private` we can no longer use the object initializer syntax.\n",
    "But in the chapter on [properties](properties) you'll see how we can get that ability back and in the chapter on [constructors](constructors) you'll see why we should prefer constructors over object initializers much of the time."
   ]
  },
  {
   "cell_type": "code",
   "execution_count": 7,
   "id": "abad43b7",
   "metadata": {
    "tags": [
     "raises-exception"
    ]
   },
   "outputs": [
    {
     "name": "stderr",
     "output_type": "stream",
     "text": [
      "\n",
      "(1,36): error CS0122: 'Rectangle.width' is inaccessible due to its protection level\n",
      "\n"
     ]
    },
    {
     "ename": "Error",
     "evalue": "compilation error",
     "output_type": "error",
     "traceback": []
    }
   ],
   "source": [
    "Rectangle rect = new Rectangle() { width = 10 };"
   ]
  },
  {
   "cell_type": "markdown",
   "id": "2b402560",
   "metadata": {},
   "source": [
    "%### Information hiding\n",
    "\n",
    "Why is this a win?\n",
    "Doesn't the new version of `Rectangle` seem more complicated than the old?\n",
    "Wasn't it more useful before?\n",
    "Well, the new implementation follows the principle of information hiding.\n",
    "It doesn't break encapsulation.\n",
    "\n",
    "```{important}\n",
    "By making the fields `private` we've encapsulated them and made the class easier to change without breaking other code.\n",
    "```\n",
    "\n",
    "Another way to say this is that we've \"hidden what might vary\".\n",
    "Yet another way is that we've hidden \"implementation details\".\n",
    "The fact that the width and height of a rectangle is modeled using the data type `int` is what we would call an implementation detail.\n",
    "It's irrelevant to the fact that we're trying to model rectangles.\n",
    "\n",
    "Let's say that we in the future realize that we want to implement a new method called `Half` which itself could be implemented in terms of the method `Scale` that we [built before](rectangle-scale) if the `Scale` method supported non-integers.\n",
    "So let's instead rewrite the `Scale` method so that it takes a `double`.\n",
    "\n",
    "This means that if we pass `0.5` to the method `Scale` then the rectangle should be halved.\n",
    "However, if our rectangle, for example, has size $(5,5)$ then the new size should be $(2.5, 2.5)$.\n",
    "But we've modeled the width and height as fields of type `int`.\n",
    "Is this going to be a costly change?"
   ]
  },
  {
   "cell_type": "code",
   "execution_count": 8,
   "id": "699a0698",
   "metadata": {},
   "outputs": [],
   "source": [
    "class Rectangle\n",
    "{\n",
    "  private double width = 0;  // Changed.\n",
    "  private double height = 0; // Changed.\n",
    "\n",
    "  public void SetWidth (int width)\n",
    "    => this.width = width;\n",
    "\n",
    "  public void SetHeight (int height)\n",
    "    => this.height = height;\n",
    "\n",
    "  public void Scale (double multiplier)  //\n",
    "  {                                      //\n",
    "    this.width *= multiplier;            // New method.\n",
    "    this.height *= multiplier;           //\n",
    "  }                                      //\n",
    "\n",
    "  public void Print ()\n",
    "    => Console.WriteLine($\"{width} x {height}\");\n",
    "}"
   ]
  },
  {
   "cell_type": "markdown",
   "id": "aa6be734",
   "metadata": {},
   "source": [
    "No, the change is *not* going to break a lot of other things.\n",
    "Since the fields are properly encapsulated this implementation detail is trivial to change.\n",
    "Notice how, beyond adding the new method, we only had to change the type of our instance fields from `int` to `double`.\n",
    "Nothing else had to change.\n",
    "\n",
    "Does the code that uses the class `Rectangle` have to change?\n",
    "No, because, what we will learn to refer to as, the \"public interface\" of the type `Rectangle` has not actually changed.\n",
    "Beyond the fact that we added a new instance method.\n",
    "The only thing that changed was an implementation detail.\n",
    "\n",
    "All code that used objects of type `Rectangle` should keep working just like it did before.\n",
    "What would have happened if we had not encapsulated the `Width` and `Height` fields but instead exposed them publicly and then changed the data type of them from `int` to `double`?\n",
    "Any code that interacted with rectangles might have had to change since it might have been working with values of type `int`, while objects of type `Rectangle` now wants us to give them and yields values of type `double`.\n",
    "\n",
    "\n",
    "\n",
    "### Classes not objects\n",
    "\n",
    "Remember how we said that the accessibility determines what *class* has access to a given member, not what *object* has access to it?\n",
    "Let's take two examples to drive this point home.\n",
    "\n",
    "\n",
    "#### Instance method accessing another instance\n",
    "\n",
    "Have a look at the class below."
   ]
  },
  {
   "cell_type": "code",
   "execution_count": 9,
   "id": "1cca9c9c",
   "metadata": {},
   "outputs": [],
   "source": [
    "class Person\n",
    "{\n",
    "  private string name;\n",
    "\n",
    "  public void SetName (string name)\n",
    "    => this.name = name;\n",
    "\n",
    "  public void Greet (Person other)\n",
    "    => Console.WriteLine($\"Hello {other.name}, my name is {name}.\");\n",
    "}"
   ]
  },
  {
   "cell_type": "markdown",
   "id": "5a406afc",
   "metadata": {},
   "source": [
    "We're defining a class called `Person` with a `private` field called `name`.\n",
    "The person class has two public instance methods.\n",
    "One allows us to set the name of a person and the other allows us to greet another person.\n",
    "\n",
    "This second method is the interesting one since it takes another object as input and wants to access both our name and that other persons name.\n",
    "Is that possible even though the field `name` is marked as being `private`?"
   ]
  },
  {
   "cell_type": "code",
   "execution_count": 10,
   "id": "e1225682",
   "metadata": {},
   "outputs": [
    {
     "name": "stdout",
     "output_type": "stream",
     "text": [
      "Hello John, my name is Jane.\n"
     ]
    }
   ],
   "source": [
    "Person p1 = new Person();\n",
    "Person p2 = new Person();\n",
    "\n",
    "p1.SetName(\"Jane\");\n",
    "p2.SetName(\"John\");\n",
    "\n",
    "p1.Greet(p2);"
   ]
  },
  {
   "cell_type": "markdown",
   "id": "91d60da6",
   "metadata": {},
   "source": [
    "Indeed, it is possible.\n",
    "Why?\n",
    "Because the field `name` is only private to the class `Person` not to any one specific object of type `Person`.\n",
    "If you are defining the method in the class `Person` then you have access to the `name` field.\n",
    "\n",
    "\n",
    "(static-factory-methods)=\n",
    "#### Static method accessing an instance\n",
    "\n",
    "Let's take another example, but let's this time use a static method.\n",
    "Have a look at this class."
   ]
  },
  {
   "cell_type": "code",
   "execution_count": 11,
   "id": "e403ae13",
   "metadata": {},
   "outputs": [],
   "source": [
    "class Circle\n",
    "{\n",
    "  private int radius;\n",
    "\n",
    "  public static Circle MakeCircle (int radius)\n",
    "  {\n",
    "    Circle circle = new Circle();\n",
    "    circle.radius = radius;\n",
    "    return circle;\n",
    "  }\n",
    "\n",
    "  public void Print ()\n",
    "    => Console.WriteLine(\"Circle with radius: \" + radius);\n",
    "}"
   ]
  },
  {
   "cell_type": "markdown",
   "id": "08d00a3d",
   "metadata": {},
   "source": [
    "We're defining a class called `Circle` which has a `private` field called `radius`.\n",
    "There is no public instance method that allows us to set the radius of an object of type `Circle`.\n",
    "There is however a public instance method that allows us to print a circle.\n",
    "Then there is a `public` `static` method called `MakeCircle` that takes a radius and returns us an object of type `Circle`.\n",
    "Is it really possible for that static method to set the radius of the circle?"
   ]
  },
  {
   "cell_type": "code",
   "execution_count": 12,
   "id": "723dc9e3",
   "metadata": {},
   "outputs": [
    {
     "name": "stdout",
     "output_type": "stream",
     "text": [
      "Circle with radius: 12\n"
     ]
    }
   ],
   "source": [
    "Circle c1 = Circle.MakeCircle(12);\n",
    "c1.Print();"
   ]
  },
  {
   "cell_type": "markdown",
   "id": "a1d9b1be",
   "metadata": {},
   "source": [
    "Yes it is.\n",
    "The static method is defined *in* the class `Circle` and consequently it has access to the field even though the field is marked as `private`.\n",
    "\n",
    "```{note}\n",
    "When we've learned about [constructors](constructors) we don't need to write `static` methods like `MakeCircle` anymore.\n",
    "However, you might want to know that constructors solve basically the same problem as we solved with this ´static´ method.\n",
    "So if you understand how this static method works, then you're very close to understanding how constructors work.\n",
    "```\n",
    "\n",
    "```{note}\n",
    "The method `MakeCircle` is what we would call a \"static factory method\".\n",
    "It's a `static` method that we can call in order to get objects of some type.\n",
    "In this case the type is `Circle`.\n",
    "```\n",
    "\n",
    "\n",
    "\n",
    "\n",
    "\n",
    "\n",
    "\n",
    "\n",
    "## Exercises\n",
    "\n",
    "```{exercise}\n",
    "What is the difference between `public` and `private`?\n",
    "```\n",
    "\n",
    "```{exercise}\n",
    "What do we mean when we say that `public` fields \"break encapsulation\" or \"violate the principle of information hiding\"?\n",
    "```\n",
    "\n",
    "```{exercise}\n",
    "Redo all the coding exercises in the chapter on [instance methods](instance-methods) and make sure that your solutions work *even* after you've changed the accessibility of all fields to `private`.\n",
    "In some cases you will need to adapt your solutions.\n",
    "This is a very important exercise.\n",
    "```\n",
    "\n",
    "```{exercise-start}\n",
    "```\n",
    "Does the following code compile?\n",
    "Why or why not?"
   ]
  },
  {
   "cell_type": "code",
   "execution_count": 13,
   "id": "220bda4e",
   "metadata": {
    "tags": [
     "raises-exception",
     "remove-output",
     "remove-stderr"
    ]
   },
   "outputs": [
    {
     "name": "stderr",
     "output_type": "stream",
     "text": [
      "\n",
      "(12,38): error CS0122: 'Person.name' is inaccessible due to its protection level\n",
      "\n",
      "(12,54): error CS0122: 'Person.name' is inaccessible due to its protection level\n",
      "\n"
     ]
    },
    {
     "ename": "Error",
     "evalue": "compilation error",
     "output_type": "error",
     "traceback": []
    }
   ],
   "source": [
    "class Person\n",
    "{\n",
    "  private string name;\n",
    "\n",
    "  public void SetName (string name)\n",
    "    => this.name = name;\n",
    "}\n",
    "\n",
    "class Greeter\n",
    "{\n",
    "  public void Greet (Person p1, Person p2)\n",
    "    => Console.WriteLine($\"Hello {p1.name}, I am {p2.name}\");\n",
    "}"
   ]
  },
  {
   "cell_type": "markdown",
   "id": "d8dfbaa6",
   "metadata": {},
   "source": [
    "```{exercise-end}\n",
    "```\n",
    "\n",
    "```{exercise-start}\n",
    "```\n",
    "Does the following code compile?\n",
    "Why or why not?"
   ]
  },
  {
   "cell_type": "code",
   "execution_count": 14,
   "id": "059ec340",
   "metadata": {},
   "outputs": [],
   "source": [
    "class Person\n",
    "{\n",
    "  private string name;\n",
    "\n",
    "  public void SetName (string name)\n",
    "    => this.name = name;\n",
    "\n",
    "  public static void Greet (Person p1, Person p2)\n",
    "    => Console.WriteLine($\"Hello {p1.name}, I am {p2.name}\");\n",
    "}"
   ]
  },
  {
   "cell_type": "markdown",
   "id": "2d76bf36",
   "metadata": {},
   "source": [
    "```{exercise-end}\n",
    "```\n",
    "\n",
    "\n",
    "```{exercise}\n",
    "We've said that `private` means that the member is accessible within the same class not merely within the same object.\n",
    "Write your own code example to show what this means.\n",
    "```"
   ]
  }
 ],
 "metadata": {
  "jupytext": {
   "formats": "md:myst",
   "text_representation": {
    "extension": ".md",
    "format_name": "myst"
   }
  },
  "kernelspec": {
   "display_name": "csharp",
   "language": ".net-csharp",
   "name": ".net-csharp"
  },
  "language_info": {
   "file_extension": ".cs",
   "mimetype": "text/x-csharp",
   "name": "C#",
   "pygments_lexer": "csharp",
   "version": "10.0"
  },
  "source_map": [
   11,
   82,
   94,
   145,
   151,
   161,
   167,
   184,
   189,
   200,
   215,
   221,
   226,
   232,
   235,
   263,
   284,
   312,
   323,
   332,
   340,
   354,
   369,
   377,
   380,
   424,
   439,
   447,
   458
  ]
 },
 "nbformat": 4,
 "nbformat_minor": 5
}