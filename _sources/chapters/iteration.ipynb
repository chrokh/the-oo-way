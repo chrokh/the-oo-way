{
 "cells": [
  {
   "cell_type": "markdown",
   "id": "4f30c186",
   "metadata": {},
   "source": [
    "# Iteration\n",
    "\n",
    "```{warning}\n",
    "Work in progress.\n",
    "```\n",
    "\n",
    "%- while\n",
    "%- for\n",
    "%- foreach\n",
    "%  - Also works with IEnumerable but we’ll talk about this later.\n",
    "%- Infinite loop. Will talk about stack overflow later.\n",
    "\n",
    "## Motivation\n",
    "\n",
    "(DRY)=\n",
    "A key idea in programming is the maxim: \"don't repeat yourself\".\n",
    "The idea is that code should not be duplicated.\n",
    "We should never write the same thing twice.\n",
    "\n",
    "```{epigraph}\n",
    "Don't repeat yourself. (DRY)\n",
    "```\n",
    "\n",
    "If we write the same code multiple times, then there's a higher risk that we'll introduce bugs.\n",
    "Even if we manage to not introduce bugs the first time we're duplicating code we'll have to exercise the same level of extreme caution as seoon as we want to change the duplicated code.\n",
    "If we duplicate an idea in multiple places, then we have to change that idea in all places everytime we want to change it.\n",
    "\n",
    "Think about it.\n",
    "Let's say that you and I have a meeting at 8.00 tomorrow and I make a note of this appointment in both my calendar and my reminder app.\n",
    "If you then call me and say that you have to reschedule to 10.00 then I better remember to change both of my notes or hope that whenever I want to remind myself of which time we're going to meet I happen to check whatever note has the correct time.\n",
    "Not ideal.\n",
    "Try to think in terms of single sources of truth.\n",
    "Things should only be said once.\n",
    "\n",
    "However, sometimes we do want to do things multiple times.\n",
    "The solution to duplication can be summed up in one word: abstraction.\n",
    "One such abstraction is that of iteration.\n",
    "The realization is that it is to define, what is called, a \"block\" of statements and then state that this block must be executed as long as some condition remains true.\n",
    "\n",
    "```{seealso}\n",
    "We'll talk a lot more about questions like this in the chapter on [maintainability](maintainability) and those that follow it.\n",
    "So don't worry, there's a lot more to discuss here.\n",
    "```\n",
    "\n",
    "\n",
    "## Definition\n",
    "\n",
    "In imperative languages we often find at least four basic iteration statements.\n",
    "In C# we have:\n",
    "\n",
    "- The `for` statement which executes a block for as long as some condition remains true, given some initializer, and some iterator.\n",
    "- The `foreach` statement executes a block for each element in a collection such as an [array](arrays).\n",
    "- The `do` statement executes a block *one* or more times as long as some condition remains true.\n",
    "- The `while` statement executes a block *zero* or more times as long as some condition remains true.\n",
    "\n",
    "\n",
    "```{warning}\n",
    "Work in progress.\n",
    "```\n",
    "\n",
    "%### The `for` statement\n",
    "\n",
    "%### The `foreach` statement\n",
    "\n",
    "%### The `do` statement\n",
    "\n",
    "%### The `while` statement\n",
    "\n",
    "\n",
    "## Examples\n",
    "\n",
    "```{warning}\n",
    "Work in progress.\n",
    "```\n",
    "\n",
    "(iteration-reverse)=\n",
    "### Reverse cipher\n",
    "\n",
    "Let's use another cipher as an example.\n",
    "In the chapter on algorithms we discussed the simple idea of a [reverse cipher](reverse-cipher).\n",
    "Not the most effective cipher in terms of \"hiding\" the contents of a message, but a cipher nonetheless.\n",
    "\n",
    "Looking at the pseudo code in the [algorithms](reverse-cipher) chapter we conclude that one way to implement this cipher is to iterate over the `string`, one character at a time, backwards and append each character to the `string` one by one.\n",
    "\n",
    "(string-indexers)=\n",
    "To access individual elements of a string we must make a quick detour into something called [indexers](indexers).\n",
    "That is a concept which we'll talk about in a much later chapter.\n",
    "However, the short story is that, since the type `string` has an indexer defined, it is possible to access the individual `char` elements that make up a `string` using bracket notation.\n",
    "\n",
    "Let's for example say that we have a `string` called `msg` that contains the the value `\"hello\"`."
   ]
  },
  {
   "cell_type": "code",
   "execution_count": 1,
   "id": "4f850fe5",
   "metadata": {},
   "outputs": [
    {
     "data": {
      "text/html": [
       "\r\n",
       "<div>\r\n",
       "    <div id='dotnet-interactive-this-cell-3134.Microsoft.DotNet.Interactive.Http.HttpPort' style='display: none'>\r\n",
       "        The below script needs to be able to find the current output cell; this is an easy method to get it.\r\n",
       "    </div>\r\n",
       "    <script type='text/javascript'>\r\n",
       "async function probeAddresses(probingAddresses) {\r\n",
       "    function timeout(ms, promise) {\r\n",
       "        return new Promise(function (resolve, reject) {\r\n",
       "            setTimeout(function () {\r\n",
       "                reject(new Error('timeout'))\r\n",
       "            }, ms)\r\n",
       "            promise.then(resolve, reject)\r\n",
       "        })\r\n",
       "    }\r\n",
       "\r\n",
       "    if (Array.isArray(probingAddresses)) {\r\n",
       "        for (let i = 0; i < probingAddresses.length; i++) {\r\n",
       "\r\n",
       "            let rootUrl = probingAddresses[i];\r\n",
       "\r\n",
       "            if (!rootUrl.endsWith('/')) {\r\n",
       "                rootUrl = `${rootUrl}/`;\r\n",
       "            }\r\n",
       "\r\n",
       "            try {\r\n",
       "                let response = await timeout(1000, fetch(`${rootUrl}discovery`, {\r\n",
       "                    method: 'POST',\r\n",
       "                    cache: 'no-cache',\r\n",
       "                    mode: 'cors',\r\n",
       "                    timeout: 1000,\r\n",
       "                    headers: {\r\n",
       "                        'Content-Type': 'text/plain'\r\n",
       "                    },\r\n",
       "                    body: probingAddresses[i]\r\n",
       "                }));\r\n",
       "\r\n",
       "                if (response.status == 200) {\r\n",
       "                    return rootUrl;\r\n",
       "                }\r\n",
       "            }\r\n",
       "            catch (e) { }\r\n",
       "        }\r\n",
       "    }\r\n",
       "}\r\n",
       "\r\n",
       "function loadDotnetInteractiveApi() {\r\n",
       "    probeAddresses([\"http://10.1.0.167:1024/\", \"http://127.0.0.1:1024/\"])\r\n",
       "        .then((root) => {\r\n",
       "        // use probing to find host url and api resources\r\n",
       "        // load interactive helpers and language services\r\n",
       "        let dotnetInteractiveRequire = require.config({\r\n",
       "        context: '3134.Microsoft.DotNet.Interactive.Http.HttpPort',\r\n",
       "                paths:\r\n",
       "            {\r\n",
       "                'dotnet-interactive': `${root}resources`\r\n",
       "                }\r\n",
       "        }) || require;\r\n",
       "\r\n",
       "            window.dotnetInteractiveRequire = dotnetInteractiveRequire;\r\n",
       "\r\n",
       "            window.configureRequireFromExtension = function(extensionName, extensionCacheBuster) {\r\n",
       "                let paths = {};\r\n",
       "                paths[extensionName] = `${root}extensions/${extensionName}/resources/`;\r\n",
       "                \r\n",
       "                let internalRequire = require.config({\r\n",
       "                    context: extensionCacheBuster,\r\n",
       "                    paths: paths,\r\n",
       "                    urlArgs: `cacheBuster=${extensionCacheBuster}`\r\n",
       "                    }) || require;\r\n",
       "\r\n",
       "                return internalRequire\r\n",
       "            };\r\n",
       "        \r\n",
       "            dotnetInteractiveRequire([\r\n",
       "                    'dotnet-interactive/dotnet-interactive'\r\n",
       "                ],\r\n",
       "                function (dotnet) {\r\n",
       "                    dotnet.init(window);\r\n",
       "                },\r\n",
       "                function (error) {\r\n",
       "                    console.log(error);\r\n",
       "                }\r\n",
       "            );\r\n",
       "        })\r\n",
       "        .catch(error => {console.log(error);});\r\n",
       "    }\r\n",
       "\r\n",
       "// ensure `require` is available globally\r\n",
       "if ((typeof(require) !==  typeof(Function)) || (typeof(require.config) !== typeof(Function))) {\r\n",
       "    let require_script = document.createElement('script');\r\n",
       "    require_script.setAttribute('src', 'https://cdnjs.cloudflare.com/ajax/libs/require.js/2.3.6/require.min.js');\r\n",
       "    require_script.setAttribute('type', 'text/javascript');\r\n",
       "    \r\n",
       "    \r\n",
       "    require_script.onload = function() {\r\n",
       "        loadDotnetInteractiveApi();\r\n",
       "    };\r\n",
       "\r\n",
       "    document.getElementsByTagName('head')[0].appendChild(require_script);\r\n",
       "}\r\n",
       "else {\r\n",
       "    loadDotnetInteractiveApi();\r\n",
       "}\r\n",
       "\r\n",
       "    </script>\r\n",
       "</div>"
      ]
     },
     "metadata": {},
     "output_type": "display_data"
    }
   ],
   "source": [
    "string msg = \"hello\";"
   ]
  },
  {
   "cell_type": "markdown",
   "id": "24af8e05",
   "metadata": {},
   "source": [
    "We can then use bracket notation to extract individual `char` elements from the `string`."
   ]
  },
  {
   "cell_type": "code",
   "execution_count": 2,
   "id": "7aae1359",
   "metadata": {},
   "outputs": [
    {
     "name": "stdout",
     "output_type": "stream",
     "text": [
      "e\n"
     ]
    }
   ],
   "source": [
    "Console.WriteLine( msg[1] );"
   ]
  },
  {
   "cell_type": "markdown",
   "id": "f98d4dd2",
   "metadata": {},
   "source": [
    "Using this knowledge we can turn our pseudo code algorithm into an actual algorithm.\n",
    "First, let's define our input variable.\n",
    "Let's use the word \"DOG\" as input."
   ]
  },
  {
   "cell_type": "code",
   "execution_count": 3,
   "id": "00a80922",
   "metadata": {},
   "outputs": [],
   "source": [
    "string input = \"DOG\";"
   ]
  },
  {
   "cell_type": "markdown",
   "id": "47195e8a",
   "metadata": {},
   "source": [
    "Then we declare a new `string` called `output` to which we will append our characters one by one.\n",
    "Notice also that we initialize the string to an empty string so that it is not `null`."
   ]
  },
  {
   "cell_type": "code",
   "execution_count": 4,
   "id": "f50074f2",
   "metadata": {},
   "outputs": [],
   "source": [
    "string output = \"\";"
   ]
  },
  {
   "cell_type": "markdown",
   "id": "043bcaec",
   "metadata": {},
   "source": [
    "Then let's iterate using a `for` statement.\n",
    "Allow me to dissect the three parts of the loop for you.\n",
    "\n",
    "1. First we declare the variable `i` and initialize it to the number equal to the length of the `input` string minus `1` since that's the index of the last character in the string.\n",
    "2. Then we specify that the condition for running the loop another lap is that `i` must be equal to or greater than `0` which is the index of the first letter in the `string`.\n",
    "3. Last, we state that at the end of each lap in the loop, the variable `i` must be decremented by `1`."
   ]
  },
  {
   "cell_type": "code",
   "execution_count": 5,
   "id": "c057cea8",
   "metadata": {},
   "outputs": [],
   "source": [
    "for (int i=input.Length-1; i>=0; i--)\n",
    "  output += input[i];"
   ]
  },
  {
   "cell_type": "markdown",
   "id": "51a6cf3d",
   "metadata": {},
   "source": [
    "In the block that is to be executed upon each lap of the loop, the \"body\" of the loop, we simply take whatever character is at index `i` in the `input` string and append it to the `output` string.\n",
    "In the end, all that's left, is printing the `output`."
   ]
  },
  {
   "cell_type": "code",
   "execution_count": 6,
   "id": "a23e6f39",
   "metadata": {},
   "outputs": [
    {
     "name": "stdout",
     "output_type": "stream",
     "text": [
      "GOD\n"
     ]
    }
   ],
   "source": [
    "Console.WriteLine(output);"
   ]
  },
  {
   "cell_type": "markdown",
   "id": "05144065",
   "metadata": {},
   "source": [
    "The whole program looks like this:"
   ]
  },
  {
   "cell_type": "code",
   "execution_count": 7,
   "id": "a58cb7af",
   "metadata": {},
   "outputs": [
    {
     "name": "stdout",
     "output_type": "stream",
     "text": [
      "GOD\n"
     ]
    }
   ],
   "source": [
    "string input = \"DOG\";\n",
    "string output = \"\";\n",
    "\n",
    "for (int i=input.Length-1; i>=0; i--)\n",
    "  output += input[i];\n",
    "\n",
    "Console.WriteLine(output);"
   ]
  },
  {
   "cell_type": "markdown",
   "id": "28f998e5",
   "metadata": {},
   "source": [
    "(iteration-robbers)=\n",
    "### Robber's language\n",
    "\n",
    "Let's pick a different cipher now.\n",
    "Remember how we wrote a program that translated individual characters into the [Robber's language](robbers-language) in the chapter on [selection](selection-robbers)?\n",
    "Let's take that code and wrap it in a `foreach` loop so that we get a program that can translate a full `string` rather than just individual characters."
   ]
  },
  {
   "cell_type": "code",
   "execution_count": 8,
   "id": "5ccf5dbf",
   "metadata": {},
   "outputs": [
    {
     "name": "stdout",
     "output_type": "stream",
     "text": [
      "DODOGOG\n"
     ]
    }
   ],
   "source": [
    "string input = \"DOG\";\n",
    "string output = \"\";\n",
    "\n",
    "foreach (char letter in input)\n",
    "{\n",
    "  output += letter switch\n",
    "  {\n",
    "    'B' or 'b' or 'C' or 'c' or 'D' or 'd' or 'F' or 'f' or 'G' or 'g' or 'H' or 'h' or 'J' or 'j' or 'K' or 'k' or 'L' or 'l' or 'M' or 'm' or 'N' or 'n' or 'P' or 'p' or 'Q' or 'q' or 'R' or 'r' or 'S' or 's' or 'T' or 't' or 'V' or 'v' or 'W' or 'w' or 'X' or 'x' or 'Y' or 'y' or 'Z' or 'z'\n",
    "      => $\"{letter}O{letter}\",\n",
    "    _ => letter\n",
    "  };\n",
    "}\n",
    "\n",
    "Console.WriteLine(output);"
   ]
  },
  {
   "cell_type": "markdown",
   "id": "dee69c97",
   "metadata": {},
   "source": [
    "## Exercises\n",
    "\n",
    "```{exercise}\n",
    "What is iteration?\n",
    "Explain using your own words.\n",
    "```\n",
    "\n",
    "```{exercise}\n",
    "Give a code example of each of the following four ways of iterating in C#:\n",
    "\n",
    "1. The `for` statement.\n",
    "2. The `foreach` statement.\n",
    "3. The `do` statement.\n",
    "4. The `while` statement.\n",
    "```\n",
    "\n",
    "```{exercise}\n",
    "There are at least four ways of iterating in C#.\n",
    "When should we prefer what way of the ones listed below.\n",
    "Explain using examples but without writing code.\n",
    "\n",
    "1. The `for` statement.\n",
    "2. The `foreach` statement.\n",
    "3. The `do` statement.\n",
    "4. The `while` statement.\n",
    "```\n",
    "\n",
    "```{exercise-start}\n",
    ":label: ex:iteration-leet\n",
    "```\n",
    "In {numref}`ex:selection-leet` we wrote a program that can encode any given `char` in the Leet language.\n",
    "Take inspiration from the other ciphers we built in this chapter and write a new program that can take a full string as input.\n",
    "\n",
    "If your program starts with:\n",
    "\n",
    "```csharp\n",
    "string input = \"HELLO LEET WORLD\";\n",
    "char vowel = 'o';\n",
    "string output = \"\";\n",
    "```\n",
    "\n",
    "then it should print:\n",
    "\n",
    "```output\n",
    "H3110 1337 W0R1D\n",
    "```\n",
    "```{exercise-end}\n",
    "```\n",
    "\n",
    "\n",
    "```{exercise-start}\n",
    "```\n",
    "Rewrite all cipher programs from this chapter (Reverse, Robber's, and Leet) so that they read their `string` input from the user using `Console.ReadLine` instead.\n",
    "\n",
    "````{admonition} Get a compiler warning?\n",
    ":class: dropdown tip\n",
    "As we will learn when we get to [null state static analysis](null-state-static-analysis), when compiling this program, you might get a compiler warning saying:\n",
    "\n",
    "```\n",
    "warning CS8600: Converting null literal or possible null value to non-nullable type.\n",
    "```\n",
    "\n",
    "The reason for this is that `Console.ReadLine` returns a nullable `string?` rather than a non-nullable `string` and that you are compiling your code with the setting `<nullable>enable</nullable>`.\n",
    "To get rid of this warning we have to first check whether the result of calling `ReadLine` is `null` before using it.\n",
    "Like this:\n",
    "\n",
    "```csharp\n",
    "string input = Console.ReadLine();\n",
    "if (input != null)\n",
    "{\n",
    "  // Do something with input here...\n",
    "}\n",
    "```\n",
    "\n",
    "But, don't worry if this doesn't make sense to you yet.\n",
    "We'll talk about [nullable reference types](nullable-reference-types) and [null state static analysis](null-state-static-analysis) in due time.\n",
    "I just wanted to let you know what this warning means if you happen to get it.\n",
    "````\n",
    "```{exercise-end}\n",
    "```"
   ]
  }
 ],
 "metadata": {
  "jupytext": {
   "formats": "md:myst",
   "text_representation": {
    "extension": ".md",
    "format_name": "myst"
   }
  },
  "kernelspec": {
   "display_name": "csharp",
   "language": ".net-csharp",
   "name": ".net-csharp"
  },
  "language_info": {
   "file_extension": ".cs",
   "mimetype": "text/x-csharp",
   "name": "C#",
   "pygments_lexer": "csharp",
   "version": "10.0"
  },
  "source_map": [
   11,
   104,
   106,
   110,
   112,
   118,
   120,
   125,
   127,
   136,
   139,
   144,
   146,
   150,
   158,
   169,
   184
  ]
 },
 "nbformat": 4,
 "nbformat_minor": 5
}