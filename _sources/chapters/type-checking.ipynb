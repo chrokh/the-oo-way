{
 "cells": [
  {
   "cell_type": "markdown",
   "id": "ad9f9fb4",
   "metadata": {},
   "source": [
    "# Type-checking\n",
    "\n",
    "% TODO: Must use terminology static/compile-time type safety.\n",
    "\n",
    "As we briefly saw in the chapter on [Errors](errors), type checking is an activity performed by the compiler.\n",
    "In the process of type checking the compiler ensures that the program is sound on the type level.\n",
    "Concretely this means that the compiler checks what type that every [expression](expressions) will evaluate to and whether that type is acceptible at the place where it will be evaluated.\n",
    "\n",
    "Type-checking can be performed at compile-time or at run-time.\n",
    "In C# type-checking occurrs at compile-time.\n",
    "\n",
    "Simplistically put, type-checking concerns ensuring that all expressions evaluate to values of types that are compatible with whatever type is expected where the expressions are evaluated.\n",
    "This not only includes checking for example arithmetic and logical expressions but also method calls.\n",
    "We have yet to talk about [methods](static-methods), but as we saw in the chapter on [data types](operations) methods too have types.\n",
    "The type of a method declaration is its name; its number, order, and type of arguments; as well as its return type.\n",
    "\n",
    "\n",
    "```{note}\n",
    "Type-checking exists to enforce a property known as [type safety](type-safety).\n",
    "Type safety refers to not allowing the execution of operations that violate the [type system](type-system).\n",
    "Allowing such operations could lead to undefined behavior since their implementation is unspecified.\n",
    "C# is believed to be a type-safe language.\n",
    "%The definitions of \"type safety\" varies but under one definition, a type-safe language guarantees that no valid programs lead to undefined behavior.\n",
    "```\n",
    "\n",
    "## Type errors\n",
    "\n",
    "When type-checking discovers an error we call this a \"type error\".\n",
    "A type error means that we've expressed something where the *types* don't \"line up\".\n",
    "If we try, for example, to use a value of a type that is not `bool`, and that cannot be implicitly converted to `bool`, where a `bool` is expected then we get a type error.\n",
    "More on implicit conversions in the chapter on [type conversions](type-conversions).\n",
    "\n",
    "Let's say we were attempting to assign, say a value of type integer, to a variable of type boolean.\n",
    "Have a look at the error we get."
   ]
  },
  {
   "cell_type": "code",
   "execution_count": 1,
   "id": "b7b84145",
   "metadata": {
    "tags": [
     "raises-exception"
    ]
   },
   "outputs": [
    {
     "data": {
      "text/html": [
       "\r\n",
       "<div>\r\n",
       "    <div id='dotnet-interactive-this-cell-3922.Microsoft.DotNet.Interactive.Http.HttpPort' style='display: none'>\r\n",
       "        The below script needs to be able to find the current output cell; this is an easy method to get it.\r\n",
       "    </div>\r\n",
       "    <script type='text/javascript'>\r\n",
       "async function probeAddresses(probingAddresses) {\r\n",
       "    function timeout(ms, promise) {\r\n",
       "        return new Promise(function (resolve, reject) {\r\n",
       "            setTimeout(function () {\r\n",
       "                reject(new Error('timeout'))\r\n",
       "            }, ms)\r\n",
       "            promise.then(resolve, reject)\r\n",
       "        })\r\n",
       "    }\r\n",
       "\r\n",
       "    if (Array.isArray(probingAddresses)) {\r\n",
       "        for (let i = 0; i < probingAddresses.length; i++) {\r\n",
       "\r\n",
       "            let rootUrl = probingAddresses[i];\r\n",
       "\r\n",
       "            if (!rootUrl.endsWith('/')) {\r\n",
       "                rootUrl = `${rootUrl}/`;\r\n",
       "            }\r\n",
       "\r\n",
       "            try {\r\n",
       "                let response = await timeout(1000, fetch(`${rootUrl}discovery`, {\r\n",
       "                    method: 'POST',\r\n",
       "                    cache: 'no-cache',\r\n",
       "                    mode: 'cors',\r\n",
       "                    timeout: 1000,\r\n",
       "                    headers: {\r\n",
       "                        'Content-Type': 'text/plain'\r\n",
       "                    },\r\n",
       "                    body: probingAddresses[i]\r\n",
       "                }));\r\n",
       "\r\n",
       "                if (response.status == 200) {\r\n",
       "                    return rootUrl;\r\n",
       "                }\r\n",
       "            }\r\n",
       "            catch (e) { }\r\n",
       "        }\r\n",
       "    }\r\n",
       "}\r\n",
       "\r\n",
       "function loadDotnetInteractiveApi() {\r\n",
       "    probeAddresses([\"http://10.1.1.32:1024/\", \"http://127.0.0.1:1024/\"])\r\n",
       "        .then((root) => {\r\n",
       "        // use probing to find host url and api resources\r\n",
       "        // load interactive helpers and language services\r\n",
       "        let dotnetInteractiveRequire = require.config({\r\n",
       "        context: '3922.Microsoft.DotNet.Interactive.Http.HttpPort',\r\n",
       "                paths:\r\n",
       "            {\r\n",
       "                'dotnet-interactive': `${root}resources`\r\n",
       "                }\r\n",
       "        }) || require;\r\n",
       "\r\n",
       "            window.dotnetInteractiveRequire = dotnetInteractiveRequire;\r\n",
       "\r\n",
       "            window.configureRequireFromExtension = function(extensionName, extensionCacheBuster) {\r\n",
       "                let paths = {};\r\n",
       "                paths[extensionName] = `${root}extensions/${extensionName}/resources/`;\r\n",
       "                \r\n",
       "                let internalRequire = require.config({\r\n",
       "                    context: extensionCacheBuster,\r\n",
       "                    paths: paths,\r\n",
       "                    urlArgs: `cacheBuster=${extensionCacheBuster}`\r\n",
       "                    }) || require;\r\n",
       "\r\n",
       "                return internalRequire\r\n",
       "            };\r\n",
       "        \r\n",
       "            dotnetInteractiveRequire([\r\n",
       "                    'dotnet-interactive/dotnet-interactive'\r\n",
       "                ],\r\n",
       "                function (dotnet) {\r\n",
       "                    dotnet.init(window);\r\n",
       "                },\r\n",
       "                function (error) {\r\n",
       "                    console.log(error);\r\n",
       "                }\r\n",
       "            );\r\n",
       "        })\r\n",
       "        .catch(error => {console.log(error);});\r\n",
       "    }\r\n",
       "\r\n",
       "// ensure `require` is available globally\r\n",
       "if ((typeof(require) !==  typeof(Function)) || (typeof(require.config) !== typeof(Function))) {\r\n",
       "    let require_script = document.createElement('script');\r\n",
       "    require_script.setAttribute('src', 'https://cdnjs.cloudflare.com/ajax/libs/require.js/2.3.6/require.min.js');\r\n",
       "    require_script.setAttribute('type', 'text/javascript');\r\n",
       "    \r\n",
       "    \r\n",
       "    require_script.onload = function() {\r\n",
       "        loadDotnetInteractiveApi();\r\n",
       "    };\r\n",
       "\r\n",
       "    document.getElementsByTagName('head')[0].appendChild(require_script);\r\n",
       "}\r\n",
       "else {\r\n",
       "    loadDotnetInteractiveApi();\r\n",
       "}\r\n",
       "\r\n",
       "    </script>\r\n",
       "</div>"
      ]
     },
     "metadata": {},
     "output_type": "display_data"
    },
    {
     "name": "stderr",
     "output_type": "stream",
     "text": [
      "\n",
      "(1,18): error CS0029: Cannot implicitly convert type 'int' to 'bool'\n",
      "\n"
     ]
    },
    {
     "ename": "Error",
     "evalue": "compilation error",
     "output_type": "error",
     "traceback": []
    }
   ],
   "source": [
    "bool predicate = 1;"
   ]
  },
  {
   "cell_type": "markdown",
   "id": "25fd768b",
   "metadata": {},
   "source": [
    "The `int` that the error message refers to is the literal value `1` on the right-hand side of our erronous statement.\n",
    "The `bool` that the error message refers to is the variable named `predicate` on the left-hand side of our erronous statement.\n",
    "Conversion errors in C# conventionally follow this form.\n",
    "Type $X$ cannot be converted to type $Y$ means that we have something of type $X$ and we are trying to convert it into something of type $Y$ but the conversion was unsuccessful.\n",
    "\n",
    "Of course it is entirely possible to define your own conversion from `int` to `bool` but that's an entirely different matter and we'll see more of this in the chapter on [type conversions](type-conversions).\n",
    "\n",
    "```{note}\n",
    "We use the term \"type level\" when looking at the program only in terms of its types.\n",
    "In a language with types we always have two levels.\n",
    "The type level and the value level.\n",
    "When we're reasoning or coding at the type level we don't know anything about values, and when we're reasoning or coding at the value level we don't know anything about types.\n",
    "```\n",
    "\n",
    "On the type level, here's (informally) what the type-checker sees when we tried to assign an integer to a boolean.\n",
    "\n",
    "```\n",
    "bool = int\n",
    "```\n",
    "\n",
    "This doesn't type check since the type on the right-hand side of the assignment must be implicitly convertible to the type on the left-hand side.\n",
    "\n",
    "Let's say we instead used a boolean literal on the right-hand side:"
   ]
  },
  {
   "cell_type": "code",
   "execution_count": 2,
   "id": "71fa1c36",
   "metadata": {},
   "outputs": [],
   "source": [
    "bool predicate = true;"
   ]
  },
  {
   "cell_type": "markdown",
   "id": "74eb21c8",
   "metadata": {},
   "source": [
    "Now the type-checker would (informally) have seen something like:\n",
    "\n",
    "```\n",
    "bool = bool\n",
    "```\n",
    "\n",
    "This does instead of course type check and the program hence compiles.\n",
    "\n",
    "But it's not just in variable assignment that we can mess up the types.\n",
    "What happens if we attempt to use a string (meaning a sequence of characters) in arithmetic addition?\n",
    "Consider the following statement:"
   ]
  },
  {
   "cell_type": "code",
   "execution_count": 3,
   "id": "a4a73d07",
   "metadata": {
    "tags": [
     "raises-exception"
    ]
   },
   "outputs": [
    {
     "name": "stderr",
     "output_type": "stream",
     "text": [
      "\n",
      "(1,14): error CS0029: Cannot implicitly convert type 'string' to 'int'\n",
      "\n"
     ]
    },
    {
     "ename": "Error",
     "evalue": "compilation error",
     "output_type": "error",
     "traceback": []
    }
   ],
   "source": [
    "int amount = \"hello\" + 3;"
   ]
  },
  {
   "cell_type": "markdown",
   "id": "0d37b8bc",
   "metadata": {},
   "source": [
    "In this example we are declaring a variable of type `int` and initializing it with a value that's the result of arithmetically adding a `string` and an `int`.\n",
    "On the type level, here's what the type-checker sees:\n",
    "\n",
    "```\n",
    "int = (string + int)\n",
    "```\n",
    "\n",
    "This doesn't type check since the arithmetic addition operator (`+`) does not accept `string`.\n",
    "Remember, one type of the addition operator is defined as a pair of integers mapping to a single integer.\n",
    "We say \"one type\" not \"the type\" since there are multiple [overloads](overloading) of the addition operator.\n",
    "\n",
    "```\n",
    "(+) :: (int, int) -> int\n",
    "```\n",
    "\n",
    "Let us instead consider a statement like:"
   ]
  },
  {
   "cell_type": "code",
   "execution_count": 4,
   "id": "b8ce524d",
   "metadata": {},
   "outputs": [],
   "source": [
    "int amount = 10 + 3;"
   ]
  },
  {
   "cell_type": "markdown",
   "id": "d1f52df5",
   "metadata": {},
   "source": [
    "Now the type-checker would see something like:\n",
    "\n",
    "```\n",
    "int = (int + int)\n",
    "```\n",
    "\n",
    "This of course does type check and the program compiles.\n",
    "An integer added to an integer results in an integer which we then assign to an integer variable.\n",
    "The program on the value level yields a program that's also valid on the type level.\n",
    "The values used in the addition operation are members of the input type set given the type definition of the operation.\n",
    "\n",
    "The right-hand side in the arithmetic examples above is called an [expression](expressions) and we'll learn more about these in a separate chapter.\n",
    "\n",
    "Of course, it isn't enough that the arithmetic expression is correct on the type level.\n",
    "Our assignment expression also has to be correct on the type level.\n",
    "As we will see in the chapter on [expressions](expressions), using the assignment operator (`=`) too results in an expression.\n",
    "This means that assigning the result of an addition to a variable of type `string` also causes an error:"
   ]
  },
  {
   "cell_type": "code",
   "execution_count": 5,
   "id": "d4c8fae2",
   "metadata": {
    "tags": [
     "raises-exception"
    ]
   },
   "outputs": [
    {
     "name": "stderr",
     "output_type": "stream",
     "text": [
      "\n",
      "(1,15): error CS0029: Cannot implicitly convert type 'int' to 'string'\n",
      "\n"
     ]
    },
    {
     "ename": "Error",
     "evalue": "compilation error",
     "output_type": "error",
     "traceback": []
    }
   ],
   "source": [
    "string text = 10 + 3;"
   ]
  },
  {
   "cell_type": "markdown",
   "id": "a15ea1b2",
   "metadata": {},
   "source": [
    "On the type level we can see that this is the case because while we start with:\n",
    "\n",
    "```\n",
    "string = int + int\n",
    "```\n",
    "\n",
    "our expression on the right will evaluate to an `int` and our full expression is thus simplified to:\n",
    "\n",
    "```\n",
    "string = int\n",
    "```\n",
    "\n",
    "The fact that we're trying to assign a value of type `int` to a variable of type `string` is what causes the error.\n",
    "The error is, in a sense, not related to the fact that we used an arithmetic expression on the right-hand side.\n",
    "It is merely related to the fact that that expression yields an integer.\n",
    "\n",
    "```{warning}\n",
    "It should be noted that what is and what isn't legal on the type-level is determined by the [type system](type-systems) of the given language.\n",
    "There are no universal rules.\n",
    "There are many examples of languages that are type safe yet still, for example, adding an integer and a string is valid.\n",
    "It all depends on what operations and what type conversions for the types in the language that are defined.\n",
    "```\n",
    "\n",
    "\n",
    "%## TODO: Type safety\n",
    "\n",
    "% https://courses.cs.washington.edu/courses/cse341/04wi/lectures/26-unsafe-languages.html\n",
    "\n",
    "\n",
    "\n",
    "\n",
    "## Exercises\n",
    "\n",
    "```{exercise}\n",
    "What is a type error?\n",
    "```\n",
    "\n",
    "%```{exercise} CANNOT ASK THIS BECAUSE FORWARD-REFERENCE.\n",
    "%We've argued that [compile-time errors are preferable over run-time errors](prefer-compile-time-errors).\n",
    "%Does this apply to type errors?\n",
    "%Why?\n",
    "%```"
   ]
  }
 ],
 "metadata": {
  "jupytext": {
   "formats": "md:myst",
   "text_representation": {
    "extension": ".md",
    "format_name": "myst"
   }
  },
  "kernelspec": {
   "display_name": "csharp",
   "language": ".net-csharp",
   "name": ".net-csharp"
  },
  "language_info": {
   "file_extension": ".cs",
   "mimetype": "text/x-csharp",
   "name": "C#",
   "pygments_lexer": "csharp",
   "version": "10.0"
  },
  "source_map": [
   11,
   49,
   52,
   78,
   80,
   94,
   97,
   116,
   118,
   138,
   141
  ]
 },
 "nbformat": 4,
 "nbformat_minor": 5
}