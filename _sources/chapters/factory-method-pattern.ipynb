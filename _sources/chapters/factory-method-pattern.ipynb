{
 "cells": [
  {
   "cell_type": "markdown",
   "id": "f867469d",
   "metadata": {},
   "source": [
    "# Factory method pattern\n",
    "\n",
    "```{warning}\n",
    "Work in progress.\n",
    "```\n",
    "\n",
    "## Motivation\n",
    "\n",
    "The purpose of the factory method pattern is to allow objects to create new objects without being concerned about what subtypes to create nor how to actually create them.\n",
    "Said differently, it allows us to defer object construction.\n",
    "\n",
    "We've touted the idea of [abstract injected object composition](abstract-injected-object-composition) as the way to compose objects.\n",
    "However, we haven't addressed two obvious problems of injection.\n",
    "\n",
    "1. What if the object that we want isn't available at the time of construction of the object that wants to use it?\n",
    "2. What if we want to be able to inject an arbitrary number of objects?\n",
    "\n",
    "Think about the classic game of Tetris for example.\n",
    "It's not like we can *inject* a `Piece` to `Board`.\n",
    "A Tetris board is ever-changing.\n",
    "As soon as we have landed one piece, the next is generated.\n",
    "Where should this piece come from?\n",
    "Do we need to instantiate a whole new board every time we want to inject a new piece?\n",
    "Or should we inject via an instance method and let someone else be responsible for sending us a piece at the right time?\n",
    "But how would they know that the time to send a new piece is now?\n",
    "Perhaps we could use the [observer pattern](observer-pattern) or [events](events) for that?\n",
    "\n",
    "All these solutions are unnecessarily complicated.\n",
    "This is where the factory method pattern comes into play.\n",
    "Instead of injecting the thing we want to use, which in the case of Tetris is the piece, we inject a factory that can produce objects of the type that we need.\n",
    "In the terminology of the [Bridge pattern](bridge-pattern), we add another layer of abstraction.\n",
    "Whenever we need a new object, we simply ask the factory for another object.\n",
    "\n",
    "\n",
    "\n",
    "## Definition\n",
    "\n",
    "The definition of the factory method pattern from the classic design patterns book {cite:t}`gammaEtAl1995` is as follows:\n",
    "\n",
    "```{epigraph}\n",
    "Define an interface for creating an object, but let subclasses decide which class to instantiate. Factory Method lets a class defer instantiation to subclasses.\n",
    "\n",
    "-- {cite:t}`gammaEtAl1995`\n",
    "```\n",
    "\n",
    "% TODO: Replace image.\n",
    "```{figure} https://upload.wikimedia.org/wikipedia/commons/4/43/W3sDesign_Factory_Method_Design_Pattern_UML.jpg?20170805180321\n",
    "\n",
    "UML class diagram of factory method pattern.\n",
    "*[Image will be replaced soon]* [[Image source](https://commons.wikimedia.org/wiki/File:W3sDesign_Factory_Method_Design_Pattern_UML.jpg)]\n",
    "```\n",
    "\n",
    "\n",
    "## Examples\n",
    "\n",
    "### Cipher factories\n",
    "\n",
    "Remember the cipher sequences that we built in the chapter on [variant generic interfaces](variant-generic-interfaces:cipher-factories)?\n",
    "We mentioned that that essentially was an example of the factory method pattern so let's run through that example again.\n",
    "\n",
    "Let's first make sure that we've got our cipher interface and some ciphers."
   ]
  },
  {
   "cell_type": "code",
   "execution_count": 1,
   "id": "201e6ce6",
   "metadata": {
    "tags": [
     "hide-input"
    ]
   },
   "outputs": [
    {
     "data": {
      "text/html": [
       "\r\n",
       "<div>\r\n",
       "    <div id='dotnet-interactive-this-cell-2913.Microsoft.DotNet.Interactive.Http.HttpPort' style='display: none'>\r\n",
       "        The below script needs to be able to find the current output cell; this is an easy method to get it.\r\n",
       "    </div>\r\n",
       "    <script type='text/javascript'>\r\n",
       "async function probeAddresses(probingAddresses) {\r\n",
       "    function timeout(ms, promise) {\r\n",
       "        return new Promise(function (resolve, reject) {\r\n",
       "            setTimeout(function () {\r\n",
       "                reject(new Error('timeout'))\r\n",
       "            }, ms)\r\n",
       "            promise.then(resolve, reject)\r\n",
       "        })\r\n",
       "    }\r\n",
       "\r\n",
       "    if (Array.isArray(probingAddresses)) {\r\n",
       "        for (let i = 0; i < probingAddresses.length; i++) {\r\n",
       "\r\n",
       "            let rootUrl = probingAddresses[i];\r\n",
       "\r\n",
       "            if (!rootUrl.endsWith('/')) {\r\n",
       "                rootUrl = `${rootUrl}/`;\r\n",
       "            }\r\n",
       "\r\n",
       "            try {\r\n",
       "                let response = await timeout(1000, fetch(`${rootUrl}discovery`, {\r\n",
       "                    method: 'POST',\r\n",
       "                    cache: 'no-cache',\r\n",
       "                    mode: 'cors',\r\n",
       "                    timeout: 1000,\r\n",
       "                    headers: {\r\n",
       "                        'Content-Type': 'text/plain'\r\n",
       "                    },\r\n",
       "                    body: probingAddresses[i]\r\n",
       "                }));\r\n",
       "\r\n",
       "                if (response.status == 200) {\r\n",
       "                    return rootUrl;\r\n",
       "                }\r\n",
       "            }\r\n",
       "            catch (e) { }\r\n",
       "        }\r\n",
       "    }\r\n",
       "}\r\n",
       "\r\n",
       "function loadDotnetInteractiveApi() {\r\n",
       "    probeAddresses([\"http://10.1.0.56:1024/\", \"http://127.0.0.1:1024/\"])\r\n",
       "        .then((root) => {\r\n",
       "        // use probing to find host url and api resources\r\n",
       "        // load interactive helpers and language services\r\n",
       "        let dotnetInteractiveRequire = require.config({\r\n",
       "        context: '2913.Microsoft.DotNet.Interactive.Http.HttpPort',\r\n",
       "                paths:\r\n",
       "            {\r\n",
       "                'dotnet-interactive': `${root}resources`\r\n",
       "                }\r\n",
       "        }) || require;\r\n",
       "\r\n",
       "            window.dotnetInteractiveRequire = dotnetInteractiveRequire;\r\n",
       "\r\n",
       "            window.configureRequireFromExtension = function(extensionName, extensionCacheBuster) {\r\n",
       "                let paths = {};\r\n",
       "                paths[extensionName] = `${root}extensions/${extensionName}/resources/`;\r\n",
       "                \r\n",
       "                let internalRequire = require.config({\r\n",
       "                    context: extensionCacheBuster,\r\n",
       "                    paths: paths,\r\n",
       "                    urlArgs: `cacheBuster=${extensionCacheBuster}`\r\n",
       "                    }) || require;\r\n",
       "\r\n",
       "                return internalRequire\r\n",
       "            };\r\n",
       "        \r\n",
       "            dotnetInteractiveRequire([\r\n",
       "                    'dotnet-interactive/dotnet-interactive'\r\n",
       "                ],\r\n",
       "                function (dotnet) {\r\n",
       "                    dotnet.init(window);\r\n",
       "                },\r\n",
       "                function (error) {\r\n",
       "                    console.log(error);\r\n",
       "                }\r\n",
       "            );\r\n",
       "        })\r\n",
       "        .catch(error => {console.log(error);});\r\n",
       "    }\r\n",
       "\r\n",
       "// ensure `require` is available globally\r\n",
       "if ((typeof(require) !==  typeof(Function)) || (typeof(require.config) !== typeof(Function))) {\r\n",
       "    let require_script = document.createElement('script');\r\n",
       "    require_script.setAttribute('src', 'https://cdnjs.cloudflare.com/ajax/libs/require.js/2.3.6/require.min.js');\r\n",
       "    require_script.setAttribute('type', 'text/javascript');\r\n",
       "    \r\n",
       "    \r\n",
       "    require_script.onload = function() {\r\n",
       "        loadDotnetInteractiveApi();\r\n",
       "    };\r\n",
       "\r\n",
       "    document.getElementsByTagName('head')[0].appendChild(require_script);\r\n",
       "}\r\n",
       "else {\r\n",
       "    loadDotnetInteractiveApi();\r\n",
       "}\r\n",
       "\r\n",
       "    </script>\r\n",
       "</div>"
      ]
     },
     "metadata": {},
     "output_type": "display_data"
    }
   ],
   "source": [
    "interface ICipher<in TIn, out TOut>\n",
    "{\n",
    "  TOut Encode (TIn input);\n",
    "}\n",
    "\n",
    "class CaesarCipher : ICipher<char,char>\n",
    "{\n",
    "  public int Steps { get; private set; }\n",
    "\n",
    "  public CaesarCipher (int Steps)\n",
    "    => this.Steps = Steps;\n",
    "\n",
    "  public char Encode (char input)\n",
    "  {\n",
    "    string alphabet = \"ABCDEFGHIJKLMNOPQRSTUVXYZ\";\n",
    "    int i = alphabet.IndexOf(Char.ToUpper(input));\n",
    "    int newIndex = (i + Steps) % alphabet.Length;\n",
    "    if (i != -1)\n",
    "    {\n",
    "      if (newIndex < 0)\n",
    "        newIndex += alphabet.Length;\n",
    "\n",
    "      if (Char.IsLower(input))\n",
    "        return Char.ToLower(alphabet[newIndex]);\n",
    "      else\n",
    "        return alphabet[newIndex];\n",
    "    }\n",
    "    return input;\n",
    "  }\n",
    "}\n",
    "\n",
    "class RobbersCipher : ICipher<char,string>\n",
    "{\n",
    "  private char vowel;\n",
    "\n",
    "  public RobbersCipher (char vowel)\n",
    "    => this.vowel = vowel;\n",
    "\n",
    "  public string Encode (char input)\n",
    "  {\n",
    "    string consonants = \"BCDFGHJKLMNPQRSTVXYZ\";\n",
    "    if (consonants.IndexOf(Char.ToUpper(input)) != -1)\n",
    "      return $\"{input}{vowel}{input}\";\n",
    "    else\n",
    "      return $\"{input}\";\n",
    "  }\n",
    "}"
   ]
  },
  {
   "cell_type": "markdown",
   "id": "6336ec2c",
   "metadata": {},
   "source": [
    "Ok, so here's what the factory interface looked like in the chapter on [variant generic interfaces](variant-generic-interfaces:cipher-factories)."
   ]
  },
  {
   "cell_type": "code",
   "execution_count": 2,
   "id": "6df869d6",
   "metadata": {},
   "outputs": [],
   "source": [
    "interface IFactory<out T>\n",
    "{\n",
    "  T Next ();\n",
    "}"
   ]
  },
  {
   "cell_type": "markdown",
   "id": "8fb3cb0f",
   "metadata": {},
   "source": [
    "In that chapter we discussed how the type parameter `T` in the generic type `IFactory<out T>` can be covariant since this type is only ever used as a return type.\n",
    "This is not relevant to factory method pattern, but we'll keep it here since it allows us to use more specific return types in the implementations' factory methods.\n",
    "\n",
    "In that chapter we also discussed two potential implementations of the factory interface.\n",
    "A factory that generates Caesar ciphers with increasing number of steps and one that generates ciphers of decreasing number of steps."
   ]
  },
  {
   "cell_type": "code",
   "execution_count": 3,
   "id": "17aca5a8",
   "metadata": {},
   "outputs": [],
   "source": [
    "class IncrementingCaesarCipherFactory : IFactory<CaesarCipher>\n",
    "{\n",
    "  int i = 0;\n",
    "  public CaesarCipher Next () => new CaesarCipher(i++);\n",
    "}\n",
    "\n",
    "class DecrementingCaesarCipherFactory : IFactory<CaesarCipher>\n",
    "{\n",
    "  int i = 0;\n",
    "  public CaesarCipher Next () => new CaesarCipher(i--);\n",
    "}"
   ]
  },
  {
   "cell_type": "markdown",
   "id": "c3aa0ec0",
   "metadata": {},
   "source": [
    "You might of course already have figured out that by using [delegates](delegates) or the [strategy pattern](strategy-pattern) to write a more general Caesar cipher factory that makes the above two redundant.\n",
    "However, this is given as an exercise for you in {numref}`ex:factory-method-pattern:transforming-caesar-cipher-factory`, so let's leave that topic for now.\n",
    "\n",
    "There are of course plenty of other factories that we can produce.\n",
    "Here's a factory that produces Robber's ciphers based around various vowels."
   ]
  },
  {
   "cell_type": "code",
   "execution_count": 4,
   "id": "15711ce0",
   "metadata": {},
   "outputs": [],
   "source": [
    "class VowelCyclingRobbersCipherFactory : IFactory<RobbersCipher>\n",
    "{\n",
    "  int i = 0;\n",
    "  string vowels = \"aouei\";\n",
    "  public RobbersCipher Next () => new RobbersCipher(vowels[i++ % vowels.Length]);\n",
    "}"
   ]
  },
  {
   "cell_type": "markdown",
   "id": "007b1230",
   "metadata": {},
   "source": [
    "Here's a variation of the factory above that take the letters that it can vary between as input."
   ]
  },
  {
   "cell_type": "code",
   "execution_count": 5,
   "id": "a992e507",
   "metadata": {},
   "outputs": [],
   "source": [
    "class CyclingRobbersCipherFactory : IFactory<RobbersCipher>\n",
    "{\n",
    "  int i = 0;\n",
    "  string letters;\n",
    "\n",
    "  public CyclingRobbersCipherFactory (string letters)\n",
    "    => this.letters = letters;\n",
    "\n",
    "  public RobbersCipher Next ()\n",
    "    => new RobbersCipher(letters[i++ % letters.Length]);\n",
    "}"
   ]
  },
  {
   "cell_type": "markdown",
   "id": "fd920592",
   "metadata": {},
   "source": [
    "Let's try this latest factory out."
   ]
  },
  {
   "cell_type": "code",
   "execution_count": 6,
   "id": "ef2b9eb7",
   "metadata": {},
   "outputs": [
    {
     "name": "stdout",
     "output_type": "stream",
     "text": [
      "L@L\n"
     ]
    },
    {
     "name": "stdout",
     "output_type": "stream",
     "text": [
      "L€L\n"
     ]
    },
    {
     "name": "stdout",
     "output_type": "stream",
     "text": [
      "L!L\n"
     ]
    }
   ],
   "source": [
    "CyclingRobbersCipherFactory factory = new CyclingRobbersCipherFactory(\"@€!\");\n",
    "Console.WriteLine(factory.Next().Encode('L'));\n",
    "Console.WriteLine(factory.Next().Encode('L'));\n",
    "Console.WriteLine(factory.Next().Encode('L'));"
   ]
  },
  {
   "cell_type": "markdown",
   "id": "a39cf54b",
   "metadata": {},
   "source": [
    "## Video\n",
    "\n",
    "<iframe width=\"560\" height=\"315\" src=\"https://www.youtube.com/embed/EcFVTgRHJLM\" title=\"YouTube video player\" frameborder=\"0\" allow=\"accelerometer; autoplay; clipboard-write; encrypted-media; gyroscope; picture-in-picture\" allowfullscreen></iframe>\n",
    "\n",
    "% - Also abstract factory pattern (but this is trivial).\n",
    "% - Example: Where do we get ciphers from?\n",
    "% - Highlight the similarities with bridge pattern!\n",
    "% - Tie back to example in abstract constructed object composition.\n",
    "\n",
    "\n",
    "## Exercises\n",
    "\n",
    "```{exercise}\n",
    "What is the factory method pattern?\n",
    "```\n",
    "\n",
    "```{exercise}\n",
    "Which method would we call the \"factory method\" when we've got a case of the factory method pattern?\n",
    "```\n",
    "\n",
    "```{exercise}\n",
    "Come up with your own example of the factory method pattern and implement it in code.\n",
    "```\n",
    "\n",
    "```{exercise}\n",
    "How are the [maintainability characteristics](maintainability:characteristics) affected when using the factory method pattern?\n",
    "```\n",
    "\n",
    "```{exercise}\n",
    "Let's say that we've got a factory that always produces structurally equivalent objects and that this factory is an implementation of some interface.\n",
    "Let's then say that we in some other class want objects of the type that the factory creates.\n",
    "Consider the following two alternatives.\n",
    "\n",
    "1. Either we let the other class create the objects that it wants itself.\n",
    "2. Or we couple the other class to our interface and inject the factory (e.g. through the constructor) and let our factory create the objects.\n",
    "\n",
    "It could be argued that the second option is more [maintainable](maintainable), even if we only have a single concrete factory at the moment. Why is this?\n",
    "```\n",
    "\n",
    "```{exercise-start}\n",
    ":label: ex:factory-method-pattern:transforming-caesar-cipher-factory\n",
    "```\n",
    "Perhaps you have already realized that by using our newfound skills in either [delegates](delegates) or [strategy pattern](strategy-pattern) we can create a more general Caesar cipher factory which we can use to create the incrementing and decrementing factories.\n",
    "What's common between the incrementing and the decrementing Caesar cipher factories?\n",
    "The idea of applying a transformation to the steps variable upon each request to get the next cipher.\n",
    "\n",
    "Write a class called `TransformingCaesarCipherFactory` that implements the interface `IFactory<CaesarCipher>` and takes an argument in the constructor of type `Func<int,int>`.\n",
    "This argument can be thought of as the transformer that we should apply after each time we generate a new cipher."
   ]
  },
  {
   "cell_type": "code",
   "execution_count": 7,
   "id": "ed720454",
   "metadata": {
    "tags": [
     "remove-input"
    ]
   },
   "outputs": [],
   "source": [
    "class TransformingCaesarCipherFactory : IFactory<CaesarCipher>\n",
    "{\n",
    "  int i;\n",
    "  Func<int,int> transformation;\n",
    "  public TransformingCaesarCipherFactory (int start, Func<int,int> transformation)\n",
    "  {\n",
    "    this.i = start;\n",
    "    this.transformation = transformation;\n",
    "  }\n",
    "  public CaesarCipher Next ()\n",
    "  {\n",
    "    CaesarCipher current = new CaesarCipher(i);\n",
    "    i = transformation(i);\n",
    "    return current;\n",
    "  }\n",
    "}"
   ]
  },
  {
   "cell_type": "markdown",
   "id": "4ebf6f0a",
   "metadata": {},
   "source": [
    "When we've written the factory, we should be able to create both incrementing and decrementing Caesar cipher generating factories at run-time.\n",
    "Like in the example below:"
   ]
  },
  {
   "cell_type": "code",
   "execution_count": 8,
   "id": "7a2cc21d",
   "metadata": {},
   "outputs": [
    {
     "name": "stdout",
     "output_type": "stream",
     "text": [
      "A\n"
     ]
    },
    {
     "name": "stdout",
     "output_type": "stream",
     "text": [
      "B\n"
     ]
    },
    {
     "name": "stdout",
     "output_type": "stream",
     "text": [
      "C\n"
     ]
    }
   ],
   "source": [
    "int inc (int x) => x + 1;\n",
    "\n",
    "var incrementingCaesarCipherFactory\n",
    "  = new TransformingCaesarCipherFactory(0, inc);\n",
    "\n",
    "Console.WriteLine(incrementingCaesarCipherFactory.Next().Encode('A'));\n",
    "Console.WriteLine(incrementingCaesarCipherFactory.Next().Encode('A'));\n",
    "Console.WriteLine(incrementingCaesarCipherFactory.Next().Encode('A'));"
   ]
  },
  {
   "cell_type": "markdown",
   "id": "6d28fd48",
   "metadata": {},
   "source": [
    "```{exercise-end}\n",
    "```"
   ]
  }
 ],
 "metadata": {
  "jupytext": {
   "formats": "md:myst",
   "text_representation": {
    "extension": ".md",
    "format_name": "myst"
   }
  },
  "kernelspec": {
   "display_name": "csharp",
   "language": ".net-csharp",
   "name": ".net-csharp"
  },
  "language_info": {
   "file_extension": ".cs",
   "mimetype": "text/x-csharp",
   "name": "C#",
   "pygments_lexer": "csharp",
   "version": "10.0"
  },
  "source_map": [
   11,
   75,
   124,
   128,
   133,
   142,
   154,
   162,
   169,
   173,
   185,
   189,
   194,
   250,
   268,
   271,
   280
  ]
 },
 "nbformat": 4,
 "nbformat_minor": 5
}